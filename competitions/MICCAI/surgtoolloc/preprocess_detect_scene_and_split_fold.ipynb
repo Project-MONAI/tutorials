{
 "cells": [
  {
   "cell_type": "markdown",
   "id": "88476cba",
   "metadata": {},
   "source": [
    "## Setup imports"
   ]
  },
  {
   "cell_type": "code",
   "execution_count": 1,
   "id": "b8bfd4e0",
   "metadata": {},
   "outputs": [
    {
     "name": "stdout",
     "output_type": "stream",
     "text": [
      "\u001b[33mWARNING: Running pip as the 'root' user can result in broken permissions and conflicting behaviour with the system package manager. It is recommended to use a virtual environment instead: https://pip.pypa.io/warnings/venv\u001b[0m\u001b[33m\n",
      "\u001b[0m\u001b[33mWARNING: Running pip as the 'root' user can result in broken permissions and conflicting behaviour with the system package manager. It is recommended to use a virtual environment instead: https://pip.pypa.io/warnings/venv\u001b[0m\u001b[33m\n",
      "\u001b[0m"
     ]
    }
   ],
   "source": [
    "from tqdm import tqdm\n",
    "import pandas as pd\n",
    "import numpy as np\n",
    "import os\n",
    "from glob import glob\n",
    "%matplotlib inline\n",
    "\n",
    "!pip -q install imagehash\n",
    "!pip install -q iterative-stratification\n",
    "from iterstrat.ml_stratifiers import MultilabelStratifiedKFold\n",
    "from PIL import Image\n",
    "import imagehash\n",
    "import multiprocessing"
   ]
  },
  {
   "cell_type": "markdown",
   "id": "c78880b1",
   "metadata": {},
   "source": [
    "## Load data"
   ]
  },
  {
   "cell_type": "code",
   "execution_count": 2,
   "id": "a34fdeba",
   "metadata": {},
   "outputs": [
    {
     "data": {
      "text/plain": [
       "(24695, 16)"
      ]
     },
     "execution_count": 2,
     "metadata": {},
     "output_type": "execute_result"
    }
   ],
   "source": [
    "# replace the dir into your local dir\n",
    "\n",
    "df = pd.read_csv('/raid/surg/_release/training_data/labels.csv')[['clip_name', 'tools_present']]\n",
    "img_dir = '/raid/surg/image640_blur/'\n",
    "cpu_ct = 32\n",
    "\n",
    "\n",
    "def split_label(s):\n",
    "    return [x.strip(' ') for x in s[1:-1].split(',')]\n",
    "\n",
    "\n",
    "label_lst = df.tools_present.apply(split_label).values.tolist()\n",
    "label_lst = [x for xs in label_lst for x in xs]\n",
    "\n",
    "labels = pd.Series(label_lst).value_counts().index.values[1:]\n",
    "for lb in labels:\n",
    "    df[lb] = df.tools_present.str.count(lb)\n",
    "\n",
    "labels = df.columns.values[2:]\n",
    "df.shape"
   ]
  },
  {
   "cell_type": "code",
   "execution_count": 3,
   "id": "40043550",
   "metadata": {},
   "outputs": [
    {
     "data": {
      "text/plain": [
       "(765000, 18)"
      ]
     },
     "execution_count": 3,
     "metadata": {},
     "output_type": "execute_result"
    }
   ],
   "source": [
    "df_img = pd.DataFrame([os.path.basename(x) for x in sorted(glob(os.path.join(img_dir, '*.jpg')))], columns=['img_path'])\n",
    "df_img['clip_name'] = df_img.img_path.apply(lambda x: x[:11])\n",
    "\n",
    "df = df.merge(df_img, on='clip_name', how='left')\n",
    "df = df[pd.notna(df.img_path)]\n",
    "\n",
    "df['frame'] = df.img_path.apply(lambda x: int(x[:-4].split('_')[-1]))\n",
    "df = df.sort_values(['clip_name', 'frame']).reset_index(drop=True)\n",
    "\n",
    "df.shape"
   ]
  },
  {
   "cell_type": "markdown",
   "id": "400c8df5",
   "metadata": {},
   "source": [
    "## Scene detection"
   ]
  },
  {
   "cell_type": "markdown",
   "id": "d4859b71",
   "metadata": {},
   "source": [
    "In this dataset, a number of (sometimes up dozens of) consecutive videos are from the same operation, or scene. Therefore, it is important to identify them and put videos from the same scene into the same fold when making fold splits, in order to prevent leakage in local validation.\n",
    "\n",
    "The way we detect scenes is to compare the image hashes of the last frame of a video against the first frame of the next video. If the similarity is above a threshold, they belong to the same scene. Otherwise, the next video is the start of the next scene"
   ]
  },
  {
   "cell_type": "code",
   "execution_count": 4,
   "id": "898f678a",
   "metadata": {},
   "outputs": [
    {
     "data": {
      "text/plain": [
       "(49370, 19)"
      ]
     },
     "execution_count": 4,
     "metadata": {},
     "output_type": "execute_result"
    }
   ],
   "source": [
    "df['last'] = df.frame.diff(-1)\n",
    "dfl = df[(df.frame == 0) | (df['last'] > 0)].iloc[:-1]\n",
    "dfl = dfl.reset_index(drop=True)\n",
    "dfl.shape"
   ]
  },
  {
   "cell_type": "code",
   "execution_count": 5,
   "id": "d36d581a",
   "metadata": {},
   "outputs": [],
   "source": [
    "funcs = [\n",
    "    imagehash.average_hash,\n",
    "    imagehash.phash,\n",
    "    imagehash.dhash,\n",
    "    imagehash.whash,\n",
    "]\n",
    "\n",
    "\n",
    "def get_hash(img_path):\n",
    "    image = Image.open(f\"{img_dir}/{img_path}\")\n",
    "    return np.array([f(image).hash for f in funcs]).reshape(256)"
   ]
  },
  {
   "cell_type": "code",
   "execution_count": 6,
   "id": "48ac948c",
   "metadata": {},
   "outputs": [
    {
     "name": "stderr",
     "output_type": "stream",
     "text": [
      "100%|██████████| 49370/49370 [01:28<00:00, 559.23it/s]\n"
     ]
    }
   ],
   "source": [
    "with multiprocessing.Pool(cpu_ct) as pool:\n",
    "    imap = pool.imap(get_hash, dfl.img_path.values)\n",
    "    hashes = list(tqdm(imap, total=len(dfl)))"
   ]
  },
  {
   "cell_type": "code",
   "execution_count": 7,
   "id": "9e075dda",
   "metadata": {},
   "outputs": [
    {
     "data": {
      "text/plain": [
       "(49369, 256)"
      ]
     },
     "execution_count": 7,
     "metadata": {},
     "output_type": "execute_result"
    }
   ],
   "source": [
    "hashes = np.stack(hashes)[:-1, :]\n",
    "hashes.shape"
   ]
  },
  {
   "cell_type": "code",
   "execution_count": 8,
   "id": "3c262bbe",
   "metadata": {},
   "outputs": [
    {
     "data": {
      "text/plain": [
       "(24684,)"
      ]
     },
     "execution_count": 8,
     "metadata": {},
     "output_type": "execute_result"
    }
   ],
   "source": [
    "hash_diffs = (hashes[1::2, :] == hashes[2::2, :]).sum(1)\n",
    "hash_diffs.shape"
   ]
  },
  {
   "cell_type": "code",
   "execution_count": 9,
   "id": "bc653e36",
   "metadata": {},
   "outputs": [],
   "source": [
    "dfl['hash_sim'] = 0\n",
    "dfl.loc[1:len(dfl) - 2:2, 'hash_sim'] = hash_diffs"
   ]
  },
  {
   "cell_type": "markdown",
   "id": "1b5a1d3a",
   "metadata": {},
   "source": [
    "Through visual inspections, **170** is a good cutoff hash similary difference.\n",
    "\n",
    "When the hash similarity is larger than or equal to 170, the two consecutive videos belong to the same scene.\n",
    "\n",
    "When the hash similarity is smaller than 170, the second video starts a new scene."
   ]
  },
  {
   "cell_type": "code",
   "execution_count": 10,
   "id": "1a04b109",
   "metadata": {},
   "outputs": [
    {
     "data": {
      "text/plain": [
       "(1068, 4)"
      ]
     },
     "execution_count": 10,
     "metadata": {},
     "output_type": "execute_result"
    }
   ],
   "source": [
    "tmp = dfl[(dfl.frame != 0) & (dfl.hash_sim < 170)][['clip_name', 'img_path', 'hash_sim']].copy()\n",
    "tmp['EOS'] = True\n",
    "tmp.shape"
   ]
  },
  {
   "cell_type": "code",
   "execution_count": 11,
   "id": "31c837e8",
   "metadata": {},
   "outputs": [
    {
     "data": {
      "text/plain": [
       "(24685, 19)"
      ]
     },
     "execution_count": 11,
     "metadata": {},
     "output_type": "execute_result"
    }
   ],
   "source": [
    "df_scene = dfl[dfl.frame == 0].drop(columns=['frame', 'last', 'img_path', 'hash_sim']).merge(\n",
    "    tmp[['clip_name', 'EOS']], on='clip_name', how='left')\n",
    "df_scene['EOS'] = df_scene['EOS'].fillna(0).astype(int)\n",
    "df_scene['SOS'] = df_scene['EOS'].shift(1).fillna(1).astype(int)\n",
    "df_scene['scene'] = df_scene['SOS'].cumsum() - 1\n",
    "df_scene.shape"
   ]
  },
  {
   "cell_type": "markdown",
   "id": "1fb46c1e",
   "metadata": {},
   "source": [
    "The number of scenes that each tool appears in:"
   ]
  },
  {
   "cell_type": "code",
   "execution_count": 12,
   "id": "3dda6cba",
   "metadata": {},
   "outputs": [
    {
     "name": "stdout",
     "output_type": "stream",
     "text": [
      "needle driver                   572\n",
      "cadiere forceps                 665\n",
      "bipolar forceps                 597\n",
      "monopolar curved scissors       560\n",
      "grasping retractor              223\n",
      "prograsp forceps                240\n",
      "force bipolar                   64\n",
      "vessel sealer                   93\n",
      "permanent cautery hook/spatula  56\n",
      "clip applier                    168\n",
      "tip-up fenestrated grasper      14\n",
      "stapler                         21\n",
      "bipolar dissector               1\n",
      "suction irrigator               4\n"
     ]
    }
   ],
   "source": [
    "for lb in labels:\n",
    "    print(f\"{lb:30}  {df_scene[df_scene[lb]>0].scene.nunique()}\")"
   ]
  },
  {
   "cell_type": "markdown",
   "id": "e9be17bf",
   "metadata": {},
   "source": [
    "## Splitting folds based on scene number using iterative stratification"
   ]
  },
  {
   "cell_type": "code",
   "execution_count": 19,
   "id": "b0bf7bec",
   "metadata": {},
   "outputs": [
    {
     "data": {
      "text/plain": [
       "(24695, 17)"
      ]
     },
     "execution_count": 19,
     "metadata": {},
     "output_type": "execute_result"
    }
   ],
   "source": [
    "df = pd.read_csv('../train.csv')\n",
    "labels = df.columns.values[2:]\n",
    "\n",
    "df = df.merge(df_scene[['clip_name', 'scene']], how='left', on='clip_name')\n",
    "df['scene'] = df['scene'].fillna(df_scene.scene.nunique()).astype(int)\n",
    "df.shape"
   ]
  },
  {
   "cell_type": "markdown",
   "id": "cd171060",
   "metadata": {},
   "source": [
    "There are 1069 unique scenes"
   ]
  },
  {
   "cell_type": "code",
   "execution_count": 20,
   "id": "dfcec05f",
   "metadata": {},
   "outputs": [
    {
     "data": {
      "text/plain": [
       "1069"
      ]
     },
     "execution_count": 20,
     "metadata": {},
     "output_type": "execute_result"
    }
   ],
   "source": [
    "df.scene.nunique()"
   ]
  },
  {
   "cell_type": "code",
   "execution_count": 21,
   "id": "a60cc805",
   "metadata": {},
   "outputs": [],
   "source": [
    "tmp = df.groupby('scene')[labels].max().clip(0, 1).reset_index()\n",
    "\n",
    "X = tmp[labels].values\n",
    "y = tmp[labels].values\n",
    "tmp['fold'] = -1\n",
    "\n",
    "mskf = MultilabelStratifiedKFold(n_splits=5, shuffle=True, random_state=1)\n",
    "\n",
    "for i, (_, test_index) in enumerate(mskf.split(X, y)):\n",
    "    tmp.loc[test_index, 'fold'] = i"
   ]
  },
  {
   "cell_type": "markdown",
   "id": "678b6d59",
   "metadata": {},
   "source": [
    "Numbers of scenes in each fold are evenly distributed for all the tools except `bipolar dissector` (all the videos containing `bipolar dissector` are in the same scene):"
   ]
  },
  {
   "cell_type": "code",
   "execution_count": 22,
   "id": "bee22438",
   "metadata": {},
   "outputs": [
    {
     "data": {
      "text/html": [
       "<div>\n",
       "<style scoped>\n",
       "    .dataframe tbody tr th:only-of-type {\n",
       "        vertical-align: middle;\n",
       "    }\n",
       "\n",
       "    .dataframe tbody tr th {\n",
       "        vertical-align: top;\n",
       "    }\n",
       "\n",
       "    .dataframe thead th {\n",
       "        text-align: right;\n",
       "    }\n",
       "</style>\n",
       "<table border=\"1\" class=\"dataframe\">\n",
       "  <thead>\n",
       "    <tr style=\"text-align: right;\">\n",
       "      <th></th>\n",
       "      <th>needle driver</th>\n",
       "      <th>cadiere forceps</th>\n",
       "      <th>bipolar forceps</th>\n",
       "      <th>monopolar curved scissors</th>\n",
       "      <th>grasping retractor</th>\n",
       "      <th>prograsp forceps</th>\n",
       "      <th>force bipolar</th>\n",
       "      <th>vessel sealer</th>\n",
       "      <th>permanent cautery hook/spatula</th>\n",
       "      <th>clip applier</th>\n",
       "      <th>tip-up fenestrated grasper</th>\n",
       "      <th>stapler</th>\n",
       "      <th>bipolar dissector</th>\n",
       "      <th>suction irrigator</th>\n",
       "    </tr>\n",
       "    <tr>\n",
       "      <th>fold</th>\n",
       "      <th></th>\n",
       "      <th></th>\n",
       "      <th></th>\n",
       "      <th></th>\n",
       "      <th></th>\n",
       "      <th></th>\n",
       "      <th></th>\n",
       "      <th></th>\n",
       "      <th></th>\n",
       "      <th></th>\n",
       "      <th></th>\n",
       "      <th></th>\n",
       "      <th></th>\n",
       "      <th></th>\n",
       "    </tr>\n",
       "  </thead>\n",
       "  <tbody>\n",
       "    <tr>\n",
       "      <th>0</th>\n",
       "      <td>115</td>\n",
       "      <td>133</td>\n",
       "      <td>120</td>\n",
       "      <td>116</td>\n",
       "      <td>45</td>\n",
       "      <td>48</td>\n",
       "      <td>13</td>\n",
       "      <td>19</td>\n",
       "      <td>11</td>\n",
       "      <td>34</td>\n",
       "      <td>3</td>\n",
       "      <td>4</td>\n",
       "      <td>0</td>\n",
       "      <td>1</td>\n",
       "    </tr>\n",
       "    <tr>\n",
       "      <th>1</th>\n",
       "      <td>114</td>\n",
       "      <td>123</td>\n",
       "      <td>120</td>\n",
       "      <td>110</td>\n",
       "      <td>45</td>\n",
       "      <td>48</td>\n",
       "      <td>13</td>\n",
       "      <td>19</td>\n",
       "      <td>11</td>\n",
       "      <td>34</td>\n",
       "      <td>3</td>\n",
       "      <td>5</td>\n",
       "      <td>0</td>\n",
       "      <td>1</td>\n",
       "    </tr>\n",
       "    <tr>\n",
       "      <th>2</th>\n",
       "      <td>115</td>\n",
       "      <td>134</td>\n",
       "      <td>120</td>\n",
       "      <td>111</td>\n",
       "      <td>44</td>\n",
       "      <td>48</td>\n",
       "      <td>13</td>\n",
       "      <td>19</td>\n",
       "      <td>11</td>\n",
       "      <td>33</td>\n",
       "      <td>3</td>\n",
       "      <td>4</td>\n",
       "      <td>0</td>\n",
       "      <td>1</td>\n",
       "    </tr>\n",
       "    <tr>\n",
       "      <th>3</th>\n",
       "      <td>115</td>\n",
       "      <td>133</td>\n",
       "      <td>119</td>\n",
       "      <td>111</td>\n",
       "      <td>45</td>\n",
       "      <td>48</td>\n",
       "      <td>12</td>\n",
       "      <td>19</td>\n",
       "      <td>11</td>\n",
       "      <td>33</td>\n",
       "      <td>3</td>\n",
       "      <td>4</td>\n",
       "      <td>1</td>\n",
       "      <td>0</td>\n",
       "    </tr>\n",
       "    <tr>\n",
       "      <th>4</th>\n",
       "      <td>114</td>\n",
       "      <td>143</td>\n",
       "      <td>119</td>\n",
       "      <td>113</td>\n",
       "      <td>45</td>\n",
       "      <td>48</td>\n",
       "      <td>13</td>\n",
       "      <td>18</td>\n",
       "      <td>12</td>\n",
       "      <td>34</td>\n",
       "      <td>2</td>\n",
       "      <td>5</td>\n",
       "      <td>0</td>\n",
       "      <td>1</td>\n",
       "    </tr>\n",
       "  </tbody>\n",
       "</table>\n",
       "</div>"
      ],
      "text/plain": [
       "      needle driver  cadiere forceps  bipolar forceps  \\\n",
       "fold                                                    \n",
       "0               115              133              120   \n",
       "1               114              123              120   \n",
       "2               115              134              120   \n",
       "3               115              133              119   \n",
       "4               114              143              119   \n",
       "\n",
       "      monopolar curved scissors  grasping retractor  prograsp forceps  \\\n",
       "fold                                                                    \n",
       "0                           116                  45                48   \n",
       "1                           110                  45                48   \n",
       "2                           111                  44                48   \n",
       "3                           111                  45                48   \n",
       "4                           113                  45                48   \n",
       "\n",
       "      force bipolar  vessel sealer  permanent cautery hook/spatula  \\\n",
       "fold                                                                 \n",
       "0                13             19                              11   \n",
       "1                13             19                              11   \n",
       "2                13             19                              11   \n",
       "3                12             19                              11   \n",
       "4                13             18                              12   \n",
       "\n",
       "      clip applier  tip-up fenestrated grasper  stapler  bipolar dissector  \\\n",
       "fold                                                                         \n",
       "0               34                           3        4                  0   \n",
       "1               34                           3        5                  0   \n",
       "2               33                           3        4                  0   \n",
       "3               33                           3        4                  1   \n",
       "4               34                           2        5                  0   \n",
       "\n",
       "      suction irrigator  \n",
       "fold                     \n",
       "0                     1  \n",
       "1                     1  \n",
       "2                     1  \n",
       "3                     0  \n",
       "4                     1  "
      ]
     },
     "execution_count": 22,
     "metadata": {},
     "output_type": "execute_result"
    }
   ],
   "source": [
    "tmp.groupby('fold')[labels].sum()"
   ]
  },
  {
   "cell_type": "markdown",
   "id": "e70c1142",
   "metadata": {},
   "source": [
    "Numbers of videos in each fold are also nearly evenly distributed except for `bipolar dissector` (random_state can be adjusted in the `MultilabelStratifiedKFold` call above for a different distribution):"
   ]
  },
  {
   "cell_type": "code",
   "execution_count": 23,
   "id": "eabf67a7",
   "metadata": {},
   "outputs": [
    {
     "data": {
      "text/html": [
       "<div>\n",
       "<style scoped>\n",
       "    .dataframe tbody tr th:only-of-type {\n",
       "        vertical-align: middle;\n",
       "    }\n",
       "\n",
       "    .dataframe tbody tr th {\n",
       "        vertical-align: top;\n",
       "    }\n",
       "\n",
       "    .dataframe thead th {\n",
       "        text-align: right;\n",
       "    }\n",
       "</style>\n",
       "<table border=\"1\" class=\"dataframe\">\n",
       "  <thead>\n",
       "    <tr style=\"text-align: right;\">\n",
       "      <th></th>\n",
       "      <th>needle driver</th>\n",
       "      <th>cadiere forceps</th>\n",
       "      <th>bipolar forceps</th>\n",
       "      <th>monopolar curved scissors</th>\n",
       "      <th>grasping retractor</th>\n",
       "      <th>prograsp forceps</th>\n",
       "      <th>force bipolar</th>\n",
       "      <th>vessel sealer</th>\n",
       "      <th>permanent cautery hook/spatula</th>\n",
       "      <th>clip applier</th>\n",
       "      <th>tip-up fenestrated grasper</th>\n",
       "      <th>stapler</th>\n",
       "      <th>bipolar dissector</th>\n",
       "      <th>suction irrigator</th>\n",
       "    </tr>\n",
       "    <tr>\n",
       "      <th>fold</th>\n",
       "      <th></th>\n",
       "      <th></th>\n",
       "      <th></th>\n",
       "      <th></th>\n",
       "      <th></th>\n",
       "      <th></th>\n",
       "      <th></th>\n",
       "      <th></th>\n",
       "      <th></th>\n",
       "      <th></th>\n",
       "      <th></th>\n",
       "      <th></th>\n",
       "      <th></th>\n",
       "      <th></th>\n",
       "    </tr>\n",
       "  </thead>\n",
       "  <tbody>\n",
       "    <tr>\n",
       "      <th>0</th>\n",
       "      <td>3725</td>\n",
       "      <td>3529</td>\n",
       "      <td>2863</td>\n",
       "      <td>2579</td>\n",
       "      <td>922</td>\n",
       "      <td>628</td>\n",
       "      <td>412</td>\n",
       "      <td>167</td>\n",
       "      <td>200</td>\n",
       "      <td>142</td>\n",
       "      <td>19</td>\n",
       "      <td>23</td>\n",
       "      <td>0</td>\n",
       "      <td>4</td>\n",
       "    </tr>\n",
       "    <tr>\n",
       "      <th>1</th>\n",
       "      <td>3712</td>\n",
       "      <td>3284</td>\n",
       "      <td>2543</td>\n",
       "      <td>2193</td>\n",
       "      <td>797</td>\n",
       "      <td>515</td>\n",
       "      <td>311</td>\n",
       "      <td>169</td>\n",
       "      <td>186</td>\n",
       "      <td>93</td>\n",
       "      <td>45</td>\n",
       "      <td>39</td>\n",
       "      <td>0</td>\n",
       "      <td>6</td>\n",
       "    </tr>\n",
       "    <tr>\n",
       "      <th>2</th>\n",
       "      <td>3989</td>\n",
       "      <td>3461</td>\n",
       "      <td>2679</td>\n",
       "      <td>2352</td>\n",
       "      <td>925</td>\n",
       "      <td>605</td>\n",
       "      <td>229</td>\n",
       "      <td>239</td>\n",
       "      <td>132</td>\n",
       "      <td>112</td>\n",
       "      <td>50</td>\n",
       "      <td>15</td>\n",
       "      <td>0</td>\n",
       "      <td>2</td>\n",
       "    </tr>\n",
       "    <tr>\n",
       "      <th>3</th>\n",
       "      <td>4114</td>\n",
       "      <td>3228</td>\n",
       "      <td>2434</td>\n",
       "      <td>2141</td>\n",
       "      <td>962</td>\n",
       "      <td>528</td>\n",
       "      <td>319</td>\n",
       "      <td>290</td>\n",
       "      <td>109</td>\n",
       "      <td>104</td>\n",
       "      <td>29</td>\n",
       "      <td>29</td>\n",
       "      <td>17</td>\n",
       "      <td>0</td>\n",
       "    </tr>\n",
       "    <tr>\n",
       "      <th>4</th>\n",
       "      <td>3999</td>\n",
       "      <td>3938</td>\n",
       "      <td>2705</td>\n",
       "      <td>2659</td>\n",
       "      <td>807</td>\n",
       "      <td>749</td>\n",
       "      <td>435</td>\n",
       "      <td>161</td>\n",
       "      <td>239</td>\n",
       "      <td>125</td>\n",
       "      <td>38</td>\n",
       "      <td>25</td>\n",
       "      <td>0</td>\n",
       "      <td>5</td>\n",
       "    </tr>\n",
       "  </tbody>\n",
       "</table>\n",
       "</div>"
      ],
      "text/plain": [
       "      needle driver  cadiere forceps  bipolar forceps  \\\n",
       "fold                                                    \n",
       "0              3725             3529             2863   \n",
       "1              3712             3284             2543   \n",
       "2              3989             3461             2679   \n",
       "3              4114             3228             2434   \n",
       "4              3999             3938             2705   \n",
       "\n",
       "      monopolar curved scissors  grasping retractor  prograsp forceps  \\\n",
       "fold                                                                    \n",
       "0                          2579                 922               628   \n",
       "1                          2193                 797               515   \n",
       "2                          2352                 925               605   \n",
       "3                          2141                 962               528   \n",
       "4                          2659                 807               749   \n",
       "\n",
       "      force bipolar  vessel sealer  permanent cautery hook/spatula  \\\n",
       "fold                                                                 \n",
       "0               412            167                             200   \n",
       "1               311            169                             186   \n",
       "2               229            239                             132   \n",
       "3               319            290                             109   \n",
       "4               435            161                             239   \n",
       "\n",
       "      clip applier  tip-up fenestrated grasper  stapler  bipolar dissector  \\\n",
       "fold                                                                         \n",
       "0              142                          19       23                  0   \n",
       "1               93                          45       39                  0   \n",
       "2              112                          50       15                  0   \n",
       "3              104                          29       29                 17   \n",
       "4              125                          38       25                  0   \n",
       "\n",
       "      suction irrigator  \n",
       "fold                     \n",
       "0                     4  \n",
       "1                     6  \n",
       "2                     2  \n",
       "3                     0  \n",
       "4                     5  "
      ]
     },
     "execution_count": 23,
     "metadata": {},
     "output_type": "execute_result"
    }
   ],
   "source": [
    "df = df.merge(tmp[['scene', 'fold']], on='scene', how='left')\n",
    "df.groupby('fold')[labels].sum()"
   ]
  },
  {
   "cell_type": "code",
   "execution_count": 24,
   "id": "7c0fe3f2",
   "metadata": {},
   "outputs": [],
   "source": [
    "# df.to_csv('../train_fold_balanced.csv', index=False)"
   ]
  }
 ],
 "metadata": {
  "kernelspec": {
   "display_name": "Python 3 (ipykernel)",
   "language": "python",
   "name": "python3"
  },
  "language_info": {
   "codemirror_mode": {
    "name": "ipython",
    "version": 3
   },
   "file_extension": ".py",
   "mimetype": "text/x-python",
   "name": "python",
   "nbconvert_exporter": "python",
   "pygments_lexer": "ipython3",
   "version": "3.8.13"
  }
 },
 "nbformat": 4,
 "nbformat_minor": 5
}
