{
 "cells": [
  {
   "cell_type": "markdown",
   "metadata": {},
   "source": [
    "Copyright (c) MONAI Consortium  \n",
    "Licensed under the Apache License, Version 2.0 (the \"License\");  \n",
    "you may not use this file except in compliance with the License.  \n",
    "You may obtain a copy of the License at  \n",
    "&nbsp;&nbsp;&nbsp;&nbsp;http://www.apache.org/licenses/LICENSE-2.0  \n",
    "Unless required by applicable law or agreed to in writing, software  \n",
    "distributed under the License is distributed on an \"AS IS\" BASIS,  \n",
    "WITHOUT WARRANTIES OR CONDITIONS OF ANY KIND, either express or implied.  \n",
    "See the License for the specific language governing permissions and  \n",
    "limitations under the License."
   ]
  },
  {
   "cell_type": "markdown",
   "metadata": {},
   "source": [
    "# From 3D Segmentation to Omniverse: A Complete Workflow for Mesh Conversion, USD Export, and NVIDIA Omniverse Integration\n",
    "In this tutorial, we’ll cover:\n",
    "\n",
    "- Utilizing 3D Segmentation Results: How to extract and prepare segmentation data from VISTA-3D or MAISI for mesh conversion.\n",
    "- Converting to Mesh Format: Step-by-step instructions on transforming segmentation results into mesh models.\n",
    "- Exporting to USD: A guide to exporting meshes as Universal Scene Description (USD) files, optimized for Omniverse workflows.\n",
    "- Visualizing in NVIDIA Omniverse: Instructions on importing USD files into Omniverse for high-quality 3D visualization and manipulation.\n",
    "This end-to-end process enables efficient, high-quality visualization in NVIDIA Omniverse from raw segmentation data."
   ]
  },
  {
   "cell_type": "markdown",
   "metadata": {},
   "source": [
    "## Setup environment"
   ]
  },
  {
   "cell_type": "code",
   "execution_count": null,
   "metadata": {},
   "outputs": [],
   "source": [
    "!python -c \"import monai\" || pip install -q \"monai-weekly[nibabel]\"\n",
    "!python -c \"import vtk\" || pip install -q vtk\n",
    "!python -c \"import pxr\" || pip install -q usd-core\n",
    "!python -c \"import trimesh\" || pip install -q trimesh\n",
    "!apt update\n",
    "!apt install -y libgl1-mesa-glx"
   ]
  },
  {
   "cell_type": "markdown",
   "metadata": {},
   "source": [
    "## Setup imports"
   ]
  },
  {
   "cell_type": "code",
   "execution_count": 2,
   "metadata": {},
   "outputs": [
    {
     "name": "stdout",
     "output_type": "stream",
     "text": [
      "MONAI version: 1.4.0+19.gb1e915c3\n",
      "Numpy version: 1.24.4\n",
      "Pytorch version: 2.5.0a0+e000cf0ad9.nv24.10\n",
      "MONAI flags: HAS_EXT = True, USE_COMPILED = False, USE_META_DICT = False\n",
      "MONAI rev id: b1e915c323a8065cfe9e92de3013476f2f67c1b2\n",
      "MONAI __file__: /opt/monai/monai/__init__.py\n",
      "\n",
      "Optional dependencies:\n",
      "Pytorch Ignite version: 0.4.11\n",
      "ITK version: 5.4.0\n",
      "Nibabel version: 5.3.2\n",
      "scikit-image version: 0.24.0\n",
      "scipy version: 1.14.0\n",
      "Pillow version: 10.4.0\n",
      "Tensorboard version: 2.16.2\n",
      "gdown version: 5.2.0\n",
      "TorchVision version: 0.20.0a0\n",
      "tqdm version: 4.66.5\n",
      "lmdb version: 1.5.1\n",
      "psutil version: 6.0.0\n",
      "pandas version: 2.2.2\n",
      "einops version: 0.8.0\n",
      "transformers version: 4.40.2\n",
      "mlflow version: 2.18.0\n",
      "pynrrd version: 1.1.1\n",
      "clearml version: 1.16.5\n",
      "\n",
      "For details about installing the optional dependencies, please visit:\n",
      "    https://docs.monai.io/en/latest/installation.html#installing-the-recommended-dependencies\n",
      "\n"
     ]
    }
   ],
   "source": [
    "import os\n",
    "import tempfile\n",
    "import numpy as np\n",
    "\n",
    "import vtk\n",
    "import vtkmodules\n",
    "from vtkmodules.vtkRenderingCore import vtkRenderWindow, vtkRenderer\n",
    "from ipyvtklink.viewer import ViewInteractiveWidget\n",
    "\n",
    "from utility import convert_to_mesh, convert_mesh_to_usd\n",
    "\n",
    "from monai.config import print_config\n",
    "from monai.bundle.scripts import create_workflow, download\n",
    "from monai.transforms import LoadImaged, SaveImage, Compose, BorderPadd, SqueezeDimd\n",
    "\n",
    "print_config()"
   ]
  },
  {
   "cell_type": "markdown",
   "metadata": {},
   "source": [
    "## Setup data directory\n",
    "\n",
    "You can specify a directory with the `MONAI_DATA_DIRECTORY` environment variable.  \n",
    "This allows you to save results and reuse downloads.  \n",
    "If not specified a temporary directory will be used."
   ]
  },
  {
   "cell_type": "code",
   "execution_count": 3,
   "metadata": {},
   "outputs": [
    {
     "name": "stdout",
     "output_type": "stream",
     "text": [
      "/workspace/Data\n"
     ]
    }
   ],
   "source": [
    "directory = os.environ.get(\"MONAI_DATA_DIRECTORY\")\n",
    "if directory is not None:\n",
    "    os.makedirs(directory, exist_ok=True)\n",
    "root_dir = tempfile.mkdtemp() if directory is None else directory\n",
    "print(root_dir)"
   ]
  },
  {
   "cell_type": "markdown",
   "metadata": {},
   "source": [
    "## Generate segmentation from MAISI\n",
    "\n",
    "In this section, we download the MAISI bundle and run the inference workflow to generate large CT images with paired segmentation masks. This involves downloading the necessary model and running inference."
   ]
  },
  {
   "cell_type": "code",
   "execution_count": 3,
   "metadata": {},
   "outputs": [
    {
     "name": "stdout",
     "output_type": "stream",
     "text": [
      "2024-12-05 06:15:11,403 - INFO - --- input summary of monai.bundle.scripts.download ---\n",
      "2024-12-05 06:15:11,403 - INFO - > name: 'maisi_ct_generative'\n",
      "2024-12-05 06:15:11,404 - INFO - > bundle_dir: '/workspace/Data'\n",
      "2024-12-05 06:15:11,404 - INFO - > source: 'monaihosting'\n",
      "2024-12-05 06:15:11,404 - INFO - > remove_prefix: 'monai_'\n",
      "2024-12-05 06:15:11,405 - INFO - > progress: True\n",
      "2024-12-05 06:15:11,405 - INFO - ---\n",
      "\n",
      "\n"
     ]
    },
    {
     "name": "stderr",
     "output_type": "stream",
     "text": [
      "maisi_ct_generative_v0.4.5.zip: 13.0GB [09:25, 24.6MB/s]                                \n"
     ]
    },
    {
     "name": "stdout",
     "output_type": "stream",
     "text": [
      "2024-12-05 06:25:02,608 - INFO - Downloaded: /workspace/Data/maisi_ct_generative_v0.4.5.zip\n",
      "2024-12-05 06:25:02,615 - INFO - Expected md5 is None, skip md5 check for file /workspace/Data/maisi_ct_generative_v0.4.5.zip.\n",
      "2024-12-05 06:25:02,616 - INFO - Writing into directory: /workspace/Data.\n"
     ]
    }
   ],
   "source": [
    "download(name=\"maisi_ct_generative\", bundle_dir=root_dir)"
   ]
  },
  {
   "cell_type": "markdown",
   "metadata": {},
   "source": [
    "We use the `create_workflow` API from MONAI to streamline the inference process directly from the bundle.\n",
    "\n",
    "Key input details for inference, such as the body region and target anatomy, are specified in [./configs/inference.json]. For a comprehensive explanation of the parameters, refer to [./docs/README.md] in the bundle directory. Additionally, we adjust the `output_size`, `spacing` and `num_splits` parameters to prevent out-of-memory issues during inference."
   ]
  },
  {
   "cell_type": "code",
   "execution_count": 4,
   "metadata": {},
   "outputs": [
    {
     "name": "stdout",
     "output_type": "stream",
     "text": [
      "2024-12-05 08:14:54,771 - INFO - Setting logging properties based on config: /workspace/Data/maisi_ct_generative/configs/logging.conf.\n",
      "2024-12-05 08:14:54,772 - py.warnings - WARNING - Detected deprecated name 'optional_packages_version' in configuration file, replacing with 'required_packages_version'.\n",
      "\n",
      "2024-12-05 08:14:54,783 - INFO - --- input summary of monai.bundle.scripts.run ---\n",
      "2024-12-05 08:14:54,784 - INFO - > workflow_type: 'inference'\n",
      "2024-12-05 08:14:54,784 - INFO - > bundle_root: '/workspace/Data/maisi_ct_generative'\n",
      "2024-12-05 08:14:54,784 - INFO - > output_size_xy: 256\n",
      "2024-12-05 08:14:54,784 - INFO - > output_size_z: 256\n",
      "2024-12-05 08:14:54,785 - INFO - > spacing_xy: 1.5\n",
      "2024-12-05 08:14:54,785 - INFO - > spacing_z: 1.5\n",
      "2024-12-05 08:14:54,785 - INFO - > autoencoder_def#num_splits: 16\n",
      "2024-12-05 08:14:54,785 - INFO - > mask_generation_autoencoder_def#num_splits: 16\n",
      "2024-12-05 08:14:54,786 - INFO - ---\n",
      "\n",
      "\n"
     ]
    }
   ],
   "source": [
    "bundle_root = os.path.join(root_dir, \"maisi_ct_generative\")\n",
    "override = {\n",
    "    \"output_size_xy\": 256,\n",
    "    \"output_size_z\": 256,\n",
    "    \"spacing_xy\": 1.5,\n",
    "    \"spacing_z\": 1.5,\n",
    "    \"autoencoder_def#num_splits\": 16,\n",
    "    \"mask_generation_autoencoder_def#num_splits\": 16\n",
    "}\n",
    "workflow = create_workflow(\n",
    "    config_file=os.path.join(bundle_root, \"configs/inference.json\"),\n",
    "    workflow_type=\"inference\",\n",
    "    bundle_root=bundle_root,\n",
    "    **override\n",
    ")\n",
    "\n",
    "# uncomment this line to run the inference workflow\n",
    "# workflow.run()"
   ]
  },
  {
   "cell_type": "markdown",
   "metadata": {},
   "source": [
    "## Convert NIfTI/DICOM to Mesh and Save as OBJ/GLTF\n",
    "\n",
    "In this section, we convert the generated NII segmentation files into mesh format and save them as OBJ files. This process involves mapping labels to organs, exporting each organ as an individual mesh file, and generating a combined mesh file for all organs.\n",
    "\n",
    "We define a function `nii_to_mesh` to handle the conversion of NIfTI files to OBJ files. The workflow is as follows:\n",
    "\n",
    "- Preprocessing:\n",
    "The function uses a series of transformations (Compose, LoadImaged, BorderPadd, and SqueezeDimd) to load and preprocess the input NIfTI file, ensuring it is ready for segmentation.\n",
    "- Organ Label Mapping:\n",
    "It iterates over a dictionary mapping organ names to their respective label values. For each organ:\n",
    "A binary mask (single_organ) is created to isolate the organ by assigning its corresponding label value.\n",
    "The segmented organ is saved as a NIfTI file.\n",
    "- Mesh Conversion:\n",
    "Each segmented NIfTI file is converted into an OBJ file using the `convert_to_mesh` function.\n",
    "- Combined Mesh:\n",
    "A combined segmentation file is created by merging all organ segmentations into a single NIfTI file. This file is then converted into a GLTF file, preserving the hierarchical structure of the organs.\n"
   ]
  },
  {
   "cell_type": "code",
   "execution_count": 2,
   "metadata": {},
   "outputs": [
    {
     "name": "stdout",
     "output_type": "stream",
     "text": [
      "Assigning index 1 to label Liver\n",
      "2024-12-03 09:13:00,689 INFO image_writer.py:197 - writing: /workspace/Data/maisi_ct_generative/datasets/monai/nii/Liver.nii.gz\n",
      "Mesh successfully exported to /workspace/Data/maisi_ct_generative/datasets/monai/obj/Liver.obj\n",
      "Assigning index 2 to label Spleen\n",
      "2024-12-03 09:13:07,086 INFO image_writer.py:197 - writing: /workspace/Data/maisi_ct_generative/datasets/monai/nii/Spleen.nii.gz\n",
      "Mesh successfully exported to /workspace/Data/maisi_ct_generative/datasets/monai/obj/Spleen.obj\n",
      "Assigning index 3 to label Pancreas\n",
      "2024-12-03 09:13:10,982 INFO image_writer.py:197 - writing: /workspace/Data/maisi_ct_generative/datasets/monai/nii/Pancreas.nii.gz\n",
      "Mesh successfully exported to /workspace/Data/maisi_ct_generative/datasets/monai/obj/Pancreas.obj\n",
      "Assigning index 4 to label Heart\n",
      "2024-12-03 09:13:14,755 INFO image_writer.py:197 - writing: /workspace/Data/maisi_ct_generative/datasets/monai/nii/Heart.nii.gz\n",
      "Mesh successfully exported to /workspace/Data/maisi_ct_generative/datasets/monai/obj/Heart.obj\n",
      "Assigning index 5 to label Body\n",
      "2024-12-03 09:13:18,516 INFO image_writer.py:197 - writing: /workspace/Data/maisi_ct_generative/datasets/monai/nii/Body.nii.gz\n",
      "Mesh successfully exported to /workspace/Data/maisi_ct_generative/datasets/monai/obj/Body.obj\n",
      "Assigning index 6 to label Gallbladder\n",
      "2024-12-03 09:14:50,151 INFO image_writer.py:197 - writing: /workspace/Data/maisi_ct_generative/datasets/monai/nii/Gallbladder.nii.gz\n",
      "Mesh successfully exported to /workspace/Data/maisi_ct_generative/datasets/monai/obj/Gallbladder.obj\n",
      "Assigning index 7 to label Stomach\n",
      "2024-12-03 09:14:53,691 INFO image_writer.py:197 - writing: /workspace/Data/maisi_ct_generative/datasets/monai/nii/Stomach.nii.gz\n",
      "Mesh successfully exported to /workspace/Data/maisi_ct_generative/datasets/monai/obj/Stomach.obj\n",
      "Assigning index 8 to label Small_bowel\n",
      "2024-12-03 09:14:57,531 INFO image_writer.py:197 - writing: /workspace/Data/maisi_ct_generative/datasets/monai/nii/Small_bowel.nii.gz\n",
      "Mesh successfully exported to /workspace/Data/maisi_ct_generative/datasets/monai/obj/Small_bowel.obj\n",
      "Assigning index 9 to label Colon\n",
      "2024-12-03 09:15:05,387 INFO image_writer.py:197 - writing: /workspace/Data/maisi_ct_generative/datasets/monai/nii/Colon.nii.gz\n",
      "Mesh successfully exported to /workspace/Data/maisi_ct_generative/datasets/monai/obj/Colon.obj\n",
      "Assigning index 10 to label Kidney\n",
      "2024-12-03 09:15:11,283 INFO image_writer.py:197 - writing: /workspace/Data/maisi_ct_generative/datasets/monai/nii/Kidney.nii.gz\n",
      "Mesh successfully exported to /workspace/Data/maisi_ct_generative/datasets/monai/obj/Kidney.obj\n",
      "Assigning index 11 to label Veins\n",
      "2024-12-03 09:15:16,689 INFO image_writer.py:197 - writing: /workspace/Data/maisi_ct_generative/datasets/monai/nii/Veins.nii.gz\n",
      "Mesh successfully exported to /workspace/Data/maisi_ct_generative/datasets/monai/obj/Veins.obj\n",
      "Assigning index 12 to label Lungs\n",
      "2024-12-03 09:15:22,560 INFO image_writer.py:197 - writing: /workspace/Data/maisi_ct_generative/datasets/monai/nii/Lungs.nii.gz\n",
      "Mesh successfully exported to /workspace/Data/maisi_ct_generative/datasets/monai/obj/Lungs.obj\n",
      "Assigning index 13 to label Spine\n",
      "2024-12-03 09:15:30,198 INFO image_writer.py:197 - writing: /workspace/Data/maisi_ct_generative/datasets/monai/nii/Spine.nii.gz\n",
      "Mesh successfully exported to /workspace/Data/maisi_ct_generative/datasets/monai/obj/Spine.obj\n",
      "Assigning index 14 to label Ribs\n",
      "2024-12-03 09:15:40,221 INFO image_writer.py:197 - writing: /workspace/Data/maisi_ct_generative/datasets/monai/nii/Ribs.nii.gz\n",
      "Mesh successfully exported to /workspace/Data/maisi_ct_generative/datasets/monai/obj/Ribs.obj\n",
      "Assigning index 15 to label Shoulders\n",
      "2024-12-03 09:15:46,055 INFO image_writer.py:197 - writing: /workspace/Data/maisi_ct_generative/datasets/monai/nii/Shoulders.nii.gz\n",
      "No points found for label 15. Skipping...\n",
      "Mesh successfully exported to /workspace/Data/maisi_ct_generative/datasets/monai/obj/Shoulders.obj\n",
      "Assigning index 16 to label Hips\n",
      "2024-12-03 09:15:49,647 INFO image_writer.py:197 - writing: /workspace/Data/maisi_ct_generative/datasets/monai/nii/Hips.nii.gz\n",
      "Mesh successfully exported to /workspace/Data/maisi_ct_generative/datasets/monai/obj/Hips.obj\n",
      "Assigning index 17 to label Back_muscles\n",
      "2024-12-03 09:15:57,623 INFO image_writer.py:197 - writing: /workspace/Data/maisi_ct_generative/datasets/monai/nii/Back_muscles.nii.gz\n",
      "Mesh successfully exported to /workspace/Data/maisi_ct_generative/datasets/monai/obj/Back_muscles.obj\n",
      "2024-12-03 09:16:11,489 INFO image_writer.py:197 - writing: /workspace/Data/maisi_ct_generative/datasets/monai/nii/all_organs.nii.gz\n",
      "No points found for label 15. Skipping...\n",
      "Mesh successfully exported to /workspace/Data/maisi_ct_generative/datasets/monai/obj/all_organs.gltf\n",
      "Saved whole segmentation /workspace/Data/maisi_ct_generative/datasets/monai/nii/all_organs\n"
     ]
    }
   ],
   "source": [
    "# 17 groupings that cover 101 segments/regions out of 140\n",
    "labels = {\n",
    "    \"Liver\": 1,\n",
    "    \"Spleen\": 3,\n",
    "    \"Pancreas\": 4,\n",
    "    \"Heart\": 115,\n",
    "    \"Body\": 200,\n",
    "    \"Gallbladder\": 10,\n",
    "    \"Stomach\": 12,\n",
    "    \"Small_bowel\": 19,\n",
    "    \"Colon\": 62,\n",
    "    \"Kidney\": {\"right_kidney\": 5, \"left_kidney\": 14},\n",
    "    \"Veins\": {\n",
    "        \"aorta\": 6,\n",
    "        \"inferior_vena_cava\": 7,\n",
    "        \"portal_vein_and_splenic_vein\": 17,\n",
    "        \"left_iliac_artery\": 58,\n",
    "        \"right_iliac_artery\": 59,\n",
    "        \"left_iliac_vena\": 60,\n",
    "        \"right_iliac_vena\": 61,\n",
    "        \"pulmonary_vein\": 119,\n",
    "        \"left_subclavian_artery\": 123,\n",
    "        \"right_subclavian_artery\": 124,\n",
    "        \"superior_vena_cava\": 125,\n",
    "        \"brachiocephalic_trunk\": 109,\n",
    "        \"left_brachiocephalic_vein\": 110,\n",
    "        \"right_brachiocephalic_vein\": 111,\n",
    "        \"left_common_carotid_artery\": 112,\n",
    "        \"right_common_carotid_artery\": 113,\n",
    "    },\n",
    "    \"Lungs\": {\n",
    "        \"left_lung_upper_lobe\": 28,\n",
    "        \"left_lung_lower_lobe\": 29,\n",
    "        \"right_lung_upper_lobe\": 30,\n",
    "        \"right_lung_middle_lobe\": 31,\n",
    "        \"right_lung_lower_lobe\": 32,\n",
    "    },\n",
    "    \"Spine\": {\n",
    "        # \"vertebrae_L6\": 131,\n",
    "        \"vertebrae_L5\": 33,\n",
    "        \"vertebrae_L4\": 34,\n",
    "        \"vertebrae_L3\": 35,\n",
    "        \"vertebrae_L2\": 36,\n",
    "        \"vertebrae_L1\": 37,\n",
    "        \"vertebrae_T12\": 38,\n",
    "        \"vertebrae_T11\": 39,\n",
    "        \"vertebrae_T10\": 40,\n",
    "        \"vertebrae_T9\": 41,\n",
    "        \"vertebrae_T8\": 42,\n",
    "        \"vertebrae_T7\": 43,\n",
    "        \"vertebrae_T6\": 44,\n",
    "        \"vertebrae_T5\": 45,\n",
    "        \"vertebrae_T4\": 46,\n",
    "        \"vertebrae_T3\": 47,\n",
    "        \"vertebrae_T2\": 48,\n",
    "        \"vertebrae_T1\": 49,\n",
    "        \"vertebrae_C7\": 50,\n",
    "        \"vertebrae_C6\": 51,\n",
    "        \"vertebrae_C5\": 52,\n",
    "        \"vertebrae_C4\": 53,\n",
    "        \"vertebrae_C3\": 54,\n",
    "        \"vertebrae_C2\": 55,\n",
    "        \"vertebrae_C1\": 56,\n",
    "        \"sacrum\": 97,\n",
    "        \"vertebrae_S1\": 127,\n",
    "    },\n",
    "    \"Ribs\": {\n",
    "        \"left_rib_1\": 63,\n",
    "        \"left_rib_2\": 64,\n",
    "        \"left_rib_3\": 65,\n",
    "        \"left_rib_4\": 66,\n",
    "        \"left_rib_5\": 67,\n",
    "        \"left_rib_6\": 68,\n",
    "        \"left_rib_7\": 69,\n",
    "        \"left_rib_8\": 70,\n",
    "        \"left_rib_9\": 71,\n",
    "        \"left_rib_10\": 72,\n",
    "        \"left_rib_11\": 73,\n",
    "        \"left_rib_12\": 74,\n",
    "        \"right_rib_1\": 75,\n",
    "        \"right_rib_2\": 76,\n",
    "        \"right_rib_3\": 77,\n",
    "        \"right_rib_4\": 78,\n",
    "        \"right_rib_5\": 79,\n",
    "        \"right_rib_6\": 80,\n",
    "        \"right_rib_7\": 81,\n",
    "        \"right_rib_8\": 82,\n",
    "        \"right_rib_9\": 83,\n",
    "        \"right_rib_10\": 84,\n",
    "        \"right_rib_11\": 85,\n",
    "        \"right_rib_12\": 86,\n",
    "        \"costal_cartilages\": 114,\n",
    "        \"sternum\": 122,\n",
    "    },\n",
    "    \"Shoulders\": {\"left_scapula\": 89, \"right_scapula\": 90, \"left_clavicula\": 91, \"right_clavicula\": 92},\n",
    "    \"Hips\": {\"left_hip\": 95, \"right_hip\": 96},\n",
    "    \"Back_muscles\": {\n",
    "        \"left_gluteus_maximus\": 98,\n",
    "        \"right_gluteus_maximus\": 99,\n",
    "        \"left_gluteus_medius\": 100,\n",
    "        \"right_gluteus_medius\": 101,\n",
    "        \"left_gluteus_minimus\": 102,\n",
    "        \"right_gluteus_minimus\": 103,\n",
    "        \"left_autochthon\": 104,\n",
    "        \"right_autochthon\": 105,\n",
    "        \"left_iliopsoas\": 106,\n",
    "        \"right_iliopsoas\": 107,\n",
    "    },\n",
    "}\n",
    "\n",
    "def nii_to_mesh(input_nii_path, output_nii_path, output_obj_path):\n",
    "    \"\"\"\n",
    "    This function converts each organ into a separate OBJ file and generates a GLTF file\n",
    "    containing all organs with hierarchical structure.\n",
    "    It processes the input NIfTI file and groups 140 labels into 17 categories.\n",
    "    \n",
    "    Args:\n",
    "        input_nii_path: path to the nii file\n",
    "        output_nii_path: path to save the obj files\n",
    "        output_obj_path: path to save the gltf file\n",
    "    \"\"\"\n",
    "    if not os.path.exists(output_nii_path):\n",
    "        os.makedirs(output_nii_path)\n",
    "    pre_trans = Compose(\n",
    "        [\n",
    "            LoadImaged(keys=\"label\", ensure_channel_first=True),\n",
    "            BorderPadd(keys=\"label\", spatial_border=2),\n",
    "            SqueezeDimd(keys=\"label\", dim=0),\n",
    "        ]\n",
    "    )\n",
    "    orig_seg = pre_trans({\"label\": input_nii_path})[\"label\"]\n",
    "    all_organ = np.zeros_like(orig_seg, dtype=np.uint8)\n",
    "\n",
    "    save_trans = SaveImage(output_ext=\"nii.gz\", output_dtype=np.uint8)\n",
    "    for j, (organ_name, label_val) in enumerate(labels.items(), start=1):\n",
    "        single_organ = np.zeros_like(orig_seg, dtype=np.uint8)\n",
    "        print(f\"Assigning index {j} to label {organ_name}\")\n",
    "        if isinstance(label_val, dict):\n",
    "            for _, i in label_val.items():\n",
    "                all_organ[orig_seg == i] = j\n",
    "                single_organ[orig_seg == i] = j\n",
    "        else:\n",
    "            all_organ[orig_seg == label_val] = j\n",
    "            single_organ[orig_seg == label_val] = j\n",
    "        organ_filename = os.path.join(output_nii_path, organ_name)\n",
    "        save_trans(single_organ[None], meta_data=orig_seg.meta, filename=organ_filename)\n",
    "        convert_to_mesh(\n",
    "            f\"{organ_filename}.nii.gz\",\n",
    "            output_obj_path,\n",
    "            f\"{organ_name}.obj\",\n",
    "            label_value=j,\n",
    "            smoothing_factor=0.5,\n",
    "            reduction_ratio=0.0,\n",
    "        )\n",
    "\n",
    "    all_organ_filename = os.path.join(output_nii_path, \"all_organs\")\n",
    "    save_trans(all_organ[None], meta_data=orig_seg.meta, filename=all_organ_filename)\n",
    "    convert_to_mesh(\n",
    "        f\"{all_organ_filename}.nii.gz\",\n",
    "        output_obj_path,\n",
    "        \"all_organs.gltf\",\n",
    "        label_value=list(range(1, 18)),\n",
    "        smoothing_factor=0.6,\n",
    "        reduction_ratio=0.0,\n",
    "    )\n",
    "    print(f\"Saved whole segmentation {all_organ_filename}\")\n",
    "\n",
    "input_nii_path = f\"{bundle_root}/datasets/IntegrationTest-AbdomenCT.nii.gz\"\n",
    "output_nii_path = f\"{bundle_root}/datasets/monai/nii\"\n",
    "output_obj_path = f\"{bundle_root}/datasets/monai/obj\"\n",
    "out = nii_to_mesh(input_nii_path, output_nii_path, output_obj_path)"
   ]
  },
  {
   "cell_type": "markdown",
   "metadata": {},
   "source": [
    "## Visualize one single organ mesh\n",
    "\n",
    "# add description for this cell\n",
    "Here we randomly select one organ to visualize the "
   ]
  },
  {
   "cell_type": "code",
   "execution_count": null,
   "metadata": {},
   "outputs": [],
   "source": [
    "# Step 1: Read the mesh\n",
    "reader = vtk.vtkOBJReader()\n",
    "reader.SetFileName(f\"{bundle_root}/datasets/monai/obj/Spleen.obj\")\n",
    "reader.Update()\n",
    "\n",
    "# Step 2: Create a mapper\n",
    "mapper = vtkmodules.vtkRenderingCore.vtkPolyDataMapper()\n",
    "mapper.SetInputData(reader.GetOutput())\n",
    "print(f\"Number of Points: {mapper.GetInput().GetNumberOfPoints()}\")\n",
    "print(f\"Number of Cells: {mapper.GetInput().GetNumberOfCells()}\")\n",
    "\n",
    "actor = vtkmodules.vtkRenderingCore.vtkActor()\n",
    "actor.SetMapper(mapper)\n",
    "\n",
    "renderer = vtk.vtkRenderer()\n",
    "renderer.AddActor(actor)\n",
    "renderWindow = vtk.vtkRenderWindow()\n",
    "renderWindow.AddRenderer(renderer)\n",
    "renderWindow.SetSize(800, 600)\n",
    "renderWindow.SetOffScreenRendering(1)\n",
    "\n",
    "# 渲染器交互功能绑定\n",
    "renderWindowInteractor = vtk.vtkRenderWindowInteractor()\n",
    "renderWindowInteractor.SetRenderWindow(renderWindow)\n",
    "interactorStyle = vtk.vtkInteractorStyleTrackballCamera()\n",
    "renderWindowInteractor.SetInteractorStyle(interactorStyle)\n",
    "renderWindow.Render()\n",
    "# 添加交互窗口到 Jupyter Notebook\n",
    "interactive_widget = ViewInteractiveWidget(renderWindow)\n",
    "# interactive_widget\n"
   ]
  },
  {
   "cell_type": "markdown",
   "metadata": {},
   "source": [
    "![Spleen](Spleen.png)"
   ]
  },
  {
   "cell_type": "markdown",
   "metadata": {},
   "source": [
    "## Visualization of All Organs\n",
    "\n",
    "You can view the 3D models using online viewer such as https://3dviewer.net/#"
   ]
  },
  {
   "cell_type": "markdown",
   "metadata": {},
   "source": [
    "![all organs](result.png)"
   ]
  },
  {
   "cell_type": "markdown",
   "metadata": {},
   "source": [
    "## Convert OBJ to USD"
   ]
  },
  {
   "cell_type": "code",
   "execution_count": 4,
   "metadata": {},
   "outputs": [
    {
     "name": "stdout",
     "output_type": "stream",
     "text": [
      "USD file successfully exported to /workspace/Data/maisi_ct_generative/datasets/monai/obj/all_organs.usd\n"
     ]
    }
   ],
   "source": [
    "obj_filename = \"/workspace/Data/maisi_ct_generative/datasets/monai/obj/all_organs.gltf\"\n",
    "usd_filename = \"/workspace/Data/maisi_ct_generative/datasets/monai/obj/all_organs.usd\"\n",
    "\n",
    "convert_mesh_to_usd(obj_filename, usd_filename)"
   ]
  }
 ],
 "metadata": {
  "kernelspec": {
   "display_name": "Python 3",
   "language": "python",
   "name": "python3"
  },
  "language_info": {
   "codemirror_mode": {
    "name": "ipython",
    "version": 3
   },
   "file_extension": ".py",
   "mimetype": "text/x-python",
   "name": "python",
   "nbconvert_exporter": "python",
   "pygments_lexer": "ipython3",
   "version": "3.10.12"
  }
 },
 "nbformat": 4,
 "nbformat_minor": 2
}
