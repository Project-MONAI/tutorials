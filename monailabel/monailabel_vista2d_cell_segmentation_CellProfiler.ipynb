{
 "cells": [
  {
   "cell_type": "markdown",
   "metadata": {},
   "source": [
    "Copyright (c) MONAI Consortium  \n",
    "Licensed under the Apache License, Version 2.0 (the \"License\");  \n",
    "you may not use this file except in compliance with the License.  \n",
    "You may obtain a copy of the License at  \n",
    "&nbsp;&nbsp;&nbsp;&nbsp;http://www.apache.org/licenses/LICENSE-2.0  \n",
    "Unless required by applicable law or agreed to in writing, software  \n",
    "distributed under the License is distributed on an \"AS IS\" BASIS,  \n",
    "WITHOUT WARRANTIES OR CONDITIONS OF ANY KIND, either express or implied.  \n",
    "See the License for the specific language governing permissions and  \n",
    "limitations under the License. \n",
    "\n",
    "# MONAI Label VISTA2D App - CellProfiler Cell Segmentation Example\n",
    "\n",
    "***The cell bioimage profile with MONAI Label***\n",
    "\n",
    "In this notebook, we show the example of MONAI Label VISTA2D usecase. The cell profile is demonstrated in this notebook. This tutorial uses CellProfiler as the client viewer, and we demonstrate the end-to-end workflow with MONAI Label + CellProfiler integration.\n",
    "\n",
    "![qupath1](./figures/monailabel_vista_cellprofiler/cellprofiler_plugin.png)\n",
    "\n",
    "## 1. Prepare MONAI Label"
   ]
  },
  {
   "cell_type": "markdown",
   "metadata": {},
   "source": [
    "## Setup environment\n",
    "\n",
    "### Prerequisites\n",
    "- **Install MONAI Label** weekly preview release: "
   ]
  },
  {
   "cell_type": "code",
   "execution_count": null,
   "metadata": {},
   "outputs": [],
   "source": [
    "!pip install monailabel"
   ]
  },
  {
   "cell_type": "markdown",
   "metadata": {},
   "source": [
    "### 1.1 Download vista2d app\n",
    "Choose \"vista2d\" as the app"
   ]
  },
  {
   "cell_type": "code",
   "execution_count": null,
   "metadata": {},
   "outputs": [],
   "source": [
    "!monailabel apps --download --name vista2d --output apps"
   ]
  },
  {
   "cell_type": "markdown",
   "metadata": {},
   "source": [
    "### 1.2 Download sample data\n",
    "Download the [cellpose dataset](https://www.cellpose.org/dataset) and save to the **datasets** folder for further use."
   ]
  },
  {
   "attachments": {},
   "cell_type": "markdown",
   "metadata": {},
   "source": [
    "### 1.3 Starting MONAI Label Server\n",
    "\n",
    "The command will start MONAI Label server with vista2d.\n",
    "\n",
    "```bash\n",
    "monailabel start_server --app apps/vista2d --studies datasets --conf models vista2d --conf preload true --conf skip_trainers true\n",
    "```\n",
    "In the command, ```--app``` specifies the pathology app path, ```--studies``` specifies the dataset folder path.\n",
    "\n",
    "**Note:** If you are running a MONAI Label server in this notebook and plan to close the notebook, ensure that you terminate the kernel first. Failing to do so might result in an issue where the port remains occupied from the previous session when you try to restart the server later. To prevent this, always terminate the kernel before closing the notebook."
   ]
  },
  {
   "cell_type": "markdown",
   "metadata": {},
   "source": [
    "## 2. Install CellProfiler and MONAI Label Plugin\n",
    "\n",
    "\n",
    "[CellProfiler](https://cellprofiler.org/) is a free open-source software designed to enable biologists without training in computer vision or programming to quantitatively measure phenotypes from thousands of images automatically.\n",
    "\n",
    "Note: Nvidia does not maintain the thrid-party visualization tools. Please refer to installation part in the [CellProfiler WiKi](https://github.com/CellProfiler/CellProfiler/wiki) for details or trouble shooting. \n",
    "\n",
    "After installed the CellProfiler, please download the [plugin python file](https://github.com/binliunls/MONAILabel/blob/add-vsita2d-to-cellprofiler/plugins/cellprofiler/runvista2d.py) and add the path to the file to `File-->preferences-->CellProfiler plugin directory`.\n",
    "\n"
   ]
  },
  {
   "cell_type": "markdown",
   "metadata": {},
   "source": [
    "## 3. Cell Profile with CellProfiler\n",
    "\n",
    "Below is a step-by-step tutorial for cell profilre using CellProfiler. Pre-trained model is provided and loaded by MONAI Label server.\n",
    "\n",
    "\n",
    "### 3.1 Start CellProfiler and Load an Example Piplelin\n",
    "\n",
    "- On the menu bar, navigate and click MONAI Label. Click *Next Sample/Patch* to load data specified in the start_server command. If the QuPath starts from beginning, the button will automatically load next whole slide image.\n",
    "\n",
    "<p align = \"center\"><img src=\"./figures/monailabel_pathology_qupath/qupath2.png\" alt=\"drawing\" width=\"800\"/></p>\n",
    "\n"
   ]
  },
  {
   "cell_type": "markdown",
   "metadata": {},
   "source": [
    "## 6. Conclusion\n",
    "\n",
    "This tutorial demonstrates the basic usage of MONAI Label with the pathology app, the nuclei segmentation task is introduced. We introduced several inference strategies including ROI, Nuclick ROI, and single click. Submit label and training options are demonstrated to fine-tune the model or train from scratch. \n",
    "\n",
    "In the pathology usecase, we highlight the interactive learning process when labeling a whole slide image or a dataset. MONAI Label achieves annotation actively and gradually improves the model and segmentation performance during labeling. \n"
   ]
  }
 ],
 "metadata": {
  "kernelspec": {
   "display_name": "Python 3 (ipykernel)",
   "language": "python",
   "name": "python3"
  },
  "language_info": {
   "codemirror_mode": {
    "name": "ipython",
    "version": 3
   },
   "file_extension": ".py",
   "mimetype": "text/x-python",
   "name": "python",
   "nbconvert_exporter": "python",
   "pygments_lexer": "ipython3",
   "version": "3.9.12"
  },
  "vscode": {
   "interpreter": {
    "hash": "916dbcbb3f70747c44a77c7bcd40155683ae19c65e1c03b4aa3499c5328201f1"
   }
  }
 },
 "nbformat": 4,
 "nbformat_minor": 4
}
