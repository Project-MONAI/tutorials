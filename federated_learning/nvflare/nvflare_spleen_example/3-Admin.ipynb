{
 "cells": [
  {
   "cell_type": "markdown",
   "metadata": {
    "pycharm": {
     "metadata": false
    }
   },
   "source": [
    "# Admin Startup\n",
    "\n",
    "The purpose of this notebook is to show how to start an admin to operate an FL experiment with a server and at least one client started."
   ]
  },
  {
   "cell_type": "markdown",
   "metadata": {
    "pycharm": {
     "metadata": false
    }
   },
   "source": [
    "## Prerequisites\n",
    "- A server and at least one client has been started."
   ]
  },
  {
   "cell_type": "code",
   "execution_count": 1,
   "metadata": {},
   "outputs": [],
   "source": [
    "import os\n",
    "from IPython.display import HTML"
   ]
  },
  {
   "cell_type": "markdown",
   "metadata": {},
   "source": [
    "### Check Working Folder\n",
    "\n",
    "Before starting, let's check if the necessary folders are created. "
   ]
  },
  {
   "cell_type": "code",
   "execution_count": 2,
   "metadata": {},
   "outputs": [
    {
     "name": "stdout",
     "output_type": "stream",
     "text": [
      "a working folder for the admin exists!!!\n"
     ]
    }
   ],
   "source": [
    "admin_path = \"poc/admin/startup/\"\n",
    "\n",
    "if os.path.exists(admin_path):\n",
    "    print(\"a working folder for the admin exists!!!\")"
   ]
  },
  {
   "cell_type": "markdown",
   "metadata": {},
   "source": [
    "We also need to put necessary files (`hello-monai` for example) into admin's `transfer` folder (create first):"
   ]
  },
  {
   "cell_type": "code",
   "execution_count": 3,
   "metadata": {},
   "outputs": [],
   "source": [
    "!mkdir -p poc/admin/transfer\n",
    "!cp -r hello-monai/ poc/admin/transfer/"
   ]
  },
  {
   "cell_type": "code",
   "execution_count": 4,
   "metadata": {},
   "outputs": [
    {
     "data": {
      "text/plain": [
       "['hello-monai']"
      ]
     },
     "execution_count": 4,
     "metadata": {},
     "output_type": "execute_result"
    }
   ],
   "source": [
    "os.listdir(\"poc/admin/transfer/\")"
   ]
  },
  {
   "cell_type": "code",
   "execution_count": 5,
   "metadata": {},
   "outputs": [
    {
     "data": {
      "text/plain": [
       "['fl_admin.sh', 'fed_admin.json']"
      ]
     },
     "execution_count": 5,
     "metadata": {},
     "output_type": "execute_result"
    }
   ],
   "source": [
    "os.listdir(admin_path)"
   ]
  },
  {
   "cell_type": "markdown",
   "metadata": {},
   "source": [
    "As we can see, `hello-monai` is in `poc/admin/transfer`, and a script named `fl_admin.sh` is in `poc/admin/startup`, to start an admin, we only need to run this script."
   ]
  },
  {
   "cell_type": "markdown",
   "metadata": {},
   "source": [
    "### Start Admin"
   ]
  },
  {
   "cell_type": "markdown",
   "metadata": {},
   "source": [
    "Please open a new terminal (please run the following cell and click the link):"
   ]
  },
  {
   "cell_type": "code",
   "execution_count": 6,
   "metadata": {},
   "outputs": [
    {
     "data": {
      "text/html": [
       "<a href=\"\", data-commandlinker-command=\"terminal:create-new\"> Open a new terminal</a>"
      ],
      "text/plain": [
       "<IPython.core.display.HTML object>"
      ]
     },
     "execution_count": 6,
     "metadata": {},
     "output_type": "execute_result"
    }
   ],
   "source": [
    "HTML('<a href=\"\", data-commandlinker-command=\"terminal:create-new\"> Open a new terminal</a>')"
   ]
  },
  {
   "cell_type": "markdown",
   "metadata": {},
   "source": [
    "In the terminal, please run the following command:\n",
    "\n",
    "```\n",
    "source nvflare-env/bin/activate\n",
    "bash poc/admin/startup/fl_admin.sh\n",
    "```\n"
   ]
  },
  {
   "cell_type": "markdown",
   "metadata": {},
   "source": [
    "### (Optional) Copy Dataset\n",
    "\n",
    "After starting the experiment, the Spleen dataset will be downloaded into each site. For example, `poc/site-1/` for `site-1`.\n",
    "\n",
    "If you already have the `Task09_Spleen`, you can copy it into the corresponding place directly to prevent repeatedly download. For example:\n",
    "\n",
    "```\n",
    "cp -r /path-to-dataset/Task09_Spleen poc/site-1/\n",
    "```"
   ]
  },
  {
   "cell_type": "markdown",
   "metadata": {},
   "source": [
    "### Start Training"
   ]
  },
  {
   "cell_type": "markdown",
   "metadata": {},
   "source": [
    "You can start training by submitting the `hello-monai` job:\n",
    "```\n",
    "submit_job hello-monai\n",
    "```\n",
    "\n",
    "You can check the status by running:\n",
    "```\n",
    "check_status server\n",
    "check_status client\n",
    "```"
   ]
  },
  {
   "cell_type": "markdown",
   "metadata": {},
   "source": [
    "### Abort Training\n",
    "\n",
    "After starting a job, a corresponding job id will be produced. You can also achieve it by using `list_jobs`.\n",
    "\n",
    "If you'd like to abort the job, the `abort_job` command is needed, and the syntax is:\n",
    "```\n",
    "abort_job job_id\n",
    "```"
   ]
  },
  {
   "cell_type": "markdown",
   "metadata": {},
   "source": [
    "### Shutdown\n",
    "\n",
    "You can close the server or client(s) by running:\n",
    "\n",
    "`shutdown client` or `shutdown server`\n",
    "\n",
    "or type `shutdown all` to close them all.\n",
    "\n",
    "If you only want to close one client, you can specify the client in the command like follows:\n",
    "```\n",
    "shutdown client site-1\n",
    "```\n",
    "\n",
    "This command will kill the client/server connection, and this command will need input of the admin name for confirmation."
   ]
  },
  {
   "cell_type": "markdown",
   "metadata": {},
   "source": [
    "### Other Commands\n",
    "\n",
    "Please type `?` to learn more about all commands, or you can refer to [the official guide](https://nvidia.github.io/NVFlare/user_guide/admin_commands.html) for more details."
   ]
  },
  {
   "cell_type": "markdown",
   "metadata": {},
   "source": [
    "### Next Steps\n",
    "\n",
    "You have now started the admin client and learnt the commands to control your FL experiment. You're now ready to create your own FL experiment!"
   ]
  }
 ],
 "metadata": {
  "kernelspec": {
   "display_name": "Python 3 (ipykernel)",
   "language": "python",
   "name": "python3"
  },
  "language_info": {
   "codemirror_mode": {
    "name": "ipython",
    "version": 3
   },
   "file_extension": ".py",
   "mimetype": "text/x-python",
   "name": "python",
   "nbconvert_exporter": "python",
   "pygments_lexer": "ipython3",
   "version": "3.8.10"
  },
  "stem_cell": {
   "cell_type": "raw",
   "metadata": {
    "pycharm": {
     "metadata": false
    }
   },
   "source": ""
  }
 },
 "nbformat": 4,
 "nbformat_minor": 4
}
