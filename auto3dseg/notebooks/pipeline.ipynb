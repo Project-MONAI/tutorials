{
 "cells": [
  {
   "cell_type": "markdown",
   "id": "80a928cd",
   "metadata": {},
   "source": [
    "### 1. Import necessary dependency libraries"
   ]
  },
  {
   "cell_type": "code",
   "execution_count": null,
   "id": "e17fbc72",
   "metadata": {},
   "outputs": [],
   "source": [
    "import os\n",
    "import torch\n",
    "\n",
    "from monai.apps.auto3dseg import (\n",
    "    BundleGen,\n",
    "    DataAnalyzer,\n",
    "    AlgoEnsembleBestN,\n",
    "    AlgoEnsembleBuilder,\n",
    ")\n",
    "from monai.apps.auto3dseg.ensemble_builder import AlgoEnsembleKeys\n",
    "from monai.bundle.config_parser import ConfigParser"
   ]
  },
  {
   "cell_type": "markdown",
   "id": "c911c41b",
   "metadata": {},
   "source": [
    "### 2. Download one of MSD datasets"
   ]
  },
  {
   "cell_type": "code",
   "execution_count": null,
   "id": "36c45af5",
   "metadata": {},
   "outputs": [],
   "source": [
    "# download MSD dataset\n",
    "from monai.apps import download_and_extract\n",
    "\n",
    "root = \"./\"\n",
    "msd_task = \"Task05_Prostate\"\n",
    "resource = \"https://msd-for-monai.s3-us-west-2.amazonaws.com/\" + msd_task + \".tar\"\n",
    "compressed_file = os.path.join(root, msd_task + \".tar\")\n",
    "if os.path.exists(root):\n",
    "    download_and_extract(resource, compressed_file, root)"
   ]
  },
  {
   "cell_type": "markdown",
   "id": "7779ae85",
   "metadata": {},
   "source": [
    "### 3. Setup input configuration and create output directory"
   ]
  },
  {
   "cell_type": "code",
   "execution_count": null,
   "id": "069c4d22",
   "metadata": {},
   "outputs": [],
   "source": [
    "# preparation\n",
    "test_path = \"./\"\n",
    "data_src_cfg = {\n",
    "    \"name\": \"Task05_Prostate\",\n",
    "    \"task\": \"segmentation\",\n",
    "    \"modality\": \"MRI\",\n",
    "    \"datalist\": \"../tasks/msd/Task05_Prostate/msd_task05_prostate_folds.json\",\n",
    "    \"dataroot\": os.path.join(root, msd_task),\n",
    "}\n",
    "input = os.path.join(root, 'input.yaml')\n",
    "ConfigParser.export_config_file(data_src_cfg, input)\n",
    "cfg = ConfigParser.load_config_file(data_src_cfg)\n",
    "dataroot = cfg[\"dataroot\"]\n",
    "datalist_filename = cfg[\"datalist\"]\n",
    "datalist = ConfigParser.load_config_file(datalist_filename)\n",
    "\n",
    "work_dir = os.path.join(test_path, \"workdir\")\n",
    "da_output_yaml = os.path.join(work_dir, \"datastats.yaml\")\n",
    "\n",
    "if not os.path.isdir(dataroot):\n",
    "    os.makedirs(dataroot)\n",
    "\n",
    "if not os.path.isdir(work_dir):\n",
    "    os.makedirs(work_dir)"
   ]
  },
  {
   "cell_type": "markdown",
   "id": "fe779a3e",
   "metadata": {},
   "source": [
    "### 4. Conduct data analysis"
   ]
  },
  {
   "cell_type": "code",
   "execution_count": null,
   "id": "4a5ab09f",
   "metadata": {},
   "outputs": [],
   "source": [
    "# data analysis\n",
    "da = DataAnalyzer(datalist, dataroot, output_path=da_output_yaml)\n",
    "da.get_all_case_stats()"
   ]
  },
  {
   "cell_type": "markdown",
   "id": "0d072cd1",
   "metadata": {},
   "source": [
    "### 5. Create algorithms (MONAI bundles) with information from data statistics"
   ]
  },
  {
   "cell_type": "code",
   "execution_count": null,
   "id": "184a9430",
   "metadata": {},
   "outputs": [],
   "source": [
    "# algorithm generation\n",
    "bundle_generator = BundleGen(\n",
    "    algo_path=work_dir,\n",
    "    data_stats_filename=da_output_yaml,\n",
    "    data_src_cfg_name=data_src_cfg,\n",
    ")\n",
    "\n",
    "bundle_generator.generate(work_dir, num_fold=5)\n",
    "history = bundle_generator.get_history()"
   ]
  },
  {
   "cell_type": "markdown",
   "id": "81167e6e",
   "metadata": {},
   "source": [
    "### 5. Start model training"
   ]
  },
  {
   "cell_type": "code",
   "execution_count": null,
   "id": "97756a2c",
   "metadata": {},
   "outputs": [],
   "source": [
    "# model training\n",
    "gpus = [_i for _i in range(torch.cuda.device_count())]\n",
    "\n",
    "train_param = {\n",
    "    \"CUDA_VISIBLE_DEVICES\": gpus,\n",
    "}\n",
    "\n",
    "for i, record in enumerate(history):\n",
    "    for name, algo in record.items():\n",
    "        algo.train(train_param)"
   ]
  },
  {
   "cell_type": "markdown",
   "id": "486ff69e",
   "metadata": {},
   "source": [
    "### 6. Generate predictions from ensemble"
   ]
  },
  {
   "cell_type": "code",
   "execution_count": null,
   "id": "2828394b",
   "metadata": {},
   "outputs": [],
   "source": [
    "# model ensemble\n",
    "n_best = 1\n",
    "builder = AlgoEnsembleBuilder(history, data_src_cfg)\n",
    "builder.set_ensemble_method(AlgoEnsembleBestN(n_best=n_best))\n",
    "ensemble = builder.get_ensemble()\n",
    "pred = ensemble()\n",
    "print(\"ensemble picked the following best {0:d}:\".format(n_best))\n",
    "for algo in ensemble.get_algo_ensemble():\n",
    "    print(algo[AlgoEnsembleKeys.ID])"
   ]
  }
 ],
 "metadata": {
  "kernelspec": {
   "display_name": "Python 3.8.13 ('base')",
   "language": "python",
   "name": "python3"
  },
  "language_info": {
   "codemirror_mode": {
    "name": "ipython",
    "version": 3
   },
   "file_extension": ".py",
   "mimetype": "text/x-python",
   "name": "python",
   "nbconvert_exporter": "python",
   "pygments_lexer": "ipython3",
   "version": "3.8.13"
  },
  "vscode": {
   "interpreter": {
    "hash": "d4d1e4263499bec80672ea0156c357c1ee493ec2b1c70f0acce89fc37c4a6abe"
   }
  }
 },
 "nbformat": 4,
 "nbformat_minor": 5
}
