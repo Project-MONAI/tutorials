{
 "cells": [
  {
   "cell_type": "markdown",
   "id": "9b2bc6c7-f54c-436f-ab66-86a631fb75d8",
   "metadata": {},
   "source": [
    "Copyright (c) MONAI Consortium  \n",
    "Licensed under the Apache License, Version 2.0 (the \"License\");  \n",
    "you may not use this file except in compliance with the License.  \n",
    "You may obtain a copy of the License at  \n",
    "&nbsp;&nbsp;&nbsp;&nbsp;http://www.apache.org/licenses/LICENSE-2.0  \n",
    "Unless required by applicable law or agreed to in writing, software  \n",
    "distributed under the License is distributed on an \"AS IS\" BASIS,  \n",
    "WITHOUT WARRANTIES OR CONDITIONS OF ANY KIND, either express or implied.  \n",
    "See the License for the specific language governing permissions and  \n",
    "limitations under the License."
   ]
  },
  {
   "cell_type": "code",
   "execution_count": null,
   "id": "2f51a451-566f-4501-aeb8-f3cd5d1f7bf9",
   "metadata": {},
   "outputs": [],
   "source": [
    "import numpy as np\n",
    "from monai.apps import MedNISTDataset"
   ]
  },
  {
   "cell_type": "markdown",
   "id": "2682936a-09ed-4703-af06-c59f755395ee",
   "metadata": {},
   "source": [
    "# MedNIST Classification Bundle\n",
    "\n",
    "In this tutorial we'll revisit the bundle replicating [MONAI 101 notebook](https://github.com/Project-MONAI/tutorials/blob/main/2d_classification/monai_101.ipynb) and add more features representing best practice concepts. This will include evaluation and checkpoint saving techniques.\n",
    "\n",
    "We'll first create a bundle very much like in the previous tutorial with the same metadata and common script file:"
   ]
  },
  {
   "cell_type": "code",
   "execution_count": 1,
   "id": "eb9dc6ec-13da-4a37-8afa-28e2766b9343",
   "metadata": {},
   "outputs": [
    {
     "name": "stdout",
     "output_type": "stream",
     "text": [
      "\u001b[01;34mMedNISTClassifier_v2\u001b[00m\n",
      "├── \u001b[01;34mconfigs\u001b[00m\n",
      "│   ├── inference.json\n",
      "│   └── metadata.json\n",
      "├── \u001b[01;34mdocs\u001b[00m\n",
      "│   └── README.md\n",
      "├── LICENSE\n",
      "└── \u001b[01;34mmodels\u001b[00m\n",
      "\n",
      "3 directories, 4 files\n"
     ]
    }
   ],
   "source": [
    "%%bash\n",
    "\n",
    "python -m monai.bundle init_bundle MedNISTClassifier_v2\n",
    "which tree && tree MedNISTClassifier_v2"
   ]
  },
  {
   "cell_type": "code",
   "execution_count": 2,
   "id": "b29f053b-cf16-4ffc-bbe7-d9433fdfa872",
   "metadata": {},
   "outputs": [
    {
     "name": "stdout",
     "output_type": "stream",
     "text": [
      "Overwriting MedNISTClassifier_v2/configs/metadata.json\n"
     ]
    }
   ],
   "source": [
    "%%writefile MedNISTClassifier_v2/configs/metadata.json\n",
    "\n",
    "{\n",
    "    \"version\": \"0.0.1\",\n",
    "    \"changelog\": {\n",
    "        \"0.0.1\": \"Initial version\"\n",
    "    },\n",
    "    \"monai_version\": \"1.2.0\",\n",
    "    \"pytorch_version\": \"2.0.0\",\n",
    "    \"numpy_version\": \"1.23.5\",\n",
    "    \"optional_packages_version\": {},\n",
    "    \"name\": \"MedNISTClassifier\",\n",
    "    \"task\": \"MedNIST Classification Network\",\n",
    "    \"description\": \"This is a demo network for classifying MedNIST images by type/modality\",\n",
    "    \"authors\": \"Your Name Here\",\n",
    "    \"copyright\": \"Copyright (c) Your Name Here\",\n",
    "    \"data_source\": \"MedNIST dataset kindly made available by Dr. Bradley J. Erickson M.D., Ph.D. (Department of Radiology, Mayo Clinic)\",\n",
    "    \"data_type\": \"jpeg\",\n",
    "    \"intended_use\": \"This is suitable for demonstration only\",\n",
    "    \"network_data_format\": {\n",
    "        \"inputs\": {\n",
    "            \"image\": {\n",
    "                \"type\": \"image\",\n",
    "                \"format\": \"magnitude\",\n",
    "                \"modality\": \"any\",\n",
    "                \"num_channels\": 1,\n",
    "                \"spatial_shape\": [64, 64],\n",
    "                \"dtype\": \"float32\",\n",
    "                \"value_range\": [0, 1],\n",
    "                \"is_patch_data\": false,\n",
    "                \"channel_def\": {\n",
    "                    \"0\": \"image\"\n",
    "                }\n",
    "            }\n",
    "        },\n",
    "        \"outputs\": {\n",
    "            \"pred\": {\n",
    "                \"type\": \"probabilities\",\n",
    "                \"format\": \"classes\",\n",
    "                \"num_channels\": 6,\n",
    "                \"spatial_shape\": [6],\n",
    "                \"dtype\": \"float32\",\n",
    "                \"value_range\": [0, 1],\n",
    "                \"is_patch_data\": false,\n",
    "                \"channel_def\": {\n",
    "                    \"0\": \"AbdomenCT\",\n",
    "                    \"1\": \"BreastMRI\",\n",
    "                    \"2\": \"CXR\",\n",
    "                    \"3\": \"ChestCT\",\n",
    "                    \"4\": \"Hand\",\n",
    "                    \"5\": \"HeadCT\"\n",
    "                }\n",
    "            }\n",
    "        }\n",
    "    }\n",
    "}"
   ]
  },
  {
   "cell_type": "markdown",
   "id": "04826c73-7c26-4c5e-8d2a-8968c3954b5a",
   "metadata": {},
   "source": [
    "As you've likely seen in outputs, there should be a `logging.conf` file in the `configs` directory to set up the Python logger appropriately. This will improve the output we get in the notebook:"
   ]
  },
  {
   "cell_type": "code",
   "execution_count": 4,
   "id": "0cb1b023-d192-4ad7-b2eb-c4a2c6b42b84",
   "metadata": {},
   "outputs": [
    {
     "name": "stdout",
     "output_type": "stream",
     "text": [
      "Writing MedNISTClassifier_v2/configs/logging.conf\n"
     ]
    }
   ],
   "source": [
    "%%writefile MedNISTClassifier_v2/configs/logging.conf\n",
    "\n",
    "[loggers]\n",
    "keys=root\n",
    "\n",
    "[handlers]\n",
    "keys=consoleHandler\n",
    "\n",
    "[formatters]\n",
    "keys=fullFormatter\n",
    "\n",
    "[logger_root]\n",
    "level=INFO\n",
    "handlers=consoleHandler\n",
    "\n",
    "[handler_consoleHandler]\n",
    "class=StreamHandler\n",
    "level=INFO\n",
    "formatter=fullFormatter\n",
    "args=(sys.stdout,)\n",
    "\n",
    "[formatter_fullFormatter]\n",
    "format=%(asctime)s - %(name)s - %(levelname)s - %(message)s\n"
   ]
  },
  {
   "cell_type": "markdown",
   "id": "b306ff33-c39b-4822-b6d4-346987cfe87b",
   "metadata": {},
   "source": [
    "We'll change the common file slightly by adding some extra symbols, specifically `bundle_root` which should always be present in bundles. We'll keep `root_dir` since it's used to determine where MedNIST is downloaded to."
   ]
  },
  {
   "cell_type": "code",
   "execution_count": 9,
   "id": "d11681af-3210-4b2b-b7bd-8ad8dedfe230",
   "metadata": {},
   "outputs": [
    {
     "name": "stdout",
     "output_type": "stream",
     "text": [
      "Overwriting MedNISTClassifier_v2/configs/common.yaml\n"
     ]
    }
   ],
   "source": [
    "%%writefile MedNISTClassifier_v2/configs/common.yaml\n",
    "\n",
    "# added a few more imports\n",
    "imports: \n",
    "- $import torch\n",
    "- $import datetime\n",
    "- $import os\n",
    "\n",
    "root_dir: .\n",
    "\n",
    "# use constants from MONAI instead of hard-coding names\n",
    "image: $monai.utils.CommonKeys.IMAGE\n",
    "label: $monai.utils.CommonKeys.LABEL\n",
    "pred: $monai.utils.CommonKeys.PRED\n",
    "\n",
    "# these are added definitions\n",
    "bundle_root: .\n",
    "ckpt_path: $@bundle_root + '/models/model.pt'\n",
    "\n",
    "# define a device for the network\n",
    "device: '$torch.device(''cuda:0'')'\n",
    "\n",
    "# store the class names for inference later\n",
    "class_names: [AbdomenCT, BreastMRI, CXR, ChestCT, Hand, HeadCT]\n",
    "\n",
    "# define the network separately, don't need to refer to MONAI types by name or import MONAI\n",
    "network_def:\n",
    "  _target_: densenet121\n",
    "  spatial_dims: 2\n",
    "  in_channels: 1\n",
    "  out_channels: 6\n",
    "\n",
    "# define the network to be the given definition moved to the device\n",
    "net: '$@network_def.to(@device)'\n",
    "\n",
    "# define a transform sequence as a list of transform objects instead of using Compose here\n",
    "train_transforms:\n",
    "- _target_: LoadImaged\n",
    "  keys: '@image'\n",
    "  image_only: true\n",
    "- _target_: EnsureChannelFirstd\n",
    "  keys: '@image'\n",
    "- _target_: ScaleIntensityd\n",
    "  keys: '@image'\n",
    "    "
   ]
  },
  {
   "cell_type": "markdown",
   "id": "eaf81ea7-9ea3-4548-a32e-992f0b9bc0ab",
   "metadata": {},
   "source": [
    "\n",
    "## Training\n",
    "\n",
    "For training we have the same elements again but we'll add a `SupervisedEvaluator` object to track model progress with handlers to save checkpoints. "
   ]
  },
  {
   "cell_type": "code",
   "execution_count": 8,
   "id": "4dfd052e-abe7-473a-bbf4-25674a3b20ea",
   "metadata": {},
   "outputs": [
    {
     "name": "stdout",
     "output_type": "stream",
     "text": [
      "Overwriting MedNISTClassifier_v2/configs/train.yaml\n"
     ]
    }
   ],
   "source": [
    "%%writefile MedNISTClassifier_v2/configs/train.yaml\n",
    "\n",
    "max_epochs: 25\n",
    "learning_rate: 0.00001  # learning rate, again artificially slow\n",
    "val_interval: 1  # run validation every n'th epoch\n",
    "save_interval: 1 # save the model weights every n'th epoch\n",
    "\n",
    "# choose a unique output subdirectory every time training is started, \n",
    "output_dir: '$datetime.datetime.now().strftime(@root_dir+''/output/output_%y%m%d_%H%M%S'')'\n",
    "\n",
    "train_dataset:\n",
    "  _target_: MedNISTDataset\n",
    "  root_dir: '@root_dir'\n",
    "  transform: \n",
    "    _target_: Compose\n",
    "    transforms: '@train_transforms'\n",
    "  section: training\n",
    "  download: true\n",
    "\n",
    "train_dl:\n",
    "  _target_: DataLoader\n",
    "  dataset: '@train_dataset'\n",
    "  batch_size: 512\n",
    "  shuffle: true\n",
    "  num_workers: 4\n",
    "\n",
    "# separate dataset taking from the \"validation\" section\n",
    "eval_dataset:\n",
    "  _target_: MedNISTDataset\n",
    "  root_dir: '@root_dir'\n",
    "  transform: \n",
    "    _target_: Compose\n",
    "    transforms: '$@train_transforms'\n",
    "  section: validation\n",
    "  download: true\n",
    "\n",
    "# separate dataloader for evaluation\n",
    "eval_dl:\n",
    "  _target_: DataLoader\n",
    "  dataset: '@eval_dataset'\n",
    "  batch_size: 512\n",
    "  shuffle: false\n",
    "  num_workers: 4\n",
    "\n",
    "# transforms applied to network output, in this case applying activation, argmax, and one-hot-encoding\n",
    "post_transform:\n",
    "  _target_: Compose\n",
    "  transforms:\n",
    "  - _target_: Activationsd\n",
    "    keys: '@pred'\n",
    "    softmax: true  # apply softmax to the prediction to emphasize the most likely value\n",
    "  - _target_: AsDiscreted\n",
    "    keys: ['@label','@pred']\n",
    "    argmax: [false, true]  # apply argmax to the prediction only to get a class index number\n",
    "    to_onehot: 6  # convert both prediction and label to one-hot format so that both have shape (6,)\n",
    "\n",
    "# separating out loss, inferer, and optimizer definitions\n",
    "\n",
    "loss_function:\n",
    "  _target_: torch.nn.CrossEntropyLoss\n",
    "\n",
    "inferer: \n",
    "  _target_: SimpleInferer\n",
    "\n",
    "optimizer: \n",
    "  _target_: torch.optim.Adam\n",
    "  params: '$@net.parameters()'\n",
    "  lr: '@learning_rate'\n",
    "\n",
    "# Handlers to load the checkpoint if present, run validation at the chosen interval, save the checkpoint\n",
    "# at the chosen interval, log stats, and write the log to a file in the output directory.\n",
    "handlers:\n",
    "- _target_: CheckpointLoader\n",
    "  _disabled_: '$not os.path.exists(@ckpt_path)'\n",
    "  load_path: '@ckpt_path'\n",
    "  load_dict:\n",
    "    model: '@net'\n",
    "- _target_: ValidationHandler\n",
    "  validator: '@evaluator'\n",
    "  epoch_level: true\n",
    "  interval: '@val_interval'\n",
    "- _target_: CheckpointSaver\n",
    "  save_dir: '@output_dir'\n",
    "  save_dict:\n",
    "    model: '@net'\n",
    "  save_interval: '@save_interval'\n",
    "  save_final: true  # save the final weights, either when the run finishes or is interrupted somehow\n",
    "- _target_: StatsHandler\n",
    "  name: train_loss\n",
    "  tag_name: train_loss\n",
    "  output_transform: '$monai.handlers.from_engine([''loss''], first=True)'  # print per-iteration loss\n",
    "- _target_: LogfileHandler\n",
    "  output_dir: '@output_dir'\n",
    "\n",
    "trainer:\n",
    "  _target_: SupervisedTrainer\n",
    "  device: '@device'\n",
    "  max_epochs: '@max_epochs'\n",
    "  train_data_loader: '@train_dl'\n",
    "  network: '@net'\n",
    "  optimizer: '@optimizer'\n",
    "  loss_function: '@loss_function'\n",
    "  inferer: '@inferer'\n",
    "  train_handlers: '@handlers'\n",
    "\n",
    "# validation handlers which log stats and direct the log to a file\n",
    "val_handlers:\n",
    "- _target_: StatsHandler\n",
    "  name: val_stats\n",
    "  output_transform: '$lambda x: None'\n",
    "- _target_: LogfileHandler\n",
    "  output_dir: '@output_dir'\n",
    "    \n",
    "# Metrics to assess validation results, you can have more than one here but may \n",
    "# need to adapt the format of pred and label.\n",
    "metrics:\n",
    "  accuracy:\n",
    "    _target_: 'ignite.metrics.Accuracy'\n",
    "    output_transform: '$monai.handlers.from_engine([@pred, @label])'\n",
    "\n",
    "# runs the evaluation process, invoked by trainer via the ValidationHandler object\n",
    "evaluator:\n",
    "  _target_: SupervisedEvaluator\n",
    "  device: '@device'\n",
    "  val_data_loader: '@eval_dl'\n",
    "  network: '@net'\n",
    "  inferer: '@inferer'\n",
    "  postprocessing: '@post_transform'\n",
    "  key_val_metric: '@metrics'\n",
    "  val_handlers: '@val_handlers'\n",
    "\n",
    "train:\n",
    "- '$@trainer.run()'\n"
   ]
  },
  {
   "cell_type": "markdown",
   "id": "de752181-80b1-4221-9e4a-315e5f7f22a6",
   "metadata": {},
   "source": [
    "We can now train as normal, specifying the logging config file and a maximum number of epochs you probably will want to set higher for a good result:"
   ]
  },
  {
   "cell_type": "code",
   "execution_count": 25,
   "id": "8357670d-fe69-4789-9b9a-77c0d8144b10",
   "metadata": {},
   "outputs": [
    {
     "name": "stdout",
     "output_type": "stream",
     "text": [
      "2023-08-30 12:38:23,636 - INFO - --- input summary of monai.bundle.scripts.run ---\n",
      "2023-08-30 12:38:23,636 - INFO - > run_id: 'train'\n",
      "2023-08-30 12:38:23,636 - INFO - > meta_file: './MedNISTClassifier_v2/configs/metadata.json'\n",
      "2023-08-30 12:38:23,636 - INFO - > config_file: ['./MedNISTClassifier_v2/configs/common.yaml',\n",
      " './MedNISTClassifier_v2/configs/train.yaml']\n",
      "2023-08-30 12:38:23,636 - INFO - > logging_file: './MedNISTClassifier_v2/configs/logging.conf'\n",
      "2023-08-30 12:38:23,636 - INFO - > bundle_root: './MedNISTClassifier_v2'\n",
      "2023-08-30 12:38:23,636 - INFO - > max_epochs: 2\n",
      "2023-08-30 12:38:23,636 - INFO - ---\n",
      "\n",
      "\n",
      "2023-08-30 12:38:23,636 - INFO - Setting logging properties based on config: ./MedNISTClassifier_v2/configs/logging.conf.\n",
      "2023-08-30 12:38:23,768 - INFO - Verified 'MedNIST.tar.gz', md5: 0bc7306e7427e00ad1c5526a6677552d.\n",
      "2023-08-30 12:38:23,768 - INFO - File exists: MedNIST.tar.gz, skipped downloading.\n",
      "2023-08-30 12:38:23,768 - INFO - Non-empty folder exists in MedNIST, skipped extracting.\n"
     ]
    },
    {
     "name": "stderr",
     "output_type": "stream",
     "text": [
      "Loading dataset: 100%|██████████| 47164/47164 [00:41<00:00, 1134.34it/s]\n"
     ]
    },
    {
     "name": "stdout",
     "output_type": "stream",
     "text": [
      "2023-08-30 12:39:05,994 - INFO - Verified 'MedNIST.tar.gz', md5: 0bc7306e7427e00ad1c5526a6677552d.\n",
      "2023-08-30 12:39:05,994 - INFO - File exists: MedNIST.tar.gz, skipped downloading.\n",
      "2023-08-30 12:39:05,994 - INFO - Non-empty folder exists in MedNIST, skipped extracting.\n"
     ]
    },
    {
     "name": "stderr",
     "output_type": "stream",
     "text": [
      "Loading dataset: 100%|██████████| 5895/5895 [00:05<00:00, 1135.59it/s]\n"
     ]
    },
    {
     "name": "stdout",
     "output_type": "stream",
     "text": [
      "2023-08-30 12:39:11,320 - ignite.engine.engine.SupervisedTrainer - INFO - Engine run resuming from iteration 0, epoch 0 until 2 epochs\n",
      "2023-08-30 12:39:12,457 - INFO - Epoch: 1/2, Iter: 1/93 -- train_loss: 1.8415 \n",
      "2023-08-30 12:39:12,828 - INFO - Epoch: 1/2, Iter: 2/93 -- train_loss: 1.8107 \n",
      "2023-08-30 12:39:13,194 - INFO - Epoch: 1/2, Iter: 3/93 -- train_loss: 1.7766 \n",
      "2023-08-30 12:39:13,569 - INFO - Epoch: 1/2, Iter: 4/93 -- train_loss: 1.7330 \n",
      "2023-08-30 12:39:13,951 - INFO - Epoch: 1/2, Iter: 5/93 -- train_loss: 1.7159 \n",
      "2023-08-30 12:39:14,326 - INFO - Epoch: 1/2, Iter: 6/93 -- train_loss: 1.6599 \n",
      "2023-08-30 12:39:14,698 - INFO - Epoch: 1/2, Iter: 7/93 -- train_loss: 1.6619 \n",
      "2023-08-30 12:39:15,068 - INFO - Epoch: 1/2, Iter: 8/93 -- train_loss: 1.6289 \n",
      "2023-08-30 12:39:15,442 - INFO - Epoch: 1/2, Iter: 9/93 -- train_loss: 1.5839 \n",
      "2023-08-30 12:39:15,813 - INFO - Epoch: 1/2, Iter: 10/93 -- train_loss: 1.5505 \n",
      "2023-08-30 12:39:16,184 - INFO - Epoch: 1/2, Iter: 11/93 -- train_loss: 1.5104 \n",
      "2023-08-30 12:39:16,555 - INFO - Epoch: 1/2, Iter: 12/93 -- train_loss: 1.5082 \n",
      "2023-08-30 12:39:16,928 - INFO - Epoch: 1/2, Iter: 13/93 -- train_loss: 1.4683 \n",
      "2023-08-30 12:39:17,298 - INFO - Epoch: 1/2, Iter: 14/93 -- train_loss: 1.4428 \n",
      "2023-08-30 12:39:17,669 - INFO - Epoch: 1/2, Iter: 15/93 -- train_loss: 1.4370 \n",
      "2023-08-30 12:39:18,040 - INFO - Epoch: 1/2, Iter: 16/93 -- train_loss: 1.4218 \n",
      "2023-08-30 12:39:18,413 - INFO - Epoch: 1/2, Iter: 17/93 -- train_loss: 1.3643 \n",
      "2023-08-30 12:39:18,788 - INFO - Epoch: 1/2, Iter: 18/93 -- train_loss: 1.3395 \n",
      "2023-08-30 12:39:19,156 - INFO - Epoch: 1/2, Iter: 19/93 -- train_loss: 1.3353 \n",
      "2023-08-30 12:39:19,526 - INFO - Epoch: 1/2, Iter: 20/93 -- train_loss: 1.2964 \n",
      "2023-08-30 12:39:19,899 - INFO - Epoch: 1/2, Iter: 21/93 -- train_loss: 1.2980 \n",
      "2023-08-30 12:39:20,269 - INFO - Epoch: 1/2, Iter: 22/93 -- train_loss: 1.2524 \n",
      "2023-08-30 12:39:20,637 - INFO - Epoch: 1/2, Iter: 23/93 -- train_loss: 1.2426 \n",
      "2023-08-30 12:39:21,005 - INFO - Epoch: 1/2, Iter: 24/93 -- train_loss: 1.2124 \n",
      "2023-08-30 12:39:21,384 - INFO - Epoch: 1/2, Iter: 25/93 -- train_loss: 1.2232 \n",
      "2023-08-30 12:39:21,755 - INFO - Epoch: 1/2, Iter: 26/93 -- train_loss: 1.2067 \n",
      "2023-08-30 12:39:22,145 - INFO - Epoch: 1/2, Iter: 27/93 -- train_loss: 1.1653 \n",
      "2023-08-30 12:39:22,519 - INFO - Epoch: 1/2, Iter: 28/93 -- train_loss: 1.1216 \n",
      "2023-08-30 12:39:22,899 - INFO - Epoch: 1/2, Iter: 29/93 -- train_loss: 1.1002 \n",
      "2023-08-30 12:39:23,268 - INFO - Epoch: 1/2, Iter: 30/93 -- train_loss: 1.0889 \n",
      "2023-08-30 12:39:23,635 - INFO - Epoch: 1/2, Iter: 31/93 -- train_loss: 1.0906 \n",
      "2023-08-30 12:39:24,005 - INFO - Epoch: 1/2, Iter: 32/93 -- train_loss: 1.0542 \n",
      "2023-08-30 12:39:24,379 - INFO - Epoch: 1/2, Iter: 33/93 -- train_loss: 1.0505 \n",
      "2023-08-30 12:39:24,752 - INFO - Epoch: 1/2, Iter: 34/93 -- train_loss: 1.0479 \n",
      "2023-08-30 12:39:25,121 - INFO - Epoch: 1/2, Iter: 35/93 -- train_loss: 0.9899 \n",
      "2023-08-30 12:39:25,497 - INFO - Epoch: 1/2, Iter: 36/93 -- train_loss: 1.0060 \n",
      "2023-08-30 12:39:25,877 - INFO - Epoch: 1/2, Iter: 37/93 -- train_loss: 0.9894 \n",
      "2023-08-30 12:39:26,250 - INFO - Epoch: 1/2, Iter: 38/93 -- train_loss: 0.9567 \n",
      "2023-08-30 12:39:26,618 - INFO - Epoch: 1/2, Iter: 39/93 -- train_loss: 0.9446 \n",
      "2023-08-30 12:39:26,998 - INFO - Epoch: 1/2, Iter: 40/93 -- train_loss: 0.9262 \n",
      "2023-08-30 12:39:27,374 - INFO - Epoch: 1/2, Iter: 41/93 -- train_loss: 0.9277 \n",
      "2023-08-30 12:39:27,743 - INFO - Epoch: 1/2, Iter: 42/93 -- train_loss: 0.8966 \n",
      "2023-08-30 12:39:28,112 - INFO - Epoch: 1/2, Iter: 43/93 -- train_loss: 0.8847 \n",
      "2023-08-30 12:39:28,490 - INFO - Epoch: 1/2, Iter: 44/93 -- train_loss: 0.8708 \n",
      "2023-08-30 12:39:28,865 - INFO - Epoch: 1/2, Iter: 45/93 -- train_loss: 0.8846 \n",
      "2023-08-30 12:39:29,237 - INFO - Epoch: 1/2, Iter: 46/93 -- train_loss: 0.8167 \n",
      "2023-08-30 12:39:29,611 - INFO - Epoch: 1/2, Iter: 47/93 -- train_loss: 0.8477 \n",
      "2023-08-30 12:39:29,982 - INFO - Epoch: 1/2, Iter: 48/93 -- train_loss: 0.8050 \n",
      "2023-08-30 12:39:30,358 - INFO - Epoch: 1/2, Iter: 49/93 -- train_loss: 0.7793 \n",
      "2023-08-30 12:39:30,729 - INFO - Epoch: 1/2, Iter: 50/93 -- train_loss: 0.7661 \n",
      "2023-08-30 12:39:31,101 - INFO - Epoch: 1/2, Iter: 51/93 -- train_loss: 0.7868 \n",
      "2023-08-30 12:39:31,610 - INFO - Epoch: 1/2, Iter: 52/93 -- train_loss: 0.7492 \n",
      "2023-08-30 12:39:31,984 - INFO - Epoch: 1/2, Iter: 53/93 -- train_loss: 0.7325 \n",
      "2023-08-30 12:39:32,355 - INFO - Epoch: 1/2, Iter: 54/93 -- train_loss: 0.7154 \n",
      "2023-08-30 12:39:32,723 - INFO - Epoch: 1/2, Iter: 55/93 -- train_loss: 0.7304 \n",
      "2023-08-30 12:39:33,094 - INFO - Epoch: 1/2, Iter: 56/93 -- train_loss: 0.6743 \n",
      "2023-08-30 12:39:33,478 - INFO - Epoch: 1/2, Iter: 57/93 -- train_loss: 0.6978 \n",
      "2023-08-30 12:39:33,850 - INFO - Epoch: 1/2, Iter: 58/93 -- train_loss: 0.6747 \n",
      "2023-08-30 12:39:34,220 - INFO - Epoch: 1/2, Iter: 59/93 -- train_loss: 0.7037 \n",
      "2023-08-30 12:39:34,591 - INFO - Epoch: 1/2, Iter: 60/93 -- train_loss: 0.6550 \n",
      "2023-08-30 12:39:34,968 - INFO - Epoch: 1/2, Iter: 61/93 -- train_loss: 0.6728 \n",
      "2023-08-30 12:39:35,340 - INFO - Epoch: 1/2, Iter: 62/93 -- train_loss: 0.6274 \n",
      "2023-08-30 12:39:35,709 - INFO - Epoch: 1/2, Iter: 63/93 -- train_loss: 0.6296 \n",
      "2023-08-30 12:39:36,080 - INFO - Epoch: 1/2, Iter: 64/93 -- train_loss: 0.6272 \n",
      "2023-08-30 12:39:36,456 - INFO - Epoch: 1/2, Iter: 65/93 -- train_loss: 0.6205 \n",
      "2023-08-30 12:39:36,828 - INFO - Epoch: 1/2, Iter: 66/93 -- train_loss: 0.5981 \n",
      "2023-08-30 12:39:37,197 - INFO - Epoch: 1/2, Iter: 67/93 -- train_loss: 0.5998 \n",
      "2023-08-30 12:39:37,574 - INFO - Epoch: 1/2, Iter: 68/93 -- train_loss: 0.5809 \n",
      "2023-08-30 12:39:37,951 - INFO - Epoch: 1/2, Iter: 69/93 -- train_loss: 0.5781 \n",
      "2023-08-30 12:39:38,322 - INFO - Epoch: 1/2, Iter: 70/93 -- train_loss: 0.5665 \n",
      "2023-08-30 12:39:38,691 - INFO - Epoch: 1/2, Iter: 71/93 -- train_loss: 0.5403 \n",
      "2023-08-30 12:39:39,063 - INFO - Epoch: 1/2, Iter: 72/93 -- train_loss: 0.5393 \n",
      "2023-08-30 12:39:39,443 - INFO - Epoch: 1/2, Iter: 73/93 -- train_loss: 0.5547 \n",
      "2023-08-30 12:39:39,815 - INFO - Epoch: 1/2, Iter: 74/93 -- train_loss: 0.5080 \n",
      "2023-08-30 12:39:40,185 - INFO - Epoch: 1/2, Iter: 75/93 -- train_loss: 0.5292 \n",
      "2023-08-30 12:39:40,557 - INFO - Epoch: 1/2, Iter: 76/93 -- train_loss: 0.4856 \n",
      "2023-08-30 12:39:40,932 - INFO - Epoch: 1/2, Iter: 77/93 -- train_loss: 0.4987 \n",
      "2023-08-30 12:39:41,304 - INFO - Epoch: 1/2, Iter: 78/93 -- train_loss: 0.4931 \n",
      "2023-08-30 12:39:41,674 - INFO - Epoch: 1/2, Iter: 79/93 -- train_loss: 0.4819 \n",
      "2023-08-30 12:39:42,047 - INFO - Epoch: 1/2, Iter: 80/93 -- train_loss: 0.4818 \n",
      "2023-08-30 12:39:42,424 - INFO - Epoch: 1/2, Iter: 81/93 -- train_loss: 0.4978 \n",
      "2023-08-30 12:39:42,804 - INFO - Epoch: 1/2, Iter: 82/93 -- train_loss: 0.4684 \n",
      "2023-08-30 12:39:43,175 - INFO - Epoch: 1/2, Iter: 83/93 -- train_loss: 0.4431 \n",
      "2023-08-30 12:39:43,555 - INFO - Epoch: 1/2, Iter: 84/93 -- train_loss: 0.4568 \n",
      "2023-08-30 12:39:43,937 - INFO - Epoch: 1/2, Iter: 85/93 -- train_loss: 0.4712 \n",
      "2023-08-30 12:39:44,313 - INFO - Epoch: 1/2, Iter: 86/93 -- train_loss: 0.4307 \n",
      "2023-08-30 12:39:44,683 - INFO - Epoch: 1/2, Iter: 87/93 -- train_loss: 0.4360 \n",
      "2023-08-30 12:39:45,235 - INFO - Epoch: 1/2, Iter: 88/93 -- train_loss: 0.4141 \n",
      "2023-08-30 12:39:45,615 - INFO - Epoch: 1/2, Iter: 89/93 -- train_loss: 0.4159 \n",
      "2023-08-30 12:39:45,990 - INFO - Epoch: 1/2, Iter: 90/93 -- train_loss: 0.4035 \n",
      "2023-08-30 12:39:46,359 - INFO - Epoch: 1/2, Iter: 91/93 -- train_loss: 0.3963 \n",
      "2023-08-30 12:39:46,731 - INFO - Epoch: 1/2, Iter: 92/93 -- train_loss: 0.4143 \n",
      "2023-08-30 12:39:46,962 - INFO - Epoch: 1/2, Iter: 93/93 -- train_loss: 0.3548 \n",
      "2023-08-30 12:39:46,963 - ignite.engine.engine.SupervisedEvaluator - INFO - Engine run resuming from iteration 0, epoch 0 until 1 epochs\n",
      "2023-08-30 12:39:56,039 - ignite.engine.engine.SupervisedEvaluator - INFO - Got new best metric of accuracy: 0.9889737065309584\n",
      "2023-08-30 12:39:56,040 - INFO - Epoch[1] Metrics -- accuracy: 0.9890 \n",
      "2023-08-30 12:39:56,040 - INFO - Key metric: accuracy best value: 0.9889737065309584 at epoch: 1\n",
      "2023-08-30 12:39:56,040 - ignite.engine.engine.SupervisedEvaluator - INFO - Epoch[1] Complete. Time taken: 00:00:08.961\n",
      "2023-08-30 12:39:56,040 - ignite.engine.engine.SupervisedEvaluator - INFO - Engine run complete. Time taken: 00:00:09.077\n",
      "2023-08-30 12:39:56,161 - ignite.engine.engine.SupervisedTrainer - INFO - Saved checkpoint at epoch: 1\n",
      "2023-08-30 12:39:56,161 - ignite.engine.engine.SupervisedTrainer - INFO - Epoch[1] Complete. Time taken: 00:00:44.714\n",
      "2023-08-30 12:39:56,769 - INFO - Epoch: 2/2, Iter: 1/93 -- train_loss: 0.3996 \n",
      "2023-08-30 12:39:57,157 - INFO - Epoch: 2/2, Iter: 2/93 -- train_loss: 0.3662 \n",
      "2023-08-30 12:39:57,528 - INFO - Epoch: 2/2, Iter: 3/93 -- train_loss: 0.3753 \n",
      "2023-08-30 12:39:57,902 - INFO - Epoch: 2/2, Iter: 4/93 -- train_loss: 0.3637 \n",
      "2023-08-30 12:39:58,279 - INFO - Epoch: 2/2, Iter: 5/93 -- train_loss: 0.3660 \n",
      "2023-08-30 12:39:58,655 - INFO - Epoch: 2/2, Iter: 6/93 -- train_loss: 0.3651 \n",
      "2023-08-30 12:39:59,025 - INFO - Epoch: 2/2, Iter: 7/93 -- train_loss: 0.3792 \n",
      "2023-08-30 12:39:59,400 - INFO - Epoch: 2/2, Iter: 8/93 -- train_loss: 0.3327 \n",
      "2023-08-30 12:39:59,782 - INFO - Epoch: 2/2, Iter: 9/93 -- train_loss: 0.3364 \n",
      "2023-08-30 12:40:00,154 - INFO - Epoch: 2/2, Iter: 10/93 -- train_loss: 0.3670 \n",
      "2023-08-30 12:40:00,524 - INFO - Epoch: 2/2, Iter: 11/93 -- train_loss: 0.3640 \n",
      "2023-08-30 12:40:00,898 - INFO - Epoch: 2/2, Iter: 12/93 -- train_loss: 0.3332 \n",
      "2023-08-30 12:40:01,277 - INFO - Epoch: 2/2, Iter: 13/93 -- train_loss: 0.3037 \n",
      "2023-08-30 12:40:01,649 - INFO - Epoch: 2/2, Iter: 14/93 -- train_loss: 0.3297 \n",
      "2023-08-30 12:40:02,018 - INFO - Epoch: 2/2, Iter: 15/93 -- train_loss: 0.3120 \n",
      "2023-08-30 12:40:02,390 - INFO - Epoch: 2/2, Iter: 16/93 -- train_loss: 0.3109 \n",
      "2023-08-30 12:40:02,769 - INFO - Epoch: 2/2, Iter: 17/93 -- train_loss: 0.3292 \n",
      "2023-08-30 12:40:03,141 - INFO - Epoch: 2/2, Iter: 18/93 -- train_loss: 0.3157 \n",
      "2023-08-30 12:40:03,510 - INFO - Epoch: 2/2, Iter: 19/93 -- train_loss: 0.3049 \n",
      "2023-08-30 12:40:03,882 - INFO - Epoch: 2/2, Iter: 20/93 -- train_loss: 0.2881 \n",
      "2023-08-30 12:40:04,262 - INFO - Epoch: 2/2, Iter: 21/93 -- train_loss: 0.2818 \n",
      "2023-08-30 12:40:04,634 - INFO - Epoch: 2/2, Iter: 22/93 -- train_loss: 0.2728 \n",
      "2023-08-30 12:40:05,003 - INFO - Epoch: 2/2, Iter: 23/93 -- train_loss: 0.2728 \n",
      "2023-08-30 12:40:05,375 - INFO - Epoch: 2/2, Iter: 24/93 -- train_loss: 0.2852 \n",
      "2023-08-30 12:40:05,753 - INFO - Epoch: 2/2, Iter: 25/93 -- train_loss: 0.2658 \n",
      "2023-08-30 12:40:06,126 - INFO - Epoch: 2/2, Iter: 26/93 -- train_loss: 0.2662 \n",
      "2023-08-30 12:40:06,495 - INFO - Epoch: 2/2, Iter: 27/93 -- train_loss: 0.2818 \n",
      "2023-08-30 12:40:06,868 - INFO - Epoch: 2/2, Iter: 28/93 -- train_loss: 0.2564 \n",
      "2023-08-30 12:40:07,248 - INFO - Epoch: 2/2, Iter: 29/93 -- train_loss: 0.2550 \n",
      "2023-08-30 12:40:07,622 - INFO - Epoch: 2/2, Iter: 30/93 -- train_loss: 0.2681 \n",
      "2023-08-30 12:40:07,992 - INFO - Epoch: 2/2, Iter: 31/93 -- train_loss: 0.2559 \n",
      "2023-08-30 12:40:08,365 - INFO - Epoch: 2/2, Iter: 32/93 -- train_loss: 0.2672 \n",
      "2023-08-30 12:40:08,751 - INFO - Epoch: 2/2, Iter: 33/93 -- train_loss: 0.2685 \n",
      "2023-08-30 12:40:09,124 - INFO - Epoch: 2/2, Iter: 34/93 -- train_loss: 0.2602 \n",
      "2023-08-30 12:40:09,737 - INFO - Epoch: 2/2, Iter: 35/93 -- train_loss: 0.2622 \n",
      "2023-08-30 12:40:10,111 - INFO - Epoch: 2/2, Iter: 36/93 -- train_loss: 0.2438 \n",
      "2023-08-30 12:40:10,488 - INFO - Epoch: 2/2, Iter: 37/93 -- train_loss: 0.2609 \n",
      "2023-08-30 12:40:10,863 - INFO - Epoch: 2/2, Iter: 38/93 -- train_loss: 0.2211 \n",
      "2023-08-30 12:40:11,236 - INFO - Epoch: 2/2, Iter: 39/93 -- train_loss: 0.2437 \n",
      "2023-08-30 12:40:11,609 - INFO - Epoch: 2/2, Iter: 40/93 -- train_loss: 0.2296 \n",
      "2023-08-30 12:40:11,989 - INFO - Epoch: 2/2, Iter: 41/93 -- train_loss: 0.2312 \n",
      "2023-08-30 12:40:12,361 - INFO - Epoch: 2/2, Iter: 42/93 -- train_loss: 0.2214 \n",
      "2023-08-30 12:40:12,733 - INFO - Epoch: 2/2, Iter: 43/93 -- train_loss: 0.2339 \n",
      "2023-08-30 12:40:13,112 - INFO - Epoch: 2/2, Iter: 44/93 -- train_loss: 0.2359 \n",
      "2023-08-30 12:40:13,492 - INFO - Epoch: 2/2, Iter: 45/93 -- train_loss: 0.2351 \n",
      "2023-08-30 12:40:13,868 - INFO - Epoch: 2/2, Iter: 46/93 -- train_loss: 0.2161 \n",
      "2023-08-30 12:40:14,238 - INFO - Epoch: 2/2, Iter: 47/93 -- train_loss: 0.2140 \n",
      "2023-08-30 12:40:14,617 - INFO - Epoch: 2/2, Iter: 48/93 -- train_loss: 0.2275 \n",
      "2023-08-30 12:40:14,999 - INFO - Epoch: 2/2, Iter: 49/93 -- train_loss: 0.2160 \n",
      "2023-08-30 12:40:15,373 - INFO - Epoch: 2/2, Iter: 50/93 -- train_loss: 0.1924 \n",
      "2023-08-30 12:40:15,751 - INFO - Epoch: 2/2, Iter: 51/93 -- train_loss: 0.2017 \n",
      "2023-08-30 12:40:16,135 - INFO - Epoch: 2/2, Iter: 52/93 -- train_loss: 0.1886 \n",
      "2023-08-30 12:40:16,516 - INFO - Epoch: 2/2, Iter: 53/93 -- train_loss: 0.2080 \n",
      "2023-08-30 12:40:16,890 - INFO - Epoch: 2/2, Iter: 54/93 -- train_loss: 0.1862 \n",
      "2023-08-30 12:40:17,264 - INFO - Epoch: 2/2, Iter: 55/93 -- train_loss: 0.2107 \n",
      "2023-08-30 12:40:17,636 - INFO - Epoch: 2/2, Iter: 56/93 -- train_loss: 0.1911 \n",
      "2023-08-30 12:40:18,012 - INFO - Epoch: 2/2, Iter: 57/93 -- train_loss: 0.1933 \n",
      "2023-08-30 12:40:18,389 - INFO - Epoch: 2/2, Iter: 58/93 -- train_loss: 0.1964 \n",
      "2023-08-30 12:40:18,759 - INFO - Epoch: 2/2, Iter: 59/93 -- train_loss: 0.1780 \n",
      "2023-08-30 12:40:19,134 - INFO - Epoch: 2/2, Iter: 60/93 -- train_loss: 0.1969 \n",
      "2023-08-30 12:40:19,510 - INFO - Epoch: 2/2, Iter: 61/93 -- train_loss: 0.2030 \n",
      "2023-08-30 12:40:19,890 - INFO - Epoch: 2/2, Iter: 62/93 -- train_loss: 0.1805 \n",
      "2023-08-30 12:40:20,262 - INFO - Epoch: 2/2, Iter: 63/93 -- train_loss: 0.1901 \n",
      "2023-08-30 12:40:20,635 - INFO - Epoch: 2/2, Iter: 64/93 -- train_loss: 0.1830 \n",
      "2023-08-30 12:40:21,012 - INFO - Epoch: 2/2, Iter: 65/93 -- train_loss: 0.1713 \n",
      "2023-08-30 12:40:21,385 - INFO - Epoch: 2/2, Iter: 66/93 -- train_loss: 0.1820 \n",
      "2023-08-30 12:40:21,756 - INFO - Epoch: 2/2, Iter: 67/93 -- train_loss: 0.1912 \n",
      "2023-08-30 12:40:22,154 - INFO - Epoch: 2/2, Iter: 68/93 -- train_loss: 0.1689 \n",
      "2023-08-30 12:40:22,529 - INFO - Epoch: 2/2, Iter: 69/93 -- train_loss: 0.1651 \n",
      "2023-08-30 12:40:22,900 - INFO - Epoch: 2/2, Iter: 70/93 -- train_loss: 0.1832 \n",
      "2023-08-30 12:40:23,270 - INFO - Epoch: 2/2, Iter: 71/93 -- train_loss: 0.1659 \n",
      "2023-08-30 12:40:23,643 - INFO - Epoch: 2/2, Iter: 72/93 -- train_loss: 0.1636 \n",
      "2023-08-30 12:40:24,017 - INFO - Epoch: 2/2, Iter: 73/93 -- train_loss: 0.1625 \n",
      "2023-08-30 12:40:24,389 - INFO - Epoch: 2/2, Iter: 74/93 -- train_loss: 0.1583 \n",
      "2023-08-30 12:40:24,759 - INFO - Epoch: 2/2, Iter: 75/93 -- train_loss: 0.1654 \n",
      "2023-08-30 12:40:25,131 - INFO - Epoch: 2/2, Iter: 76/93 -- train_loss: 0.1575 \n",
      "2023-08-30 12:40:25,506 - INFO - Epoch: 2/2, Iter: 77/93 -- train_loss: 0.1678 \n",
      "2023-08-30 12:40:25,879 - INFO - Epoch: 2/2, Iter: 78/93 -- train_loss: 0.1731 \n",
      "2023-08-30 12:40:26,249 - INFO - Epoch: 2/2, Iter: 79/93 -- train_loss: 0.1732 \n",
      "2023-08-30 12:40:26,620 - INFO - Epoch: 2/2, Iter: 80/93 -- train_loss: 0.1535 \n",
      "2023-08-30 12:40:26,995 - INFO - Epoch: 2/2, Iter: 81/93 -- train_loss: 0.1750 \n",
      "2023-08-30 12:40:27,367 - INFO - Epoch: 2/2, Iter: 82/93 -- train_loss: 0.1701 \n",
      "2023-08-30 12:40:27,737 - INFO - Epoch: 2/2, Iter: 83/93 -- train_loss: 0.1671 \n",
      "2023-08-30 12:40:28,109 - INFO - Epoch: 2/2, Iter: 84/93 -- train_loss: 0.1661 \n",
      "2023-08-30 12:40:28,487 - INFO - Epoch: 2/2, Iter: 85/93 -- train_loss: 0.1436 \n",
      "2023-08-30 12:40:28,858 - INFO - Epoch: 2/2, Iter: 86/93 -- train_loss: 0.1486 \n",
      "2023-08-30 12:40:29,229 - INFO - Epoch: 2/2, Iter: 87/93 -- train_loss: 0.1446 \n",
      "2023-08-30 12:40:29,601 - INFO - Epoch: 2/2, Iter: 88/93 -- train_loss: 0.1411 \n",
      "2023-08-30 12:40:29,976 - INFO - Epoch: 2/2, Iter: 89/93 -- train_loss: 0.1547 \n",
      "2023-08-30 12:40:30,346 - INFO - Epoch: 2/2, Iter: 90/93 -- train_loss: 0.1410 \n",
      "2023-08-30 12:40:30,718 - INFO - Epoch: 2/2, Iter: 91/93 -- train_loss: 0.1753 \n",
      "2023-08-30 12:40:31,088 - INFO - Epoch: 2/2, Iter: 92/93 -- train_loss: 0.1475 \n",
      "2023-08-30 12:40:31,202 - INFO - Epoch: 2/2, Iter: 93/93 -- train_loss: 0.1644 \n",
      "2023-08-30 12:40:31,202 - ignite.engine.engine.SupervisedEvaluator - INFO - Engine run resuming from iteration 0, epoch 1 until 2 epochs\n",
      "2023-08-30 12:40:40,084 - ignite.engine.engine.SupervisedEvaluator - INFO - Got new best metric of accuracy: 0.9945151258128357\n",
      "2023-08-30 12:40:40,084 - INFO - Epoch[2] Metrics -- accuracy: 0.9945 \n",
      "2023-08-30 12:40:40,084 - INFO - Key metric: accuracy best value: 0.9945151258128357 at epoch: 2\n",
      "2023-08-30 12:40:40,084 - ignite.engine.engine.SupervisedEvaluator - INFO - Epoch[2] Complete. Time taken: 00:00:08.764\n",
      "2023-08-30 12:40:40,084 - ignite.engine.engine.SupervisedEvaluator - INFO - Engine run complete. Time taken: 00:00:08.882\n",
      "2023-08-30 12:40:40,233 - ignite.engine.engine.SupervisedTrainer - INFO - Saved checkpoint at epoch: 2\n",
      "2023-08-30 12:40:40,233 - ignite.engine.engine.SupervisedTrainer - INFO - Epoch[2] Complete. Time taken: 00:00:44.072\n",
      "2023-08-30 12:40:40,318 - ignite.engine.engine.SupervisedTrainer - INFO - Train completed, saved final checkpoint: output/output_230830_123911/model_final_iteration=186.pt\n",
      "2023-08-30 12:40:40,318 - ignite.engine.engine.SupervisedTrainer - INFO - Engine run complete. Time taken: 00:01:28.998\n"
     ]
    }
   ],
   "source": [
    "%%bash\n",
    "\n",
    "BUNDLE=\"./MedNISTClassifier_v2\"\n",
    "\n",
    "python -m monai.bundle run train \\\n",
    "    --bundle_root \"$BUNDLE\" \\\n",
    "    --logging_file \"$BUNDLE/configs/logging.conf\" \\\n",
    "    --meta_file \"$BUNDLE/configs/metadata.json\" \\\n",
    "    --config_file \"['$BUNDLE/configs/common.yaml','$BUNDLE/configs/train.yaml']\" \\\n",
    "    --max_epochs 2"
   ]
  },
  {
   "cell_type": "markdown",
   "id": "627bf8a5-1524-425f-93f8-28e217f2adec",
   "metadata": {},
   "source": [
    "Results and logs get put into unique timestamped directories:"
   ]
  },
  {
   "cell_type": "code",
   "execution_count": 26,
   "id": "00c84e2c-1709-4136-8612-87142026ac2e",
   "metadata": {},
   "outputs": [
    {
     "name": "stdout",
     "output_type": "stream",
     "text": [
      "\u001b[01;34moutput/output_230830_123911/\u001b[00m\n",
      "├── log.txt\n",
      "├── model_epoch=1.pt\n",
      "├── model_epoch=2.pt\n",
      "└── model_final_iteration=186.pt\n",
      "\n",
      "0 directories, 4 files\n"
     ]
    }
   ],
   "source": [
    "!tree output/output_230830_123911/"
   ]
  },
  {
   "cell_type": "markdown",
   "id": "5705ff79-fe58-410a-bb93-80b4f3fa2ea2",
   "metadata": {},
   "source": [
    "## Inference\n",
    "\n",
    "What is also needed is an inference script which will apply a loaded network to every image in a given directory and write a result to a file or to the log output. For segmentation networks this should save generated segmentations to know locations, but for this classification network we'll stick to just printing results to the log. \n",
    "\n",
    "First thing to do is create a test directory with only a few test images so we can demonstrate inference quickly:"
   ]
  },
  {
   "cell_type": "code",
   "execution_count": 38,
   "id": "3a957503-39e4-4f73-a989-ce6e4e2d3e9e",
   "metadata": {},
   "outputs": [
    {
     "name": "stderr",
     "output_type": "stream",
     "text": [
      "Loading dataset: 100%|██████████| 5895/5895 [00:03<00:00, 1771.10it/s]\n"
     ]
    },
    {
     "name": "stdout",
     "output_type": "stream",
     "text": [
      "MedNIST/AbdomenCT/001990.jpeg Label: 0\n",
      "MedNIST/BreastMRI/007676.jpeg Label: 1\n",
      "MedNIST/ChestCT/006763.jpeg Label: 3\n",
      "MedNIST/CXR/001214.jpeg Label: 2\n",
      "MedNIST/Hand/004427.jpeg Label: 4\n",
      "MedNIST/HeadCT/003806.jpeg Label: 5\n",
      "MedNIST/HeadCT/004638.jpeg Label: 5\n",
      "MedNIST/CXR/005013.jpeg Label: 2\n",
      "MedNIST/ChestCT/008275.jpeg Label: 3\n",
      "MedNIST/BreastMRI/000630.jpeg Label: 1\n",
      "MedNIST/BreastMRI/007547.jpeg Label: 1\n",
      "MedNIST/BreastMRI/008425.jpeg Label: 1\n",
      "MedNIST/AbdomenCT/003981.jpeg Label: 0\n",
      "MedNIST/Hand/001130.jpeg Label: 4\n",
      "MedNIST/BreastMRI/005118.jpeg Label: 1\n",
      "MedNIST/CXR/006505.jpeg Label: 2\n",
      "MedNIST/ChestCT/008218.jpeg Label: 3\n",
      "MedNIST/HeadCT/005305.jpeg Label: 5\n",
      "MedNIST/AbdomenCT/007871.jpeg Label: 0\n",
      "MedNIST/Hand/007065.jpeg Label: 4\n"
     ]
    }
   ],
   "source": [
    "root_dir = \".\"  # assuming MedNIST was downloaded to the current directory\n",
    "num_images = 20\n",
    "dataset = MedNISTDataset(root_dir=root_dir, section=\"test\", download=False)\n",
    "\n",
    "!mkdir -p test_images\n",
    "\n",
    "for i in range(num_images):\n",
    "    filename = dataset[i][\"image_meta_dict\"][\"filename_or_obj\"]\n",
    "    print(filename, \"Label:\", dataset[i][\"label\"])\n",
    "    !cp {root_dir}/{filename} test_images"
   ]
  },
  {
   "cell_type": "markdown",
   "id": "0044efdc-6c5e-479c-880b-acd9e7ab4fea",
   "metadata": {
    "tags": []
   },
   "source": [
    "Next remove the existing example inference script:"
   ]
  },
  {
   "cell_type": "code",
   "execution_count": 5,
   "id": "7f800520-f29f-4b80-9af4-5e069f97824b",
   "metadata": {
    "tags": []
   },
   "outputs": [],
   "source": [
    "!rm \"MedNISTClassifier_v2/configs/inference.json\""
   ]
  },
  {
   "cell_type": "markdown",
   "id": "ef85014c-d1eb-4a93-911b-f405eac74094",
   "metadata": {},
   "source": [
    "Next we'll create the inference script which will apply the network to all the files in the given directory (thus assuming all are images) and save the results to a csv file:"
   ]
  },
  {
   "cell_type": "code",
   "execution_count": 90,
   "id": "3c5556db-2e63-484c-9358-977b4c35d60f",
   "metadata": {},
   "outputs": [
    {
     "name": "stdout",
     "output_type": "stream",
     "text": [
      "Overwriting MedNISTClassifier_v2/configs/inference.yaml\n"
     ]
    }
   ],
   "source": [
    "%%writefile MedNISTClassifier_v2/configs/inference.yaml\n",
    "\n",
    "imports:\n",
    "- $import glob\n",
    "\n",
    "input_dir: 'input'\n",
    "# dataset is a list of dictionaries to work with dictionary transforms\n",
    "input_files: '$[{@image: f} for f in sorted(glob.glob(@input_dir+''/*.*''))]'\n",
    "\n",
    "infer_dataset:\n",
    "  _target_: Dataset\n",
    "  data: '@input_files'\n",
    "  transform: \n",
    "    _target_: Compose\n",
    "    transforms: '@train_transforms'\n",
    "\n",
    "infer_dl:\n",
    "  _target_: DataLoader\n",
    "  dataset: '@infer_dataset'\n",
    "  batch_size: 1\n",
    "  shuffle: false\n",
    "  num_workers: 0\n",
    "\n",
    "# transforms applied to network output, same as those in training except \"label\" isn't present\n",
    "post_transform:\n",
    "  _target_: Compose\n",
    "  transforms:\n",
    "  - _target_: Activationsd\n",
    "    keys: '@pred'\n",
    "    softmax: true \n",
    "  - _target_: AsDiscreted\n",
    "    keys: ['@pred']\n",
    "    argmax: true \n",
    "\n",
    "# handlers to load the checkpoint file (and fail if a file isn't found), and save classification results to a csv file\n",
    "handlers:\n",
    "- _target_: CheckpointLoader\n",
    "  load_path: '@ckpt_path'\n",
    "  load_dict:\n",
    "    model: '@net'\n",
    "- _target_: ClassificationSaver\n",
    "  batch_transform: '$lambda batch: batch[0][@image].meta'\n",
    "  output_transform: '$monai.handlers.from_engine([''pred''])'\n",
    "\n",
    "inferer: \n",
    "  _target_: SimpleInferer\n",
    "\n",
    "evaluator:\n",
    "  _target_: SupervisedEvaluator\n",
    "  device: '@device'\n",
    "  val_data_loader: '@infer_dl'\n",
    "  network: '@net'\n",
    "  inferer: '@inferer'\n",
    "  postprocessing: '@post_transform'\n",
    "  val_handlers: '@handlers'\n",
    "\n",
    "inference:\n",
    "- '$@evaluator.run()'"
   ]
  },
  {
   "cell_type": "markdown",
   "id": "5e9a706a-b135-4943-8245-0da8d5dad415",
   "metadata": {},
   "source": [
    "Inference can now be run, specifying the checkpoint file to load as being one from our training run and the input directory as \"test_images\" which was created above:"
   ]
  },
  {
   "cell_type": "code",
   "execution_count": 6,
   "id": "acdcc111-f259-4701-8b1d-31fcf74398bc",
   "metadata": {},
   "outputs": [
    {
     "name": "stdout",
     "output_type": "stream",
     "text": [
      "2023-09-07 16:20:16,087 - INFO - --- input summary of monai.bundle.scripts.run ---\n",
      "2023-09-07 16:20:16,087 - INFO - > run_id: 'inference'\n",
      "2023-09-07 16:20:16,087 - INFO - > meta_file: './MedNISTClassifier_v2/configs/metadata.json'\n",
      "2023-09-07 16:20:16,087 - INFO - > config_file: ['./MedNISTClassifier_v2/configs/common.yaml',\n",
      " './MedNISTClassifier_v2/configs/inference.yaml']\n",
      "2023-09-07 16:20:16,087 - INFO - > logging_file: './MedNISTClassifier_v2/configs/logging.conf'\n",
      "2023-09-07 16:20:16,087 - INFO - > bundle_root: './MedNISTClassifier_v2'\n",
      "2023-09-07 16:20:16,087 - INFO - > ckpt_path: 'output/output_230830_123911/model_final_iteration=186.pt'\n",
      "2023-09-07 16:20:16,087 - INFO - > input_dir: 'test_images'\n",
      "2023-09-07 16:20:16,087 - INFO - ---\n",
      "\n",
      "\n",
      "2023-09-07 16:20:16,088 - INFO - Setting logging properties based on config: ./MedNISTClassifier_v2/configs/logging.conf.\n",
      "2023-09-07 16:20:16,487 - ignite.engine.engine.SupervisedEvaluator - INFO - Engine run resuming from iteration 0, epoch 0 until 1 epochs\n",
      "2023-09-07 16:20:16,598 - ignite.engine.engine.SupervisedEvaluator - INFO - Restored all variables from output/output_230830_123911/model_final_iteration=186.pt\n",
      "2023-09-07 16:20:17,836 - ignite.engine.engine.SupervisedEvaluator - INFO - Epoch[1] Complete. Time taken: 00:00:01.237\n",
      "2023-09-07 16:20:17,837 - ignite.engine.engine.SupervisedEvaluator - INFO - Engine run complete. Time taken: 00:00:01.350\n"
     ]
    }
   ],
   "source": [
    "%%bash\n",
    "\n",
    "BUNDLE=\"./MedNISTClassifier_v2\"\n",
    "\n",
    "python -m monai.bundle run inference \\\n",
    "    --bundle_root \"$BUNDLE\" \\\n",
    "    --logging_file \"$BUNDLE/configs/logging.conf\" \\\n",
    "    --meta_file \"$BUNDLE/configs/metadata.json\" \\\n",
    "    --config_file \"['$BUNDLE/configs/common.yaml','$BUNDLE/configs/inference.yaml']\" \\\n",
    "    --ckpt_path 'output/output_230830_123911/model_final_iteration=186.pt' \\\n",
    "    --input_dir test_images "
   ]
  },
  {
   "cell_type": "markdown",
   "id": "955faa08-0552-4bff-ba84-238e9a404f62",
   "metadata": {},
   "source": [
    "This will save the results of the inference to \"predictions.csv\" by default. You can change what the output filename is with an argument like `'--handlers#1#filename' pred.csv` which will directly change the `filename` parameter of the appropriate handler. Note the single quotes around the argument name since the hash sigil is interpreted by Bash as a comment otherwise.\n",
    "\n",
    "Looking at the output, the results aren't terribly legible:"
   ]
  },
  {
   "cell_type": "code",
   "execution_count": 88,
   "id": "4a695039-7a53-4f9a-9754-769a9f8ebac8",
   "metadata": {},
   "outputs": [
    {
     "name": "stdout",
     "output_type": "stream",
     "text": [
      "test_images/000630.jpeg,1.0\n",
      "test_images/001130.jpeg,4.0\n",
      "test_images/001214.jpeg,2.0\n",
      "test_images/001990.jpeg,0.0\n",
      "test_images/003806.jpeg,5.0\n",
      "test_images/003981.jpeg,0.0\n",
      "test_images/004427.jpeg,4.0\n",
      "test_images/004638.jpeg,5.0\n",
      "test_images/005013.jpeg,2.0\n",
      "test_images/005118.jpeg,1.0\n",
      "test_images/005305.jpeg,5.0\n",
      "test_images/006505.jpeg,2.0\n",
      "test_images/006763.jpeg,3.0\n",
      "test_images/007065.jpeg,4.0\n",
      "test_images/007547.jpeg,1.0\n",
      "test_images/007676.jpeg,1.0\n",
      "test_images/007871.jpeg,0.0\n",
      "test_images/008218.jpeg,3.0\n",
      "test_images/008275.jpeg,3.0\n",
      "test_images/008425.jpeg,1.0\n"
     ]
    }
   ],
   "source": [
    "!cat predictions.csv"
   ]
  },
  {
   "cell_type": "markdown",
   "id": "a231c937-9ced-4a6d-b01c-3bc9a128fd62",
   "metadata": {},
   "source": [
    "The second column is the predicted class which we can use as an index into our list of class names to get something more readable:"
   ]
  },
  {
   "cell_type": "code",
   "execution_count": 121,
   "id": "1065f928-3f66-47af-aed4-be2f0443cf2f",
   "metadata": {},
   "outputs": [
    {
     "name": "stdout",
     "output_type": "stream",
     "text": [
      "test_images/000630.jpeg BreastMRI\n",
      "test_images/001130.jpeg Hand\n",
      "test_images/001214.jpeg CXR\n",
      "test_images/001990.jpeg AbdomenCT\n",
      "test_images/003806.jpeg HeadCT\n",
      "test_images/003981.jpeg AbdomenCT\n",
      "test_images/004427.jpeg Hand\n",
      "test_images/004638.jpeg HeadCT\n",
      "test_images/005013.jpeg CXR\n",
      "test_images/005118.jpeg BreastMRI\n",
      "test_images/005305.jpeg HeadCT\n",
      "test_images/006505.jpeg CXR\n",
      "test_images/006763.jpeg ChestCT\n",
      "test_images/007065.jpeg Hand\n",
      "test_images/007547.jpeg BreastMRI\n",
      "test_images/007676.jpeg BreastMRI\n",
      "test_images/007871.jpeg AbdomenCT\n",
      "test_images/008218.jpeg ChestCT\n",
      "test_images/008275.jpeg ChestCT\n",
      "test_images/008425.jpeg BreastMRI\n"
     ]
    }
   ],
   "source": [
    "class_names = [\"AbdomenCT\", \"BreastMRI\", \"CXR\", \"ChestCT\", \"Hand\", \"HeadCT\"]\n",
    "\n",
    "for fn, idx in np.loadtxt(\"predictions.csv\", delimiter=\",\", dtype=str):\n",
    "    print(fn, class_names[int(float(idx))])"
   ]
  },
  {
   "cell_type": "markdown",
   "id": "235e90b9-9209-4a58-885d-042ab55c9c18",
   "metadata": {},
   "source": [
    "## Putting the Bundle Together\n",
    "\n",
    "We have a checkpoint for our network which produces good results that we can now make the \"official\" shared weights for the bundle. We need to copy the checkpoint into the `models` directory and optionally produce a Torchscript version of the network. \n",
    "\n",
    "For the Torchscript convertion MONAI provides the `ckpt_export` program in the bundles submodule:"
   ]
  },
  {
   "cell_type": "code",
   "execution_count": 7,
   "id": "c6672caa-fd51-4dde-a31d-5c4de8c3cc1d",
   "metadata": {
    "tags": []
   },
   "outputs": [
    {
     "name": "stdout",
     "output_type": "stream",
     "text": [
      "2023-09-07 16:20:25,463 - INFO - --- input summary of monai.bundle.scripts.ckpt_export ---\n",
      "2023-09-07 16:20:25,463 - INFO - > net_id: 'network_def'\n",
      "2023-09-07 16:20:25,463 - INFO - > filepath: './MedNISTClassifier_v2/models/model.ts'\n",
      "2023-09-07 16:20:25,463 - INFO - > meta_file: './MedNISTClassifier_v2/configs/metadata.json'\n",
      "2023-09-07 16:20:25,463 - INFO - > config_file: ['./MedNISTClassifier_v2/configs/common.yaml',\n",
      " './MedNISTClassifier_v2/configs/inference.yaml']\n",
      "2023-09-07 16:20:25,463 - INFO - > ckpt_file: './MedNISTClassifier_v2/models/model.pt'\n",
      "2023-09-07 16:20:25,463 - INFO - > key_in_ckpt: 'model'\n",
      "2023-09-07 16:20:25,463 - INFO - > bundle_root: './MedNISTClassifier_v2'\n",
      "2023-09-07 16:20:25,463 - INFO - ---\n",
      "\n",
      "\n",
      "2023-09-07 16:20:28,048 - INFO - exported to file: ./MedNISTClassifier_v2/models/model.ts.\n",
      "\u001b[01;34m./MedNISTClassifier_v2\u001b[00m\n",
      "├── \u001b[01;34mconfigs\u001b[00m\n",
      "│   ├── common.yaml\n",
      "│   ├── inference.yaml\n",
      "│   ├── logging.conf\n",
      "│   ├── metadata.json\n",
      "│   └── train.yaml\n",
      "├── \u001b[01;34mdocs\u001b[00m\n",
      "│   └── README.md\n",
      "├── LICENSE\n",
      "└── \u001b[01;34mmodels\u001b[00m\n",
      "    ├── model.pt\n",
      "    └── model.ts\n",
      "\n",
      "3 directories, 9 files\n"
     ]
    }
   ],
   "source": [
    "%%bash\n",
    "\n",
    "BUNDLE=\"./MedNISTClassifier_v2\"\n",
    "\n",
    "cp \"output/output_230830_123911/model_final_iteration=186.pt\" \"$BUNDLE/models/model.pt\"\n",
    "\n",
    "python -m monai.bundle ckpt_export \\\n",
    "    --bundle_root \"$BUNDLE\" \\\n",
    "    --meta_file \"$BUNDLE/configs/metadata.json\" \\\n",
    "    --config_file \"['$BUNDLE/configs/common.yaml','$BUNDLE/configs/inference.yaml']\" \\\n",
    "    --net_id network_def \\\n",
    "    --key_in_ckpt model \\\n",
    "    --ckpt_file \"$BUNDLE/models/model.pt\" \\\n",
    "    --filepath \"$BUNDLE/models/model.ts\" \n",
    "\n",
    "which tree && tree \"$BUNDLE\""
   ]
  },
  {
   "cell_type": "markdown",
   "id": "8def15f8-d0dc-4ed0-8bf7-669e0720ac81",
   "metadata": {},
   "source": [
    "This will have produced the `model.ts` file in `models` as shown here which can be loaded in Python without the bundle config scripts like any other Torchscript object.\n",
    "\n",
    "The arguments for the `ckpt_export` command specify the components to use in the config files and the checkpoint:\n",
    "* `bundle_root`, `meta_file`, and `config_file` are as in previous usages.\n",
    "* `net_id` specifies the object in the config files which represents the network definition, ie. the instantiated network object.\n",
    "* `key_in_ckpt` names the key under which the weights for the model are found in the checkpoint, this assumes the checkpoint is a dictionary which is what `CheckpointSaver` produces, if this file isn't a dictionary omit this argument.\n",
    "* `ckpt_file` the name of the checkpoint file itself\n",
    "* `filepath` the output filename to store the Torchscript object to."
   ]
  },
  {
   "cell_type": "markdown",
   "id": "18a62139-8a21-4bb9-96d4-e86d61298c40",
   "metadata": {},
   "source": [
    "## Summary and Next\n",
    "\n",
    "This tutorial has covered MONAI Bundle best practices:\n",
    "  * Separate common definition config files which are combined with specific application files\n",
    "  * Separating out definitions in config files for easier reading and changes\n",
    "  * Using Engine based classes for traning and validation\n",
    "  * Simple training run management with uniquely-created results directories\n",
    "  * Inference script to generate a results csv file containing predictions\n",
    "  \n",
    "The next tutorial will discuss creating bundles to wrap pre-existing Pytorch code so that you can get code into the bundle ecosystem without rewriting the world."
   ]
  }
 ],
 "metadata": {
  "kernelspec": {
   "display_name": "Python [conda env:monai]",
   "language": "python",
   "name": "conda-env-monai-py"
  },
  "language_info": {
   "codemirror_mode": {
    "name": "ipython",
    "version": 3
   },
   "file_extension": ".py",
   "mimetype": "text/x-python",
   "name": "python",
   "nbconvert_exporter": "python",
   "pygments_lexer": "ipython3",
   "version": "3.10.10"
  }
 },
 "nbformat": 4,
 "nbformat_minor": 5
}
