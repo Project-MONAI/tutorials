{
 "cells": [
  {
   "cell_type": "markdown",
   "id": "7b50dffd",
   "metadata": {},
   "source": [
    "\n",
    "Copyright (c) MONAI Consortium  \n",
    "Licensed under the Apache License, Version 2.0 (the \"License\");  \n",
    "you may not use this file except in compliance with the License.  \n",
    "You may obtain a copy of the License at  \n",
    "&nbsp;&nbsp;&nbsp;&nbsp;http://www.apache.org/licenses/LICENSE-2.0  \n",
    "Unless required by applicable law or agreed to in writing, software  \n",
    "distributed under the License is distributed on an \"AS IS\" BASIS,  \n",
    "WITHOUT WARRANTIES OR CONDITIONS OF ANY KIND, either express or implied.  \n",
    "See the License for the specific language governing permissions and  \n",
    "limitations under the License.  \n",
    "\n",
    "# Calling Vista-3D NIM on NVAIE\n",
    "\n",
    "In this tutorial, we will cover the following:\n",
    "\n",
    "- **Convert image to Nifty format:** The Vista-3D NIM requires files to be in compressed nifty (.nii.gz) format.  We use ITK to convert DICOM and other file formats to nifty.\n",
    "\n",
    "- **Create a single-use URL to the image:** We use the website file.io to provide a single-use URL for our image.  The Vista-3D NIM requires a URL to the image to be processed.  File.io provides an API for receiving a file and returning a one-time use URL to that file.\n",
    "\n",
    "- **Communicate with the Vista-3D NIM on NVAIE:** The Vista-3D NIM can be downloaded and run locally, but herein we are running it on the NVIDIA AI Enterprise (NVAIE) / NVIDIA GPU Cloud (NGC) servers.  You can get free NVAIE/NGC credits and an API Key for remotely accessing those servers by registering at https://build.nvidia.com/nvidia/vista-3d.  Also, you can apply for unlimited access as a researcher by joining the (free) NVIDIA Developer Program: https://developer.nvidia.com/join-nvidia-developer-program\n",
    "\n",
    "- **Visualize and/or save the results:** We provide pyvista for visualization and use ITK to save the results in any of a variety of image formats.\n",
    "\n",
    "Learn more about the Vista-3D foundation model for 3D CT segmentation:<br>\n",
    "https://arxiv.org/abs/2304.02643\n",
    "\n",
    "Learn more about NIMs:<br>\n",
    "https://www.nvidia.com/en-us/ai/"
   ]
  },
  {
   "cell_type": "markdown",
   "id": "b1fc03f5",
   "metadata": {},
   "source": [
    "\n",
    "## Obtaining an NVIDIA AI Enterprise / NVIDIA GPU Cloud (NVAIE/NGC) API Key\n",
    "\n",
    "This demonstration runs the Vista-3D NIM (AI container) on the NVIDIA AI Enterprise servers, so an API key is required.  The good news is that any individual can get an API key and 1,000 to 5,000 free credits (processing one image requires one credit) when they first sign-up at:\n",
    "\n",
    "- https://build.nvidia.com/nvidia/vista-3d\n",
    "\n",
    "Also, you can apply for unlimited local access as a researcher by joining the (free) NVIDIA Developer Program:\n",
    "\n",
    "- https://developer.nvidia.com/join-nvidia-developer-program\n",
    "\n",
    "This API Key is specific to your account at NVIDIA.\n",
    "\n",
    "We recommend storing and accessing your personal/private API key as an environment variable, rather than embedding it within your code where it may be accidentally shared with or viewed by others.  For example, in bash you can run this command in your environment or embed it into your ~/.bashrc file:\n",
    "\n",
    " `export NGC_API_KEY=<your key here>`\n",
    "\n",
    "and then launch jupyter lab / vscode to run this notebook."
   ]
  },
  {
   "cell_type": "markdown",
   "id": "1f78537f",
   "metadata": {},
   "source": [
    "## Setup environment\n",
    "\n",
    "- `itk`: used to support a variety of image file formats and to convert images for viewing via pyvista.\n",
    "    - Learn more at https://github.com/InsightSoftwareConsortium/ITK\n",
    "- `pyvista`: provides 2D and 3D scientific visualizations, compatible with VSCode and most jupyter notebook/lab systems\n",
    "    - The `trame` option is used to provide interactive rendering support.\n",
    "    - Learn more at https://docs.pyvista.org/ "
   ]
  },
  {
   "cell_type": "code",
   "execution_count": 1,
   "id": "beab0aef",
   "metadata": {},
   "outputs": [],
   "source": [
    "!python -c \"import itk\" || pip install -q \"itk\"\n",
    "!python -c \"import pyvista\" || ipywidgets 'pyvista[all,trame]'"
   ]
  },
  {
   "cell_type": "markdown",
   "id": "24ff5fb5",
   "metadata": {},
   "source": [
    "## Setup imports"
   ]
  },
  {
   "cell_type": "code",
   "execution_count": 2,
   "id": "3ce61753-11ad-4ade-9afe-6ad1bc748e25",
   "metadata": {},
   "outputs": [],
   "source": [
    "import io\n",
    "import os\n",
    "import requests\n",
    "import tempfile\n",
    "import zipfile\n",
    "\n",
    "import itk\n",
    "import pyvista as pv"
   ]
  },
  {
   "cell_type": "markdown",
   "id": "c301afd1",
   "metadata": {},
   "source": [
    "## Upload a file to file.io and return its URL\n",
    "\n",
    "https://file.io provides a single-use URL to access uploaded files.\n",
    "- This service is free.\n",
    "- The file is deleted once it is downloaded using the URL.\n",
    "\n",
    "__Note:__ The Vista-3D NIM on NVAIE has a firewall that limits it to receiving input images from AWS and https://file.io.   You cannot upload images from any other service or from your own system.   Once registered, you can download the Vista-3D NIM and use it to process data using local GPU resources and without input image source restrictions."
   ]
  },
  {
   "cell_type": "code",
   "execution_count": 3,
   "id": "adc99c7a-94f0-400a-afbf-70321362ded9",
   "metadata": {},
   "outputs": [],
   "source": [
    "def post_image_to_fileio(input_image: itk.Image) -> str:\n",
    "    \"\"\"Post an image to file.io and return the link.\"\"\"\n",
    "\n",
    "    # Save the image to a temporary file\n",
    "    # Note: The Vista-3D NIM on NVAIE is limited to reading .nii.gz files\n",
    "    tmp_dir = tempfile.mkdtemp()\n",
    "    tmp_filename = os.path.join(tmp_dir, \"tmp.nii.gz\")\n",
    "    itk.imwrite(input_image, tmp_filename)\n",
    "\n",
    "    # Upload the file\n",
    "    with open(os.path.join(tmp_filename), \"rb\") as f:\n",
    "        res = requests.post(\"https://file.io/\", files={\"file\": f})\n",
    "    if res.status_code != 200:\n",
    "        raise RuntimeError(f\"Cannot upload file. The response {res}.\")\n",
    "\n",
    "    # Get the link\n",
    "    res = res.json()\n",
    "    link = res[\"link\"]\n",
    "\n",
    "    return link"
   ]
  },
  {
   "cell_type": "markdown",
   "id": "3148eb4b",
   "metadata": {},
   "source": [
    "## Communicate with the Vista-3D NIM on NVAIE\n",
    "\n",
    "Run the Vista-3D segmentation on given image.\n",
    "\n",
    "Vista-3D expects images to be 1.5mm isotropic CT scans of large sections of the human body.  Only rudimentary checks are performed to verify these requirements."
   ]
  },
  {
   "cell_type": "code",
   "execution_count": 4,
   "id": "822b918b-382a-42e1-a174-080b90f14d24",
   "metadata": {},
   "outputs": [],
   "source": [
    "def nvaie_vista3d_nim(api_key: str, input_image: itk.Image) -> list:\n",
    "    \"\"\"Run the MONAI VISTA 3D model on the input image and return the result.\"\"\"\n",
    "\n",
    "    # The API endpoint for the MONAI VISTA 3D model on NVIDIA AI Enterprise\n",
    "    invoke_url = \"https://health.api.nvidia.com/v1/medicalimaging/nvidia/vista-3d\"\n",
    "\n",
    "    # Check the input image\n",
    "    assert len(input_image.GetSpacing()) == 3, \"The input image must be 3D.\"\n",
    "    isotropy = (\n",
    "        (input_image.GetSpacing()[1] / input_image.GetSpacing()[0])\n",
    "        + (input_image.GetSpacing()[2] / input_image.GetSpacing()[0])\n",
    "    ) / 2\n",
    "    if isotropy < 0.9 or isotropy > 1.1 or input_image.GetSpacing()[0] != 1.5:\n",
    "        print(\"WARNING: The input image should have 1.5 mm isotropic spacing.  Performance will be degraded.\")\n",
    "        print(\"    The input image has spacing:\", input_image.GetSpacing())\n",
    "    input_image_arr = itk.array_view_from_image(input_image)\n",
    "    minv = input_image_arr.min()\n",
    "    maxv = input_image_arr.max()\n",
    "    if minv < -1024 or maxv > 3071:\n",
    "        print(\"WARNING: Input image intensities should within [-1024, 3071].  Performance will be degraded.\")\n",
    "        print(\"    The input image has Hounsfield Units in the range:\", [minv, maxv])\n",
    "\n",
    "    # Post the image to file.io and get the link\n",
    "    input_image_url = post_image_to_fileio(input_image)\n",
    "\n",
    "    # Define the header and payload for the API call\n",
    "    header = {\n",
    "        \"Authorization\": \"Bearer \" + api_key,\n",
    "    }\n",
    "\n",
    "    payload = {\n",
    "        \"image\": input_image_url,\n",
    "        # Optionally limited processing to specific classes\n",
    "        # \"prompts\": {\n",
    "        #    \"classes\": [\"liver\", \"spleen\"]\n",
    "        # }\n",
    "    }\n",
    "\n",
    "    # Call the API\n",
    "    session = requests.Session()\n",
    "    response = session.post(invoke_url, headers=header, json=payload)\n",
    "\n",
    "    # Check the response\n",
    "    response.raise_for_status()\n",
    "\n",
    "    # Get the result\n",
    "    with tempfile.TemporaryDirectory() as temp_dir:\n",
    "        z = zipfile.ZipFile(io.BytesIO(response.content))\n",
    "        z.extractall(temp_dir)\n",
    "        file_list = os.listdir(temp_dir)\n",
    "        for filename in file_list:\n",
    "            filepath = os.path.join(temp_dir, filename)\n",
    "            if os.path.isfile(filepath) and filename.endswith(\".nrrd\"):\n",
    "                # SUCCESS: Return the results\n",
    "                return itk.imread(filepath, pixel_type=itk.SS)\n",
    "\n",
    "    # FAILURE: Return None\n",
    "    return None"
   ]
  },
  {
   "cell_type": "markdown",
   "id": "7559d64f",
   "metadata": {},
   "source": [
    "## Retrieve NVAIE / NGC API Key\n",
    "\n",
    "See documentation at the start of this notebook on how to obtain an API key and store it as an environment variable."
   ]
  },
  {
   "cell_type": "code",
   "execution_count": 5,
   "id": "41a4939f-71d3-4081-b383-40b4ed7c1be1",
   "metadata": {},
   "outputs": [],
   "source": [
    "ngc_api_key = os.environ[\"NGC_API_KEY\"]\n",
    "\n",
    "if ngc_api_key == \"\":\n",
    "    raise ValueError(\"Please set the NGC_API_KEY environment variable.\")"
   ]
  },
  {
   "cell_type": "markdown",
   "id": "6a6adf55",
   "metadata": {},
   "source": [
    "## Specify the filename of the image to process\n",
    "\n",
    "Provide the path to the file via the `input_image_filename` variable, or a default image (\\\"vista3d-example-1.nii.gz\\\") will be downloaded and cached in the MONAI_DATA_DIRECTORY (defined by an environment variable) or in a temporary directory."
   ]
  },
  {
   "cell_type": "code",
   "execution_count": 6,
   "id": "9d2e5d21",
   "metadata": {},
   "outputs": [],
   "source": [
    "input_image_filename = None\n",
    "\n",
    "if input_image_filename is None:\n",
    "    monai_data_directory = os.environ.get(\"MONAI_DATA_DIRECTORY\")\n",
    "    if monai_data_directory is not None:\n",
    "        os.makedirs(monai_data_directory, exist_ok=True)\n",
    "    else:\n",
    "        monai_data_directory = tempfile.mkdtemp()\n",
    "    input_image_filename = os.path.join(monai_data_directory, \"vista3d-example-1.nii.gz\")\n",
    "    if not os.path.exists(input_image_filename):\n",
    "        resp = requests.get(\"https://assets.ngc.nvidia.com/products/api-catalog/vista3d/example-1.nii.gz\")\n",
    "        with open(input_image_filename, \"wb\") as f:\n",
    "            f.write(resp.content)"
   ]
  },
  {
   "cell_type": "markdown",
   "id": "2eb2918f",
   "metadata": {},
   "source": [
    "## Process the image and save results\n"
   ]
  },
  {
   "cell_type": "code",
   "execution_count": 7,
   "id": "aba10460-8920-4aa8-ab42-16b565c20d5f",
   "metadata": {},
   "outputs": [
    {
     "name": "stdout",
     "output_type": "stream",
     "text": [
      "WARNING: The input image should have 1.5 mm isotropic spacing.  Performance will be degraded.\n",
      "    The input image has spacing: itkVectorD3 ([0.902344, 0.902344, 5])\n"
     ]
    },
    {
     "ename": "KeyboardInterrupt",
     "evalue": "",
     "output_type": "error",
     "traceback": [
      "\u001b[1;31m---------------------------------------------------------------------------\u001b[0m",
      "\u001b[1;31mKeyboardInterrupt\u001b[0m                         Traceback (most recent call last)",
      "Cell \u001b[1;32mIn[7], line 5\u001b[0m\n\u001b[0;32m      2\u001b[0m input_image \u001b[38;5;241m=\u001b[39m itk\u001b[38;5;241m.\u001b[39mimread(input_image_filename)\n\u001b[0;32m      4\u001b[0m \u001b[38;5;66;03m# run the model using the api key and input image\u001b[39;00m\n\u001b[1;32m----> 5\u001b[0m output_image \u001b[38;5;241m=\u001b[39m \u001b[43mnvaie_vista3d_nim\u001b[49m\u001b[43m(\u001b[49m\u001b[43mngc_api_key\u001b[49m\u001b[43m,\u001b[49m\u001b[43m \u001b[49m\u001b[43minput_image\u001b[49m\u001b[43m)\u001b[49m\n\u001b[0;32m      7\u001b[0m \u001b[38;5;66;03m# save the results to \"output_image.mha\"\u001b[39;00m\n\u001b[0;32m      8\u001b[0m itk\u001b[38;5;241m.\u001b[39mimwrite(output_image, \u001b[38;5;124m\"\u001b[39m\u001b[38;5;124m./output_image.mha\u001b[39m\u001b[38;5;124m\"\u001b[39m)\n",
      "Cell \u001b[1;32mIn[4], line 24\u001b[0m, in \u001b[0;36mnvaie_vista3d_nim\u001b[1;34m(api_key, input_image)\u001b[0m\n\u001b[0;32m     21\u001b[0m     \u001b[38;5;28mprint\u001b[39m(\u001b[38;5;124m\"\u001b[39m\u001b[38;5;124m    The input image has Hounsfield Units in the range:\u001b[39m\u001b[38;5;124m\"\u001b[39m, [minv, maxv])\n\u001b[0;32m     23\u001b[0m \u001b[38;5;66;03m# Post the image to file.io and get the link\u001b[39;00m\n\u001b[1;32m---> 24\u001b[0m input_image_url \u001b[38;5;241m=\u001b[39m \u001b[43mpost_image_to_fileio\u001b[49m\u001b[43m(\u001b[49m\u001b[43minput_image\u001b[49m\u001b[43m)\u001b[49m\n\u001b[0;32m     26\u001b[0m \u001b[38;5;66;03m# Define the header and payload for the API call\u001b[39;00m\n\u001b[0;32m     27\u001b[0m header \u001b[38;5;241m=\u001b[39m {\n\u001b[0;32m     28\u001b[0m     \u001b[38;5;124m\"\u001b[39m\u001b[38;5;124mAuthorization\u001b[39m\u001b[38;5;124m\"\u001b[39m: \u001b[38;5;124m\"\u001b[39m\u001b[38;5;124mBearer \u001b[39m\u001b[38;5;124m\"\u001b[39m \u001b[38;5;241m+\u001b[39m api_key,\n\u001b[0;32m     29\u001b[0m }\n",
      "Cell \u001b[1;32mIn[3], line 12\u001b[0m, in \u001b[0;36mpost_image_to_fileio\u001b[1;34m(input_image)\u001b[0m\n\u001b[0;32m     10\u001b[0m \u001b[38;5;66;03m# Upload the file\u001b[39;00m\n\u001b[0;32m     11\u001b[0m \u001b[38;5;28;01mwith\u001b[39;00m \u001b[38;5;28mopen\u001b[39m(os\u001b[38;5;241m.\u001b[39mpath\u001b[38;5;241m.\u001b[39mjoin(tmp_filename), \u001b[38;5;124m\"\u001b[39m\u001b[38;5;124mrb\u001b[39m\u001b[38;5;124m\"\u001b[39m) \u001b[38;5;28;01mas\u001b[39;00m f:\n\u001b[1;32m---> 12\u001b[0m     res \u001b[38;5;241m=\u001b[39m \u001b[43mrequests\u001b[49m\u001b[38;5;241;43m.\u001b[39;49m\u001b[43mpost\u001b[49m\u001b[43m(\u001b[49m\u001b[38;5;124;43m\"\u001b[39;49m\u001b[38;5;124;43mhttps://file.io/\u001b[39;49m\u001b[38;5;124;43m\"\u001b[39;49m\u001b[43m,\u001b[49m\u001b[43m \u001b[49m\u001b[43mfiles\u001b[49m\u001b[38;5;241;43m=\u001b[39;49m\u001b[43m{\u001b[49m\u001b[38;5;124;43m\"\u001b[39;49m\u001b[38;5;124;43mfile\u001b[39;49m\u001b[38;5;124;43m\"\u001b[39;49m\u001b[43m:\u001b[49m\u001b[43m \u001b[49m\u001b[43mf\u001b[49m\u001b[43m}\u001b[49m\u001b[43m)\u001b[49m\n\u001b[0;32m     13\u001b[0m \u001b[38;5;28;01mif\u001b[39;00m res\u001b[38;5;241m.\u001b[39mstatus_code \u001b[38;5;241m!=\u001b[39m \u001b[38;5;241m200\u001b[39m:\n\u001b[0;32m     14\u001b[0m     \u001b[38;5;28;01mraise\u001b[39;00m \u001b[38;5;167;01mRuntimeError\u001b[39;00m(\u001b[38;5;124mf\u001b[39m\u001b[38;5;124m\"\u001b[39m\u001b[38;5;124mCannot upload file. The response \u001b[39m\u001b[38;5;132;01m{\u001b[39;00mres\u001b[38;5;132;01m}\u001b[39;00m\u001b[38;5;124m.\u001b[39m\u001b[38;5;124m\"\u001b[39m)\n",
      "File \u001b[1;32mc:\\src\\MONAI\\tutorials\\nvidia_nims\\venv\\lib\\site-packages\\requests\\api.py:115\u001b[0m, in \u001b[0;36mpost\u001b[1;34m(url, data, json, **kwargs)\u001b[0m\n\u001b[0;32m    103\u001b[0m \u001b[38;5;28;01mdef\u001b[39;00m \u001b[38;5;21mpost\u001b[39m(url, data\u001b[38;5;241m=\u001b[39m\u001b[38;5;28;01mNone\u001b[39;00m, json\u001b[38;5;241m=\u001b[39m\u001b[38;5;28;01mNone\u001b[39;00m, \u001b[38;5;241m*\u001b[39m\u001b[38;5;241m*\u001b[39mkwargs):\n\u001b[0;32m    104\u001b[0m \u001b[38;5;250m    \u001b[39m\u001b[38;5;124mr\u001b[39m\u001b[38;5;124;03m\"\"\"Sends a POST request.\u001b[39;00m\n\u001b[0;32m    105\u001b[0m \n\u001b[0;32m    106\u001b[0m \u001b[38;5;124;03m    :param url: URL for the new :class:`Request` object.\u001b[39;00m\n\u001b[1;32m   (...)\u001b[0m\n\u001b[0;32m    112\u001b[0m \u001b[38;5;124;03m    :rtype: requests.Response\u001b[39;00m\n\u001b[0;32m    113\u001b[0m \u001b[38;5;124;03m    \"\"\"\u001b[39;00m\n\u001b[1;32m--> 115\u001b[0m     \u001b[38;5;28;01mreturn\u001b[39;00m request(\u001b[38;5;124m\"\u001b[39m\u001b[38;5;124mpost\u001b[39m\u001b[38;5;124m\"\u001b[39m, url, data\u001b[38;5;241m=\u001b[39mdata, json\u001b[38;5;241m=\u001b[39mjson, \u001b[38;5;241m*\u001b[39m\u001b[38;5;241m*\u001b[39mkwargs)\n",
      "File \u001b[1;32mc:\\src\\MONAI\\tutorials\\nvidia_nims\\venv\\lib\\site-packages\\requests\\api.py:59\u001b[0m, in \u001b[0;36mrequest\u001b[1;34m(method, url, **kwargs)\u001b[0m\n\u001b[0;32m     55\u001b[0m \u001b[38;5;66;03m# By using the 'with' statement we are sure the session is closed, thus we\u001b[39;00m\n\u001b[0;32m     56\u001b[0m \u001b[38;5;66;03m# avoid leaving sockets open which can trigger a ResourceWarning in some\u001b[39;00m\n\u001b[0;32m     57\u001b[0m \u001b[38;5;66;03m# cases, and look like a memory leak in others.\u001b[39;00m\n\u001b[0;32m     58\u001b[0m \u001b[38;5;28;01mwith\u001b[39;00m sessions\u001b[38;5;241m.\u001b[39mSession() \u001b[38;5;28;01mas\u001b[39;00m session:\n\u001b[1;32m---> 59\u001b[0m     \u001b[38;5;28;01mreturn\u001b[39;00m session\u001b[38;5;241m.\u001b[39mrequest(method\u001b[38;5;241m=\u001b[39mmethod, url\u001b[38;5;241m=\u001b[39murl, \u001b[38;5;241m*\u001b[39m\u001b[38;5;241m*\u001b[39mkwargs)\n",
      "File \u001b[1;32mc:\\src\\MONAI\\tutorials\\nvidia_nims\\venv\\lib\\site-packages\\requests\\sessions.py:589\u001b[0m, in \u001b[0;36mSession.request\u001b[1;34m(self, method, url, params, data, headers, cookies, files, auth, timeout, allow_redirects, proxies, hooks, stream, verify, cert, json)\u001b[0m\n\u001b[0;32m    584\u001b[0m send_kwargs \u001b[38;5;241m=\u001b[39m {\n\u001b[0;32m    585\u001b[0m     \u001b[38;5;124m\"\u001b[39m\u001b[38;5;124mtimeout\u001b[39m\u001b[38;5;124m\"\u001b[39m: timeout,\n\u001b[0;32m    586\u001b[0m     \u001b[38;5;124m\"\u001b[39m\u001b[38;5;124mallow_redirects\u001b[39m\u001b[38;5;124m\"\u001b[39m: allow_redirects,\n\u001b[0;32m    587\u001b[0m }\n\u001b[0;32m    588\u001b[0m send_kwargs\u001b[38;5;241m.\u001b[39mupdate(settings)\n\u001b[1;32m--> 589\u001b[0m resp \u001b[38;5;241m=\u001b[39m \u001b[38;5;28mself\u001b[39m\u001b[38;5;241m.\u001b[39msend(prep, \u001b[38;5;241m*\u001b[39m\u001b[38;5;241m*\u001b[39msend_kwargs)\n\u001b[0;32m    591\u001b[0m \u001b[38;5;28;01mreturn\u001b[39;00m resp\n",
      "File \u001b[1;32mc:\\src\\MONAI\\tutorials\\nvidia_nims\\venv\\lib\\site-packages\\requests\\sessions.py:703\u001b[0m, in \u001b[0;36mSession.send\u001b[1;34m(self, request, **kwargs)\u001b[0m\n\u001b[0;32m    700\u001b[0m start \u001b[38;5;241m=\u001b[39m preferred_clock()\n\u001b[0;32m    702\u001b[0m \u001b[38;5;66;03m# Send the request\u001b[39;00m\n\u001b[1;32m--> 703\u001b[0m r \u001b[38;5;241m=\u001b[39m adapter\u001b[38;5;241m.\u001b[39msend(request, \u001b[38;5;241m*\u001b[39m\u001b[38;5;241m*\u001b[39mkwargs)\n\u001b[0;32m    705\u001b[0m \u001b[38;5;66;03m# Total elapsed time of the request (approximately)\u001b[39;00m\n\u001b[0;32m    706\u001b[0m elapsed \u001b[38;5;241m=\u001b[39m preferred_clock() \u001b[38;5;241m-\u001b[39m start\n",
      "File \u001b[1;32mc:\\src\\MONAI\\tutorials\\nvidia_nims\\venv\\lib\\site-packages\\requests\\adapters.py:667\u001b[0m, in \u001b[0;36mHTTPAdapter.send\u001b[1;34m(self, request, stream, timeout, verify, cert, proxies)\u001b[0m\n\u001b[0;32m    664\u001b[0m     timeout \u001b[38;5;241m=\u001b[39m TimeoutSauce(connect\u001b[38;5;241m=\u001b[39mtimeout, read\u001b[38;5;241m=\u001b[39mtimeout)\n\u001b[0;32m    666\u001b[0m \u001b[38;5;28;01mtry\u001b[39;00m:\n\u001b[1;32m--> 667\u001b[0m     resp \u001b[38;5;241m=\u001b[39m \u001b[43mconn\u001b[49m\u001b[38;5;241;43m.\u001b[39;49m\u001b[43murlopen\u001b[49m\u001b[43m(\u001b[49m\n\u001b[0;32m    668\u001b[0m \u001b[43m        \u001b[49m\u001b[43mmethod\u001b[49m\u001b[38;5;241;43m=\u001b[39;49m\u001b[43mrequest\u001b[49m\u001b[38;5;241;43m.\u001b[39;49m\u001b[43mmethod\u001b[49m\u001b[43m,\u001b[49m\n\u001b[0;32m    669\u001b[0m \u001b[43m        \u001b[49m\u001b[43murl\u001b[49m\u001b[38;5;241;43m=\u001b[39;49m\u001b[43murl\u001b[49m\u001b[43m,\u001b[49m\n\u001b[0;32m    670\u001b[0m \u001b[43m        \u001b[49m\u001b[43mbody\u001b[49m\u001b[38;5;241;43m=\u001b[39;49m\u001b[43mrequest\u001b[49m\u001b[38;5;241;43m.\u001b[39;49m\u001b[43mbody\u001b[49m\u001b[43m,\u001b[49m\n\u001b[0;32m    671\u001b[0m \u001b[43m        \u001b[49m\u001b[43mheaders\u001b[49m\u001b[38;5;241;43m=\u001b[39;49m\u001b[43mrequest\u001b[49m\u001b[38;5;241;43m.\u001b[39;49m\u001b[43mheaders\u001b[49m\u001b[43m,\u001b[49m\n\u001b[0;32m    672\u001b[0m \u001b[43m        \u001b[49m\u001b[43mredirect\u001b[49m\u001b[38;5;241;43m=\u001b[39;49m\u001b[38;5;28;43;01mFalse\u001b[39;49;00m\u001b[43m,\u001b[49m\n\u001b[0;32m    673\u001b[0m \u001b[43m        \u001b[49m\u001b[43massert_same_host\u001b[49m\u001b[38;5;241;43m=\u001b[39;49m\u001b[38;5;28;43;01mFalse\u001b[39;49;00m\u001b[43m,\u001b[49m\n\u001b[0;32m    674\u001b[0m \u001b[43m        \u001b[49m\u001b[43mpreload_content\u001b[49m\u001b[38;5;241;43m=\u001b[39;49m\u001b[38;5;28;43;01mFalse\u001b[39;49;00m\u001b[43m,\u001b[49m\n\u001b[0;32m    675\u001b[0m \u001b[43m        \u001b[49m\u001b[43mdecode_content\u001b[49m\u001b[38;5;241;43m=\u001b[39;49m\u001b[38;5;28;43;01mFalse\u001b[39;49;00m\u001b[43m,\u001b[49m\n\u001b[0;32m    676\u001b[0m \u001b[43m        \u001b[49m\u001b[43mretries\u001b[49m\u001b[38;5;241;43m=\u001b[39;49m\u001b[38;5;28;43mself\u001b[39;49m\u001b[38;5;241;43m.\u001b[39;49m\u001b[43mmax_retries\u001b[49m\u001b[43m,\u001b[49m\n\u001b[0;32m    677\u001b[0m \u001b[43m        \u001b[49m\u001b[43mtimeout\u001b[49m\u001b[38;5;241;43m=\u001b[39;49m\u001b[43mtimeout\u001b[49m\u001b[43m,\u001b[49m\n\u001b[0;32m    678\u001b[0m \u001b[43m        \u001b[49m\u001b[43mchunked\u001b[49m\u001b[38;5;241;43m=\u001b[39;49m\u001b[43mchunked\u001b[49m\u001b[43m,\u001b[49m\n\u001b[0;32m    679\u001b[0m \u001b[43m    \u001b[49m\u001b[43m)\u001b[49m\n\u001b[0;32m    681\u001b[0m \u001b[38;5;28;01mexcept\u001b[39;00m (ProtocolError, \u001b[38;5;167;01mOSError\u001b[39;00m) \u001b[38;5;28;01mas\u001b[39;00m err:\n\u001b[0;32m    682\u001b[0m     \u001b[38;5;28;01mraise\u001b[39;00m \u001b[38;5;167;01mConnectionError\u001b[39;00m(err, request\u001b[38;5;241m=\u001b[39mrequest)\n",
      "File \u001b[1;32mc:\\src\\MONAI\\tutorials\\nvidia_nims\\venv\\lib\\site-packages\\urllib3\\connectionpool.py:789\u001b[0m, in \u001b[0;36mHTTPConnectionPool.urlopen\u001b[1;34m(self, method, url, body, headers, retries, redirect, assert_same_host, timeout, pool_timeout, release_conn, chunked, body_pos, preload_content, decode_content, **response_kw)\u001b[0m\n\u001b[0;32m    786\u001b[0m response_conn \u001b[38;5;241m=\u001b[39m conn \u001b[38;5;28;01mif\u001b[39;00m \u001b[38;5;129;01mnot\u001b[39;00m release_conn \u001b[38;5;28;01melse\u001b[39;00m \u001b[38;5;28;01mNone\u001b[39;00m\n\u001b[0;32m    788\u001b[0m \u001b[38;5;66;03m# Make the request on the HTTPConnection object\u001b[39;00m\n\u001b[1;32m--> 789\u001b[0m response \u001b[38;5;241m=\u001b[39m \u001b[38;5;28mself\u001b[39m\u001b[38;5;241m.\u001b[39m_make_request(\n\u001b[0;32m    790\u001b[0m     conn,\n\u001b[0;32m    791\u001b[0m     method,\n\u001b[0;32m    792\u001b[0m     url,\n\u001b[0;32m    793\u001b[0m     timeout\u001b[38;5;241m=\u001b[39mtimeout_obj,\n\u001b[0;32m    794\u001b[0m     body\u001b[38;5;241m=\u001b[39mbody,\n\u001b[0;32m    795\u001b[0m     headers\u001b[38;5;241m=\u001b[39mheaders,\n\u001b[0;32m    796\u001b[0m     chunked\u001b[38;5;241m=\u001b[39mchunked,\n\u001b[0;32m    797\u001b[0m     retries\u001b[38;5;241m=\u001b[39mretries,\n\u001b[0;32m    798\u001b[0m     response_conn\u001b[38;5;241m=\u001b[39mresponse_conn,\n\u001b[0;32m    799\u001b[0m     preload_content\u001b[38;5;241m=\u001b[39mpreload_content,\n\u001b[0;32m    800\u001b[0m     decode_content\u001b[38;5;241m=\u001b[39mdecode_content,\n\u001b[0;32m    801\u001b[0m     \u001b[38;5;241m*\u001b[39m\u001b[38;5;241m*\u001b[39mresponse_kw,\n\u001b[0;32m    802\u001b[0m )\n\u001b[0;32m    804\u001b[0m \u001b[38;5;66;03m# Everything went great!\u001b[39;00m\n\u001b[0;32m    805\u001b[0m clean_exit \u001b[38;5;241m=\u001b[39m \u001b[38;5;28;01mTrue\u001b[39;00m\n",
      "File \u001b[1;32mc:\\src\\MONAI\\tutorials\\nvidia_nims\\venv\\lib\\site-packages\\urllib3\\connectionpool.py:495\u001b[0m, in \u001b[0;36mHTTPConnectionPool._make_request\u001b[1;34m(self, conn, method, url, body, headers, retries, timeout, chunked, response_conn, preload_content, decode_content, enforce_content_length)\u001b[0m\n\u001b[0;32m    492\u001b[0m \u001b[38;5;66;03m# conn.request() calls http.client.*.request, not the method in\u001b[39;00m\n\u001b[0;32m    493\u001b[0m \u001b[38;5;66;03m# urllib3.request. It also calls makefile (recv) on the socket.\u001b[39;00m\n\u001b[0;32m    494\u001b[0m \u001b[38;5;28;01mtry\u001b[39;00m:\n\u001b[1;32m--> 495\u001b[0m     \u001b[43mconn\u001b[49m\u001b[38;5;241;43m.\u001b[39;49m\u001b[43mrequest\u001b[49m\u001b[43m(\u001b[49m\n\u001b[0;32m    496\u001b[0m \u001b[43m        \u001b[49m\u001b[43mmethod\u001b[49m\u001b[43m,\u001b[49m\n\u001b[0;32m    497\u001b[0m \u001b[43m        \u001b[49m\u001b[43murl\u001b[49m\u001b[43m,\u001b[49m\n\u001b[0;32m    498\u001b[0m \u001b[43m        \u001b[49m\u001b[43mbody\u001b[49m\u001b[38;5;241;43m=\u001b[39;49m\u001b[43mbody\u001b[49m\u001b[43m,\u001b[49m\n\u001b[0;32m    499\u001b[0m \u001b[43m        \u001b[49m\u001b[43mheaders\u001b[49m\u001b[38;5;241;43m=\u001b[39;49m\u001b[43mheaders\u001b[49m\u001b[43m,\u001b[49m\n\u001b[0;32m    500\u001b[0m \u001b[43m        \u001b[49m\u001b[43mchunked\u001b[49m\u001b[38;5;241;43m=\u001b[39;49m\u001b[43mchunked\u001b[49m\u001b[43m,\u001b[49m\n\u001b[0;32m    501\u001b[0m \u001b[43m        \u001b[49m\u001b[43mpreload_content\u001b[49m\u001b[38;5;241;43m=\u001b[39;49m\u001b[43mpreload_content\u001b[49m\u001b[43m,\u001b[49m\n\u001b[0;32m    502\u001b[0m \u001b[43m        \u001b[49m\u001b[43mdecode_content\u001b[49m\u001b[38;5;241;43m=\u001b[39;49m\u001b[43mdecode_content\u001b[49m\u001b[43m,\u001b[49m\n\u001b[0;32m    503\u001b[0m \u001b[43m        \u001b[49m\u001b[43menforce_content_length\u001b[49m\u001b[38;5;241;43m=\u001b[39;49m\u001b[43menforce_content_length\u001b[49m\u001b[43m,\u001b[49m\n\u001b[0;32m    504\u001b[0m \u001b[43m    \u001b[49m\u001b[43m)\u001b[49m\n\u001b[0;32m    506\u001b[0m \u001b[38;5;66;03m# We are swallowing BrokenPipeError (errno.EPIPE) since the server is\u001b[39;00m\n\u001b[0;32m    507\u001b[0m \u001b[38;5;66;03m# legitimately able to close the connection after sending a valid response.\u001b[39;00m\n\u001b[0;32m    508\u001b[0m \u001b[38;5;66;03m# With this behaviour, the received response is still readable.\u001b[39;00m\n\u001b[0;32m    509\u001b[0m \u001b[38;5;28;01mexcept\u001b[39;00m \u001b[38;5;167;01mBrokenPipeError\u001b[39;00m:\n",
      "File \u001b[1;32mc:\\src\\MONAI\\tutorials\\nvidia_nims\\venv\\lib\\site-packages\\urllib3\\connection.py:455\u001b[0m, in \u001b[0;36mHTTPConnection.request\u001b[1;34m(self, method, url, body, headers, chunked, preload_content, decode_content, enforce_content_length)\u001b[0m\n\u001b[0;32m    453\u001b[0m             \u001b[38;5;28mself\u001b[39m\u001b[38;5;241m.\u001b[39msend(\u001b[38;5;124mb\u001b[39m\u001b[38;5;124m\"\u001b[39m\u001b[38;5;132;01m%x\u001b[39;00m\u001b[38;5;130;01m\\r\u001b[39;00m\u001b[38;5;130;01m\\n\u001b[39;00m\u001b[38;5;124m%\u001b[39m\u001b[38;5;124mb\u001b[39m\u001b[38;5;130;01m\\r\u001b[39;00m\u001b[38;5;130;01m\\n\u001b[39;00m\u001b[38;5;124m\"\u001b[39m \u001b[38;5;241m%\u001b[39m (\u001b[38;5;28mlen\u001b[39m(chunk), chunk))\n\u001b[0;32m    454\u001b[0m         \u001b[38;5;28;01melse\u001b[39;00m:\n\u001b[1;32m--> 455\u001b[0m             \u001b[38;5;28;43mself\u001b[39;49m\u001b[38;5;241;43m.\u001b[39;49m\u001b[43msend\u001b[49m\u001b[43m(\u001b[49m\u001b[43mchunk\u001b[49m\u001b[43m)\u001b[49m\n\u001b[0;32m    457\u001b[0m \u001b[38;5;66;03m# Regardless of whether we have a body or not, if we're in\u001b[39;00m\n\u001b[0;32m    458\u001b[0m \u001b[38;5;66;03m# chunked mode we want to send an explicit empty chunk.\u001b[39;00m\n\u001b[0;32m    459\u001b[0m \u001b[38;5;28;01mif\u001b[39;00m chunked:\n",
      "File \u001b[1;32m~\\AppData\\Local\\Programs\\Python\\Python310\\lib\\http\\client.py:999\u001b[0m, in \u001b[0;36mHTTPConnection.send\u001b[1;34m(self, data)\u001b[0m\n\u001b[0;32m    997\u001b[0m sys\u001b[38;5;241m.\u001b[39maudit(\u001b[38;5;124m\"\u001b[39m\u001b[38;5;124mhttp.client.send\u001b[39m\u001b[38;5;124m\"\u001b[39m, \u001b[38;5;28mself\u001b[39m, data)\n\u001b[0;32m    998\u001b[0m \u001b[38;5;28;01mtry\u001b[39;00m:\n\u001b[1;32m--> 999\u001b[0m     \u001b[38;5;28;43mself\u001b[39;49m\u001b[38;5;241;43m.\u001b[39;49m\u001b[43msock\u001b[49m\u001b[38;5;241;43m.\u001b[39;49m\u001b[43msendall\u001b[49m\u001b[43m(\u001b[49m\u001b[43mdata\u001b[49m\u001b[43m)\u001b[49m\n\u001b[0;32m   1000\u001b[0m \u001b[38;5;28;01mexcept\u001b[39;00m \u001b[38;5;167;01mTypeError\u001b[39;00m:\n\u001b[0;32m   1001\u001b[0m     \u001b[38;5;28;01mif\u001b[39;00m \u001b[38;5;28misinstance\u001b[39m(data, collections\u001b[38;5;241m.\u001b[39mabc\u001b[38;5;241m.\u001b[39mIterable):\n",
      "File \u001b[1;32m~\\AppData\\Local\\Programs\\Python\\Python310\\lib\\ssl.py:1237\u001b[0m, in \u001b[0;36mSSLSocket.sendall\u001b[1;34m(self, data, flags)\u001b[0m\n\u001b[0;32m   1235\u001b[0m         amount \u001b[38;5;241m=\u001b[39m \u001b[38;5;28mlen\u001b[39m(byte_view)\n\u001b[0;32m   1236\u001b[0m         \u001b[38;5;28;01mwhile\u001b[39;00m count \u001b[38;5;241m<\u001b[39m amount:\n\u001b[1;32m-> 1237\u001b[0m             v \u001b[38;5;241m=\u001b[39m \u001b[38;5;28;43mself\u001b[39;49m\u001b[38;5;241;43m.\u001b[39;49m\u001b[43msend\u001b[49m\u001b[43m(\u001b[49m\u001b[43mbyte_view\u001b[49m\u001b[43m[\u001b[49m\u001b[43mcount\u001b[49m\u001b[43m:\u001b[49m\u001b[43m]\u001b[49m\u001b[43m)\u001b[49m\n\u001b[0;32m   1238\u001b[0m             count \u001b[38;5;241m+\u001b[39m\u001b[38;5;241m=\u001b[39m v\n\u001b[0;32m   1239\u001b[0m \u001b[38;5;28;01melse\u001b[39;00m:\n",
      "File \u001b[1;32m~\\AppData\\Local\\Programs\\Python\\Python310\\lib\\ssl.py:1206\u001b[0m, in \u001b[0;36mSSLSocket.send\u001b[1;34m(self, data, flags)\u001b[0m\n\u001b[0;32m   1202\u001b[0m     \u001b[38;5;28;01mif\u001b[39;00m flags \u001b[38;5;241m!=\u001b[39m \u001b[38;5;241m0\u001b[39m:\n\u001b[0;32m   1203\u001b[0m         \u001b[38;5;28;01mraise\u001b[39;00m \u001b[38;5;167;01mValueError\u001b[39;00m(\n\u001b[0;32m   1204\u001b[0m             \u001b[38;5;124m\"\u001b[39m\u001b[38;5;124mnon-zero flags not allowed in calls to send() on \u001b[39m\u001b[38;5;132;01m%s\u001b[39;00m\u001b[38;5;124m\"\u001b[39m \u001b[38;5;241m%\u001b[39m\n\u001b[0;32m   1205\u001b[0m             \u001b[38;5;28mself\u001b[39m\u001b[38;5;241m.\u001b[39m\u001b[38;5;18m__class__\u001b[39m)\n\u001b[1;32m-> 1206\u001b[0m     \u001b[38;5;28;01mreturn\u001b[39;00m \u001b[38;5;28;43mself\u001b[39;49m\u001b[38;5;241;43m.\u001b[39;49m\u001b[43m_sslobj\u001b[49m\u001b[38;5;241;43m.\u001b[39;49m\u001b[43mwrite\u001b[49m\u001b[43m(\u001b[49m\u001b[43mdata\u001b[49m\u001b[43m)\u001b[49m\n\u001b[0;32m   1207\u001b[0m \u001b[38;5;28;01melse\u001b[39;00m:\n\u001b[0;32m   1208\u001b[0m     \u001b[38;5;28;01mreturn\u001b[39;00m \u001b[38;5;28msuper\u001b[39m()\u001b[38;5;241m.\u001b[39msend(data, flags)\n",
      "\u001b[1;31mKeyboardInterrupt\u001b[0m: "
     ]
    }
   ],
   "source": [
    "# read the image from disk - a wide variety of formats are supported\n",
    "input_image = itk.imread(input_image_filename)\n",
    "\n",
    "# run the model using the api key and input image\n",
    "output_image = nvaie_vista3d_nim(ngc_api_key, input_image)\n",
    "\n",
    "# save the results to \"output_image.mha\"\n",
    "itk.imwrite(output_image, \"./output_image.mha\")"
   ]
  },
  {
   "cell_type": "markdown",
   "id": "fc099dab",
   "metadata": {},
   "source": [
    "## The rest of this notebook visulizes the results"
   ]
  },
  {
   "cell_type": "code",
   "execution_count": 8,
   "id": "a4cf276b",
   "metadata": {},
   "outputs": [],
   "source": [
    "# Convert the input and output images to PyVista images\n",
    "image = pv.wrap(itk.vtk_image_from_image(input_image))\n",
    "labels = pv.wrap(itk.vtk_image_from_image(output_image))\n",
    "\n",
    "# Extract the contours from the label (output) image\n",
    "contours = labels.contour_labeled(\n",
    "    smoothing=True,\n",
    "    smoothing_num_iterations=10,\n",
    "    output_mesh_type=\"triangles\",\n",
    ")"
   ]
  },
  {
   "cell_type": "code",
   "execution_count": 9,
   "id": "5b1e97fc",
   "metadata": {},
   "outputs": [],
   "source": [
    "# It is critical to use the \"client\" mode for PyVista so that vtk.js is used for rendering.\n",
    "#   vtk.js respects image orientation information, whereas other backends do not.\n",
    "pv.set_jupyter_backend(\"client\")"
   ]
  },
  {
   "cell_type": "code",
   "execution_count": 10,
   "id": "00d28b5c",
   "metadata": {},
   "outputs": [
    {
     "data": {
      "application/vnd.jupyter.widget-view+json": {
       "model_id": "eaba90efeb4d443183845e91f2e9fe16",
       "version_major": 2,
       "version_minor": 0
      },
      "text/plain": [
       "Widget(value='<iframe src=\"http://localhost:57016/index.html?ui=P_0x24afb46b280_0&reconnect=auto\" class=\"pyvis…"
      ]
     },
     "metadata": {},
     "output_type": "display_data"
    }
   ],
   "source": [
    "# For visualization purposes, we will clip the contours half-way along the x-axis\n",
    "clipped = contours.clip(\"x\")\n",
    "\n",
    "# Render the clipped contours and the original image\n",
    "pl = pv.Plotter()\n",
    "pl.add_mesh(clipped, cmap=\"pink\", show_scalar_bar=False, opacity=1.0)\n",
    "pl.add_volume(image, clim=[50, 800], cmap=\"pink\", show_scalar_bar=False)\n",
    "pl.set_background(\"black\")\n",
    "pl.camera_position = \"xz\"\n",
    "pl.show()"
   ]
  },
  {
   "cell_type": "code",
   "execution_count": 11,
   "id": "bbc89987",
   "metadata": {},
   "outputs": [
    {
     "data": {
      "application/vnd.jupyter.widget-view+json": {
       "model_id": "f3c1a23351464d049d33f7aa15395faf",
       "version_major": 2,
       "version_minor": 0
      },
      "text/plain": [
       "Widget(value='<iframe src=\"http://localhost:57016/index.html?ui=P_0x24a8d5a76d0_1&reconnect=auto\" class=\"pyvis…"
      ]
     },
     "metadata": {},
     "output_type": "display_data"
    }
   ],
   "source": [
    "# The second visualization will show the image and contours in three orthogonal slices as subplots\n",
    "pl2 = pv.Plotter(shape=(3, 1))\n",
    "\n",
    "# The normal directions (dirs) of the slices and the positions (pos) of the camera for each view\n",
    "dirs = [\"x\", \"y\", \"z\"]\n",
    "pos = [\"yz\", \"xz\", \"xy\"]\n",
    "\n",
    "# Extract the slices and generate the views for each subplot\n",
    "for i, dir in enumerate(dirs):\n",
    "    image_slice = image.slice(normal=dir)\n",
    "    contours_slice = labels.slice(normal=dir, contour=True)\n",
    "    pl2.subplot(i, 0)\n",
    "    pl2.add_mesh(image_slice, cmap=\"bone\", clim=[-200, 500], show_scalar_bar=False, opacity=1.0)\n",
    "    pl2.add_mesh(contours_slice, cmap=\"viridis\", show_scalar_bar=False, opacity=1.0, line_width=5)\n",
    "    pl2.camera_position = pos[i]\n",
    "\n",
    "pl2.set_background(\"black\")\n",
    "pl2.show()"
   ]
  }
 ],
 "metadata": {
  "kernelspec": {
   "display_name": "venv",
   "language": "python",
   "name": "python3"
  },
  "language_info": {
   "codemirror_mode": {
    "name": "ipython",
    "version": 3
   },
   "file_extension": ".py",
   "mimetype": "text/x-python",
   "name": "python",
   "nbconvert_exporter": "python",
   "pygments_lexer": "ipython3",
   "version": "3.10.11"
  }
 },
 "nbformat": 4,
 "nbformat_minor": 5
}
