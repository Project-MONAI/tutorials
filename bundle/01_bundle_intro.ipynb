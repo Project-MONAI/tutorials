{
 "cells": [
  {
   "cell_type": "markdown",
   "id": "e473187c-65db-40f2-b27a-236b3e8f2ad2",
   "metadata": {},
   "source": [
    "Copyright (c) MONAI Consortium  \n",
    "Licensed under the Apache License, Version 2.0 (the \"License\");  \n",
    "you may not use this file except in compliance with the License.  \n",
    "You may obtain a copy of the License at  \n",
    "&nbsp;&nbsp;&nbsp;&nbsp;http://www.apache.org/licenses/LICENSE-2.0  \n",
    "Unless required by applicable law or agreed to in writing, software  \n",
    "distributed under the License is distributed on an \"AS IS\" BASIS,  \n",
    "WITHOUT WARRANTIES OR CONDITIONS OF ANY KIND, either express or implied.  \n",
    "See the License for the specific language governing permissions and  \n",
    "limitations under the License.\n",
    "\n",
    "# MONAI Bundles\n",
    "\n",
    "Bundles are essentially _self-descriptive networks_. They combine a network definition with the metadata about what they are meant to do, what they are used for, the nature of their inputs and outputs, and scripts (possibly with associated data) to train and infer using them. \n",
    "\n",
    "The key objective with bundles is to provide a structured format for using and distributing your network along with all the added information needed to understand the network in context. This makes it easier for you and others to use the network, adapt it to different applications, reproduce your experiments and results, and simply document your work.\n",
    "\n",
    "The bundle documentation and specification can be found here: https://docs.monai.io/en/stable/bundle_intro.html\n",
    "\n",
    "## Bundle Structure\n",
    "\n",
    "A bundle consists of a named directory containing specific subdirectories for different parts. From the specification we have a basic outline of directories in this form (* means optional file):\n",
    "\n",
    "```\n",
    "ModelName\n",
    "┣━ configs\n",
    "┃  ┗━ metadata.json\n",
    "┣━ models\n",
    "┃  ┣━ model.pt\n",
    "┃  ┣━ *model.ts\n",
    "┃  ┗━ *model.onnx\n",
    "┣━ docs\n",
    "┃  ┣━ *README.md\n",
    "┃  ┗━ *license.txt\n",
    "┗━ *scripts\n",
    "```\n",
    "\n",
    "Here the `metadata.json` file will contain the name of the bundle, plain language description of what it does and intended purpose, a description of what the input and output values are for the network's forward pass, copyright information, and otherwise anything else you want to add. Further configuration files go into `configs` which will be JSON or YAML documents representing scripts in the form of Python object instantiations.\n",
    "\n",
    "The `models` directory contains the stored weights for your network which can be in multiple forms. The weight dictionary `model.pt` must be present but the Torchscript `model.ts` and ONNX `model.onnx` files representing the same network are optional. \n",
    "\n",
    "The `docs` directory will contain the readme file and any other documentation you want to include. Notebooks and images are good things to include for demonstrating use of the bundle.\n",
    "\n",
    "A further `scripts` directory can be included which would contain Python definitions of any sort to be used in the JSON/YAML script files. This directory should be a valid Python module if present, ie. contains a `__init__.py` file.\n",
    "\n",
    "## Instantiating a new bundle\n",
    "\n",
    "This notebook will introduce the concepts of the bundle and how to define your own. MONAI provides a number of bundle-related programs through the `monai.bundle` module using the Fire library. We can use `init_bundle` to start creating a bundle from scratch:"
   ]
  },
  {
   "cell_type": "code",
   "execution_count": 1,
   "id": "a1d9d107-58d6-4ed8-9cf1-6e9103e78a92",
   "metadata": {},
   "outputs": [
    {
     "name": "stdout",
     "output_type": "stream",
     "text": [
      "\u001b[01;34mTestBundle\u001b[00m\n",
      "├── \u001b[01;34mconfigs\u001b[00m\n",
      "│   ├── inference.json\n",
      "│   └── metadata.json\n",
      "├── \u001b[01;34mdocs\u001b[00m\n",
      "│   └── README.md\n",
      "├── LICENSE\n",
      "└── \u001b[01;34mmodels\u001b[00m\n",
      "\n",
      "3 directories, 4 files\n"
     ]
    }
   ],
   "source": [
    "%%bash\n",
    "\n",
    "python -m monai.bundle init_bundle TestBundle &>out.txt\n",
    "#tree TestBundle"
   ]
  },
  {
   "cell_type": "code",
   "execution_count": 4,
   "id": "deb05591-a71d-44d9-86ab-eb22a0a82070",
   "metadata": {
    "tags": []
   },
   "outputs": [
    {
     "ename": "Exception",
     "evalue": "Error: mkl-service + Intel(R) MKL: MKL_THREADING_LAYER=INTEL is incompatible with libgomp.so.1 library.\n\tTry to import numpy first or set the threading layer accordingly. Set MKL_SERVICE_FORCE_INTEL to force it.\nworkflow_name None\nconfig_file ['./MedNISTClassifier_v2/configs/common.yaml', './MedNISTClassifier_v2/configs/train.yaml']\nmeta_file ./MedNISTClassifier_v2/configs/metadata.json\nlogging_file ./MedNISTClassifier_v2/configs/logging.conf\ninit_id None\nrun_id train\nfinal_id None\ntracking None\nbundle_root ./MedNISTClassifier_v2\nmax_epochs 2\n2023-09-11 14:48:22,104 - INFO - --- input summary of monai.bundle.scripts.run ---\n2023-09-11 14:48:22,104 - INFO - > config_file: ['./MedNISTClassifier_v2/configs/common.yaml',\n './MedNISTClassifier_v2/configs/train.yaml']\n2023-09-11 14:48:22,104 - INFO - > meta_file: './MedNISTClassifier_v2/configs/metadata.json'\n2023-09-11 14:48:22,104 - INFO - > logging_file: './MedNISTClassifier_v2/configs/logging.conf'\n2023-09-11 14:48:22,104 - INFO - > run_id: 'train'\n2023-09-11 14:48:22,104 - INFO - > bundle_root: './MedNISTClassifier_v2'\n2023-09-11 14:48:22,105 - INFO - > max_epochs: 2\n2023-09-11 14:48:22,105 - INFO - ---\n\n\n2023-09-11 14:48:22,105 - INFO - Setting logging properties based on config: ./MedNISTClassifier_v2/configs/logging.conf.\n2023-09-11 14:48:22,235 - INFO - Verified 'MedNIST.tar.gz', md5: 0bc7306e7427e00ad1c5526a6677552d.\n2023-09-11 14:48:22,235 - INFO - File exists: MedNIST.tar.gz, skipped downloading.\n2023-09-11 14:48:22,235 - INFO - Non-empty folder exists in MedNIST, skipped extracting.\n\nLoading dataset:   0%|          | 0/47164 [00:00<?, ?it/s]\nLoading dataset:   0%|          | 1/47164 [00:00<2:11:42,  5.97it/s]\nLoading dataset:   0%|          | 96/47164 [00:00<01:46, 440.35it/s]\nLoading dataset:   0%|          | 199/47164 [00:00<01:09, 673.37it/s]\nLoading dataset:   1%|          | 306/47164 [00:00<00:57, 815.90it/s]\nLoading dataset:   1%|          | 421/47164 [00:00<00:50, 927.27it/s]\nLoading dataset:   1%|          | 535/47164 [00:00<00:46, 996.60it/s]\nLoading dataset:   1%|▏         | 648/47164 [00:00<00:44, 1037.39it/s]\nLoading dataset:   2%|▏         | 762/47164 [00:00<00:43, 1066.92it/s]\nLoading dataset:   2%|▏         | 875/47164 [00:00<00:42, 1085.38it/s]\nLoading dataset:   2%|▏         | 988/47164 [00:01<00:42, 1098.23it/s]\nLoading dataset:   2%|▏         | 1103/47164 [00:01<00:41, 1113.74it/s]\nLoading dataset:   3%|▎         | 1216/47164 [00:01<00:41, 1105.51it/s]\nLoading dataset:   3%|▎         | 1332/47164 [00:01<00:40, 1119.12it/s]\nLoading dataset:   3%|▎         | 1455/47164 [00:01<00:39, 1148.99it/s]\nLoading dataset:   3%|▎         | 1572/47164 [00:01<00:39, 1153.36it/s]\nLoading dataset:   4%|▎         | 1688/47164 [00:01<00:39, 1146.39it/s]\nLoading dataset:   4%|▍         | 1804/47164 [00:01<00:39, 1146.55it/s]\nLoading dataset:   4%|▍         | 1919/47164 [00:01<00:39, 1140.05it/s]\nLoading dataset:   4%|▍         | 2040/47164 [00:01<00:38, 1158.17it/s]\nLoading dataset:   5%|▍         | 2160/47164 [00:02<00:38, 1170.46it/s]\nLoading dataset:   5%|▍         | 2281/47164 [00:02<00:38, 1181.00it/s]\nLoading dataset:   5%|▌         | 2403/47164 [00:02<00:37, 1190.09it/s]\nLoading dataset:   5%|▌         | 2524/47164 [00:02<00:37, 1194.76it/s]\nLoading dataset:   6%|▌         | 2644/47164 [00:02<00:37, 1194.59it/s]\nLoading dataset:   6%|▌         | 2766/47164 [00:02<00:36, 1200.33it/s]\nLoading dataset:   6%|▌         | 2887/47164 [00:02<00:36, 1198.53it/s]\nLoading dataset:   6%|▋         | 3007/47164 [00:02<00:36, 1198.60it/s]\nLoading dataset:   7%|▋         | 3127/47164 [00:02<00:36, 1198.38it/s]\nLoading dataset:   7%|▋         | 3248/47164 [00:02<00:36, 1199.11it/s]\nLoading dataset:   7%|▋         | 3370/47164 [00:03<00:36, 1202.51it/s]\nLoading dataset:   7%|▋         | 3491/47164 [00:03<00:36, 1199.48it/s]\nLoading dataset:   8%|▊         | 3612/47164 [00:03<00:36, 1200.38it/s]\nLoading dataset:   8%|▊         | 3733/47164 [00:03<00:36, 1198.05it/s]\nLoading dataset:   8%|▊         | 3853/47164 [00:03<00:36, 1171.06it/s]\nLoading dataset:   8%|▊         | 3975/47164 [00:03<00:36, 1183.15it/s]\nLoading dataset:   9%|▊         | 4094/47164 [00:03<00:36, 1184.16it/s]\nLoading dataset:   9%|▉         | 4213/47164 [00:03<00:36, 1179.25it/s]\nLoading dataset:   9%|▉         | 4333/47164 [00:03<00:36, 1183.16it/s]\nLoading dataset:   9%|▉         | 4452/47164 [00:04<00:36, 1155.27it/s]\nLoading dataset:  10%|▉         | 4571/47164 [00:04<00:36, 1164.87it/s]\nLoading dataset:  10%|▉         | 4688/47164 [00:04<00:36, 1153.61it/s]\nLoading dataset:  10%|█         | 4807/47164 [00:04<00:36, 1161.30it/s]\nLoading dataset:  10%|█         | 4927/47164 [00:04<00:36, 1169.69it/s]\nLoading dataset:  11%|█         | 5045/47164 [00:04<00:36, 1166.83it/s]\nLoading dataset:  11%|█         | 5163/47164 [00:04<00:35, 1169.82it/s]\nLoading dataset:  11%|█         | 5283/47164 [00:04<00:35, 1176.35it/s]\nLoading dataset:  11%|█▏        | 5401/47164 [00:04<00:35, 1169.77it/s]\nLoading dataset:  12%|█▏        | 5519/47164 [00:04<00:36, 1129.89it/s]\nLoading dataset:  12%|█▏        | 5643/47164 [00:05<00:35, 1161.79it/s]\nLoading dataset:  12%|█▏        | 5766/47164 [00:05<00:35, 1181.39it/s]\nLoading dataset:  12%|█▏        | 5885/47164 [00:05<00:35, 1172.80it/s]\nLoading dataset:  13%|█▎        | 6003/47164 [00:05<00:35, 1171.74it/s]\nLoading dataset:  13%|█▎        | 6121/47164 [00:05<00:34, 1173.46it/s]\nLoading dataset:  13%|█▎        | 6241/47164 [00:05<00:34, 1179.01it/s]\nLoading dataset:  13%|█▎        | 6359/47164 [00:05<00:34, 1168.72it/s]\nLoading dataset:  14%|█▎        | 6477/47164 [00:05<00:34, 1170.01it/s]\nLoading dataset:  14%|█▍        | 6595/47164 [00:05<00:34, 1170.43it/s]\nLoading dataset:  14%|█▍        | 6714/47164 [00:05<00:34, 1175.76it/s]\nLoading dataset:  14%|█▍        | 6834/47164 [00:06<00:34, 1180.82it/s]\nLoading dataset:  15%|█▍        | 6953/47164 [00:06<00:34, 1180.58it/s]\nLoading dataset:  15%|█▍        | 7072/47164 [00:06<00:33, 1180.01it/s]\nLoading dataset:  15%|█▌        | 7191/47164 [00:06<00:33, 1178.19it/s]\nLoading dataset:  15%|█▌        | 7309/47164 [00:06<00:33, 1177.92it/s]\nLoading dataset:  16%|█▌        | 7428/47164 [00:06<00:33, 1181.10it/s]\nLoading dataset:  16%|█▌        | 7548/47164 [00:06<00:33, 1183.68it/s]\nLoading dataset:  16%|█▋        | 7667/47164 [00:06<00:33, 1184.53it/s]\nLoading dataset:  17%|█▋        | 7786/47164 [00:06<00:33, 1181.48it/s]\nLoading dataset:  17%|█▋        | 7905/47164 [00:06<00:33, 1181.83it/s]\nLoading dataset:  17%|█▋        | 8025/47164 [00:07<00:33, 1183.85it/s]\nLoading dataset:  17%|█▋        | 8145/47164 [00:07<00:32, 1186.78it/s]\nLoading dataset:  18%|█▊        | 8264/47164 [00:07<00:32, 1186.17it/s]\nLoading dataset:  18%|█▊        | 8385/47164 [00:07<00:32, 1191.88it/s]\nLoading dataset:  18%|█▊        | 8506/47164 [00:07<00:32, 1196.47it/s]\nLoading dataset:  18%|█▊        | 8626/47164 [00:07<00:32, 1197.47it/s]\nLoading dataset:  19%|█▊        | 8747/47164 [00:07<00:32, 1198.52it/s]\nLoading dataset:  19%|█▉        | 8867/47164 [00:07<00:31, 1197.39it/s]\nLoading dataset:  19%|█▉        | 8987/47164 [00:07<00:31, 1197.19it/s]\nLoading dataset:  19%|█▉        | 9108/47164 [00:07<00:31, 1198.32it/s]\nLoading dataset:  20%|█▉        | 9229/47164 [00:08<00:31, 1199.02it/s]\nLoading dataset:  20%|█▉        | 9350/47164 [00:08<00:31, 1200.47it/s]\nLoading dataset:  20%|██        | 9471/47164 [00:08<00:31, 1201.74it/s]\nLoading dataset:  20%|██        | 9592/47164 [00:08<00:31, 1181.42it/s]\nLoading dataset:  21%|██        | 9712/47164 [00:08<00:31, 1185.13it/s]\nLoading dataset:  21%|██        | 9831/47164 [00:08<00:31, 1182.97it/s]\nLoading dataset:  21%|██        | 9950/47164 [00:08<00:43, 862.19it/s] \nLoading dataset:  21%|██▏       | 10069/47164 [00:08<00:39, 937.90it/s]\nLoading dataset:  22%|██▏       | 10186/47164 [00:08<00:37, 994.90it/s]\nLoading dataset:  22%|██▏       | 10303/47164 [00:09<00:35, 1038.79it/s]\nLoading dataset:  22%|██▏       | 10423/47164 [00:09<00:33, 1081.23it/s]\nLoading dataset:  22%|██▏       | 10541/47164 [00:09<00:33, 1106.44it/s]\nLoading dataset:  23%|██▎       | 10661/47164 [00:09<00:32, 1130.61it/s]\nLoading dataset:  23%|██▎       | 10777/47164 [00:09<00:32, 1107.68it/s]\nLoading dataset:  23%|██▎       | 10890/47164 [00:09<00:33, 1093.50it/s]\nLoading dataset:  23%|██▎       | 11001/47164 [00:09<00:33, 1073.47it/s]\nLoading dataset:  24%|██▎       | 11110/47164 [00:09<00:33, 1077.88it/s]\nLoading dataset:  24%|██▍       | 11228/47164 [00:09<00:32, 1104.20it/s]\nLoading dataset:  24%|██▍       | 11345/47164 [00:10<00:31, 1120.66it/s]\nLoading dataset:  24%|██▍       | 11458/47164 [00:10<00:32, 1114.09it/s]\nLoading dataset:  25%|██▍       | 11572/47164 [00:10<00:31, 1121.53it/s]\nLoading dataset:  25%|██▍       | 11689/47164 [00:10<00:31, 1133.77it/s]\nLoading dataset:  25%|██▌       | 11807/47164 [00:10<00:30, 1146.21it/s]\nLoading dataset:  25%|██▌       | 11922/47164 [00:10<00:30, 1139.66it/s]\nLoading dataset:  26%|██▌       | 12040/47164 [00:10<00:30, 1149.20it/s]\nLoading dataset:  26%|██▌       | 12159/47164 [00:10<00:30, 1151.16it/s]\nLoading dataset:  26%|██▌       | 12275/47164 [00:10<00:31, 1091.93it/s]\nLoading dataset:  26%|██▋       | 12385/47164 [00:10<00:33, 1030.15it/s]\nLoading dataset:  27%|██▋       | 12505/47164 [00:11<00:32, 1076.47it/s]\nLoading dataset:  27%|██▋       | 12623/47164 [00:11<00:31, 1104.23it/s]\nLoading dataset:  27%|██▋       | 12736/47164 [00:11<00:30, 1110.91it/s]\nLoading dataset:  27%|██▋       | 12848/47164 [00:11<00:31, 1104.94it/s]\nLoading dataset:  27%|██▋       | 12959/47164 [00:11<00:30, 1105.98it/s]\nLoading dataset:  28%|██▊       | 13077/47164 [00:11<00:30, 1125.80it/s]\nLoading dataset:  28%|██▊       | 13196/47164 [00:11<00:29, 1144.33it/s]\nLoading dataset:  28%|██▊       | 13312/47164 [00:11<00:29, 1146.59it/s]\nLoading dataset:  28%|██▊       | 13434/47164 [00:11<00:28, 1165.65it/s]\nLoading dataset:  29%|██▊       | 13551/47164 [00:11<00:29, 1122.09it/s]\nLoading dataset:  29%|██▉       | 13666/47164 [00:12<00:29, 1128.92it/s]\nLoading dataset:  29%|██▉       | 13785/47164 [00:12<00:29, 1145.02it/s]\nLoading dataset:  29%|██▉       | 13900/47164 [00:12<00:29, 1134.73it/s]\nLoading dataset:  30%|██▉       | 14020/47164 [00:12<00:28, 1152.30it/s]\nLoading dataset:  30%|██▉       | 14137/47164 [00:12<00:28, 1156.09it/s]\nLoading dataset:  30%|███       | 14256/47164 [00:12<00:28, 1165.20it/s]\nLoading dataset:  30%|███       | 14373/47164 [00:12<00:28, 1134.73it/s]\nLoading dataset:  31%|███       | 14487/47164 [00:12<00:29, 1093.98it/s]\nLoading dataset:  31%|███       | 14597/47164 [00:12<00:30, 1080.93it/s]\nLoading dataset:  31%|███       | 14706/47164 [00:13<00:30, 1074.06it/s]\nLoading dataset:  31%|███▏      | 14815/47164 [00:13<00:30, 1077.78it/s]\nLoading dataset:  32%|███▏      | 14928/47164 [00:13<00:29, 1091.23it/s]\nLoading dataset:  32%|███▏      | 15040/47164 [00:13<00:29, 1099.37it/s]\nLoading dataset:  32%|███▏      | 15157/47164 [00:13<00:28, 1119.27it/s]\nLoading dataset:  32%|███▏      | 15279/47164 [00:13<00:27, 1148.95it/s]\nLoading dataset:  33%|███▎      | 15400/47164 [00:13<00:27, 1166.71it/s]\nLoading dataset:  33%|███▎      | 15523/47164 [00:13<00:26, 1185.13it/s]\nLoading dataset:  33%|███▎      | 15642/47164 [00:13<00:27, 1164.99it/s]\nLoading dataset:  33%|███▎      | 15762/47164 [00:13<00:26, 1174.64it/s]\nLoading dataset:  34%|███▎      | 15886/47164 [00:14<00:26, 1192.51it/s]\nLoading dataset:  34%|███▍      | 16006/47164 [00:14<00:26, 1154.52it/s]\nLoading dataset:  34%|███▍      | 16126/47164 [00:14<00:26, 1167.54it/s]\nLoading dataset:  34%|███▍      | 16247/47164 [00:14<00:26, 1177.82it/s]\nLoading dataset:  35%|███▍      | 16368/47164 [00:14<00:25, 1185.73it/s]\nLoading dataset:  35%|███▍      | 16491/47164 [00:14<00:25, 1196.70it/s]\nLoading dataset:  35%|███▌      | 16613/47164 [00:14<00:25, 1201.71it/s]\nLoading dataset:  35%|███▌      | 16734/47164 [00:14<00:25, 1188.12it/s]\nLoading dataset:  36%|███▌      | 16853/47164 [00:14<00:26, 1163.39it/s]\nLoading dataset:  36%|███▌      | 16970/47164 [00:14<00:26, 1130.21it/s]\nLoading dataset:  36%|███▌      | 17085/47164 [00:15<00:26, 1131.64it/s]\nLoading dataset:  36%|███▋      | 17199/47164 [00:15<00:26, 1132.48it/s]\nLoading dataset:  37%|███▋      | 17313/47164 [00:15<00:26, 1133.28it/s]\nLoading dataset:  37%|███▋      | 17434/47164 [00:15<00:25, 1153.93it/s]\nLoading dataset:  37%|███▋      | 17550/47164 [00:15<00:25, 1144.37it/s]\nLoading dataset:  37%|███▋      | 17672/47164 [00:15<00:25, 1166.00it/s]\nLoading dataset:  38%|███▊      | 17793/47164 [00:15<00:24, 1178.03it/s]\nLoading dataset:  38%|███▊      | 17914/47164 [00:15<00:24, 1184.53it/s]\nLoading dataset:  38%|███▊      | 18033/47164 [00:15<00:25, 1145.81it/s]\nLoading dataset:  38%|███▊      | 18148/47164 [00:15<00:25, 1145.59it/s]\nLoading dataset:  39%|███▊      | 18268/47164 [00:16<00:24, 1160.64it/s]\nLoading dataset:  39%|███▉      | 18389/47164 [00:16<00:24, 1174.82it/s]\nLoading dataset:  39%|███▉      | 18510/47164 [00:16<00:24, 1185.04it/s]\nLoading dataset:  40%|███▉      | 18631/47164 [00:16<00:23, 1192.04it/s]\nLoading dataset:  40%|███▉      | 18751/47164 [00:16<00:23, 1191.96it/s]\nLoading dataset:  40%|████      | 18871/47164 [00:16<00:23, 1192.13it/s]\nLoading dataset:  40%|████      | 18991/47164 [00:16<00:24, 1166.84it/s]\nLoading dataset:  41%|████      | 19110/47164 [00:16<00:23, 1171.70it/s]\nLoading dataset:  41%|████      | 19228/47164 [00:16<00:24, 1123.95it/s]\nLoading dataset:  41%|████      | 19341/47164 [00:17<00:24, 1120.18it/s]\nLoading dataset:  41%|████      | 19454/47164 [00:17<00:25, 1091.17it/s]\nLoading dataset:  41%|████▏     | 19564/47164 [00:17<00:25, 1091.86it/s]\nLoading dataset:  42%|████▏     | 19681/47164 [00:17<00:24, 1114.24it/s]\nLoading dataset:  42%|████▏     | 19793/47164 [00:17<00:24, 1102.28it/s]\nLoading dataset:  42%|████▏     | 19904/47164 [00:17<00:24, 1099.10it/s]\nLoading dataset:  42%|████▏     | 20015/47164 [00:17<00:25, 1054.54it/s]\nLoading dataset:  43%|████▎     | 20121/47164 [00:17<00:26, 1039.29it/s]\nLoading dataset:  43%|████▎     | 20226/47164 [00:17<00:26, 1021.00it/s]\nLoading dataset:  43%|████▎     | 20329/47164 [00:17<00:26, 1018.78it/s]\nLoading dataset:  43%|████▎     | 20439/47164 [00:18<00:25, 1040.68it/s]\nLoading dataset:  44%|████▎     | 20549/47164 [00:18<00:25, 1057.85it/s]\nLoading dataset:  44%|████▍     | 20655/47164 [00:18<00:25, 1039.78it/s]\nLoading dataset:  44%|████▍     | 20764/47164 [00:18<00:25, 1052.15it/s]\nLoading dataset:  44%|████▍     | 20875/47164 [00:18<00:24, 1068.82it/s]\nLoading dataset:  44%|████▍     | 20986/47164 [00:18<00:24, 1077.78it/s]\nLoading dataset:  45%|████▍     | 21094/47164 [00:18<00:24, 1058.38it/s]\nLoading dataset:  45%|████▍     | 21206/47164 [00:18<00:24, 1074.76it/s]\nLoading dataset:  45%|████▌     | 21315/47164 [00:18<00:23, 1078.33it/s]\nLoading dataset:  45%|████▌     | 21425/47164 [00:18<00:23, 1083.93it/s]\nLoading dataset:  46%|████▌     | 21536/47164 [00:19<00:23, 1089.52it/s]\nLoading dataset:  46%|████▌     | 21656/47164 [00:19<00:22, 1122.13it/s]\nLoading dataset:  46%|████▌     | 21769/47164 [00:19<00:23, 1095.78it/s]\nLoading dataset:  46%|████▋     | 21880/47164 [00:19<00:23, 1099.29it/s]\nLoading dataset:  47%|████▋     | 21994/47164 [00:19<00:22, 1108.81it/s]\nLoading dataset:  47%|████▋     | 22105/47164 [00:19<00:22, 1090.57it/s]\nLoading dataset:  47%|████▋     | 22215/47164 [00:19<00:22, 1088.65it/s]\nLoading dataset:  47%|████▋     | 22326/47164 [00:19<00:22, 1092.97it/s]\nLoading dataset:  48%|████▊     | 22437/47164 [00:19<00:22, 1096.79it/s]\nLoading dataset:  48%|████▊     | 22547/47164 [00:20<00:22, 1097.72it/s]\nLoading dataset:  48%|████▊     | 22665/47164 [00:20<00:21, 1121.18it/s]\nLoading dataset:  48%|████▊     | 22785/47164 [00:20<00:21, 1142.31it/s]\nLoading dataset:  49%|████▊     | 22907/47164 [00:20<00:20, 1164.89it/s]\nLoading dataset:  49%|████▉     | 23029/47164 [00:20<00:20, 1181.30it/s]\nLoading dataset:  49%|████▉     | 23148/47164 [00:20<00:20, 1183.58it/s]\nLoading dataset:  49%|████▉     | 23267/47164 [00:20<00:20, 1150.68it/s]\nLoading dataset:  50%|████▉     | 23383/47164 [00:20<00:20, 1137.18it/s]\nLoading dataset:  50%|████▉     | 23502/47164 [00:20<00:20, 1151.60it/s]\nLoading dataset:  50%|█████     | 23622/47164 [00:20<00:20, 1163.54it/s]\nLoading dataset:  50%|█████     | 23741/47164 [00:21<00:20, 1171.03it/s]\nLoading dataset:  51%|█████     | 23859/47164 [00:21<00:19, 1173.62it/s]\nLoading dataset:  51%|█████     | 23978/47164 [00:21<00:19, 1177.92it/s]\nLoading dataset:  51%|█████     | 24099/47164 [00:21<00:19, 1186.62it/s]\nLoading dataset:  51%|█████▏    | 24226/47164 [00:21<00:18, 1211.09it/s]\nLoading dataset:  52%|█████▏    | 24353/47164 [00:21<00:18, 1227.63it/s]\nLoading dataset:  52%|█████▏    | 24476/47164 [00:21<00:18, 1216.52it/s]\nLoading dataset:  52%|█████▏    | 24598/47164 [00:21<00:19, 1167.24it/s]\nLoading dataset:  52%|█████▏    | 24716/47164 [00:21<00:19, 1168.24it/s]\nLoading dataset:  53%|█████▎    | 24836/47164 [00:21<00:18, 1176.13it/s]\nLoading dataset:  53%|█████▎    | 24957/47164 [00:22<00:18, 1183.90it/s]\nLoading dataset:  53%|█████▎    | 25076/47164 [00:22<00:18, 1185.14it/s]\nLoading dataset:  53%|█████▎    | 25196/47164 [00:22<00:18, 1187.79it/s]\nLoading dataset:  54%|█████▎    | 25317/47164 [00:22<00:18, 1192.87it/s]\nLoading dataset:  54%|█████▍    | 25438/47164 [00:22<00:18, 1196.33it/s]\nLoading dataset:  54%|█████▍    | 25558/47164 [00:22<00:18, 1193.43it/s]\nLoading dataset:  54%|█████▍    | 25678/47164 [00:22<00:18, 1193.03it/s]\nLoading dataset:  55%|█████▍    | 25798/47164 [00:22<00:18, 1185.10it/s]\nLoading dataset:  55%|█████▍    | 25917/47164 [00:22<00:18, 1180.04it/s]\nLoading dataset:  55%|█████▌    | 26038/47164 [00:22<00:17, 1186.36it/s]\nLoading dataset:  55%|█████▌    | 26158/47164 [00:23<00:17, 1187.63it/s]\nLoading dataset:  56%|█████▌    | 26277/47164 [00:23<00:17, 1170.59it/s]\nLoading dataset:  56%|█████▌    | 26395/47164 [00:23<00:17, 1170.51it/s]\nLoading dataset:  56%|█████▌    | 26514/47164 [00:23<00:17, 1174.32it/s]\nLoading dataset:  56%|█████▋    | 26634/47164 [00:23<00:17, 1178.63it/s]\nLoading dataset:  57%|█████▋    | 26753/47164 [00:23<00:17, 1180.80it/s]\nLoading dataset:  57%|█████▋    | 26872/47164 [00:23<00:24, 828.18it/s] \nLoading dataset:  57%|█████▋    | 26993/47164 [00:23<00:22, 914.84it/s]\nLoading dataset:  57%|█████▋    | 27114/47164 [00:24<00:20, 986.76it/s]\nLoading dataset:  58%|█████▊    | 27234/47164 [00:24<00:19, 1041.96it/s]\nLoading dataset:  58%|█████▊    | 27352/47164 [00:24<00:18, 1079.16it/s]\nLoading dataset:  58%|█████▊    | 27472/47164 [00:24<00:17, 1110.85it/s]\nLoading dataset:  58%|█████▊    | 27588/47164 [00:24<00:17, 1121.56it/s]\nLoading dataset:  59%|█████▊    | 27704/47164 [00:24<00:17, 1122.39it/s]\nLoading dataset:  59%|█████▉    | 27819/47164 [00:24<00:17, 1112.49it/s]\nLoading dataset:  59%|█████▉    | 27941/47164 [00:24<00:16, 1141.97it/s]\nLoading dataset:  59%|█████▉    | 28058/47164 [00:24<00:16, 1148.11it/s]\nLoading dataset:  60%|█████▉    | 28176/47164 [00:24<00:16, 1154.56it/s]\nLoading dataset:  60%|█████▉    | 28293/47164 [00:25<00:16, 1129.52it/s]\nLoading dataset:  60%|██████    | 28407/47164 [00:25<00:16, 1116.06it/s]\nLoading dataset:  60%|██████    | 28519/47164 [00:25<00:16, 1111.21it/s]\nLoading dataset:  61%|██████    | 28642/47164 [00:25<00:16, 1143.53it/s]\nLoading dataset:  61%|██████    | 28757/47164 [00:25<00:16, 1136.68it/s]\nLoading dataset:  61%|██████    | 28880/47164 [00:25<00:15, 1163.19it/s]\nLoading dataset:  61%|██████▏   | 29004/47164 [00:25<00:15, 1184.32it/s]\nLoading dataset:  62%|██████▏   | 29126/47164 [00:25<00:15, 1191.56it/s]\nLoading dataset:  62%|██████▏   | 29246/47164 [00:25<00:15, 1193.14it/s]\nLoading dataset:  62%|██████▏   | 29366/47164 [00:25<00:14, 1194.04it/s]\nLoading dataset:  63%|██████▎   | 29487/47164 [00:26<00:14, 1196.73it/s]\nLoading dataset:  63%|██████▎   | 29607/47164 [00:26<00:14, 1195.08it/s]\nLoading dataset:  63%|██████▎   | 29727/47164 [00:26<00:14, 1176.72it/s]\nLoading dataset:  63%|██████▎   | 29849/47164 [00:26<00:14, 1188.47it/s]\nLoading dataset:  64%|██████▎   | 29969/47164 [00:26<00:14, 1189.85it/s]\nLoading dataset:  64%|██████▍   | 30089/47164 [00:26<00:14, 1192.58it/s]\nLoading dataset:  64%|██████▍   | 30209/47164 [00:26<00:14, 1192.41it/s]\nLoading dataset:  64%|██████▍   | 30329/47164 [00:26<00:14, 1192.53it/s]\nLoading dataset:  65%|██████▍   | 30449/47164 [00:26<00:14, 1190.57it/s]\nLoading dataset:  65%|██████▍   | 30570/47164 [00:26<00:13, 1194.87it/s]\nLoading dataset:  65%|██████▌   | 30690/47164 [00:27<00:14, 1172.95it/s]\nLoading dataset:  65%|██████▌   | 30810/47164 [00:27<00:13, 1179.51it/s]\nLoading dataset:  66%|██████▌   | 30930/47164 [00:27<00:13, 1184.70it/s]\nLoading dataset:  66%|██████▌   | 31050/47164 [00:27<00:13, 1186.94it/s]\nLoading dataset:  66%|██████▌   | 31169/47164 [00:27<00:13, 1143.22it/s]\nLoading dataset:  66%|██████▋   | 31290/47164 [00:27<00:13, 1160.82it/s]\nLoading dataset:  67%|██████▋   | 31408/47164 [00:27<00:13, 1165.61it/s]\nLoading dataset:  67%|██████▋   | 31530/47164 [00:27<00:13, 1178.88it/s]\nLoading dataset:  67%|██████▋   | 31650/47164 [00:27<00:13, 1183.79it/s]\nLoading dataset:  67%|██████▋   | 31770/47164 [00:27<00:12, 1188.17it/s]\nLoading dataset:  68%|██████▊   | 31892/47164 [00:28<00:12, 1195.32it/s]\nLoading dataset:  68%|██████▊   | 32013/47164 [00:28<00:12, 1198.64it/s]\nLoading dataset:  68%|██████▊   | 32137/47164 [00:28<00:12, 1207.78it/s]\nLoading dataset:  68%|██████▊   | 32260/47164 [00:28<00:12, 1212.90it/s]\nLoading dataset:  69%|██████▊   | 32382/47164 [00:28<00:12, 1208.89it/s]\nLoading dataset:  69%|██████▉   | 32503/47164 [00:28<00:12, 1205.23it/s]\nLoading dataset:  69%|██████▉   | 32624/47164 [00:28<00:12, 1183.67it/s]\nLoading dataset:  69%|██████▉   | 32743/47164 [00:28<00:12, 1184.41it/s]\nLoading dataset:  70%|██████▉   | 32863/47164 [00:28<00:12, 1188.15it/s]\nLoading dataset:  70%|██████▉   | 32982/47164 [00:28<00:12, 1174.67it/s]\nLoading dataset:  70%|███████   | 33100/47164 [00:29<00:11, 1175.33it/s]\nLoading dataset:  70%|███████   | 33219/47164 [00:29<00:11, 1177.29it/s]\nLoading dataset:  71%|███████   | 33337/47164 [00:29<00:12, 1135.14it/s]\nLoading dataset:  71%|███████   | 33454/47164 [00:29<00:11, 1144.51it/s]\nLoading dataset:  71%|███████   | 33569/47164 [00:29<00:12, 1127.87it/s]\nLoading dataset:  71%|███████▏  | 33682/47164 [00:29<00:12, 1114.94it/s]\nLoading dataset:  72%|███████▏  | 33798/47164 [00:29<00:11, 1127.32it/s]\nLoading dataset:  72%|███████▏  | 33920/47164 [00:29<00:11, 1153.99it/s]\nLoading dataset:  72%|███████▏  | 34040/47164 [00:29<00:11, 1164.77it/s]\nLoading dataset:  72%|███████▏  | 34160/47164 [00:30<00:11, 1173.11it/s]\nLoading dataset:  73%|███████▎  | 34279/47164 [00:30<00:10, 1175.68it/s]\nLoading dataset:  73%|███████▎  | 34397/47164 [00:30<00:10, 1166.37it/s]\nLoading dataset:  73%|███████▎  | 34519/47164 [00:30<00:10, 1179.78it/s]\nLoading dataset:  73%|███████▎  | 34638/47164 [00:30<00:10, 1162.65it/s]\nLoading dataset:  74%|███████▎  | 34759/47164 [00:30<00:10, 1175.67it/s]\nLoading dataset:  74%|███████▍  | 34881/47164 [00:30<00:10, 1186.74it/s]\nLoading dataset:  74%|███████▍  | 35000/47164 [00:30<00:10, 1185.16it/s]\nLoading dataset:  74%|███████▍  | 35119/47164 [00:30<00:10, 1171.07it/s]\nLoading dataset:  75%|███████▍  | 35243/47164 [00:30<00:10, 1190.77it/s]\nLoading dataset:  75%|███████▍  | 35363/47164 [00:31<00:10, 1164.75it/s]\nLoading dataset:  75%|███████▌  | 35480/47164 [00:31<00:10, 1136.41it/s]\nLoading dataset:  75%|███████▌  | 35597/47164 [00:31<00:10, 1145.22it/s]\nLoading dataset:  76%|███████▌  | 35717/47164 [00:31<00:09, 1159.46it/s]\nLoading dataset:  76%|███████▌  | 35835/47164 [00:31<00:09, 1162.88it/s]\nLoading dataset:  76%|███████▌  | 35952/47164 [00:31<00:09, 1160.56it/s]\nLoading dataset:  76%|███████▋  | 36072/47164 [00:31<00:09, 1169.93it/s]\nLoading dataset:  77%|███████▋  | 36190/47164 [00:31<00:09, 1155.81it/s]\nLoading dataset:  77%|███████▋  | 36306/47164 [00:31<00:09, 1102.46it/s]\nLoading dataset:  77%|███████▋  | 36417/47164 [00:31<00:09, 1090.27it/s]\nLoading dataset:  77%|███████▋  | 36532/47164 [00:32<00:09, 1105.84it/s]\nLoading dataset:  78%|███████▊  | 36643/47164 [00:32<00:09, 1104.18it/s]\nLoading dataset:  78%|███████▊  | 36755/47164 [00:32<00:09, 1106.35it/s]\nLoading dataset:  78%|███████▊  | 36866/47164 [00:32<00:09, 1095.60it/s]\nLoading dataset:  78%|███████▊  | 36985/47164 [00:32<00:09, 1123.15it/s]\nLoading dataset:  79%|███████▊  | 37103/47164 [00:32<00:08, 1138.36it/s]\nLoading dataset:  79%|███████▉  | 37217/47164 [00:32<00:08, 1125.76it/s]\nLoading dataset:  79%|███████▉  | 37336/47164 [00:32<00:08, 1142.16it/s]\nLoading dataset:  79%|███████▉  | 37456/47164 [00:32<00:08, 1157.74it/s]\nLoading dataset:  80%|███████▉  | 37577/47164 [00:32<00:08, 1171.12it/s]\nLoading dataset:  80%|███████▉  | 37698/47164 [00:33<00:08, 1181.44it/s]\nLoading dataset:  80%|████████  | 37820/47164 [00:33<00:07, 1191.68it/s]\nLoading dataset:  80%|████████  | 37941/47164 [00:33<00:07, 1196.43it/s]\nLoading dataset:  81%|████████  | 38061/47164 [00:33<00:07, 1157.08it/s]\nLoading dataset:  81%|████████  | 38178/47164 [00:33<00:08, 1115.55it/s]\nLoading dataset:  81%|████████  | 38301/47164 [00:33<00:07, 1146.30it/s]\nLoading dataset:  81%|████████▏ | 38417/47164 [00:33<00:07, 1149.15it/s]\nLoading dataset:  82%|████████▏ | 38533/47164 [00:33<00:07, 1148.40it/s]\nLoading dataset:  82%|████████▏ | 38651/47164 [00:33<00:07, 1156.18it/s]\nLoading dataset:  82%|████████▏ | 38768/47164 [00:34<00:07, 1153.20it/s]\nLoading dataset:  82%|████████▏ | 38884/47164 [00:34<00:07, 1137.96it/s]\nLoading dataset:  83%|████████▎ | 38999/47164 [00:34<00:07, 1138.88it/s]\nLoading dataset:  83%|████████▎ | 39113/47164 [00:34<00:07, 1112.21it/s]\nLoading dataset:  83%|████████▎ | 39232/47164 [00:34<00:06, 1134.20it/s]\nLoading dataset:  83%|████████▎ | 39351/47164 [00:34<00:06, 1148.21it/s]\nLoading dataset:  84%|████████▎ | 39470/47164 [00:34<00:06, 1158.18it/s]\nLoading dataset:  84%|████████▍ | 39590/47164 [00:34<00:06, 1167.49it/s]\nLoading dataset:  84%|████████▍ | 39709/47164 [00:34<00:06, 1174.04it/s]\nLoading dataset:  84%|████████▍ | 39827/47164 [00:34<00:06, 1175.78it/s]\nLoading dataset:  85%|████████▍ | 39947/47164 [00:35<00:06, 1180.39it/s]\nLoading dataset:  85%|████████▍ | 40067/47164 [00:35<00:05, 1185.41it/s]\nLoading dataset:  85%|████████▌ | 40186/47164 [00:35<00:05, 1183.37it/s]\nLoading dataset:  85%|████████▌ | 40307/47164 [00:35<00:05, 1189.34it/s]\nLoading dataset:  86%|████████▌ | 40426/47164 [00:35<00:05, 1188.69it/s]\nLoading dataset:  86%|████████▌ | 40547/47164 [00:35<00:05, 1189.94it/s]\nLoading dataset:  86%|████████▌ | 40666/47164 [00:35<00:05, 1154.83it/s]\nLoading dataset:  86%|████████▋ | 40782/47164 [00:35<00:05, 1137.27it/s]\nLoading dataset:  87%|████████▋ | 40896/47164 [00:35<00:05, 1124.55it/s]\nLoading dataset:  87%|████████▋ | 41009/47164 [00:35<00:05, 1124.20it/s]\nLoading dataset:  87%|████████▋ | 41129/47164 [00:36<00:05, 1146.36it/s]\nLoading dataset:  87%|████████▋ | 41248/47164 [00:36<00:05, 1158.35it/s]\nLoading dataset:  88%|████████▊ | 41368/47164 [00:36<00:04, 1168.14it/s]\nLoading dataset:  88%|████████▊ | 41488/47164 [00:36<00:04, 1175.22it/s]\nLoading dataset:  88%|████████▊ | 41608/47164 [00:36<00:04, 1182.13it/s]\nLoading dataset:  88%|████████▊ | 41727/47164 [00:36<00:04, 1178.43it/s]\nLoading dataset:  89%|████████▊ | 41845/47164 [00:36<00:04, 1161.16it/s]\nLoading dataset:  89%|████████▉ | 41962/47164 [00:36<00:04, 1162.87it/s]\nLoading dataset:  89%|████████▉ | 42081/47164 [00:36<00:04, 1169.81it/s]\nLoading dataset:  89%|████████▉ | 42199/47164 [00:36<00:04, 1165.90it/s]\nLoading dataset:  90%|████████▉ | 42317/47164 [00:37<00:04, 1167.85it/s]\nLoading dataset:  90%|████████▉ | 42437/47164 [00:37<00:04, 1174.66it/s]\nLoading dataset:  90%|█████████ | 42557/47164 [00:37<00:03, 1182.11it/s]\nLoading dataset:  90%|█████████ | 42677/47164 [00:37<00:03, 1185.23it/s]\nLoading dataset:  91%|█████████ | 42796/47164 [00:37<00:03, 1184.30it/s]\nLoading dataset:  91%|█████████ | 42916/47164 [00:37<00:03, 1186.85it/s]\nLoading dataset:  91%|█████████ | 43036/47164 [00:37<00:03, 1188.88it/s]\nLoading dataset:  91%|█████████▏| 43155/47164 [00:37<00:03, 1186.30it/s]\nLoading dataset:  92%|█████████▏| 43276/47164 [00:37<00:03, 1192.61it/s]\nLoading dataset:  92%|█████████▏| 43398/47164 [00:37<00:03, 1198.29it/s]\nLoading dataset:  92%|█████████▏| 43519/47164 [00:38<00:03, 1200.89it/s]\nLoading dataset:  93%|█████████▎| 43640/47164 [00:38<00:03, 1167.26it/s]\nLoading dataset:  93%|█████████▎| 43757/47164 [00:38<00:02, 1153.17it/s]\nLoading dataset:  93%|█████████▎| 43873/47164 [00:38<00:02, 1140.27it/s]\nLoading dataset:  93%|█████████▎| 43991/47164 [00:38<00:02, 1150.98it/s]\nLoading dataset:  94%|█████████▎| 44112/47164 [00:38<00:02, 1167.58it/s]\nLoading dataset:  94%|█████████▍| 44231/47164 [00:38<00:02, 1171.79it/s]\nLoading dataset:  94%|█████████▍| 44350/47164 [00:38<00:02, 1176.29it/s]\nLoading dataset:  94%|█████████▍| 44469/47164 [00:38<00:02, 1180.13it/s]\nLoading dataset:  95%|█████████▍| 44590/47164 [00:39<00:02, 1186.11it/s]\nLoading dataset:  95%|█████████▍| 44710/47164 [00:39<00:02, 1187.54it/s]\nLoading dataset:  95%|█████████▌| 44830/47164 [00:39<00:01, 1189.35it/s]\nLoading dataset:  95%|█████████▌| 44950/47164 [00:39<00:01, 1190.86it/s]\nLoading dataset:  96%|█████████▌| 45070/47164 [00:39<00:01, 1190.74it/s]\nLoading dataset:  96%|█████████▌| 45190/47164 [00:39<00:01, 1136.54it/s]\nLoading dataset:  96%|█████████▌| 45305/47164 [00:39<00:02, 768.43it/s] \nLoading dataset:  96%|█████████▋| 45415/47164 [00:39<00:02, 839.35it/s]\nLoading dataset:  97%|█████████▋| 45527/47164 [00:39<00:01, 905.57it/s]\nLoading dataset:  97%|█████████▋| 45648/47164 [00:40<00:01, 981.50it/s]\nLoading dataset:  97%|█████████▋| 45766/47164 [00:40<00:01, 1032.33it/s]\nLoading dataset:  97%|█████████▋| 45877/47164 [00:40<00:01, 1040.22it/s]\nLoading dataset:  98%|█████████▊| 45987/47164 [00:40<00:01, 1040.91it/s]\nLoading dataset:  98%|█████████▊| 46095/47164 [00:40<00:01, 1047.58it/s]\nLoading dataset:  98%|█████████▊| 46214/47164 [00:40<00:00, 1086.68it/s]\nLoading dataset:  98%|█████████▊| 46333/47164 [00:40<00:00, 1115.94it/s]\nLoading dataset:  98%|█████████▊| 46451/47164 [00:40<00:00, 1132.59it/s]\nLoading dataset:  99%|█████████▊| 46570/47164 [00:40<00:00, 1148.36it/s]\nLoading dataset:  99%|█████████▉| 46686/47164 [00:41<00:00, 1131.41it/s]\nLoading dataset:  99%|█████████▉| 46800/47164 [00:41<00:00, 1123.50it/s]\nLoading dataset:  99%|█████████▉| 46913/47164 [00:41<00:00, 1116.75it/s]\nLoading dataset: 100%|█████████▉| 47032/47164 [00:41<00:00, 1136.07it/s]\nLoading dataset: 100%|█████████▉| 47152/47164 [00:41<00:00, 1152.43it/s]\nLoading dataset: 100%|██████████| 47164/47164 [00:41<00:00, 1138.44it/s]\n2023-09-11 14:49:04,295 - INFO - Verified 'MedNIST.tar.gz', md5: 0bc7306e7427e00ad1c5526a6677552d.\n2023-09-11 14:49:04,295 - INFO - File exists: MedNIST.tar.gz, skipped downloading.\n2023-09-11 14:49:04,295 - INFO - Non-empty folder exists in MedNIST, skipped extracting.\n\nLoading dataset:   0%|          | 0/5895 [00:00<?, ?it/s]\nLoading dataset:   2%|▏         | 98/5895 [00:00<00:05, 971.41it/s]\nLoading dataset:   3%|▎         | 206/5895 [00:00<00:05, 1034.71it/s]\nLoading dataset:   5%|▌         | 315/5895 [00:00<00:05, 1055.61it/s]\nLoading dataset:   7%|▋         | 422/5895 [00:00<00:05, 1060.48it/s]\nLoading dataset:   9%|▉         | 529/5895 [00:00<00:05, 1061.77it/s]\nLoading dataset:  11%|█         | 636/5895 [00:00<00:05, 996.71it/s] \nLoading dataset:  13%|█▎        | 740/5895 [00:00<00:05, 1007.53it/s]\nLoading dataset:  14%|█▍        | 845/5895 [00:00<00:04, 1018.33it/s]\nLoading dataset:  16%|█▌        | 948/5895 [00:00<00:04, 998.78it/s] \nLoading dataset:  18%|█▊        | 1055/5895 [00:01<00:04, 1017.67it/s]\nLoading dataset:  20%|█▉        | 1160/5895 [00:01<00:04, 1026.75it/s]\nLoading dataset:  21%|██▏       | 1263/5895 [00:01<00:04, 1024.03it/s]\nLoading dataset:  23%|██▎       | 1366/5895 [00:01<00:04, 1018.56it/s]\nLoading dataset:  25%|██▍       | 1468/5895 [00:01<00:04, 1015.57it/s]\nLoading dataset:  27%|██▋       | 1570/5895 [00:01<00:04, 1011.93it/s]\nLoading dataset:  28%|██▊       | 1675/5895 [00:01<00:04, 1022.72it/s]\nLoading dataset:  30%|███       | 1779/5895 [00:01<00:04, 1025.59it/s]\nLoading dataset:  32%|███▏      | 1882/5895 [00:01<00:03, 1018.34it/s]\nLoading dataset:  34%|███▎      | 1985/5895 [00:01<00:03, 1018.61it/s]\nLoading dataset:  35%|███▌      | 2087/5895 [00:02<00:03, 1017.21it/s]\nLoading dataset:  37%|███▋      | 2191/5895 [00:02<00:03, 1023.42it/s]\nLoading dataset:  39%|███▉      | 2296/5895 [00:02<00:03, 1028.42it/s]\nLoading dataset:  41%|████      | 2401/5895 [00:02<00:03, 1033.79it/s]\nLoading dataset:  43%|████▎     | 2507/5895 [00:02<00:03, 1040.13it/s]\nLoading dataset:  44%|████▍     | 2613/5895 [00:02<00:03, 1045.08it/s]\nLoading dataset:  46%|████▌     | 2718/5895 [00:02<00:03, 1034.34it/s]\nLoading dataset:  48%|████▊     | 2822/5895 [00:02<00:03, 1014.95it/s]\nLoading dataset:  50%|████▉     | 2924/5895 [00:02<00:02, 1010.30it/s]\nLoading dataset:  51%|█████▏    | 3026/5895 [00:02<00:02, 999.17it/s] \nLoading dataset:  53%|█████▎    | 3126/5895 [00:03<00:02, 976.42it/s]\nLoading dataset:  55%|█████▍    | 3224/5895 [00:03<00:02, 949.07it/s]\nLoading dataset:  56%|█████▋    | 3320/5895 [00:03<00:02, 947.26it/s]\nLoading dataset:  58%|█████▊    | 3415/5895 [00:03<00:02, 947.74it/s]\nLoading dataset:  60%|█████▉    | 3510/5895 [00:03<00:02, 940.96it/s]\nLoading dataset:  61%|██████    | 3605/5895 [00:03<00:02, 924.60it/s]\nLoading dataset:  63%|██████▎   | 3708/5895 [00:03<00:02, 952.78it/s]\nLoading dataset:  65%|██████▍   | 3811/5895 [00:03<00:02, 973.20it/s]\nLoading dataset:  66%|██████▋   | 3917/5895 [00:03<00:01, 998.27it/s]\nLoading dataset:  68%|██████▊   | 4017/5895 [00:04<00:01, 987.51it/s]\nLoading dataset:  70%|██████▉   | 4119/5895 [00:04<00:01, 996.43it/s]\nLoading dataset:  72%|███████▏  | 4220/5895 [00:04<00:01, 1000.19it/s]\nLoading dataset:  73%|███████▎  | 4321/5895 [00:04<00:01, 999.45it/s] \nLoading dataset:  75%|███████▍  | 4421/5895 [00:04<00:01, 998.56it/s]\nLoading dataset:  77%|███████▋  | 4521/5895 [00:04<00:01, 994.45it/s]\nLoading dataset:  78%|███████▊  | 4627/5895 [00:04<00:01, 1013.67it/s]\nLoading dataset:  80%|████████  | 4729/5895 [00:04<00:01, 991.14it/s] \nLoading dataset:  82%|████████▏ | 4830/5895 [00:04<00:01, 996.10it/s]\nLoading dataset:  84%|████████▎ | 4930/5895 [00:04<00:00, 985.45it/s]\nLoading dataset:  85%|████████▌ | 5031/5895 [00:05<00:00, 990.85it/s]\nLoading dataset:  87%|████████▋ | 5132/5895 [00:05<00:00, 995.30it/s]\nLoading dataset:  89%|████████▉ | 5236/5895 [00:05<00:00, 1008.01it/s]\nLoading dataset:  91%|█████████ | 5339/5895 [00:05<00:00, 1013.90it/s]\nLoading dataset:  92%|█████████▏| 5441/5895 [00:05<00:00, 1011.17it/s]\nLoading dataset:  94%|█████████▍| 5545/5895 [00:05<00:00, 1017.63it/s]\nLoading dataset:  96%|█████████▌| 5648/5895 [00:05<00:00, 1019.56it/s]\nLoading dataset:  98%|█████████▊| 5750/5895 [00:05<00:00, 1019.60it/s]\nLoading dataset:  99%|█████████▉| 5852/5895 [00:05<00:00, 1019.19it/s]\nLoading dataset: 100%|██████████| 5895/5895 [00:05<00:00, 1005.20it/s]\n2023-09-11 14:49:10,295 - ignite.engine.engine.SupervisedTrainer - INFO - Engine run resuming from iteration 0, epoch 0 until 2 epochs\n2023-09-11 14:49:10,476 - ignite.engine.engine.SupervisedTrainer - INFO - Restored all variables from ./MedNISTClassifier_v2/models/model.pt\n2023-09-11 14:49:11,409 - INFO - Epoch: 1/2, Iter: 1/93 -- train_loss: 0.1408 \n2023-09-11 14:49:11,790 - INFO - Epoch: 1/2, Iter: 2/93 -- train_loss: 0.1497 \n2023-09-11 14:49:12,157 - INFO - Epoch: 1/2, Iter: 3/93 -- train_loss: 0.1227 \n2023-09-11 14:49:12,524 - INFO - Epoch: 1/2, Iter: 4/93 -- train_loss: 0.1367 \n2023-09-11 14:49:12,892 - INFO - Epoch: 1/2, Iter: 5/93 -- train_loss: 0.1129 \n2023-09-11 14:49:13,264 - INFO - Epoch: 1/2, Iter: 6/93 -- train_loss: 0.1248 \n2023-09-11 14:49:13,629 - INFO - Epoch: 1/2, Iter: 7/93 -- train_loss: 0.1039 \n2023-09-11 14:49:13,996 - INFO - Epoch: 1/2, Iter: 8/93 -- train_loss: 0.1250 \n2023-09-11 14:49:14,365 - INFO - Epoch: 1/2, Iter: 9/93 -- train_loss: 0.1278 \n2023-09-11 14:49:14,738 - INFO - Epoch: 1/2, Iter: 10/93 -- train_loss: 0.1456 \n2023-09-11 14:49:15,106 - INFO - Epoch: 1/2, Iter: 11/93 -- train_loss: 0.1288 \n2023-09-11 14:49:15,475 - INFO - Epoch: 1/2, Iter: 12/93 -- train_loss: 0.1243 \n2023-09-11 14:49:15,843 - INFO - Epoch: 1/2, Iter: 13/93 -- train_loss: 0.1101 \n2023-09-11 14:49:16,218 - INFO - Epoch: 1/2, Iter: 14/93 -- train_loss: 0.0962 \n2023-09-11 14:49:16,593 - INFO - Epoch: 1/2, Iter: 15/93 -- train_loss: 0.1100 \n2023-09-11 14:49:17,197 - INFO - Epoch: 1/2, Iter: 16/93 -- train_loss: 0.1106 \n2023-09-11 14:49:17,566 - INFO - Epoch: 1/2, Iter: 17/93 -- train_loss: 0.1043 \n2023-09-11 14:49:17,934 - INFO - Epoch: 1/2, Iter: 18/93 -- train_loss: 0.0998 \n2023-09-11 14:49:18,303 - INFO - Epoch: 1/2, Iter: 19/93 -- train_loss: 0.1080 \n2023-09-11 14:49:18,673 - INFO - Epoch: 1/2, Iter: 20/93 -- train_loss: 0.1032 \n2023-09-11 14:49:19,043 - INFO - Epoch: 1/2, Iter: 21/93 -- train_loss: 0.1146 \n2023-09-11 14:49:19,415 - INFO - Epoch: 1/2, Iter: 22/93 -- train_loss: 0.0937 \n2023-09-11 14:49:19,784 - INFO - Epoch: 1/2, Iter: 23/93 -- train_loss: 0.1036 \n2023-09-11 14:49:20,155 - INFO - Epoch: 1/2, Iter: 24/93 -- train_loss: 0.0901 \n2023-09-11 14:49:20,526 - INFO - Epoch: 1/2, Iter: 25/93 -- train_loss: 0.0919 \n2023-09-11 14:49:20,897 - INFO - Epoch: 1/2, Iter: 26/93 -- train_loss: 0.0786 \n2023-09-11 14:49:21,267 - INFO - Epoch: 1/2, Iter: 27/93 -- train_loss: 0.0938 \n2023-09-11 14:49:21,638 - INFO - Epoch: 1/2, Iter: 28/93 -- train_loss: 0.0952 \n2023-09-11 14:49:22,007 - INFO - Epoch: 1/2, Iter: 29/93 -- train_loss: 0.0871 \n2023-09-11 14:49:22,377 - INFO - Epoch: 1/2, Iter: 30/93 -- train_loss: 0.0799 \n2023-09-11 14:49:22,753 - INFO - Epoch: 1/2, Iter: 31/93 -- train_loss: 0.0810 \n2023-09-11 14:49:23,129 - INFO - Epoch: 1/2, Iter: 32/93 -- train_loss: 0.0735 \n2023-09-11 14:49:23,499 - INFO - Epoch: 1/2, Iter: 33/93 -- train_loss: 0.0701 \n2023-09-11 14:49:23,872 - INFO - Epoch: 1/2, Iter: 34/93 -- train_loss: 0.0976 \n2023-09-11 14:49:24,244 - INFO - Epoch: 1/2, Iter: 35/93 -- train_loss: 0.0689 \n2023-09-11 14:49:24,614 - INFO - Epoch: 1/2, Iter: 36/93 -- train_loss: 0.0924 \n2023-09-11 14:49:24,984 - INFO - Epoch: 1/2, Iter: 37/93 -- train_loss: 0.0950 \n2023-09-11 14:49:25,355 - INFO - Epoch: 1/2, Iter: 38/93 -- train_loss: 0.0813 \n2023-09-11 14:49:25,725 - INFO - Epoch: 1/2, Iter: 39/93 -- train_loss: 0.0812 \n2023-09-11 14:49:26,095 - INFO - Epoch: 1/2, Iter: 40/93 -- train_loss: 0.0585 \n2023-09-11 14:49:26,464 - INFO - Epoch: 1/2, Iter: 41/93 -- train_loss: 0.0809 \n2023-09-11 14:49:26,835 - INFO - Epoch: 1/2, Iter: 42/93 -- train_loss: 0.0681 \n2023-09-11 14:49:27,206 - INFO - Epoch: 1/2, Iter: 43/93 -- train_loss: 0.0752 \n2023-09-11 14:49:27,576 - INFO - Epoch: 1/2, Iter: 44/93 -- train_loss: 0.0706 \n2023-09-11 14:49:27,945 - INFO - Epoch: 1/2, Iter: 45/93 -- train_loss: 0.0703 \n2023-09-11 14:49:28,315 - INFO - Epoch: 1/2, Iter: 46/93 -- train_loss: 0.0745 \n2023-09-11 14:49:28,718 - INFO - Epoch: 1/2, Iter: 47/93 -- train_loss: 0.0596 \n2023-09-11 14:49:29,088 - INFO - Epoch: 1/2, Iter: 48/93 -- train_loss: 0.0717 \n2023-09-11 14:49:29,457 - INFO - Epoch: 1/2, Iter: 49/93 -- train_loss: 0.0691 \n2023-09-11 14:49:29,827 - INFO - Epoch: 1/2, Iter: 50/93 -- train_loss: 0.0662 \n2023-09-11 14:49:30,196 - INFO - Epoch: 1/2, Iter: 51/93 -- train_loss: 0.0718 \n2023-09-11 14:49:30,567 - INFO - Epoch: 1/2, Iter: 52/93 -- train_loss: 0.0671 \n2023-09-11 14:49:30,937 - INFO - Epoch: 1/2, Iter: 53/93 -- train_loss: 0.0822 \n2023-09-11 14:49:31,308 - INFO - Epoch: 1/2, Iter: 54/93 -- train_loss: 0.0785 \n2023-09-11 14:49:31,678 - INFO - Epoch: 1/2, Iter: 55/93 -- train_loss: 0.0721 \n2023-09-11 14:49:32,048 - INFO - Epoch: 1/2, Iter: 56/93 -- train_loss: 0.0604 \n2023-09-11 14:49:32,417 - INFO - Epoch: 1/2, Iter: 57/93 -- train_loss: 0.0564 \n2023-09-11 14:49:32,787 - INFO - Epoch: 1/2, Iter: 58/93 -- train_loss: 0.0523 \n2023-09-11 14:49:33,157 - INFO - Epoch: 1/2, Iter: 59/93 -- train_loss: 0.0819 \n2023-09-11 14:49:33,527 - INFO - Epoch: 1/2, Iter: 60/93 -- train_loss: 0.0546 \n2023-09-11 14:49:33,897 - INFO - Epoch: 1/2, Iter: 61/93 -- train_loss: 0.0513 \n2023-09-11 14:49:34,267 - INFO - Epoch: 1/2, Iter: 62/93 -- train_loss: 0.0513 \n2023-09-11 14:49:34,637 - INFO - Epoch: 1/2, Iter: 63/93 -- train_loss: 0.0574 \n2023-09-11 14:49:35,007 - INFO - Epoch: 1/2, Iter: 64/93 -- train_loss: 0.0640 \n2023-09-11 14:49:35,377 - INFO - Epoch: 1/2, Iter: 65/93 -- train_loss: 0.0457 \n2023-09-11 14:49:35,749 - INFO - Epoch: 1/2, Iter: 66/93 -- train_loss: 0.0598 \n2023-09-11 14:49:36,120 - INFO - Epoch: 1/2, Iter: 67/93 -- train_loss: 0.0602 \n2023-09-11 14:49:36,491 - INFO - Epoch: 1/2, Iter: 68/93 -- train_loss: 0.0496 \n2023-09-11 14:49:36,862 - INFO - Epoch: 1/2, Iter: 69/93 -- train_loss: 0.0489 \n2023-09-11 14:49:37,235 - INFO - Epoch: 1/2, Iter: 70/93 -- train_loss: 0.0434 \n2023-09-11 14:49:37,605 - INFO - Epoch: 1/2, Iter: 71/93 -- train_loss: 0.0598 \n2023-09-11 14:49:37,985 - INFO - Epoch: 1/2, Iter: 72/93 -- train_loss: 0.0476 \n2023-09-11 14:49:38,358 - INFO - Epoch: 1/2, Iter: 73/93 -- train_loss: 0.0678 \n2023-09-11 14:49:38,731 - INFO - Epoch: 1/2, Iter: 74/93 -- train_loss: 0.0562 \n2023-09-11 14:49:39,102 - INFO - Epoch: 1/2, Iter: 75/93 -- train_loss: 0.0485 \n2023-09-11 14:49:39,662 - INFO - Epoch: 1/2, Iter: 76/93 -- train_loss: 0.0520 \n2023-09-11 14:49:40,034 - INFO - Epoch: 1/2, Iter: 77/93 -- train_loss: 0.0431 \n2023-09-11 14:49:40,406 - INFO - Epoch: 1/2, Iter: 78/93 -- train_loss: 0.0485 \n2023-09-11 14:49:40,783 - INFO - Epoch: 1/2, Iter: 79/93 -- train_loss: 0.0627 \n2023-09-11 14:49:41,156 - INFO - Epoch: 1/2, Iter: 80/93 -- train_loss: 0.0527 \n2023-09-11 14:49:41,528 - INFO - Epoch: 1/2, Iter: 81/93 -- train_loss: 0.0517 \n2023-09-11 14:49:41,902 - INFO - Epoch: 1/2, Iter: 82/93 -- train_loss: 0.0368 \n2023-09-11 14:49:42,273 - INFO - Epoch: 1/2, Iter: 83/93 -- train_loss: 0.0530 \n2023-09-11 14:49:42,647 - INFO - Epoch: 1/2, Iter: 84/93 -- train_loss: 0.0514 \n2023-09-11 14:49:43,021 - INFO - Epoch: 1/2, Iter: 85/93 -- train_loss: 0.0525 \n2023-09-11 14:49:43,395 - INFO - Epoch: 1/2, Iter: 86/93 -- train_loss: 0.0463 \n2023-09-11 14:49:43,767 - INFO - Epoch: 1/2, Iter: 87/93 -- train_loss: 0.0426 \n2023-09-11 14:49:44,146 - INFO - Epoch: 1/2, Iter: 88/93 -- train_loss: 0.0418 \n2023-09-11 14:49:44,524 - INFO - Epoch: 1/2, Iter: 89/93 -- train_loss: 0.0371 \n2023-09-11 14:49:44,902 - INFO - Epoch: 1/2, Iter: 90/93 -- train_loss: 0.0550 \n2023-09-11 14:49:45,275 - INFO - Epoch: 1/2, Iter: 91/93 -- train_loss: 0.0375 \n2023-09-11 14:49:45,647 - INFO - Epoch: 1/2, Iter: 92/93 -- train_loss: 0.0516 \n2023-09-11 14:49:45,875 - INFO - Epoch: 1/2, Iter: 93/93 -- train_loss: 0.0492 \n2023-09-11 14:49:45,876 - ignite.engine.engine.SupervisedEvaluator - INFO - Engine run resuming from iteration 0, epoch 0 until 1 epochs\n2023-09-11 14:49:54,712 - ignite.engine.engine.SupervisedEvaluator - INFO - Got new best metric of accuracy: 0.9975120158326265\n2023-09-11 14:49:54,712 - INFO - Epoch[1] Metrics -- accuracy: 0.9975 \n2023-09-11 14:49:54,713 - INFO - Key metric: accuracy best value: 0.9975120158326265 at epoch: 1\n2023-09-11 14:49:54,713 - ignite.engine.engine.SupervisedEvaluator - INFO - Epoch[1] Complete. Time taken: 00:00:08.720\n2023-09-11 14:49:54,713 - ignite.engine.engine.SupervisedEvaluator - INFO - Engine run complete. Time taken: 00:00:08.837\n2023-09-11 14:49:54,832 - ignite.engine.engine.SupervisedTrainer - INFO - Saved checkpoint at epoch: 1\n2023-09-11 14:49:54,832 - ignite.engine.engine.SupervisedTrainer - INFO - Epoch[1] Complete. Time taken: 00:00:44.233\n2023-09-11 14:49:55,430 - INFO - Epoch: 2/2, Iter: 1/93 -- train_loss: 0.0426 \n2023-09-11 14:49:55,808 - INFO - Epoch: 2/2, Iter: 2/93 -- train_loss: 0.0409 \n2023-09-11 14:49:56,186 - INFO - Epoch: 2/2, Iter: 3/93 -- train_loss: 0.0380 \n2023-09-11 14:49:56,557 - INFO - Epoch: 2/2, Iter: 4/93 -- train_loss: 0.0467 \n2023-09-11 14:49:56,943 - INFO - Epoch: 2/2, Iter: 5/93 -- train_loss: 0.0439 \n2023-09-11 14:49:57,313 - INFO - Epoch: 2/2, Iter: 6/93 -- train_loss: 0.0516 \n2023-09-11 14:49:57,690 - INFO - Epoch: 2/2, Iter: 7/93 -- train_loss: 0.0405 \n2023-09-11 14:49:58,058 - INFO - Epoch: 2/2, Iter: 8/93 -- train_loss: 0.0410 \n2023-09-11 14:49:58,435 - INFO - Epoch: 2/2, Iter: 9/93 -- train_loss: 0.0370 \n2023-09-11 14:49:58,804 - INFO - Epoch: 2/2, Iter: 10/93 -- train_loss: 0.0529 \n2023-09-11 14:49:59,179 - INFO - Epoch: 2/2, Iter: 11/93 -- train_loss: 0.0410 \n2023-09-11 14:49:59,549 - INFO - Epoch: 2/2, Iter: 12/93 -- train_loss: 0.0378 \n2023-09-11 14:49:59,927 - INFO - Epoch: 2/2, Iter: 13/93 -- train_loss: 0.0427 \n2023-09-11 14:50:00,297 - INFO - Epoch: 2/2, Iter: 14/93 -- train_loss: 0.0368 \n2023-09-11 14:50:00,678 - INFO - Epoch: 2/2, Iter: 15/93 -- train_loss: 0.0382 \n2023-09-11 14:50:01,049 - INFO - Epoch: 2/2, Iter: 16/93 -- train_loss: 0.0359 \n2023-09-11 14:50:01,428 - INFO - Epoch: 2/2, Iter: 17/93 -- train_loss: 0.0301 \n2023-09-11 14:50:01,802 - INFO - Epoch: 2/2, Iter: 18/93 -- train_loss: 0.0457 \n2023-09-11 14:50:02,175 - INFO - Epoch: 2/2, Iter: 19/93 -- train_loss: 0.0335 \n2023-09-11 14:50:02,546 - INFO - Epoch: 2/2, Iter: 20/93 -- train_loss: 0.0430 \n2023-09-11 14:50:02,923 - INFO - Epoch: 2/2, Iter: 21/93 -- train_loss: 0.0421 \n2023-09-11 14:50:03,296 - INFO - Epoch: 2/2, Iter: 22/93 -- train_loss: 0.0466 \n2023-09-11 14:50:03,668 - INFO - Epoch: 2/2, Iter: 23/93 -- train_loss: 0.0327 \n2023-09-11 14:50:04,036 - INFO - Epoch: 2/2, Iter: 24/93 -- train_loss: 0.0276 \n2023-09-11 14:50:04,413 - INFO - Epoch: 2/2, Iter: 25/93 -- train_loss: 0.0352 \n2023-09-11 14:50:04,786 - INFO - Epoch: 2/2, Iter: 26/93 -- train_loss: 0.0345 \n2023-09-11 14:50:05,245 - INFO - Epoch: 2/2, Iter: 27/93 -- train_loss: 0.0427 \n2023-09-11 14:50:05,615 - INFO - Epoch: 2/2, Iter: 28/93 -- train_loss: 0.0339 \n2023-09-11 14:50:05,992 - INFO - Epoch: 2/2, Iter: 29/93 -- train_loss: 0.0315 \n2023-09-11 14:50:06,365 - INFO - Epoch: 2/2, Iter: 30/93 -- train_loss: 0.0296 \n2023-09-11 14:50:06,749 - INFO - Epoch: 2/2, Iter: 31/93 -- train_loss: 0.0295 \n2023-09-11 14:50:07,119 - INFO - Epoch: 2/2, Iter: 32/93 -- train_loss: 0.0246 \n2023-09-11 14:50:07,495 - INFO - Epoch: 2/2, Iter: 33/93 -- train_loss: 0.0240 \n2023-09-11 14:50:07,866 - INFO - Epoch: 2/2, Iter: 34/93 -- train_loss: 0.0344 \n2023-09-11 14:50:08,237 - INFO - Epoch: 2/2, Iter: 35/93 -- train_loss: 0.0367 \n2023-09-11 14:50:08,609 - INFO - Epoch: 2/2, Iter: 36/93 -- train_loss: 0.0328 \n2023-09-11 14:50:08,988 - INFO - Epoch: 2/2, Iter: 37/93 -- train_loss: 0.0397 \n2023-09-11 14:50:09,358 - INFO - Epoch: 2/2, Iter: 38/93 -- train_loss: 0.0434 \n2023-09-11 14:50:09,734 - INFO - Epoch: 2/2, Iter: 39/93 -- train_loss: 0.0290 \n2023-09-11 14:50:10,105 - INFO - Epoch: 2/2, Iter: 40/93 -- train_loss: 0.0253 \n2023-09-11 14:50:10,482 - INFO - Epoch: 2/2, Iter: 41/93 -- train_loss: 0.0296 \n2023-09-11 14:50:10,856 - INFO - Epoch: 2/2, Iter: 42/93 -- train_loss: 0.0276 \n2023-09-11 14:50:11,231 - INFO - Epoch: 2/2, Iter: 43/93 -- train_loss: 0.0257 \n2023-09-11 14:50:11,604 - INFO - Epoch: 2/2, Iter: 44/93 -- train_loss: 0.0358 \n2023-09-11 14:50:11,981 - INFO - Epoch: 2/2, Iter: 45/93 -- train_loss: 0.0310 \n2023-09-11 14:50:12,351 - INFO - Epoch: 2/2, Iter: 46/93 -- train_loss: 0.0281 \n2023-09-11 14:50:12,725 - INFO - Epoch: 2/2, Iter: 47/93 -- train_loss: 0.0284 \n2023-09-11 14:50:13,094 - INFO - Epoch: 2/2, Iter: 48/93 -- train_loss: 0.0261 \n2023-09-11 14:50:13,471 - INFO - Epoch: 2/2, Iter: 49/93 -- train_loss: 0.0305 \n2023-09-11 14:50:13,840 - INFO - Epoch: 2/2, Iter: 50/93 -- train_loss: 0.0249 \n2023-09-11 14:50:14,213 - INFO - Epoch: 2/2, Iter: 51/93 -- train_loss: 0.0278 \n2023-09-11 14:50:14,583 - INFO - Epoch: 2/2, Iter: 52/93 -- train_loss: 0.0274 \n2023-09-11 14:50:14,960 - INFO - Epoch: 2/2, Iter: 53/93 -- train_loss: 0.0286 \n2023-09-11 14:50:15,329 - INFO - Epoch: 2/2, Iter: 54/93 -- train_loss: 0.0353 \n2023-09-11 14:50:15,709 - INFO - Epoch: 2/2, Iter: 55/93 -- train_loss: 0.0345 \n2023-09-11 14:50:16,082 - INFO - Epoch: 2/2, Iter: 56/93 -- train_loss: 0.0207 \n2023-09-11 14:50:16,461 - INFO - Epoch: 2/2, Iter: 57/93 -- train_loss: 0.0374 \n2023-09-11 14:50:16,831 - INFO - Epoch: 2/2, Iter: 58/93 -- train_loss: 0.0217 \n2023-09-11 14:50:17,204 - INFO - Epoch: 2/2, Iter: 59/93 -- train_loss: 0.0272 \n2023-09-11 14:50:17,758 - INFO - Epoch: 2/2, Iter: 60/93 -- train_loss: 0.0213 \n2023-09-11 14:50:18,135 - INFO - Epoch: 2/2, Iter: 61/93 -- train_loss: 0.0292 \n2023-09-11 14:50:18,505 - INFO - Epoch: 2/2, Iter: 62/93 -- train_loss: 0.0290 \n2023-09-11 14:50:18,875 - INFO - Epoch: 2/2, Iter: 63/93 -- train_loss: 0.0279 \n2023-09-11 14:50:19,246 - INFO - Epoch: 2/2, Iter: 64/93 -- train_loss: 0.0275 \n2023-09-11 14:50:19,623 - INFO - Epoch: 2/2, Iter: 65/93 -- train_loss: 0.0189 \n2023-09-11 14:50:19,997 - INFO - Epoch: 2/2, Iter: 66/93 -- train_loss: 0.0231 \n2023-09-11 14:50:20,369 - INFO - Epoch: 2/2, Iter: 67/93 -- train_loss: 0.0198 \n2023-09-11 14:50:20,741 - INFO - Epoch: 2/2, Iter: 68/93 -- train_loss: 0.0177 \n2023-09-11 14:50:21,118 - INFO - Epoch: 2/2, Iter: 69/93 -- train_loss: 0.0303 \n2023-09-11 14:50:21,490 - INFO - Epoch: 2/2, Iter: 70/93 -- train_loss: 0.0211 \n2023-09-11 14:50:21,862 - INFO - Epoch: 2/2, Iter: 71/93 -- train_loss: 0.0253 \n2023-09-11 14:50:22,232 - INFO - Epoch: 2/2, Iter: 72/93 -- train_loss: 0.0353 \n2023-09-11 14:50:22,608 - INFO - Epoch: 2/2, Iter: 73/93 -- train_loss: 0.0257 \n2023-09-11 14:50:22,979 - INFO - Epoch: 2/2, Iter: 74/93 -- train_loss: 0.0265 \n2023-09-11 14:50:23,351 - INFO - Epoch: 2/2, Iter: 75/93 -- train_loss: 0.0247 \n2023-09-11 14:50:23,721 - INFO - Epoch: 2/2, Iter: 76/93 -- train_loss: 0.0201 \n2023-09-11 14:50:24,097 - INFO - Epoch: 2/2, Iter: 77/93 -- train_loss: 0.0260 \n2023-09-11 14:50:24,467 - INFO - Epoch: 2/2, Iter: 78/93 -- train_loss: 0.0235 \n2023-09-11 14:50:24,840 - INFO - Epoch: 2/2, Iter: 79/93 -- train_loss: 0.0225 \n2023-09-11 14:50:25,210 - INFO - Epoch: 2/2, Iter: 80/93 -- train_loss: 0.0293 \n2023-09-11 14:50:25,587 - INFO - Epoch: 2/2, Iter: 81/93 -- train_loss: 0.0223 \n2023-09-11 14:50:25,959 - INFO - Epoch: 2/2, Iter: 82/93 -- train_loss: 0.0244 \n2023-09-11 14:50:26,330 - INFO - Epoch: 2/2, Iter: 83/93 -- train_loss: 0.0242 \n2023-09-11 14:50:26,701 - INFO - Epoch: 2/2, Iter: 84/93 -- train_loss: 0.0180 \n2023-09-11 14:50:27,088 - INFO - Epoch: 2/2, Iter: 85/93 -- train_loss: 0.0262 \n2023-09-11 14:50:27,461 - INFO - Epoch: 2/2, Iter: 86/93 -- train_loss: 0.0255 \n2023-09-11 14:50:27,833 - INFO - Epoch: 2/2, Iter: 87/93 -- train_loss: 0.0190 \n2023-09-11 14:50:28,205 - INFO - Epoch: 2/2, Iter: 88/93 -- train_loss: 0.0170 \n2023-09-11 14:50:28,586 - INFO - Epoch: 2/2, Iter: 89/93 -- train_loss: 0.0158 \n2023-09-11 14:50:28,966 - INFO - Epoch: 2/2, Iter: 90/93 -- train_loss: 0.0192 \n2023-09-11 14:50:29,364 - INFO - Epoch: 2/2, Iter: 91/93 -- train_loss: 0.0371 \n2023-09-11 14:50:29,737 - INFO - Epoch: 2/2, Iter: 92/93 -- train_loss: 0.0204 \n2023-09-11 14:50:29,844 - INFO - Epoch: 2/2, Iter: 93/93 -- train_loss: 0.0674 \n2023-09-11 14:50:29,844 - ignite.engine.engine.SupervisedEvaluator - INFO - Engine run resuming from iteration 0, epoch 1 until 2 epochs\n2023-09-11 14:50:38,195 - ignite.engine.engine.SupervisedEvaluator - INFO - Got new best metric of accuracy: 0.9986994628216003\n2023-09-11 14:50:38,195 - INFO - Epoch[2] Metrics -- accuracy: 0.9987 \n2023-09-11 14:50:38,195 - INFO - Key metric: accuracy best value: 0.9986994628216003 at epoch: 2\n2023-09-11 14:50:38,195 - ignite.engine.engine.SupervisedEvaluator - INFO - Epoch[2] Complete. Time taken: 00:00:08.233\n2023-09-11 14:50:38,196 - ignite.engine.engine.SupervisedEvaluator - INFO - Engine run complete. Time taken: 00:00:08.351\n2023-09-11 14:50:38,332 - ignite.engine.engine.SupervisedTrainer - INFO - Saved checkpoint at epoch: 2\n2023-09-11 14:50:38,332 - ignite.engine.engine.SupervisedTrainer - INFO - Epoch[2] Complete. Time taken: 00:00:43.501\n2023-09-11 14:50:38,417 - ignite.engine.engine.SupervisedTrainer - INFO - Train completed, saved final checkpoint: output/output_230911_144910/model_final_iteration=186.pt\n2023-09-11 14:50:38,417 - ignite.engine.engine.SupervisedTrainer - INFO - Engine run complete. Time taken: 00:01:28.122\n",
     "output_type": "error",
     "traceback": [
      "\u001b[0;31m---------------------------------------------------------------------------\u001b[0m",
      "\u001b[0;31mException\u001b[0m                                 Traceback (most recent call last)",
      "Cell \u001b[0;32mIn[4], line 2\u001b[0m\n\u001b[1;32m      1\u001b[0m \u001b[38;5;28;01mwith\u001b[39;00m \u001b[38;5;28mopen\u001b[39m(\u001b[38;5;124m\"\u001b[39m\u001b[38;5;124mout.txt\u001b[39m\u001b[38;5;124m\"\u001b[39m) \u001b[38;5;28;01mas\u001b[39;00m o:\n\u001b[0;32m----> 2\u001b[0m     \u001b[38;5;28;01mraise\u001b[39;00m \u001b[38;5;167;01mException\u001b[39;00m(o\u001b[38;5;241m.\u001b[39mread())\n",
      "\u001b[0;31mException\u001b[0m: Error: mkl-service + Intel(R) MKL: MKL_THREADING_LAYER=INTEL is incompatible with libgomp.so.1 library.\n\tTry to import numpy first or set the threading layer accordingly. Set MKL_SERVICE_FORCE_INTEL to force it.\nworkflow_name None\nconfig_file ['./MedNISTClassifier_v2/configs/common.yaml', './MedNISTClassifier_v2/configs/train.yaml']\nmeta_file ./MedNISTClassifier_v2/configs/metadata.json\nlogging_file ./MedNISTClassifier_v2/configs/logging.conf\ninit_id None\nrun_id train\nfinal_id None\ntracking None\nbundle_root ./MedNISTClassifier_v2\nmax_epochs 2\n2023-09-11 14:48:22,104 - INFO - --- input summary of monai.bundle.scripts.run ---\n2023-09-11 14:48:22,104 - INFO - > config_file: ['./MedNISTClassifier_v2/configs/common.yaml',\n './MedNISTClassifier_v2/configs/train.yaml']\n2023-09-11 14:48:22,104 - INFO - > meta_file: './MedNISTClassifier_v2/configs/metadata.json'\n2023-09-11 14:48:22,104 - INFO - > logging_file: './MedNISTClassifier_v2/configs/logging.conf'\n2023-09-11 14:48:22,104 - INFO - > run_id: 'train'\n2023-09-11 14:48:22,104 - INFO - > bundle_root: './MedNISTClassifier_v2'\n2023-09-11 14:48:22,105 - INFO - > max_epochs: 2\n2023-09-11 14:48:22,105 - INFO - ---\n\n\n2023-09-11 14:48:22,105 - INFO - Setting logging properties based on config: ./MedNISTClassifier_v2/configs/logging.conf.\n2023-09-11 14:48:22,235 - INFO - Verified 'MedNIST.tar.gz', md5: 0bc7306e7427e00ad1c5526a6677552d.\n2023-09-11 14:48:22,235 - INFO - File exists: MedNIST.tar.gz, skipped downloading.\n2023-09-11 14:48:22,235 - INFO - Non-empty folder exists in MedNIST, skipped extracting.\n\nLoading dataset:   0%|          | 0/47164 [00:00<?, ?it/s]\nLoading dataset:   0%|          | 1/47164 [00:00<2:11:42,  5.97it/s]\nLoading dataset:   0%|          | 96/47164 [00:00<01:46, 440.35it/s]\nLoading dataset:   0%|          | 199/47164 [00:00<01:09, 673.37it/s]\nLoading dataset:   1%|          | 306/47164 [00:00<00:57, 815.90it/s]\nLoading dataset:   1%|          | 421/47164 [00:00<00:50, 927.27it/s]\nLoading dataset:   1%|          | 535/47164 [00:00<00:46, 996.60it/s]\nLoading dataset:   1%|▏         | 648/47164 [00:00<00:44, 1037.39it/s]\nLoading dataset:   2%|▏         | 762/47164 [00:00<00:43, 1066.92it/s]\nLoading dataset:   2%|▏         | 875/47164 [00:00<00:42, 1085.38it/s]\nLoading dataset:   2%|▏         | 988/47164 [00:01<00:42, 1098.23it/s]\nLoading dataset:   2%|▏         | 1103/47164 [00:01<00:41, 1113.74it/s]\nLoading dataset:   3%|▎         | 1216/47164 [00:01<00:41, 1105.51it/s]\nLoading dataset:   3%|▎         | 1332/47164 [00:01<00:40, 1119.12it/s]\nLoading dataset:   3%|▎         | 1455/47164 [00:01<00:39, 1148.99it/s]\nLoading dataset:   3%|▎         | 1572/47164 [00:01<00:39, 1153.36it/s]\nLoading dataset:   4%|▎         | 1688/47164 [00:01<00:39, 1146.39it/s]\nLoading dataset:   4%|▍         | 1804/47164 [00:01<00:39, 1146.55it/s]\nLoading dataset:   4%|▍         | 1919/47164 [00:01<00:39, 1140.05it/s]\nLoading dataset:   4%|▍         | 2040/47164 [00:01<00:38, 1158.17it/s]\nLoading dataset:   5%|▍         | 2160/47164 [00:02<00:38, 1170.46it/s]\nLoading dataset:   5%|▍         | 2281/47164 [00:02<00:38, 1181.00it/s]\nLoading dataset:   5%|▌         | 2403/47164 [00:02<00:37, 1190.09it/s]\nLoading dataset:   5%|▌         | 2524/47164 [00:02<00:37, 1194.76it/s]\nLoading dataset:   6%|▌         | 2644/47164 [00:02<00:37, 1194.59it/s]\nLoading dataset:   6%|▌         | 2766/47164 [00:02<00:36, 1200.33it/s]\nLoading dataset:   6%|▌         | 2887/47164 [00:02<00:36, 1198.53it/s]\nLoading dataset:   6%|▋         | 3007/47164 [00:02<00:36, 1198.60it/s]\nLoading dataset:   7%|▋         | 3127/47164 [00:02<00:36, 1198.38it/s]\nLoading dataset:   7%|▋         | 3248/47164 [00:02<00:36, 1199.11it/s]\nLoading dataset:   7%|▋         | 3370/47164 [00:03<00:36, 1202.51it/s]\nLoading dataset:   7%|▋         | 3491/47164 [00:03<00:36, 1199.48it/s]\nLoading dataset:   8%|▊         | 3612/47164 [00:03<00:36, 1200.38it/s]\nLoading dataset:   8%|▊         | 3733/47164 [00:03<00:36, 1198.05it/s]\nLoading dataset:   8%|▊         | 3853/47164 [00:03<00:36, 1171.06it/s]\nLoading dataset:   8%|▊         | 3975/47164 [00:03<00:36, 1183.15it/s]\nLoading dataset:   9%|▊         | 4094/47164 [00:03<00:36, 1184.16it/s]\nLoading dataset:   9%|▉         | 4213/47164 [00:03<00:36, 1179.25it/s]\nLoading dataset:   9%|▉         | 4333/47164 [00:03<00:36, 1183.16it/s]\nLoading dataset:   9%|▉         | 4452/47164 [00:04<00:36, 1155.27it/s]\nLoading dataset:  10%|▉         | 4571/47164 [00:04<00:36, 1164.87it/s]\nLoading dataset:  10%|▉         | 4688/47164 [00:04<00:36, 1153.61it/s]\nLoading dataset:  10%|█         | 4807/47164 [00:04<00:36, 1161.30it/s]\nLoading dataset:  10%|█         | 4927/47164 [00:04<00:36, 1169.69it/s]\nLoading dataset:  11%|█         | 5045/47164 [00:04<00:36, 1166.83it/s]\nLoading dataset:  11%|█         | 5163/47164 [00:04<00:35, 1169.82it/s]\nLoading dataset:  11%|█         | 5283/47164 [00:04<00:35, 1176.35it/s]\nLoading dataset:  11%|█▏        | 5401/47164 [00:04<00:35, 1169.77it/s]\nLoading dataset:  12%|█▏        | 5519/47164 [00:04<00:36, 1129.89it/s]\nLoading dataset:  12%|█▏        | 5643/47164 [00:05<00:35, 1161.79it/s]\nLoading dataset:  12%|█▏        | 5766/47164 [00:05<00:35, 1181.39it/s]\nLoading dataset:  12%|█▏        | 5885/47164 [00:05<00:35, 1172.80it/s]\nLoading dataset:  13%|█▎        | 6003/47164 [00:05<00:35, 1171.74it/s]\nLoading dataset:  13%|█▎        | 6121/47164 [00:05<00:34, 1173.46it/s]\nLoading dataset:  13%|█▎        | 6241/47164 [00:05<00:34, 1179.01it/s]\nLoading dataset:  13%|█▎        | 6359/47164 [00:05<00:34, 1168.72it/s]\nLoading dataset:  14%|█▎        | 6477/47164 [00:05<00:34, 1170.01it/s]\nLoading dataset:  14%|█▍        | 6595/47164 [00:05<00:34, 1170.43it/s]\nLoading dataset:  14%|█▍        | 6714/47164 [00:05<00:34, 1175.76it/s]\nLoading dataset:  14%|█▍        | 6834/47164 [00:06<00:34, 1180.82it/s]\nLoading dataset:  15%|█▍        | 6953/47164 [00:06<00:34, 1180.58it/s]\nLoading dataset:  15%|█▍        | 7072/47164 [00:06<00:33, 1180.01it/s]\nLoading dataset:  15%|█▌        | 7191/47164 [00:06<00:33, 1178.19it/s]\nLoading dataset:  15%|█▌        | 7309/47164 [00:06<00:33, 1177.92it/s]\nLoading dataset:  16%|█▌        | 7428/47164 [00:06<00:33, 1181.10it/s]\nLoading dataset:  16%|█▌        | 7548/47164 [00:06<00:33, 1183.68it/s]\nLoading dataset:  16%|█▋        | 7667/47164 [00:06<00:33, 1184.53it/s]\nLoading dataset:  17%|█▋        | 7786/47164 [00:06<00:33, 1181.48it/s]\nLoading dataset:  17%|█▋        | 7905/47164 [00:06<00:33, 1181.83it/s]\nLoading dataset:  17%|█▋        | 8025/47164 [00:07<00:33, 1183.85it/s]\nLoading dataset:  17%|█▋        | 8145/47164 [00:07<00:32, 1186.78it/s]\nLoading dataset:  18%|█▊        | 8264/47164 [00:07<00:32, 1186.17it/s]\nLoading dataset:  18%|█▊        | 8385/47164 [00:07<00:32, 1191.88it/s]\nLoading dataset:  18%|█▊        | 8506/47164 [00:07<00:32, 1196.47it/s]\nLoading dataset:  18%|█▊        | 8626/47164 [00:07<00:32, 1197.47it/s]\nLoading dataset:  19%|█▊        | 8747/47164 [00:07<00:32, 1198.52it/s]\nLoading dataset:  19%|█▉        | 8867/47164 [00:07<00:31, 1197.39it/s]\nLoading dataset:  19%|█▉        | 8987/47164 [00:07<00:31, 1197.19it/s]\nLoading dataset:  19%|█▉        | 9108/47164 [00:07<00:31, 1198.32it/s]\nLoading dataset:  20%|█▉        | 9229/47164 [00:08<00:31, 1199.02it/s]\nLoading dataset:  20%|█▉        | 9350/47164 [00:08<00:31, 1200.47it/s]\nLoading dataset:  20%|██        | 9471/47164 [00:08<00:31, 1201.74it/s]\nLoading dataset:  20%|██        | 9592/47164 [00:08<00:31, 1181.42it/s]\nLoading dataset:  21%|██        | 9712/47164 [00:08<00:31, 1185.13it/s]\nLoading dataset:  21%|██        | 9831/47164 [00:08<00:31, 1182.97it/s]\nLoading dataset:  21%|██        | 9950/47164 [00:08<00:43, 862.19it/s] \nLoading dataset:  21%|██▏       | 10069/47164 [00:08<00:39, 937.90it/s]\nLoading dataset:  22%|██▏       | 10186/47164 [00:08<00:37, 994.90it/s]\nLoading dataset:  22%|██▏       | 10303/47164 [00:09<00:35, 1038.79it/s]\nLoading dataset:  22%|██▏       | 10423/47164 [00:09<00:33, 1081.23it/s]\nLoading dataset:  22%|██▏       | 10541/47164 [00:09<00:33, 1106.44it/s]\nLoading dataset:  23%|██▎       | 10661/47164 [00:09<00:32, 1130.61it/s]\nLoading dataset:  23%|██▎       | 10777/47164 [00:09<00:32, 1107.68it/s]\nLoading dataset:  23%|██▎       | 10890/47164 [00:09<00:33, 1093.50it/s]\nLoading dataset:  23%|██▎       | 11001/47164 [00:09<00:33, 1073.47it/s]\nLoading dataset:  24%|██▎       | 11110/47164 [00:09<00:33, 1077.88it/s]\nLoading dataset:  24%|██▍       | 11228/47164 [00:09<00:32, 1104.20it/s]\nLoading dataset:  24%|██▍       | 11345/47164 [00:10<00:31, 1120.66it/s]\nLoading dataset:  24%|██▍       | 11458/47164 [00:10<00:32, 1114.09it/s]\nLoading dataset:  25%|██▍       | 11572/47164 [00:10<00:31, 1121.53it/s]\nLoading dataset:  25%|██▍       | 11689/47164 [00:10<00:31, 1133.77it/s]\nLoading dataset:  25%|██▌       | 11807/47164 [00:10<00:30, 1146.21it/s]\nLoading dataset:  25%|██▌       | 11922/47164 [00:10<00:30, 1139.66it/s]\nLoading dataset:  26%|██▌       | 12040/47164 [00:10<00:30, 1149.20it/s]\nLoading dataset:  26%|██▌       | 12159/47164 [00:10<00:30, 1151.16it/s]\nLoading dataset:  26%|██▌       | 12275/47164 [00:10<00:31, 1091.93it/s]\nLoading dataset:  26%|██▋       | 12385/47164 [00:10<00:33, 1030.15it/s]\nLoading dataset:  27%|██▋       | 12505/47164 [00:11<00:32, 1076.47it/s]\nLoading dataset:  27%|██▋       | 12623/47164 [00:11<00:31, 1104.23it/s]\nLoading dataset:  27%|██▋       | 12736/47164 [00:11<00:30, 1110.91it/s]\nLoading dataset:  27%|██▋       | 12848/47164 [00:11<00:31, 1104.94it/s]\nLoading dataset:  27%|██▋       | 12959/47164 [00:11<00:30, 1105.98it/s]\nLoading dataset:  28%|██▊       | 13077/47164 [00:11<00:30, 1125.80it/s]\nLoading dataset:  28%|██▊       | 13196/47164 [00:11<00:29, 1144.33it/s]\nLoading dataset:  28%|██▊       | 13312/47164 [00:11<00:29, 1146.59it/s]\nLoading dataset:  28%|██▊       | 13434/47164 [00:11<00:28, 1165.65it/s]\nLoading dataset:  29%|██▊       | 13551/47164 [00:11<00:29, 1122.09it/s]\nLoading dataset:  29%|██▉       | 13666/47164 [00:12<00:29, 1128.92it/s]\nLoading dataset:  29%|██▉       | 13785/47164 [00:12<00:29, 1145.02it/s]\nLoading dataset:  29%|██▉       | 13900/47164 [00:12<00:29, 1134.73it/s]\nLoading dataset:  30%|██▉       | 14020/47164 [00:12<00:28, 1152.30it/s]\nLoading dataset:  30%|██▉       | 14137/47164 [00:12<00:28, 1156.09it/s]\nLoading dataset:  30%|███       | 14256/47164 [00:12<00:28, 1165.20it/s]\nLoading dataset:  30%|███       | 14373/47164 [00:12<00:28, 1134.73it/s]\nLoading dataset:  31%|███       | 14487/47164 [00:12<00:29, 1093.98it/s]\nLoading dataset:  31%|███       | 14597/47164 [00:12<00:30, 1080.93it/s]\nLoading dataset:  31%|███       | 14706/47164 [00:13<00:30, 1074.06it/s]\nLoading dataset:  31%|███▏      | 14815/47164 [00:13<00:30, 1077.78it/s]\nLoading dataset:  32%|███▏      | 14928/47164 [00:13<00:29, 1091.23it/s]\nLoading dataset:  32%|███▏      | 15040/47164 [00:13<00:29, 1099.37it/s]\nLoading dataset:  32%|███▏      | 15157/47164 [00:13<00:28, 1119.27it/s]\nLoading dataset:  32%|███▏      | 15279/47164 [00:13<00:27, 1148.95it/s]\nLoading dataset:  33%|███▎      | 15400/47164 [00:13<00:27, 1166.71it/s]\nLoading dataset:  33%|███▎      | 15523/47164 [00:13<00:26, 1185.13it/s]\nLoading dataset:  33%|███▎      | 15642/47164 [00:13<00:27, 1164.99it/s]\nLoading dataset:  33%|███▎      | 15762/47164 [00:13<00:26, 1174.64it/s]\nLoading dataset:  34%|███▎      | 15886/47164 [00:14<00:26, 1192.51it/s]\nLoading dataset:  34%|███▍      | 16006/47164 [00:14<00:26, 1154.52it/s]\nLoading dataset:  34%|███▍      | 16126/47164 [00:14<00:26, 1167.54it/s]\nLoading dataset:  34%|███▍      | 16247/47164 [00:14<00:26, 1177.82it/s]\nLoading dataset:  35%|███▍      | 16368/47164 [00:14<00:25, 1185.73it/s]\nLoading dataset:  35%|███▍      | 16491/47164 [00:14<00:25, 1196.70it/s]\nLoading dataset:  35%|███▌      | 16613/47164 [00:14<00:25, 1201.71it/s]\nLoading dataset:  35%|███▌      | 16734/47164 [00:14<00:25, 1188.12it/s]\nLoading dataset:  36%|███▌      | 16853/47164 [00:14<00:26, 1163.39it/s]\nLoading dataset:  36%|███▌      | 16970/47164 [00:14<00:26, 1130.21it/s]\nLoading dataset:  36%|███▌      | 17085/47164 [00:15<00:26, 1131.64it/s]\nLoading dataset:  36%|███▋      | 17199/47164 [00:15<00:26, 1132.48it/s]\nLoading dataset:  37%|███▋      | 17313/47164 [00:15<00:26, 1133.28it/s]\nLoading dataset:  37%|███▋      | 17434/47164 [00:15<00:25, 1153.93it/s]\nLoading dataset:  37%|███▋      | 17550/47164 [00:15<00:25, 1144.37it/s]\nLoading dataset:  37%|███▋      | 17672/47164 [00:15<00:25, 1166.00it/s]\nLoading dataset:  38%|███▊      | 17793/47164 [00:15<00:24, 1178.03it/s]\nLoading dataset:  38%|███▊      | 17914/47164 [00:15<00:24, 1184.53it/s]\nLoading dataset:  38%|███▊      | 18033/47164 [00:15<00:25, 1145.81it/s]\nLoading dataset:  38%|███▊      | 18148/47164 [00:15<00:25, 1145.59it/s]\nLoading dataset:  39%|███▊      | 18268/47164 [00:16<00:24, 1160.64it/s]\nLoading dataset:  39%|███▉      | 18389/47164 [00:16<00:24, 1174.82it/s]\nLoading dataset:  39%|███▉      | 18510/47164 [00:16<00:24, 1185.04it/s]\nLoading dataset:  40%|███▉      | 18631/47164 [00:16<00:23, 1192.04it/s]\nLoading dataset:  40%|███▉      | 18751/47164 [00:16<00:23, 1191.96it/s]\nLoading dataset:  40%|████      | 18871/47164 [00:16<00:23, 1192.13it/s]\nLoading dataset:  40%|████      | 18991/47164 [00:16<00:24, 1166.84it/s]\nLoading dataset:  41%|████      | 19110/47164 [00:16<00:23, 1171.70it/s]\nLoading dataset:  41%|████      | 19228/47164 [00:16<00:24, 1123.95it/s]\nLoading dataset:  41%|████      | 19341/47164 [00:17<00:24, 1120.18it/s]\nLoading dataset:  41%|████      | 19454/47164 [00:17<00:25, 1091.17it/s]\nLoading dataset:  41%|████▏     | 19564/47164 [00:17<00:25, 1091.86it/s]\nLoading dataset:  42%|████▏     | 19681/47164 [00:17<00:24, 1114.24it/s]\nLoading dataset:  42%|████▏     | 19793/47164 [00:17<00:24, 1102.28it/s]\nLoading dataset:  42%|████▏     | 19904/47164 [00:17<00:24, 1099.10it/s]\nLoading dataset:  42%|████▏     | 20015/47164 [00:17<00:25, 1054.54it/s]\nLoading dataset:  43%|████▎     | 20121/47164 [00:17<00:26, 1039.29it/s]\nLoading dataset:  43%|████▎     | 20226/47164 [00:17<00:26, 1021.00it/s]\nLoading dataset:  43%|████▎     | 20329/47164 [00:17<00:26, 1018.78it/s]\nLoading dataset:  43%|████▎     | 20439/47164 [00:18<00:25, 1040.68it/s]\nLoading dataset:  44%|████▎     | 20549/47164 [00:18<00:25, 1057.85it/s]\nLoading dataset:  44%|████▍     | 20655/47164 [00:18<00:25, 1039.78it/s]\nLoading dataset:  44%|████▍     | 20764/47164 [00:18<00:25, 1052.15it/s]\nLoading dataset:  44%|████▍     | 20875/47164 [00:18<00:24, 1068.82it/s]\nLoading dataset:  44%|████▍     | 20986/47164 [00:18<00:24, 1077.78it/s]\nLoading dataset:  45%|████▍     | 21094/47164 [00:18<00:24, 1058.38it/s]\nLoading dataset:  45%|████▍     | 21206/47164 [00:18<00:24, 1074.76it/s]\nLoading dataset:  45%|████▌     | 21315/47164 [00:18<00:23, 1078.33it/s]\nLoading dataset:  45%|████▌     | 21425/47164 [00:18<00:23, 1083.93it/s]\nLoading dataset:  46%|████▌     | 21536/47164 [00:19<00:23, 1089.52it/s]\nLoading dataset:  46%|████▌     | 21656/47164 [00:19<00:22, 1122.13it/s]\nLoading dataset:  46%|████▌     | 21769/47164 [00:19<00:23, 1095.78it/s]\nLoading dataset:  46%|████▋     | 21880/47164 [00:19<00:23, 1099.29it/s]\nLoading dataset:  47%|████▋     | 21994/47164 [00:19<00:22, 1108.81it/s]\nLoading dataset:  47%|████▋     | 22105/47164 [00:19<00:22, 1090.57it/s]\nLoading dataset:  47%|████▋     | 22215/47164 [00:19<00:22, 1088.65it/s]\nLoading dataset:  47%|████▋     | 22326/47164 [00:19<00:22, 1092.97it/s]\nLoading dataset:  48%|████▊     | 22437/47164 [00:19<00:22, 1096.79it/s]\nLoading dataset:  48%|████▊     | 22547/47164 [00:20<00:22, 1097.72it/s]\nLoading dataset:  48%|████▊     | 22665/47164 [00:20<00:21, 1121.18it/s]\nLoading dataset:  48%|████▊     | 22785/47164 [00:20<00:21, 1142.31it/s]\nLoading dataset:  49%|████▊     | 22907/47164 [00:20<00:20, 1164.89it/s]\nLoading dataset:  49%|████▉     | 23029/47164 [00:20<00:20, 1181.30it/s]\nLoading dataset:  49%|████▉     | 23148/47164 [00:20<00:20, 1183.58it/s]\nLoading dataset:  49%|████▉     | 23267/47164 [00:20<00:20, 1150.68it/s]\nLoading dataset:  50%|████▉     | 23383/47164 [00:20<00:20, 1137.18it/s]\nLoading dataset:  50%|████▉     | 23502/47164 [00:20<00:20, 1151.60it/s]\nLoading dataset:  50%|█████     | 23622/47164 [00:20<00:20, 1163.54it/s]\nLoading dataset:  50%|█████     | 23741/47164 [00:21<00:20, 1171.03it/s]\nLoading dataset:  51%|█████     | 23859/47164 [00:21<00:19, 1173.62it/s]\nLoading dataset:  51%|█████     | 23978/47164 [00:21<00:19, 1177.92it/s]\nLoading dataset:  51%|█████     | 24099/47164 [00:21<00:19, 1186.62it/s]\nLoading dataset:  51%|█████▏    | 24226/47164 [00:21<00:18, 1211.09it/s]\nLoading dataset:  52%|█████▏    | 24353/47164 [00:21<00:18, 1227.63it/s]\nLoading dataset:  52%|█████▏    | 24476/47164 [00:21<00:18, 1216.52it/s]\nLoading dataset:  52%|█████▏    | 24598/47164 [00:21<00:19, 1167.24it/s]\nLoading dataset:  52%|█████▏    | 24716/47164 [00:21<00:19, 1168.24it/s]\nLoading dataset:  53%|█████▎    | 24836/47164 [00:21<00:18, 1176.13it/s]\nLoading dataset:  53%|█████▎    | 24957/47164 [00:22<00:18, 1183.90it/s]\nLoading dataset:  53%|█████▎    | 25076/47164 [00:22<00:18, 1185.14it/s]\nLoading dataset:  53%|█████▎    | 25196/47164 [00:22<00:18, 1187.79it/s]\nLoading dataset:  54%|█████▎    | 25317/47164 [00:22<00:18, 1192.87it/s]\nLoading dataset:  54%|█████▍    | 25438/47164 [00:22<00:18, 1196.33it/s]\nLoading dataset:  54%|█████▍    | 25558/47164 [00:22<00:18, 1193.43it/s]\nLoading dataset:  54%|█████▍    | 25678/47164 [00:22<00:18, 1193.03it/s]\nLoading dataset:  55%|█████▍    | 25798/47164 [00:22<00:18, 1185.10it/s]\nLoading dataset:  55%|█████▍    | 25917/47164 [00:22<00:18, 1180.04it/s]\nLoading dataset:  55%|█████▌    | 26038/47164 [00:22<00:17, 1186.36it/s]\nLoading dataset:  55%|█████▌    | 26158/47164 [00:23<00:17, 1187.63it/s]\nLoading dataset:  56%|█████▌    | 26277/47164 [00:23<00:17, 1170.59it/s]\nLoading dataset:  56%|█████▌    | 26395/47164 [00:23<00:17, 1170.51it/s]\nLoading dataset:  56%|█████▌    | 26514/47164 [00:23<00:17, 1174.32it/s]\nLoading dataset:  56%|█████▋    | 26634/47164 [00:23<00:17, 1178.63it/s]\nLoading dataset:  57%|█████▋    | 26753/47164 [00:23<00:17, 1180.80it/s]\nLoading dataset:  57%|█████▋    | 26872/47164 [00:23<00:24, 828.18it/s] \nLoading dataset:  57%|█████▋    | 26993/47164 [00:23<00:22, 914.84it/s]\nLoading dataset:  57%|█████▋    | 27114/47164 [00:24<00:20, 986.76it/s]\nLoading dataset:  58%|█████▊    | 27234/47164 [00:24<00:19, 1041.96it/s]\nLoading dataset:  58%|█████▊    | 27352/47164 [00:24<00:18, 1079.16it/s]\nLoading dataset:  58%|█████▊    | 27472/47164 [00:24<00:17, 1110.85it/s]\nLoading dataset:  58%|█████▊    | 27588/47164 [00:24<00:17, 1121.56it/s]\nLoading dataset:  59%|█████▊    | 27704/47164 [00:24<00:17, 1122.39it/s]\nLoading dataset:  59%|█████▉    | 27819/47164 [00:24<00:17, 1112.49it/s]\nLoading dataset:  59%|█████▉    | 27941/47164 [00:24<00:16, 1141.97it/s]\nLoading dataset:  59%|█████▉    | 28058/47164 [00:24<00:16, 1148.11it/s]\nLoading dataset:  60%|█████▉    | 28176/47164 [00:24<00:16, 1154.56it/s]\nLoading dataset:  60%|█████▉    | 28293/47164 [00:25<00:16, 1129.52it/s]\nLoading dataset:  60%|██████    | 28407/47164 [00:25<00:16, 1116.06it/s]\nLoading dataset:  60%|██████    | 28519/47164 [00:25<00:16, 1111.21it/s]\nLoading dataset:  61%|██████    | 28642/47164 [00:25<00:16, 1143.53it/s]\nLoading dataset:  61%|██████    | 28757/47164 [00:25<00:16, 1136.68it/s]\nLoading dataset:  61%|██████    | 28880/47164 [00:25<00:15, 1163.19it/s]\nLoading dataset:  61%|██████▏   | 29004/47164 [00:25<00:15, 1184.32it/s]\nLoading dataset:  62%|██████▏   | 29126/47164 [00:25<00:15, 1191.56it/s]\nLoading dataset:  62%|██████▏   | 29246/47164 [00:25<00:15, 1193.14it/s]\nLoading dataset:  62%|██████▏   | 29366/47164 [00:25<00:14, 1194.04it/s]\nLoading dataset:  63%|██████▎   | 29487/47164 [00:26<00:14, 1196.73it/s]\nLoading dataset:  63%|██████▎   | 29607/47164 [00:26<00:14, 1195.08it/s]\nLoading dataset:  63%|██████▎   | 29727/47164 [00:26<00:14, 1176.72it/s]\nLoading dataset:  63%|██████▎   | 29849/47164 [00:26<00:14, 1188.47it/s]\nLoading dataset:  64%|██████▎   | 29969/47164 [00:26<00:14, 1189.85it/s]\nLoading dataset:  64%|██████▍   | 30089/47164 [00:26<00:14, 1192.58it/s]\nLoading dataset:  64%|██████▍   | 30209/47164 [00:26<00:14, 1192.41it/s]\nLoading dataset:  64%|██████▍   | 30329/47164 [00:26<00:14, 1192.53it/s]\nLoading dataset:  65%|██████▍   | 30449/47164 [00:26<00:14, 1190.57it/s]\nLoading dataset:  65%|██████▍   | 30570/47164 [00:26<00:13, 1194.87it/s]\nLoading dataset:  65%|██████▌   | 30690/47164 [00:27<00:14, 1172.95it/s]\nLoading dataset:  65%|██████▌   | 30810/47164 [00:27<00:13, 1179.51it/s]\nLoading dataset:  66%|██████▌   | 30930/47164 [00:27<00:13, 1184.70it/s]\nLoading dataset:  66%|██████▌   | 31050/47164 [00:27<00:13, 1186.94it/s]\nLoading dataset:  66%|██████▌   | 31169/47164 [00:27<00:13, 1143.22it/s]\nLoading dataset:  66%|██████▋   | 31290/47164 [00:27<00:13, 1160.82it/s]\nLoading dataset:  67%|██████▋   | 31408/47164 [00:27<00:13, 1165.61it/s]\nLoading dataset:  67%|██████▋   | 31530/47164 [00:27<00:13, 1178.88it/s]\nLoading dataset:  67%|██████▋   | 31650/47164 [00:27<00:13, 1183.79it/s]\nLoading dataset:  67%|██████▋   | 31770/47164 [00:27<00:12, 1188.17it/s]\nLoading dataset:  68%|██████▊   | 31892/47164 [00:28<00:12, 1195.32it/s]\nLoading dataset:  68%|██████▊   | 32013/47164 [00:28<00:12, 1198.64it/s]\nLoading dataset:  68%|██████▊   | 32137/47164 [00:28<00:12, 1207.78it/s]\nLoading dataset:  68%|██████▊   | 32260/47164 [00:28<00:12, 1212.90it/s]\nLoading dataset:  69%|██████▊   | 32382/47164 [00:28<00:12, 1208.89it/s]\nLoading dataset:  69%|██████▉   | 32503/47164 [00:28<00:12, 1205.23it/s]\nLoading dataset:  69%|██████▉   | 32624/47164 [00:28<00:12, 1183.67it/s]\nLoading dataset:  69%|██████▉   | 32743/47164 [00:28<00:12, 1184.41it/s]\nLoading dataset:  70%|██████▉   | 32863/47164 [00:28<00:12, 1188.15it/s]\nLoading dataset:  70%|██████▉   | 32982/47164 [00:28<00:12, 1174.67it/s]\nLoading dataset:  70%|███████   | 33100/47164 [00:29<00:11, 1175.33it/s]\nLoading dataset:  70%|███████   | 33219/47164 [00:29<00:11, 1177.29it/s]\nLoading dataset:  71%|███████   | 33337/47164 [00:29<00:12, 1135.14it/s]\nLoading dataset:  71%|███████   | 33454/47164 [00:29<00:11, 1144.51it/s]\nLoading dataset:  71%|███████   | 33569/47164 [00:29<00:12, 1127.87it/s]\nLoading dataset:  71%|███████▏  | 33682/47164 [00:29<00:12, 1114.94it/s]\nLoading dataset:  72%|███████▏  | 33798/47164 [00:29<00:11, 1127.32it/s]\nLoading dataset:  72%|███████▏  | 33920/47164 [00:29<00:11, 1153.99it/s]\nLoading dataset:  72%|███████▏  | 34040/47164 [00:29<00:11, 1164.77it/s]\nLoading dataset:  72%|███████▏  | 34160/47164 [00:30<00:11, 1173.11it/s]\nLoading dataset:  73%|███████▎  | 34279/47164 [00:30<00:10, 1175.68it/s]\nLoading dataset:  73%|███████▎  | 34397/47164 [00:30<00:10, 1166.37it/s]\nLoading dataset:  73%|███████▎  | 34519/47164 [00:30<00:10, 1179.78it/s]\nLoading dataset:  73%|███████▎  | 34638/47164 [00:30<00:10, 1162.65it/s]\nLoading dataset:  74%|███████▎  | 34759/47164 [00:30<00:10, 1175.67it/s]\nLoading dataset:  74%|███████▍  | 34881/47164 [00:30<00:10, 1186.74it/s]\nLoading dataset:  74%|███████▍  | 35000/47164 [00:30<00:10, 1185.16it/s]\nLoading dataset:  74%|███████▍  | 35119/47164 [00:30<00:10, 1171.07it/s]\nLoading dataset:  75%|███████▍  | 35243/47164 [00:30<00:10, 1190.77it/s]\nLoading dataset:  75%|███████▍  | 35363/47164 [00:31<00:10, 1164.75it/s]\nLoading dataset:  75%|███████▌  | 35480/47164 [00:31<00:10, 1136.41it/s]\nLoading dataset:  75%|███████▌  | 35597/47164 [00:31<00:10, 1145.22it/s]\nLoading dataset:  76%|███████▌  | 35717/47164 [00:31<00:09, 1159.46it/s]\nLoading dataset:  76%|███████▌  | 35835/47164 [00:31<00:09, 1162.88it/s]\nLoading dataset:  76%|███████▌  | 35952/47164 [00:31<00:09, 1160.56it/s]\nLoading dataset:  76%|███████▋  | 36072/47164 [00:31<00:09, 1169.93it/s]\nLoading dataset:  77%|███████▋  | 36190/47164 [00:31<00:09, 1155.81it/s]\nLoading dataset:  77%|███████▋  | 36306/47164 [00:31<00:09, 1102.46it/s]\nLoading dataset:  77%|███████▋  | 36417/47164 [00:31<00:09, 1090.27it/s]\nLoading dataset:  77%|███████▋  | 36532/47164 [00:32<00:09, 1105.84it/s]\nLoading dataset:  78%|███████▊  | 36643/47164 [00:32<00:09, 1104.18it/s]\nLoading dataset:  78%|███████▊  | 36755/47164 [00:32<00:09, 1106.35it/s]\nLoading dataset:  78%|███████▊  | 36866/47164 [00:32<00:09, 1095.60it/s]\nLoading dataset:  78%|███████▊  | 36985/47164 [00:32<00:09, 1123.15it/s]\nLoading dataset:  79%|███████▊  | 37103/47164 [00:32<00:08, 1138.36it/s]\nLoading dataset:  79%|███████▉  | 37217/47164 [00:32<00:08, 1125.76it/s]\nLoading dataset:  79%|███████▉  | 37336/47164 [00:32<00:08, 1142.16it/s]\nLoading dataset:  79%|███████▉  | 37456/47164 [00:32<00:08, 1157.74it/s]\nLoading dataset:  80%|███████▉  | 37577/47164 [00:32<00:08, 1171.12it/s]\nLoading dataset:  80%|███████▉  | 37698/47164 [00:33<00:08, 1181.44it/s]\nLoading dataset:  80%|████████  | 37820/47164 [00:33<00:07, 1191.68it/s]\nLoading dataset:  80%|████████  | 37941/47164 [00:33<00:07, 1196.43it/s]\nLoading dataset:  81%|████████  | 38061/47164 [00:33<00:07, 1157.08it/s]\nLoading dataset:  81%|████████  | 38178/47164 [00:33<00:08, 1115.55it/s]\nLoading dataset:  81%|████████  | 38301/47164 [00:33<00:07, 1146.30it/s]\nLoading dataset:  81%|████████▏ | 38417/47164 [00:33<00:07, 1149.15it/s]\nLoading dataset:  82%|████████▏ | 38533/47164 [00:33<00:07, 1148.40it/s]\nLoading dataset:  82%|████████▏ | 38651/47164 [00:33<00:07, 1156.18it/s]\nLoading dataset:  82%|████████▏ | 38768/47164 [00:34<00:07, 1153.20it/s]\nLoading dataset:  82%|████████▏ | 38884/47164 [00:34<00:07, 1137.96it/s]\nLoading dataset:  83%|████████▎ | 38999/47164 [00:34<00:07, 1138.88it/s]\nLoading dataset:  83%|████████▎ | 39113/47164 [00:34<00:07, 1112.21it/s]\nLoading dataset:  83%|████████▎ | 39232/47164 [00:34<00:06, 1134.20it/s]\nLoading dataset:  83%|████████▎ | 39351/47164 [00:34<00:06, 1148.21it/s]\nLoading dataset:  84%|████████▎ | 39470/47164 [00:34<00:06, 1158.18it/s]\nLoading dataset:  84%|████████▍ | 39590/47164 [00:34<00:06, 1167.49it/s]\nLoading dataset:  84%|████████▍ | 39709/47164 [00:34<00:06, 1174.04it/s]\nLoading dataset:  84%|████████▍ | 39827/47164 [00:34<00:06, 1175.78it/s]\nLoading dataset:  85%|████████▍ | 39947/47164 [00:35<00:06, 1180.39it/s]\nLoading dataset:  85%|████████▍ | 40067/47164 [00:35<00:05, 1185.41it/s]\nLoading dataset:  85%|████████▌ | 40186/47164 [00:35<00:05, 1183.37it/s]\nLoading dataset:  85%|████████▌ | 40307/47164 [00:35<00:05, 1189.34it/s]\nLoading dataset:  86%|████████▌ | 40426/47164 [00:35<00:05, 1188.69it/s]\nLoading dataset:  86%|████████▌ | 40547/47164 [00:35<00:05, 1189.94it/s]\nLoading dataset:  86%|████████▌ | 40666/47164 [00:35<00:05, 1154.83it/s]\nLoading dataset:  86%|████████▋ | 40782/47164 [00:35<00:05, 1137.27it/s]\nLoading dataset:  87%|████████▋ | 40896/47164 [00:35<00:05, 1124.55it/s]\nLoading dataset:  87%|████████▋ | 41009/47164 [00:35<00:05, 1124.20it/s]\nLoading dataset:  87%|████████▋ | 41129/47164 [00:36<00:05, 1146.36it/s]\nLoading dataset:  87%|████████▋ | 41248/47164 [00:36<00:05, 1158.35it/s]\nLoading dataset:  88%|████████▊ | 41368/47164 [00:36<00:04, 1168.14it/s]\nLoading dataset:  88%|████████▊ | 41488/47164 [00:36<00:04, 1175.22it/s]\nLoading dataset:  88%|████████▊ | 41608/47164 [00:36<00:04, 1182.13it/s]\nLoading dataset:  88%|████████▊ | 41727/47164 [00:36<00:04, 1178.43it/s]\nLoading dataset:  89%|████████▊ | 41845/47164 [00:36<00:04, 1161.16it/s]\nLoading dataset:  89%|████████▉ | 41962/47164 [00:36<00:04, 1162.87it/s]\nLoading dataset:  89%|████████▉ | 42081/47164 [00:36<00:04, 1169.81it/s]\nLoading dataset:  89%|████████▉ | 42199/47164 [00:36<00:04, 1165.90it/s]\nLoading dataset:  90%|████████▉ | 42317/47164 [00:37<00:04, 1167.85it/s]\nLoading dataset:  90%|████████▉ | 42437/47164 [00:37<00:04, 1174.66it/s]\nLoading dataset:  90%|█████████ | 42557/47164 [00:37<00:03, 1182.11it/s]\nLoading dataset:  90%|█████████ | 42677/47164 [00:37<00:03, 1185.23it/s]\nLoading dataset:  91%|█████████ | 42796/47164 [00:37<00:03, 1184.30it/s]\nLoading dataset:  91%|█████████ | 42916/47164 [00:37<00:03, 1186.85it/s]\nLoading dataset:  91%|█████████ | 43036/47164 [00:37<00:03, 1188.88it/s]\nLoading dataset:  91%|█████████▏| 43155/47164 [00:37<00:03, 1186.30it/s]\nLoading dataset:  92%|█████████▏| 43276/47164 [00:37<00:03, 1192.61it/s]\nLoading dataset:  92%|█████████▏| 43398/47164 [00:37<00:03, 1198.29it/s]\nLoading dataset:  92%|█████████▏| 43519/47164 [00:38<00:03, 1200.89it/s]\nLoading dataset:  93%|█████████▎| 43640/47164 [00:38<00:03, 1167.26it/s]\nLoading dataset:  93%|█████████▎| 43757/47164 [00:38<00:02, 1153.17it/s]\nLoading dataset:  93%|█████████▎| 43873/47164 [00:38<00:02, 1140.27it/s]\nLoading dataset:  93%|█████████▎| 43991/47164 [00:38<00:02, 1150.98it/s]\nLoading dataset:  94%|█████████▎| 44112/47164 [00:38<00:02, 1167.58it/s]\nLoading dataset:  94%|█████████▍| 44231/47164 [00:38<00:02, 1171.79it/s]\nLoading dataset:  94%|█████████▍| 44350/47164 [00:38<00:02, 1176.29it/s]\nLoading dataset:  94%|█████████▍| 44469/47164 [00:38<00:02, 1180.13it/s]\nLoading dataset:  95%|█████████▍| 44590/47164 [00:39<00:02, 1186.11it/s]\nLoading dataset:  95%|█████████▍| 44710/47164 [00:39<00:02, 1187.54it/s]\nLoading dataset:  95%|█████████▌| 44830/47164 [00:39<00:01, 1189.35it/s]\nLoading dataset:  95%|█████████▌| 44950/47164 [00:39<00:01, 1190.86it/s]\nLoading dataset:  96%|█████████▌| 45070/47164 [00:39<00:01, 1190.74it/s]\nLoading dataset:  96%|█████████▌| 45190/47164 [00:39<00:01, 1136.54it/s]\nLoading dataset:  96%|█████████▌| 45305/47164 [00:39<00:02, 768.43it/s] \nLoading dataset:  96%|█████████▋| 45415/47164 [00:39<00:02, 839.35it/s]\nLoading dataset:  97%|█████████▋| 45527/47164 [00:39<00:01, 905.57it/s]\nLoading dataset:  97%|█████████▋| 45648/47164 [00:40<00:01, 981.50it/s]\nLoading dataset:  97%|█████████▋| 45766/47164 [00:40<00:01, 1032.33it/s]\nLoading dataset:  97%|█████████▋| 45877/47164 [00:40<00:01, 1040.22it/s]\nLoading dataset:  98%|█████████▊| 45987/47164 [00:40<00:01, 1040.91it/s]\nLoading dataset:  98%|█████████▊| 46095/47164 [00:40<00:01, 1047.58it/s]\nLoading dataset:  98%|█████████▊| 46214/47164 [00:40<00:00, 1086.68it/s]\nLoading dataset:  98%|█████████▊| 46333/47164 [00:40<00:00, 1115.94it/s]\nLoading dataset:  98%|█████████▊| 46451/47164 [00:40<00:00, 1132.59it/s]\nLoading dataset:  99%|█████████▊| 46570/47164 [00:40<00:00, 1148.36it/s]\nLoading dataset:  99%|█████████▉| 46686/47164 [00:41<00:00, 1131.41it/s]\nLoading dataset:  99%|█████████▉| 46800/47164 [00:41<00:00, 1123.50it/s]\nLoading dataset:  99%|█████████▉| 46913/47164 [00:41<00:00, 1116.75it/s]\nLoading dataset: 100%|█████████▉| 47032/47164 [00:41<00:00, 1136.07it/s]\nLoading dataset: 100%|█████████▉| 47152/47164 [00:41<00:00, 1152.43it/s]\nLoading dataset: 100%|██████████| 47164/47164 [00:41<00:00, 1138.44it/s]\n2023-09-11 14:49:04,295 - INFO - Verified 'MedNIST.tar.gz', md5: 0bc7306e7427e00ad1c5526a6677552d.\n2023-09-11 14:49:04,295 - INFO - File exists: MedNIST.tar.gz, skipped downloading.\n2023-09-11 14:49:04,295 - INFO - Non-empty folder exists in MedNIST, skipped extracting.\n\nLoading dataset:   0%|          | 0/5895 [00:00<?, ?it/s]\nLoading dataset:   2%|▏         | 98/5895 [00:00<00:05, 971.41it/s]\nLoading dataset:   3%|▎         | 206/5895 [00:00<00:05, 1034.71it/s]\nLoading dataset:   5%|▌         | 315/5895 [00:00<00:05, 1055.61it/s]\nLoading dataset:   7%|▋         | 422/5895 [00:00<00:05, 1060.48it/s]\nLoading dataset:   9%|▉         | 529/5895 [00:00<00:05, 1061.77it/s]\nLoading dataset:  11%|█         | 636/5895 [00:00<00:05, 996.71it/s] \nLoading dataset:  13%|█▎        | 740/5895 [00:00<00:05, 1007.53it/s]\nLoading dataset:  14%|█▍        | 845/5895 [00:00<00:04, 1018.33it/s]\nLoading dataset:  16%|█▌        | 948/5895 [00:00<00:04, 998.78it/s] \nLoading dataset:  18%|█▊        | 1055/5895 [00:01<00:04, 1017.67it/s]\nLoading dataset:  20%|█▉        | 1160/5895 [00:01<00:04, 1026.75it/s]\nLoading dataset:  21%|██▏       | 1263/5895 [00:01<00:04, 1024.03it/s]\nLoading dataset:  23%|██▎       | 1366/5895 [00:01<00:04, 1018.56it/s]\nLoading dataset:  25%|██▍       | 1468/5895 [00:01<00:04, 1015.57it/s]\nLoading dataset:  27%|██▋       | 1570/5895 [00:01<00:04, 1011.93it/s]\nLoading dataset:  28%|██▊       | 1675/5895 [00:01<00:04, 1022.72it/s]\nLoading dataset:  30%|███       | 1779/5895 [00:01<00:04, 1025.59it/s]\nLoading dataset:  32%|███▏      | 1882/5895 [00:01<00:03, 1018.34it/s]\nLoading dataset:  34%|███▎      | 1985/5895 [00:01<00:03, 1018.61it/s]\nLoading dataset:  35%|███▌      | 2087/5895 [00:02<00:03, 1017.21it/s]\nLoading dataset:  37%|███▋      | 2191/5895 [00:02<00:03, 1023.42it/s]\nLoading dataset:  39%|███▉      | 2296/5895 [00:02<00:03, 1028.42it/s]\nLoading dataset:  41%|████      | 2401/5895 [00:02<00:03, 1033.79it/s]\nLoading dataset:  43%|████▎     | 2507/5895 [00:02<00:03, 1040.13it/s]\nLoading dataset:  44%|████▍     | 2613/5895 [00:02<00:03, 1045.08it/s]\nLoading dataset:  46%|████▌     | 2718/5895 [00:02<00:03, 1034.34it/s]\nLoading dataset:  48%|████▊     | 2822/5895 [00:02<00:03, 1014.95it/s]\nLoading dataset:  50%|████▉     | 2924/5895 [00:02<00:02, 1010.30it/s]\nLoading dataset:  51%|█████▏    | 3026/5895 [00:02<00:02, 999.17it/s] \nLoading dataset:  53%|█████▎    | 3126/5895 [00:03<00:02, 976.42it/s]\nLoading dataset:  55%|█████▍    | 3224/5895 [00:03<00:02, 949.07it/s]\nLoading dataset:  56%|█████▋    | 3320/5895 [00:03<00:02, 947.26it/s]\nLoading dataset:  58%|█████▊    | 3415/5895 [00:03<00:02, 947.74it/s]\nLoading dataset:  60%|█████▉    | 3510/5895 [00:03<00:02, 940.96it/s]\nLoading dataset:  61%|██████    | 3605/5895 [00:03<00:02, 924.60it/s]\nLoading dataset:  63%|██████▎   | 3708/5895 [00:03<00:02, 952.78it/s]\nLoading dataset:  65%|██████▍   | 3811/5895 [00:03<00:02, 973.20it/s]\nLoading dataset:  66%|██████▋   | 3917/5895 [00:03<00:01, 998.27it/s]\nLoading dataset:  68%|██████▊   | 4017/5895 [00:04<00:01, 987.51it/s]\nLoading dataset:  70%|██████▉   | 4119/5895 [00:04<00:01, 996.43it/s]\nLoading dataset:  72%|███████▏  | 4220/5895 [00:04<00:01, 1000.19it/s]\nLoading dataset:  73%|███████▎  | 4321/5895 [00:04<00:01, 999.45it/s] \nLoading dataset:  75%|███████▍  | 4421/5895 [00:04<00:01, 998.56it/s]\nLoading dataset:  77%|███████▋  | 4521/5895 [00:04<00:01, 994.45it/s]\nLoading dataset:  78%|███████▊  | 4627/5895 [00:04<00:01, 1013.67it/s]\nLoading dataset:  80%|████████  | 4729/5895 [00:04<00:01, 991.14it/s] \nLoading dataset:  82%|████████▏ | 4830/5895 [00:04<00:01, 996.10it/s]\nLoading dataset:  84%|████████▎ | 4930/5895 [00:04<00:00, 985.45it/s]\nLoading dataset:  85%|████████▌ | 5031/5895 [00:05<00:00, 990.85it/s]\nLoading dataset:  87%|████████▋ | 5132/5895 [00:05<00:00, 995.30it/s]\nLoading dataset:  89%|████████▉ | 5236/5895 [00:05<00:00, 1008.01it/s]\nLoading dataset:  91%|█████████ | 5339/5895 [00:05<00:00, 1013.90it/s]\nLoading dataset:  92%|█████████▏| 5441/5895 [00:05<00:00, 1011.17it/s]\nLoading dataset:  94%|█████████▍| 5545/5895 [00:05<00:00, 1017.63it/s]\nLoading dataset:  96%|█████████▌| 5648/5895 [00:05<00:00, 1019.56it/s]\nLoading dataset:  98%|█████████▊| 5750/5895 [00:05<00:00, 1019.60it/s]\nLoading dataset:  99%|█████████▉| 5852/5895 [00:05<00:00, 1019.19it/s]\nLoading dataset: 100%|██████████| 5895/5895 [00:05<00:00, 1005.20it/s]\n2023-09-11 14:49:10,295 - ignite.engine.engine.SupervisedTrainer - INFO - Engine run resuming from iteration 0, epoch 0 until 2 epochs\n2023-09-11 14:49:10,476 - ignite.engine.engine.SupervisedTrainer - INFO - Restored all variables from ./MedNISTClassifier_v2/models/model.pt\n2023-09-11 14:49:11,409 - INFO - Epoch: 1/2, Iter: 1/93 -- train_loss: 0.1408 \n2023-09-11 14:49:11,790 - INFO - Epoch: 1/2, Iter: 2/93 -- train_loss: 0.1497 \n2023-09-11 14:49:12,157 - INFO - Epoch: 1/2, Iter: 3/93 -- train_loss: 0.1227 \n2023-09-11 14:49:12,524 - INFO - Epoch: 1/2, Iter: 4/93 -- train_loss: 0.1367 \n2023-09-11 14:49:12,892 - INFO - Epoch: 1/2, Iter: 5/93 -- train_loss: 0.1129 \n2023-09-11 14:49:13,264 - INFO - Epoch: 1/2, Iter: 6/93 -- train_loss: 0.1248 \n2023-09-11 14:49:13,629 - INFO - Epoch: 1/2, Iter: 7/93 -- train_loss: 0.1039 \n2023-09-11 14:49:13,996 - INFO - Epoch: 1/2, Iter: 8/93 -- train_loss: 0.1250 \n2023-09-11 14:49:14,365 - INFO - Epoch: 1/2, Iter: 9/93 -- train_loss: 0.1278 \n2023-09-11 14:49:14,738 - INFO - Epoch: 1/2, Iter: 10/93 -- train_loss: 0.1456 \n2023-09-11 14:49:15,106 - INFO - Epoch: 1/2, Iter: 11/93 -- train_loss: 0.1288 \n2023-09-11 14:49:15,475 - INFO - Epoch: 1/2, Iter: 12/93 -- train_loss: 0.1243 \n2023-09-11 14:49:15,843 - INFO - Epoch: 1/2, Iter: 13/93 -- train_loss: 0.1101 \n2023-09-11 14:49:16,218 - INFO - Epoch: 1/2, Iter: 14/93 -- train_loss: 0.0962 \n2023-09-11 14:49:16,593 - INFO - Epoch: 1/2, Iter: 15/93 -- train_loss: 0.1100 \n2023-09-11 14:49:17,197 - INFO - Epoch: 1/2, Iter: 16/93 -- train_loss: 0.1106 \n2023-09-11 14:49:17,566 - INFO - Epoch: 1/2, Iter: 17/93 -- train_loss: 0.1043 \n2023-09-11 14:49:17,934 - INFO - Epoch: 1/2, Iter: 18/93 -- train_loss: 0.0998 \n2023-09-11 14:49:18,303 - INFO - Epoch: 1/2, Iter: 19/93 -- train_loss: 0.1080 \n2023-09-11 14:49:18,673 - INFO - Epoch: 1/2, Iter: 20/93 -- train_loss: 0.1032 \n2023-09-11 14:49:19,043 - INFO - Epoch: 1/2, Iter: 21/93 -- train_loss: 0.1146 \n2023-09-11 14:49:19,415 - INFO - Epoch: 1/2, Iter: 22/93 -- train_loss: 0.0937 \n2023-09-11 14:49:19,784 - INFO - Epoch: 1/2, Iter: 23/93 -- train_loss: 0.1036 \n2023-09-11 14:49:20,155 - INFO - Epoch: 1/2, Iter: 24/93 -- train_loss: 0.0901 \n2023-09-11 14:49:20,526 - INFO - Epoch: 1/2, Iter: 25/93 -- train_loss: 0.0919 \n2023-09-11 14:49:20,897 - INFO - Epoch: 1/2, Iter: 26/93 -- train_loss: 0.0786 \n2023-09-11 14:49:21,267 - INFO - Epoch: 1/2, Iter: 27/93 -- train_loss: 0.0938 \n2023-09-11 14:49:21,638 - INFO - Epoch: 1/2, Iter: 28/93 -- train_loss: 0.0952 \n2023-09-11 14:49:22,007 - INFO - Epoch: 1/2, Iter: 29/93 -- train_loss: 0.0871 \n2023-09-11 14:49:22,377 - INFO - Epoch: 1/2, Iter: 30/93 -- train_loss: 0.0799 \n2023-09-11 14:49:22,753 - INFO - Epoch: 1/2, Iter: 31/93 -- train_loss: 0.0810 \n2023-09-11 14:49:23,129 - INFO - Epoch: 1/2, Iter: 32/93 -- train_loss: 0.0735 \n2023-09-11 14:49:23,499 - INFO - Epoch: 1/2, Iter: 33/93 -- train_loss: 0.0701 \n2023-09-11 14:49:23,872 - INFO - Epoch: 1/2, Iter: 34/93 -- train_loss: 0.0976 \n2023-09-11 14:49:24,244 - INFO - Epoch: 1/2, Iter: 35/93 -- train_loss: 0.0689 \n2023-09-11 14:49:24,614 - INFO - Epoch: 1/2, Iter: 36/93 -- train_loss: 0.0924 \n2023-09-11 14:49:24,984 - INFO - Epoch: 1/2, Iter: 37/93 -- train_loss: 0.0950 \n2023-09-11 14:49:25,355 - INFO - Epoch: 1/2, Iter: 38/93 -- train_loss: 0.0813 \n2023-09-11 14:49:25,725 - INFO - Epoch: 1/2, Iter: 39/93 -- train_loss: 0.0812 \n2023-09-11 14:49:26,095 - INFO - Epoch: 1/2, Iter: 40/93 -- train_loss: 0.0585 \n2023-09-11 14:49:26,464 - INFO - Epoch: 1/2, Iter: 41/93 -- train_loss: 0.0809 \n2023-09-11 14:49:26,835 - INFO - Epoch: 1/2, Iter: 42/93 -- train_loss: 0.0681 \n2023-09-11 14:49:27,206 - INFO - Epoch: 1/2, Iter: 43/93 -- train_loss: 0.0752 \n2023-09-11 14:49:27,576 - INFO - Epoch: 1/2, Iter: 44/93 -- train_loss: 0.0706 \n2023-09-11 14:49:27,945 - INFO - Epoch: 1/2, Iter: 45/93 -- train_loss: 0.0703 \n2023-09-11 14:49:28,315 - INFO - Epoch: 1/2, Iter: 46/93 -- train_loss: 0.0745 \n2023-09-11 14:49:28,718 - INFO - Epoch: 1/2, Iter: 47/93 -- train_loss: 0.0596 \n2023-09-11 14:49:29,088 - INFO - Epoch: 1/2, Iter: 48/93 -- train_loss: 0.0717 \n2023-09-11 14:49:29,457 - INFO - Epoch: 1/2, Iter: 49/93 -- train_loss: 0.0691 \n2023-09-11 14:49:29,827 - INFO - Epoch: 1/2, Iter: 50/93 -- train_loss: 0.0662 \n2023-09-11 14:49:30,196 - INFO - Epoch: 1/2, Iter: 51/93 -- train_loss: 0.0718 \n2023-09-11 14:49:30,567 - INFO - Epoch: 1/2, Iter: 52/93 -- train_loss: 0.0671 \n2023-09-11 14:49:30,937 - INFO - Epoch: 1/2, Iter: 53/93 -- train_loss: 0.0822 \n2023-09-11 14:49:31,308 - INFO - Epoch: 1/2, Iter: 54/93 -- train_loss: 0.0785 \n2023-09-11 14:49:31,678 - INFO - Epoch: 1/2, Iter: 55/93 -- train_loss: 0.0721 \n2023-09-11 14:49:32,048 - INFO - Epoch: 1/2, Iter: 56/93 -- train_loss: 0.0604 \n2023-09-11 14:49:32,417 - INFO - Epoch: 1/2, Iter: 57/93 -- train_loss: 0.0564 \n2023-09-11 14:49:32,787 - INFO - Epoch: 1/2, Iter: 58/93 -- train_loss: 0.0523 \n2023-09-11 14:49:33,157 - INFO - Epoch: 1/2, Iter: 59/93 -- train_loss: 0.0819 \n2023-09-11 14:49:33,527 - INFO - Epoch: 1/2, Iter: 60/93 -- train_loss: 0.0546 \n2023-09-11 14:49:33,897 - INFO - Epoch: 1/2, Iter: 61/93 -- train_loss: 0.0513 \n2023-09-11 14:49:34,267 - INFO - Epoch: 1/2, Iter: 62/93 -- train_loss: 0.0513 \n2023-09-11 14:49:34,637 - INFO - Epoch: 1/2, Iter: 63/93 -- train_loss: 0.0574 \n2023-09-11 14:49:35,007 - INFO - Epoch: 1/2, Iter: 64/93 -- train_loss: 0.0640 \n2023-09-11 14:49:35,377 - INFO - Epoch: 1/2, Iter: 65/93 -- train_loss: 0.0457 \n2023-09-11 14:49:35,749 - INFO - Epoch: 1/2, Iter: 66/93 -- train_loss: 0.0598 \n2023-09-11 14:49:36,120 - INFO - Epoch: 1/2, Iter: 67/93 -- train_loss: 0.0602 \n2023-09-11 14:49:36,491 - INFO - Epoch: 1/2, Iter: 68/93 -- train_loss: 0.0496 \n2023-09-11 14:49:36,862 - INFO - Epoch: 1/2, Iter: 69/93 -- train_loss: 0.0489 \n2023-09-11 14:49:37,235 - INFO - Epoch: 1/2, Iter: 70/93 -- train_loss: 0.0434 \n2023-09-11 14:49:37,605 - INFO - Epoch: 1/2, Iter: 71/93 -- train_loss: 0.0598 \n2023-09-11 14:49:37,985 - INFO - Epoch: 1/2, Iter: 72/93 -- train_loss: 0.0476 \n2023-09-11 14:49:38,358 - INFO - Epoch: 1/2, Iter: 73/93 -- train_loss: 0.0678 \n2023-09-11 14:49:38,731 - INFO - Epoch: 1/2, Iter: 74/93 -- train_loss: 0.0562 \n2023-09-11 14:49:39,102 - INFO - Epoch: 1/2, Iter: 75/93 -- train_loss: 0.0485 \n2023-09-11 14:49:39,662 - INFO - Epoch: 1/2, Iter: 76/93 -- train_loss: 0.0520 \n2023-09-11 14:49:40,034 - INFO - Epoch: 1/2, Iter: 77/93 -- train_loss: 0.0431 \n2023-09-11 14:49:40,406 - INFO - Epoch: 1/2, Iter: 78/93 -- train_loss: 0.0485 \n2023-09-11 14:49:40,783 - INFO - Epoch: 1/2, Iter: 79/93 -- train_loss: 0.0627 \n2023-09-11 14:49:41,156 - INFO - Epoch: 1/2, Iter: 80/93 -- train_loss: 0.0527 \n2023-09-11 14:49:41,528 - INFO - Epoch: 1/2, Iter: 81/93 -- train_loss: 0.0517 \n2023-09-11 14:49:41,902 - INFO - Epoch: 1/2, Iter: 82/93 -- train_loss: 0.0368 \n2023-09-11 14:49:42,273 - INFO - Epoch: 1/2, Iter: 83/93 -- train_loss: 0.0530 \n2023-09-11 14:49:42,647 - INFO - Epoch: 1/2, Iter: 84/93 -- train_loss: 0.0514 \n2023-09-11 14:49:43,021 - INFO - Epoch: 1/2, Iter: 85/93 -- train_loss: 0.0525 \n2023-09-11 14:49:43,395 - INFO - Epoch: 1/2, Iter: 86/93 -- train_loss: 0.0463 \n2023-09-11 14:49:43,767 - INFO - Epoch: 1/2, Iter: 87/93 -- train_loss: 0.0426 \n2023-09-11 14:49:44,146 - INFO - Epoch: 1/2, Iter: 88/93 -- train_loss: 0.0418 \n2023-09-11 14:49:44,524 - INFO - Epoch: 1/2, Iter: 89/93 -- train_loss: 0.0371 \n2023-09-11 14:49:44,902 - INFO - Epoch: 1/2, Iter: 90/93 -- train_loss: 0.0550 \n2023-09-11 14:49:45,275 - INFO - Epoch: 1/2, Iter: 91/93 -- train_loss: 0.0375 \n2023-09-11 14:49:45,647 - INFO - Epoch: 1/2, Iter: 92/93 -- train_loss: 0.0516 \n2023-09-11 14:49:45,875 - INFO - Epoch: 1/2, Iter: 93/93 -- train_loss: 0.0492 \n2023-09-11 14:49:45,876 - ignite.engine.engine.SupervisedEvaluator - INFO - Engine run resuming from iteration 0, epoch 0 until 1 epochs\n2023-09-11 14:49:54,712 - ignite.engine.engine.SupervisedEvaluator - INFO - Got new best metric of accuracy: 0.9975120158326265\n2023-09-11 14:49:54,712 - INFO - Epoch[1] Metrics -- accuracy: 0.9975 \n2023-09-11 14:49:54,713 - INFO - Key metric: accuracy best value: 0.9975120158326265 at epoch: 1\n2023-09-11 14:49:54,713 - ignite.engine.engine.SupervisedEvaluator - INFO - Epoch[1] Complete. Time taken: 00:00:08.720\n2023-09-11 14:49:54,713 - ignite.engine.engine.SupervisedEvaluator - INFO - Engine run complete. Time taken: 00:00:08.837\n2023-09-11 14:49:54,832 - ignite.engine.engine.SupervisedTrainer - INFO - Saved checkpoint at epoch: 1\n2023-09-11 14:49:54,832 - ignite.engine.engine.SupervisedTrainer - INFO - Epoch[1] Complete. Time taken: 00:00:44.233\n2023-09-11 14:49:55,430 - INFO - Epoch: 2/2, Iter: 1/93 -- train_loss: 0.0426 \n2023-09-11 14:49:55,808 - INFO - Epoch: 2/2, Iter: 2/93 -- train_loss: 0.0409 \n2023-09-11 14:49:56,186 - INFO - Epoch: 2/2, Iter: 3/93 -- train_loss: 0.0380 \n2023-09-11 14:49:56,557 - INFO - Epoch: 2/2, Iter: 4/93 -- train_loss: 0.0467 \n2023-09-11 14:49:56,943 - INFO - Epoch: 2/2, Iter: 5/93 -- train_loss: 0.0439 \n2023-09-11 14:49:57,313 - INFO - Epoch: 2/2, Iter: 6/93 -- train_loss: 0.0516 \n2023-09-11 14:49:57,690 - INFO - Epoch: 2/2, Iter: 7/93 -- train_loss: 0.0405 \n2023-09-11 14:49:58,058 - INFO - Epoch: 2/2, Iter: 8/93 -- train_loss: 0.0410 \n2023-09-11 14:49:58,435 - INFO - Epoch: 2/2, Iter: 9/93 -- train_loss: 0.0370 \n2023-09-11 14:49:58,804 - INFO - Epoch: 2/2, Iter: 10/93 -- train_loss: 0.0529 \n2023-09-11 14:49:59,179 - INFO - Epoch: 2/2, Iter: 11/93 -- train_loss: 0.0410 \n2023-09-11 14:49:59,549 - INFO - Epoch: 2/2, Iter: 12/93 -- train_loss: 0.0378 \n2023-09-11 14:49:59,927 - INFO - Epoch: 2/2, Iter: 13/93 -- train_loss: 0.0427 \n2023-09-11 14:50:00,297 - INFO - Epoch: 2/2, Iter: 14/93 -- train_loss: 0.0368 \n2023-09-11 14:50:00,678 - INFO - Epoch: 2/2, Iter: 15/93 -- train_loss: 0.0382 \n2023-09-11 14:50:01,049 - INFO - Epoch: 2/2, Iter: 16/93 -- train_loss: 0.0359 \n2023-09-11 14:50:01,428 - INFO - Epoch: 2/2, Iter: 17/93 -- train_loss: 0.0301 \n2023-09-11 14:50:01,802 - INFO - Epoch: 2/2, Iter: 18/93 -- train_loss: 0.0457 \n2023-09-11 14:50:02,175 - INFO - Epoch: 2/2, Iter: 19/93 -- train_loss: 0.0335 \n2023-09-11 14:50:02,546 - INFO - Epoch: 2/2, Iter: 20/93 -- train_loss: 0.0430 \n2023-09-11 14:50:02,923 - INFO - Epoch: 2/2, Iter: 21/93 -- train_loss: 0.0421 \n2023-09-11 14:50:03,296 - INFO - Epoch: 2/2, Iter: 22/93 -- train_loss: 0.0466 \n2023-09-11 14:50:03,668 - INFO - Epoch: 2/2, Iter: 23/93 -- train_loss: 0.0327 \n2023-09-11 14:50:04,036 - INFO - Epoch: 2/2, Iter: 24/93 -- train_loss: 0.0276 \n2023-09-11 14:50:04,413 - INFO - Epoch: 2/2, Iter: 25/93 -- train_loss: 0.0352 \n2023-09-11 14:50:04,786 - INFO - Epoch: 2/2, Iter: 26/93 -- train_loss: 0.0345 \n2023-09-11 14:50:05,245 - INFO - Epoch: 2/2, Iter: 27/93 -- train_loss: 0.0427 \n2023-09-11 14:50:05,615 - INFO - Epoch: 2/2, Iter: 28/93 -- train_loss: 0.0339 \n2023-09-11 14:50:05,992 - INFO - Epoch: 2/2, Iter: 29/93 -- train_loss: 0.0315 \n2023-09-11 14:50:06,365 - INFO - Epoch: 2/2, Iter: 30/93 -- train_loss: 0.0296 \n2023-09-11 14:50:06,749 - INFO - Epoch: 2/2, Iter: 31/93 -- train_loss: 0.0295 \n2023-09-11 14:50:07,119 - INFO - Epoch: 2/2, Iter: 32/93 -- train_loss: 0.0246 \n2023-09-11 14:50:07,495 - INFO - Epoch: 2/2, Iter: 33/93 -- train_loss: 0.0240 \n2023-09-11 14:50:07,866 - INFO - Epoch: 2/2, Iter: 34/93 -- train_loss: 0.0344 \n2023-09-11 14:50:08,237 - INFO - Epoch: 2/2, Iter: 35/93 -- train_loss: 0.0367 \n2023-09-11 14:50:08,609 - INFO - Epoch: 2/2, Iter: 36/93 -- train_loss: 0.0328 \n2023-09-11 14:50:08,988 - INFO - Epoch: 2/2, Iter: 37/93 -- train_loss: 0.0397 \n2023-09-11 14:50:09,358 - INFO - Epoch: 2/2, Iter: 38/93 -- train_loss: 0.0434 \n2023-09-11 14:50:09,734 - INFO - Epoch: 2/2, Iter: 39/93 -- train_loss: 0.0290 \n2023-09-11 14:50:10,105 - INFO - Epoch: 2/2, Iter: 40/93 -- train_loss: 0.0253 \n2023-09-11 14:50:10,482 - INFO - Epoch: 2/2, Iter: 41/93 -- train_loss: 0.0296 \n2023-09-11 14:50:10,856 - INFO - Epoch: 2/2, Iter: 42/93 -- train_loss: 0.0276 \n2023-09-11 14:50:11,231 - INFO - Epoch: 2/2, Iter: 43/93 -- train_loss: 0.0257 \n2023-09-11 14:50:11,604 - INFO - Epoch: 2/2, Iter: 44/93 -- train_loss: 0.0358 \n2023-09-11 14:50:11,981 - INFO - Epoch: 2/2, Iter: 45/93 -- train_loss: 0.0310 \n2023-09-11 14:50:12,351 - INFO - Epoch: 2/2, Iter: 46/93 -- train_loss: 0.0281 \n2023-09-11 14:50:12,725 - INFO - Epoch: 2/2, Iter: 47/93 -- train_loss: 0.0284 \n2023-09-11 14:50:13,094 - INFO - Epoch: 2/2, Iter: 48/93 -- train_loss: 0.0261 \n2023-09-11 14:50:13,471 - INFO - Epoch: 2/2, Iter: 49/93 -- train_loss: 0.0305 \n2023-09-11 14:50:13,840 - INFO - Epoch: 2/2, Iter: 50/93 -- train_loss: 0.0249 \n2023-09-11 14:50:14,213 - INFO - Epoch: 2/2, Iter: 51/93 -- train_loss: 0.0278 \n2023-09-11 14:50:14,583 - INFO - Epoch: 2/2, Iter: 52/93 -- train_loss: 0.0274 \n2023-09-11 14:50:14,960 - INFO - Epoch: 2/2, Iter: 53/93 -- train_loss: 0.0286 \n2023-09-11 14:50:15,329 - INFO - Epoch: 2/2, Iter: 54/93 -- train_loss: 0.0353 \n2023-09-11 14:50:15,709 - INFO - Epoch: 2/2, Iter: 55/93 -- train_loss: 0.0345 \n2023-09-11 14:50:16,082 - INFO - Epoch: 2/2, Iter: 56/93 -- train_loss: 0.0207 \n2023-09-11 14:50:16,461 - INFO - Epoch: 2/2, Iter: 57/93 -- train_loss: 0.0374 \n2023-09-11 14:50:16,831 - INFO - Epoch: 2/2, Iter: 58/93 -- train_loss: 0.0217 \n2023-09-11 14:50:17,204 - INFO - Epoch: 2/2, Iter: 59/93 -- train_loss: 0.0272 \n2023-09-11 14:50:17,758 - INFO - Epoch: 2/2, Iter: 60/93 -- train_loss: 0.0213 \n2023-09-11 14:50:18,135 - INFO - Epoch: 2/2, Iter: 61/93 -- train_loss: 0.0292 \n2023-09-11 14:50:18,505 - INFO - Epoch: 2/2, Iter: 62/93 -- train_loss: 0.0290 \n2023-09-11 14:50:18,875 - INFO - Epoch: 2/2, Iter: 63/93 -- train_loss: 0.0279 \n2023-09-11 14:50:19,246 - INFO - Epoch: 2/2, Iter: 64/93 -- train_loss: 0.0275 \n2023-09-11 14:50:19,623 - INFO - Epoch: 2/2, Iter: 65/93 -- train_loss: 0.0189 \n2023-09-11 14:50:19,997 - INFO - Epoch: 2/2, Iter: 66/93 -- train_loss: 0.0231 \n2023-09-11 14:50:20,369 - INFO - Epoch: 2/2, Iter: 67/93 -- train_loss: 0.0198 \n2023-09-11 14:50:20,741 - INFO - Epoch: 2/2, Iter: 68/93 -- train_loss: 0.0177 \n2023-09-11 14:50:21,118 - INFO - Epoch: 2/2, Iter: 69/93 -- train_loss: 0.0303 \n2023-09-11 14:50:21,490 - INFO - Epoch: 2/2, Iter: 70/93 -- train_loss: 0.0211 \n2023-09-11 14:50:21,862 - INFO - Epoch: 2/2, Iter: 71/93 -- train_loss: 0.0253 \n2023-09-11 14:50:22,232 - INFO - Epoch: 2/2, Iter: 72/93 -- train_loss: 0.0353 \n2023-09-11 14:50:22,608 - INFO - Epoch: 2/2, Iter: 73/93 -- train_loss: 0.0257 \n2023-09-11 14:50:22,979 - INFO - Epoch: 2/2, Iter: 74/93 -- train_loss: 0.0265 \n2023-09-11 14:50:23,351 - INFO - Epoch: 2/2, Iter: 75/93 -- train_loss: 0.0247 \n2023-09-11 14:50:23,721 - INFO - Epoch: 2/2, Iter: 76/93 -- train_loss: 0.0201 \n2023-09-11 14:50:24,097 - INFO - Epoch: 2/2, Iter: 77/93 -- train_loss: 0.0260 \n2023-09-11 14:50:24,467 - INFO - Epoch: 2/2, Iter: 78/93 -- train_loss: 0.0235 \n2023-09-11 14:50:24,840 - INFO - Epoch: 2/2, Iter: 79/93 -- train_loss: 0.0225 \n2023-09-11 14:50:25,210 - INFO - Epoch: 2/2, Iter: 80/93 -- train_loss: 0.0293 \n2023-09-11 14:50:25,587 - INFO - Epoch: 2/2, Iter: 81/93 -- train_loss: 0.0223 \n2023-09-11 14:50:25,959 - INFO - Epoch: 2/2, Iter: 82/93 -- train_loss: 0.0244 \n2023-09-11 14:50:26,330 - INFO - Epoch: 2/2, Iter: 83/93 -- train_loss: 0.0242 \n2023-09-11 14:50:26,701 - INFO - Epoch: 2/2, Iter: 84/93 -- train_loss: 0.0180 \n2023-09-11 14:50:27,088 - INFO - Epoch: 2/2, Iter: 85/93 -- train_loss: 0.0262 \n2023-09-11 14:50:27,461 - INFO - Epoch: 2/2, Iter: 86/93 -- train_loss: 0.0255 \n2023-09-11 14:50:27,833 - INFO - Epoch: 2/2, Iter: 87/93 -- train_loss: 0.0190 \n2023-09-11 14:50:28,205 - INFO - Epoch: 2/2, Iter: 88/93 -- train_loss: 0.0170 \n2023-09-11 14:50:28,586 - INFO - Epoch: 2/2, Iter: 89/93 -- train_loss: 0.0158 \n2023-09-11 14:50:28,966 - INFO - Epoch: 2/2, Iter: 90/93 -- train_loss: 0.0192 \n2023-09-11 14:50:29,364 - INFO - Epoch: 2/2, Iter: 91/93 -- train_loss: 0.0371 \n2023-09-11 14:50:29,737 - INFO - Epoch: 2/2, Iter: 92/93 -- train_loss: 0.0204 \n2023-09-11 14:50:29,844 - INFO - Epoch: 2/2, Iter: 93/93 -- train_loss: 0.0674 \n2023-09-11 14:50:29,844 - ignite.engine.engine.SupervisedEvaluator - INFO - Engine run resuming from iteration 0, epoch 1 until 2 epochs\n2023-09-11 14:50:38,195 - ignite.engine.engine.SupervisedEvaluator - INFO - Got new best metric of accuracy: 0.9986994628216003\n2023-09-11 14:50:38,195 - INFO - Epoch[2] Metrics -- accuracy: 0.9987 \n2023-09-11 14:50:38,195 - INFO - Key metric: accuracy best value: 0.9986994628216003 at epoch: 2\n2023-09-11 14:50:38,195 - ignite.engine.engine.SupervisedEvaluator - INFO - Epoch[2] Complete. Time taken: 00:00:08.233\n2023-09-11 14:50:38,196 - ignite.engine.engine.SupervisedEvaluator - INFO - Engine run complete. Time taken: 00:00:08.351\n2023-09-11 14:50:38,332 - ignite.engine.engine.SupervisedTrainer - INFO - Saved checkpoint at epoch: 2\n2023-09-11 14:50:38,332 - ignite.engine.engine.SupervisedTrainer - INFO - Epoch[2] Complete. Time taken: 00:00:43.501\n2023-09-11 14:50:38,417 - ignite.engine.engine.SupervisedTrainer - INFO - Train completed, saved final checkpoint: output/output_230911_144910/model_final_iteration=186.pt\n2023-09-11 14:50:38,417 - ignite.engine.engine.SupervisedTrainer - INFO - Engine run complete. Time taken: 00:01:28.122\n"
     ]
    }
   ],
   "source": [
    "with open(\"out.txt\") as o:\n",
    "    raise Exception(o.read())"
   ]
  },
  {
   "cell_type": "markdown",
   "id": "99c6a04e-4859-4123-9433-6632bbd6ff0d",
   "metadata": {},
   "source": [
    "Our new blandly-named bundle, `TestBundle`, doesn't have much in it currently. It has the directory structure so we can start putting definitions in the right places. The first thing we should do is fill in relevant information to the `metadata.json` file so that anyone who has our bundle knows what it is. The default is a template of common fields:"
   ]
  },
  {
   "cell_type": "code",
   "execution_count": 2,
   "id": "3e19c030-4e03-4a96-a127-ee0daa604052",
   "metadata": {},
   "outputs": [
    {
     "name": "stdout",
     "output_type": "stream",
     "text": [
      "{\n",
      "    \"version\": \"0.0.1\",\n",
      "    \"changelog\": {\n",
      "        \"0.0.1\": \"Initial version\"\n",
      "    },\n",
      "    \"monai_version\": \"1.2.0\",\n",
      "    \"pytorch_version\": \"2.0.0\",\n",
      "    \"numpy_version\": \"1.23.5\",\n",
      "    \"optional_packages_version\": {},\n",
      "    \"task\": \"Describe what the network predicts\",\n",
      "    \"description\": \"A longer description of what the network does, use context, inputs, outputs, etc.\",\n",
      "    \"authors\": \"Your Name Here\",\n",
      "    \"copyright\": \"Copyright (c) Your Name Here\",\n",
      "    \"network_data_format\": {\n",
      "        \"inputs\": {},\n",
      "        \"outputs\": {}\n",
      "    }\n",
      "}"
     ]
    }
   ],
   "source": [
    "!cat TestBundle/configs/metadata.json"
   ]
  },
  {
   "cell_type": "markdown",
   "id": "827c759b-9ae6-4ec1-a83d-9077bf23bafd",
   "metadata": {},
   "source": [
    "We'll replace this with some more information that reflects our bundle being a demo:"
   ]
  },
  {
   "cell_type": "code",
   "execution_count": 2,
   "id": "a56e4833-171c-432c-8145-f325fad3bfcb",
   "metadata": {},
   "outputs": [
    {
     "name": "stdout",
     "output_type": "stream",
     "text": [
      "Overwriting TestBundle/configs/metadata.json\n"
     ]
    }
   ],
   "source": [
    "%%writefile TestBundle/configs/metadata.json\n",
    "\n",
    "{\n",
    "    \"version\": \"0.0.1\",\n",
    "    \"changelog\": {\n",
    "        \"0.0.1\": \"Initial version\"\n",
    "    },\n",
    "    \"monai_version\": \"1.2.0\",\n",
    "    \"pytorch_version\": \"2.0.0\",\n",
    "    \"numpy_version\": \"1.23.5\",\n",
    "    \"optional_packages_version\": {},\n",
    "    \"name\": \"TestBundle\",\n",
    "    \"task\": \"Demonstration Bundle Network\",\n",
    "    \"description\": \"This is a demonstration bundle meant to showcase features of the MONAI bundle system only and does nothing useful\",\n",
    "    \"authors\": \"Your Name Here\",\n",
    "    \"copyright\": \"Copyright (c) Your Name Here\",\n",
    "    \"network_data_format\": {\n",
    "        \"inputs\": {},\n",
    "        \"outputs\": {}\n",
    "    },\n",
    "    \"intended_use\": \"This is suitable for demonstration only\"\n",
    "}"
   ]
  },
  {
   "cell_type": "markdown",
   "id": "da6aa796-d4ae-423c-9215-957ad968b845",
   "metadata": {},
   "source": [
    "## Configuration Files\n",
    "\n",
    "Configuration files define how to instantiate a number of Python objects and run simple routines. These files, whether JSON or YAML, are Python dictionaries containing expression lists or the arguments to be passed to a named constructor.\n",
    "\n",
    "The provided `inference.json` file is a demo of applying a network to a series of JPEG images. This illustrates some of the concepts around typical bundles, specifically how to declare MONAI objects to put a workflow together, but we're going to ignore that for now and create some YAML configuration files instead which do some very basic things. \n",
    "\n",
    "Whether you're working with JSON or YAML the config files are doing the same thing which is define a series of object instantiations with the expectation that this constitutes a workflow. Typically for training or inference with a network this would be defining data sources, loaders, transform sequences, and finally a subclass of the [Ignite Engine](https://docs.monai.io/en/stable/engines.html#workflow). A class like `SupervisedTrainer` is the driving program for training a network, so creating an instance of this along with its associated arguments then calling its `run()` method constitutes a workflow or \"program\". \n",
    "\n",
    "You don't have to use any specific objects types though so you're totally free to design your workflows to be whatever you like, but typically as demonstrated in the MONAI Model Zoo they'll be Ignite-based workflows doing training or inference. We'll start with a very simple workflow which actually just imports Pytorch and MONAI then prints diagnostic information:"
   ]
  },
  {
   "cell_type": "code",
   "execution_count": 32,
   "id": "63322909-1a24-426e-a744-39452cdff14f",
   "metadata": {},
   "outputs": [
    {
     "name": "stdout",
     "output_type": "stream",
     "text": [
      "Writing TestBundle/configs/test_config.yaml\n"
     ]
    }
   ],
   "source": [
    "%%writefile TestBundle/configs/test_config.yaml\n",
    "\n",
    "imports: \n",
    "- $import torch\n",
    "- $import monai\n",
    "\n",
    "device: $torch.device('cuda:0' if torch.cuda.is_available() else 'cpu')\n",
    "\n",
    "shape: [4, 4]\n",
    "\n",
    "test_tensor: '$torch.rand(*@shape).to(@device)'\n",
    "\n",
    "test_config:\n",
    "- '$monai.config.print_config()'\n",
    "- '$print(\"Test tensor:\", @test_tensor)'"
   ]
  },
  {
   "cell_type": "markdown",
   "id": "c6c3d978-10d1-47ce-9171-2e4a4f7dbac1",
   "metadata": {},
   "source": [
    "This file demonstrates a number of key concepts:\n",
    "\n",
    "* `imports` is a sequence of strings starting with `$` which indicate the string should be interpreted as a Python expression. These will be interpreted at the start of the execution so that modules can be imported into the running namespace. `imports` should be a sequence of such expressions.\n",
    "* `device` is an object definition created by evaluating the given expression, in this case creating a Pytorch device object.\n",
    "* `shape` is a list of literal values in YAML format we'll use elsewhere.\n",
    "* `test_tensor` is another object created by evaluating an expression, this one uses references to `shape` and `device` with the `@` syntax.\n",
    "* `test_config` is a list of expressions which are evaluated in order to act as the \"main\" or entry point for the program, in this case printing config information and then our created tensor.\n",
    "\n",
    "As mentioned `$` and `@` are sigils with special meaning. A string starting with `$` is treated as a Python expression and is evaluated as such when needed, these need to be enclosed in quotes only when JSON/YAML need that to parse correctly. A variable starting with `@` is treated as reference to something we've defined in the script, eg `@shape`, and will only work for such definitions. Accessing a member of a definition before being interpreted can be done with `#`, so something like `@foo#bar` will access the `bar` member of a definition `foo`. More information on the usage of these can be found at https://docs.monai.io/en/latest/config_syntax.html.\n",
    "\n",
    "We can run this \"program\" on the command line now using the bundle submodule and a few arguments to specify the metadata file and configuration file:"
   ]
  },
  {
   "cell_type": "code",
   "execution_count": 33,
   "id": "7968ceb4-89ef-40a9-ac9b-f048c6cca73b",
   "metadata": {},
   "outputs": [
    {
     "name": "stdout",
     "output_type": "stream",
     "text": [
      "2023-07-14 15:34:52,646 - INFO - --- input summary of monai.bundle.scripts.run ---\n",
      "2023-07-14 15:34:52,647 - INFO - > run_id: 'test_config'\n",
      "2023-07-14 15:34:52,647 - INFO - > meta_file: './TestBundle/configs/metadata.json'\n",
      "2023-07-14 15:34:52,647 - INFO - > config_file: './TestBundle/configs/test_config.yaml'\n",
      "2023-07-14 15:34:52,647 - INFO - ---\n",
      "\n",
      "\n"
     ]
    },
    {
     "name": "stderr",
     "output_type": "stream",
     "text": [
      "/home/localek10/workspace/monai/MONAI_mine/monai/bundle/workflows.py:213: UserWarning: Default logging file in 'configs/logging.conf' does not exist, skipping logging.\n",
      "  warnings.warn(\"Default logging file in 'configs/logging.conf' does not exist, skipping logging.\")\n"
     ]
    },
    {
     "name": "stdout",
     "output_type": "stream",
     "text": [
      "MONAI version: 1.2.0\n",
      "Numpy version: 1.23.5\n",
      "Pytorch version: 2.0.0\n",
      "MONAI flags: HAS_EXT = False, USE_COMPILED = False, USE_META_DICT = False\n",
      "MONAI rev id: c33f1ba588ee00229a309000e888f9817b4f1934\n",
      "MONAI __file__: /home/localek10/workspace/monai/MONAI_mine/monai/__init__.py\n",
      "\n",
      "Optional dependencies:\n",
      "Pytorch Ignite version: 0.4.12\n",
      "ITK version: NOT INSTALLED or UNKNOWN VERSION.\n",
      "Nibabel version: 5.0.1\n",
      "scikit-image version: NOT INSTALLED or UNKNOWN VERSION.\n",
      "Pillow version: 9.4.0\n",
      "Tensorboard version: NOT INSTALLED or UNKNOWN VERSION.\n",
      "gdown version: NOT INSTALLED or UNKNOWN VERSION.\n",
      "TorchVision version: 0.15.0\n",
      "tqdm version: 4.65.0\n",
      "lmdb version: NOT INSTALLED or UNKNOWN VERSION.\n",
      "psutil version: 5.9.0\n",
      "pandas version: 1.5.3\n",
      "einops version: 0.6.1\n",
      "transformers version: NOT INSTALLED or UNKNOWN VERSION.\n",
      "mlflow version: NOT INSTALLED or UNKNOWN VERSION.\n",
      "pynrrd version: NOT INSTALLED or UNKNOWN VERSION.\n",
      "\n",
      "For details about installing the optional dependencies, please visit:\n",
      "    https://docs.monai.io/en/latest/installation.html#installing-the-recommended-dependencies\n",
      "\n",
      "Test tensor: tensor([[0.5281, 0.1114, 0.5124, 0.2523],\n",
      "        [0.6561, 0.0298, 0.6393, 0.8636],\n",
      "        [0.3730, 0.8315, 0.1390, 0.6233],\n",
      "        [0.2646, 0.8929, 0.5250, 0.0472]], device='cuda:0')\n"
     ]
    }
   ],
   "source": [
    "%%bash\n",
    "\n",
    "# convenient to define the bundle's root in a variable\n",
    "BUNDLE=\"./TestBundle\"\n",
    "\n",
    "# loads the test_config.yaml file and runs the test_config program it defines\n",
    "python -m monai.bundle run test_config \\\n",
    "    --meta_file \"$BUNDLE/configs/metadata.json\" \\\n",
    "    --config_file \"$BUNDLE/configs/test_config.yaml\""
   ]
  },
  {
   "cell_type": "markdown",
   "id": "4a28777d-b44a-4c78-b81b-a946b7f4ec30",
   "metadata": {},
   "source": [
    "Here the `run` routine is invoked and the name of the \"main\" sequence of expressions is given (`test_config`). MONAI will then load and interpret the config then evaluate the expressions of `test_config` in order. Definitions in the configuratoin which aren't needed to do this are ignored, so you can provide multiple expression lists that run different parts of your script without having to create everything. "
   ]
  },
  {
   "cell_type": "markdown",
   "id": "d1c00118-a695-4629-a454-3fda51c57232",
   "metadata": {},
   "source": [
    "## Object Instantiation\n",
    "\n",
    "Creating objects is a key concept in config files which would be cumbersome if done only through expressions as has been demonstrated here. Instead, an object can be defined by a dictionary of values naming first the type with `_target_` and then providing the constructor arguments as named values. The following is a simple example creat a `Dataset` class with a very simple set of values:"
   ]
  },
  {
   "cell_type": "code",
   "execution_count": 30,
   "id": "cb762695-8c5d-4f42-9c29-eb6260990b0c",
   "metadata": {},
   "outputs": [
    {
     "name": "stdout",
     "output_type": "stream",
     "text": [
      "Overwriting TestBundle/configs/test_object.yaml\n"
     ]
    }
   ],
   "source": [
    "%%writefile TestBundle/configs/test_object.yaml\n",
    "\n",
    "datadicts: '$[{i: (i * i)} for i in range(10)]'  # create a fake dataset as a list of dicts\n",
    "\n",
    "test_dataset:  # creates an instance of an object because _target_ is present\n",
    "  _target_: Dataset  # name of type to create is monai.data.Dataset (loaded implicitly from MONAI)\n",
    "  data: '@datadicts'  # argument data provided by a definition\n",
    "  transform: '$None'  # argument transform provided by a Python expression\n",
    "\n",
    "test:\n",
    "- '$print(\"Dataset\", @test_dataset)'\n",
    "- '$print(\"Size\", len(@test_dataset))'\n",
    "- '$print(\"Transform member\", @test_dataset.transform)'\n",
    "- '$print(\"Values\", list(@test_dataset))'"
   ]
  },
  {
   "cell_type": "code",
   "execution_count": 31,
   "id": "2cd1287c-f287-4831-bfc7-4cbdc394a3a1",
   "metadata": {},
   "outputs": [
    {
     "name": "stdout",
     "output_type": "stream",
     "text": [
      "2023-07-14 15:28:36,063 - INFO - --- input summary of monai.bundle.scripts.run ---\n",
      "2023-07-14 15:28:36,063 - INFO - > run_id: 'test'\n",
      "2023-07-14 15:28:36,063 - INFO - > meta_file: './TestBundle/configs/metadata.json'\n",
      "2023-07-14 15:28:36,063 - INFO - > config_file: './TestBundle/configs/test_object.yaml'\n",
      "2023-07-14 15:28:36,063 - INFO - ---\n",
      "\n",
      "\n",
      "Dataset <monai.data.dataset.Dataset object at 0x7fa6d117f100>\n",
      "Size 10\n",
      "Transform member None\n",
      "Values [{0: 0}, {1: 1}, {2: 4}, {3: 9}, {4: 16}, {5: 25}, {6: 36}, {7: 49}, {8: 64}, {9: 81}]\n"
     ]
    }
   ],
   "source": [
    "%%bash\n",
    "\n",
    "BUNDLE=\"./TestBundle\"\n",
    "\n",
    "# prints normal values\n",
    "python -W ignore -m monai.bundle run test \\\n",
    "    --meta_file \"$BUNDLE/configs/metadata.json\" \\\n",
    "    --config_file \"$BUNDLE/configs/test_object.yaml\""
   ]
  },
  {
   "cell_type": "markdown",
   "id": "6326d601-23f0-444b-821c-9596bd8c8296",
   "metadata": {},
   "source": [
    "The `test_dataset` definition is roughly equivalent to the expression `Dataset(data=datadicts, transform=None)`. Like regular Python we don't need to provide values for arguments having defaults, but we can only give argument values by name and not by position. "
   ]
  },
  {
   "cell_type": "markdown",
   "id": "93c091b0-6140-4539-bb1e-36bf78445365",
   "metadata": {},
   "source": [
    "## Command Line Definitions\n",
    "\n",
    "Command line arguments can be provided to add or modify definitions in the script you're running. Using `--` before the name of the variable allows you to set their value with the next argument, but this must be a valid Python expression. You can also set individual members of definitions with `#` but be sure to put quotes around the argument in Bash. \n",
    "\n",
    "We can demo this with an even simpler script:"
   ]
  },
  {
   "cell_type": "code",
   "execution_count": 20,
   "id": "391ec82b-43a2-4b6f-8307-e3c853986719",
   "metadata": {},
   "outputs": [
    {
     "name": "stdout",
     "output_type": "stream",
     "text": [
      "Writing TestBundle/configs/test_cmdline.yaml\n"
     ]
    }
   ],
   "source": [
    "%%writefile TestBundle/configs/test_cmdline.yaml\n",
    "\n",
    "shape: [8, 8]\n",
    "area: '$@shape[0]*@shape[1]'\n",
    "\n",
    "test:\n",
    "- '$print(\"Height\", @shape[0])'\n",
    "- '$print(\"Width\", @shape[1])'\n",
    "- '$print(\"Area\", @area)'"
   ]
  },
  {
   "cell_type": "code",
   "execution_count": 21,
   "id": "229617a0-1120-4054-9232-1991cfa21ae9",
   "metadata": {},
   "outputs": [
    {
     "name": "stdout",
     "output_type": "stream",
     "text": [
      "2023-07-14 15:22:37,435 - INFO - --- input summary of monai.bundle.scripts.run ---\n",
      "2023-07-14 15:22:37,435 - INFO - > run_id: 'test'\n",
      "2023-07-14 15:22:37,436 - INFO - > meta_file: './TestBundle/configs/metadata.json'\n",
      "2023-07-14 15:22:37,436 - INFO - > config_file: './TestBundle/configs/test_cmdline.yaml'\n",
      "2023-07-14 15:22:37,436 - INFO - ---\n",
      "\n",
      "\n",
      "Height 8\n",
      "Width 8\n",
      "Area 64\n",
      "2023-07-14 15:22:40,876 - INFO - --- input summary of monai.bundle.scripts.run ---\n",
      "2023-07-14 15:22:40,876 - INFO - > run_id: 'test'\n",
      "2023-07-14 15:22:40,876 - INFO - > meta_file: './TestBundle/configs/metadata.json'\n",
      "2023-07-14 15:22:40,876 - INFO - > config_file: './TestBundle/configs/test_cmdline.yaml'\n",
      "2023-07-14 15:22:40,876 - INFO - > shape#0: 4\n",
      "2023-07-14 15:22:40,876 - INFO - ---\n",
      "\n",
      "\n",
      "Height 4\n",
      "Width 8\n",
      "Area 32\n",
      "2023-07-14 15:22:44,279 - INFO - --- input summary of monai.bundle.scripts.run ---\n",
      "2023-07-14 15:22:44,279 - INFO - > run_id: 'test'\n",
      "2023-07-14 15:22:44,279 - INFO - > meta_file: './TestBundle/configs/metadata.json'\n",
      "2023-07-14 15:22:44,279 - INFO - > config_file: './TestBundle/configs/test_cmdline.yaml'\n",
      "2023-07-14 15:22:44,279 - INFO - > area: 32\n",
      "2023-07-14 15:22:44,279 - INFO - ---\n",
      "\n",
      "\n",
      "Height 8\n",
      "Width 8\n",
      "Area 32\n"
     ]
    }
   ],
   "source": [
    "%%bash\n",
    "\n",
    "BUNDLE=\"./TestBundle\"\n",
    "\n",
    "# prints normal values\n",
    "python -W ignore -m monai.bundle run test \\\n",
    "    --meta_file \"$BUNDLE/configs/metadata.json\" \\\n",
    "    --config_file \"$BUNDLE/configs/test_cmdline.yaml\"\n",
    "\n",
    "# half the height\n",
    "python -W ignore -m monai.bundle run test \\\n",
    "    --meta_file \"$BUNDLE/configs/metadata.json\" \\\n",
    "    --config_file \"$BUNDLE/configs/test_cmdline.yaml\" \\\n",
    "    '--shape#0' 4\n",
    "\n",
    "# area definition replaces existing expression with a lie\n",
    "python -W ignore -m monai.bundle run test \\\n",
    "    --meta_file \"$BUNDLE/configs/metadata.json\" \\\n",
    "    --config_file \"$BUNDLE/configs/test_cmdline.yaml\" \\\n",
    "    --area 32"
   ]
  },
  {
   "cell_type": "markdown",
   "id": "87683aa7-0322-48cb-9919-f3b3b2546763",
   "metadata": {},
   "source": [
    "## Multiple Files\n",
    "\n",
    "Multiple config files can be specified which will create a final script composed of definitions in the first file added to or updated with those in subsequent files. Remember that the files are essentially creating Python dictionaries of definitions that are interpreted later, so later files are just updating that dictionary when loaded. Definitions in one file can be referenced in others:"
   ]
  },
  {
   "cell_type": "code",
   "execution_count": 17,
   "id": "55c034c5-b03f-4ac1-8aa0-a7b768bbbb7e",
   "metadata": {},
   "outputs": [
    {
     "name": "stdout",
     "output_type": "stream",
     "text": [
      "Writing TestBundle/configs/multifile1.yaml\n"
     ]
    }
   ],
   "source": [
    "%%writefile TestBundle/configs/multifile1.yaml\n",
    "\n",
    "width: 8\n",
    "height: 8"
   ]
  },
  {
   "cell_type": "code",
   "execution_count": 18,
   "id": "2511798a-cd44-4aec-954c-c766b29f0a43",
   "metadata": {},
   "outputs": [
    {
     "name": "stdout",
     "output_type": "stream",
     "text": [
      "Writing TestBundle/configs/multifile2.yaml\n"
     ]
    }
   ],
   "source": [
    "%%writefile TestBundle/configs/multifile2.yaml\n",
    "\n",
    "area: '$@width*@height'\n",
    "\n",
    "test:\n",
    "- '$print(\"Area\", @area)'"
   ]
  },
  {
   "cell_type": "code",
   "execution_count": 19,
   "id": "dc6adf63-c4b5-4f97-805a-2321dc1e8d2c",
   "metadata": {},
   "outputs": [
    {
     "name": "stdout",
     "output_type": "stream",
     "text": [
      "2023-07-14 15:09:59,663 - INFO - --- input summary of monai.bundle.scripts.run ---\n",
      "2023-07-14 15:09:59,663 - INFO - > run_id: 'test'\n",
      "2023-07-14 15:09:59,663 - INFO - > meta_file: './TestBundle/configs/metadata.json'\n",
      "2023-07-14 15:09:59,663 - INFO - > config_file: ['./TestBundle/configs/multifile1.yaml', './TestBundle/configs/multifile2.yaml']\n",
      "2023-07-14 15:09:59,663 - INFO - ---\n",
      "\n",
      "\n",
      "Area 64\n"
     ]
    }
   ],
   "source": [
    "%%bash\n",
    "\n",
    "BUNDLE=\"./TestBundle\"\n",
    "\n",
    "# area definition replaces existing expression with a lie\n",
    "python -W ignore -m monai.bundle run test \\\n",
    "    --meta_file \"$BUNDLE/configs/metadata.json\" \\\n",
    "    --config_file \"['$BUNDLE/configs/multifile1.yaml','$BUNDLE/configs/multifile2.yaml']\""
   ]
  },
  {
   "cell_type": "markdown",
   "id": "1afcbac7-1e65-4078-8465-24d5c8e08102",
   "metadata": {},
   "source": [
    "The value for `config_file` in this example is a Python list containing 2 strings. It takes a bit of care to get the Bash syntax right so that this expression isn't mangled (eg. avoid spaces to prevent tokenisation and use \"\" quotes so that other quotes aren't interpreted), but is otherwise a simple mechanism.\n",
    "\n",
    "This mechanism, and the ability to add/modify definitions on the command line, is important for a number of reasons:\n",
    "\n",
    "* It lets you write a \"common\" configuration file containing definitions to be used with other config files and so reduce duplication.\n",
    "* It lets different expressions or setups to be defined with different combinations of files, again avoiding having to duplicate then modify scripts for different experiments.\n",
    "* Adding/changing definitions also allows quick minor changes or batching of different operations on the command line or in shell scripts, eg. doing a parameter sweep by looping through possible values and passing them as arguments. \n",
    "\n",
    "## Summary and Next\n",
    "\n",
    "We have here described the basics of bundles:\n",
    "\n",
    "* Directory structure\n",
    "* Metadata file\n",
    "* Configuration files\n",
    "* Command line usage\n",
    "\n",
    "In the next tutorial we will actually create a bundle for a real network that does something and demonstrate features for working with networks."
   ]
  }
 ],
 "metadata": {
  "kernelspec": {
   "display_name": "Python [conda env:monai]",
   "language": "python",
   "name": "conda-env-monai-py"
  },
  "language_info": {
   "codemirror_mode": {
    "name": "ipython",
    "version": 3
   },
   "file_extension": ".py",
   "mimetype": "text/x-python",
   "name": "python",
   "nbconvert_exporter": "python",
   "pygments_lexer": "ipython3",
   "version": "3.10.10"
  }
 },
 "nbformat": 4,
 "nbformat_minor": 5
}
