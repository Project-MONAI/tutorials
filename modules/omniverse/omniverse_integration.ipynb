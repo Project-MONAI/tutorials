{
 "cells": [
  {
   "cell_type": "markdown",
   "metadata": {},
   "source": [
    "Copyright (c) MONAI Consortium  \n",
    "Licensed under the Apache License, Version 2.0 (the \"License\");  \n",
    "you may not use this file except in compliance with the License.  \n",
    "You may obtain a copy of the License at  \n",
    "&nbsp;&nbsp;&nbsp;&nbsp;http://www.apache.org/licenses/LICENSE-2.0  \n",
    "Unless required by applicable law or agreed to in writing, software  \n",
    "distributed under the License is distributed on an \"AS IS\" BASIS,  \n",
    "WITHOUT WARRANTIES OR CONDITIONS OF ANY KIND, either express or implied.  \n",
    "See the License for the specific language governing permissions and  \n",
    "limitations under the License."
   ]
  },
  {
   "cell_type": "markdown",
   "metadata": {},
   "source": [
    "# From 3D Segmentation to Immersive Visualization: A Complete Workflow for Mesh Conversion, USD Export, and NVIDIA Omniverse Integration\n",
    "In this tutorial, we’ll cover:\n",
    "\n",
    "- Utilizing 3D Segmentation Results: How to extract and prepare segmentation data from VISTA-3D or MAISI for mesh conversion.\n",
    "- Converting to Mesh Format: Step-by-step instructions on transforming segmentation results into mesh models.\n",
    "- Exporting to USD: A guide to exporting meshes as Universal Scene Description (USD) files, optimized for Omniverse workflows.\n",
    "- Visualizing in NVIDIA Omniverse: Instructions on importing USD files into Omniverse for high-quality 3D visualization and manipulation.\n",
    "This end-to-end process enables efficient, high-quality visualization in NVIDIA Omniverse from raw segmentation data."
   ]
  },
  {
   "cell_type": "markdown",
   "metadata": {},
   "source": [
    "## Setup environment"
   ]
  },
  {
   "cell_type": "code",
   "execution_count": null,
   "metadata": {},
   "outputs": [],
   "source": [
    "!python -c \"import monai\" || pip install -q \"monai-weekly[nibabel]\"\n",
    "!python -c \"import vtk\" || pip install -q vtk\n",
    "!python -c \"import pxr\" || pip install -q usd-core\n",
    "!apt update\n",
    "!apt install -y libgl1-mesa-glx"
   ]
  },
  {
   "cell_type": "markdown",
   "metadata": {},
   "source": [
    "## Setup imports"
   ]
  },
  {
   "cell_type": "code",
   "execution_count": 2,
   "metadata": {},
   "outputs": [],
   "source": [
    "import os\n",
    "import vtk\n",
    "import tempfile\n",
    "import numpy as np\n",
    "from utility import convert_to_mesh\n",
    "\n",
    "from monai.bundle.scripts import create_workflow\n",
    "from monai.transforms import LoadImaged, SaveImage, Compose, BorderPadd, SqueezeDimd"
   ]
  },
  {
   "cell_type": "markdown",
   "metadata": {},
   "source": [
    "## Setup data directory\n",
    "\n",
    "You can specify a directory with the `MONAI_DATA_DIRECTORY` environment variable.  \n",
    "This allows you to save results and reuse downloads.  \n",
    "If not specified a temporary directory will be used."
   ]
  },
  {
   "cell_type": "code",
   "execution_count": 3,
   "metadata": {},
   "outputs": [
    {
     "name": "stdout",
     "output_type": "stream",
     "text": [
      "/workspace/Data\n"
     ]
    }
   ],
   "source": [
    "directory = os.environ.get(\"MONAI_DATA_DIRECTORY\")\n",
    "if directory is not None:\n",
    "    os.makedirs(directory, exist_ok=True)\n",
    "root_dir = tempfile.mkdtemp() if directory is None else directory\n",
    "print(root_dir)"
   ]
  },
  {
   "cell_type": "markdown",
   "metadata": {},
   "source": [
    "## Generate segmentation from VISTA-3D\n"
   ]
  },
  {
   "cell_type": "code",
   "execution_count": 1,
   "metadata": {},
   "outputs": [
    {
     "name": "stderr",
     "output_type": "stream",
     "text": [
      "/usr/local/lib/python3.10/dist-packages/tqdm/auto.py:21: TqdmWarning: IProgress not found. Please update jupyter and ipywidgets. See https://ipywidgets.readthedocs.io/en/stable/user_install.html\n",
      "  from .autonotebook import tqdm as notebook_tqdm\n"
     ]
    },
    {
     "name": "stdout",
     "output_type": "stream",
     "text": [
      "2024-11-25 07:04:21,692 - INFO - --- input summary of monai.bundle.scripts.download ---\n",
      "2024-11-25 07:04:21,692 - INFO - > name: 'vista3d'\n",
      "2024-11-25 07:04:21,692 - INFO - > bundle_dir: '.'\n",
      "2024-11-25 07:04:21,693 - INFO - > source: 'monaihosting'\n",
      "2024-11-25 07:04:21,693 - INFO - > remove_prefix: 'monai_'\n",
      "2024-11-25 07:04:21,693 - INFO - > progress: True\n",
      "2024-11-25 07:04:21,694 - INFO - ---\n",
      "\n",
      "\n"
     ]
    },
    {
     "name": "stderr",
     "output_type": "stream",
     "text": [
      "vista3d_v0.5.7.zip: 771MB [00:35, 23.1MB/s]                               \n"
     ]
    },
    {
     "name": "stdout",
     "output_type": "stream",
     "text": [
      "2024-11-25 07:04:57,782 - INFO - Downloaded: vista3d_v0.5.7.zip\n",
      "2024-11-25 07:04:57,783 - INFO - Expected md5 is None, skip md5 check for file vista3d_v0.5.7.zip.\n",
      "2024-11-25 07:04:57,783 - INFO - Writing into directory: ..\n"
     ]
    }
   ],
   "source": [
    "from monai.bundle import download\n",
    "\n",
    "download(name=\"vista3d\", bundle_dir=\".\")"
   ]
  },
  {
   "cell_type": "code",
   "execution_count": 8,
   "metadata": {},
   "outputs": [
    {
     "name": "stdout",
     "output_type": "stream",
     "text": [
      "2024-11-25 07:19:30,430 - INFO - Setting logging properties based on config: /workspace/Code/tutorials/modules/omniverse/vista3d/configs/logging.conf.\n",
      "2024-11-25 07:19:31,621 - root - INFO - Restored all variables from /workspace/Code/tutorials/modules/omniverse/vista3d/models/model.pt\n",
      "2024-11-25 07:19:31,623 - INFO - --- input summary of monai.bundle.scripts.run ---\n",
      "2024-11-25 07:19:31,623 - INFO - > workflow_type: 'inference'\n",
      "2024-11-25 07:19:31,623 - INFO - > bundle_root: '/workspace/Code/tutorials/modules/omniverse/vista3d'\n",
      "2024-11-25 07:19:31,624 - INFO - > input_dict: {'image': '/workspace/Code/tutorials/modules/totalSegmentator_mergedLabel_samples/imagesTr/s0001.nii.gz'}\n",
      "2024-11-25 07:19:31,624 - INFO - ---\n",
      "\n",
      "\n",
      "2024-11-25 07:19:31,625 - ignite.engine.engine.Vista3dEvaluator - INFO - Engine run resuming from iteration 0, epoch 0 until 1 epochs\n",
      "2024-11-25 07:19:33,548 INFO image_writer.py:197 - writing: /workspace/Code/tutorials/modules/omniverse/vista3d/eval/s0001/s0001_trans.nii.gz\n",
      "2024-11-25 07:19:33,697 - ignite.engine.engine.Vista3dEvaluator - INFO - Epoch[1] Complete. Time taken: 00:00:02.072\n",
      "2024-11-25 07:19:33,698 - ignite.engine.engine.Vista3dEvaluator - INFO - Engine run complete. Time taken: 00:00:02.072\n"
     ]
    },
    {
     "data": {
      "text/plain": [
       "[None]"
      ]
     },
     "execution_count": 8,
     "metadata": {},
     "output_type": "execute_result"
    }
   ],
   "source": [
    "bundle_root = os.path.join(\"/workspace/Code/tutorials/modules/omniverse\", \"vista3d\")\n",
    "input_dict = {\"image\": \"/workspace/Code/tutorials/modules/totalSegmentator_mergedLabel_samples/imagesTr/s0001.nii.gz\"}\n",
    "workflow = create_workflow(\n",
    "    config_file=os.path.join(bundle_root,\"configs/inference.json\"),\n",
    "    workflow_type=\"inference\",\n",
    "    bundle_root=bundle_root,\n",
    "    input_dict=input_dict\n",
    ")\n",
    "workflow.run()"
   ]
  },
  {
   "cell_type": "markdown",
   "metadata": {},
   "source": [
    "## Convert NII to Mesh and Save as OBJ"
   ]
  },
  {
   "cell_type": "code",
   "execution_count": null,
   "metadata": {},
   "outputs": [],
   "source": [
    "# 17 groupings that cover 101 segments/regions out of 140\n",
    "labels = {\n",
    "            \"Liver\": 1,\n",
    "            \"Spleen\": 3,\n",
    "            \"Pancreas\": 4,\n",
    "            \"Heart\": 115,\n",
    "            \"Body\": 200,\n",
    "            \"Gallbladder\": 10,\n",
    "            \"Stomach\": 12,\n",
    "            \"Small_bowel\": 19,\n",
    "            \"Colon\": 62,\n",
    "            \"Kidney\": {\"right_kidney\": 5,\n",
    "                       \"left_kidney\": 14\n",
    "                       },\n",
    "            \"Veins\": {\"aorta\": 6,\n",
    "                      \"inferior_vena_cava\": 7,\n",
    "                      \"portal_vein_and_splenic_vein\": 17,\n",
    "                      \"left_iliac_artery\": 58,\n",
    "                      \"right_iliac_artery\": 59,\n",
    "                      \"left_iliac_vena\": 60,\n",
    "                      \"right_iliac_vena\": 61,\n",
    "                      \"pulmonary_vein\": 119,\n",
    "                      \"left_subclavian_artery\": 123,\n",
    "                      \"right_subclavian_artery\": 124,\n",
    "                      \"superior_vena_cava\": 125,\n",
    "                      \"brachiocephalic_trunk\": 109,\n",
    "                      \"left_brachiocephalic_vein\": 110,\n",
    "                      \"right_brachiocephalic_vein\": 111,\n",
    "                      \"left_common_carotid_artery\": 112,\n",
    "                      \"right_common_carotid_artery\": 113,\n",
    "                      },\n",
    "            \"Lungs\": {\"left_lung_upper_lobe\": 28,\n",
    "                      \"left_lung_lower_lobe\": 29,\n",
    "                      \"right_lung_upper_lobe\": 30,\n",
    "                      \"right_lung_middle_lobe\": 31,\n",
    "                      \"right_lung_lower_lobe\": 32\n",
    "                      },\n",
    "            \"Spine\": {\n",
    "                    # \"vertebrae_L6\": 131,\n",
    "                    \"vertebrae_L5\": 33,\n",
    "                    \"vertebrae_L4\": 34,\n",
    "                    \"vertebrae_L3\": 35,\n",
    "                    \"vertebrae_L2\": 36,\n",
    "                    \"vertebrae_L1\": 37,\n",
    "                    \"vertebrae_T12\": 38,\n",
    "                    \"vertebrae_T11\": 39,\n",
    "                    \"vertebrae_T10\": 40,\n",
    "                    \"vertebrae_T9\": 41,\n",
    "                    \"vertebrae_T8\": 42,\n",
    "                    \"vertebrae_T7\": 43,\n",
    "                    \"vertebrae_T6\": 44,\n",
    "                    \"vertebrae_T5\": 45,\n",
    "                    \"vertebrae_T4\": 46,\n",
    "                    \"vertebrae_T3\": 47,\n",
    "                    \"vertebrae_T2\": 48,\n",
    "                    \"vertebrae_T1\": 49,\n",
    "                    \"vertebrae_C7\": 50,\n",
    "                    \"vertebrae_C6\": 51,\n",
    "                    \"vertebrae_C5\": 52,\n",
    "                    \"vertebrae_C4\": 53,\n",
    "                    \"vertebrae_C3\": 54,\n",
    "                    \"vertebrae_C2\": 55,\n",
    "                    \"vertebrae_C1\": 56,\n",
    "                    \"sacrum\": 97,\n",
    "                    \"vertebrae_S1\": 127,\n",
    "                    },\n",
    "            \"Ribs\": {\n",
    "                    \"left_rib_1\": 63,\n",
    "                    \"left_rib_2\": 64,\n",
    "                    \"left_rib_3\": 65,\n",
    "                    \"left_rib_4\": 66,\n",
    "                    \"left_rib_5\": 67,\n",
    "                    \"left_rib_6\": 68,\n",
    "                    \"left_rib_7\": 69,\n",
    "                    \"left_rib_8\": 70,\n",
    "                    \"left_rib_9\": 71,\n",
    "                    \"left_rib_10\": 72,\n",
    "                    \"left_rib_11\": 73,\n",
    "                    \"left_rib_12\": 74,\n",
    "                    \"right_rib_1\": 75,\n",
    "                    \"right_rib_2\": 76,\n",
    "                    \"right_rib_3\": 77,\n",
    "                    \"right_rib_4\": 78,\n",
    "                    \"right_rib_5\": 79,\n",
    "                    \"right_rib_6\": 80,\n",
    "                    \"right_rib_7\": 81,\n",
    "                    \"right_rib_8\": 82,\n",
    "                    \"right_rib_9\": 83,\n",
    "                    \"right_rib_10\": 84,\n",
    "                    \"right_rib_11\": 85,\n",
    "                    \"right_rib_12\": 86,\n",
    "                    \"costal_cartilages\": 114,\n",
    "                    \"sternum\": 122,\n",
    "                    },\n",
    "            \"Shoulders\": {\n",
    "                        \"left_scapula\": 89,\n",
    "                        \"right_scapula\": 90,\n",
    "                        \"left_clavicula\": 91,\n",
    "                        \"right_clavicula\": 92\n",
    "            },\n",
    "            \"Hips\": {\n",
    "                    \"left_hip\": 95,\n",
    "                    \"right_hip\": 96\n",
    "                    },\n",
    "            \"Back_muscles\": {\n",
    "                            \"left_gluteus_maximus\": 98,\n",
    "                            \"right_gluteus_maximus\": 99,\n",
    "                            \"left_gluteus_medius\": 100,\n",
    "                            \"right_gluteus_medius\": 101,\n",
    "                            \"left_gluteus_minimus\": 102,\n",
    "                            \"right_gluteus_minimus\": 103,\n",
    "                            \"left_autochthon\": 104,\n",
    "                            \"right_autochthon\": 105,\n",
    "                            \"left_iliopsoas\": 106,\n",
    "                            \"right_iliopsoas\": 107\n",
    "                            }\n",
    "}\n",
    "\n",
    "def nii_to_obj(input_nii_path, output_nii_path, output_obj_path):\n",
    "    if not os.path.exists(output_nii_path):\n",
    "        os.makedirs(output_nii_path)\n",
    "    pre_trans = Compose([\n",
    "        LoadImaged(keys=\"label\", ensure_channel_first=True),\n",
    "        BorderPadd(keys=\"label\", spatial_border=2),\n",
    "        SqueezeDimd(keys=\"label\", dim=0),\n",
    "    ])\n",
    "    orig_seg = pre_trans({\"label\": input_nii_path})[\"label\"]\n",
    "    all_organ = np.zeros_like(orig_seg, dtype=np.uint8)\n",
    "    \n",
    "    save_trans = SaveImage(output_ext=\"nii.gz\", output_dtype=np.uint8)\n",
    "#     save_trans.set_options(write_kwargs = {\"compression\":True})\n",
    "    for j, (organ_name, label_val) in enumerate(labels.items(), start=1):\n",
    "        single_organ = np.zeros_like(orig_seg, dtype=np.uint8)\n",
    "        print(f\"Assigning index {j} to label {organ_name}\")\n",
    "        if isinstance(label_val, dict):\n",
    "            for _, i in label_val.items():\n",
    "                all_organ[orig_seg == i] = j\n",
    "                single_organ[orig_seg == i] = j\n",
    "        else:\n",
    "            all_organ[orig_seg == label_val] = j\n",
    "            single_organ[orig_seg == label_val] = j\n",
    "        organ_filename = os.path.join(output_nii_path, organ_name)\n",
    "        save_trans(single_organ[None], meta_data=orig_seg.meta, filename=organ_filename)\n",
    "\n",
    "        convert_to_mesh(f\"{organ_filename}.nii.gz\", output_obj_path, f\"{organ_name}.obj\", label_value=j, smoothing_factor=0.5, reduction_ratio=0.9)\n",
    "\n",
    "    all_organ_filename = os.path.join(output_nii_path, \"all_organs\")\n",
    "    # save_trans(all_organ[None], meta_data=orig_seg.meta, filename=all_organ_filename)\n",
    "    convert_to_mesh(f\"{all_organ_filename}.nii.gz\", output_obj_path, \"all_organs.obj\", label_value=list(range(1, 18)), smoothing_factor=0.5, reduction_ratio=0.9)\n",
    "    print(f\"Saved whole segmentation {all_organ_filename}\")\n",
    "\n",
    "input_nii_path = \"/workspace/Data/maisi_ct_generative/datasets/IntegrationTest-AbdomenCT.nii.gz\"\n",
    "output_nii_path = \"/workspace/Data/maisi_ct_generative/datasets/monai/nii\"\n",
    "output_obj_path = \"/workspace/Data/maisi_ct_generative/datasets/monai/obj\"\n",
    "out = nii_to_obj(input_nii_path, output_nii_path, output_obj_path)"
   ]
  },
  {
   "cell_type": "markdown",
   "metadata": {},
   "source": [
    "## Visualize one single organ mesh"
   ]
  },
  {
   "cell_type": "code",
   "execution_count": 1,
   "metadata": {},
   "outputs": [
    {
     "name": "stdout",
     "output_type": "stream",
     "text": [
      "Number of Points: 2874\n",
      "Number of Cells: 5744\n"
     ]
    },
    {
     "data": {
      "application/vnd.jupyter.widget-view+json": {
       "model_id": "08f1b7bc5a8a4acf8bb97bff086ed5d9",
       "version_major": 2,
       "version_minor": 0
      },
      "text/plain": [
       "ViewInteractiveWidget(height=600, layout=Layout(height='auto', width='100%'), width=800)"
      ]
     },
     "metadata": {},
     "output_type": "display_data"
    }
   ],
   "source": [
    "from vtkmodules.vtkRenderingCore import vtkRenderWindow, vtkRenderer, vtkRenderWindowInteractor\n",
    "import vtkmodules\n",
    "from ipyvtklink.viewer import ViewInteractiveWidget\n",
    "import vtk\n",
    "\n",
    "# Step 1: Read the mesh\n",
    "reader = vtk.vtkOBJReader()\n",
    "reader.SetFileName(\"/workspace/Data/maisi_ct_generative/datasets/monai/obj/Heart.obj\")  # Provide the path to your STL file\n",
    "reader.Update()\n",
    "\n",
    "# Step 2: Create a mapper\n",
    "mapper = vtkmodules.vtkRenderingCore.vtkPolyDataMapper()\n",
    "mapper.SetInputConnection(reader.GetOutputPort())\n",
    "\n",
    "print(f\"Number of Points: {mapper.GetInput().GetNumberOfPoints()}\")\n",
    "print(f\"Number of Cells: {mapper.GetInput().GetNumberOfCells()}\")\n",
    "# Step 3: Create an actor\n",
    "actor = vtkmodules.vtkRenderingCore.vtkActor()\n",
    "actor.SetMapper(mapper)\n",
    "\n",
    "# Step 4: Set up the renderer\n",
    "renderer = vtkRenderer()\n",
    "renderer.AddActor(actor)\n",
    "renderer.SetBackground(0.1, 0.2, 0.4)  # Background color\n",
    "renderer.ResetCamera()\n",
    "\n",
    "# Step 5: Set up the render window\n",
    "render_window = vtkRenderWindow()\n",
    "render_window.AddRenderer(renderer)\n",
    "render_window.Render()\n",
    "render_window.SetSize(800, 600)\n",
    "\n",
    "# Step 6: Use ipyvtklink for notebook rendering\n",
    "widget = ViewInteractiveWidget(render_window)\n",
    "widget\n"
   ]
  },
  {
   "cell_type": "markdown",
   "metadata": {},
   "source": [
    "![Liver](Liver.png)"
   ]
  },
  {
   "cell_type": "markdown",
   "metadata": {},
   "source": [
    "## Convert OBJ to USD"
   ]
  },
  {
   "cell_type": "code",
   "execution_count": 1,
   "metadata": {},
   "outputs": [
    {
     "name": "stdout",
     "output_type": "stream",
     "text": [
      "USD file successfully exported to /workspace/Data/maisi_ct_generative/datasets/monai/obj/all_organs.usd\n"
     ]
    }
   ],
   "source": [
    "from utility import convert_obj_to_usd\n",
    "obj_filename = \"/workspace/Data/maisi_ct_generative/datasets/monai/obj/all_organs.obj\"\n",
    "usd_filename = \"/workspace/Data/maisi_ct_generative/datasets/monai/obj/all_organs.usd\"\n",
    "\n",
    "convert_obj_to_usd(obj_filename, usd_filename)"
   ]
  }
 ],
 "metadata": {
  "kernelspec": {
   "display_name": "Python 3",
   "language": "python",
   "name": "python3"
  },
  "language_info": {
   "codemirror_mode": {
    "name": "ipython",
    "version": 3
   },
   "file_extension": ".py",
   "mimetype": "text/x-python",
   "name": "python",
   "nbconvert_exporter": "python",
   "pygments_lexer": "ipython3",
   "version": "3.10.12"
  }
 },
 "nbformat": 4,
 "nbformat_minor": 2
}
