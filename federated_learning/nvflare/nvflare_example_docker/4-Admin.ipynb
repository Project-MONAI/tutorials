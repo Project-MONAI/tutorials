{
 "cells": [
  {
   "cell_type": "markdown",
   "metadata": {
    "pycharm": {
     "metadata": false
    }
   },
   "source": [
    "# Admin Startup\n",
    "\n",
    "The purpose of this notebook is to show how to start an admin client to operate an FL experiment with a server and at least one client started."
   ]
  },
  {
   "cell_type": "markdown",
   "metadata": {
    "pycharm": {
     "metadata": false
    }
   },
   "source": [
    "## Prerequisites\n",
    "- The [Startup notebook](Startup.ipynb) has been run successfully.\n",
    "- A server and at least one client has been started."
   ]
  },
  {
   "cell_type": "markdown",
   "metadata": {},
   "source": [
    "### Check the Config Folder\n",
    "\n",
    "The config folder should be in the `transfer/` directory:"
   ]
  },
  {
   "cell_type": "code",
   "execution_count": 1,
   "metadata": {},
   "outputs": [],
   "source": [
    "import os\n",
    "from IPython.display import HTML"
   ]
  },
  {
   "cell_type": "code",
   "execution_count": 2,
   "metadata": {},
   "outputs": [
    {
     "data": {
      "text/plain": [
       "['spleen_example']"
      ]
     },
     "execution_count": 2,
     "metadata": {},
     "output_type": "execute_result"
    }
   ],
   "source": [
    "workspace = 'demo_workspace/'\n",
    "transfer_path = os.path.join(workspace, 'admin@nvidia.com', 'transfer')\n",
    "os.listdir(transfer_path)"
   ]
  },
  {
   "cell_type": "markdown",
   "metadata": {},
   "source": [
    "### Build Admin Environment and Start"
   ]
  },
  {
   "cell_type": "markdown",
   "metadata": {},
   "source": [
    "In the admin folder, there is a `.whl` file which contains all the required libraries for the admin client:"
   ]
  },
  {
   "cell_type": "code",
   "execution_count": 3,
   "metadata": {},
   "outputs": [
    {
     "name": "stdout",
     "output_type": "stream",
     "text": [
      "startup_path:  demo_workspace/admin@nvidia.com/startup\n"
     ]
    },
    {
     "data": {
      "text/plain": [
       "['fl_admin.sh',\n",
       " 'client.crt',\n",
       " 'client.key',\n",
       " 'readme.txt',\n",
       " 'docker.sh',\n",
       " 'clara_hci-4.0.0-py3-none-any.whl',\n",
       " 'signature.pkl',\n",
       " 'rootCA.pem']"
      ]
     },
     "execution_count": 3,
     "metadata": {},
     "output_type": "execute_result"
    }
   ],
   "source": [
    "startup_path = os.path.join(workspace, 'admin@nvidia.com', 'startup')\n",
    "print(\"startup_path: \", startup_path)\n",
    "os.listdir(startup_path)"
   ]
  },
  {
   "cell_type": "markdown",
   "metadata": {},
   "source": [
    "To build the environment, you should:\n",
    "- open a new terminal.\n",
    "- create and then enter a new python virtual environment.\n",
    "- install the `.whl` file.\n",
    "\n",
    "To start the admin, you should:\n",
    "- run `fl_admin.sh`.\n",
    "- type the admin name for authentication."
   ]
  },
  {
   "cell_type": "code",
   "execution_count": 4,
   "metadata": {},
   "outputs": [
    {
     "data": {
      "text/html": [
       "<a href=\"\", data-commandlinker-command=\"terminal:create-new\"> Open a new terminal</a>"
      ],
      "text/plain": [
       "<IPython.core.display.HTML object>"
      ]
     },
     "execution_count": 4,
     "metadata": {},
     "output_type": "execute_result"
    }
   ],
   "source": [
    "HTML('<a href=\"\", data-commandlinker-command=\"terminal:create-new\"> Open a new terminal</a>')"
   ]
  },
  {
   "cell_type": "markdown",
   "metadata": {},
   "source": [
    "You can accomplish these steps by running:\n",
    "\n",
    "```\n",
    "python3 -m venv venv/fl-admin\n",
    "source venv/fl-admin/bin/activate\n",
    "cd demo_workspace/admin@nvidia.com/startup/\n",
    "pip install --upgrade pip\n",
    "python3 -m pip install *.whl\n",
    "\n",
    "bash fl_admin.sh\n",
    "admin@nvidia.com\n",
    "```"
   ]
  },
  {
   "cell_type": "markdown",
   "metadata": {},
   "source": [
    "### Prepare for the experiment\n",
    "\n",
    "You need to execute the following steps to prepare for the experiment:\n",
    "\n",
    "- upload pipeline config folder\n",
    "- set FL training number\n",
    "- deploy the folder to client(s) and server\n",
    "\n",
    "The commands can be:\n",
    "```\n",
    "upload_folder spleen_example\n",
    "set_run_number 1\n",
    "deploy spleen_example server\n",
    "deploy spleen_example client\n",
    "```\n",
    "\n",
    "Now, let's check if the folder has been distributed into the server and all client(s):"
   ]
  },
  {
   "cell_type": "code",
   "execution_count": 5,
   "metadata": {},
   "outputs": [
    {
     "name": "stdout",
     "output_type": "stream",
     "text": [
      "config files on server: ['mmar_server', 'mmar_org1-a', 'mmar_org1-b']\n",
      " \n",
      "config files on org1-a: ['mmar_org1-a']\n",
      " \n",
      "config files on org1-b: ['mmar_org1-b']\n",
      " \n"
     ]
    }
   ],
   "source": [
    "run_file = 'run_1'\n",
    "\n",
    "for name in ['server', 'org1-a', 'org1-b']:\n",
    "    path = os.path.join(workspace, name, run_file)\n",
    "    if os.path.exists(path):\n",
    "        print(\"config files on {}: {}\".\n",
    "              format(name, os.listdir(path)))\n",
    "        print(\" \")"
   ]
  },
  {
   "cell_type": "markdown",
   "metadata": {},
   "source": [
    "This example prepares two different data list files: `dataset_part1.json` and `dataset_part2.json`, and they have the same validation set and totally different training set. The default file used in `spleen_example/config_train.json` is `dataset_part1.json`. Therefore, if you want to let two clients train on different data, you can switch to use `dataset_part2.json` for `org1-b`.\n",
    "\n",
    "[Link to org1-a config](demo_workspace/org1-a/run_1/mmar_org1-a/config/config_train.json)\n",
    "\n",
    "[Link to org1-b config](demo_workspace/org1-b/run_1/mmar_org1-b/config/config_train.json)"
   ]
  },
  {
   "cell_type": "markdown",
   "metadata": {},
   "source": [
    "### Start Training"
   ]
  },
  {
   "cell_type": "markdown",
   "metadata": {},
   "source": [
    "Now, you can start training with:\n",
    "```\n",
    "start server\n",
    "start client\n",
    "```\n",
    "You can check the status by running:\n",
    "```\n",
    "check_status server\n",
    "check_status client\n",
    "```"
   ]
  },
  {
   "cell_type": "markdown",
   "metadata": {},
   "source": [
    "### Stop Training\n",
    "\n",
    "You can stop training for the server and/or client(s) by running:\n",
    "```\n",
    "abort client\n",
    "abort server\n",
    "```\n",
    "If you only want to stop org1-b, you can use:\n",
    "```\n",
    "abort client org1-b\n",
    "```"
   ]
  },
  {
   "cell_type": "markdown",
   "metadata": {},
   "source": [
    "### Start Training (multi-gpus)\n",
    "\n",
    "If you would like to use multiple gpus, you can start training with n gpus (where n is the number of gpus) by running:\n",
    "```\n",
    "start_mgpu client n\n",
    "```\n",
    "\n",
    "The default `multi_gpu` flag is `False` in `spleen_example/config/config_train.json`, if you need to use multiple gpus, you have to change it before the `Startup` step."
   ]
  },
  {
   "cell_type": "markdown",
   "metadata": {},
   "source": [
    "### Shutdown\n",
    "\n",
    "You can shutdown the experiment for the server and/or client(s) by running:\n",
    "\n",
    "`shutdown client` and/or `shutdown server`\n",
    "\n",
    "If you only want to shutdown a specific client, you can specify the client in the command like follows:\n",
    "```\n",
    "shutdown client fl_clients_2\n",
    "```\n",
    "This command will kill the client/server connection, and this command will need input of the admin name for confirmation. If you need to shutdown the server, all active clients need to be shutdown first.\n",
    "\n",
    "After the shutdown commands, you are safe to shutdown `Startup.ipynb` to stop all containers."
   ]
  },
  {
   "cell_type": "markdown",
   "metadata": {},
   "source": [
    "### Other Commands\n",
    "\n",
    "Please type `?` to learn more about all commands."
   ]
  },
  {
   "cell_type": "markdown",
   "metadata": {},
   "source": [
    "### Next Steps\n",
    "\n",
    "You have now started the admin client and learnt the commands to control your FL experiment. You're now ready to create your own FL experiment!"
   ]
  }
 ],
 "metadata": {
  "kernelspec": {
   "display_name": "Python 3",
   "language": "python",
   "name": "python3"
  },
  "language_info": {
   "codemirror_mode": {
    "name": "ipython",
    "version": 3
   },
   "file_extension": ".py",
   "mimetype": "text/x-python",
   "name": "python",
   "nbconvert_exporter": "python",
   "pygments_lexer": "ipython3",
   "version": "3.8.5"
  },
  "stem_cell": {
   "cell_type": "raw",
   "metadata": {
    "pycharm": {
     "metadata": false
    }
   },
   "source": ""
  }
 },
 "nbformat": 4,
 "nbformat_minor": 4
}
