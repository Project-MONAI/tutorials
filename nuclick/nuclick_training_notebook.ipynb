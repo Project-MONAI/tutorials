{
 "cells": [
  {
   "cell_type": "markdown",
   "metadata": {},
   "source": [
    "# NuClick:Interactive Annotation for Pathology\n",
    "\n",
    "This tutorial uses a deep learning framework for interactive segmentation for microscopic images, the framework is referred to as NuClick [1]\n",
    "\n",
    "References:\n",
    "\n",
    "[1] Koohbanani, Navid Alemi, et al. \"NuClick: a deep learning framework for interactive segmentation of microscopic images.\" Medical Image Analysis 65 (2020): 101771."
   ]
  },
  {
   "cell_type": "code",
   "execution_count": 3,
   "metadata": {},
   "outputs": [],
   "source": [
    "!python -c \"import matplotlib\" || pip install -q matplotlib\n",
    "!python -c \"import tqdm\" || pip install -q tqdm\n",
    "%matplotlib inline"
   ]
  },
  {
   "cell_type": "code",
   "execution_count": 4,
   "metadata": {},
   "outputs": [],
   "source": [
    "import json\n",
    "import copy\n",
    "import math\n",
    "import os\n",
    "import numpy as np\n",
    "import cv2\n",
    "import torch\n",
    "from tqdm import tqdm\n",
    "\n",
    "from skimage.measure import regionprops\n",
    "from monai.engines import SupervisedTrainer, SupervisedEvaluator\n",
    "from monai.handlers import (\n",
    "    CheckpointSaver,\n",
    "    MeanDice,\n",
    "    StatsHandler,\n",
    "    TensorBoardImageHandler,\n",
    "    TensorBoardStatsHandler,\n",
    "    ValidationHandler,\n",
    "    from_engine\n",
    ")\n",
    "from monai.inferers import SimpleInferer\n",
    "from monai.losses import DiceLoss\n",
    "from monai.networks.nets import BasicUNet\n",
    "from monai.data import (\n",
    "    Dataset,\n",
    "    DataLoader,\n",
    ")\n",
    "from monai.transforms import (\n",
    "    Activationsd,\n",
    "    AddChanneld,\n",
    "    AsChannelFirstd,\n",
    "    AsDiscreted,\n",
    "    Compose,\n",
    "    EnsureTyped,\n",
    "    LoadImaged,\n",
    "    LoadImage,\n",
    "    RandRotate90d,\n",
    "    ScaleIntensityRangeD,\n",
    "    ToNumpyd,\n",
    "    TorchVisiond,\n",
    "    ToTensord,\n",
    ")\n",
    "\n",
    "from monai.apps.nuclick.transforms import (\n",
    "    FlattenLabeld,\n",
    "    ExtractPatchd,\n",
    "    SplitLabeld,\n",
    "    AddPointGuidanceSignald,\n",
    "    FilterImaged\n",
    ")"
   ]
  },
  {
   "cell_type": "markdown",
   "metadata": {},
   "source": [
    "## Configure Data Paths\n",
    "\n",
    "Specify the paths where the data will be saved after pre-processing by configuring the following variable:\n",
    "\n"
   ]
  },
  {
   "cell_type": "code",
   "execution_count": 7,
   "metadata": {},
   "outputs": [],
   "source": [
    "#Add the code paths here\n",
    "img_data_path = os.path.normpath('/scratch/pan_nuke_data/fold_1/Fold_1/images/fold1/images.npy')\n",
    "label_data_path = os.path.normpath('/scratch/pan_nuke_data/fold_1/Fold_1/masks/fold1/masks.npy')\n",
    "dataset_path = os.path.normpath('/home/vishwesh/nuclick_experiments/try_1/data')\n",
    "json_path = os.path.normpath('/home/vishwesh/nuclick_experiments/try_1/data_list.json')\n",
    "logging_dir = os.path.normpath('/home/vishwesh/nuclick_experiments/try_6/')"
   ]
  },
  {
   "cell_type": "markdown",
   "metadata": {},
   "source": [
    "## Describe what the pre-processing utility functions are"
   ]
  },
  {
   "cell_type": "code",
   "execution_count": 8,
   "metadata": {},
   "outputs": [],
   "source": [
    "# Data Pre-processing Utility Functions\n",
    "def split_pannuke_dataset(image, label, output_dir, groups):\n",
    "    groups = groups if groups else dict()\n",
    "    groups = [groups] if isinstance(groups, str) else groups\n",
    "    if not isinstance(groups, dict):\n",
    "        groups = {v: k + 1 for k, v in enumerate(groups)}\n",
    "\n",
    "    label_channels = {\n",
    "        0: \"Neoplastic cells\",\n",
    "        1: \"Inflammatory\",\n",
    "        2: \"Connective/Soft tissue cells\",\n",
    "        3: \"Dead Cells\",\n",
    "        4: \"Epithelial\",\n",
    "    }\n",
    "\n",
    "    print(f\"++ Using Groups: {groups}\")\n",
    "    print(f\"++ Using Label Channels: {label_channels}\")\n",
    "\n",
    "    images = np.load(image)\n",
    "    labels = np.load(label)\n",
    "    print(f\"Image Shape: {images.shape}\")\n",
    "    print(f\"Labels Shape: {labels.shape}\")\n",
    "\n",
    "    images_dir = output_dir\n",
    "    labels_dir = os.path.join(output_dir, \"labels\", \"final\")\n",
    "    os.makedirs(images_dir, exist_ok=True)\n",
    "    os.makedirs(labels_dir, exist_ok=True)\n",
    "\n",
    "    dataset_json = []\n",
    "    for i in tqdm(range(images.shape[0])):\n",
    "        name = f\"img_{str(i).zfill(4)}.npy\"\n",
    "        image_file = os.path.join(images_dir, name)\n",
    "        label_file = os.path.join(labels_dir, name)\n",
    "\n",
    "        image_np = images[i]\n",
    "        mask = labels[i]\n",
    "        label_np = np.zeros(shape=mask.shape[:2])\n",
    "\n",
    "        for idx, name in label_channels.items():\n",
    "            if idx < mask.shape[2]:\n",
    "                m = mask[:, :, idx]\n",
    "                if np.count_nonzero(m):\n",
    "                    m[m > 0] = groups.get(name, 1)\n",
    "                    label_np = np.where(m > 0, m, label_np)\n",
    "\n",
    "        np.save(image_file, image_np)\n",
    "        np.save(label_file, label_np)\n",
    "        dataset_json.append({\"image\": image_file, \"label\": label_file})\n",
    "\n",
    "    return dataset_json\n",
    "\n",
    "def split_nuclei_dataset(d, centroid_key=\"centroid\", mask_value_key=\"mask_value\", min_area=5):\n",
    "    dataset_json = []\n",
    "\n",
    "    mask = LoadImage(image_only=True, dtype=np.uint8)(d[\"label\"])\n",
    "    _, labels, _, _ = cv2.connectedComponentsWithStats(mask, 4, cv2.CV_32S)\n",
    "\n",
    "    stats = regionprops(labels)\n",
    "    for stat in stats:\n",
    "        if stat.area < min_area:\n",
    "            print(f\"++++ Ignored label with smaller area => ( {stat.area} < {min_area})\")\n",
    "            continue\n",
    "\n",
    "        x, y = stat.centroid\n",
    "        x = int(math.floor(x))\n",
    "        y = int(math.floor(y))\n",
    "\n",
    "        item = copy.deepcopy(d)\n",
    "        item[centroid_key] = (x, y)\n",
    "        item[mask_value_key] = stat.label\n",
    "\n",
    "        dataset_json.append(item)\n",
    "    return dataset_json"
   ]
  },
  {
   "cell_type": "markdown",
   "metadata": {},
   "source": [
    "## Create Json, form training and validation split"
   ]
  },
  {
   "cell_type": "code",
   "execution_count": 9,
   "metadata": {},
   "outputs": [
    {
     "name": "stderr",
     "output_type": "stream",
     "text": [
      "  2%|▋                                       | 48/2656 [00:00<00:11, 234.80it/s]"
     ]
    },
    {
     "name": "stdout",
     "output_type": "stream",
     "text": [
      "++++ Ignored label with smaller area => ( 4 < 5)\n",
      "++++ Ignored label with smaller area => ( 4 < 5)\n",
      "++++ Ignored label with smaller area => ( 4 < 5)\n",
      "++++ Ignored label with smaller area => ( 1 < 5)\n",
      "++++ Ignored label with smaller area => ( 1 < 5)\n",
      "++++ Ignored label with smaller area => ( 4 < 5)\n"
     ]
    },
    {
     "name": "stderr",
     "output_type": "stream",
     "text": [
      "  4%|█▍                                      | 97/2656 [00:00<00:10, 237.23it/s]"
     ]
    },
    {
     "name": "stdout",
     "output_type": "stream",
     "text": [
      "++++ Ignored label with smaller area => ( 1 < 5)\n",
      "++++ Ignored label with smaller area => ( 1 < 5)\n",
      "++++ Ignored label with smaller area => ( 2 < 5)\n"
     ]
    },
    {
     "name": "stderr",
     "output_type": "stream",
     "text": [
      "  5%|██                                     | 143/2656 [00:00<00:12, 200.58it/s]"
     ]
    },
    {
     "name": "stdout",
     "output_type": "stream",
     "text": [
      "++++ Ignored label with smaller area => ( 2 < 5)\n",
      "++++ Ignored label with smaller area => ( 4 < 5)\n",
      "++++ Ignored label with smaller area => ( 3 < 5)\n",
      "++++ Ignored label with smaller area => ( 3 < 5)\n",
      "++++ Ignored label with smaller area => ( 4 < 5)\n"
     ]
    },
    {
     "name": "stderr",
     "output_type": "stream",
     "text": [
      "  8%|███                                    | 209/2656 [00:00<00:11, 210.71it/s]"
     ]
    },
    {
     "name": "stdout",
     "output_type": "stream",
     "text": [
      "++++ Ignored label with smaller area => ( 1 < 5)\n",
      "++++ Ignored label with smaller area => ( 1 < 5)\n",
      "++++ Ignored label with smaller area => ( 4 < 5)\n",
      "++++ Ignored label with smaller area => ( 4 < 5)\n",
      "++++ Ignored label with smaller area => ( 4 < 5)\n"
     ]
    },
    {
     "name": "stderr",
     "output_type": "stream",
     "text": [
      " 10%|███▋                                   | 253/2656 [00:01<00:11, 204.10it/s]"
     ]
    },
    {
     "name": "stdout",
     "output_type": "stream",
     "text": [
      "++++ Ignored label with smaller area => ( 4 < 5)\n",
      "++++ Ignored label with smaller area => ( 4 < 5)\n",
      "++++ Ignored label with smaller area => ( 4 < 5)\n",
      "++++ Ignored label with smaller area => ( 1 < 5)\n",
      "++++ Ignored label with smaller area => ( 4 < 5)\n",
      "++++ Ignored label with smaller area => ( 2 < 5)\n",
      "++++ Ignored label with smaller area => ( 4 < 5)\n",
      "++++ Ignored label with smaller area => ( 1 < 5)\n",
      "++++ Ignored label with smaller area => ( 4 < 5)\n",
      "++++ Ignored label with smaller area => ( 1 < 5)\n"
     ]
    },
    {
     "name": "stderr",
     "output_type": "stream",
     "text": [
      " 11%|████▎                                  | 295/2656 [00:01<00:11, 202.66it/s]"
     ]
    },
    {
     "name": "stdout",
     "output_type": "stream",
     "text": [
      "++++ Ignored label with smaller area => ( 4 < 5)\n",
      "++++ Ignored label with smaller area => ( 3 < 5)\n",
      "++++ Ignored label with smaller area => ( 1 < 5)\n",
      "++++ Ignored label with smaller area => ( 1 < 5)\n",
      "++++ Ignored label with smaller area => ( 4 < 5)\n"
     ]
    },
    {
     "name": "stderr",
     "output_type": "stream",
     "text": [
      " 13%|█████                                  | 341/2656 [00:01<00:10, 212.23it/s]"
     ]
    },
    {
     "name": "stdout",
     "output_type": "stream",
     "text": [
      "++++ Ignored label with smaller area => ( 1 < 5)\n",
      "++++ Ignored label with smaller area => ( 3 < 5)\n",
      "++++ Ignored label with smaller area => ( 4 < 5)\n",
      "++++ Ignored label with smaller area => ( 4 < 5)\n",
      "++++ Ignored label with smaller area => ( 1 < 5)\n"
     ]
    },
    {
     "name": "stderr",
     "output_type": "stream",
     "text": [
      " 15%|█████▋                                 | 390/2656 [00:01<00:09, 226.66it/s]"
     ]
    },
    {
     "name": "stdout",
     "output_type": "stream",
     "text": [
      "++++ Ignored label with smaller area => ( 1 < 5)\n",
      "++++ Ignored label with smaller area => ( 2 < 5)\n",
      "++++ Ignored label with smaller area => ( 4 < 5)\n"
     ]
    },
    {
     "name": "stderr",
     "output_type": "stream",
     "text": [
      " 18%|██████▊                                | 465/2656 [00:02<00:09, 234.42it/s]"
     ]
    },
    {
     "name": "stdout",
     "output_type": "stream",
     "text": [
      "++++ Ignored label with smaller area => ( 2 < 5)\n",
      "++++ Ignored label with smaller area => ( 4 < 5)\n",
      "++++ Ignored label with smaller area => ( 4 < 5)\n",
      "++++ Ignored label with smaller area => ( 4 < 5)\n"
     ]
    },
    {
     "name": "stderr",
     "output_type": "stream",
     "text": [
      " 19%|███████▌                               | 516/2656 [00:02<00:08, 240.09it/s]"
     ]
    },
    {
     "name": "stdout",
     "output_type": "stream",
     "text": [
      "++++ Ignored label with smaller area => ( 4 < 5)\n",
      "++++ Ignored label with smaller area => ( 3 < 5)\n",
      "++++ Ignored label with smaller area => ( 4 < 5)\n",
      "++++ Ignored label with smaller area => ( 1 < 5)\n",
      "++++ Ignored label with smaller area => ( 1 < 5)\n",
      "++++ Ignored label with smaller area => ( 4 < 5)\n",
      "++++ Ignored label with smaller area => ( 4 < 5)\n",
      "++++ Ignored label with smaller area => ( 1 < 5)\n"
     ]
    },
    {
     "name": "stderr",
     "output_type": "stream",
     "text": [
      " 21%|████████▎                              | 565/2656 [00:02<00:09, 217.24it/s]"
     ]
    },
    {
     "name": "stdout",
     "output_type": "stream",
     "text": [
      "++++ Ignored label with smaller area => ( 3 < 5)\n",
      "++++ Ignored label with smaller area => ( 4 < 5)\n",
      "++++ Ignored label with smaller area => ( 1 < 5)\n",
      "++++ Ignored label with smaller area => ( 4 < 5)\n"
     ]
    },
    {
     "name": "stderr",
     "output_type": "stream",
     "text": [
      " 24%|█████████▍                             | 640/2656 [00:02<00:08, 230.84it/s]"
     ]
    },
    {
     "name": "stdout",
     "output_type": "stream",
     "text": [
      "++++ Ignored label with smaller area => ( 3 < 5)\n",
      "++++ Ignored label with smaller area => ( 1 < 5)\n",
      "++++ Ignored label with smaller area => ( 1 < 5)\n",
      "++++ Ignored label with smaller area => ( 1 < 5)\n"
     ]
    },
    {
     "name": "stderr",
     "output_type": "stream",
     "text": [
      " 27%|██████████▍                            | 715/2656 [00:03<00:08, 236.18it/s]"
     ]
    },
    {
     "name": "stdout",
     "output_type": "stream",
     "text": [
      "++++ Ignored label with smaller area => ( 1 < 5)\n",
      "++++ Ignored label with smaller area => ( 4 < 5)\n",
      "++++ Ignored label with smaller area => ( 4 < 5)\n",
      "++++ Ignored label with smaller area => ( 4 < 5)\n",
      "++++ Ignored label with smaller area => ( 1 < 5)\n",
      "++++ Ignored label with smaller area => ( 4 < 5)\n",
      "++++ Ignored label with smaller area => ( 4 < 5)\n"
     ]
    },
    {
     "name": "stderr",
     "output_type": "stream",
     "text": [
      " 29%|███████████▏                           | 765/2656 [00:03<00:07, 238.98it/s]"
     ]
    },
    {
     "name": "stdout",
     "output_type": "stream",
     "text": [
      "++++ Ignored label with smaller area => ( 4 < 5)\n",
      "++++ Ignored label with smaller area => ( 4 < 5)\n",
      "++++ Ignored label with smaller area => ( 4 < 5)\n",
      "++++ Ignored label with smaller area => ( 4 < 5)\n",
      "++++ Ignored label with smaller area => ( 4 < 5)\n",
      "++++ Ignored label with smaller area => ( 4 < 5)\n",
      "++++ Ignored label with smaller area => ( 3 < 5)\n"
     ]
    },
    {
     "name": "stderr",
     "output_type": "stream",
     "text": [
      " 31%|███████████▉                           | 817/2656 [00:03<00:07, 247.43it/s]"
     ]
    },
    {
     "name": "stdout",
     "output_type": "stream",
     "text": [
      "++++ Ignored label with smaller area => ( 4 < 5)\n",
      "++++ Ignored label with smaller area => ( 2 < 5)\n",
      "++++ Ignored label with smaller area => ( 3 < 5)\n",
      "++++ Ignored label with smaller area => ( 2 < 5)\n",
      "++++ Ignored label with smaller area => ( 1 < 5)\n",
      "++++ Ignored label with smaller area => ( 2 < 5)\n"
     ]
    },
    {
     "name": "stderr",
     "output_type": "stream",
     "text": [
      " 32%|████████████▋                          | 863/2656 [00:04<00:11, 150.92it/s]"
     ]
    },
    {
     "name": "stdout",
     "output_type": "stream",
     "text": [
      "++++ Ignored label with smaller area => ( 2 < 5)\n",
      "++++ Ignored label with smaller area => ( 4 < 5)\n",
      "++++ Ignored label with smaller area => ( 3 < 5)\n",
      "++++ Ignored label with smaller area => ( 3 < 5)\n",
      "++++ Ignored label with smaller area => ( 4 < 5)\n",
      "++++ Ignored label with smaller area => ( 3 < 5)\n",
      "++++ Ignored label with smaller area => ( 4 < 5)\n",
      "++++ Ignored label with smaller area => ( 3 < 5)\n"
     ]
    },
    {
     "name": "stderr",
     "output_type": "stream",
     "text": [
      " 34%|█████████████▎                         | 905/2656 [00:04<00:10, 171.30it/s]"
     ]
    },
    {
     "name": "stdout",
     "output_type": "stream",
     "text": [
      "++++ Ignored label with smaller area => ( 2 < 5)\n",
      "++++ Ignored label with smaller area => ( 3 < 5)\n",
      "++++ Ignored label with smaller area => ( 4 < 5)\n",
      "++++ Ignored label with smaller area => ( 4 < 5)\n",
      "++++ Ignored label with smaller area => ( 2 < 5)\n",
      "++++ Ignored label with smaller area => ( 4 < 5)\n",
      "++++ Ignored label with smaller area => ( 2 < 5)\n"
     ]
    },
    {
     "name": "stderr",
     "output_type": "stream",
     "text": [
      " 36%|█████████████▉                         | 950/2656 [00:04<00:08, 194.55it/s]"
     ]
    },
    {
     "name": "stdout",
     "output_type": "stream",
     "text": [
      "++++ Ignored label with smaller area => ( 2 < 5)\n",
      "++++ Ignored label with smaller area => ( 4 < 5)\n",
      "++++ Ignored label with smaller area => ( 3 < 5)\n",
      "++++ Ignored label with smaller area => ( 2 < 5)\n",
      "++++ Ignored label with smaller area => ( 2 < 5)\n"
     ]
    },
    {
     "name": "stderr",
     "output_type": "stream",
     "text": [
      " 37%|██████████████▌                        | 992/2656 [00:04<00:09, 183.29it/s]"
     ]
    },
    {
     "name": "stdout",
     "output_type": "stream",
     "text": [
      "++++ Ignored label with smaller area => ( 2 < 5)\n",
      "++++ Ignored label with smaller area => ( 2 < 5)\n",
      "++++ Ignored label with smaller area => ( 2 < 5)\n",
      "++++ Ignored label with smaller area => ( 4 < 5)\n",
      "++++ Ignored label with smaller area => ( 2 < 5)\n",
      "++++ Ignored label with smaller area => ( 4 < 5)\n",
      "++++ Ignored label with smaller area => ( 2 < 5)\n",
      "++++ Ignored label with smaller area => ( 2 < 5)\n",
      "++++ Ignored label with smaller area => ( 4 < 5)\n",
      "++++ Ignored label with smaller area => ( 3 < 5)\n",
      "++++ Ignored label with smaller area => ( 1 < 5)\n",
      "++++ Ignored label with smaller area => ( 3 < 5)\n",
      "++++ Ignored label with smaller area => ( 2 < 5)\n",
      "++++ Ignored label with smaller area => ( 1 < 5)\n"
     ]
    },
    {
     "name": "stderr",
     "output_type": "stream",
     "text": [
      " 39%|██████████████▉                       | 1042/2656 [00:05<00:09, 170.43it/s]"
     ]
    },
    {
     "name": "stdout",
     "output_type": "stream",
     "text": [
      "++++ Ignored label with smaller area => ( 4 < 5)\n",
      "++++ Ignored label with smaller area => ( 4 < 5)\n",
      "++++ Ignored label with smaller area => ( 4 < 5)\n",
      "++++ Ignored label with smaller area => ( 4 < 5)\n",
      "++++ Ignored label with smaller area => ( 4 < 5)\n",
      "++++ Ignored label with smaller area => ( 2 < 5)\n",
      "++++ Ignored label with smaller area => ( 3 < 5)\n",
      "++++ Ignored label with smaller area => ( 1 < 5)\n",
      "++++ Ignored label with smaller area => ( 1 < 5)\n",
      "++++ Ignored label with smaller area => ( 2 < 5)\n",
      "++++ Ignored label with smaller area => ( 4 < 5)\n",
      "++++ Ignored label with smaller area => ( 3 < 5)\n"
     ]
    },
    {
     "name": "stderr",
     "output_type": "stream",
     "text": [
      "\r",
      " 40%|███████████████▏                      | 1061/2656 [00:05<00:11, 138.71it/s]"
     ]
    },
    {
     "name": "stdout",
     "output_type": "stream",
     "text": [
      "++++ Ignored label with smaller area => ( 2 < 5)\n",
      "++++ Ignored label with smaller area => ( 4 < 5)\n",
      "++++ Ignored label with smaller area => ( 3 < 5)\n",
      "++++ Ignored label with smaller area => ( 4 < 5)\n",
      "++++ Ignored label with smaller area => ( 3 < 5)\n",
      "++++ Ignored label with smaller area => ( 2 < 5)\n"
     ]
    },
    {
     "name": "stderr",
     "output_type": "stream",
     "text": [
      " 42%|████████████████                      | 1124/2656 [00:05<00:08, 171.27it/s]"
     ]
    },
    {
     "name": "stdout",
     "output_type": "stream",
     "text": [
      "++++ Ignored label with smaller area => ( 3 < 5)\n",
      "++++ Ignored label with smaller area => ( 2 < 5)\n",
      "++++ Ignored label with smaller area => ( 2 < 5)\n",
      "++++ Ignored label with smaller area => ( 2 < 5)\n",
      "++++ Ignored label with smaller area => ( 1 < 5)\n",
      "++++ Ignored label with smaller area => ( 1 < 5)\n",
      "++++ Ignored label with smaller area => ( 1 < 5)\n",
      "++++ Ignored label with smaller area => ( 2 < 5)\n"
     ]
    },
    {
     "name": "stderr",
     "output_type": "stream",
     "text": [
      " 44%|████████████████▊                     | 1179/2656 [00:05<00:06, 220.20it/s]"
     ]
    },
    {
     "name": "stdout",
     "output_type": "stream",
     "text": [
      "++++ Ignored label with smaller area => ( 3 < 5)\n",
      "++++ Ignored label with smaller area => ( 4 < 5)\n"
     ]
    },
    {
     "name": "stderr",
     "output_type": "stream",
     "text": [
      " 48%|██████████████████▎                   | 1281/2656 [00:06<00:05, 238.07it/s]"
     ]
    },
    {
     "name": "stdout",
     "output_type": "stream",
     "text": [
      "++++ Ignored label with smaller area => ( 4 < 5)\n",
      "++++ Ignored label with smaller area => ( 4 < 5)\n",
      "++++ Ignored label with smaller area => ( 1 < 5)\n",
      "++++ Ignored label with smaller area => ( 3 < 5)\n",
      "++++ Ignored label with smaller area => ( 2 < 5)\n"
     ]
    },
    {
     "name": "stderr",
     "output_type": "stream",
     "text": [
      " 50%|███████████████████                   | 1332/2656 [00:06<00:05, 238.42it/s]"
     ]
    },
    {
     "name": "stdout",
     "output_type": "stream",
     "text": [
      "++++ Ignored label with smaller area => ( 1 < 5)\n",
      "++++ Ignored label with smaller area => ( 2 < 5)\n",
      "++++ Ignored label with smaller area => ( 4 < 5)\n",
      "++++ Ignored label with smaller area => ( 4 < 5)\n",
      "++++ Ignored label with smaller area => ( 3 < 5)\n",
      "++++ Ignored label with smaller area => ( 1 < 5)\n",
      "++++ Ignored label with smaller area => ( 1 < 5)\n"
     ]
    },
    {
     "name": "stderr",
     "output_type": "stream",
     "text": [
      " 53%|████████████████████                  | 1405/2656 [00:06<00:05, 230.60it/s]"
     ]
    },
    {
     "name": "stdout",
     "output_type": "stream",
     "text": [
      "++++ Ignored label with smaller area => ( 1 < 5)\n",
      "++++ Ignored label with smaller area => ( 1 < 5)\n",
      "++++ Ignored label with smaller area => ( 3 < 5)\n",
      "++++ Ignored label with smaller area => ( 1 < 5)\n",
      "++++ Ignored label with smaller area => ( 2 < 5)\n",
      "++++ Ignored label with smaller area => ( 1 < 5)\n"
     ]
    },
    {
     "name": "stderr",
     "output_type": "stream",
     "text": [
      " 55%|████████████████████▊                 | 1452/2656 [00:07<00:05, 221.49it/s]"
     ]
    },
    {
     "name": "stdout",
     "output_type": "stream",
     "text": [
      "++++ Ignored label with smaller area => ( 3 < 5)\n",
      "++++ Ignored label with smaller area => ( 4 < 5)\n",
      "++++ Ignored label with smaller area => ( 2 < 5)\n",
      "++++ Ignored label with smaller area => ( 3 < 5)\n",
      "++++ Ignored label with smaller area => ( 3 < 5)\n",
      "++++ Ignored label with smaller area => ( 3 < 5)\n",
      "++++ Ignored label with smaller area => ( 4 < 5)\n",
      "++++ Ignored label with smaller area => ( 2 < 5)\n",
      "++++ Ignored label with smaller area => ( 1 < 5)\n"
     ]
    },
    {
     "name": "stderr",
     "output_type": "stream",
     "text": [
      "\r",
      " 56%|█████████████████████                 | 1475/2656 [00:07<00:05, 219.38it/s]"
     ]
    },
    {
     "name": "stdout",
     "output_type": "stream",
     "text": [
      "++++ Ignored label with smaller area => ( 3 < 5)\n",
      "++++ Ignored label with smaller area => ( 1 < 5)\n",
      "++++ Ignored label with smaller area => ( 3 < 5)\n",
      "++++ Ignored label with smaller area => ( 1 < 5)\n",
      "++++ Ignored label with smaller area => ( 4 < 5)\n",
      "++++ Ignored label with smaller area => ( 3 < 5)\n",
      "++++ Ignored label with smaller area => ( 4 < 5)\n",
      "++++ Ignored label with smaller area => ( 1 < 5)\n",
      "++++ Ignored label with smaller area => ( 4 < 5)\n"
     ]
    },
    {
     "name": "stderr",
     "output_type": "stream",
     "text": [
      " 57%|█████████████████████▋                | 1519/2656 [00:07<00:05, 205.73it/s]"
     ]
    },
    {
     "name": "stdout",
     "output_type": "stream",
     "text": [
      "++++ Ignored label with smaller area => ( 4 < 5)\n",
      "++++ Ignored label with smaller area => ( 1 < 5)\n",
      "++++ Ignored label with smaller area => ( 1 < 5)\n",
      "++++ Ignored label with smaller area => ( 2 < 5)\n",
      "++++ Ignored label with smaller area => ( 2 < 5)\n"
     ]
    },
    {
     "name": "stderr",
     "output_type": "stream",
     "text": [
      " 60%|██████████████████████▉               | 1599/2656 [00:07<00:04, 241.53it/s]"
     ]
    },
    {
     "name": "stdout",
     "output_type": "stream",
     "text": [
      "++++ Ignored label with smaller area => ( 2 < 5)\n",
      "++++ Ignored label with smaller area => ( 2 < 5)\n",
      "++++ Ignored label with smaller area => ( 1 < 5)\n",
      "++++ Ignored label with smaller area => ( 2 < 5)\n",
      "++++ Ignored label with smaller area => ( 4 < 5)\n",
      "++++ Ignored label with smaller area => ( 1 < 5)\n",
      "++++ Ignored label with smaller area => ( 3 < 5)\n",
      "++++ Ignored label with smaller area => ( 4 < 5)\n",
      "++++ Ignored label with smaller area => ( 4 < 5)\n"
     ]
    },
    {
     "name": "stderr",
     "output_type": "stream",
     "text": [
      " 63%|███████████████████████▉              | 1674/2656 [00:07<00:04, 238.18it/s]"
     ]
    },
    {
     "name": "stdout",
     "output_type": "stream",
     "text": [
      "++++ Ignored label with smaller area => ( 3 < 5)\n",
      "++++ Ignored label with smaller area => ( 3 < 5)\n",
      "++++ Ignored label with smaller area => ( 3 < 5)\n",
      "++++ Ignored label with smaller area => ( 4 < 5)\n"
     ]
    },
    {
     "name": "stderr",
     "output_type": "stream",
     "text": [
      " 65%|████████████████████████▋             | 1725/2656 [00:08<00:03, 240.37it/s]"
     ]
    },
    {
     "name": "stdout",
     "output_type": "stream",
     "text": [
      "++++ Ignored label with smaller area => ( 4 < 5)\n",
      "++++ Ignored label with smaller area => ( 2 < 5)\n",
      "++++ Ignored label with smaller area => ( 2 < 5)\n",
      "++++ Ignored label with smaller area => ( 2 < 5)\n",
      "++++ Ignored label with smaller area => ( 2 < 5)\n",
      "++++ Ignored label with smaller area => ( 3 < 5)\n",
      "++++ Ignored label with smaller area => ( 3 < 5)\n",
      "++++ Ignored label with smaller area => ( 2 < 5)\n",
      "++++ Ignored label with smaller area => ( 4 < 5)\n"
     ]
    },
    {
     "name": "stderr",
     "output_type": "stream",
     "text": [
      " 67%|█████████████████████████▎            | 1773/2656 [00:08<00:04, 213.71it/s]"
     ]
    },
    {
     "name": "stdout",
     "output_type": "stream",
     "text": [
      "++++ Ignored label with smaller area => ( 1 < 5)\n",
      "++++ Ignored label with smaller area => ( 4 < 5)\n",
      "++++ Ignored label with smaller area => ( 4 < 5)\n"
     ]
    },
    {
     "name": "stderr",
     "output_type": "stream",
     "text": [
      " 68%|█████████████████████████▉            | 1817/2656 [00:08<00:04, 209.13it/s]"
     ]
    },
    {
     "name": "stdout",
     "output_type": "stream",
     "text": [
      "++++ Ignored label with smaller area => ( 3 < 5)\n",
      "++++ Ignored label with smaller area => ( 3 < 5)\n",
      "++++ Ignored label with smaller area => ( 1 < 5)\n",
      "++++ Ignored label with smaller area => ( 4 < 5)\n",
      "++++ Ignored label with smaller area => ( 4 < 5)\n",
      "++++ Ignored label with smaller area => ( 4 < 5)\n"
     ]
    },
    {
     "name": "stderr",
     "output_type": "stream",
     "text": [
      " 71%|███████████████████████████           | 1893/2656 [00:08<00:03, 240.70it/s]"
     ]
    },
    {
     "name": "stdout",
     "output_type": "stream",
     "text": [
      "++++ Ignored label with smaller area => ( 1 < 5)\n",
      "++++ Ignored label with smaller area => ( 4 < 5)\n",
      "++++ Ignored label with smaller area => ( 2 < 5)\n",
      "++++ Ignored label with smaller area => ( 1 < 5)\n",
      "++++ Ignored label with smaller area => ( 3 < 5)\n"
     ]
    },
    {
     "name": "stderr",
     "output_type": "stream",
     "text": [
      " 73%|███████████████████████████▊          | 1943/2656 [00:09<00:02, 244.61it/s]"
     ]
    },
    {
     "name": "stdout",
     "output_type": "stream",
     "text": [
      "++++ Ignored label with smaller area => ( 3 < 5)\n",
      "++++ Ignored label with smaller area => ( 4 < 5)\n",
      "++++ Ignored label with smaller area => ( 1 < 5)\n"
     ]
    },
    {
     "name": "stderr",
     "output_type": "stream",
     "text": [
      " 76%|████████████████████████████▉         | 2023/2656 [00:09<00:02, 258.15it/s]"
     ]
    },
    {
     "name": "stdout",
     "output_type": "stream",
     "text": [
      "++++ Ignored label with smaller area => ( 4 < 5)\n",
      "++++ Ignored label with smaller area => ( 1 < 5)\n",
      "++++ Ignored label with smaller area => ( 4 < 5)\n",
      "++++ Ignored label with smaller area => ( 1 < 5)\n",
      "++++ Ignored label with smaller area => ( 2 < 5)\n",
      "++++ Ignored label with smaller area => ( 4 < 5)\n",
      "++++ Ignored label with smaller area => ( 4 < 5)\n"
     ]
    },
    {
     "name": "stderr",
     "output_type": "stream",
     "text": [
      " 79%|██████████████████████████████        | 2100/2656 [00:09<00:02, 245.62it/s]"
     ]
    },
    {
     "name": "stdout",
     "output_type": "stream",
     "text": [
      "++++ Ignored label with smaller area => ( 2 < 5)\n",
      "++++ Ignored label with smaller area => ( 4 < 5)\n",
      "++++ Ignored label with smaller area => ( 4 < 5)\n",
      "++++ Ignored label with smaller area => ( 4 < 5)\n",
      "++++ Ignored label with smaller area => ( 1 < 5)\n",
      "++++ Ignored label with smaller area => ( 4 < 5)\n",
      "++++ Ignored label with smaller area => ( 2 < 5)\n",
      "++++ Ignored label with smaller area => ( 4 < 5)\n"
     ]
    },
    {
     "name": "stderr",
     "output_type": "stream",
     "text": [
      " 81%|██████████████████████████████▊       | 2155/2656 [00:09<00:01, 254.53it/s]"
     ]
    },
    {
     "name": "stdout",
     "output_type": "stream",
     "text": [
      "++++ Ignored label with smaller area => ( 1 < 5)\n",
      "++++ Ignored label with smaller area => ( 4 < 5)\n",
      "++++ Ignored label with smaller area => ( 1 < 5)\n",
      "++++ Ignored label with smaller area => ( 3 < 5)\n",
      "++++ Ignored label with smaller area => ( 1 < 5)\n"
     ]
    },
    {
     "name": "stderr",
     "output_type": "stream",
     "text": [
      " 83%|███████████████████████████████▌      | 2207/2656 [00:10<00:01, 248.22it/s]"
     ]
    },
    {
     "name": "stdout",
     "output_type": "stream",
     "text": [
      "++++ Ignored label with smaller area => ( 3 < 5)\n",
      "++++ Ignored label with smaller area => ( 4 < 5)\n",
      "++++ Ignored label with smaller area => ( 4 < 5)\n",
      "++++ Ignored label with smaller area => ( 3 < 5)\n",
      "++++ Ignored label with smaller area => ( 2 < 5)\n"
     ]
    },
    {
     "name": "stderr",
     "output_type": "stream",
     "text": [
      "\r",
      " 84%|███████████████████████████████▉      | 2232/2656 [00:10<00:01, 237.33it/s]"
     ]
    },
    {
     "name": "stdout",
     "output_type": "stream",
     "text": [
      "++++ Ignored label with smaller area => ( 3 < 5)\n"
     ]
    },
    {
     "name": "stderr",
     "output_type": "stream",
     "text": [
      " 87%|████████████████████████████████▉     | 2300/2656 [00:10<00:01, 186.77it/s]"
     ]
    },
    {
     "name": "stdout",
     "output_type": "stream",
     "text": [
      "++++ Ignored label with smaller area => ( 4 < 5)\n",
      "++++ Ignored label with smaller area => ( 1 < 5)\n",
      "++++ Ignored label with smaller area => ( 4 < 5)\n"
     ]
    },
    {
     "name": "stderr",
     "output_type": "stream",
     "text": [
      " 88%|█████████████████████████████████▌    | 2345/2656 [00:10<00:01, 195.86it/s]"
     ]
    },
    {
     "name": "stdout",
     "output_type": "stream",
     "text": [
      "++++ Ignored label with smaller area => ( 4 < 5)\n",
      "++++ Ignored label with smaller area => ( 2 < 5)\n",
      "++++ Ignored label with smaller area => ( 3 < 5)\n",
      "++++ Ignored label with smaller area => ( 4 < 5)\n",
      "++++ Ignored label with smaller area => ( 2 < 5)\n",
      "++++ Ignored label with smaller area => ( 3 < 5)\n"
     ]
    },
    {
     "name": "stderr",
     "output_type": "stream",
     "text": [
      " 90%|██████████████████████████████████▎   | 2394/2656 [00:11<00:01, 215.29it/s]"
     ]
    },
    {
     "name": "stdout",
     "output_type": "stream",
     "text": [
      "++++ Ignored label with smaller area => ( 4 < 5)\n",
      "++++ Ignored label with smaller area => ( 4 < 5)\n",
      "++++ Ignored label with smaller area => ( 3 < 5)\n",
      "++++ Ignored label with smaller area => ( 3 < 5)\n",
      "++++ Ignored label with smaller area => ( 3 < 5)\n",
      "++++ Ignored label with smaller area => ( 4 < 5)\n",
      "++++ Ignored label with smaller area => ( 3 < 5)\n",
      "++++ Ignored label with smaller area => ( 3 < 5)\n"
     ]
    },
    {
     "name": "stderr",
     "output_type": "stream",
     "text": [
      "\r",
      " 91%|██████████████████████████████████▌   | 2419/2656 [00:11<00:01, 224.71it/s]"
     ]
    },
    {
     "name": "stdout",
     "output_type": "stream",
     "text": [
      "++++ Ignored label with smaller area => ( 3 < 5)\n",
      "++++ Ignored label with smaller area => ( 3 < 5)\n",
      "++++ Ignored label with smaller area => ( 4 < 5)\n",
      "++++ Ignored label with smaller area => ( 3 < 5)\n",
      "++++ Ignored label with smaller area => ( 1 < 5)\n"
     ]
    },
    {
     "name": "stderr",
     "output_type": "stream",
     "text": [
      " 93%|███████████████████████████████████▎  | 2465/2656 [00:11<00:00, 203.89it/s]"
     ]
    },
    {
     "name": "stdout",
     "output_type": "stream",
     "text": [
      "++++ Ignored label with smaller area => ( 4 < 5)\n",
      "++++ Ignored label with smaller area => ( 4 < 5)\n",
      "++++ Ignored label with smaller area => ( 4 < 5)\n",
      "++++ Ignored label with smaller area => ( 4 < 5)\n",
      "++++ Ignored label with smaller area => ( 3 < 5)\n",
      "++++ Ignored label with smaller area => ( 4 < 5)\n"
     ]
    },
    {
     "name": "stderr",
     "output_type": "stream",
     "text": [
      " 95%|███████████████████████████████████▉  | 2510/2656 [00:11<00:00, 205.30it/s]"
     ]
    },
    {
     "name": "stdout",
     "output_type": "stream",
     "text": [
      "++++ Ignored label with smaller area => ( 2 < 5)\n",
      "++++ Ignored label with smaller area => ( 4 < 5)\n",
      "++++ Ignored label with smaller area => ( 4 < 5)\n",
      "++++ Ignored label with smaller area => ( 3 < 5)\n",
      "++++ Ignored label with smaller area => ( 2 < 5)\n",
      "++++ Ignored label with smaller area => ( 4 < 5)\n",
      "++++ Ignored label with smaller area => ( 4 < 5)\n",
      "++++ Ignored label with smaller area => ( 3 < 5)\n",
      "++++ Ignored label with smaller area => ( 1 < 5)\n",
      "++++ Ignored label with smaller area => ( 2 < 5)\n"
     ]
    },
    {
     "name": "stderr",
     "output_type": "stream",
     "text": [
      " 96%|████████████████████████████████████▌ | 2559/2656 [00:11<00:00, 223.44it/s]"
     ]
    },
    {
     "name": "stdout",
     "output_type": "stream",
     "text": [
      "++++ Ignored label with smaller area => ( 2 < 5)\n",
      "++++ Ignored label with smaller area => ( 2 < 5)\n",
      "++++ Ignored label with smaller area => ( 4 < 5)\n",
      "++++ Ignored label with smaller area => ( 2 < 5)\n",
      "++++ Ignored label with smaller area => ( 4 < 5)\n",
      "++++ Ignored label with smaller area => ( 4 < 5)\n"
     ]
    },
    {
     "name": "stderr",
     "output_type": "stream",
     "text": [
      " 99%|█████████████████████████████████████▌| 2626/2656 [00:12<00:00, 203.86it/s]"
     ]
    },
    {
     "name": "stdout",
     "output_type": "stream",
     "text": [
      "++++ Ignored label with smaller area => ( 4 < 5)\n",
      "++++ Ignored label with smaller area => ( 1 < 5)\n",
      "++++ Ignored label with smaller area => ( 1 < 5)\n",
      "++++ Ignored label with smaller area => ( 4 < 5)\n",
      "++++ Ignored label with smaller area => ( 3 < 5)\n",
      "++++ Ignored label with smaller area => ( 1 < 5)\n",
      "++++ Ignored label with smaller area => ( 4 < 5)\n",
      "++++ Ignored label with smaller area => ( 2 < 5)\n"
     ]
    },
    {
     "name": "stderr",
     "output_type": "stream",
     "text": [
      "100%|██████████████████████████████████████| 2656/2656 [00:12<00:00, 213.18it/s]"
     ]
    },
    {
     "name": "stdout",
     "output_type": "stream",
     "text": [
      "++++ Ignored label with smaller area => ( 3 < 5)\n",
      "++++ Ignored label with smaller area => ( 4 < 5)\n",
      "++++ Ignored label with smaller area => ( 4 < 5)\n",
      "++++ Ignored label with smaller area => ( 3 < 5)\n",
      "Total DataSize is 53413\n"
     ]
    },
    {
     "name": "stderr",
     "output_type": "stream",
     "text": [
      "\n"
     ]
    }
   ],
   "source": [
    "groups = [\n",
    "          \"Neoplastic cells\",\n",
    "          \"Inflammatory\",\n",
    "          \"Connective/Soft tissue cells\",\n",
    "          \"Dead Cells\",\n",
    "          \"Epithelial\",\n",
    "    ]\n",
    "\n",
    "#Hyper-params\n",
    "patch_size = 128\n",
    "min_area = 5\n",
    "\n",
    "# Create Dataset\n",
    "if os.path.isfile(json_path) == 0:\n",
    "    dataset_json = split_pannuke_dataset(image=img_data_path,\n",
    "                                         label=label_data_path,\n",
    "                                         output_dir=dataset_path,\n",
    "                                         groups=groups)\n",
    "\n",
    "    with open(json_path, 'w') as j_file:\n",
    "        json.dump(dataset_json, j_file)\n",
    "    j_file.close()\n",
    "else:\n",
    "    with open(json_path, 'r') as j_file:\n",
    "        dataset_json = json.load(j_file)\n",
    "    j_file.close()\n",
    "\n",
    "ds_json_new = []\n",
    "for d in tqdm(dataset_json):\n",
    "    ds_json_new.extend(split_nuclei_dataset(d, min_area=min_area))\n",
    "\n",
    "print('Total DataSize is {}'.format(len(ds_json_new)))\n",
    "val_split = round(len(ds_json_new) * 0.8)\n",
    "train_ds_json_new = ds_json_new[:val_split]\n",
    "val_ds_json_new = ds_json_new[val_split:]\n"
   ]
  },
  {
   "cell_type": "markdown",
   "metadata": {},
   "source": [
    "## Training & Validation Transforms"
   ]
  },
  {
   "cell_type": "code",
   "execution_count": 15,
   "metadata": {},
   "outputs": [],
   "source": [
    "    # Transforms\n",
    "    train_pre_transforms = Compose(\n",
    "        [\n",
    "            LoadImaged(keys=(\"image\", \"label\"), dtype=np.uint8),\n",
    "            FilterImaged(keys=\"image\", min_size=5),\n",
    "            FlattenLabeld(keys=\"label\"),\n",
    "            AsChannelFirstd(keys=\"image\"),\n",
    "            AddChanneld(keys=\"label\"),\n",
    "            ExtractPatchd(keys=(\"image\", \"label\"), patch_size=patch_size),\n",
    "            SplitLabeld(keys=\"label\", others=\"others\", mask_value=\"mask_value\", min_area=min_area),\n",
    "            ToTensord(keys=\"image\"),\n",
    "            TorchVisiond(\n",
    "                keys=\"image\", name=\"ColorJitter\", brightness=64.0 / 255.0, contrast=0.75, saturation=0.25, hue=0.04\n",
    "            ),\n",
    "            ToNumpyd(keys=\"image\"),\n",
    "            RandRotate90d(keys=(\"image\", \"label\", \"others\"), prob=0.5, spatial_axes=(0, 1)),\n",
    "            ScaleIntensityRangeD(keys=\"image\", a_min=0.0, a_max=255.0, b_min=-1.0, b_max=1.0),\n",
    "            AddPointGuidanceSignald(image=\"image\", label=\"label\", others=\"others\"),\n",
    "            EnsureTyped(keys=(\"image\", \"label\"))\n",
    "        ]\n",
    "    )\n",
    "\n",
    "    train_post_transforms = Compose(\n",
    "        [\n",
    "            Activationsd(keys=\"pred\", sigmoid=True),\n",
    "            AsDiscreted(keys=\"pred\", threshold_values=True, logit_thresh=0.5),\n",
    "        ]\n",
    "    )\n",
    "\n",
    "    val_transforms = Compose(\n",
    "        [\n",
    "            LoadImaged(keys=(\"image\", \"label\"), dtype=np.uint8),\n",
    "            FilterImaged(keys=\"image\", min_size=5),\n",
    "            FlattenLabeld(keys=\"label\"),\n",
    "            AsChannelFirstd(keys=\"image\"),\n",
    "            AddChanneld(keys=\"label\"),\n",
    "            ExtractPatchd(keys=(\"image\", \"label\"), patch_size=patch_size),\n",
    "            SplitLabeld(keys=\"label\", others=\"others\", mask_value=\"mask_value\", min_area=min_area),\n",
    "            ToTensord(keys=\"image\"),\n",
    "            TorchVisiond(\n",
    "                keys=\"image\", name=\"ColorJitter\", brightness=64.0 / 255.0, contrast=0.75, saturation=0.25, hue=0.04\n",
    "            ),\n",
    "            ToNumpyd(keys=\"image\"),\n",
    "            RandRotate90d(keys=(\"image\", \"label\", \"others\"), prob=0.5, spatial_axes=(0, 1)),\n",
    "            ScaleIntensityRangeD(keys=\"image\", a_min=0.0, a_max=255.0, b_min=-1.0, b_max=1.0),\n",
    "            AddPointGuidanceSignald(image=\"image\", label=\"label\", others=\"others\", drop_rate=1.0),\n",
    "            EnsureTyped(keys=(\"image\", \"label\"))\n",
    "        ]\n",
    "    )"
   ]
  },
  {
   "cell_type": "markdown",
   "metadata": {},
   "source": [
    "## NuClick Transforms Testing"
   ]
  },
  {
   "cell_type": "code",
   "execution_count": 16,
   "metadata": {},
   "outputs": [],
   "source": [
    "# Showcase the use of FilterImaged & FlattenLabeld"
   ]
  },
  {
   "cell_type": "markdown",
   "metadata": {},
   "source": [
    "## Training of NuClick Model"
   ]
  },
  {
   "cell_type": "code",
   "execution_count": null,
   "metadata": {},
   "outputs": [
    {
     "name": "stdout",
     "output_type": "stream",
     "text": [
      "BasicUNet features: (32, 64, 128, 256, 512, 32).\n"
     ]
    },
    {
     "name": "stderr",
     "output_type": "stream",
     "text": [
      "the effective log level of engine logger or RootLogger is higher than INFO, may not record log, please call `logging.basicConfig(stream=sys.stdout, level=logging.INFO)` to enable it.\n"
     ]
    }
   ],
   "source": [
    "    train_key_metric = {\"train_dice\": MeanDice(include_background=False, output_transform=from_engine([\"pred\", \"label\"]))}\n",
    "    val_key_metric = {\"val_dice\": MeanDice(include_background=False, output_transform=from_engine([\"pred\", \"label\"]))}\n",
    "    val_inferer = SimpleInferer()\n",
    "\n",
    "    # Define Dataset & Loading\n",
    "    train_data_set = Dataset(train_ds_json_new, transform=train_pre_transforms)\n",
    "    train_data_loader = DataLoader(\n",
    "                                   dataset=train_data_set,\n",
    "                                   batch_size=32,\n",
    "                                   shuffle=True,\n",
    "                                   num_workers=2\n",
    "                                )\n",
    "\n",
    "    val_data_set = Dataset(val_ds_json_new, transform=val_transforms)\n",
    "    val_data_loader = DataLoader(\n",
    "                                   dataset=val_data_set,\n",
    "                                   batch_size=32,\n",
    "                                   shuffle=True,\n",
    "                                   num_workers=2\n",
    "                                )\n",
    "\n",
    "    # Network Definition, Optimizer etc\n",
    "    device = torch.device(\"cuda\")\n",
    "\n",
    "    network = BasicUNet(\n",
    "        spatial_dims=2,\n",
    "        in_channels=5,\n",
    "        out_channels=1,\n",
    "        features=(32, 64, 128, 256, 512, 32),\n",
    "    )\n",
    "\n",
    "    network.to(device)\n",
    "    optimizer = torch.optim.Adam(network.parameters(), 0.0001)\n",
    "    dice_loss = DiceLoss(sigmoid=True, squared_pred=True)\n",
    "\n",
    "    # Training Process\n",
    "    val_handlers = [\n",
    "        # use the logger \"train_log\" defined at the beginning of this program\n",
    "        StatsHandler(name=\"train_log\", output_transform=lambda x: None),\n",
    "        TensorBoardStatsHandler(log_dir=logging_dir, output_transform=lambda x: None),\n",
    "        TensorBoardImageHandler(\n",
    "            log_dir=logging_dir,\n",
    "            batch_transform=from_engine([\"image\", \"label\"]),\n",
    "            output_transform=from_engine([\"pred\"]),\n",
    "        ),\n",
    "        CheckpointSaver(save_dir=logging_dir, save_dict={\"network\": network}, save_key_metric=True),\n",
    "    ]\n",
    "\n",
    "    evaluator = SupervisedEvaluator(\n",
    "        device=device,\n",
    "        val_data_loader=val_data_loader,\n",
    "        network=network,\n",
    "        inferer=val_inferer,\n",
    "        postprocessing=train_post_transforms,\n",
    "        key_val_metric=val_key_metric,\n",
    "        val_handlers=val_handlers,\n",
    "        # if no FP16 support in GPU or PyTorch version < 1.6, will not enable AMP evaluation\n",
    "        amp=False,\n",
    "    )\n",
    "\n",
    "    train_handlers = [\n",
    "        ValidationHandler(validator=evaluator, interval=1, epoch_level=True),\n",
    "        # use the logger \"train_log\" defined at the beginning of this program\n",
    "        StatsHandler(name=\"train_log\",\n",
    "                     tag_name=\"train_loss\",\n",
    "                     output_transform=from_engine([\"loss\"], first=True)),\n",
    "        TensorBoardStatsHandler(log_dir=logging_dir,\n",
    "                                tag_name=\"train_loss\",\n",
    "                                output_transform=from_engine([\"loss\"], first=True)\n",
    "                                ),\n",
    "        CheckpointSaver(save_dir=logging_dir,\n",
    "                        save_dict={\"net\": network, \"opt\": optimizer},\n",
    "                        save_interval=1,\n",
    "                        epoch_level=True),\n",
    "    ]\n",
    "\n",
    "    trainer = SupervisedTrainer(\n",
    "        device=device,\n",
    "        max_epochs=30,\n",
    "        train_data_loader=train_data_loader,\n",
    "        network=network,\n",
    "        optimizer=optimizer,\n",
    "        loss_function=dice_loss,\n",
    "        inferer=SimpleInferer(),\n",
    "        # if no FP16 support in GPU or PyTorch version < 1.6, will not enable AMP evaluation\n",
    "        amp=False,\n",
    "        postprocessing=train_post_transforms,\n",
    "        key_train_metric=train_key_metric,\n",
    "        train_handlers=train_handlers,\n",
    "    )\n",
    "    trainer.run()\n"
   ]
  },
  {
   "cell_type": "code",
   "execution_count": null,
   "metadata": {},
   "outputs": [],
   "source": []
  }
 ],
 "metadata": {
  "kernelspec": {
   "display_name": "nuclick_tutorial",
   "language": "python",
   "name": "nuclick_tutorial"
  },
  "language_info": {
   "codemirror_mode": {
    "name": "ipython",
    "version": 3
   },
   "file_extension": ".py",
   "mimetype": "text/x-python",
   "name": "python",
   "nbconvert_exporter": "python",
   "pygments_lexer": "ipython3",
   "version": "3.8.13"
  }
 },
 "nbformat": 4,
 "nbformat_minor": 4
}
