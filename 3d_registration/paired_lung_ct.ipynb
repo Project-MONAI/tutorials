{
 "cells": [
  {
   "cell_type": "markdown",
   "metadata": {},
   "source": [
    "# Paired Lung CT 3d registration with MONAI\n",
    "\n",
    "This tutorial shows how to use MONAI to register CT images acquired at different time points for a single patient. The images being registered are taken at inspiration and expiration for each subject. This is an intra subject registration. This type of intra subject registration is useful when there is a need to track certain features on a medical image such as tumor location when conducting invasive procedures.\n",
    "\n",
    "The usage of the following features are illustrated in this tutorial:\n",
    "1. Load Nifti image with metadata\n",
    "1. Transforms for dictionary format data\n",
    "1. Build LocalNet\n",
    "1. Warp an image with given dense displacement field (DDF) with Warp block\n",
    "1. Compute DiceLoss and BendingEnergyLoss\n",
    "1. Compute MeanDice metric\n",
    "\n",
    "[![Open In Colab](https://colab.research.google.com/assets/colab-badge.svg)](https://colab.research.google.com/github/Project-MONAI/tutorials/blob/master/3d_registration/paired_lung_ct.ipynb)"
   ]
  },
  {
   "cell_type": "markdown",
   "metadata": {
    "pycharm": {
     "name": "#%% md\n"
    }
   },
   "source": [
    "## Setup environment"
   ]
  },
  {
   "cell_type": "code",
   "execution_count": null,
   "metadata": {},
   "outputs": [],
   "source": [
    "!python -c \"import monai\" || pip install -q \"monai-weekly[gdown, nibabel, tqdm]\"\n",
    "!python -c \"import matplotlib\" || pip install -q matplotlib\n",
    "%matplotlib inline"
   ]
  },
  {
   "cell_type": "markdown",
   "metadata": {
    "pycharm": {
     "name": "#%% md\n"
    }
   },
   "source": [
    "## Setup imports"
   ]
  },
  {
   "cell_type": "code",
   "execution_count": 5,
   "metadata": {
    "pycharm": {
     "name": "#%%\n"
    }
   },
   "outputs": [
    {
     "name": "stdout",
     "output_type": "stream",
     "text": [
      "MONAI version: 0.5.dev2114\n",
      "Numpy version: 1.19.2\n",
      "Pytorch version: 1.8.0\n",
      "MONAI flags: HAS_EXT = False, USE_COMPILED = False\n",
      "MONAI rev id: d6faa335662624c95e0ada2fcfe803ca1397f4a4\n",
      "\n",
      "Optional dependencies:\n",
      "Pytorch Ignite version: NOT INSTALLED or UNKNOWN VERSION.\n",
      "Nibabel version: 3.2.1\n",
      "scikit-image version: NOT INSTALLED or UNKNOWN VERSION.\n",
      "Pillow version: 8.1.2\n",
      "Tensorboard version: 2.4.1\n",
      "gdown version: 3.12.2\n",
      "TorchVision version: 0.9.0\n",
      "ITK version: NOT INSTALLED or UNKNOWN VERSION.\n",
      "tqdm version: 4.59.0\n",
      "lmdb version: NOT INSTALLED or UNKNOWN VERSION.\n",
      "psutil version: NOT INSTALLED or UNKNOWN VERSION.\n",
      "\n",
      "For details about installing the optional dependencies, please visit:\n",
      "    https://docs.monai.io/en/latest/installation.html#installing-the-recommended-dependencies\n",
      "\n"
     ]
    }
   ],
   "source": [
    "# Copyright 2020 MONAI Consortium\n",
    "# Licensed under the Apache License, Version 2.0 (the \"License\");\n",
    "# you may not use this file except in compliance with the License.\n",
    "# You may obtain a copy of the License at\n",
    "#     http://www.apache.org/licenses/LICENSE-2.0\n",
    "# Unless required by applicable law or agreed to in writing, software\n",
    "# distributed under the License is distributed on an \"AS IS\" BASIS,\n",
    "# WITHOUT WARRANTIES OR CONDITIONS OF ANY KIND, either express or implied.\n",
    "# See the License for the specific language governing permissions and\n",
    "# limitations under the License.\n",
    "\n",
    "import os\n",
    "import matplotlib.pyplot as plt\n",
    "import numpy as np\n",
    "import shutil\n",
    "import tempfile\n",
    "import torch\n",
    "from torch.nn import MSELoss\n",
    "from monai.apps import download_url, download_and_extract\n",
    "from monai.config import print_config\n",
    "from monai.data import DataLoader, Dataset, CacheDataset\n",
    "from monai.losses import BendingEnergyLoss, MultiScaleLoss, DiceLoss\n",
    "from monai.metrics import compute_meandice\n",
    "from monai.networks.blocks import Warp\n",
    "from monai.networks.nets import LocalNet\n",
    "from monai.transforms import (\n",
    "    AddChanneld,\n",
    "    Compose,\n",
    "    LoadImaged,\n",
    "    RandAffined,\n",
    "    Resized,\n",
    "    ScaleIntensityRanged,\n",
    "    ToTensord,\n",
    ")\n",
    "from monai.utils import set_determinism, first\n",
    "\n",
    "print_config()"
   ]
  },
  {
   "cell_type": "markdown",
   "metadata": {},
   "source": [
    "## Setup data directory\n",
    "\n",
    "You can specify a directory with the `MONAI_DATA_DIRECTORY` environment variable.\n",
    "This allows you to save results and reuse downloads.\n",
    "If not specified a temporary directory will be used."
   ]
  },
  {
   "cell_type": "code",
   "execution_count": 6,
   "metadata": {
    "pycharm": {
     "name": "#%%\n"
    }
   },
   "outputs": [
    {
     "name": "stdout",
     "output_type": "stream",
     "text": [
      "/tmp/tmplkxbyc4k\n"
     ]
    }
   ],
   "source": [
    "directory = os.environ.get(\"MONAI_DATA_DIRECTORY\")\n",
    "root_dir = tempfile.mkdtemp() if directory is None else directory\n",
    "print(root_dir)"
   ]
  },
  {
   "cell_type": "markdown",
   "metadata": {},
   "source": [
    "## Download dataset\n",
    "Download and extract the dataset"
   ]
  },
  {
   "cell_type": "code",
   "execution_count": 7,
   "metadata": {
    "pycharm": {
     "name": "#%%\n"
    }
   },
   "outputs": [],
   "source": [
    "resource = \"https://zenodo.org/record/3835682/files/training.zip\"\n",
    "\n",
    "compressed_file = os.path.join(root_dir, \"paired_ct_lung.zip\")\n",
    "data_dir = os.path.join(root_dir, \"paired_ct_lung\")\n",
    "if not os.path.exists(data_dir):\n",
    "    download_and_extract(resource, compressed_file, root_dir)\n",
    "    os.rename(os.path.join(root_dir, \"training\"), data_dir)"
   ]
  },
  {
   "cell_type": "markdown",
   "metadata": {},
   "source": [
    "## Set dataset path"
   ]
  },
  {
   "cell_type": "code",
   "execution_count": 8,
   "metadata": {
    "pycharm": {
     "name": "#%%\n"
    }
   },
   "outputs": [],
   "source": [
    "data_dicts = [\n",
    "    {\n",
    "        \"fixed_image\": os.path.join(data_dir,\n",
    "                                    \"scans/case_%03d_exp.nii.gz\" % idx),\n",
    "        \"moving_image\": os.path.join(data_dir,\n",
    "                                     \"scans/case_%03d_insp.nii.gz\" % idx),\n",
    "        \"fixed_label\": os.path.join(data_dir,\n",
    "                                    \"lungMasks/case_%03d_exp.nii.gz\" % idx),\n",
    "        \"moving_label\": os.path.join(data_dir,\n",
    "                                     \"lungMasks/case_%03d_insp.nii.gz\" % idx),\n",
    "    }\n",
    "    for idx in range(1, 21)\n",
    "]\n",
    "\n",
    "train_files, val_files = data_dicts[:18], data_dicts[18:]"
   ]
  },
  {
   "cell_type": "markdown",
   "metadata": {},
   "source": [
    "## Set deterministic training for reproducibility"
   ]
  },
  {
   "cell_type": "code",
   "execution_count": 9,
   "metadata": {
    "pycharm": {
     "name": "#%%\n"
    }
   },
   "outputs": [],
   "source": [
    "set_determinism(seed=0)"
   ]
  },
  {
   "cell_type": "markdown",
   "metadata": {},
   "source": [
    "## Setup transforms for training and validation\n",
    "Here we use several transforms to augment the dataset:\n",
    "1. LoadImaged loads the lung CT images and labels from NIfTI format files.\n",
    "2. AddChanneld as the original data doesn't have channel dim, add 1 dim to construct \"channel first\" shape.\n",
    "3. ScaleIntensityRanged extracts intensity range [-285, 3770] and scales to [0, 1].\n",
    "4. RandAffined efficiently performs rotate, scale, shear, translate, etc. together based on PyTorch affine transform.\n",
    "5. Resized resize images to the same size.\n",
    "6. ToTensord converts the numpy array to PyTorch Tensor for further steps."
   ]
  },
  {
   "cell_type": "code",
   "execution_count": 10,
   "metadata": {
    "pycharm": {
     "name": "#%%\n"
    }
   },
   "outputs": [],
   "source": [
    "train_transforms = Compose(\n",
    "    [\n",
    "        LoadImaged(\n",
    "            keys=[\"fixed_image\", \"moving_image\", \"fixed_label\", \"moving_label\"]\n",
    "        ),\n",
    "        AddChanneld(\n",
    "            keys=[\"fixed_image\", \"moving_image\", \"fixed_label\", \"moving_label\"]\n",
    "        ),\n",
    "        ScaleIntensityRanged(\n",
    "            keys=[\"fixed_image\", \"moving_image\"],\n",
    "            a_min=-285, a_max=3770, b_min=0.0, b_max=1.0, clip=True,\n",
    "        ),\n",
    "        RandAffined(\n",
    "            keys=[\"fixed_image\", \"moving_image\", \"fixed_label\", \"moving_label\"],\n",
    "            mode=('bilinear', 'bilinear', 'nearest', 'nearest'),\n",
    "            prob=1.0, spatial_size=(192, 192, 208),\n",
    "            rotate_range=(0, 0, np.pi / 15), scale_range=(0.1, 0.1, 0.1)\n",
    "        ),\n",
    "        Resized(\n",
    "            keys=[\"fixed_image\", \"moving_image\", \"fixed_label\", \"moving_label\"],\n",
    "            mode=('trilinear', 'trilinear', 'nearest', 'nearest'),\n",
    "            align_corners=(True, True, None, None),\n",
    "            spatial_size=(96, 96, 104)\n",
    "        ),\n",
    "        ToTensord(\n",
    "            keys=[\"fixed_image\", \"moving_image\", \"fixed_label\", \"moving_label\"]\n",
    "        ),\n",
    "    ]\n",
    ")\n",
    "val_transforms = Compose(\n",
    "    [\n",
    "        LoadImaged(\n",
    "            keys=[\"fixed_image\", \"moving_image\", \"fixed_label\", \"moving_label\"]\n",
    "        ),\n",
    "        AddChanneld(\n",
    "            keys=[\"fixed_image\", \"moving_image\", \"fixed_label\", \"moving_label\"]\n",
    "        ),\n",
    "        ScaleIntensityRanged(\n",
    "            keys=[\"fixed_image\", \"moving_image\"],\n",
    "            a_min=-285, a_max=3770, b_min=0.0, b_max=1.0,\n",
    "            clip=True,\n",
    "        ),\n",
    "        Resized(\n",
    "            keys=[\"fixed_image\", \"moving_image\", \"fixed_label\", \"moving_label\"],\n",
    "            mode=('trilinear', 'trilinear', 'nearest', 'nearest'),\n",
    "            align_corners=(True, True, None, None),\n",
    "            spatial_size=(96, 96, 104)\n",
    "        ),\n",
    "        ToTensord(\n",
    "            keys=[\"fixed_image\", \"moving_image\", \"fixed_label\", \"moving_label\"]\n",
    "        ),\n",
    "    ]\n",
    ")"
   ]
  },
  {
   "cell_type": "markdown",
   "metadata": {},
   "source": [
    "## Check transforms in DataLoader\n",
    "Visulize a single batch to check the transforms."
   ]
  },
  {
   "cell_type": "code",
   "execution_count": 11,
   "metadata": {
    "lines_to_next_cell": 2,
    "pycharm": {
     "name": "#%%\n"
    }
   },
   "outputs": [
    {
     "name": "stdout",
     "output_type": "stream",
     "text": [
      "moving_image shape: torch.Size([96, 96, 104]), moving_label shape: torch.Size([96, 96, 104])\n",
      "fixed_image shape: torch.Size([96, 96, 104]), fixed_label shape: torch.Size([96, 96, 104])\n"
     ]
    },
    {
     "data": {
      "image/png": "[encoded data removed]",
      "text/plain": [
       "<Figure size 864x432 with 4 Axes>"
      ]
     },
     "metadata": {
      "needs_background": "light"
     },
     "output_type": "display_data"
    }
   ],
   "source": [
    "check_ds = Dataset(data=train_files, transform=train_transforms)\n",
    "check_loader = DataLoader(check_ds, batch_size=1)\n",
    "check_data = first(check_loader)\n",
    "fixed_image = check_data[\"fixed_image\"][0][0].permute(1, 0, 2)\n",
    "fixed_label = check_data[\"fixed_label\"][0][0].permute(1, 0, 2)\n",
    "moving_image = check_data[\"moving_image\"][0][0].permute(1, 0, 2)\n",
    "moving_label = check_data[\"moving_label\"][0][0].permute(1, 0, 2)\n",
    "\n",
    "print(f\"moving_image shape: {moving_image.shape}, \"\n",
    "      f\"moving_label shape: {moving_label.shape}\")\n",
    "print(f\"fixed_image shape: {fixed_image.shape}, \"\n",
    "      f\"fixed_label shape: {fixed_label.shape}\")\n",
    "\n",
    "# plot the slice [:, :, 50]\n",
    "plt.figure(\"check\", (12, 6))\n",
    "plt.subplot(1, 4, 1)\n",
    "plt.title(\"moving_image\")\n",
    "plt.imshow(moving_image[:, :, 50], cmap=\"gray\")\n",
    "plt.subplot(1, 4, 2)\n",
    "plt.title(\"moving_label\")\n",
    "plt.imshow(moving_label[:, :, 50])\n",
    "plt.subplot(1, 4, 3)\n",
    "plt.title(\"fixed_image\")\n",
    "plt.imshow(fixed_image[:, :, 50], cmap=\"gray\")\n",
    "plt.subplot(1, 4, 4)\n",
    "plt.title(\"fixed_label\")\n",
    "plt.imshow(fixed_label[:, :, 50])\n",
    "\n",
    "plt.show()\n",
    "plt.show()"
   ]
  },
  {
   "cell_type": "markdown",
   "metadata": {},
   "source": [
    "## Define CacheDataset and DataLoader for training and validation\n",
    "\n",
    "Here we use CacheDataset to accelerate training and validation process, it's 10x faster than the regular Dataset.\n",
    "To achieve best performance, set cache_rate=1.0 to cache all the data, if memory is not enough, set lower value.\n",
    "Users can also set cache_num instead of cache_rate, will use the minimum value of the 2 settings.\n",
    "And set num_workers to enable multi-threads during caching.\n",
    "If want to to try the regular Dataset, just change to use the commented code below.\n"
   ]
  },
  {
   "cell_type": "code",
   "execution_count": 12,
   "metadata": {
    "lines_to_next_cell": 2,
    "pycharm": {
     "name": "#%%\n"
    }
   },
   "outputs": [
    {
     "name": "stderr",
     "output_type": "stream",
     "text": [
      "Loading dataset: 100%|██████████| 18/18 [00:03<00:00,  5.62it/s]\n",
      "Loading dataset: 100%|██████████| 2/2 [00:01<00:00,  1.31it/s]\n"
     ]
    }
   ],
   "source": [
    "train_ds = CacheDataset(data=train_files, transform=train_transforms,\n",
    "                        cache_rate=1.0, num_workers=4)\n",
    "# train_ds = monai.data.Dataset(data=train_files, transform=train_transforms)\n",
    "\n",
    "# use batch_size=2 to load images and use RandCropByPosNegLabeld\n",
    "# to generate 2 x 4 images for network training\n",
    "train_loader = DataLoader(train_ds, batch_size=1, shuffle=True, num_workers=4)\n",
    "\n",
    "val_ds = CacheDataset(data=val_files, transform=val_transforms,\n",
    "                      cache_rate=1.0, num_workers=0)\n",
    "# val_ds = Dataset(data=val_files, transform=val_transforms)\n",
    "val_loader = DataLoader(val_ds, batch_size=1, num_workers=4)"
   ]
  },
  {
   "cell_type": "markdown",
   "metadata": {},
   "source": [
    "#### Create Model, Loss and Optimizer"
   ]
  },
  {
   "cell_type": "code",
   "execution_count": 13,
   "metadata": {
    "pycharm": {
     "name": "#%%\n"
    }
   },
   "outputs": [
    {
     "name": "stderr",
     "output_type": "stream",
     "text": [
      "/home/kate/anaconda3/envs/monai_tutorial/lib/python3.7/site-packages/monai/networks/blocks/warp.py:69: UserWarning: monai.networks.blocks.Warp: Using PyTorch native grid_sample.\n",
      "  warnings.warn(\"monai.networks.blocks.Warp: Using PyTorch native grid_sample.\")\n"
     ]
    }
   ],
   "source": [
    "# standard PyTorch program style: create LocalNet, losses and optimizer\n",
    "device = torch.device(\"cuda:0\")\n",
    "model = LocalNet(\n",
    "    spatial_dims=3,\n",
    "    in_channels=2,\n",
    "    out_channels=3,\n",
    "    num_channel_initial=32,\n",
    "    extract_levels=[0, 1, 2, 3],\n",
    "    out_activation=None,\n",
    "    out_kernel_initializer=\"zeros\").to(device)\n",
    "warp_layer = Warp().to(device)\n",
    "image_loss = MSELoss()\n",
    "label_loss = DiceLoss()\n",
    "label_loss = MultiScaleLoss(label_loss, scales=[0, 1, 2, 4, 8, 16])\n",
    "regularization = BendingEnergyLoss()\n",
    "optimizer = torch.optim.Adam(model.parameters(), 1e-5)"
   ]
  },
  {
   "cell_type": "markdown",
   "metadata": {
    "pycharm": {
     "name": "#%% md\n"
    }
   },
   "source": [
    "Define a forward pass function for ddf computation and warping to avoid duplicate coding."
   ]
  },
  {
   "cell_type": "code",
   "execution_count": 14,
   "metadata": {
    "pycharm": {
     "name": "#%%\n"
    }
   },
   "outputs": [],
   "source": [
    "def forward(batch_data, model):\n",
    "    fixed_image = batch_data[\"fixed_image\"].to(device)\n",
    "    moving_image = batch_data[\"moving_image\"].to(device)\n",
    "    moving_label = batch_data[\"moving_label\"].to(device)\n",
    "\n",
    "    # predict DDF through LocalNet\n",
    "    ddf = model(torch.cat((moving_image, fixed_image), dim=1))\n",
    "\n",
    "    # warp moving image and label with the predicted ddf\n",
    "    pred_image = warp_layer(moving_image, ddf)\n",
    "    pred_label = warp_layer(moving_label, ddf)\n",
    "\n",
    "    return ddf, pred_image, pred_label"
   ]
  },
  {
   "cell_type": "markdown",
   "metadata": {
    "pycharm": {
     "name": "#%% md\n"
    }
   },
   "source": [
    "## Execute a typical PyTorch training process\n",
    "Due to long training time required to for the model to converge, we provide a training snippet that trains for only 5 epochs to illustrate the training process.\n",
    "Pretrained weight which has been trained for 2000 epochs are provided in the inference section to illustrated the final performance.\n",
    "If want to train by yourself, simply change max_epochs to 2000."
   ]
  },
  {
   "cell_type": "code",
   "execution_count": 15,
   "metadata": {
    "pycharm": {
     "is_executing": true,
     "name": "#%%\n"
    }
   },
   "outputs": [
    {
     "name": "stdout",
     "output_type": "stream",
     "text": [
      "saved new best metric model\n",
      "current epoch: 1 current mean dice: 0.7976\n",
      "best mean dice: 0.7976 at epoch: 1\n",
      "----------\n",
      "epoch 1/5\n",
      "epoch 1 average loss: 38.3095\n",
      "current epoch: 2 current mean dice: 0.7973\n",
      "best mean dice: 0.7976 at epoch: 1\n",
      "----------\n",
      "epoch 2/5\n",
      "epoch 2 average loss: 38.2330\n",
      "saved new best metric model\n",
      "current epoch: 3 current mean dice: 0.7980\n",
      "best mean dice: 0.7980 at epoch: 3\n",
      "----------\n",
      "epoch 3/5\n",
      "epoch 3 average loss: 38.4360\n",
      "saved new best metric model\n",
      "current epoch: 4 current mean dice: 0.8047\n",
      "best mean dice: 0.8047 at epoch: 4\n",
      "----------\n",
      "epoch 4/5\n",
      "epoch 4 average loss: 38.3562\n",
      "saved new best metric model\n",
      "current epoch: 5 current mean dice: 0.8134\n",
      "best mean dice: 0.8134 at epoch: 5\n",
      "----------\n",
      "epoch 5/5\n",
      "epoch 5 average loss: 37.9326\n"
     ]
    }
   ],
   "source": [
    "max_epochs = 5\n",
    "val_interval = 1\n",
    "best_metric = -1\n",
    "best_metric_epoch = -1\n",
    "epoch_loss_values = []\n",
    "metric_values = []\n",
    "\n",
    "for epoch in range(max_epochs):\n",
    "    if (epoch + 1) % val_interval == 0 or epoch == 0:\n",
    "        model.eval()\n",
    "        with torch.no_grad():\n",
    "            metric_sum = 0.0\n",
    "            metric_count = 0\n",
    "            for val_data in val_loader:\n",
    "\n",
    "                val_ddf, val_pred_image, val_pred_label = forward(\n",
    "                    val_data, model)\n",
    "\n",
    "                val_fixed_image = val_data[\"fixed_image\"].to(device)\n",
    "                val_fixed_label = val_data[\"fixed_label\"].to(device)\n",
    "                value = compute_meandice(\n",
    "                    y_pred=val_pred_label,\n",
    "                    y=val_fixed_label,\n",
    "                )\n",
    "                metric_count += len(value)\n",
    "                metric_sum += value.sum().item()\n",
    "            metric = metric_sum / metric_count\n",
    "            metric_values.append(metric)\n",
    "            if metric > best_metric:\n",
    "                best_metric = metric\n",
    "                best_metric_epoch = epoch + 1\n",
    "                torch.save(model.state_dict(),\n",
    "                           os.path.join(root_dir, \"best_metric_model.pth\"))\n",
    "                print(\"saved new best metric model\")\n",
    "            print(\n",
    "                f\"current epoch: {epoch + 1} \"\n",
    "                f\"current mean dice: {metric:.4f}\\n\"\n",
    "                f\"best mean dice: {best_metric:.4f} \"\n",
    "                f\"at epoch: {best_metric_epoch}\"\n",
    "            )\n",
    "    print(\"-\" * 10)\n",
    "    print(f\"epoch {epoch + 1}/{max_epochs}\")\n",
    "    model.train()\n",
    "    epoch_loss = 0\n",
    "    step = 0\n",
    "    for batch_data in train_loader:\n",
    "        step += 1\n",
    "        optimizer.zero_grad()\n",
    "\n",
    "        ddf, pred_image, pred_label = forward(batch_data, model)\n",
    "\n",
    "        fixed_image = batch_data[\"fixed_image\"].to(device)\n",
    "        fixed_label = batch_data[\"fixed_label\"].to(device)\n",
    "        loss = image_loss(pred_image, fixed_image) + 100 * \\\n",
    "            label_loss(pred_label, fixed_label) + 10 * regularization(ddf)\n",
    "        loss.backward()\n",
    "        optimizer.step()\n",
    "        epoch_loss += loss.item()\n",
    "\n",
    "    epoch_loss /= step\n",
    "    epoch_loss_values.append(epoch_loss)\n",
    "    print(f\"epoch {epoch + 1} average loss: {epoch_loss:.4f}\")"
   ]
  },
  {
   "cell_type": "code",
   "execution_count": 16,
   "metadata": {
    "pycharm": {
     "is_executing": true,
     "name": "#%%\n"
    }
   },
   "outputs": [
    {
     "name": "stdout",
     "output_type": "stream",
     "text": [
      "train completed, best_metric: 0.8134  at epoch: 5\n"
     ]
    }
   ],
   "source": [
    "print(f\"train completed, \"\n",
    "      f\"best_metric: {best_metric:.4f}  \"\n",
    "      f\"at epoch: {best_metric_epoch}\")"
   ]
  },
  {
   "cell_type": "markdown",
   "metadata": {},
   "source": [
    "#### Plot the loss and metric"
   ]
  },
  {
   "cell_type": "code",
   "execution_count": 17,
   "metadata": {
    "pycharm": {
     "is_executing": true,
     "name": "#%%\n"
    }
   },
   "outputs": [
    {
     "data": {
      "image/png": "[encoded data removed]",
      "text/plain": [
       "<Figure size 864x432 with 2 Axes>"
      ]
     },
     "metadata": {
      "needs_background": "light"
     },
     "output_type": "display_data"
    }
   ],
   "source": [
    "plt.figure(\"train\", (12, 6))\n",
    "plt.subplot(1, 2, 1)\n",
    "plt.title(\"Epoch Average Loss\")\n",
    "x = [i + 1 for i in range(len(epoch_loss_values))]\n",
    "y = epoch_loss_values\n",
    "plt.xlabel(\"epoch\")\n",
    "plt.plot(x, y)\n",
    "plt.subplot(1, 2, 2)\n",
    "plt.title(\"Val Mean Dice\")\n",
    "x = [val_interval * (i + 1) for i in range(len(metric_values))]\n",
    "y = metric_values\n",
    "plt.xlabel(\"epoch\")\n",
    "plt.plot(x, y)\n",
    "plt.show()"
   ]
  },
  {
   "cell_type": "markdown",
   "metadata": {},
   "source": [
    "## Inference with the pretrained model"
   ]
  },
  {
   "cell_type": "markdown",
   "metadata": {},
   "source": [
    "Download and load the pretrained weights."
   ]
  },
  {
   "cell_type": "code",
   "execution_count": null,
   "metadata": {
    "pycharm": {
     "name": "#%%\n"
    }
   },
   "outputs": [],
   "source": [
    "resource = \"https://drive.google.com/uc?export=download&id=1ChQDI5NM-uOZly5pQvMz9BdsmcE7lWyB\"\n",
    "dst = f\"{root_dir}/pretrained_weight.pth\"\n",
    "download_url(resource, dst)\n",
    "model.load_state_dict(torch.load(dst))"
   ]
  },
  {
   "cell_type": "markdown",
   "metadata": {},
   "source": [
    "Inference with the pretrained weights and visualise the result at different depth."
   ]
  },
  {
   "cell_type": "code",
   "execution_count": null,
   "metadata": {
    "pycharm": {
     "name": "#%%\n"
    }
   },
   "outputs": [],
   "source": [
    "model.eval()\n",
    "with torch.no_grad():\n",
    "    for i, val_data in enumerate(val_loader):\n",
    "        if i > 2:\n",
    "            break\n",
    "        val_ddf, val_pred_image, val_pred_label = forward(val_data, model)\n",
    "        val_pred_image = val_pred_image.cpu().numpy()[0, 0].transpose((1, 0, 2))\n",
    "        val_pred_label = val_pred_label.cpu().numpy()[0, 0].transpose((1, 0, 2))\n",
    "        val_moving_image = val_data[\"moving_image\"].cpu().numpy()[0, 0].transpose((1, 0, 2))\n",
    "        val_moving_label = val_data[\"moving_label\"].cpu().numpy()[0, 0].transpose((1, 0, 2))\n",
    "        val_fixed_image = val_data[\"fixed_image\"].cpu().numpy()[0, 0].transpose((1, 0, 2))\n",
    "        val_fixed_label = val_data[\"fixed_label\"].cpu().numpy()[0, 0].transpose((1, 0, 2))\n",
    "\n",
    "        for depth in range(10):\n",
    "            depth = depth * 10\n",
    "            # plot the slice [:, :, 80]\n",
    "            plt.figure(\"check\", (18, 6))\n",
    "            plt.subplot(1, 6, 1)\n",
    "            plt.title(f\"moving_image {i} d={depth}\")\n",
    "            plt.imshow(val_moving_image[:, :, depth], cmap=\"gray\")\n",
    "            plt.subplot(1, 6, 2)\n",
    "            plt.title(f\"moving_label {i} d={depth}\")\n",
    "            plt.imshow(val_moving_label[:, :, depth])\n",
    "            plt.subplot(1, 6, 3)\n",
    "            plt.title(f\"fixed_image {i} d={depth}\")\n",
    "            plt.imshow(fixed_image[:, :, depth], cmap=\"gray\")\n",
    "            plt.subplot(1, 6, 4)\n",
    "            plt.title(f\"fixed_label {i} d={depth}\")\n",
    "            plt.imshow(fixed_label[:, :, depth])\n",
    "            plt.subplot(1, 6, 5)\n",
    "            plt.title(f\"pred_image {i} d={depth}\")\n",
    "            plt.imshow(val_pred_image[:, :, depth], cmap=\"gray\")\n",
    "            plt.subplot(1, 6, 6)\n",
    "            plt.title(f\"pred_label {i} d={depth}\")\n",
    "            plt.imshow(val_pred_label[:, :, depth])\n",
    "            plt.show()"
   ]
  },
  {
   "cell_type": "markdown",
   "metadata": {
    "pycharm": {
     "name": "#%% md\n"
    }
   },
   "source": [
    "##Cleanup data directory\n",
    "\n",
    "Remove directory if a temporary was used."
   ]
  },
  {
   "cell_type": "code",
   "execution_count": null,
   "metadata": {
    "pycharm": {
     "name": "#%%\n"
    }
   },
   "outputs": [],
   "source": [
    "if directory is None:\n",
    "    shutil.rmtree(root_dir)"
   ]
  }
 ],
 "metadata": {
  "kernelspec": {
   "display_name": "Python 3",
   "language": "python",
   "name": "python3"
  },
  "language_info": {
   "codemirror_mode": {
    "name": "ipython",
    "version": 3
   },
   "file_extension": ".py",
   "mimetype": "text/x-python",
   "name": "python",
   "nbconvert_exporter": "python",
   "pygments_lexer": "ipython3",
   "version": "3.7.10"
  }
 },
 "nbformat": 4,
 "nbformat_minor": 1
}
