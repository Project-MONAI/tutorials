{
 "cells": [
  {
   "cell_type": "markdown",
   "metadata": {},
   "source": [
    "Copyright (c) MONAI Consortium  \n",
    "Licensed under the Apache License, Version 2.0 (the \"License\");  \n",
    "you may not use this file except in compliance with the License.  \n",
    "You may obtain a copy of the License at  \n",
    "&nbsp;&nbsp;&nbsp;&nbsp;http://www.apache.org/licenses/LICENSE-2.0  \n",
    "Unless required by applicable law or agreed to in writing, software  \n",
    "distributed under the License is distributed on an \"AS IS\" BASIS,  \n",
    "WITHOUT WARRANTIES OR CONDITIONS OF ANY KIND, either express or implied.  \n",
    "See the License for the specific language governing permissions and  \n",
    "limitations under the License.\n",
    "\n",
    "# Benchmark TensorRT models inference"
   ]
  },
  {
   "cell_type": "markdown",
   "metadata": {},
   "source": [
    "This tutorial shows how to convert the model of a release bundle to a TensorRT engine-based TorchScript for better performance and benchmark the difference between the PyTorch native model and the TensorRT engine-based TorchScript.\n",
    "\n",
    "The `spleen_ct_segmentation` bundle is used as the example in this tutorial. The inference latency before and after the coversion process will be compared. The TensorRT conversion is supported since **MONAI 1.2** with **Torch-TensorRT 1.4.0** and **TensorRT 8.5.3**. Please use the MONAI Docker whose version is >=1.2 or ensure the environment meets the min version requirement."
   ]
  },
  {
   "cell_type": "markdown",
   "metadata": {},
   "source": [
    "## Setup environment"
   ]
  },
  {
   "cell_type": "code",
   "execution_count": 1,
   "metadata": {},
   "outputs": [],
   "source": [
    "!python -c \"import monai\" || pip install -q \"monai-weekly[nibabel, tqdm]\"\n",
    "!python -c \"import matplotlib\" || pip install -q matplotlib\n",
    "!python -c \"import pandas\" || pip install -q pandas\n",
    "!python -c \"import torch_tensorrt\" || pip install torch_tensorrt\n",
    "%matplotlib inline"
   ]
  },
  {
   "cell_type": "markdown",
   "metadata": {},
   "source": [
    "## Setup imports"
   ]
  },
  {
   "cell_type": "code",
   "execution_count": null,
   "metadata": {},
   "outputs": [],
   "source": [
    "import os\n",
    "import tempfile\n",
    "\n",
    "import torch\n",
    "import torch_tensorrt\n",
    "import numpy as np\n",
    "from ignite.engine import Engine\n",
    "import pandas as pd\n",
    "\n",
    "import matplotlib.pyplot as plt\n",
    "import monai\n",
    "from monai.apps import download_and_extract\n",
    "from monai.config import print_config\n",
    "from ignite.engine import Events\n",
    "from collections import OrderedDict\n",
    "from monai.engines import IterationEvents\n",
    "\n",
    "print(f\"Torch-TensorRT version: {torch_tensorrt.__version__}.\")\n",
    "\n",
    "print_config()"
   ]
  },
  {
   "cell_type": "markdown",
   "metadata": {},
   "source": [
    "## Setup data directory\n",
    "\n",
    "You can specify a directory with the `MONAI_DATA_DIRECTORY` environment variable.  \n",
    "This allows you to save results and reuse downloads.  \n",
    "If not specified a temporary directory will be used."
   ]
  },
  {
   "cell_type": "code",
   "execution_count": 3,
   "metadata": {
    "scrolled": true
   },
   "outputs": [
    {
     "name": "stdout",
     "output_type": "stream",
     "text": [
      "root dir is: /workspace/data/medical\n"
     ]
    }
   ],
   "source": [
    "directory = os.environ.get(\"MONAI_DATA_DIRECTORY\")\n",
    "root_dir = tempfile.mkdtemp() if directory is None else directory\n",
    "print(f\"root dir is: {root_dir}\")"
   ]
  },
  {
   "cell_type": "markdown",
   "metadata": {},
   "source": [
    "## Download dataset\n",
    "\n",
    "Downloads and extracts the Decathlon Spleen dataset."
   ]
  },
  {
   "cell_type": "code",
   "execution_count": 4,
   "metadata": {},
   "outputs": [],
   "source": [
    "resource = \"https://msd-for-monai.s3-us-west-2.amazonaws.com/Task09_Spleen.tar\"\n",
    "md5 = \"410d4a301da4e5b2f6f86ec3ddba524e\"\n",
    "\n",
    "compressed_file = os.path.join(root_dir, \"Task09_Spleen.tar\")\n",
    "data_root = os.path.join(root_dir, \"Task09_Spleen\")\n",
    "if not os.path.exists(data_root):\n",
    "    download_and_extract(resource, compressed_file, root_dir, md5)"
   ]
  },
  {
   "cell_type": "markdown",
   "metadata": {},
   "source": [
    "## Download the spleen bundle"
   ]
  },
  {
   "cell_type": "code",
   "execution_count": 5,
   "metadata": {},
   "outputs": [],
   "source": [
    "bundle_dir = \"./\"\n",
    "bundle_path = os.path.join(bundle_dir, \"spleen_ct_segmentation\")\n",
    "if not os.path.exists(bundle_path):\n",
    "    monai.bundle.download(name=\"spleen_ct_segmentation\", bundle_dir=\"./\")"
   ]
  },
  {
   "cell_type": "markdown",
   "metadata": {},
   "source": [
    "## Export the TensorRT model with API\n",
    "\n",
    "Export the downloaded bundle model to TensorRT engine-based TorchScript models. It takes a while for the conversion and will generate the `model_trt_fp32.ts` and `model_trt_fp16.ts` into the `model` folder.\n",
    "\n",
    "The command is quite similar to the `ckpt_export` command, except the `precision` and `dynamic_batchsize` parameters. \n",
    "\n",
    "The `precision` parameter specifies the converted model weight precision which currently supports `fp32` and `fp16` as input.\n",
    "\n",
    "The `dynamic_batchsize` parameter is a sequence with three elements to define the batch size range of the input for the model to be converted. Should be a sequence like `[MIN_BATCH, OPT_BATCH, MAX_BATCH]`. After conversion, the batch size of model input should be between `MIN_BATCH` and `MAX_BATCH`. The `OPT_BATCH` is the best performance batch size that the TensorRT tries to fit. It should be the most frequently used input batch size in the application."
   ]
  },
  {
   "cell_type": "code",
   "execution_count": null,
   "metadata": {},
   "outputs": [],
   "source": [
    "%cd spleen_ct_segmentation\n",
    "!python -m monai.bundle trt_export network_def --filepath models/model_trt_fp32.ts --ckpt_file models/model.pt --meta_file configs/metadata.json --config_file configs/inference.json --precision fp32 --dynamic_batchsize \"[1, 4, 8]\"\n",
    "!python -m monai.bundle trt_export network_def --filepath models/model_trt_fp16.ts --ckpt_file models/model.pt --meta_file configs/metadata.json --config_file configs/inference.json --precision fp16 --dynamic_batchsize \"[1, 4, 8]\"\n",
    "%cd .."
   ]
  },
  {
   "cell_type": "markdown",
   "metadata": {},
   "source": [
    "## Load the torch model and TensorRT model\n",
    "\n",
    "Load the original torch model and the TensorRT engine-based TorchScript models. Please note that `torch_tensorrt>=1.4.0` must be imported before loading TensorRT engine-based TorchScript models, since it will provide some runtime context."
   ]
  },
  {
   "cell_type": "code",
   "execution_count": 6,
   "metadata": {},
   "outputs": [],
   "source": [
    "def get_parser(meta_config, inference_config):\n",
    "    parser = monai.bundle.ConfigParser()\n",
    "    parser.read_meta(meta_config)\n",
    "    parser.read_config(inference_config)\n",
    "    return parser\n",
    "\n",
    "\n",
    "model_weight = os.path.join(\"./spleen_ct_segmentation\", \"models\", \"model.pt\")\n",
    "meta_config = os.path.join(\"./spleen_ct_segmentation\", \"configs\", \"metadata.json\")\n",
    "inference_config = os.path.join(\"./spleen_ct_segmentation\", \"configs\", \"inference.json\")\n",
    "trt_fp32_model_path = os.path.join(\"./spleen_ct_segmentation\", \"models\", \"model_trt_fp32.ts\")\n",
    "trt_fp16_model_path = os.path.join(\"./spleen_ct_segmentation\", \"models\", \"model_trt_fp16.ts\")\n",
    "\n",
    "parser = get_parser(meta_config, inference_config)\n",
    "device = parser.get_parsed_content(\"device\")\n",
    "\n",
    "net_id = \"network\"\n",
    "spatial_shape = (1, 1, 96, 96, 96)\n",
    "model = parser.get_parsed_content(net_id)\n",
    "\n",
    "model.eval()\n",
    "\n",
    "trt_fp32_model = torch.jit.load(trt_fp32_model_path)\n",
    "trt_fp16_model = torch.jit.load(trt_fp16_model_path)"
   ]
  },
  {
   "cell_type": "markdown",
   "metadata": {},
   "source": [
    "## Benchmark the model inference time\n",
    "\n",
    "In this part, the model inference with a random input is benchmarked, i.e. the model computation latency without loading any real data."
   ]
  },
  {
   "cell_type": "code",
   "execution_count": 7,
   "metadata": {},
   "outputs": [
    {
     "name": "stdout",
     "output_type": "stream",
     "text": [
      "Total time for the PyTorch model: 2537.1277360916138ms. Average time for the PyTorch model: 5.074255472183217ms.\n",
      "Total time for the TensorRT_fp32 model: 1026.6399216651917ms. Average time for the TensorRT_fp32 model: 2.053279843330379ms.\n",
      "Total time for the TensorRT_fp16 model: 639.9710974693298ms. Average time for the TensorRT_fp16 model: 1.2799421949386571ms.\n"
     ]
    },
    {
     "data": {
      "image/png": "[encoded data removed]",
      "text/plain": [
       "<Figure size 640x480 with 1 Axes>"
      ]
     },
     "metadata": {},
     "output_type": "display_data"
    }
   ],
   "source": [
    "def inference_random_torch_timer(model, input_shape, model_type=\"torch\", warmup_iter=500, active_iter=500):\n",
    "    \"\"\"Do the inference several times and get the latency.\"\"\"\n",
    "\n",
    "    # Do some warmup in case there are extra libraries and models load overhead.\n",
    "    with torch.no_grad():\n",
    "        for _ in range(warmup_iter):\n",
    "            random_input = torch.rand(input_shape, dtype=torch.float32, device=device)\n",
    "            model(random_input)\n",
    "\n",
    "        timeaccumulate = []\n",
    "        for _ in range(active_iter):\n",
    "            starter, ender = torch.cuda.Event(enable_timing=True), torch.cuda.Event(enable_timing=True)\n",
    "            torch.cuda.synchronize()\n",
    "            starter.record()\n",
    "            model(random_input)\n",
    "            ender.record()\n",
    "            torch.cuda.synchronize()\n",
    "            time_cur = starter.elapsed_time(ender)\n",
    "            timeaccumulate.append(time_cur)\n",
    "        total_time = sum(timeaccumulate)\n",
    "        average_time = total_time / (len(timeaccumulate) + 1e-12)\n",
    "    print(\n",
    "        f\"Total time for the {model_type} model: {total_time}ms.\",\n",
    "        f\"Average time for the {model_type} model: {average_time}ms.\",\n",
    "    )\n",
    "    return timeaccumulate\n",
    "\n",
    "\n",
    "# Only test the fp32 precision torch model\n",
    "torch.backends.cuda.matmul.allow_tf32 = False\n",
    "torch.backends.cudnn.allow_tf32 = False\n",
    "\n",
    "torch_time_list = inference_random_torch_timer(model, spatial_shape, model_type=\"PyTorch\")\n",
    "trt32_time_list = inference_random_torch_timer(trt_fp32_model, spatial_shape, model_type=\"TensorRT_fp32\")\n",
    "trt16_time_list = inference_random_torch_timer(trt_fp16_model, spatial_shape, model_type=\"TensorRT_fp16\")\n",
    "\n",
    "plt.title(\"Latency benchmark results of different models.\")\n",
    "plt.xlabel(\"Iteration\")\n",
    "plt.ylabel(\"Latency (ms)\")\n",
    "plt.plot(torch_time_list, color=\"red\", label=\"pytorch model\")\n",
    "plt.plot(trt32_time_list, color=\"green\", label=\"TensorRT fp32 model\")\n",
    "plt.plot(trt16_time_list, color=\"blue\", label=\"TensorRT fp16 model\")\n",
    "plt.legend()\n",
    "plt.show()"
   ]
  },
  {
   "cell_type": "markdown",
   "metadata": {},
   "source": [
    "## Benchmark the end to end bundle run\n",
    "\n",
    "In this part, the `evaluator` in the `spleen_ct_segmentation` is parsed to do the end to end inference. A `TimerHandler` is defined to benchmark every part of the inference process."
   ]
  },
  {
   "cell_type": "markdown",
   "metadata": {},
   "source": [
    "### Define the TimerHandler\n",
    "\n",
    "Define a `CUDATimer` to time the latency on GPU and a `TimerHandler` to attach this timer to every part of an end-to-end inference."
   ]
  },
  {
   "cell_type": "code",
   "execution_count": 8,
   "metadata": {},
   "outputs": [],
   "source": [
    "class CUDATimer:\n",
    "    def __init__(self, type_str) -> None:\n",
    "        self.time_list = []\n",
    "        self.type_str = type_str\n",
    "\n",
    "    def start(self) -> None:\n",
    "        self.starter = torch.cuda.Event(enable_timing=True)\n",
    "        self.ender = torch.cuda.Event(enable_timing=True)\n",
    "        torch.cuda.synchronize()\n",
    "        self.starter.record()\n",
    "\n",
    "    def end(self) -> None:\n",
    "        self.ender.record()\n",
    "        torch.cuda.synchronize()\n",
    "        self.time_list.append(self.starter.elapsed_time(self.ender))\n",
    "\n",
    "    def get_max(self) -> float:\n",
    "        return max(self.time_list)\n",
    "\n",
    "    def get_min(self) -> float:\n",
    "        return min(self.time_list)\n",
    "\n",
    "    def get_mean(self) -> float:\n",
    "        np_time = np.array(self.time_list)\n",
    "        return np.mean(np_time)\n",
    "\n",
    "    def get_std(self) -> float:\n",
    "        np_time = np.array(self.time_list)\n",
    "        return np.std(np_time)\n",
    "\n",
    "    def get_sum(self) -> float:\n",
    "        np_time = np.array(self.time_list)\n",
    "        return np.sum(np_time)\n",
    "\n",
    "    def get_results_dict(self) -> OrderedDict:\n",
    "        out_list = [\n",
    "            (\"total\", self.get_sum()),\n",
    "            (\"min\", self.get_min()),\n",
    "            (\"max\", self.get_max()),\n",
    "            (\"mean\", self.get_mean()),\n",
    "            (\"std\", self.get_std()),\n",
    "        ]\n",
    "        return OrderedDict(out_list)\n",
    "\n",
    "\n",
    "class TimerHandler:\n",
    "    def __init__(self) -> None:\n",
    "        self.run_timer = CUDATimer(\"RUN\")\n",
    "        self.epoch_timer = CUDATimer(\"EPOCH\")\n",
    "        self.iteration_timer = CUDATimer(\"ITERATION\")\n",
    "        self.net_forward_timer = CUDATimer(\"FORWARD\")\n",
    "        self.get_batch_timer = CUDATimer(\"PREPARE_BATCH\")\n",
    "        self.post_process_timer = CUDATimer(\"POST_PROCESS\")\n",
    "        self.timer_list = [\n",
    "            self.run_timer,\n",
    "            self.epoch_timer,\n",
    "            self.iteration_timer,\n",
    "            self.net_forward_timer,\n",
    "            self.get_batch_timer,\n",
    "            self.post_process_timer,\n",
    "        ]\n",
    "\n",
    "    def attach(self, engine: Engine) -> None:\n",
    "        engine.add_event_handler(Events.STARTED, self.started, timer=self.run_timer)\n",
    "        engine.add_event_handler(Events.EPOCH_STARTED, self.started, timer=self.epoch_timer)\n",
    "        engine.add_event_handler(Events.ITERATION_STARTED, self.started, timer=self.iteration_timer)\n",
    "        engine.add_event_handler(Events.GET_BATCH_STARTED, self.started, timer=self.get_batch_timer)\n",
    "        engine.add_event_handler(Events.GET_BATCH_COMPLETED, self.completed, timer=self.get_batch_timer)\n",
    "        engine.add_event_handler(Events.GET_BATCH_COMPLETED, self.started, timer=self.net_forward_timer)\n",
    "        engine.add_event_handler(IterationEvents.FORWARD_COMPLETED, self.completed, timer=self.net_forward_timer)\n",
    "        engine.add_event_handler(IterationEvents.FORWARD_COMPLETED, self.started, timer=self.post_process_timer)\n",
    "        engine.add_event_handler(Events.ITERATION_COMPLETED, self.completed, timer=self.post_process_timer)\n",
    "        engine.add_event_handler(Events.ITERATION_COMPLETED, self.completed, timer=self.iteration_timer)\n",
    "        engine.add_event_handler(Events.EPOCH_COMPLETED, self.completed, timer=self.epoch_timer)\n",
    "        engine.add_event_handler(Events.COMPLETED, self.completed, timer=self.run_timer)\n",
    "\n",
    "    def started(self, engine: Engine, timer: CUDATimer) -> None:\n",
    "        timer.start()\n",
    "\n",
    "    def completed(self, engine: Engine, timer: CUDATimer) -> None:\n",
    "        timer.end()\n",
    "\n",
    "    def print_results(self) -> None:\n",
    "        column_title = (\"total/ms\", \"min/ms\", \"max/ms\", \"mean/ms\", \"std/ms\")\n",
    "        index = [x.type_str for x in self.timer_list]\n",
    "        column_title = list(self.timer_list[0].get_results_dict().keys())\n",
    "        latency_list = [x for timer in self.timer_list for x in timer.get_results_dict().values()]\n",
    "        latency_array = np.array(latency_list)\n",
    "        latency_array = np.reshape(latency_array, (len(index), len(column_title)))\n",
    "        df = pd.DataFrame(latency_array, index=index, columns=column_title)\n",
    "        return df"
   ]
  },
  {
   "cell_type": "markdown",
   "metadata": {},
   "source": [
    "### Benchmark the MONAI bundle\n",
    "\n",
    "In this part, an `evaluator` with the original MONAI bundle runs several iterations to benchmark the latency."
   ]
  },
  {
   "cell_type": "code",
   "execution_count": null,
   "metadata": {},
   "outputs": [],
   "source": [
    "torch_parser = get_parser(meta_config, inference_config)\n",
    "torch_parser[\"dataset_dir\"] = data_root\n",
    "torch_parser[\"bundle_root\"] = \"./spleen_ct_segmentation\"\n",
    "torch_evaluator = torch_parser.get_parsed_content(\"evaluator\")\n",
    "torch_timer = TimerHandler()\n",
    "torch_timer.attach(torch_evaluator)\n",
    "torch_evaluator.run()"
   ]
  },
  {
   "cell_type": "code",
   "execution_count": 10,
   "metadata": {},
   "outputs": [
    {
     "data": {
      "text/html": [
       "<div>\n",
       "<style scoped>\n",
       "    .dataframe tbody tr th:only-of-type {\n",
       "        vertical-align: middle;\n",
       "    }\n",
       "\n",
       "    .dataframe tbody tr th {\n",
       "        vertical-align: top;\n",
       "    }\n",
       "\n",
       "    .dataframe thead th {\n",
       "        text-align: right;\n",
       "    }\n",
       "</style>\n",
       "<table border=\"1\" class=\"dataframe\">\n",
       "  <thead>\n",
       "    <tr style=\"text-align: right;\">\n",
       "      <th></th>\n",
       "      <th>total</th>\n",
       "      <th>min</th>\n",
       "      <th>max</th>\n",
       "      <th>mean</th>\n",
       "      <th>std</th>\n",
       "    </tr>\n",
       "  </thead>\n",
       "  <tbody>\n",
       "    <tr>\n",
       "      <th>RUN</th>\n",
       "      <td>15358.048828</td>\n",
       "      <td>15358.048828</td>\n",
       "      <td>15358.048828</td>\n",
       "      <td>15358.048828</td>\n",
       "      <td>0.000000</td>\n",
       "    </tr>\n",
       "    <tr>\n",
       "      <th>EPOCH</th>\n",
       "      <td>15357.473633</td>\n",
       "      <td>15357.473633</td>\n",
       "      <td>15357.473633</td>\n",
       "      <td>15357.473633</td>\n",
       "      <td>0.000000</td>\n",
       "    </tr>\n",
       "    <tr>\n",
       "      <th>ITERATION</th>\n",
       "      <td>13501.087662</td>\n",
       "      <td>210.526749</td>\n",
       "      <td>1501.544678</td>\n",
       "      <td>675.054383</td>\n",
       "      <td>325.767584</td>\n",
       "    </tr>\n",
       "    <tr>\n",
       "      <th>FORWARD</th>\n",
       "      <td>3354.464527</td>\n",
       "      <td>48.495201</td>\n",
       "      <td>441.561798</td>\n",
       "      <td>167.723226</td>\n",
       "      <td>96.487286</td>\n",
       "    </tr>\n",
       "    <tr>\n",
       "      <th>PREPARE_BATCH</th>\n",
       "      <td>1665.664284</td>\n",
       "      <td>0.093984</td>\n",
       "      <td>909.798523</td>\n",
       "      <td>83.283214</td>\n",
       "      <td>230.541183</td>\n",
       "    </tr>\n",
       "    <tr>\n",
       "      <th>POST_PROCESS</th>\n",
       "      <td>10144.968155</td>\n",
       "      <td>161.964508</td>\n",
       "      <td>1389.148071</td>\n",
       "      <td>507.248408</td>\n",
       "      <td>283.085182</td>\n",
       "    </tr>\n",
       "  </tbody>\n",
       "</table>\n",
       "</div>"
      ],
      "text/plain": [
       "                      total           min           max          mean  \\\n",
       "RUN            15358.048828  15358.048828  15358.048828  15358.048828   \n",
       "EPOCH          15357.473633  15357.473633  15357.473633  15357.473633   \n",
       "ITERATION      13501.087662    210.526749   1501.544678    675.054383   \n",
       "FORWARD         3354.464527     48.495201    441.561798    167.723226   \n",
       "PREPARE_BATCH   1665.664284      0.093984    909.798523     83.283214   \n",
       "POST_PROCESS   10144.968155    161.964508   1389.148071    507.248408   \n",
       "\n",
       "                      std  \n",
       "RUN              0.000000  \n",
       "EPOCH            0.000000  \n",
       "ITERATION      325.767584  \n",
       "FORWARD         96.487286  \n",
       "PREPARE_BATCH  230.541183  \n",
       "POST_PROCESS   283.085182  "
      ]
     },
     "execution_count": 10,
     "metadata": {},
     "output_type": "execute_result"
    }
   ],
   "source": [
    "torch_timer.print_results()"
   ]
  },
  {
   "cell_type": "markdown",
   "metadata": {},
   "source": [
    "### Benchmark the TensorRT fp32 and fp16 models\n",
    "In this part, the `trt_fp32_model` and `trt_fp16_model` are loaded to an evaluator and run the same iterations as the original MONAI bundle to benchmark the latency difference. \n",
    "\n",
    "The `POST_PROCESS` and `PREPARE_BATCH` stages require a considerable amount of time. Although the model forward time is much improved, there is still room for acceleration in reducing the end-to-end latency on this particular MONAI bundle."
   ]
  },
  {
   "cell_type": "code",
   "execution_count": null,
   "metadata": {},
   "outputs": [],
   "source": [
    "# replace the model load part and remove the CheckpointLoader handler\n",
    "def del_ckpt_loader(parser):\n",
    "    ckpt_index = -1\n",
    "    for cnt, handler in enumerate(parser[\"handlers\"]):\n",
    "        if handler[\"_target_\"] == \"CheckpointLoader\":\n",
    "            ckpt_index = cnt\n",
    "    if ckpt_index != -1:\n",
    "        del parser[\"handlers\"][ckpt_index]\n",
    "\n",
    "\n",
    "trt32_parser = get_parser(meta_config, inference_config)\n",
    "trt32_parser[\"dataset_dir\"] = data_root\n",
    "trt32_parser[\"bundle_root\"] = \"./spleen_ct_segmentation\"\n",
    "\n",
    "# Use torch.jit.load to load the jit model\n",
    "trt32_parser[net_id] = f\"$torch.jit.load('{trt_fp32_model_path}')\"\n",
    "del_ckpt_loader(trt32_parser)\n",
    "trt32_evaluator = trt32_parser.get_parsed_content(\"evaluator\")\n",
    "trt32_evaluator.amp = False\n",
    "trt32_timer = TimerHandler()\n",
    "trt32_timer.attach(trt32_evaluator)\n",
    "trt32_evaluator.run()"
   ]
  },
  {
   "cell_type": "code",
   "execution_count": 14,
   "metadata": {},
   "outputs": [
    {
     "data": {
      "text/html": [
       "<div>\n",
       "<style scoped>\n",
       "    .dataframe tbody tr th:only-of-type {\n",
       "        vertical-align: middle;\n",
       "    }\n",
       "\n",
       "    .dataframe tbody tr th {\n",
       "        vertical-align: top;\n",
       "    }\n",
       "\n",
       "    .dataframe thead th {\n",
       "        text-align: right;\n",
       "    }\n",
       "</style>\n",
       "<table border=\"1\" class=\"dataframe\">\n",
       "  <thead>\n",
       "    <tr style=\"text-align: right;\">\n",
       "      <th></th>\n",
       "      <th>total</th>\n",
       "      <th>min</th>\n",
       "      <th>max</th>\n",
       "      <th>mean</th>\n",
       "      <th>std</th>\n",
       "    </tr>\n",
       "  </thead>\n",
       "  <tbody>\n",
       "    <tr>\n",
       "      <th>RUN</th>\n",
       "      <td>14887.208008</td>\n",
       "      <td>14887.208008</td>\n",
       "      <td>14887.208008</td>\n",
       "      <td>14887.208008</td>\n",
       "      <td>0.000000</td>\n",
       "    </tr>\n",
       "    <tr>\n",
       "      <th>EPOCH</th>\n",
       "      <td>14886.565430</td>\n",
       "      <td>14886.565430</td>\n",
       "      <td>14886.565430</td>\n",
       "      <td>14886.565430</td>\n",
       "      <td>0.000000</td>\n",
       "    </tr>\n",
       "    <tr>\n",
       "      <th>ITERATION</th>\n",
       "      <td>12767.729828</td>\n",
       "      <td>197.882812</td>\n",
       "      <td>1525.902954</td>\n",
       "      <td>638.386491</td>\n",
       "      <td>330.007713</td>\n",
       "    </tr>\n",
       "    <tr>\n",
       "      <th>FORWARD</th>\n",
       "      <td>2818.023119</td>\n",
       "      <td>31.625216</td>\n",
       "      <td>395.386108</td>\n",
       "      <td>140.901156</td>\n",
       "      <td>91.580818</td>\n",
       "    </tr>\n",
       "    <tr>\n",
       "      <th>PREPARE_BATCH</th>\n",
       "      <td>1911.880860</td>\n",
       "      <td>0.110432</td>\n",
       "      <td>1246.414429</td>\n",
       "      <td>95.594043</td>\n",
       "      <td>285.658080</td>\n",
       "    </tr>\n",
       "    <tr>\n",
       "      <th>POST_PROCESS</th>\n",
       "      <td>9947.809647</td>\n",
       "      <td>154.288452</td>\n",
       "      <td>1439.492798</td>\n",
       "      <td>497.390482</td>\n",
       "      <td>290.675544</td>\n",
       "    </tr>\n",
       "  </tbody>\n",
       "</table>\n",
       "</div>"
      ],
      "text/plain": [
       "                      total           min           max          mean  \\\n",
       "RUN            14887.208008  14887.208008  14887.208008  14887.208008   \n",
       "EPOCH          14886.565430  14886.565430  14886.565430  14886.565430   \n",
       "ITERATION      12767.729828    197.882812   1525.902954    638.386491   \n",
       "FORWARD         2818.023119     31.625216    395.386108    140.901156   \n",
       "PREPARE_BATCH   1911.880860      0.110432   1246.414429     95.594043   \n",
       "POST_PROCESS    9947.809647    154.288452   1439.492798    497.390482   \n",
       "\n",
       "                      std  \n",
       "RUN              0.000000  \n",
       "EPOCH            0.000000  \n",
       "ITERATION      330.007713  \n",
       "FORWARD         91.580818  \n",
       "PREPARE_BATCH  285.658080  \n",
       "POST_PROCESS   290.675544  "
      ]
     },
     "execution_count": 14,
     "metadata": {},
     "output_type": "execute_result"
    }
   ],
   "source": [
    "trt32_timer.print_results()"
   ]
  },
  {
   "cell_type": "code",
   "execution_count": null,
   "metadata": {},
   "outputs": [],
   "source": [
    "trt16_parser = get_parser(meta_config, inference_config)\n",
    "trt16_parser[\"dataset_dir\"] = data_root\n",
    "trt16_parser[\"bundle_root\"] = \"./spleen_ct_segmentation\"\n",
    "\n",
    "# Use torch.jit.load to load the jit model\n",
    "trt16_parser[net_id] = f\"$torch.jit.load('{trt_fp16_model_path}')\"\n",
    "del_ckpt_loader(trt16_parser)\n",
    "trt16_evaluator = trt16_parser.get_parsed_content(\"evaluator\")\n",
    "trt16_evaluator.amp = False\n",
    "trt16_timer = TimerHandler()\n",
    "trt16_timer.attach(trt16_evaluator)\n",
    "trt16_evaluator.run()"
   ]
  },
  {
   "cell_type": "code",
   "execution_count": 16,
   "metadata": {},
   "outputs": [
    {
     "data": {
      "text/html": [
       "<div>\n",
       "<style scoped>\n",
       "    .dataframe tbody tr th:only-of-type {\n",
       "        vertical-align: middle;\n",
       "    }\n",
       "\n",
       "    .dataframe tbody tr th {\n",
       "        vertical-align: top;\n",
       "    }\n",
       "\n",
       "    .dataframe thead th {\n",
       "        text-align: right;\n",
       "    }\n",
       "</style>\n",
       "<table border=\"1\" class=\"dataframe\">\n",
       "  <thead>\n",
       "    <tr style=\"text-align: right;\">\n",
       "      <th></th>\n",
       "      <th>total</th>\n",
       "      <th>min</th>\n",
       "      <th>max</th>\n",
       "      <th>mean</th>\n",
       "      <th>std</th>\n",
       "    </tr>\n",
       "  </thead>\n",
       "  <tbody>\n",
       "    <tr>\n",
       "      <th>RUN</th>\n",
       "      <td>14471.375977</td>\n",
       "      <td>14471.375977</td>\n",
       "      <td>14471.375977</td>\n",
       "      <td>14471.375977</td>\n",
       "      <td>0.000000</td>\n",
       "    </tr>\n",
       "    <tr>\n",
       "      <th>EPOCH</th>\n",
       "      <td>14470.673828</td>\n",
       "      <td>14470.673828</td>\n",
       "      <td>14470.673828</td>\n",
       "      <td>14470.673828</td>\n",
       "      <td>0.000000</td>\n",
       "    </tr>\n",
       "    <tr>\n",
       "      <th>ITERATION</th>\n",
       "      <td>12258.244522</td>\n",
       "      <td>211.827682</td>\n",
       "      <td>1488.819946</td>\n",
       "      <td>612.912226</td>\n",
       "      <td>318.903383</td>\n",
       "    </tr>\n",
       "    <tr>\n",
       "      <th>FORWARD</th>\n",
       "      <td>2144.390722</td>\n",
       "      <td>26.425344</td>\n",
       "      <td>312.285553</td>\n",
       "      <td>107.219536</td>\n",
       "      <td>71.360209</td>\n",
       "    </tr>\n",
       "    <tr>\n",
       "      <th>PREPARE_BATCH</th>\n",
       "      <td>1967.328625</td>\n",
       "      <td>0.097184</td>\n",
       "      <td>1322.364502</td>\n",
       "      <td>98.366431</td>\n",
       "      <td>299.984580</td>\n",
       "    </tr>\n",
       "    <tr>\n",
       "      <th>POST_PROCESS</th>\n",
       "      <td>10112.064972</td>\n",
       "      <td>178.233475</td>\n",
       "      <td>1424.767090</td>\n",
       "      <td>505.603249</td>\n",
       "      <td>289.172318</td>\n",
       "    </tr>\n",
       "  </tbody>\n",
       "</table>\n",
       "</div>"
      ],
      "text/plain": [
       "                      total           min           max          mean  \\\n",
       "RUN            14471.375977  14471.375977  14471.375977  14471.375977   \n",
       "EPOCH          14470.673828  14470.673828  14470.673828  14470.673828   \n",
       "ITERATION      12258.244522    211.827682   1488.819946    612.912226   \n",
       "FORWARD         2144.390722     26.425344    312.285553    107.219536   \n",
       "PREPARE_BATCH   1967.328625      0.097184   1322.364502     98.366431   \n",
       "POST_PROCESS   10112.064972    178.233475   1424.767090    505.603249   \n",
       "\n",
       "                      std  \n",
       "RUN              0.000000  \n",
       "EPOCH            0.000000  \n",
       "ITERATION      318.903383  \n",
       "FORWARD         71.360209  \n",
       "PREPARE_BATCH  299.984580  \n",
       "POST_PROCESS   289.172318  "
      ]
     },
     "execution_count": 16,
     "metadata": {},
     "output_type": "execute_result"
    }
   ],
   "source": [
    "trt16_timer.print_results()"
   ]
  }
 ],
 "metadata": {
  "kernelspec": {
   "display_name": "Python 3 (ipykernel)",
   "language": "python",
   "name": "python3"
  },
  "language_info": {
   "codemirror_mode": {
    "name": "ipython",
    "version": 3
   },
   "file_extension": ".py",
   "mimetype": "text/x-python",
   "name": "python",
   "nbconvert_exporter": "python",
   "pygments_lexer": "ipython3",
   "version": "3.8.10"
  },
  "vscode": {
   "interpreter": {
    "hash": "31f2aee4e71d21fbe5cf8b01ff0e069b9275f58929596ceb00d14d90e3e16cd6"
   }
  }
 },
 "nbformat": 4,
 "nbformat_minor": 4
}
