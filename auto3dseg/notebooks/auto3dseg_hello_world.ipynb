{
 "cells": [
  {
   "cell_type": "markdown",
   "metadata": {},
   "source": [
    "# MONAI Auto3Dseg \"Hello World\" Example\n",
    "\n",
    "In this notebook, we will provide a simple demonstration of how to use Auto3Dseg AutoRunner to process a simulated datasets and generate results within minutes.\n",
    "\n",
    "## 1. Set up environment, imports and datasets"
   ]
  },
  {
   "cell_type": "markdown",
   "metadata": {},
   "source": [
    "### 1.1 Set up Environment"
   ]
  },
  {
   "cell_type": "code",
   "execution_count": 1,
   "metadata": {},
   "outputs": [],
   "source": [
    "!python -c \"import monai\" || pip install -q \"monai-weekly[nibabel]\""
   ]
  },
  {
   "cell_type": "markdown",
   "metadata": {},
   "source": [
    "### 1.2 Set up imports"
   ]
  },
  {
   "cell_type": "code",
   "execution_count": 2,
   "metadata": {},
   "outputs": [
    {
     "name": "stderr",
     "output_type": "stream",
     "text": [
      "/opt/conda/lib/python3.8/site-packages/tqdm/auto.py:22: TqdmWarning: IProgress not found. Please update jupyter and ipywidgets. See https://ipywidgets.readthedocs.io/en/stable/user_install.html\n",
      "  from .autonotebook import tqdm as notebook_tqdm\n"
     ]
    }
   ],
   "source": [
    "import os\n",
    "import json\n",
    "import nibabel as nib\n",
    "import numpy as np\n",
    "import matplotlib.pyplot as plt\n",
    "\n",
    "from monai.apps.auto3dseg import AutoRunner\n",
    "from monai.data import create_test_image_3d"
   ]
  },
  {
   "cell_type": "markdown",
   "metadata": {},
   "source": [
    "### 1.3 Simulate a special datasets\n",
    "\n",
    "It is well known that AI takes time to train. To provide the \"Hello World!\" experience of Auto3D in this notebook, we will simulate a small datasets and run trainings only for multiple epocs. Due to the nature of AI, the performance shouldn't be highly expected, but the entire pipeline will be completed within minutes!\n",
    "\n",
    "`sim_datalist` provides the information of the simulated datasets. It lists 12 training and 2 testing images and labels. The training data are split into 3 folds. Each fold will use 8 images to train and 4 images to validate. The size of the dimension is defined by the `sim_dim` ."
   ]
  },
  {
   "cell_type": "code",
   "execution_count": 3,
   "metadata": {},
   "outputs": [],
   "source": [
    "sim_datalist = {\n",
    "    \"testing\": [\n",
    "        {\"image\": \"test_image_001.nii.gz\", \"label\": \"test_label_001.nii.gz\"},\n",
    "        {\"image\": \"test_image_002.nii.gz\", \"label\": \"test_label_002.nii.gz\"},\n",
    "    ],\n",
    "    \"training\": [\n",
    "        {\"fold\": 0, \"image\": \"tr_image_001.nii.gz\", \"label\": \"tr_label_001.nii.gz\"},\n",
    "        {\"fold\": 0, \"image\": \"tr_image_002.nii.gz\", \"label\": \"tr_label_002.nii.gz\"},\n",
    "        {\"fold\": 0, \"image\": \"tr_image_003.nii.gz\", \"label\": \"tr_label_003.nii.gz\"},\n",
    "        {\"fold\": 0, \"image\": \"tr_image_004.nii.gz\", \"label\": \"tr_label_004.nii.gz\"},\n",
    "        {\"fold\": 1, \"image\": \"tr_image_005.nii.gz\", \"label\": \"tr_label_005.nii.gz\"},\n",
    "        {\"fold\": 1, \"image\": \"tr_image_006.nii.gz\", \"label\": \"tr_label_006.nii.gz\"},\n",
    "        {\"fold\": 1, \"image\": \"tr_image_007.nii.gz\", \"label\": \"tr_label_007.nii.gz\"},\n",
    "        {\"fold\": 1, \"image\": \"tr_image_008.nii.gz\", \"label\": \"tr_label_008.nii.gz\"},\n",
    "        {\"fold\": 2, \"image\": \"tr_image_009.nii.gz\", \"label\": \"tr_label_009.nii.gz\"},\n",
    "        {\"fold\": 2, \"image\": \"tr_image_010.nii.gz\", \"label\": \"tr_label_010.nii.gz\"},\n",
    "        {\"fold\": 2, \"image\": \"tr_image_011.nii.gz\", \"label\": \"tr_label_011.nii.gz\"},\n",
    "        {\"fold\": 2, \"image\": \"tr_image_012.nii.gz\", \"label\": \"tr_label_012.nii.gz\"},\n",
    "    ],\n",
    "}\n",
    "\n",
    "sim_dim = (64, 64, 64)"
   ]
  },
  {
   "cell_type": "markdown",
   "metadata": {},
   "source": [
    "### 1.4 Generate images and labels\n",
    "\n",
    "Now we can use MONAI `create_test_image_3d` and `nib.Nifti1Image` functions to generate the 3D simulated images under the work_dir"
   ]
  },
  {
   "cell_type": "code",
   "execution_count": 4,
   "metadata": {},
   "outputs": [],
   "source": [
    "work_dir = \"./helloworld_work_dir\"\n",
    "if not os.path.isdir(work_dir):\n",
    "    os.makedirs(work_dir)\n",
    "\n",
    "dataroot_dir = os.path.join(work_dir, \"sim_dataroot\")\n",
    "if not os.path.isdir(dataroot_dir):\n",
    "    os.makedirs(dataroot_dir)\n",
    "\n",
    "datalist_file = os.path.join(work_dir, \"sim_datalist.json\")\n",
    "with open(datalist_file, 'w') as f:\n",
    "    json.dump(sim_datalist, f)\n",
    "\n",
    "for d in sim_datalist[\"testing\"] + sim_datalist[\"training\"]:\n",
    "    im, seg = create_test_image_3d(\n",
    "        sim_dim[0], sim_dim[1], sim_dim[2], rad_max=10, num_seg_classes=1, random_state=np.random.RandomState(42)\n",
    "    )\n",
    "    image_fpath = os.path.join(dataroot_dir, d[\"image\"])\n",
    "    label_fpath = os.path.join(dataroot_dir, d[\"label\"])\n",
    "    nib.save(nib.Nifti1Image(im, affine=np.eye(4)), image_fpath)\n",
    "    nib.save(nib.Nifti1Image(seg, affine=np.eye(4)), label_fpath)"
   ]
  },
  {
   "cell_type": "markdown",
   "metadata": {},
   "source": [
    "### 1.5 Inspect the simulated data\n",
    "\n",
    "Here we picked a slice of the 3D image in the test datasets to get an idea of the simulation"
   ]
  },
  {
   "cell_type": "code",
   "execution_count": 5,
   "metadata": {},
   "outputs": [
    {
     "data": {
      "image/png": "[encoded data removed]",
      "text/plain": [
       "<Figure size 432x288 with 4 Axes>"
      ]
     },
     "metadata": {
      "needs_background": "light"
     },
     "output_type": "display_data"
    }
   ],
   "source": [
    "img_nib = nib.load(os.path.join(dataroot_dir, sim_datalist['testing'][0]['image']))\n",
    "lbl_nib = nib.load(os.path.join(dataroot_dir, sim_datalist['testing'][0]['label']))\n",
    "img = np.array(img_nib.dataobj)\n",
    "lbl = np.array(lbl_nib.dataobj)\n",
    "plt.subplot(1, 2, 1)\n",
    "plt.imshow(img[32])\n",
    "plt.title('image')\n",
    "cbar = plt.colorbar(shrink=0.55)\n",
    "plt.subplot(1, 2, 2)\n",
    "plt.imshow(lbl[32])\n",
    "plt.title('label')\n",
    "cbar = plt.colorbar(shrink=0.55)\n"
   ]
  },
  {
   "cell_type": "markdown",
   "metadata": {},
   "source": [
    "## 2. Test the Auto3DSeg AutoRunner pipeline\n",
    "\n",
    "AutoRunner provides an interface to run the Auot3Dseg pipeline. It will automatically configure four different neural networks and perform multi-fold training to achieve the state-of-the-art performance. The module is highly configurable, but only requires minimal user inputs. In this example, we want to complete the piepline in two minutes, so we need to have some customizations\n",
    "\n",
    "### 2.1 Set up the AutoRunner with default settings"
   ]
  },
  {
   "cell_type": "code",
   "execution_count": 6,
   "metadata": {},
   "outputs": [
    {
     "name": "stdout",
     "output_type": "stream",
     "text": [
      "2022-09-22 03:35:21,886 - INFO - Work directory ./auto3dseg_work_dir is used to save all results\n",
      "2022-09-22 03:35:21,895 - INFO - The output_dir is not specified. /workspace/monai/tutorials-in-dev/auto3dseg/notebooks/auto3dseg_work_dir/ensemble_output will be used to save ensemble predictions\n",
      "2022-09-22 03:35:21,897 - INFO - Directory /workspace/monai/tutorials-in-dev/auto3dseg/notebooks/auto3dseg_work_dir/ensemble_output is created to save ensemble predictions\n"
     ]
    }
   ],
   "source": [
    "runner = AutoRunner(\n",
    "    work_dir=work_dir,\n",
    "    input={\n",
    "        \"modality\": \"MRI\",\n",
    "        \"datalist\": datalist_file,\n",
    "        \"dataroot\": dataroot_dir,\n",
    "    }\n",
    ")\n",
    "# runner.run() # this will use the default settings and take hours/ to run "
   ]
  },
  {
   "cell_type": "markdown",
   "metadata": {},
   "source": [
    "### 2.2 Override the training parameters so that we can complete the pipeline in minutes"
   ]
  },
  {
   "cell_type": "code",
   "execution_count": 7,
   "metadata": {},
   "outputs": [],
   "source": [
    "max_epochs = 2\n",
    "\n",
    "# safeguard to ensure max_epochs is greater or equal to 2\n",
    "max_epochs = max(max_epochs, 2)\n",
    "\n",
    "train_param = {\n",
    "    \"CUDA_VISIBLE_DEVICES\": [0],  # use only 1 gpu\n",
    "    \"num_iterations\": 4 * max_epochs,\n",
    "    \"num_iterations_per_validation\": 2 * max_epochs,\n",
    "    \"num_images_per_batch\": 2,\n",
    "    \"num_epochs\": max_epochs,\n",
    "    \"num_warmup_iterations\": 2 * max_epochs,\n",
    "}\n",
    "runner.set_training_params(train_param)\n",
    "runner.set_num_fold(num_fold=1)"
   ]
  },
  {
   "cell_type": "markdown",
   "metadata": {},
   "source": [
    "### 2.3 Start the data anlaysis, algorithm generation, training, and model ensemble"
   ]
  },
  {
   "cell_type": "code",
   "execution_count": 8,
   "metadata": {},
   "outputs": [
    {
     "name": "stderr",
     "output_type": "stream",
     "text": [
      "100%|██████████| 12/12 [00:02<00:00,  4.84it/s]\n",
      "algo_templates.tar.gz: 100%|██████████| 280k/280k [00:00<00:00, 382kB/s]  "
     ]
    },
    {
     "name": "stdout",
     "output_type": "stream",
     "text": [
      "2022-09-22 03:35:29,243 - INFO - Downloaded: /tmp/tmpvkd67w4k/algo_templates.tar.gz\n",
      "2022-09-22 03:35:29,245 - INFO - Expected md5 is None, skip md5 check for file /tmp/tmpvkd67w4k/algo_templates.tar.gz.\n",
      "2022-09-22 03:35:29,247 - INFO - Writing into directory: /workspace/monai/tutorials-in-dev/auto3dseg/notebooks/auto3dseg_work_dir.\n"
     ]
    },
    {
     "name": "stderr",
     "output_type": "stream",
     "text": [
      "\n"
     ]
    },
    {
     "name": "stdout",
     "output_type": "stream",
     "text": [
      "2022-09-22 03:35:29,440 - INFO - /workspace/monai/tutorials-in-dev/auto3dseg/notebooks/auto3dseg_work_dir/segresnet2d_0\n",
      "2022-09-22 03:35:29,646 - INFO - /workspace/monai/tutorials-in-dev/auto3dseg/notebooks/auto3dseg_work_dir/dints_0\n",
      "2022-09-22 03:35:29,761 - INFO - /workspace/monai/tutorials-in-dev/auto3dseg/notebooks/auto3dseg_work_dir/swinunetr_0\n",
      "2022-09-22 03:35:29,885 - INFO - /workspace/monai/tutorials-in-dev/auto3dseg/notebooks/auto3dseg_work_dir/segresnet_0\n",
      "2022-09-22 03:35:29,886 - INFO - Launching: python /workspace/monai/tutorials-in-dev/auto3dseg/notebooks/auto3dseg_work_dir/segresnet_0/scripts/train.py run --config_file='/workspace/monai/tutorials-in-dev/auto3dseg/notebooks/auto3dseg_work_dir/segresnet_0/configs/transforms_validate.yaml','/workspace/monai/tutorials-in-dev/auto3dseg/notebooks/auto3dseg_work_dir/segresnet_0/configs/transforms_train.yaml','/workspace/monai/tutorials-in-dev/auto3dseg/notebooks/auto3dseg_work_dir/segresnet_0/configs/transforms_infer.yaml','/workspace/monai/tutorials-in-dev/auto3dseg/notebooks/auto3dseg_work_dir/segresnet_0/configs/network.yaml','/workspace/monai/tutorials-in-dev/auto3dseg/notebooks/auto3dseg_work_dir/segresnet_0/configs/hyper_parameters.yaml' --num_iterations=8 --num_iterations_per_validation=4 --num_images_per_batch=2 --num_epochs=2 --num_warmup_iterations=4\n",
      "2022-09-22 03:35:35,964 - INFO - CompletedProcess(args=['python', '/workspace/monai/tutorials-in-dev/auto3dseg/notebooks/auto3dseg_work_dir/segresnet_0/scripts/train.py', 'run', \"--config_file='/workspace/monai/tutorials-in-dev/auto3dseg/notebooks/auto3dseg_work_dir/segresnet_0/configs/transforms_validate.yaml','/workspace/monai/tutorials-in-dev/auto3dseg/notebooks/auto3dseg_work_dir/segresnet_0/configs/transforms_train.yaml','/workspace/monai/tutorials-in-dev/auto3dseg/notebooks/auto3dseg_work_dir/segresnet_0/configs/transforms_infer.yaml','/workspace/monai/tutorials-in-dev/auto3dseg/notebooks/auto3dseg_work_dir/segresnet_0/configs/network.yaml','/workspace/monai/tutorials-in-dev/auto3dseg/notebooks/auto3dseg_work_dir/segresnet_0/configs/hyper_parameters.yaml'\", '--num_iterations=8', '--num_iterations_per_validation=4', '--num_images_per_batch=2', '--num_epochs=2', '--num_warmup_iterations=4'], returncode=0, stdout=b\"[info] number of GPUs: 1\n",
      "[info] world_size: 1\n",
      "train_files: 8\n",
      "val_files: 4\n",
      "num_epochs 2\n",
      "num_epochs_per_validation 1\n",
      "[info] training from scratch\n",
      "[info] amp enabled\n",
      "----------\n",
      "epoch 1/2\n",
      "learning rate is set to 2e-05\n",
      "[2022-09-22 03:35:33] 1/4, train_loss: 1.2582\n",
      "[2022-09-22 03:35:33] 2/4, train_loss: 1.2323\n",
      "[2022-09-22 03:35:33] 3/4, train_loss: 1.0489\n",
      "[2022-09-22 03:35:33] 4/4, train_loss: 1.0692\n",
      "epoch 1 average loss: 1.1521, best mean dice: -1.0000 at epoch -1\n",
      "1 / 4 tensor([[0.6500]], device='cuda:0')\n",
      "2 / 4 tensor([[0.6500]], device='cuda:0')\n",
      "3 / 4 tensor([[0.6500]], device='cuda:0')\n",
      "4 / 4 tensor([[0.6500]], device='cuda:0')\n",
      "evaluation metric - class 1: 0.6500166058540344\n",
      "avg_metric 0.6500166058540344\n",
      "saved new best metric model\n",
      "current epoch: 1 current mean dice: 0.6500 best mean dice: 0.6500 at epoch 1\n",
      "----------\n",
      "epoch 2/2\n",
      "learning rate is set to 0.0\n",
      "[2022-09-22 03:35:34] 1/4, train_loss: 0.9847\n",
      "[2022-09-22 03:35:34] 2/4, train_loss: 0.9677\n",
      "[2022-09-22 03:35:34] 3/4, train_loss: 0.9508\n",
      "[2022-09-22 03:35:34] 4/4, train_loss: 0.9461\n",
      "epoch 2 average loss: 0.9623, best mean dice: 0.6500 at epoch 1\n",
      "1 / 4 tensor([[0.6691]], device='cuda:0')\n",
      "2 / 4 tensor([[0.6691]], device='cuda:0')\n",
      "3 / 4 tensor([[0.6691]], device='cuda:0')\n",
      "4 / 4 tensor([[0.6691]], device='cuda:0')\n",
      "evaluation metric - class 1: 0.6691252589225769\n",
      "avg_metric 0.6691252589225769\n",
      "saved new best metric model\n",
      "current epoch: 2 current mean dice: 0.6691 best mean dice: 0.6691 at epoch 2\n",
      "train completed, best_metric: 0.6691 at epoch: 2\n",
      "0.6691252589225769\n",
      "\", stderr=b'')\n",
      "2022-09-22 03:35:35,972 - INFO - Launching: python /workspace/monai/tutorials-in-dev/auto3dseg/notebooks/auto3dseg_work_dir/swinunetr_0/scripts/train.py run --config_file='/workspace/monai/tutorials-in-dev/auto3dseg/notebooks/auto3dseg_work_dir/swinunetr_0/configs/transforms_validate.yaml','/workspace/monai/tutorials-in-dev/auto3dseg/notebooks/auto3dseg_work_dir/swinunetr_0/configs/transforms_train.yaml','/workspace/monai/tutorials-in-dev/auto3dseg/notebooks/auto3dseg_work_dir/swinunetr_0/configs/transforms_infer.yaml','/workspace/monai/tutorials-in-dev/auto3dseg/notebooks/auto3dseg_work_dir/swinunetr_0/configs/network.yaml','/workspace/monai/tutorials-in-dev/auto3dseg/notebooks/auto3dseg_work_dir/swinunetr_0/configs/hyper_parameters.yaml' --num_iterations=8 --num_iterations_per_validation=4 --num_images_per_batch=2 --num_epochs=2 --num_warmup_iterations=4\n",
      "2022-09-22 03:35:42,971 - INFO - CompletedProcess(args=['python', '/workspace/monai/tutorials-in-dev/auto3dseg/notebooks/auto3dseg_work_dir/swinunetr_0/scripts/train.py', 'run', \"--config_file='/workspace/monai/tutorials-in-dev/auto3dseg/notebooks/auto3dseg_work_dir/swinunetr_0/configs/transforms_validate.yaml','/workspace/monai/tutorials-in-dev/auto3dseg/notebooks/auto3dseg_work_dir/swinunetr_0/configs/transforms_train.yaml','/workspace/monai/tutorials-in-dev/auto3dseg/notebooks/auto3dseg_work_dir/swinunetr_0/configs/transforms_infer.yaml','/workspace/monai/tutorials-in-dev/auto3dseg/notebooks/auto3dseg_work_dir/swinunetr_0/configs/network.yaml','/workspace/monai/tutorials-in-dev/auto3dseg/notebooks/auto3dseg_work_dir/swinunetr_0/configs/hyper_parameters.yaml'\", '--num_iterations=8', '--num_iterations_per_validation=4', '--num_images_per_batch=2', '--num_epochs=2', '--num_warmup_iterations=4'], returncode=0, stdout=b\"[info] number of GPUs: 1\n",
      "[info] world_size: 1\n",
      "train_files: 8\n",
      "val_files: 4\n",
      "num_epochs 2\n",
      "num_epochs_per_validation 1\n",
      "[info] training from scratch\n",
      "[info] amp enabled\n",
      "----------\n",
      "epoch 1/2\n",
      "learning rate is set to 0.0001\n",
      "[2022-09-22 03:35:39] 1/4, train_loss: 1.1162\n",
      "[2022-09-22 03:35:40] 2/4, train_loss: 0.9896\n",
      "[2022-09-22 03:35:40] 3/4, train_loss: 0.9468\n",
      "[2022-09-22 03:35:40] 4/4, train_loss: 0.9314\n",
      "epoch 1 average loss: 0.9960, best mean dice: -1.0000 at epoch -1\n",
      "1 / 4 tensor([[0.6473]], device='cuda:0')\n",
      "2 / 4 tensor([[0.6473]], device='cuda:0')\n",
      "3 / 4 tensor([[0.6473]], device='cuda:0')\n",
      "4 / 4 tensor([[0.6473]], device='cuda:0')\n",
      "evaluation metric - class 1: 0.6472799777984619\n",
      "avg_metric 0.6472799777984619\n",
      "saved new best metric model\n",
      "current epoch: 1 current mean dice: 0.6473 best mean dice: 0.6473 at epoch 1\n",
      "----------\n",
      "epoch 2/2\n",
      "learning rate is set to 6.25e-06\n",
      "[2022-09-22 03:35:41] 1/4, train_loss: 0.9178\n",
      "[2022-09-22 03:35:41] 2/4, train_loss: 0.9157\n",
      "[2022-09-22 03:35:41] 3/4, train_loss: 0.9099\n",
      "[2022-09-22 03:35:41] 4/4, train_loss: 0.9090\n",
      "epoch 2 average loss: 0.9131, best mean dice: 0.6473 at epoch 1\n",
      "1 / 4 tensor([[0.6537]], device='cuda:0')\n",
      "2 / 4 tensor([[0.6537]], device='cuda:0')\n",
      "3 / 4 tensor([[0.6537]], device='cuda:0')\n",
      "4 / 4 tensor([[0.6537]], device='cuda:0')\n",
      "evaluation metric - class 1: 0.6537249088287354\n",
      "avg_metric 0.6537249088287354\n",
      "saved new best metric model\n",
      "current epoch: 2 current mean dice: 0.6537 best mean dice: 0.6537 at epoch 2\n",
      "train completed, best_metric: 0.6537 at epoch: 2\n",
      "0.6537249088287354\n",
      "\", stderr=b'')\n",
      "2022-09-22 03:35:42,978 - INFO - Launching: python /workspace/monai/tutorials-in-dev/auto3dseg/notebooks/auto3dseg_work_dir/dints_0/scripts/search.py run --config_file='/workspace/monai/tutorials-in-dev/auto3dseg/notebooks/auto3dseg_work_dir/dints_0/configs/transforms_validate.yaml','/workspace/monai/tutorials-in-dev/auto3dseg/notebooks/auto3dseg_work_dir/dints_0/configs/transforms_train.yaml','/workspace/monai/tutorials-in-dev/auto3dseg/notebooks/auto3dseg_work_dir/dints_0/configs/transforms_infer.yaml','/workspace/monai/tutorials-in-dev/auto3dseg/notebooks/auto3dseg_work_dir/dints_0/configs/hyper_parameters_search.yaml','/workspace/monai/tutorials-in-dev/auto3dseg/notebooks/auto3dseg_work_dir/dints_0/configs/network.yaml','/workspace/monai/tutorials-in-dev/auto3dseg/notebooks/auto3dseg_work_dir/dints_0/configs/network_search.yaml','/workspace/monai/tutorials-in-dev/auto3dseg/notebooks/auto3dseg_work_dir/dints_0/configs/hyper_parameters.yaml' --searching#num_iterations=8 --searching#num_iterations_per_validation=4 --searching#num_images_per_batch=2 --searching#num_epochs=2 --searching#num_warmup_iterations=4\n",
      "2022-09-22 03:36:10,957 - INFO - CompletedProcess(args=['python', '/workspace/monai/tutorials-in-dev/auto3dseg/notebooks/auto3dseg_work_dir/dints_0/scripts/search.py', 'run', \"--config_file='/workspace/monai/tutorials-in-dev/auto3dseg/notebooks/auto3dseg_work_dir/dints_0/configs/transforms_validate.yaml','/workspace/monai/tutorials-in-dev/auto3dseg/notebooks/auto3dseg_work_dir/dints_0/configs/transforms_train.yaml','/workspace/monai/tutorials-in-dev/auto3dseg/notebooks/auto3dseg_work_dir/dints_0/configs/transforms_infer.yaml','/workspace/monai/tutorials-in-dev/auto3dseg/notebooks/auto3dseg_work_dir/dints_0/configs/hyper_parameters_search.yaml','/workspace/monai/tutorials-in-dev/auto3dseg/notebooks/auto3dseg_work_dir/dints_0/configs/network.yaml','/workspace/monai/tutorials-in-dev/auto3dseg/notebooks/auto3dseg_work_dir/dints_0/configs/network_search.yaml','/workspace/monai/tutorials-in-dev/auto3dseg/notebooks/auto3dseg_work_dir/dints_0/configs/hyper_parameters.yaml'\", '--searching#num_iterations=8', '--searching#num_iterations_per_validation=4', '--searching#num_images_per_batch=2', '--searching#num_epochs=2', '--searching#num_warmup_iterations=4'], returncode=0, stdout=b\"[info] number of GPUs: 1\n",
      "[info] world_size: 1\n",
      "train_files_w: 4\n",
      "train_files_a: 4\n",
      "val_files: 4\n",
      "num_epochs 4\n",
      "num_epochs_warmup 2\n",
      "num_epochs_per_validation 2\n",
      "[info] amp enabled\n",
      "----------\n",
      "epoch 1/4\n",
      "learning rate is set to 0.025\n",
      "[2022-09-22 03:35:48] 1/2, train_loss: 0.8420\n",
      "[2022-09-22 03:35:49] 2/2, train_loss: 0.8201\n",
      "epoch 1 average loss: 0.8310, best mean dice: -1.0000 at epoch -1\n",
      "----------\n",
      "epoch 2/4\n",
      "learning rate is set to 0.025\n",
      "[2022-09-22 03:35:50] 1/2, train_loss: 0.8137\n",
      "[2022-09-22 03:35:50] 2/2, train_loss: 0.8127\n",
      "epoch 2 average loss: 0.8132, best mean dice: -1.0000 at epoch -1\n",
      "1 / 4 tensor([[0.1347]], device='cuda:0')\n",
      "2 / 4 tensor([[0.1347]], device='cuda:0')\n",
      "3 / 4 tensor([[0.1347]], device='cuda:0')\n",
      "4 / 4 tensor([[0.1347]], device='cuda:0')\n",
      "evaluation metric - class 1: 0.13466915488243103\n",
      "avg_metric 0.13466915488243103\n",
      "saved new best metric model\n",
      "current epoch: 2 current mean dice: 0.1347 best mean dice: 0.1347 at epoch 2\n",
      "----------\n",
      "epoch 3/4\n",
      "learning rate is set to 0.025\n",
      "[2022-09-22 03:35:58] 1/2, train_loss: 0.7776\n",
      "[2022-09-22 03:35:59] 1/2, train_loss_arch: 0.7652\n",
      "[2022-09-22 03:36:00] 2/2, train_loss: 0.7906\n",
      "[2022-09-22 03:36:00] 2/2, train_loss_arch: 0.7980\n",
      "epoch 3 average loss: 0.7841, best mean dice: 0.1347 at epoch 2\n",
      "epoch 3 average arch loss: 0.7816, best mean dice: 0.1347 at epoch 2\n",
      "----------\n",
      "epoch 4/4\n",
      "learning rate is set to 0.00625\n",
      "[2022-09-22 03:36:01] 1/2, train_loss: 0.7761\n",
      "[2022-09-22 03:36:02] 1/2, train_loss_arch: 1.1109\n",
      "[2022-09-22 03:36:03] 2/2, train_loss: 0.7981\n",
      "[2022-09-22 03:36:03] 2/2, train_loss_arch: 1.0805\n",
      "epoch 4 average loss: 0.7871, best mean dice: 0.1347 at epoch 2\n",
      "epoch 4 average arch loss: 1.0957, best mean dice: 0.1347 at epoch 2\n",
      "1 / 4 tensor([[0.1877]], device='cuda:0')\n",
      "2 / 4 tensor([[0.1877]], device='cuda:0')\n",
      "3 / 4 tensor([[0.1877]], device='cuda:0')\n",
      "4 / 4 tensor([[0.1877]], device='cuda:0')\n",
      "evaluation metric - class 1: 0.18768733739852905\n",
      "avg_metric 0.18768733739852905\n",
      "saved new best metric model\n",
      "current epoch: 4 current mean dice: 0.1877 best mean dice: 0.1877 at epoch 4\n",
      "train completed, best_metric: 0.1877 at epoch: 4\n",
      "\", stderr=b'')\n",
      "2022-09-22 03:36:10,958 - INFO - Launching: python /workspace/monai/tutorials-in-dev/auto3dseg/notebooks/auto3dseg_work_dir/dints_0/scripts/train.py run --config_file='/workspace/monai/tutorials-in-dev/auto3dseg/notebooks/auto3dseg_work_dir/dints_0/configs/transforms_validate.yaml','/workspace/monai/tutorials-in-dev/auto3dseg/notebooks/auto3dseg_work_dir/dints_0/configs/transforms_train.yaml','/workspace/monai/tutorials-in-dev/auto3dseg/notebooks/auto3dseg_work_dir/dints_0/configs/transforms_infer.yaml','/workspace/monai/tutorials-in-dev/auto3dseg/notebooks/auto3dseg_work_dir/dints_0/configs/hyper_parameters_search.yaml','/workspace/monai/tutorials-in-dev/auto3dseg/notebooks/auto3dseg_work_dir/dints_0/configs/network.yaml','/workspace/monai/tutorials-in-dev/auto3dseg/notebooks/auto3dseg_work_dir/dints_0/configs/network_search.yaml','/workspace/monai/tutorials-in-dev/auto3dseg/notebooks/auto3dseg_work_dir/dints_0/configs/hyper_parameters.yaml' --training#num_iterations=8 --training#num_iterations_per_validation=4 --training#num_images_per_batch=2 --training#num_epochs=2 --training#num_warmup_iterations=4\n",
      "2022-09-22 03:36:21,254 - INFO - CompletedProcess(args=['python', '/workspace/monai/tutorials-in-dev/auto3dseg/notebooks/auto3dseg_work_dir/dints_0/scripts/train.py', 'run', \"--config_file='/workspace/monai/tutorials-in-dev/auto3dseg/notebooks/auto3dseg_work_dir/dints_0/configs/transforms_validate.yaml','/workspace/monai/tutorials-in-dev/auto3dseg/notebooks/auto3dseg_work_dir/dints_0/configs/transforms_train.yaml','/workspace/monai/tutorials-in-dev/auto3dseg/notebooks/auto3dseg_work_dir/dints_0/configs/transforms_infer.yaml','/workspace/monai/tutorials-in-dev/auto3dseg/notebooks/auto3dseg_work_dir/dints_0/configs/hyper_parameters_search.yaml','/workspace/monai/tutorials-in-dev/auto3dseg/notebooks/auto3dseg_work_dir/dints_0/configs/network.yaml','/workspace/monai/tutorials-in-dev/auto3dseg/notebooks/auto3dseg_work_dir/dints_0/configs/network_search.yaml','/workspace/monai/tutorials-in-dev/auto3dseg/notebooks/auto3dseg_work_dir/dints_0/configs/hyper_parameters.yaml'\", '--training#num_iterations=8', '--training#num_iterations_per_validation=4', '--training#num_images_per_batch=2', '--training#num_epochs=2', '--training#num_warmup_iterations=4'], returncode=0, stdout=b\"[info] number of GPUs: 1\n",
      "[info] world_size: 1\n",
      "train_files: 8\n",
      "val_files: 4\n",
      "num_epochs 2\n",
      "num_epochs_per_validation 1\n",
      "[info] training from scratch\n",
      "[info] amp enabled\n",
      "----------\n",
      "epoch 1/2\n",
      "learning rate is set to 0.2\n",
      "[2022-09-22 03:36:15] 1/4, train_loss: 0.7647\n",
      "[2022-09-22 03:36:16] 2/4, train_loss: 0.6694\n",
      "[2022-09-22 03:36:16] 3/4, train_loss: 0.6844\n",
      "[2022-09-22 03:36:16] 4/4, train_loss: 0.6755\n",
      "epoch 1 average loss: 0.6985, best mean dice: -1.0000 at epoch -1\n",
      "1 / 4 tensor([[0.3745]], device='cuda:0')\n",
      "2 / 4 tensor([[0.3745]], device='cuda:0')\n",
      "3 / 4 tensor([[0.3745]], device='cuda:0')\n",
      "4 / 4 tensor([[0.3745]], device='cuda:0')\n",
      "evaluation metric - class 1: 0.3745383620262146\n",
      "avg_metric 0.3745383620262146\n",
      "saved new best metric model\n",
      "current epoch: 1 current mean dice: 0.3745 best mean dice: 0.3745 at epoch 1\n",
      "----------\n",
      "epoch 2/2\n",
      "learning rate is set to 0.0125\n",
      "[2022-09-22 03:36:18] 1/4, train_loss: 0.6489\n",
      "[2022-09-22 03:36:18] 2/4, train_loss: 0.6701\n",
      "[2022-09-22 03:36:19] 3/4, train_loss: 0.6609\n",
      "[2022-09-22 03:36:19] 4/4, train_loss: 0.6555\n",
      "epoch 2 average loss: 0.6588, best mean dice: 0.3745 at epoch 1\n",
      "1 / 4 tensor([[0.3788]], device='cuda:0')\n",
      "2 / 4 tensor([[0.3788]], device='cuda:0')\n",
      "3 / 4 tensor([[0.3788]], device='cuda:0')\n",
      "4 / 4 tensor([[0.3788]], device='cuda:0')\n",
      "evaluation metric - class 1: 0.37883225083351135\n",
      "avg_metric 0.37883225083351135\n",
      "saved new best metric model\n",
      "current epoch: 2 current mean dice: 0.3788 best mean dice: 0.3788 at epoch 2\n",
      "train completed, best_metric: 0.3788 at epoch: 2\n",
      "0.37883225083351135\n",
      "\", stderr=b'')\n",
      "2022-09-22 03:36:21,261 - INFO - Launching: python /workspace/monai/tutorials-in-dev/auto3dseg/notebooks/auto3dseg_work_dir/segresnet2d_0/scripts/train.py run --config_file='/workspace/monai/tutorials-in-dev/auto3dseg/notebooks/auto3dseg_work_dir/segresnet2d_0/configs/transforms_validate.yaml','/workspace/monai/tutorials-in-dev/auto3dseg/notebooks/auto3dseg_work_dir/segresnet2d_0/configs/transforms_train.yaml','/workspace/monai/tutorials-in-dev/auto3dseg/notebooks/auto3dseg_work_dir/segresnet2d_0/configs/transforms_infer.yaml','/workspace/monai/tutorials-in-dev/auto3dseg/notebooks/auto3dseg_work_dir/segresnet2d_0/configs/network.yaml','/workspace/monai/tutorials-in-dev/auto3dseg/notebooks/auto3dseg_work_dir/segresnet2d_0/configs/hyper_parameters.yaml' --num_iterations=8 --num_iterations_per_validation=4 --num_images_per_batch=2 --num_epochs=2 --num_warmup_iterations=4\n",
      "2022-09-22 03:36:28,175 - INFO - CompletedProcess(args=['python', '/workspace/monai/tutorials-in-dev/auto3dseg/notebooks/auto3dseg_work_dir/segresnet2d_0/scripts/train.py', 'run', \"--config_file='/workspace/monai/tutorials-in-dev/auto3dseg/notebooks/auto3dseg_work_dir/segresnet2d_0/configs/transforms_validate.yaml','/workspace/monai/tutorials-in-dev/auto3dseg/notebooks/auto3dseg_work_dir/segresnet2d_0/configs/transforms_train.yaml','/workspace/monai/tutorials-in-dev/auto3dseg/notebooks/auto3dseg_work_dir/segresnet2d_0/configs/transforms_infer.yaml','/workspace/monai/tutorials-in-dev/auto3dseg/notebooks/auto3dseg_work_dir/segresnet2d_0/configs/network.yaml','/workspace/monai/tutorials-in-dev/auto3dseg/notebooks/auto3dseg_work_dir/segresnet2d_0/configs/hyper_parameters.yaml'\", '--num_iterations=8', '--num_iterations_per_validation=4', '--num_images_per_batch=2', '--num_epochs=2', '--num_warmup_iterations=4'], returncode=0, stdout=b\"[info] number of GPUs: 1\n",
      "[info] world_size: 1\n",
      "train_files: 8\n",
      "val_files: 4\n",
      "num_epochs 2\n",
      "num_epochs_per_validation 1\n",
      "[info] training from scratch\n",
      "[info] amp enabled\n",
      "----------\n",
      "epoch 1/2\n",
      "learning rate is set to 0.2\n",
      "[2022-09-22 03:36:24] 1/4, train_loss: 0.6866\n",
      "[2022-09-22 03:36:24] 2/4, train_loss: 0.6381\n",
      "[2022-09-22 03:36:24] 3/4, train_loss: 0.5376\n",
      "[2022-09-22 03:36:24] 4/4, train_loss: 0.5199\n",
      "epoch 1 average loss: 0.5955, best mean dice: -1.0000 at epoch -1\n",
      "1 / 4 tensor([[0.5086]], device='cuda:0')\n",
      "2 / 4 tensor([[0.5086]], device='cuda:0')\n",
      "3 / 4 tensor([[0.5086]], device='cuda:0')\n",
      "4 / 4 tensor([[0.5086]], device='cuda:0')\n",
      "evaluation metric - class 1: 0.5086382031440735\n",
      "avg_metric 0.5086382031440735\n",
      "saved new best metric model\n",
      "current epoch: 1 current mean dice: 0.5086 best mean dice: 0.5086 at epoch 1\n",
      "----------\n",
      "epoch 2/2\n",
      "learning rate is set to 0.0125\n",
      "[2022-09-22 03:36:26] 1/4, train_loss: 0.4617\n",
      "[2022-09-22 03:36:26] 2/4, train_loss: 0.4279\n",
      "[2022-09-22 03:36:26] 3/4, train_loss: 0.4322\n",
      "[2022-09-22 03:36:26] 4/4, train_loss: 0.4184\n",
      "epoch 2 average loss: 0.4350, best mean dice: 0.5086 at epoch 1\n",
      "1 / 4 tensor([[0.5543]], device='cuda:0')\n",
      "2 / 4 tensor([[0.5543]], device='cuda:0')\n",
      "3 / 4 tensor([[0.5543]], device='cuda:0')\n",
      "4 / 4 tensor([[0.5543]], device='cuda:0')\n",
      "evaluation metric - class 1: 0.5543338060379028\n",
      "avg_metric 0.5543338060379028\n",
      "saved new best metric model\n",
      "current epoch: 2 current mean dice: 0.5543 best mean dice: 0.5543 at epoch 2\n",
      "train completed, best_metric: 0.5543 at epoch: 2\n",
      "0.5543338060379028\n",
      "\", stderr=b'')\n",
      "0\n",
      "[info] checkpoint /workspace/monai/tutorials-in-dev/auto3dseg/notebooks/auto3dseg_work_dir/dints_0/model_fold0/best_metric_model.pt loaded\n",
      "2022-09-22 03:36:29,938 INFO image_writer.py:194 - writing: /workspace/monai/tutorials-in-dev/auto3dseg/notebooks/auto3dseg_work_dir/dints_0/prediction_testing/test_image_001/test_image_001_seg.nii.gz\n",
      "[info] checkpoint /workspace/monai/tutorials-in-dev/auto3dseg/notebooks/auto3dseg_work_dir/segresnet2d_0/model_fold0/best_metric_model.pt loaded\n",
      "2022-09-22 03:36:30,291 INFO image_writer.py:194 - writing: /workspace/monai/tutorials-in-dev/auto3dseg/notebooks/auto3dseg_work_dir/segresnet2d_0/prediction_testing/test_image_001/test_image_001_seg.nii.gz\n",
      "1\n",
      "[info] checkpoint /workspace/monai/tutorials-in-dev/auto3dseg/notebooks/auto3dseg_work_dir/dints_0/model_fold0/best_metric_model.pt loaded\n",
      "2022-09-22 03:36:31,530 INFO image_writer.py:194 - writing: /workspace/monai/tutorials-in-dev/auto3dseg/notebooks/auto3dseg_work_dir/dints_0/prediction_testing/test_image_002/test_image_002_seg.nii.gz\n",
      "[info] checkpoint /workspace/monai/tutorials-in-dev/auto3dseg/notebooks/auto3dseg_work_dir/segresnet2d_0/model_fold0/best_metric_model.pt loaded\n",
      "2022-09-22 03:36:31,873 INFO image_writer.py:194 - writing: /workspace/monai/tutorials-in-dev/auto3dseg/notebooks/auto3dseg_work_dir/segresnet2d_0/prediction_testing/test_image_002/test_image_002_seg.nii.gz\n",
      "Auto3Dseg picked the following networks to ensemble:\n",
      "dints_0\n",
      "segresnet2d_0\n",
      "2022-09-22 03:36:31,881 INFO image_writer.py:194 - writing: /workspace/monai/tutorials-in-dev/auto3dseg/notebooks/auto3dseg_work_dir/ensemble_output/test_image_001/test_image_001_ensemble.nii.gz\n",
      "2022-09-22 03:36:31,888 INFO image_writer.py:194 - writing: /workspace/monai/tutorials-in-dev/auto3dseg/notebooks/auto3dseg_work_dir/ensemble_output/test_image_002/test_image_002_ensemble.nii.gz\n",
      "2022-09-22 03:36:31,894 - INFO - Auto3Dseg ensemble prediction outputs are saved in /workspace/monai/tutorials-in-dev/auto3dseg/notebooks/auto3dseg_work_dir/ensemble_output.\n",
      "2022-09-22 03:36:31,895 - INFO - Auto3Dseg pipeline is complete successfully.\n"
     ]
    }
   ],
   "source": [
    "runner.run()"
   ]
  },
  {
   "cell_type": "markdown",
   "metadata": {},
   "source": [
    "### 2.4 Inspect the algo ensembled predctions and compare it with the ground truth"
   ]
  },
  {
   "cell_type": "code",
   "execution_count": 9,
   "metadata": {},
   "outputs": [
    {
     "data": {
      "image/png": "[encoded data removed]",
      "text/plain": [
       "<Figure size 432x288 with 8 Axes>"
      ]
     },
     "metadata": {
      "needs_background": "light"
     },
     "output_type": "display_data"
    }
   ],
   "source": [
    "image_name = sim_datalist['testing'][0]['image'].split(\".\")[0]\n",
    "prediction_nib = nib.load(os.path.join(work_dir, 'ensemble_output', image_name, image_name+\"_ensemble\"+\".nii.gz\"))\n",
    "pred = np.array(prediction_nib.dataobj)\n",
    "\n",
    "plt.subplot(2, 2, 1)\n",
    "plt.imshow(img[32])\n",
    "plt.title('image')\n",
    "cbar = plt.colorbar(shrink=0.8)\n",
    "plt.subplot(2, 2, 2)\n",
    "plt.imshow(lbl[32])\n",
    "plt.title('label')\n",
    "cbar = plt.colorbar(shrink=0.8)\n",
    "plt.subplot(2, 2, 3)\n",
    "plt.imshow(pred[32, :, :, 0])\n",
    "plt.title('background class prediction')\n",
    "cbar = plt.colorbar(shrink=0.8)\n",
    "plt.subplot(2, 2, 4)\n",
    "plt.imshow(pred[32, :, :, 1])\n",
    "plt.title('foreground class prediction')\n",
    "cbar = plt.colorbar(shrink=0.8)\n",
    "# set the spacing between subplots\n",
    "plt.subplots_adjust(left=0.1,\n",
    "                    bottom=0.1,\n",
    "                    right=0.9,\n",
    "                    top=0.9,\n",
    "                    wspace=0.4,\n",
    "                    hspace=0.4)\n",
    "plt.show()"
   ]
  },
  {
   "cell_type": "markdown",
   "metadata": {},
   "source": [
    "## 3. Conclusion\n",
    "\n",
    "Here we complete the entire pipeline. As you may notice, we can see the algorithms start to learn the datasets and the prediction of background and foreground voxels. Auto3Dseg and AutoRunner are highly configurable. To get better results, you can increase the training time, apply different ensemble method, or use hyper-parameter optimization through the AutoRunner or Auto3Dseg module APIs.\n",
    "\n",
    "As a \"Hello World\" notebook, we will end the experiment with simulated datasets here."
   ]
  }
 ],
 "metadata": {
  "kernelspec": {
   "display_name": "Python 3.8.13 ('base')",
   "language": "python",
   "name": "python3"
  },
  "language_info": {
   "codemirror_mode": {
    "name": "ipython",
    "version": 3
   },
   "file_extension": ".py",
   "mimetype": "text/x-python",
   "name": "python",
   "nbconvert_exporter": "python",
   "pygments_lexer": "ipython3",
   "version": "3.8.13"
  },
  "orig_nbformat": 4,
  "vscode": {
   "interpreter": {
    "hash": "d4d1e4263499bec80672ea0156c357c1ee493ec2b1c70f0acce89fc37c4a6abe"
   }
  }
 },
 "nbformat": 4,
 "nbformat_minor": 2
}
