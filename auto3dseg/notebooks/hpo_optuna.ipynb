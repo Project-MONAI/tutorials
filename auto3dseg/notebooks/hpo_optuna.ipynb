{
 "cells": [
  {
   "cell_type": "markdown",
   "metadata": {},
   "source": [
    "## HPO tutorial: learning rate grid search on prostate segmentation using NNI. \n",
    "#### Skip step 1-5 if the bundles are already generated."
   ]
  },
  {
   "cell_type": "markdown",
   "metadata": {},
   "source": [
    "### 1. Import libraries for HPO and pipelines"
   ]
  },
  {
   "cell_type": "code",
   "execution_count": null,
   "metadata": {},
   "outputs": [],
   "source": [
    "import json\n",
    "import os\n",
    "import optuna\n",
    "import yaml\n",
    "\n",
    "from functools import partial\n",
    "\n",
    "from monai.apps import download_and_extract\n",
    "from monai.apps.auto3dseg import BundleGen, DataAnalyzer, OptunaGen\n",
    "from monai.apps.auto3dseg.utils import export_bundle_algo_history, import_bundle_algo_history\n",
    "from monai.bundle.config_parser import ConfigParser"
   ]
  },
  {
   "cell_type": "markdown",
   "metadata": {},
   "source": [
    "### 2. Define experiment file pathes"
   ]
  },
  {
   "cell_type": "code",
   "execution_count": null,
   "metadata": {},
   "outputs": [],
   "source": [
    "# User created files\n",
    "datalist_filename = './msd_task05_prostate_folds.json'\n",
    "input_yaml = './input.yaml'\n",
    "\n",
    "# Dataset pathes\n",
    "data_root = \"./\"\n",
    "msd_task = \"Task05_Prostate\"\n",
    "dataroot = os.path.join(data_root, msd_task)\n",
    "\n",
    "# Experiment setup\n",
    "test_path = \"./\"\n",
    "work_dir = os.path.join(test_path, \"workdir\")\n",
    "optuna_dir = './optuna_learningrate_grid'\n",
    "da_output_yaml = os.path.join(work_dir, \"datastats.yaml\")\n",
    "if not os.path.isdir(work_dir):\n",
    "    os.makedirs(work_dir)\n",
    "\n",
    "# Algorithm selected to do HPO. Refer to bundle history for the mapping between\n",
    "# algorithm name and index\n",
    "selected_algorithm_index = 0"
   ]
  },
  {
   "cell_type": "markdown",
   "metadata": {},
   "source": [
    "### 3. Download one of MSD datasets"
   ]
  },
  {
   "cell_type": "code",
   "execution_count": null,
   "metadata": {},
   "outputs": [],
   "source": [
    "\n",
    "resource = \"https://msd-for-monai.s3-us-west-2.amazonaws.com/\" + msd_task + \".tar\"\n",
    "compressed_file = os.path.join(data_root, msd_task + \".tar\")\n",
    "if not os.path.exists(dataroot):\n",
    "    os.makedirs(dataroot)\n",
    "    download_and_extract(resource, compressed_file, data_root)"
   ]
  },
  {
   "cell_type": "markdown",
   "metadata": {},
   "source": [
    "### 4. Generate input yaml and datafolds yaml. (User should generate their own)"
   ]
  },
  {
   "cell_type": "code",
   "execution_count": null,
   "metadata": {},
   "outputs": [],
   "source": [
    "datalist = {\n",
    "    \"training\": [\n",
    "        {\n",
    "            \"fold\": 0,\n",
    "            \"image\": \"imagesTr/prostate_16.nii.gz\",\n",
    "            \"label\": \"labelsTr/prostate_16.nii.gz\"\n",
    "        },\n",
    "        {\n",
    "            \"fold\": 0,\n",
    "            \"image\": \"imagesTr/prostate_04.nii.gz\",\n",
    "            \"label\": \"labelsTr/prostate_04.nii.gz\"\n",
    "        },\n",
    "        {\n",
    "            \"fold\": 0,\n",
    "            \"image\": \"imagesTr/prostate_20.nii.gz\",\n",
    "            \"label\": \"labelsTr/prostate_20.nii.gz\"\n",
    "        },\n",
    "        {\n",
    "            \"fold\": 0,\n",
    "            \"image\": \"imagesTr/prostate_43.nii.gz\",\n",
    "            \"label\": \"labelsTr/prostate_43.nii.gz\"\n",
    "        },\n",
    "        {\n",
    "            \"fold\": 0,\n",
    "            \"image\": \"imagesTr/prostate_06.nii.gz\",\n",
    "            \"label\": \"labelsTr/prostate_06.nii.gz\"\n",
    "        },\n",
    "        {\n",
    "            \"fold\": 0,\n",
    "            \"image\": \"imagesTr/prostate_14.nii.gz\",\n",
    "            \"label\": \"labelsTr/prostate_14.nii.gz\"\n",
    "        },\n",
    "        {\n",
    "            \"fold\": 1,\n",
    "            \"image\": \"imagesTr/prostate_41.nii.gz\",\n",
    "            \"label\": \"labelsTr/prostate_41.nii.gz\"\n",
    "        },\n",
    "        {\n",
    "            \"fold\": 1,\n",
    "            \"image\": \"imagesTr/prostate_34.nii.gz\",\n",
    "            \"label\": \"labelsTr/prostate_34.nii.gz\"\n",
    "        },\n",
    "        {\n",
    "            \"fold\": 1,\n",
    "            \"image\": \"imagesTr/prostate_38.nii.gz\",\n",
    "            \"label\": \"labelsTr/prostate_38.nii.gz\"\n",
    "        },\n",
    "        {\n",
    "            \"fold\": 1,\n",
    "            \"image\": \"imagesTr/prostate_10.nii.gz\",\n",
    "            \"label\": \"labelsTr/prostate_10.nii.gz\"\n",
    "        },\n",
    "        {\n",
    "            \"fold\": 1,\n",
    "            \"image\": \"imagesTr/prostate_02.nii.gz\",\n",
    "            \"label\": \"labelsTr/prostate_02.nii.gz\"\n",
    "        },\n",
    "        {\n",
    "            \"fold\": 1,\n",
    "            \"image\": \"imagesTr/prostate_24.nii.gz\",\n",
    "            \"label\": \"labelsTr/prostate_24.nii.gz\"\n",
    "        },\n",
    "        {\n",
    "            \"fold\": 2,\n",
    "            \"image\": \"imagesTr/prostate_47.nii.gz\",\n",
    "            \"label\": \"labelsTr/prostate_47.nii.gz\"\n",
    "        },\n",
    "        {\n",
    "            \"fold\": 2,\n",
    "            \"image\": \"imagesTr/prostate_28.nii.gz\",\n",
    "            \"label\": \"labelsTr/prostate_28.nii.gz\"\n",
    "        },\n",
    "        {\n",
    "            \"fold\": 2,\n",
    "            \"image\": \"imagesTr/prostate_00.nii.gz\",\n",
    "            \"label\": \"labelsTr/prostate_00.nii.gz\"\n",
    "        },\n",
    "        {\n",
    "            \"fold\": 2,\n",
    "            \"image\": \"imagesTr/prostate_42.nii.gz\",\n",
    "            \"label\": \"labelsTr/prostate_42.nii.gz\"\n",
    "        },\n",
    "        {\n",
    "            \"fold\": 2,\n",
    "            \"image\": \"imagesTr/prostate_21.nii.gz\",\n",
    "            \"label\": \"labelsTr/prostate_21.nii.gz\"\n",
    "        },\n",
    "        {\n",
    "            \"fold\": 2,\n",
    "            \"image\": \"imagesTr/prostate_17.nii.gz\",\n",
    "            \"label\": \"labelsTr/prostate_17.nii.gz\"\n",
    "        },\n",
    "        {\n",
    "            \"fold\": 3,\n",
    "            \"image\": \"imagesTr/prostate_40.nii.gz\",\n",
    "            \"label\": \"labelsTr/prostate_40.nii.gz\"\n",
    "        },\n",
    "        {\n",
    "            \"fold\": 3,\n",
    "            \"image\": \"imagesTr/prostate_31.nii.gz\",\n",
    "            \"label\": \"labelsTr/prostate_31.nii.gz\"\n",
    "        },\n",
    "        {\n",
    "            \"fold\": 3,\n",
    "            \"image\": \"imagesTr/prostate_07.nii.gz\",\n",
    "            \"label\": \"labelsTr/prostate_07.nii.gz\"\n",
    "        },\n",
    "        {\n",
    "            \"fold\": 3,\n",
    "            \"image\": \"imagesTr/prostate_35.nii.gz\",\n",
    "            \"label\": \"labelsTr/prostate_35.nii.gz\"\n",
    "        },\n",
    "        {\n",
    "            \"fold\": 3,\n",
    "            \"image\": \"imagesTr/prostate_44.nii.gz\",\n",
    "            \"label\": \"labelsTr/prostate_44.nii.gz\"\n",
    "        },\n",
    "        {\n",
    "            \"fold\": 3,\n",
    "            \"image\": \"imagesTr/prostate_39.nii.gz\",\n",
    "            \"label\": \"labelsTr/prostate_39.nii.gz\"\n",
    "        },\n",
    "        {\n",
    "            \"fold\": 4,\n",
    "            \"image\": \"imagesTr/prostate_01.nii.gz\",\n",
    "            \"label\": \"labelsTr/prostate_01.nii.gz\"\n",
    "        },\n",
    "        {\n",
    "            \"fold\": 4,\n",
    "            \"image\": \"imagesTr/prostate_13.nii.gz\",\n",
    "            \"label\": \"labelsTr/prostate_13.nii.gz\"\n",
    "        },\n",
    "        {\n",
    "            \"fold\": 4,\n",
    "            \"image\": \"imagesTr/prostate_46.nii.gz\",\n",
    "            \"label\": \"labelsTr/prostate_46.nii.gz\"\n",
    "        },\n",
    "        {\n",
    "            \"fold\": 4,\n",
    "            \"image\": \"imagesTr/prostate_25.nii.gz\",\n",
    "            \"label\": \"labelsTr/prostate_25.nii.gz\"\n",
    "        },\n",
    "        {\n",
    "            \"fold\": 4,\n",
    "            \"image\": \"imagesTr/prostate_29.nii.gz\",\n",
    "            \"label\": \"labelsTr/prostate_29.nii.gz\"\n",
    "        },\n",
    "        {\n",
    "            \"fold\": 4,\n",
    "            \"image\": \"imagesTr/prostate_37.nii.gz\",\n",
    "            \"label\": \"labelsTr/prostate_37.nii.gz\"\n",
    "        }\n",
    "    ]\n",
    "}\n",
    "\n",
    "input_dict = {\n",
    "    \"name\": \"Task05_Prostate\",\n",
    "    \"task\": \"segmentation\",\n",
    "    \"modality\": \"MRI\",\n",
    "    \"datalist\": datalist_filename,\n",
    "    \"dataroot\": dataroot,\n",
    "    \"multigpu\": True,\n",
    "    \"class_names\": [\"val_acc_pz\", \"val_acc_tz\"]\n",
    "}\n",
    "\n",
    "with open(datalist_filename, 'w') as f:\n",
    "    json.dump(datalist, f, indent=4)\n",
    "\n",
    "with open(input_yaml, 'w') as f:\n",
    "    yaml.dump(input_dict, f)\n"
   ]
  },
  {
   "cell_type": "markdown",
   "metadata": {},
   "source": [
    "### 5. Create Bundle Generators\n"
   ]
  },
  {
   "cell_type": "code",
   "execution_count": null,
   "metadata": {},
   "outputs": [],
   "source": [
    "\n",
    "cfg = ConfigParser.load_config_file(input_yaml)\n",
    "datalist = ConfigParser.load_config_file(datalist_filename)\n",
    "# data analysis\n",
    "if not os.path.exists(da_output_yaml):\n",
    "    da = DataAnalyzer(datalist, dataroot, output_path=da_output_yaml)\n",
    "    da.get_all_case_stats()\n",
    "\n",
    "# algorithm generation\n",
    "bundle_generator = BundleGen(\n",
    "    algo_path=work_dir,\n",
    "    data_stats_filename=da_output_yaml,\n",
    "    data_src_cfg_name=input_yaml,\n",
    ")\n",
    "\n",
    "bundle_generator.generate(work_dir, num_fold=5)\n",
    "history = bundle_generator.get_history()\n",
    "export_bundle_algo_history(history)"
   ]
  },
  {
   "cell_type": "markdown",
   "metadata": {},
   "source": [
    "### 6. Create Algo object from bundle_generator history"
   ]
  },
  {
   "cell_type": "code",
   "execution_count": null,
   "metadata": {},
   "outputs": [],
   "source": [
    "# you can get history from bundle_generator. It can also be acquired by reading bundles saved on disk\n",
    "\n",
    "history = bundle_generator.get_history()\n",
    "if len(history) == 0:\n",
    "    history = import_bundle_algo_history(work_dir, only_trained=False)\n",
    "\n",
    "algo_dict = history[selected_algorithm_index]\n",
    "algo_name = list(algo_dict.keys())[selected_algorithm_index]\n",
    "algo = algo_dict[algo_name]\n",
    "\n",
    "# \"override_params\" is used to update algorithm hyperparameters \n",
    "# like num_epochs, which are not in the HPO search space. We set num_epochs=2\n",
    "# to shorten the training time as an example\n",
    "override_param = {\n",
    "    \"num_iterations\": 8,\n",
    "    \"num_iterations_per_validation\": 4,\n",
    "    \"num_images_per_batch\": 2,\n",
    "    \"num_epochs\": 2,\n",
    "    \"num_warmup_iterations\": 4,\n",
    "}\n",
    "\n"
   ]
  },
  {
   "cell_type": "markdown",
   "metadata": {},
   "source": [
    "### 7. Create Optuna Generator class and overwrite get_hyperparameters() function"
   ]
  },
  {
   "cell_type": "code",
   "execution_count": null,
   "metadata": {},
   "outputs": [],
   "source": [
    "class OptunaGenLearningRate(OptunaGen):\n",
    "    def get_hyperparameters(self):\n",
    "        return {'learning_rate': self.trial.suggest_float(\"learning_rate\", 0.00001, 0.1)}\n",
    "\n",
    "\n",
    "optuna_gen = OptunaGenLearningRate(algo=algo, params=override_param)"
   ]
  },
  {
   "cell_type": "markdown",
   "metadata": {},
   "source": [
    "### 8. Run Optuna optimization (with grid search)"
   ]
  },
  {
   "cell_type": "code",
   "execution_count": null,
   "metadata": {},
   "outputs": [],
   "source": [
    "search_space = {'learning_rate': [0.0001, 0.001, 0.01, 0.1]}\n",
    "study = optuna.create_study(sampler=optuna.samplers.GridSampler(search_space), direction='maximize')\n",
    "study.optimize(partial(optuna_gen, obj_filename=optuna_gen.get_obj_filename(), output_folder=optuna_dir), n_trials=2)\n",
    "print(\"Best value: {} (params: {})\\n\".format(study.best_value, study.best_params))"
   ]
  }
 ],
 "metadata": {
  "kernelspec": {
   "display_name": "Python 3.8.13 ('base')",
   "language": "python",
   "name": "python3"
  },
  "language_info": {
   "codemirror_mode": {
    "name": "ipython",
    "version": 3
   },
   "file_extension": ".py",
   "mimetype": "text/x-python",
   "name": "python",
   "nbconvert_exporter": "python",
   "pygments_lexer": "ipython3",
   "version": "3.8.13"
  },
  "vscode": {
   "interpreter": {
    "hash": "d4d1e4263499bec80672ea0156c357c1ee493ec2b1c70f0acce89fc37c4a6abe"
   }
  }
 },
 "nbformat": 4,
 "nbformat_minor": 2
}
