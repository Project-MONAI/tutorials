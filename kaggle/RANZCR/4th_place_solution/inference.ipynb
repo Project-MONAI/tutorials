{
 "cells": [
  {
   "cell_type": "code",
   "execution_count": 1,
   "id": "4ed42a13",
   "metadata": {
    "execution": {
     "iopub.execute_input": "2021-09-01T03:04:42.647084Z",
     "iopub.status.busy": "2021-09-01T03:04:42.645597Z",
     "iopub.status.idle": "2021-09-01T03:04:42.655597Z",
     "shell.execute_reply": "2021-09-01T03:04:42.655010Z",
     "shell.execute_reply.started": "2021-09-01T02:49:50.506077Z"
    },
    "papermill": {
     "duration": 0.019813,
     "end_time": "2021-09-01T03:04:42.655748",
     "exception": false,
     "start_time": "2021-09-01T03:04:42.635935",
     "status": "completed"
    },
    "tags": []
   },
   "outputs": [],
   "source": [
    "import sys\n",
    "\n",
    "sys.path.append('../input/ranzcr-4th-place-reproduce-with-monai/configs/')\n",
    "sys.path.append('../input/ranzcr-4th-place-reproduce-with-monai/data')\n",
    "sys.path.append('../input/ranzcr-4th-place-reproduce-with-monai/models')\n",
    "sys.path.append('../input/ranzcr-4th-place-reproduce-with-monai/')"
   ]
  },
  {
   "cell_type": "code",
   "execution_count": 2,
   "id": "ed1e001e",
   "metadata": {
    "execution": {
     "iopub.execute_input": "2021-09-01T03:04:42.669873Z",
     "iopub.status.busy": "2021-09-01T03:04:42.669367Z",
     "iopub.status.idle": "2021-09-01T03:04:48.275904Z",
     "shell.execute_reply": "2021-09-01T03:04:48.275438Z",
     "shell.execute_reply.started": "2021-09-01T02:56:30.753490Z"
    },
    "papermill": {
     "duration": 5.615211,
     "end_time": "2021-09-01T03:04:48.276031",
     "exception": false,
     "start_time": "2021-09-01T03:04:42.660820",
     "status": "completed"
    },
    "tags": []
   },
   "outputs": [],
   "source": [
    "from train import *\n",
    "from scipy.stats import rankdata\n",
    "from scipy.special import expit\n",
    "from models.seg_model import RanzcrNet\n",
    "from data.seg_data import CustomDataset\n",
    "from torch.utils.data import DataLoader\n",
    "import multiprocessing as mp\n",
    "import glob\n",
    "\n",
    "from monai.transforms import (\n",
    "    Resized,\n",
    "    SpatialPadd,\n",
    "    CastToTyped,\n",
    "    Compose,\n",
    "    EnsureTyped,\n",
    "    NormalizeIntensityd,\n",
    "    Lambdad,\n",
    ")"
   ]
  },
  {
   "cell_type": "code",
   "execution_count": 3,
   "id": "9e2a4dfc",
   "metadata": {
    "execution": {
     "iopub.execute_input": "2021-09-01T03:04:48.290808Z",
     "iopub.status.busy": "2021-09-01T03:04:48.290209Z",
     "iopub.status.idle": "2021-09-01T03:04:48.311981Z",
     "shell.execute_reply": "2021-09-01T03:04:48.311436Z",
     "shell.execute_reply.started": "2021-09-01T02:51:15.596285Z"
    },
    "papermill": {
     "duration": 0.03083,
     "end_time": "2021-09-01T03:04:48.312099",
     "exception": false,
     "start_time": "2021-09-01T03:04:48.281269",
     "status": "completed"
    },
    "tags": []
   },
   "outputs": [],
   "source": [
    "COMP_FOLDER = '../input/ranzcr-clip-catheter-line-classification/'\n",
    "N_CORES = mp.cpu_count()\n",
    "test = pd.read_csv(f'{COMP_FOLDER}sample_submission.csv')\n",
    "MP = True"
   ]
  },
  {
   "cell_type": "code",
   "execution_count": 4,
   "id": "61077244",
   "metadata": {
    "execution": {
     "iopub.execute_input": "2021-09-01T03:04:48.327147Z",
     "iopub.status.busy": "2021-09-01T03:04:48.326524Z",
     "iopub.status.idle": "2021-09-01T03:04:48.349805Z",
     "shell.execute_reply": "2021-09-01T03:04:48.349373Z",
     "shell.execute_reply.started": "2021-09-01T03:02:54.115056Z"
    },
    "papermill": {
     "duration": 0.032937,
     "end_time": "2021-09-01T03:04:48.349911",
     "exception": false,
     "start_time": "2021-09-01T03:04:48.316974",
     "status": "completed"
    },
    "tags": []
   },
   "outputs": [
    {
     "name": "stdout",
     "output_type": "stream",
     "text": [
      "efficientnet_b8_ap\n"
     ]
    }
   ],
   "source": [
    "cfg = importlib.import_module('cfg_seg_40_1024d_full')\n",
    "importlib.reload(cfg)\n",
    "cfg = cfg.cfg\n",
    "\n",
    "# test settings\n",
    "cfg.data_folder = f'{COMP_FOLDER}test/'\n",
    "cfg.data_dir = COMP_FOLDER\n",
    "cfg.pretrained = False\n",
    "cfg.device=\"cuda\"\n",
    "\n",
    "cfg.calc_loss = False\n",
    "\n",
    "to_device_transform = ToDeviced(\n",
    "    keys=(\"input\", \"target\", \"mask\", \"is_annotated\"), device=cfg.device\n",
    ")\n",
    "\n",
    "print(cfg.backbone)"
   ]
  },
  {
   "cell_type": "code",
   "execution_count": 5,
   "id": "ba4da67f",
   "metadata": {
    "execution": {
     "iopub.execute_input": "2021-09-01T03:04:48.374748Z",
     "iopub.status.busy": "2021-09-01T03:04:48.374076Z",
     "iopub.status.idle": "2021-09-01T03:38:24.195867Z",
     "shell.execute_reply": "2021-09-01T03:38:24.195443Z"
    },
    "papermill": {
     "duration": 2015.840407,
     "end_time": "2021-09-01T03:38:24.196002",
     "exception": false,
     "start_time": "2021-09-01T03:04:48.355595",
     "status": "completed"
    },
    "tags": []
   },
   "outputs": [
    {
     "name": "stdout",
     "output_type": "stream",
     "text": [
      "['../input/ranzcr-4th-place-reproduce-with-monai/weights/efnb8_ap/checkpoint_best_seed661685.pth', '../input/ranzcr-4th-place-reproduce-with-monai/weights/efnb8_ap/checkpoint_best_seed192210.pth', '../input/ranzcr-4th-place-reproduce-with-monai/weights/efnb8_ap/checkpoint_best_seed201026.pth', '../input/ranzcr-4th-place-reproduce-with-monai/weights/efnb8_ap/checkpoint_best_seed274488.pth']\n"
     ]
    },
    {
     "name": "stderr",
     "output_type": "stream",
     "text": [
      "100%|██████████| 112/112 [32:51<00:00, 17.61s/it]\n"
     ]
    }
   ],
   "source": [
    "state_dicts = []\n",
    "for filepath in glob.iglob('../input/ranzcr-4th-place-reproduce-with-monai/weights/efnb8_ap/*.pth'):\n",
    "    state_dicts.append(filepath)\n",
    "    \n",
    "state_dicts = state_dicts[:4]\n",
    "    \n",
    "print(state_dicts)\n",
    "\n",
    "nets = []\n",
    "for i in range(len(state_dicts)):\n",
    "    d = torch.load(state_dicts[i])['model']\n",
    "    new_d = {}\n",
    "    for k,v in d.items():\n",
    "        new_d[k.replace(\"module.\", \"\")] = v\n",
    "    sd = new_d\n",
    "    \n",
    "    net = RanzcrNet(cfg).eval().to(cfg.device)\n",
    "    net.load_state_dict(sd)\n",
    "    \n",
    "    del net.decoder\n",
    "    del net.segmentation_head\n",
    "    \n",
    "    nets.append(net)\n",
    "\n",
    "test_augs = [\n",
    "    Compose([\n",
    "        Resized(keys=(\"input\", \"mask\"), spatial_size=1008, size_mode=\"longest\", mode=\"bilinear\", align_corners=False),\n",
    "        SpatialPadd(keys=(\"input\", \"mask\"), spatial_size=(1008, 1008)),\n",
    "        CastToTyped(keys=\"input\", dtype=np.float32),\n",
    "        NormalizeIntensityd(keys=\"input\", nonzero=False),\n",
    "        Lambdad(keys=\"input\", func=lambda x: x.clip(-20, 20)),\n",
    "        EnsureTyped(keys=(\"input\", \"mask\")),\n",
    "    ]),\n",
    "]\n",
    "\n",
    "if MP:\n",
    "    cfg.batch_size = 32\n",
    "else:\n",
    "    cfg.batch_size = 16\n",
    "\n",
    "with torch.no_grad():\n",
    "    \n",
    "    aug_preds = []\n",
    "    for aug in test_augs:\n",
    "        test_ds = CustomDataset(test, cfg, aug, mode=\"test\")\n",
    "        test_dl = DataLoader(test_ds, shuffle=False, batch_size = cfg.batch_size, num_workers = N_CORES)\n",
    "    \n",
    "        fold_preds = [[] for i in range(len(nets))]\n",
    "        for batch in tqdm(test_dl):\n",
    "            batch = to_device_transform(batch)\n",
    "            for i, net in enumerate(nets):\n",
    "                if MP:\n",
    "                    with autocast():\n",
    "                        logits = net(batch)['logits'].cpu().numpy()\n",
    "                else:\n",
    "                    logits = net(batch)['logits'].cpu().numpy()\n",
    "                fold_preds[i] += [logits] \n",
    "        fold_preds = [np.concatenate(p) for p in fold_preds]\n",
    "        \n",
    "        aug_preds.append(fold_preds)\n",
    "\n",
    "preds = np.stack(np.stack(aug_preds))\n",
    "preds = preds.transpose(1,0,2,3)\n",
    "\n",
    "preds = expit(preds)\n",
    "preds = np.mean(preds, axis=0)\n",
    "preds = rankdata(preds, axis=1) / preds.shape[1]\n",
    "preds = np.mean(preds, axis=0)"
   ]
  },
  {
   "cell_type": "code",
   "execution_count": 6,
   "id": "f6396256",
   "metadata": {
    "execution": {
     "iopub.execute_input": "2021-09-01T03:38:24.275935Z",
     "iopub.status.busy": "2021-09-01T03:38:24.275176Z",
     "iopub.status.idle": "2021-09-01T03:38:24.392857Z",
     "shell.execute_reply": "2021-09-01T03:38:24.391692Z"
    },
    "papermill": {
     "duration": 0.163013,
     "end_time": "2021-09-01T03:38:24.393000",
     "exception": false,
     "start_time": "2021-09-01T03:38:24.229987",
     "status": "completed"
    },
    "tags": []
   },
   "outputs": [],
   "source": [
    "sub = test.copy()\n",
    "sub[cfg.label_cols] = preds\n",
    "submission = pd.read_csv(f'{COMP_FOLDER}sample_submission.csv')\n",
    "submission.loc[sub.index, cfg.label_cols] = sub[cfg.label_cols]\n",
    "submission.to_csv('submission.csv',index=False)"
   ]
  }
 ],
 "metadata": {
  "kernelspec": {
   "display_name": "Python 3",
   "language": "python",
   "name": "python3"
  },
  "language_info": {
   "codemirror_mode": {
    "name": "ipython",
    "version": 3
   },
   "file_extension": ".py",
   "mimetype": "text/x-python",
   "name": "python",
   "nbconvert_exporter": "python",
   "pygments_lexer": "ipython3",
   "version": "3.7.10"
  },
  "papermill": {
   "default_parameters": {},
   "duration": 2031.187488,
   "end_time": "2021-09-01T03:38:26.671931",
   "environment_variables": {},
   "exception": null,
   "input_path": "__notebook__.ipynb",
   "output_path": "__notebook__.ipynb",
   "parameters": {},
   "start_time": "2021-09-01T03:04:35.484443",
   "version": "2.3.3"
  }
 },
 "nbformat": 4,
 "nbformat_minor": 5
}
