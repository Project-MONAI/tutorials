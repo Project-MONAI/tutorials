{
 "cells": [
  {
   "cell_type": "markdown",
   "metadata": {},
   "source": [
    "# MONAI Auto3Dseg Hyper-parameter Optimization with Optuna\n",
    "\n",
    "This notebook provides an example to perform hype-parameter optimization(HPO) on learning rate with grid search method for prostate segmentation using Optuna.\n",
    "\n",
    "Note: if you have used other notebooks under `auto3dseg`, for examples: \n",
    "- `auto_runner.ipynb`\n",
    "- `auto3dseg_autorunner_ref_api.ipynb`\n",
    "- `auto3dseg_hello_world.ipynb`\n",
    "- `hpo_nni.ipynb`\n",
    "\n",
    "You may have already generated the algorithm templates in MONAI bundle formats (hint: find them in the working directory). \n",
    "\n",
    "Please feel free to skip step 1-5 if the bundles are already generated."
   ]
  },
  {
   "cell_type": "markdown",
   "metadata": {},
   "source": [
    "## 1. Import libraries for HPO and pipelines"
   ]
  },
  {
   "cell_type": "code",
   "execution_count": 1,
   "metadata": {},
   "outputs": [
    {
     "name": "stderr",
     "output_type": "stream",
     "text": [
      "/opt/conda/lib/python3.8/site-packages/tqdm/auto.py:22: TqdmWarning: IProgress not found. Please update jupyter and ipywidgets. See https://ipywidgets.readthedocs.io/en/stable/user_install.html\n",
      "  from .autonotebook import tqdm as notebook_tqdm\n"
     ]
    }
   ],
   "source": [
    "import os\n",
    "import optuna\n",
    "import torch\n",
    "import yaml\n",
    "\n",
    "from functools import partial\n",
    "\n",
    "from monai.apps import download_and_extract\n",
    "from monai.apps.auto3dseg import BundleGen, DataAnalyzer, OptunaGen\n",
    "from monai.apps.auto3dseg.utils import export_bundle_algo_history, import_bundle_algo_history\n",
    "from monai.bundle.config_parser import ConfigParser"
   ]
  },
  {
   "cell_type": "markdown",
   "metadata": {},
   "source": [
    "## 2. Define experiment file pathes"
   ]
  },
  {
   "cell_type": "code",
   "execution_count": 2,
   "metadata": {},
   "outputs": [],
   "source": [
    "# User created files\n",
    "datalist_file = \"../tasks/msd/Task05_Prostate/msd_task05_prostate_folds.json\"\n",
    "input_yaml = './input.yaml'\n",
    "\n",
    "# Dataset pathes\n",
    "data_root = \"./\"\n",
    "msd_task = \"Task05_Prostate\"\n",
    "dataroot = os.path.join(data_root, msd_task)\n",
    "\n",
    "# Experiment setup\n",
    "test_path = \"./\"\n",
    "work_dir = os.path.join(test_path, \"workdir\")\n",
    "optuna_dir = './optuna_learningrate_grid'\n",
    "da_output_yaml = os.path.join(work_dir, \"datastats.yaml\")\n",
    "if not os.path.isdir(work_dir):\n",
    "    os.makedirs(work_dir)\n",
    "\n",
    "# Algorithm selected to do HPO. Refer to bundle history for the mapping between\n",
    "# algorithm name and index\n",
    "selected_algorithm_index = 0"
   ]
  },
  {
   "cell_type": "markdown",
   "metadata": {},
   "source": [
    "## 3. Download one of MSD datasets"
   ]
  },
  {
   "cell_type": "code",
   "execution_count": 3,
   "metadata": {},
   "outputs": [],
   "source": [
    "resource = \"https://msd-for-monai.s3-us-west-2.amazonaws.com/\" + msd_task + \".tar\"\n",
    "compressed_file = os.path.join(data_root, msd_task + \".tar\")\n",
    "if not os.path.exists(dataroot):\n",
    "    os.makedirs(dataroot)\n",
    "    download_and_extract(resource, compressed_file, data_root)"
   ]
  },
  {
   "cell_type": "markdown",
   "metadata": {},
   "source": [
    "## 4. Generate input yaml and datafolds yaml. (User should generate their own)"
   ]
  },
  {
   "cell_type": "code",
   "execution_count": 4,
   "metadata": {},
   "outputs": [],
   "source": [
    "input_dict = {\n",
    "    \"name\": \"Task05_Prostate\",\n",
    "    \"task\": \"segmentation\",\n",
    "    \"modality\": \"MRI\",\n",
    "    \"datalist\": datalist_file,\n",
    "    \"dataroot\": dataroot,\n",
    "    \"multigpu\": True,\n",
    "    \"class_names\": [\"val_acc_pz\", \"val_acc_tz\"]\n",
    "}\n",
    "\n",
    "with open(input_yaml, 'w') as f:\n",
    "    yaml.dump(input_dict, f)\n"
   ]
  },
  {
   "cell_type": "markdown",
   "metadata": {},
   "source": [
    "## 5. Create Bundle Generators\n"
   ]
  },
  {
   "cell_type": "code",
   "execution_count": 5,
   "metadata": {},
   "outputs": [
    {
     "name": "stderr",
     "output_type": "stream",
     "text": [
      "algo_templates.tar.gz: 100%|██████████| 280k/280k [00:00<00:00, 409kB/s]  "
     ]
    },
    {
     "name": "stdout",
     "output_type": "stream",
     "text": [
      "2022-09-21 05:02:08,158 - INFO - Downloaded: /tmp/tmpma_e1296/algo_templates.tar.gz\n",
      "2022-09-21 05:02:08,160 - INFO - Expected md5 is None, skip md5 check for file /tmp/tmpma_e1296/algo_templates.tar.gz.\n",
      "2022-09-21 05:02:08,162 - INFO - Writing into directory: ./workdir.\n"
     ]
    },
    {
     "name": "stderr",
     "output_type": "stream",
     "text": [
      "\n"
     ]
    },
    {
     "name": "stdout",
     "output_type": "stream",
     "text": [
      "2022-09-21 05:02:08,736 - INFO - ./workdir/segresnet2d_0\n",
      "2022-09-21 05:02:09,301 - INFO - ./workdir/segresnet2d_1\n",
      "2022-09-21 05:02:09,732 - INFO - ./workdir/segresnet2d_2\n",
      "2022-09-21 05:02:10,163 - INFO - ./workdir/segresnet2d_3\n",
      "2022-09-21 05:02:10,760 - INFO - ./workdir/segresnet2d_4\n",
      "2022-09-21 05:02:11,198 - INFO - ./workdir/dints_0\n",
      "2022-09-21 05:02:11,795 - INFO - ./workdir/dints_1\n",
      "2022-09-21 05:02:12,253 - INFO - ./workdir/dints_2\n",
      "2022-09-21 05:02:12,857 - INFO - ./workdir/dints_3\n",
      "2022-09-21 05:02:13,294 - INFO - ./workdir/dints_4\n",
      "2022-09-21 05:02:13,883 - INFO - ./workdir/swinunetr_0\n",
      "2022-09-21 05:02:14,311 - INFO - ./workdir/swinunetr_1\n",
      "2022-09-21 05:02:14,907 - INFO - ./workdir/swinunetr_2\n",
      "2022-09-21 05:02:15,335 - INFO - ./workdir/swinunetr_3\n",
      "2022-09-21 05:02:15,924 - INFO - ./workdir/swinunetr_4\n",
      "2022-09-21 05:02:16,358 - INFO - ./workdir/segresnet_0\n",
      "2022-09-21 05:02:16,955 - INFO - ./workdir/segresnet_1\n",
      "2022-09-21 05:02:17,393 - INFO - ./workdir/segresnet_2\n",
      "2022-09-21 05:02:17,994 - INFO - ./workdir/segresnet_3\n",
      "2022-09-21 05:02:18,429 - INFO - ./workdir/segresnet_4\n"
     ]
    }
   ],
   "source": [
    "\n",
    "cfg = ConfigParser.load_config_file(input_yaml)\n",
    "\n",
    "# data analysis\n",
    "if not os.path.exists(da_output_yaml):\n",
    "    da = DataAnalyzer(datalist_file, dataroot, output_path=da_output_yaml)\n",
    "    da.get_all_case_stats()\n",
    "\n",
    "# algorithm generation\n",
    "bundle_generator = BundleGen(\n",
    "    algo_path=work_dir,\n",
    "    data_stats_filename=da_output_yaml,\n",
    "    data_src_cfg_name=input_yaml,\n",
    ")\n",
    "\n",
    "bundle_generator.generate(work_dir, num_fold=5)\n",
    "history = bundle_generator.get_history()\n",
    "export_bundle_algo_history(history)"
   ]
  },
  {
   "cell_type": "markdown",
   "metadata": {},
   "source": [
    "## 6. Create Algo object from bundle_generator history"
   ]
  },
  {
   "cell_type": "code",
   "execution_count": 6,
   "metadata": {},
   "outputs": [],
   "source": [
    "# you can get history from bundle_generator. It can also be acquired by reading bundles saved on disk\n",
    "\n",
    "history = bundle_generator.get_history()\n",
    "if len(history) == 0:\n",
    "    history = import_bundle_algo_history(work_dir, only_trained=False)\n",
    "\n",
    "algo_dict = history[selected_algorithm_index]\n",
    "algo_name = list(algo_dict.keys())[selected_algorithm_index]\n",
    "algo = algo_dict[algo_name]\n"
   ]
  },
  {
   "cell_type": "code",
   "execution_count": 7,
   "metadata": {},
   "outputs": [],
   "source": [
    "# \"override_params\" is used to update algorithm hyperparameters \n",
    "# like num_epochs, which are not in the HPO search space. We set num_epochs=2\n",
    "# to shorten the training time as an example\n",
    "\n",
    "max_epochs = 2\n",
    "\n",
    "num_gpus = 1 if \"multigpu\" in input_dict and not input_dict[\"multigpu\"] else torch.cuda.device_count()\n",
    "\n",
    "num_epoch = max_epochs\n",
    "num_images_per_batch = 2\n",
    "n_data = 24  # total is 30 images, hold out one set (6 images) for cross fold val.\n",
    "n_iter = int(num_epoch * n_data / num_images_per_batch / num_gpus)\n",
    "n_iter_val = int(n_iter / 2)\n",
    "\n",
    "override_param = {\n",
    "    \"num_iterations\": n_iter,\n",
    "    \"num_iterations_per_validation\": n_iter_val,\n",
    "    \"num_images_per_batch\": num_images_per_batch,\n",
    "    \"num_epochs\": num_epoch,\n",
    "    \"num_warmup_iterations\": n_iter_val,\n",
    "}"
   ]
  },
  {
   "cell_type": "markdown",
   "metadata": {},
   "source": [
    "## 7. Create Optuna Generator class and overwrite get_hyperparameters() function"
   ]
  },
  {
   "cell_type": "code",
   "execution_count": 8,
   "metadata": {},
   "outputs": [
    {
     "name": "stdout",
     "output_type": "stream",
     "text": [
      "2022-09-21 05:02:26,086 - INFO - ./workdir/segresnet2d_0_override\n"
     ]
    }
   ],
   "source": [
    "class OptunaGenLearningRate(OptunaGen):\n",
    "    def get_hyperparameters(self):\n",
    "        return {'learning_rate': self.trial.suggest_float(\"learning_rate\", 0.00001, 0.1)}\n",
    "\n",
    "\n",
    "optuna_gen = OptunaGenLearningRate(algo=algo, params=override_param)"
   ]
  },
  {
   "cell_type": "markdown",
   "metadata": {},
   "source": [
    "## 8. Run Optuna optimization (with grid search)"
   ]
  },
  {
   "cell_type": "code",
   "execution_count": 9,
   "metadata": {},
   "outputs": [
    {
     "name": "stderr",
     "output_type": "stream",
     "text": [
      "\u001b[32m[I 2022-09-21 05:02:34,103]\u001b[0m A new study created in memory with name: no-name-75cbf3b1-5be2-409d-8ce9-deff53ef4fcf\u001b[0m\n"
     ]
    },
    {
     "name": "stdout",
     "output_type": "stream",
     "text": [
      "2022-09-21 05:02:34,129 - INFO - ./optuna_learningrate_grid/segresnet2d_0_override_learning_rate_0.1\n",
      "2022-09-21 05:02:34,130 - INFO - Launching: torchrun --nnodes=1 --nproc_per_node=2 ./optuna_learningrate_grid/segresnet2d_0_override_learning_rate_0.1/scripts/train.py run --config_file='./optuna_learningrate_grid/segresnet2d_0_override_learning_rate_0.1/configs/transforms_validate.yaml','./optuna_learningrate_grid/segresnet2d_0_override_learning_rate_0.1/configs/transforms_train.yaml','./optuna_learningrate_grid/segresnet2d_0_override_learning_rate_0.1/configs/transforms_infer.yaml','./optuna_learningrate_grid/segresnet2d_0_override_learning_rate_0.1/configs/network.yaml','./optuna_learningrate_grid/segresnet2d_0_override_learning_rate_0.1/configs/hyper_parameters.yaml' --learning_rate=0.1\n",
      "2022-09-21 05:02:49,849 - INFO - CompletedProcess(args=['torchrun', '--nnodes=1', '--nproc_per_node=2', './optuna_learningrate_grid/segresnet2d_0_override_learning_rate_0.1/scripts/train.py', 'run', \"--config_file='./optuna_learningrate_grid/segresnet2d_0_override_learning_rate_0.1/configs/transforms_validate.yaml','./optuna_learningrate_grid/segresnet2d_0_override_learning_rate_0.1/configs/transforms_train.yaml','./optuna_learningrate_grid/segresnet2d_0_override_learning_rate_0.1/configs/transforms_infer.yaml','./optuna_learningrate_grid/segresnet2d_0_override_learning_rate_0.1/configs/network.yaml','./optuna_learningrate_grid/segresnet2d_0_override_learning_rate_0.1/configs/hyper_parameters.yaml'\", '--learning_rate=0.1'], returncode=0, stdout=b\"[info] number of GPUs: 2\n",
      "2022-09-21 05:02:37,216 - Added key: store_based_barrier_key:1 to store for rank: 0\n",
      "[info] number of GPUs: 2\n",
      "2022-09-21 05:02:37,219 - Added key: store_based_barrier_key:1 to store for rank: 1\n",
      "2022-09-21 05:02:37,219 - Rank 1: Completed store-based barrier for key:store_based_barrier_key:1 with 2 nodes.\n",
      "[info] world_size: 2\n",
      "train_files: 12\n",
      "val_files: 3\n",
      "2022-09-21 05:02:37,226 - Rank 0: Completed store-based barrier for key:store_based_barrier_key:1 with 2 nodes.\n",
      "[info] world_size: 2\n",
      "train_files: 12\n",
      "val_files: 3\n",
      "num_epochs 2\n",
      "num_epochs_per_validation 1\n",
      "[info] training from scratch[info] training from scratch\n",
      "\n",
      "[info] amp enabled\n",
      "----------\n",
      "epoch 1/2\n",
      "learning rate is set to 0.1\n",
      "[2022-09-21 05:02:41] 1/6, train_loss: 1.0905\n",
      "2022-09-21 05:02:41,335 - Reducer buckets have been rebuilt in this iteration.\n",
      "2022-09-21 05:02:41,397 - Reducer buckets have been rebuilt in this iteration.\n",
      "[2022-09-21 05:02:41] 2/6, train_loss: 0.9335\n",
      "[2022-09-21 05:02:41] 3/6, train_loss: 0.9259\n",
      "[2022-09-21 05:02:41] 4/6, train_loss: 0.7882\n",
      "[2022-09-21 05:02:41] 5/6, train_loss: 0.8243\n",
      "[2022-09-21 05:02:41] 6/6, train_loss: 0.7466\n",
      "epoch 1 average loss: 0.8917, best mean dice: -1.0000 at epoch -1\n",
      "1 / 3 tensor([[0.0000, 0.0222]], device='cuda:1')\n",
      "1 / 3 tensor([[0.0000, 0.0261]], device='cuda:0')\n",
      "2 / 3 tensor([[0.0002, 0.0047]], device='cuda:1')\n",
      "2 / 3 tensor([[0.0000, 0.0273]], device='cuda:0')\n",
      "3 / 3 tensor([[0.0000, 0.0031]], device='cuda:1')\n",
      "3 / 3 tensor([[0.0008, 0.0049]], device='cuda:0')\n",
      "evaluation metric - class 1: 0.00017869639365623394\n",
      "evaluation metric - class 2: 0.014721528937419256\n",
      "avg_metric 0.007450112665537745\n",
      "saved new best metric model\n",
      "current epoch: 1 current mean dice: 0.0075 best mean dice: 0.0075 at epoch 1\n",
      "----------\n",
      "epoch 2/2\n",
      "learning rate is set to 0.0125\n",
      "[2022-09-21 05:02:44] 1/6, train_loss: 0.7870\n",
      "[2022-09-21 05:02:44] 2/6, train_loss: 0.7972\n",
      "[2022-09-21 05:02:44] 3/6, train_loss: 0.7456\n",
      "[2022-09-21 05:02:44] 4/6, train_loss: 0.7370\n",
      "[2022-09-21 05:02:44] 5/6, train_loss: 0.7523\n",
      "[2022-09-21 05:02:44] 6/6, train_loss: 0.7194\n",
      "epoch 2 average loss: 0.7497, best mean dice: 0.0075 at epoch 1\n",
      "1 / 3 tensor([[0.0000, 0.0100]], device='cuda:1')\n",
      "1 / 3 tensor([[0.0000, 0.0112]], device='cuda:0')\n",
      "2 / 3 tensor([[0.0000, 0.0033]], device='cuda:1')\n",
      "2 / 3 tensor([[0.0000, 0.0158]], device='cuda:0')\n",
      "3 / 3 tensor([[0.0000, 0.0094]], device='cuda:1')\n",
      "3 / 3 tensor([[0.0000, 0.0012]], device='cuda:0')\n",
      "evaluation metric - class 1: 0.0\n",
      "evaluation metric - class 2: 0.008489210779468218\n",
      "avg_metric 0.004244605389734109\n",
      "current epoch: 2 current mean dice: 0.0042 best mean dice: 0.0075 at epoch 1\n",
      "train completed, best_metric: 0.0075 at epoch: 1\n",
      "0.007450112665537745\n",
      "-1\n",
      "\", stderr=b'WARNING:torch.distributed.run:\n",
      "*****************************************\n",
      "Setting OMP_NUM_THREADS environment variable for each process to be 1 in default, to avoid your system being overloaded, please further tune the variable for optimal performance in your application as needed. \n",
      "*****************************************\n",
      "Modifying image pixdim from [0.6249999 0.6249999 3.6       1.       ] to [  0.62499988   0.62499988   3.5999999  152.06272679]\n",
      "Modifying image pixdim from [0.75       0.74999964 2.9999986  1.        ] to [  0.75         0.74999965   2.99999861 157.50724574]\n",
      "Modifying image pixdim from [0.625 0.625 3.6   1.   ] to [  0.625       0.625       3.5999999 149.7974827]\n",
      "Modifying image pixdim from [0.6249998 0.625     3.5999987 1.       ] to [  0.62499983   0.625        3.59999877 153.34152766]\n",
      "Modifying image pixdim from [0.625   0.625   3.60001 1.     ] to [  0.625        0.625        3.60000992 151.21210251]\n",
      "Modifying image pixdim from [0.625 0.625 3.6   1.   ] to [  0.625        0.625        3.5999999  160.84918933]\n",
      "Modifying image pixdim from [0.6       0.6000003 4.0000024 1.       ] to [  0.60000002   0.60000034   4.00000227 149.31681629]\n",
      "Modifying image pixdim from [0.625 0.625 3.6   1.   ] to [  0.625        0.625        3.5999999  180.81811432]\n",
      "Modifying image pixdim from [0.625   0.625   3.59999 1.     ] to [  0.625        0.625        3.59998989 208.35237358]\n",
      "Modifying image pixdim from [0.6       0.6000003 4.0000024 1.       ] to [  0.60000002   0.60000034   4.00000227 149.31681629]\n",
      "Modifying image pixdim from [0.625 0.625 3.6   1.   ] to [  0.625        0.625        3.5999999  160.84918933]\n",
      "Modifying image pixdim from [0.62499976 0.62499976 3.6        1.        ] to [  0.62499976   0.62499976   3.5999999  164.74616031]\n",
      "Modifying image pixdim from [0.6        0.60000014 4.0000005  1.        ] to [  0.60000002   0.60000017   4.00000043 128.8161199 ]\n",
      "Modifying image pixdim from [0.625 0.625 3.6   1.   ] to [  0.625        0.625        3.5999999  150.20609596]\n",
      "Modifying image pixdim from [0.604167  0.6041667 3.999998  1.       ] to [  0.60416698   0.60416671   3.99999799 174.60244975]\n",
      "Modifying image pixdim from [0.6249998 0.625     3.5999987 1.       ] to [  0.62499983   0.625        3.59999877 153.34152766]\n",
      "Modifying image pixdim from [0.625 0.625 3.6   1.   ] to [  0.625        0.625        3.5999999  202.45334114]\n",
      "Modifying image pixdim from [0.625 0.625 3.6   1.   ] to [  0.625       0.625       3.5999999 152.3814254]\n",
      "Modifying image pixdim from [0.75      0.7500001 4.0000005 1.       ] to [  0.75         0.75000013   4.00000043 128.6789431 ]\n",
      "Modifying image pixdim from [0.625 0.625 3.6   1.   ] to [  0.625        0.625        3.5999999  202.45334114]\n",
      "Modifying image pixdim from [0.625 0.625 3.6   1.   ] to [  0.625        0.625        3.5999999  154.70488398]\n",
      "no available indices of class 1 to crop, set the crop ratio of this class to zero.\n",
      "no available indices of class 2 to crop, set the crop ratio of this class to zero.\n",
      "Modifying image pixdim from [0.6        0.60000014 4.0000005  1.        ] to [  0.60000002   0.60000017   4.00000041 174.1516677 ]\n",
      "Modifying image pixdim from [0.75      0.7500001 4.0000005 1.       ] to [  0.75         0.75000013   4.00000043 128.6789431 ]\n",
      "is_namedtuple is deprecated, please use the python checks instead\n",
      "Modifying image pixdim from [0.6       0.5999997 3.999998  1.       ] to [  0.60000002   0.59999975   3.99999799 129.0477496 ]\n",
      "no available indices of class 1 to crop, set the crop ratio of this class to zero.\n",
      "no available indices of class 2 to crop, set the crop ratio of this class to zero.\n",
      "Modifying image pixdim from [0.625 0.625 3.6   1.   ] to [  0.625        0.625        3.5999999  154.70488398]\n",
      "is_namedtuple is deprecated, please use the python checks instead\n",
      "Modifying image pixdim from [0.625   0.625   3.60001 1.     ] to [  0.625        0.625        3.60000992 173.25173679]\n",
      "Modifying image pixdim from [0.625 0.625 3.6   1.   ] to [  0.625        0.625        3.5999999  170.38896694]\n",
      "Modifying image pixdim from [0.625   0.625   3.60001 1.     ] to [  0.625        0.625        3.60000992 149.1610426 ]\n",
      "Modifying image pixdim from [0.625 0.625 3.6   1.   ] to [  0.625       0.625       3.5999999 151.7973753]\n",
      "Modifying image pixdim from [0.625 0.625 3.6   1.   ] to [  0.625        0.625        3.5999999  160.67573396]\n",
      "Modifying image pixdim from [0.625 0.625 3.6   1.   ] to [  0.625        0.625        3.5999999  154.70488398]\n",
      "Modifying image pixdim from [0.625   0.625   3.60001 1.     ] to [  0.625        0.625        3.60000992 173.25173679]\n",
      "Modifying image pixdim from [0.75      0.7500001 4.0000005 1.       ] to [  0.75         0.75000013   4.00000043 128.6789431 ]\n",
      "Modifying image pixdim from [0.6249998 0.625     3.5999987 1.       ] to [  0.62499983   0.625        3.59999877 153.34152766]\n",
      "Modifying image pixdim from [0.625 0.625 3.6   1.   ] to [  0.625        0.625        3.5999999  154.70488398]\n",
      "Modifying image pixdim from [0.625 0.625 3.6   1.   ] to [  0.625        0.625        3.5999999  202.45334114]\n",
      "Modifying image pixdim from [0.6       0.5999997 3.999998  1.       ] to [  0.60000002   0.59999975   3.99999799 129.0477496 ]\n",
      "no available indices of class 1 to crop, set the crop ratio of this class to zero.\n",
      "no available indices of class 2 to crop, set the crop ratio of this class to zero.\n",
      "Modifying image pixdim from [0.6        0.60000014 4.0000005  1.        ] to [  0.60000002   0.60000017   4.00000041 174.1516677 ]\n",
      "Modifying image pixdim from [0.625 0.625 3.6   1.   ] to [  0.625       0.625       3.5999999 152.3814254]\n",
      "Modifying image pixdim from [0.604167  0.6041667 3.999998  1.       ] to [  0.60416698   0.60416671   3.99999799 174.60244975]\n",
      "no available indices of class 1 to crop, set the crop ratio of this class to zero.\n",
      "no available indices of class 2 to crop, set the crop ratio of this class to zero.\n",
      "Modifying image pixdim from [0.625 0.625 3.6   1.   ] to [  0.625        0.625        3.5999999  202.45334114]\n",
      "Modifying image pixdim from [0.75      0.7500001 4.0000005 1.       ] to [  0.75         0.75000013   4.00000043 128.6789431 ]\n",
      "')\n"
     ]
    },
    {
     "name": "stderr",
     "output_type": "stream",
     "text": [
      "\u001b[32m[I 2022-09-21 05:02:49,856]\u001b[0m Trial 0 finished with value: 0.007450112665537745 and parameters: {'learning_rate': 0.1}. Best is trial 0 with value: 0.007450112665537745.\u001b[0m\n"
     ]
    },
    {
     "name": "stdout",
     "output_type": "stream",
     "text": [
      "2022-09-21 05:02:49,888 - INFO - ./optuna_learningrate_grid/segresnet2d_0_override_learning_rate_0.0001\n",
      "2022-09-21 05:02:49,889 - INFO - Launching: torchrun --nnodes=1 --nproc_per_node=2 ./optuna_learningrate_grid/segresnet2d_0_override_learning_rate_0.0001/scripts/train.py run --config_file='./optuna_learningrate_grid/segresnet2d_0_override_learning_rate_0.0001/configs/transforms_validate.yaml','./optuna_learningrate_grid/segresnet2d_0_override_learning_rate_0.0001/configs/transforms_train.yaml','./optuna_learningrate_grid/segresnet2d_0_override_learning_rate_0.0001/configs/transforms_infer.yaml','./optuna_learningrate_grid/segresnet2d_0_override_learning_rate_0.0001/configs/network.yaml','./optuna_learningrate_grid/segresnet2d_0_override_learning_rate_0.0001/configs/hyper_parameters.yaml' --learning_rate=0.0001\n",
      "2022-09-21 05:03:05,613 - INFO - CompletedProcess(args=['torchrun', '--nnodes=1', '--nproc_per_node=2', './optuna_learningrate_grid/segresnet2d_0_override_learning_rate_0.0001/scripts/train.py', 'run', \"--config_file='./optuna_learningrate_grid/segresnet2d_0_override_learning_rate_0.0001/configs/transforms_validate.yaml','./optuna_learningrate_grid/segresnet2d_0_override_learning_rate_0.0001/configs/transforms_train.yaml','./optuna_learningrate_grid/segresnet2d_0_override_learning_rate_0.0001/configs/transforms_infer.yaml','./optuna_learningrate_grid/segresnet2d_0_override_learning_rate_0.0001/configs/network.yaml','./optuna_learningrate_grid/segresnet2d_0_override_learning_rate_0.0001/configs/hyper_parameters.yaml'\", '--learning_rate=0.0001'], returncode=0, stdout=b\"[info] number of GPUs: 2\n",
      "2022-09-21 05:02:52,934 - Added key: store_based_barrier_key:1 to store for rank: 0\n",
      "[info] number of GPUs: 2\n",
      "2022-09-21 05:02:52,956 - Added key: store_based_barrier_key:1 to store for rank: 1\n",
      "2022-09-21 05:02:52,956 - Rank 1: Completed store-based barrier for key:store_based_barrier_key:1 with 2 nodes.\n",
      "[info] world_size: 2\n",
      "train_files: 12\n",
      "val_files: 3\n",
      "2022-09-21 05:02:52,965 - Rank 0: Completed store-based barrier for key:store_based_barrier_key:1 with 2 nodes.\n",
      "[info] world_size: 2\n",
      "train_files: 12\n",
      "val_files: 3\n",
      "num_epochs 2\n",
      "num_epochs_per_validation 1\n",
      "[info] training from scratch\n",
      "[info] amp enabled\n",
      "[info] training from scratch\n",
      "----------\n",
      "epoch 1/2\n",
      "learning rate is set to 0.0001\n",
      "[2022-09-21 05:02:56] 1/6, train_loss: 0.8805\n",
      "2022-09-21 05:02:56,638 - Reducer buckets have been rebuilt in this iteration.\n",
      "2022-09-21 05:02:56,638 - Reducer buckets have been rebuilt in this iteration.\n",
      "[2022-09-21 05:02:56] 2/6, train_loss: 0.8467\n",
      "[2022-09-21 05:02:56] 3/6, train_loss: 0.8154\n",
      "[2022-09-21 05:02:56] 4/6, train_loss: 0.8258\n",
      "[2022-09-21 05:02:56] 5/6, train_loss: 0.8269\n",
      "[2022-09-21 05:02:56] 6/6, train_loss: 0.8360\n",
      "epoch 1 average loss: 0.8399, best mean dice: -1.0000 at epoch -1\n",
      "1 / 3 tensor([[0.0000, 0.0190]], device='cuda:1')\n",
      "1 / 3 tensor([[0.0004, 0.0546]], device='cuda:0')\n",
      "2 / 3 tensor([[0.0004, 0.0085]], device='cuda:1')\n",
      "2 / 3 tensor([[0.0004, 0.0420]], device='cuda:0')\n",
      "3 / 3 tensor([[0.0000, 0.0038]], device='cuda:1')\n",
      "3 / 3 tensor([[0.0004, 0.0262]], device='cuda:0')\n",
      "evaluation metric - class 1: 0.0002538532135076821\n",
      "evaluation metric - class 2: 0.025665201246738434\n",
      "avg_metric 0.012959527230123058\n",
      "saved new best metric model\n",
      "current epoch: 1 current mean dice: 0.0130 best mean dice: 0.0130 at epoch 1\n",
      "----------\n",
      "epoch 2/2\n",
      "learning rate is set to 1.25e-05\n",
      "[2022-09-21 05:02:59] 1/6, train_loss: 0.8542\n",
      "[2022-09-21 05:02:59] 2/6, train_loss: 0.8045\n",
      "[2022-09-21 05:02:59] 3/6, train_loss: 0.8148\n",
      "[2022-09-21 05:02:59] 4/6, train_loss: 0.8437\n",
      "[2022-09-21 05:02:59] 5/6, train_loss: 0.8132\n",
      "[2022-09-21 05:02:59] 6/6, train_loss: 0.8232\n",
      "epoch 2 average loss: 0.8347, best mean dice: 0.0130 at epoch 1\n",
      "1 / 3 tensor([[0.0000, 0.0189]], device='cuda:1')\n",
      "1 / 3 tensor([[0.0004, 0.0540]], device='cuda:0')\n",
      "2 / 3 tensor([[0.0004, 0.0084]], device='cuda:1')\n",
      "2 / 3 tensor([[0.0003, 0.0418]], device='cuda:0')\n",
      "3 / 3 tensor([[0.0000, 0.0037]], device='cuda:1')\n",
      "3 / 3 tensor([[0.0003, 0.0261]], device='cuda:0')\n",
      "evaluation metric - class 1: 0.00023144491327305636\n",
      "evaluation metric - class 2: 0.02548489471276601\n",
      "avg_metric 0.012858169813019533\n",
      "current epoch: 2 current mean dice: 0.0129 best mean dice: 0.0130 at epoch 1\n",
      "train completed, best_metric: 0.0130 at epoch: 1\n",
      "0.012959527230123058\n",
      "-1\n",
      "\", stderr=b'WARNING:torch.distributed.run:\n",
      "*****************************************\n",
      "Setting OMP_NUM_THREADS environment variable for each process to be 1 in default, to avoid your system being overloaded, please further tune the variable for optimal performance in your application as needed. \n",
      "*****************************************\n",
      "Modifying image pixdim from [0.625 0.625 3.6   1.   ] to [  0.625       0.625       3.5999999 152.3814254]\n",
      "Modifying image pixdim from [0.6       0.6000003 4.0000024 1.       ] to [  0.60000002   0.60000034   4.00000227 149.31681629]\n",
      "Modifying image pixdim from [0.625 0.625 3.6   1.   ] to [  0.625        0.625        3.5999999  202.45334114]\n",
      "Modifying image pixdim from [0.62499976 0.62499976 3.6        1.        ] to [  0.62499976   0.62499976   3.5999999  164.74616031]\n",
      "Modifying image pixdim from [0.625      0.62500006 3.6000001  1.        ] to [  0.625        0.62500005   3.60000016 168.35859116]\n",
      "Modifying image pixdim from [0.625 0.625 3.6   1.   ] to [  0.625        0.625        3.5999999  180.81811432]\n",
      "Modifying image pixdim from [0.625 0.625 3.6   1.   ] to [  0.625        0.625        3.5999999  202.45334114]\n",
      "Modifying image pixdim from [0.6249999 0.6249999 3.6       1.       ] to [  0.62499988   0.62499988   3.5999999  152.06272679]\n",
      "Modifying image pixdim from [0.625   0.625   3.60001 1.     ] to [  0.625        0.625        3.60000992 173.25173679]\n",
      "Modifying image pixdim from [0.625   0.625   3.60001 1.     ] to [  0.625        0.625        3.60000992 151.21210251]\n",
      "Modifying image pixdim from [0.6       0.5999997 3.999998  1.       ] to [  0.60000002   0.59999975   3.99999799 129.0477496 ]\n",
      "Modifying image pixdim from [0.625 0.625 3.6   1.   ] to [  0.625        0.625        3.5999999  150.52861008]\n",
      "Modifying image pixdim from [0.6        0.60000014 4.0000005  1.        ] to [  0.60000002   0.60000017   4.00000043 128.8161199 ]\n",
      "Modifying image pixdim from [0.625 0.625 3.6   1.   ] to [  0.625        0.625        3.5999999  150.20609596]\n",
      "Modifying image pixdim from [0.6       0.6000003 4.0000024 1.       ] to [  0.60000002   0.60000034   4.00000227 149.31681629]\n",
      "Modifying image pixdim from [0.625 0.625 3.6   1.   ] to [  0.625        0.625        3.5999999  160.84918933]\n",
      "Modifying image pixdim from [0.75       0.74999964 2.9999986  1.        ] to [  0.75         0.74999965   2.99999861 157.50724574]\n",
      "Modifying image pixdim from [0.625   0.625   3.59999 1.     ] to [  0.625        0.625        3.59998989 208.35237358]\n",
      "Modifying image pixdim from [0.604167  0.6041667 3.999998  1.       ] to [  0.60416698   0.60416671   3.99999799 174.60244975]\n",
      "Modifying image pixdim from [0.6249999 0.6249999 3.6       1.       ] to [  0.62499988   0.62499988   3.5999999  152.06272679]\n",
      "Modifying image pixdim from [0.6        0.60000014 4.0000005  1.        ] to [  0.60000002   0.60000017   4.00000041 174.1516677 ]\n",
      "Modifying image pixdim from [0.625 0.625 3.6   1.   ] to [  0.625       0.625       3.5999999 149.7974827]\n",
      "Modifying image pixdim from [0.625 0.625 3.6   1.   ] to [  0.625        0.625        3.5999999  148.64025265]\n",
      "no available indices of class 1 to crop, set the crop ratio of this class to zero.\n",
      "no available indices of class 2 to crop, set the crop ratio of this class to zero.\n",
      "Modifying image pixdim from [0.625 0.625 3.6   1.   ] to [  0.625        0.625        3.5999999  142.87013615]\n",
      "Modifying image pixdim from [0.6       0.5999997 3.999998  1.       ] to [  0.60000002   0.59999975   3.99999799 129.0477496 ]\n",
      "Modifying image pixdim from [0.75       0.74999964 2.9999986  1.        ] to [  0.75         0.74999965   2.99999861 157.50724574]\n",
      "is_namedtuple is deprecated, please use the python checks instead\n",
      "is_namedtuple is deprecated, please use the python checks instead\n",
      "Modifying image pixdim from [0.625 0.625 3.6   1.   ] to [  0.625        0.625        3.5999999  170.38896694]\n",
      "Modifying image pixdim from [0.625   0.625   3.60001 1.     ] to [  0.625        0.625        3.60000992 149.1610426 ]\n",
      "Modifying image pixdim from [0.625 0.625 3.6   1.   ] to [  0.625       0.625       3.5999999 151.7973753]\n",
      "Modifying image pixdim from [0.625 0.625 3.6   1.   ] to [  0.625        0.625        3.5999999  160.67573396]\n",
      "Modifying image pixdim from [0.6       0.5999997 3.999998  1.       ] to [  0.60000002   0.59999975   3.99999799 129.0477496 ]\n",
      "Modifying image pixdim from [0.6        0.60000014 4.0000005  1.        ] to [  0.60000002   0.60000017   4.00000041 174.1516677 ]\n",
      "Modifying image pixdim from [0.6249999 0.6249999 3.6       1.       ] to [  0.62499988   0.62499988   3.5999999  152.06272679]\n",
      "Modifying image pixdim from [0.604167  0.6041667 3.999998  1.       ] to [  0.60416698   0.60416671   3.99999799 174.60244975]\n",
      "Modifying image pixdim from [0.625 0.625 3.6   1.   ] to [  0.625       0.625       3.5999999 149.7974827]\n",
      "Modifying image pixdim from [0.625   0.625   3.59999 1.     ] to [  0.625        0.625        3.59998989 208.35237358]\n",
      "Modifying image pixdim from [0.625 0.625 3.6   1.   ] to [  0.625        0.625        3.5999999  160.84918933]\n",
      "no available indices of class 1 to crop, set the crop ratio of this class to zero.\n",
      "no available indices of class 2 to crop, set the crop ratio of this class to zero.\n",
      "Modifying image pixdim from [0.625 0.625 3.6   1.   ] to [  0.625        0.625        3.5999999  142.87013615]\n",
      "Modifying image pixdim from [0.6       0.6000003 4.0000024 1.       ] to [  0.60000002   0.60000034   4.00000227 149.31681629]\n",
      "Modifying image pixdim from [0.75       0.74999964 2.9999986  1.        ] to [  0.75         0.74999965   2.99999861 157.50724574]\n",
      "Modifying image pixdim from [0.625 0.625 3.6   1.   ] to [  0.625        0.625        3.5999999  148.64025265]\n",
      "Modifying image pixdim from [0.75       0.74999964 2.9999986  1.        ] to [  0.75         0.74999965   2.99999861 157.50724574]\n",
      "')\n"
     ]
    },
    {
     "name": "stderr",
     "output_type": "stream",
     "text": [
      "\u001b[32m[I 2022-09-21 05:03:05,620]\u001b[0m Trial 1 finished with value: 0.012959527230123058 and parameters: {'learning_rate': 0.0001}. Best is trial 1 with value: 0.012959527230123058.\u001b[0m\n"
     ]
    },
    {
     "name": "stdout",
     "output_type": "stream",
     "text": [
      "Best value: 0.012959527230123058 (params: {'learning_rate': 0.0001})\n",
      "\n"
     ]
    }
   ],
   "source": [
    "search_space = {'learning_rate': [0.0001, 0.001, 0.01, 0.1]}\n",
    "study = optuna.create_study(sampler=optuna.samplers.GridSampler(search_space), direction='maximize')\n",
    "study.optimize(partial(optuna_gen, obj_filename=optuna_gen.get_obj_filename(), output_folder=optuna_dir), n_trials=2)\n",
    "print(\"Best value: {} (params: {})\\n\".format(study.best_value, study.best_params))"
   ]
  }
 ],
 "metadata": {
  "kernelspec": {
   "display_name": "Python 3.8.13 ('base')",
   "language": "python",
   "name": "python3"
  },
  "language_info": {
   "codemirror_mode": {
    "name": "ipython",
    "version": 3
   },
   "file_extension": ".py",
   "mimetype": "text/x-python",
   "name": "python",
   "nbconvert_exporter": "python",
   "pygments_lexer": "ipython3",
   "version": "3.8.13"
  },
  "vscode": {
   "interpreter": {
    "hash": "d4d1e4263499bec80672ea0156c357c1ee493ec2b1c70f0acce89fc37c4a6abe"
   }
  }
 },
 "nbformat": 4,
 "nbformat_minor": 2
}
