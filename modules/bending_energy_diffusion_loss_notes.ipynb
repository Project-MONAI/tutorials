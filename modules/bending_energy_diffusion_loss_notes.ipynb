{
 "cells": [
  {
   "cell_type": "markdown",
   "id": "6459ddb8",
   "metadata": {},
   "source": [
    "Copyright (c) MONAI Consortium  \n",
    "Licensed under the Apache License, Version 2.0 (the \"License\");  \n",
    "you may not use this file except in compliance with the License.  \n",
    "You may obtain a copy of the License at  \n",
    "&nbsp;&nbsp;&nbsp;&nbsp;http://www.apache.org/licenses/LICENSE-2.0  \n",
    "Unless required by applicable law or agreed to in writing, software  \n",
    "distributed under the License is distributed on an \"AS IS\" BASIS,  \n",
    "WITHOUT WARRANTIES OR CONDITIONS OF ANY KIND, either express or implied.  \n",
    "See the License for the specific language governing permissions and  \n",
    "limitations under the License."
   ]
  },
  {
   "cell_type": "markdown",
   "id": "0c5bf94b-4f1d-4e94-a6e6-94644095e910",
   "metadata": {},
   "source": [
    "# MONAI Registration Regularizers Overview\n",
    "\n",
    "This notebook discusses details regarding `BendingEnergyLoss` and `DiffusionLoss`."
   ]
  },
  {
   "cell_type": "markdown",
   "id": "952771b9",
   "metadata": {},
   "source": [
    "## Setup environment"
   ]
  },
  {
   "cell_type": "code",
   "execution_count": null,
   "id": "7b7eb650",
   "metadata": {},
   "outputs": [],
   "source": [
    "!python -c \"import monai\" || pip install -q \"monai-weekly\""
   ]
  },
  {
   "cell_type": "markdown",
   "id": "55f81921",
   "metadata": {},
   "source": [
    "## Setup imports"
   ]
  },
  {
   "cell_type": "code",
   "execution_count": null,
   "id": "16dc1913-abd6-48f4-a698-1f728aad742c",
   "metadata": {},
   "outputs": [],
   "source": [
    "import torch\n",
    "from monai.config import print_config\n",
    "from monai.losses import DiceLoss\n",
    "from monai.metrics import DiceMetric\n",
    "from monai.transforms import AsDiscrete, Compose\n",
    "\n",
    "print_config()\n",
    "\n",
    "\n",
    "def print_tensor(name, t):\n",
    "    print(f\"{name}: {t.numpy().tolist()} shape: {tuple(t.shape)}\")"
   ]
  },
  {
   "cell_type": "markdown",
   "id": "627afa81-a70d-4146-a8b1-9d48b8e3b9fc",
   "metadata": {},
   "source": [
    "## Definitions"
   ]
  },
  {
   "cell_type": "markdown",
   "id": "b4065320-f4f7-4741-9ed8-ddf9d30bf3c3",
   "metadata": {},
   "source": [
    "In this section, we provide the definitions of diffusion loss and bending energy loss in the 3D case. \n",
    "$\\def\\p{{\\mathbf p}}$\n",
    "$\\def\\u{{\\mathbf u}}$\n",
    "\n",
    "Let $\\Omega \\subseteq \\mathbb{R}^3$ be the image domain on which moving and fixed images are defined.\n",
    "\n",
    "The diffusion loss is given by $$\\begin{align*} R_\\mathrm{diffusion} & = \\sum_{\\p \\in \\Omega} ||\\nabla \\u (\\p)||^2 \\\\ & = \\sum_{\\p \\in \\Omega} \\left [ \\left( \\frac{\\partial \\u (\\p)}{\\partial x} \\right)^2 + \\left( \\frac{\\partial \\u (\\p)}{\\partial y} \\right)^2 + \\left( \\frac{\\partial \\u (\\p)}{\\partial z} \\right)^2 \\right ], \\end{align*}$$\n",
    "\n",
    "where $\\nabla \\u (\\p)$ denote the spatial gradient of the dense displacement field (DDF) $\\u$ at voxel $\\p$.\n",
    "\n",
    "The bending energy loss is given by $$\\begin{align*} R_\\mathrm{bending} & = \\sum_{\\p \\in \\Omega} ||\\nabla^2 \\u (\\p)||^2 \\\\ & = \\sum_{\\p \\in \\Omega} \\left [ \\left( \\frac{\\partial^2 \\u (\\p)}{\\partial x^2} \\right)^2 + \\left( \\frac{\\partial^2 \\u (\\p)}{\\partial y^2} \\right)^2 + \\left( \\frac{\\partial^2 \\u (\\p)}{\\partial z^2} \\right)^2 + \\left( \\frac{\\partial^2 \\u (\\p)}{\\partial x \\partial y} \\right)^2 + \\left( \\frac{\\partial^2 \\u (\\p)}{\\partial y \\partial z} \\right)^2 + \\left( \\frac{\\partial^2 \\u (\\p)}{\\partial z \\partial x} \\right)^2 \\right ], \\end{align*}$$\n",
    "\n",
    "where $\\nabla^2 \\u (\\p)$ denote the Hessian matrix of the dense displacement field (DDF) $\\u$ at voxel $\\p$.\n",
    "\n",
    "Central finite difference is used to estimate the spatial gradients, i.e.,\n",
    "\n",
    "$$\\frac{\\partial \\u (\\p)}{\\partial x} \\approx \\frac{1}{2} [\\u ((p_x + 1, p_y, p_z)) - \\u ((p_x - 1, p_y, p_z)) ],$$\n",
    "\n",
    "$$\\frac{\\partial \\u (\\p)}{\\partial y} \\approx \\frac{1}{2} [\\u ((p_x, p_y + 1, p_z)) - \\u ((p_x, p_y - 1, p_z)) ],$$\n",
    "\n",
    "$$\\frac{\\partial \\u (\\p)}{\\partial z} \\approx \\frac{1}{2} [\\u ((p_x, p_y, p_z + 1)) - \\u ((p_x, p_y, p_z - 1)) ].$$\n",
    "\n",
    "The second order spatial gradients are estimated similarly."
   ]
  }
 ],
 "metadata": {
  "kernelspec": {
   "display_name": "Python 3 (ipykernel)",
   "language": "python",
   "name": "python3"
  },
  "language_info": {
   "codemirror_mode": {
    "name": "ipython",
    "version": 3
   },
   "file_extension": ".py",
   "mimetype": "text/x-python",
   "name": "python",
   "nbconvert_exporter": "python",
   "pygments_lexer": "ipython3",
   "version": "3.8.18"
  }
 },
 "nbformat": 4,
 "nbformat_minor": 5
}
