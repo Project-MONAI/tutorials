{
 "cells": [
  {
   "cell_type": "markdown",
   "metadata": {},
   "source": [
    "# Hugging Face Pipeline for MONAI\n",
    "[Hugging Face](https://huggingface.co/) is a machine learning and data science platform and community that helps users build, deploy and train machine learning models. Users can browse through models and data sets that other people have uploaded. Hugging Face is often called the GitHub of machine learning because it lets developers share and test their work openly. Currently there are more than 1 million models shared on hugging face.\n",
    "\n",
    "Transformers is a python library developed by hugging face. It provides APIs and tools to easily download and train state-of-the-art pretrained models. \n",
    "\n",
    "In this tutorial, a pretrained spleen segmentation model will be wrapped into a pipeline provided by the Transformers library. By following this tutorial, users can easily build their own discriminative MONAI models (classification, detection, segmentation) into a transformer pipeline and let others use it as a hugging face native Transformers pipeline transparently. "
   ]
  }
 ],
 "metadata": {
  "language_info": {
   "name": "python"
  }
 },
 "nbformat": 4,
 "nbformat_minor": 2
}
