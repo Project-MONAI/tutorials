{
 "cells": [
  {
   "cell_type": "markdown",
   "metadata": {},
   "source": [
    "# MONAI Auto3DSeg AutoRunner\n",
    "\n",
    "This notebook will introduce `AutoRunner`, the interface to run the Auto3Dseg pipeline with minimal user inputs.\n",
    "\n",
    "Specifically, it will show the features below:\n",
    "1. Use `AutoRunner` with an input config file `input.yaml` example\n",
    "2. How to prepare an `input.yaml`\n",
    "3. How to configure the input/ouput folders\n",
    "4. How to set the internal parameters of **Auto3DSeg** components\n",
    "5. How to use 3rd party hyper parameter optimization(HPO) package with `AutoRunner`\n",
    "\n",
    "## Setup environment"
   ]
  },
  {
   "cell_type": "code",
   "execution_count": 1,
   "metadata": {},
   "outputs": [],
   "source": [
    "!python -c \"import monai\" || pip install -q \"monai-weekly[nibabel, nni, tqdm, cucim, yaml, optuna]\""
   ]
  },
  {
   "cell_type": "markdown",
   "metadata": {},
   "source": [
    "## Setup imports"
   ]
  },
  {
   "cell_type": "code",
   "execution_count": 2,
   "metadata": {},
   "outputs": [],
   "source": [
    "import os\n",
    "import tempfile\n",
    "import torch\n",
    "\n",
    "from monai.bundle.config_parser import ConfigParser\n",
    "from monai.apps import download_and_extract\n",
    "\n",
    "from monai.apps.auto3dseg import AutoRunner\n",
    "from monai.auto3dseg import datafold_read"
   ]
  },
  {
   "cell_type": "markdown",
   "metadata": {},
   "source": [
    "## Download dataset"
   ]
  },
  {
   "cell_type": "code",
   "execution_count": 3,
   "metadata": {},
   "outputs": [
    {
     "name": "stdout",
     "output_type": "stream",
     "text": [
      "/workspace/data\n"
     ]
    }
   ],
   "source": [
    "directory = os.environ.get(\"MONAI_DATA_DIRECTORY\")\n",
    "root_dir = tempfile.mkdtemp() if directory is None else directory\n",
    "print(root_dir)\n",
    "\n",
    "msd_task = \"Task04_Hippocampus\"\n",
    "resource = \"https://msd-for-monai.s3-us-west-2.amazonaws.com/\" + msd_task + \".tar\"\n",
    "\n",
    "compressed_file = os.path.join(root_dir, msd_task + \".tar\")\n",
    "dataroot = os.path.join(root_dir, msd_task)\n",
    "if not os.path.exists(dataroot):\n",
    "    download_and_extract(resource, compressed_file, root_dir)\n",
    "\n",
    "datalist_file = os.path.join(\"..\", \"tasks\", \"msd\", msd_task, \"msd_\" + msd_task.lower() + \"_folds.json\")"
   ]
  },
  {
   "cell_type": "markdown",
   "metadata": {},
   "source": [
    "## Prepare a input YAML configuration"
   ]
  },
  {
   "cell_type": "code",
   "execution_count": 4,
   "metadata": {},
   "outputs": [],
   "source": [
    "input_cfg = {\n",
    "    \"name\": msd_task,  # optional, it is only for your own record\n",
    "    \"task\": \"segmentation\",  # optional, it is only for your own record\n",
    "    \"modality\": \"MRI\",  # required\n",
    "    \"datalist\": datalist_file,  # required\n",
    "    \"dataroot\": dataroot,  # required\n",
    "}\n",
    "input = './input.yaml'\n",
    "ConfigParser.export_config_file(input_cfg, input)"
   ]
  },
  {
   "cell_type": "markdown",
   "metadata": {},
   "source": [
    "## Run the Auto3DSeg pipeline in a few lines of code\n",
    "\n",
    "Below is the typical usage of AutoRunner\n",
    "```python\n",
    "runner = AutoRunner(input=input)\n",
    "runner.run()\n",
    "```\n",
    "\n",
    "The `run` command will take a long time since it will train algorithms over iterations.\n",
    "\n",
    "If the user would like to perform a full training in the tutorial, it is recommended to uncomment the `runner.run()` appended at the end of each code block.\n",
    "\n",
    "## Use the default setting with the input YAML file"
   ]
  },
  {
   "cell_type": "code",
   "execution_count": 6,
   "metadata": {},
   "outputs": [
    {
     "name": "stdout",
     "output_type": "stream",
     "text": [
      "2022-11-16 07:42:29,254 - INFO - Work directory ./work_dir is used to save all results\n",
      "2022-11-16 07:42:29,259 - INFO - Loading ./input.yaml for AutoRunner and making a copy in /workspace/monai/tutorials-in-dev/auto3dseg/notebooks/work_dir/input.yaml\n",
      "2022-11-16 07:42:29,270 - INFO - The output_dir is not specified. /workspace/monai/tutorials-in-dev/auto3dseg/notebooks/work_dir/ensemble_output will be used to save ensemble predictions\n"
     ]
    },
    {
     "name": "stderr",
     "output_type": "stream",
     "text": [
      "100%|██████████| 30/30 [00:00<00:00, 74.18it/s]\n",
      "algo_templates.tar.gz: 296kB [00:01, 212kB/s]                             "
     ]
    },
    {
     "name": "stdout",
     "output_type": "stream",
     "text": [
      "2022-11-16 07:42:31,323 - INFO - Downloaded: /tmp/tmpc0n8vbex/algo_templates.tar.gz\n",
      "2022-11-16 07:42:31,325 - INFO - Expected md5 is None, skip md5 check for file /tmp/tmpc0n8vbex/algo_templates.tar.gz.\n",
      "2022-11-16 07:42:31,328 - INFO - Writing into directory: /workspace/monai/tutorials-in-dev/auto3dseg/notebooks/work_dir.\n"
     ]
    },
    {
     "name": "stderr",
     "output_type": "stream",
     "text": [
      "\n"
     ]
    },
    {
     "name": "stdout",
     "output_type": "stream",
     "text": [
      "2022-11-16 07:42:31,647 - INFO - /workspace/monai/tutorials-in-dev/auto3dseg/notebooks/work_dir/segresnet2d_0\n",
      "2022-11-16 07:42:31,999 - INFO - /workspace/monai/tutorials-in-dev/auto3dseg/notebooks/work_dir/segresnet2d_1\n",
      "2022-11-16 07:42:32,250 - INFO - /workspace/monai/tutorials-in-dev/auto3dseg/notebooks/work_dir/segresnet2d_2\n",
      "2022-11-16 07:42:32,501 - INFO - /workspace/monai/tutorials-in-dev/auto3dseg/notebooks/work_dir/segresnet2d_3\n",
      "2022-11-16 07:42:32,752 - INFO - /workspace/monai/tutorials-in-dev/auto3dseg/notebooks/work_dir/segresnet2d_4\n",
      "2022-11-16 07:42:33,104 - INFO - /workspace/monai/tutorials-in-dev/auto3dseg/notebooks/work_dir/dints_0\n",
      "2022-11-16 07:42:33,365 - INFO - /workspace/monai/tutorials-in-dev/auto3dseg/notebooks/work_dir/dints_1\n",
      "2022-11-16 07:42:33,624 - INFO - /workspace/monai/tutorials-in-dev/auto3dseg/notebooks/work_dir/dints_2\n",
      "2022-11-16 07:42:33,883 - INFO - /workspace/monai/tutorials-in-dev/auto3dseg/notebooks/work_dir/dints_3\n",
      "2022-11-16 07:42:34,231 - INFO - /workspace/monai/tutorials-in-dev/auto3dseg/notebooks/work_dir/dints_4\n",
      "2022-11-16 07:42:34,486 - INFO - /workspace/monai/tutorials-in-dev/auto3dseg/notebooks/work_dir/swinunetr_0\n",
      "2022-11-16 07:42:34,734 - INFO - /workspace/monai/tutorials-in-dev/auto3dseg/notebooks/work_dir/swinunetr_1\n",
      "2022-11-16 07:42:34,984 - INFO - /workspace/monai/tutorials-in-dev/auto3dseg/notebooks/work_dir/swinunetr_2\n",
      "2022-11-16 07:42:35,325 - INFO - /workspace/monai/tutorials-in-dev/auto3dseg/notebooks/work_dir/swinunetr_3\n",
      "2022-11-16 07:42:35,574 - INFO - /workspace/monai/tutorials-in-dev/auto3dseg/notebooks/work_dir/swinunetr_4\n",
      "2022-11-16 07:42:35,867 - INFO - /workspace/monai/tutorials-in-dev/auto3dseg/notebooks/work_dir/segresnet_0\n",
      "2022-11-16 07:42:36,125 - INFO - /workspace/monai/tutorials-in-dev/auto3dseg/notebooks/work_dir/segresnet_1\n",
      "2022-11-16 07:42:36,472 - INFO - /workspace/monai/tutorials-in-dev/auto3dseg/notebooks/work_dir/segresnet_2\n",
      "2022-11-16 07:42:36,729 - INFO - /workspace/monai/tutorials-in-dev/auto3dseg/notebooks/work_dir/segresnet_3\n",
      "2022-11-16 07:42:36,986 - INFO - /workspace/monai/tutorials-in-dev/auto3dseg/notebooks/work_dir/segresnet_4\n",
      "2022-11-16 07:42:36,988 - INFO - Launching: torchrun --nnodes=1 --nproc_per_node=2 /workspace/monai/tutorials-in-dev/auto3dseg/notebooks/work_dir/dints_4/scripts/search.py run --config_file='/workspace/monai/tutorials-in-dev/auto3dseg/notebooks/work_dir/dints_4/configs/transforms_validate.yaml','/workspace/monai/tutorials-in-dev/auto3dseg/notebooks/work_dir/dints_4/configs/transforms_train.yaml','/workspace/monai/tutorials-in-dev/auto3dseg/notebooks/work_dir/dints_4/configs/transforms_infer.yaml','/workspace/monai/tutorials-in-dev/auto3dseg/notebooks/work_dir/dints_4/configs/hyper_parameters_search.yaml','/workspace/monai/tutorials-in-dev/auto3dseg/notebooks/work_dir/dints_4/configs/network.yaml','/workspace/monai/tutorials-in-dev/auto3dseg/notebooks/work_dir/dints_4/configs/network_search.yaml','/workspace/monai/tutorials-in-dev/auto3dseg/notebooks/work_dir/dints_4/configs/hyper_parameters.yaml'\n"
     ]
    },
    {
     "ename": "KeyboardInterrupt",
     "evalue": "",
     "output_type": "error",
     "traceback": [
      "\u001b[0;31m---------------------------------------------------------------------------\u001b[0m",
      "\u001b[0;31mKeyboardInterrupt\u001b[0m                         Traceback (most recent call last)",
      "Cell \u001b[0;32mIn [6], line 2\u001b[0m\n\u001b[1;32m      1\u001b[0m runner \u001b[39m=\u001b[39m AutoRunner(\u001b[39minput\u001b[39m\u001b[39m=\u001b[39m\u001b[39minput\u001b[39m)\n\u001b[0;32m----> 2\u001b[0m runner\u001b[39m.\u001b[39;49mrun()\n",
      "File \u001b[0;32m/workspace/monai/monai-in-dev/monai/apps/auto3dseg/auto_runner.py:586\u001b[0m, in \u001b[0;36mAutoRunner.run\u001b[0;34m(self)\u001b[0m\n\u001b[1;32m    584\u001b[0m history \u001b[39m=\u001b[39m import_bundle_algo_history(\u001b[39mself\u001b[39m\u001b[39m.\u001b[39mwork_dir, only_trained\u001b[39m=\u001b[39m\u001b[39mFalse\u001b[39;00m)\n\u001b[1;32m    585\u001b[0m \u001b[39mif\u001b[39;00m \u001b[39mnot\u001b[39;00m \u001b[39mself\u001b[39m\u001b[39m.\u001b[39mhpo:\n\u001b[0;32m--> 586\u001b[0m     \u001b[39mself\u001b[39;49m\u001b[39m.\u001b[39;49m_train_algo_in_sequence(history)\n\u001b[1;32m    587\u001b[0m \u001b[39melse\u001b[39;00m:\n\u001b[1;32m    588\u001b[0m     \u001b[39mself\u001b[39m\u001b[39m.\u001b[39m_train_algo_in_nni(history)\n",
      "File \u001b[0;32m/workspace/monai/monai-in-dev/monai/apps/auto3dseg/auto_runner.py:488\u001b[0m, in \u001b[0;36mAutoRunner._train_algo_in_sequence\u001b[0;34m(self, history)\u001b[0m\n\u001b[1;32m    486\u001b[0m \u001b[39mfor\u001b[39;00m task \u001b[39min\u001b[39;00m history:\n\u001b[1;32m    487\u001b[0m     \u001b[39mfor\u001b[39;00m _, algo \u001b[39min\u001b[39;00m task\u001b[39m.\u001b[39mitems():\n\u001b[0;32m--> 488\u001b[0m         algo\u001b[39m.\u001b[39;49mtrain(\u001b[39mself\u001b[39;49m\u001b[39m.\u001b[39;49mtrain_params)\n\u001b[1;32m    489\u001b[0m         acc \u001b[39m=\u001b[39m algo\u001b[39m.\u001b[39mget_score()\n\u001b[1;32m    490\u001b[0m         algo_to_pickle(algo, template_path\u001b[39m=\u001b[39malgo\u001b[39m.\u001b[39mtemplate_path, best_metrics\u001b[39m=\u001b[39macc)\n",
      "File \u001b[0;32m/workspace/monai/tutorials-in-dev/auto3dseg/notebooks/work_dir/algorithm_templates/dints/scripts/algo.py:200\u001b[0m, in \u001b[0;36mDintsAlgo.train\u001b[0;34m(self, train_params)\u001b[0m\n\u001b[1;32m    198\u001b[0m cmd, devices_info \u001b[39m=\u001b[39m \u001b[39mself\u001b[39m\u001b[39m.\u001b[39m_create_cmd(dints_search_params)\n\u001b[1;32m    199\u001b[0m cmd_search \u001b[39m=\u001b[39m cmd\u001b[39m.\u001b[39mreplace(\u001b[39m'\u001b[39m\u001b[39mtrain.py\u001b[39m\u001b[39m'\u001b[39m, \u001b[39m'\u001b[39m\u001b[39msearch.py\u001b[39m\u001b[39m'\u001b[39m)\n\u001b[0;32m--> 200\u001b[0m \u001b[39mself\u001b[39;49m\u001b[39m.\u001b[39;49m_run_cmd(cmd_search, devices_info)\n\u001b[1;32m    202\u001b[0m dints_train_params \u001b[39m=\u001b[39m {}\n\u001b[1;32m    203\u001b[0m \u001b[39mfor\u001b[39;00m k, v \u001b[39min\u001b[39;00m params\u001b[39m.\u001b[39mitems():\n",
      "File \u001b[0;32m/workspace/monai/monai-in-dev/monai/apps/auto3dseg/bundle_gen.py:185\u001b[0m, in \u001b[0;36mBundleAlgo._run_cmd\u001b[0;34m(self, cmd, devices_info)\u001b[0m\n\u001b[1;32m    183\u001b[0m     \u001b[39mif\u001b[39;00m devices_info:\n\u001b[1;32m    184\u001b[0m         ps_environ[\u001b[39m\"\u001b[39m\u001b[39mCUDA_VISIBLE_DEVICES\u001b[39m\u001b[39m\"\u001b[39m] \u001b[39m=\u001b[39m devices_info\n\u001b[0;32m--> 185\u001b[0m     normal_out \u001b[39m=\u001b[39m subprocess\u001b[39m.\u001b[39;49mrun(cmd\u001b[39m.\u001b[39;49msplit(), env\u001b[39m=\u001b[39;49mps_environ, check\u001b[39m=\u001b[39;49m\u001b[39mTrue\u001b[39;49;00m, capture_output\u001b[39m=\u001b[39;49m\u001b[39mTrue\u001b[39;49;00m)\n\u001b[1;32m    186\u001b[0m     logger\u001b[39m.\u001b[39minfo(\u001b[39mrepr\u001b[39m(normal_out)\u001b[39m.\u001b[39mreplace(\u001b[39m\"\u001b[39m\u001b[39m\\\\\u001b[39;00m\u001b[39mn\u001b[39m\u001b[39m\"\u001b[39m, \u001b[39m\"\u001b[39m\u001b[39m\\n\u001b[39;00m\u001b[39m\"\u001b[39m)\u001b[39m.\u001b[39mreplace(\u001b[39m\"\u001b[39m\u001b[39m\\\\\u001b[39;00m\u001b[39mt\u001b[39m\u001b[39m\"\u001b[39m, \u001b[39m\"\u001b[39m\u001b[39m\\t\u001b[39;00m\u001b[39m\"\u001b[39m))\n\u001b[1;32m    187\u001b[0m \u001b[39mexcept\u001b[39;00m subprocess\u001b[39m.\u001b[39mCalledProcessError \u001b[39mas\u001b[39;00m e:\n",
      "File \u001b[0;32m/opt/conda/lib/python3.8/subprocess.py:495\u001b[0m, in \u001b[0;36mrun\u001b[0;34m(input, capture_output, timeout, check, *popenargs, **kwargs)\u001b[0m\n\u001b[1;32m    493\u001b[0m \u001b[39mwith\u001b[39;00m Popen(\u001b[39m*\u001b[39mpopenargs, \u001b[39m*\u001b[39m\u001b[39m*\u001b[39mkwargs) \u001b[39mas\u001b[39;00m process:\n\u001b[1;32m    494\u001b[0m     \u001b[39mtry\u001b[39;00m:\n\u001b[0;32m--> 495\u001b[0m         stdout, stderr \u001b[39m=\u001b[39m process\u001b[39m.\u001b[39;49mcommunicate(\u001b[39minput\u001b[39;49m, timeout\u001b[39m=\u001b[39;49mtimeout)\n\u001b[1;32m    496\u001b[0m     \u001b[39mexcept\u001b[39;00m TimeoutExpired \u001b[39mas\u001b[39;00m exc:\n\u001b[1;32m    497\u001b[0m         process\u001b[39m.\u001b[39mkill()\n",
      "File \u001b[0;32m/opt/conda/lib/python3.8/subprocess.py:1028\u001b[0m, in \u001b[0;36mPopen.communicate\u001b[0;34m(self, input, timeout)\u001b[0m\n\u001b[1;32m   1025\u001b[0m     endtime \u001b[39m=\u001b[39m \u001b[39mNone\u001b[39;00m\n\u001b[1;32m   1027\u001b[0m \u001b[39mtry\u001b[39;00m:\n\u001b[0;32m-> 1028\u001b[0m     stdout, stderr \u001b[39m=\u001b[39m \u001b[39mself\u001b[39;49m\u001b[39m.\u001b[39;49m_communicate(\u001b[39minput\u001b[39;49m, endtime, timeout)\n\u001b[1;32m   1029\u001b[0m \u001b[39mexcept\u001b[39;00m \u001b[39mKeyboardInterrupt\u001b[39;00m:\n\u001b[1;32m   1030\u001b[0m     \u001b[39m# https://bugs.python.org/issue25942\u001b[39;00m\n\u001b[1;32m   1031\u001b[0m     \u001b[39m# See the detailed comment in .wait().\u001b[39;00m\n\u001b[1;32m   1032\u001b[0m     \u001b[39mif\u001b[39;00m timeout \u001b[39mis\u001b[39;00m \u001b[39mnot\u001b[39;00m \u001b[39mNone\u001b[39;00m:\n",
      "File \u001b[0;32m/opt/conda/lib/python3.8/subprocess.py:1868\u001b[0m, in \u001b[0;36mPopen._communicate\u001b[0;34m(self, input, endtime, orig_timeout)\u001b[0m\n\u001b[1;32m   1861\u001b[0m     \u001b[39mself\u001b[39m\u001b[39m.\u001b[39m_check_timeout(endtime, orig_timeout,\n\u001b[1;32m   1862\u001b[0m                         stdout, stderr,\n\u001b[1;32m   1863\u001b[0m                         skip_check_and_raise\u001b[39m=\u001b[39m\u001b[39mTrue\u001b[39;00m)\n\u001b[1;32m   1864\u001b[0m     \u001b[39mraise\u001b[39;00m \u001b[39mRuntimeError\u001b[39;00m(  \u001b[39m# Impossible :)\u001b[39;00m\n\u001b[1;32m   1865\u001b[0m         \u001b[39m'\u001b[39m\u001b[39m_check_timeout(..., skip_check_and_raise=True) \u001b[39m\u001b[39m'\u001b[39m\n\u001b[1;32m   1866\u001b[0m         \u001b[39m'\u001b[39m\u001b[39mfailed to raise TimeoutExpired.\u001b[39m\u001b[39m'\u001b[39m)\n\u001b[0;32m-> 1868\u001b[0m ready \u001b[39m=\u001b[39m selector\u001b[39m.\u001b[39;49mselect(timeout)\n\u001b[1;32m   1869\u001b[0m \u001b[39mself\u001b[39m\u001b[39m.\u001b[39m_check_timeout(endtime, orig_timeout, stdout, stderr)\n\u001b[1;32m   1871\u001b[0m \u001b[39m# XXX Rewrite these to use non-blocking I/O on the file\u001b[39;00m\n\u001b[1;32m   1872\u001b[0m \u001b[39m# objects; they are no longer using C stdio!\u001b[39;00m\n",
      "File \u001b[0;32m/opt/conda/lib/python3.8/selectors.py:415\u001b[0m, in \u001b[0;36m_PollLikeSelector.select\u001b[0;34m(self, timeout)\u001b[0m\n\u001b[1;32m    413\u001b[0m ready \u001b[39m=\u001b[39m []\n\u001b[1;32m    414\u001b[0m \u001b[39mtry\u001b[39;00m:\n\u001b[0;32m--> 415\u001b[0m     fd_event_list \u001b[39m=\u001b[39m \u001b[39mself\u001b[39;49m\u001b[39m.\u001b[39;49m_selector\u001b[39m.\u001b[39;49mpoll(timeout)\n\u001b[1;32m    416\u001b[0m \u001b[39mexcept\u001b[39;00m \u001b[39mInterruptedError\u001b[39;00m:\n\u001b[1;32m    417\u001b[0m     \u001b[39mreturn\u001b[39;00m ready\n",
      "\u001b[0;31mKeyboardInterrupt\u001b[0m: "
     ]
    }
   ],
   "source": [
    "runner = AutoRunner(input=input)\n",
    "runner.run()"
   ]
  },
  {
   "cell_type": "markdown",
   "metadata": {},
   "source": [
    "## Use the default setting with the dictionary instead of the YAML file as the input"
   ]
  },
  {
   "cell_type": "code",
   "execution_count": 7,
   "metadata": {},
   "outputs": [
    {
     "name": "stdout",
     "output_type": "stream",
     "text": [
      "2022-11-16 07:43:17,043 - INFO - ./work_dir does not exists. Creating...\n",
      "2022-11-16 07:43:17,044 - INFO - ./work_dir created to save all results\n",
      "2022-11-16 07:43:17,045 - INFO - The output_dir is not specified. /workspace/monai/tutorials-in-dev/auto3dseg/notebooks/work_dir/ensemble_output will be used to save ensemble predictions\n",
      "2022-11-16 07:43:17,045 - INFO - Directory /workspace/monai/tutorials-in-dev/auto3dseg/notebooks/work_dir/ensemble_output is created to save ensemble predictions\n"
     ]
    },
    {
     "name": "stderr",
     "output_type": "stream",
     "text": [
      "100%|██████████| 30/30 [00:00<00:00, 66.77it/s]\n",
      "algo_templates.tar.gz: 296kB [00:00, 313kB/s]                             "
     ]
    },
    {
     "name": "stdout",
     "output_type": "stream",
     "text": [
      "2022-11-16 07:43:18,665 - INFO - Downloaded: /tmp/tmpc4sq64qu/algo_templates.tar.gz\n",
      "2022-11-16 07:43:18,666 - INFO - Expected md5 is None, skip md5 check for file /tmp/tmpc4sq64qu/algo_templates.tar.gz.\n",
      "2022-11-16 07:43:18,666 - INFO - Writing into directory: /workspace/monai/tutorials-in-dev/auto3dseg/notebooks/work_dir.\n"
     ]
    },
    {
     "name": "stderr",
     "output_type": "stream",
     "text": [
      "\n"
     ]
    },
    {
     "name": "stdout",
     "output_type": "stream",
     "text": [
      "2022-11-16 07:43:18,972 - INFO - /workspace/monai/tutorials-in-dev/auto3dseg/notebooks/work_dir/segresnet2d_0\n",
      "2022-11-16 07:43:19,229 - INFO - /workspace/monai/tutorials-in-dev/auto3dseg/notebooks/work_dir/segresnet2d_1\n",
      "2022-11-16 07:43:19,487 - INFO - /workspace/monai/tutorials-in-dev/auto3dseg/notebooks/work_dir/segresnet2d_2\n",
      "2022-11-16 07:43:19,744 - INFO - /workspace/monai/tutorials-in-dev/auto3dseg/notebooks/work_dir/segresnet2d_3\n",
      "2022-11-16 07:43:20,135 - INFO - /workspace/monai/tutorials-in-dev/auto3dseg/notebooks/work_dir/segresnet2d_4\n",
      "2022-11-16 07:43:20,403 - INFO - /workspace/monai/tutorials-in-dev/auto3dseg/notebooks/work_dir/dints_0\n",
      "2022-11-16 07:43:20,666 - INFO - /workspace/monai/tutorials-in-dev/auto3dseg/notebooks/work_dir/dints_1\n",
      "2022-11-16 07:43:20,931 - INFO - /workspace/monai/tutorials-in-dev/auto3dseg/notebooks/work_dir/dints_2\n",
      "2022-11-16 07:43:21,196 - INFO - /workspace/monai/tutorials-in-dev/auto3dseg/notebooks/work_dir/dints_3\n",
      "2022-11-16 07:43:21,583 - INFO - /workspace/monai/tutorials-in-dev/auto3dseg/notebooks/work_dir/dints_4\n",
      "2022-11-16 07:43:21,837 - INFO - /workspace/monai/tutorials-in-dev/auto3dseg/notebooks/work_dir/swinunetr_0\n",
      "2022-11-16 07:43:22,099 - INFO - /workspace/monai/tutorials-in-dev/auto3dseg/notebooks/work_dir/swinunetr_1\n",
      "2022-11-16 07:43:22,352 - INFO - /workspace/monai/tutorials-in-dev/auto3dseg/notebooks/work_dir/swinunetr_2\n",
      "2022-11-16 07:43:22,603 - INFO - /workspace/monai/tutorials-in-dev/auto3dseg/notebooks/work_dir/swinunetr_3\n",
      "2022-11-16 07:43:22,981 - INFO - /workspace/monai/tutorials-in-dev/auto3dseg/notebooks/work_dir/swinunetr_4\n",
      "2022-11-16 07:43:23,242 - INFO - /workspace/monai/tutorials-in-dev/auto3dseg/notebooks/work_dir/segresnet_0\n",
      "2022-11-16 07:43:23,505 - INFO - /workspace/monai/tutorials-in-dev/auto3dseg/notebooks/work_dir/segresnet_1\n",
      "2022-11-16 07:43:23,766 - INFO - /workspace/monai/tutorials-in-dev/auto3dseg/notebooks/work_dir/segresnet_2\n",
      "2022-11-16 07:43:24,030 - INFO - /workspace/monai/tutorials-in-dev/auto3dseg/notebooks/work_dir/segresnet_3\n",
      "2022-11-16 07:43:24,295 - INFO - /workspace/monai/tutorials-in-dev/auto3dseg/notebooks/work_dir/segresnet_4\n",
      "2022-11-16 07:43:24,298 - INFO - Launching: torchrun --nnodes=1 --nproc_per_node=2 /workspace/monai/tutorials-in-dev/auto3dseg/notebooks/work_dir/dints_4/scripts/search.py run --config_file='/workspace/monai/tutorials-in-dev/auto3dseg/notebooks/work_dir/dints_4/configs/transforms_validate.yaml','/workspace/monai/tutorials-in-dev/auto3dseg/notebooks/work_dir/dints_4/configs/transforms_train.yaml','/workspace/monai/tutorials-in-dev/auto3dseg/notebooks/work_dir/dints_4/configs/transforms_infer.yaml','/workspace/monai/tutorials-in-dev/auto3dseg/notebooks/work_dir/dints_4/configs/hyper_parameters_search.yaml','/workspace/monai/tutorials-in-dev/auto3dseg/notebooks/work_dir/dints_4/configs/network.yaml','/workspace/monai/tutorials-in-dev/auto3dseg/notebooks/work_dir/dints_4/configs/network_search.yaml','/workspace/monai/tutorials-in-dev/auto3dseg/notebooks/work_dir/dints_4/configs/hyper_parameters.yaml'\n"
     ]
    },
    {
     "ename": "KeyboardInterrupt",
     "evalue": "",
     "output_type": "error",
     "traceback": [
      "\u001b[0;31m---------------------------------------------------------------------------\u001b[0m",
      "\u001b[0;31mKeyboardInterrupt\u001b[0m                         Traceback (most recent call last)",
      "Cell \u001b[0;32mIn [7], line 2\u001b[0m\n\u001b[1;32m      1\u001b[0m runner \u001b[39m=\u001b[39m AutoRunner(\u001b[39minput\u001b[39m\u001b[39m=\u001b[39minput_cfg)\n\u001b[0;32m----> 2\u001b[0m runner\u001b[39m.\u001b[39;49mrun()\n",
      "File \u001b[0;32m/workspace/monai/monai-in-dev/monai/apps/auto3dseg/auto_runner.py:586\u001b[0m, in \u001b[0;36mAutoRunner.run\u001b[0;34m(self)\u001b[0m\n\u001b[1;32m    584\u001b[0m history \u001b[39m=\u001b[39m import_bundle_algo_history(\u001b[39mself\u001b[39m\u001b[39m.\u001b[39mwork_dir, only_trained\u001b[39m=\u001b[39m\u001b[39mFalse\u001b[39;00m)\n\u001b[1;32m    585\u001b[0m \u001b[39mif\u001b[39;00m \u001b[39mnot\u001b[39;00m \u001b[39mself\u001b[39m\u001b[39m.\u001b[39mhpo:\n\u001b[0;32m--> 586\u001b[0m     \u001b[39mself\u001b[39;49m\u001b[39m.\u001b[39;49m_train_algo_in_sequence(history)\n\u001b[1;32m    587\u001b[0m \u001b[39melse\u001b[39;00m:\n\u001b[1;32m    588\u001b[0m     \u001b[39mself\u001b[39m\u001b[39m.\u001b[39m_train_algo_in_nni(history)\n",
      "File \u001b[0;32m/workspace/monai/monai-in-dev/monai/apps/auto3dseg/auto_runner.py:488\u001b[0m, in \u001b[0;36mAutoRunner._train_algo_in_sequence\u001b[0;34m(self, history)\u001b[0m\n\u001b[1;32m    486\u001b[0m \u001b[39mfor\u001b[39;00m task \u001b[39min\u001b[39;00m history:\n\u001b[1;32m    487\u001b[0m     \u001b[39mfor\u001b[39;00m _, algo \u001b[39min\u001b[39;00m task\u001b[39m.\u001b[39mitems():\n\u001b[0;32m--> 488\u001b[0m         algo\u001b[39m.\u001b[39;49mtrain(\u001b[39mself\u001b[39;49m\u001b[39m.\u001b[39;49mtrain_params)\n\u001b[1;32m    489\u001b[0m         acc \u001b[39m=\u001b[39m algo\u001b[39m.\u001b[39mget_score()\n\u001b[1;32m    490\u001b[0m         algo_to_pickle(algo, template_path\u001b[39m=\u001b[39malgo\u001b[39m.\u001b[39mtemplate_path, best_metrics\u001b[39m=\u001b[39macc)\n",
      "File \u001b[0;32m/workspace/monai/tutorials-in-dev/auto3dseg/notebooks/work_dir/algorithm_templates/dints/scripts/algo.py:200\u001b[0m, in \u001b[0;36mDintsAlgo.train\u001b[0;34m(self, train_params)\u001b[0m\n\u001b[1;32m    198\u001b[0m cmd, devices_info \u001b[39m=\u001b[39m \u001b[39mself\u001b[39m\u001b[39m.\u001b[39m_create_cmd(dints_search_params)\n\u001b[1;32m    199\u001b[0m cmd_search \u001b[39m=\u001b[39m cmd\u001b[39m.\u001b[39mreplace(\u001b[39m'\u001b[39m\u001b[39mtrain.py\u001b[39m\u001b[39m'\u001b[39m, \u001b[39m'\u001b[39m\u001b[39msearch.py\u001b[39m\u001b[39m'\u001b[39m)\n\u001b[0;32m--> 200\u001b[0m \u001b[39mself\u001b[39;49m\u001b[39m.\u001b[39;49m_run_cmd(cmd_search, devices_info)\n\u001b[1;32m    202\u001b[0m dints_train_params \u001b[39m=\u001b[39m {}\n\u001b[1;32m    203\u001b[0m \u001b[39mfor\u001b[39;00m k, v \u001b[39min\u001b[39;00m params\u001b[39m.\u001b[39mitems():\n",
      "File \u001b[0;32m/workspace/monai/monai-in-dev/monai/apps/auto3dseg/bundle_gen.py:185\u001b[0m, in \u001b[0;36mBundleAlgo._run_cmd\u001b[0;34m(self, cmd, devices_info)\u001b[0m\n\u001b[1;32m    183\u001b[0m     \u001b[39mif\u001b[39;00m devices_info:\n\u001b[1;32m    184\u001b[0m         ps_environ[\u001b[39m\"\u001b[39m\u001b[39mCUDA_VISIBLE_DEVICES\u001b[39m\u001b[39m\"\u001b[39m] \u001b[39m=\u001b[39m devices_info\n\u001b[0;32m--> 185\u001b[0m     normal_out \u001b[39m=\u001b[39m subprocess\u001b[39m.\u001b[39;49mrun(cmd\u001b[39m.\u001b[39;49msplit(), env\u001b[39m=\u001b[39;49mps_environ, check\u001b[39m=\u001b[39;49m\u001b[39mTrue\u001b[39;49;00m, capture_output\u001b[39m=\u001b[39;49m\u001b[39mTrue\u001b[39;49;00m)\n\u001b[1;32m    186\u001b[0m     logger\u001b[39m.\u001b[39minfo(\u001b[39mrepr\u001b[39m(normal_out)\u001b[39m.\u001b[39mreplace(\u001b[39m\"\u001b[39m\u001b[39m\\\\\u001b[39;00m\u001b[39mn\u001b[39m\u001b[39m\"\u001b[39m, \u001b[39m\"\u001b[39m\u001b[39m\\n\u001b[39;00m\u001b[39m\"\u001b[39m)\u001b[39m.\u001b[39mreplace(\u001b[39m\"\u001b[39m\u001b[39m\\\\\u001b[39;00m\u001b[39mt\u001b[39m\u001b[39m\"\u001b[39m, \u001b[39m\"\u001b[39m\u001b[39m\\t\u001b[39;00m\u001b[39m\"\u001b[39m))\n\u001b[1;32m    187\u001b[0m \u001b[39mexcept\u001b[39;00m subprocess\u001b[39m.\u001b[39mCalledProcessError \u001b[39mas\u001b[39;00m e:\n",
      "File \u001b[0;32m/opt/conda/lib/python3.8/subprocess.py:495\u001b[0m, in \u001b[0;36mrun\u001b[0;34m(input, capture_output, timeout, check, *popenargs, **kwargs)\u001b[0m\n\u001b[1;32m    493\u001b[0m \u001b[39mwith\u001b[39;00m Popen(\u001b[39m*\u001b[39mpopenargs, \u001b[39m*\u001b[39m\u001b[39m*\u001b[39mkwargs) \u001b[39mas\u001b[39;00m process:\n\u001b[1;32m    494\u001b[0m     \u001b[39mtry\u001b[39;00m:\n\u001b[0;32m--> 495\u001b[0m         stdout, stderr \u001b[39m=\u001b[39m process\u001b[39m.\u001b[39;49mcommunicate(\u001b[39minput\u001b[39;49m, timeout\u001b[39m=\u001b[39;49mtimeout)\n\u001b[1;32m    496\u001b[0m     \u001b[39mexcept\u001b[39;00m TimeoutExpired \u001b[39mas\u001b[39;00m exc:\n\u001b[1;32m    497\u001b[0m         process\u001b[39m.\u001b[39mkill()\n",
      "File \u001b[0;32m/opt/conda/lib/python3.8/subprocess.py:1028\u001b[0m, in \u001b[0;36mPopen.communicate\u001b[0;34m(self, input, timeout)\u001b[0m\n\u001b[1;32m   1025\u001b[0m     endtime \u001b[39m=\u001b[39m \u001b[39mNone\u001b[39;00m\n\u001b[1;32m   1027\u001b[0m \u001b[39mtry\u001b[39;00m:\n\u001b[0;32m-> 1028\u001b[0m     stdout, stderr \u001b[39m=\u001b[39m \u001b[39mself\u001b[39;49m\u001b[39m.\u001b[39;49m_communicate(\u001b[39minput\u001b[39;49m, endtime, timeout)\n\u001b[1;32m   1029\u001b[0m \u001b[39mexcept\u001b[39;00m \u001b[39mKeyboardInterrupt\u001b[39;00m:\n\u001b[1;32m   1030\u001b[0m     \u001b[39m# https://bugs.python.org/issue25942\u001b[39;00m\n\u001b[1;32m   1031\u001b[0m     \u001b[39m# See the detailed comment in .wait().\u001b[39;00m\n\u001b[1;32m   1032\u001b[0m     \u001b[39mif\u001b[39;00m timeout \u001b[39mis\u001b[39;00m \u001b[39mnot\u001b[39;00m \u001b[39mNone\u001b[39;00m:\n",
      "File \u001b[0;32m/opt/conda/lib/python3.8/subprocess.py:1868\u001b[0m, in \u001b[0;36mPopen._communicate\u001b[0;34m(self, input, endtime, orig_timeout)\u001b[0m\n\u001b[1;32m   1861\u001b[0m     \u001b[39mself\u001b[39m\u001b[39m.\u001b[39m_check_timeout(endtime, orig_timeout,\n\u001b[1;32m   1862\u001b[0m                         stdout, stderr,\n\u001b[1;32m   1863\u001b[0m                         skip_check_and_raise\u001b[39m=\u001b[39m\u001b[39mTrue\u001b[39;00m)\n\u001b[1;32m   1864\u001b[0m     \u001b[39mraise\u001b[39;00m \u001b[39mRuntimeError\u001b[39;00m(  \u001b[39m# Impossible :)\u001b[39;00m\n\u001b[1;32m   1865\u001b[0m         \u001b[39m'\u001b[39m\u001b[39m_check_timeout(..., skip_check_and_raise=True) \u001b[39m\u001b[39m'\u001b[39m\n\u001b[1;32m   1866\u001b[0m         \u001b[39m'\u001b[39m\u001b[39mfailed to raise TimeoutExpired.\u001b[39m\u001b[39m'\u001b[39m)\n\u001b[0;32m-> 1868\u001b[0m ready \u001b[39m=\u001b[39m selector\u001b[39m.\u001b[39;49mselect(timeout)\n\u001b[1;32m   1869\u001b[0m \u001b[39mself\u001b[39m\u001b[39m.\u001b[39m_check_timeout(endtime, orig_timeout, stdout, stderr)\n\u001b[1;32m   1871\u001b[0m \u001b[39m# XXX Rewrite these to use non-blocking I/O on the file\u001b[39;00m\n\u001b[1;32m   1872\u001b[0m \u001b[39m# objects; they are no longer using C stdio!\u001b[39;00m\n",
      "File \u001b[0;32m/opt/conda/lib/python3.8/selectors.py:415\u001b[0m, in \u001b[0;36m_PollLikeSelector.select\u001b[0;34m(self, timeout)\u001b[0m\n\u001b[1;32m    413\u001b[0m ready \u001b[39m=\u001b[39m []\n\u001b[1;32m    414\u001b[0m \u001b[39mtry\u001b[39;00m:\n\u001b[0;32m--> 415\u001b[0m     fd_event_list \u001b[39m=\u001b[39m \u001b[39mself\u001b[39;49m\u001b[39m.\u001b[39;49m_selector\u001b[39m.\u001b[39;49mpoll(timeout)\n\u001b[1;32m    416\u001b[0m \u001b[39mexcept\u001b[39;00m \u001b[39mInterruptedError\u001b[39;00m:\n\u001b[1;32m    417\u001b[0m     \u001b[39mreturn\u001b[39;00m ready\n",
      "\u001b[0;31mKeyboardInterrupt\u001b[0m: "
     ]
    }
   ],
   "source": [
    "runner = AutoRunner(input=input_cfg)\n",
    "runner.run()"
   ]
  },
  {
   "cell_type": "markdown",
   "metadata": {},
   "source": [
    "## Customize working directory\n",
    "`AutoRunner` provides the user interfaces to save all the intermediate and final results in a user-specified location.\n",
    "Here we use `./my_workspace` as an example"
   ]
  },
  {
   "cell_type": "code",
   "execution_count": 8,
   "metadata": {},
   "outputs": [
    {
     "name": "stdout",
     "output_type": "stream",
     "text": [
      "2022-11-16 07:44:25,852 - INFO - Work directory ./my_workspace is used to save all results\n",
      "2022-11-16 07:44:25,853 - INFO - Loading ./input.yaml for AutoRunner and making a copy in /workspace/monai/tutorials-in-dev/auto3dseg/notebooks/my_workspace/input.yaml\n",
      "2022-11-16 07:44:25,855 - INFO - The output_dir is not specified. /workspace/monai/tutorials-in-dev/auto3dseg/notebooks/my_workspace/ensemble_output will be used to save ensemble predictions\n"
     ]
    },
    {
     "name": "stderr",
     "output_type": "stream",
     "text": [
      "100%|██████████| 30/30 [00:00<00:00, 75.36it/s]\n",
      "algo_templates.tar.gz: 296kB [00:00, 474kB/s]                             "
     ]
    },
    {
     "name": "stdout",
     "output_type": "stream",
     "text": [
      "2022-11-16 07:44:27,235 - INFO - Downloaded: /tmp/tmpaw3bho6s/algo_templates.tar.gz\n",
      "2022-11-16 07:44:27,235 - INFO - Expected md5 is None, skip md5 check for file /tmp/tmpaw3bho6s/algo_templates.tar.gz.\n",
      "2022-11-16 07:44:27,236 - INFO - Writing into directory: /workspace/monai/tutorials-in-dev/auto3dseg/notebooks/my_workspace.\n"
     ]
    },
    {
     "name": "stderr",
     "output_type": "stream",
     "text": [
      "\n"
     ]
    },
    {
     "name": "stdout",
     "output_type": "stream",
     "text": [
      "2022-11-16 07:44:27,542 - INFO - /workspace/monai/tutorials-in-dev/auto3dseg/notebooks/my_workspace/segresnet2d_0\n",
      "2022-11-16 07:44:27,801 - INFO - /workspace/monai/tutorials-in-dev/auto3dseg/notebooks/my_workspace/segresnet2d_1\n",
      "2022-11-16 07:44:28,061 - INFO - /workspace/monai/tutorials-in-dev/auto3dseg/notebooks/my_workspace/segresnet2d_2\n",
      "2022-11-16 07:44:28,319 - INFO - /workspace/monai/tutorials-in-dev/auto3dseg/notebooks/my_workspace/segresnet2d_3\n",
      "2022-11-16 07:44:28,714 - INFO - /workspace/monai/tutorials-in-dev/auto3dseg/notebooks/my_workspace/segresnet2d_4\n",
      "2022-11-16 07:44:28,984 - INFO - /workspace/monai/tutorials-in-dev/auto3dseg/notebooks/my_workspace/dints_0\n",
      "2022-11-16 07:44:29,255 - INFO - /workspace/monai/tutorials-in-dev/auto3dseg/notebooks/my_workspace/dints_1\n",
      "2022-11-16 07:44:29,523 - INFO - /workspace/monai/tutorials-in-dev/auto3dseg/notebooks/my_workspace/dints_2\n",
      "2022-11-16 07:44:29,791 - INFO - /workspace/monai/tutorials-in-dev/auto3dseg/notebooks/my_workspace/dints_3\n",
      "2022-11-16 07:44:30,058 - INFO - /workspace/monai/tutorials-in-dev/auto3dseg/notebooks/my_workspace/dints_4\n",
      "2022-11-16 07:44:30,439 - INFO - /workspace/monai/tutorials-in-dev/auto3dseg/notebooks/my_workspace/swinunetr_0\n",
      "2022-11-16 07:44:30,696 - INFO - /workspace/monai/tutorials-in-dev/auto3dseg/notebooks/my_workspace/swinunetr_1\n",
      "2022-11-16 07:44:30,953 - INFO - /workspace/monai/tutorials-in-dev/auto3dseg/notebooks/my_workspace/swinunetr_2\n",
      "2022-11-16 07:44:31,210 - INFO - /workspace/monai/tutorials-in-dev/auto3dseg/notebooks/my_workspace/swinunetr_3\n",
      "2022-11-16 07:44:31,470 - INFO - /workspace/monai/tutorials-in-dev/auto3dseg/notebooks/my_workspace/swinunetr_4\n",
      "2022-11-16 07:44:31,736 - INFO - /workspace/monai/tutorials-in-dev/auto3dseg/notebooks/my_workspace/segresnet_0\n",
      "2022-11-16 07:44:32,126 - INFO - /workspace/monai/tutorials-in-dev/auto3dseg/notebooks/my_workspace/segresnet_1\n",
      "2022-11-16 07:44:32,393 - INFO - /workspace/monai/tutorials-in-dev/auto3dseg/notebooks/my_workspace/segresnet_2\n",
      "2022-11-16 07:44:32,659 - INFO - /workspace/monai/tutorials-in-dev/auto3dseg/notebooks/my_workspace/segresnet_3\n",
      "2022-11-16 07:44:32,924 - INFO - /workspace/monai/tutorials-in-dev/auto3dseg/notebooks/my_workspace/segresnet_4\n",
      "2022-11-16 07:44:32,926 - INFO - Launching: torchrun --nnodes=1 --nproc_per_node=2 /workspace/monai/tutorials-in-dev/auto3dseg/notebooks/my_workspace/dints_4/scripts/search.py run --config_file='/workspace/monai/tutorials-in-dev/auto3dseg/notebooks/my_workspace/dints_4/configs/transforms_validate.yaml','/workspace/monai/tutorials-in-dev/auto3dseg/notebooks/my_workspace/dints_4/configs/transforms_train.yaml','/workspace/monai/tutorials-in-dev/auto3dseg/notebooks/my_workspace/dints_4/configs/transforms_infer.yaml','/workspace/monai/tutorials-in-dev/auto3dseg/notebooks/my_workspace/dints_4/configs/hyper_parameters_search.yaml','/workspace/monai/tutorials-in-dev/auto3dseg/notebooks/my_workspace/dints_4/configs/network.yaml','/workspace/monai/tutorials-in-dev/auto3dseg/notebooks/my_workspace/dints_4/configs/network_search.yaml','/workspace/monai/tutorials-in-dev/auto3dseg/notebooks/my_workspace/dints_4/configs/hyper_parameters.yaml'\n"
     ]
    },
    {
     "ename": "KeyboardInterrupt",
     "evalue": "",
     "output_type": "error",
     "traceback": [
      "\u001b[0;31m---------------------------------------------------------------------------\u001b[0m",
      "\u001b[0;31mKeyboardInterrupt\u001b[0m                         Traceback (most recent call last)",
      "Cell \u001b[0;32mIn [8], line 2\u001b[0m\n\u001b[1;32m      1\u001b[0m runner \u001b[39m=\u001b[39m AutoRunner(work_dir\u001b[39m=\u001b[39m\u001b[39m'\u001b[39m\u001b[39m./my_workspace\u001b[39m\u001b[39m'\u001b[39m, \u001b[39minput\u001b[39m\u001b[39m=\u001b[39m\u001b[39minput\u001b[39m)\n\u001b[0;32m----> 2\u001b[0m runner\u001b[39m.\u001b[39;49mrun()\n",
      "File \u001b[0;32m/workspace/monai/monai-in-dev/monai/apps/auto3dseg/auto_runner.py:586\u001b[0m, in \u001b[0;36mAutoRunner.run\u001b[0;34m(self)\u001b[0m\n\u001b[1;32m    584\u001b[0m history \u001b[39m=\u001b[39m import_bundle_algo_history(\u001b[39mself\u001b[39m\u001b[39m.\u001b[39mwork_dir, only_trained\u001b[39m=\u001b[39m\u001b[39mFalse\u001b[39;00m)\n\u001b[1;32m    585\u001b[0m \u001b[39mif\u001b[39;00m \u001b[39mnot\u001b[39;00m \u001b[39mself\u001b[39m\u001b[39m.\u001b[39mhpo:\n\u001b[0;32m--> 586\u001b[0m     \u001b[39mself\u001b[39;49m\u001b[39m.\u001b[39;49m_train_algo_in_sequence(history)\n\u001b[1;32m    587\u001b[0m \u001b[39melse\u001b[39;00m:\n\u001b[1;32m    588\u001b[0m     \u001b[39mself\u001b[39m\u001b[39m.\u001b[39m_train_algo_in_nni(history)\n",
      "File \u001b[0;32m/workspace/monai/monai-in-dev/monai/apps/auto3dseg/auto_runner.py:488\u001b[0m, in \u001b[0;36mAutoRunner._train_algo_in_sequence\u001b[0;34m(self, history)\u001b[0m\n\u001b[1;32m    486\u001b[0m \u001b[39mfor\u001b[39;00m task \u001b[39min\u001b[39;00m history:\n\u001b[1;32m    487\u001b[0m     \u001b[39mfor\u001b[39;00m _, algo \u001b[39min\u001b[39;00m task\u001b[39m.\u001b[39mitems():\n\u001b[0;32m--> 488\u001b[0m         algo\u001b[39m.\u001b[39;49mtrain(\u001b[39mself\u001b[39;49m\u001b[39m.\u001b[39;49mtrain_params)\n\u001b[1;32m    489\u001b[0m         acc \u001b[39m=\u001b[39m algo\u001b[39m.\u001b[39mget_score()\n\u001b[1;32m    490\u001b[0m         algo_to_pickle(algo, template_path\u001b[39m=\u001b[39malgo\u001b[39m.\u001b[39mtemplate_path, best_metrics\u001b[39m=\u001b[39macc)\n",
      "File \u001b[0;32m/workspace/monai/tutorials-in-dev/auto3dseg/notebooks/work_dir/algorithm_templates/dints/scripts/algo.py:200\u001b[0m, in \u001b[0;36mDintsAlgo.train\u001b[0;34m(self, train_params)\u001b[0m\n\u001b[1;32m    198\u001b[0m cmd, devices_info \u001b[39m=\u001b[39m \u001b[39mself\u001b[39m\u001b[39m.\u001b[39m_create_cmd(dints_search_params)\n\u001b[1;32m    199\u001b[0m cmd_search \u001b[39m=\u001b[39m cmd\u001b[39m.\u001b[39mreplace(\u001b[39m'\u001b[39m\u001b[39mtrain.py\u001b[39m\u001b[39m'\u001b[39m, \u001b[39m'\u001b[39m\u001b[39msearch.py\u001b[39m\u001b[39m'\u001b[39m)\n\u001b[0;32m--> 200\u001b[0m \u001b[39mself\u001b[39;49m\u001b[39m.\u001b[39;49m_run_cmd(cmd_search, devices_info)\n\u001b[1;32m    202\u001b[0m dints_train_params \u001b[39m=\u001b[39m {}\n\u001b[1;32m    203\u001b[0m \u001b[39mfor\u001b[39;00m k, v \u001b[39min\u001b[39;00m params\u001b[39m.\u001b[39mitems():\n",
      "File \u001b[0;32m/workspace/monai/monai-in-dev/monai/apps/auto3dseg/bundle_gen.py:185\u001b[0m, in \u001b[0;36mBundleAlgo._run_cmd\u001b[0;34m(self, cmd, devices_info)\u001b[0m\n\u001b[1;32m    183\u001b[0m     \u001b[39mif\u001b[39;00m devices_info:\n\u001b[1;32m    184\u001b[0m         ps_environ[\u001b[39m\"\u001b[39m\u001b[39mCUDA_VISIBLE_DEVICES\u001b[39m\u001b[39m\"\u001b[39m] \u001b[39m=\u001b[39m devices_info\n\u001b[0;32m--> 185\u001b[0m     normal_out \u001b[39m=\u001b[39m subprocess\u001b[39m.\u001b[39;49mrun(cmd\u001b[39m.\u001b[39;49msplit(), env\u001b[39m=\u001b[39;49mps_environ, check\u001b[39m=\u001b[39;49m\u001b[39mTrue\u001b[39;49;00m, capture_output\u001b[39m=\u001b[39;49m\u001b[39mTrue\u001b[39;49;00m)\n\u001b[1;32m    186\u001b[0m     logger\u001b[39m.\u001b[39minfo(\u001b[39mrepr\u001b[39m(normal_out)\u001b[39m.\u001b[39mreplace(\u001b[39m\"\u001b[39m\u001b[39m\\\\\u001b[39;00m\u001b[39mn\u001b[39m\u001b[39m\"\u001b[39m, \u001b[39m\"\u001b[39m\u001b[39m\\n\u001b[39;00m\u001b[39m\"\u001b[39m)\u001b[39m.\u001b[39mreplace(\u001b[39m\"\u001b[39m\u001b[39m\\\\\u001b[39;00m\u001b[39mt\u001b[39m\u001b[39m\"\u001b[39m, \u001b[39m\"\u001b[39m\u001b[39m\\t\u001b[39;00m\u001b[39m\"\u001b[39m))\n\u001b[1;32m    187\u001b[0m \u001b[39mexcept\u001b[39;00m subprocess\u001b[39m.\u001b[39mCalledProcessError \u001b[39mas\u001b[39;00m e:\n",
      "File \u001b[0;32m/opt/conda/lib/python3.8/subprocess.py:495\u001b[0m, in \u001b[0;36mrun\u001b[0;34m(input, capture_output, timeout, check, *popenargs, **kwargs)\u001b[0m\n\u001b[1;32m    493\u001b[0m \u001b[39mwith\u001b[39;00m Popen(\u001b[39m*\u001b[39mpopenargs, \u001b[39m*\u001b[39m\u001b[39m*\u001b[39mkwargs) \u001b[39mas\u001b[39;00m process:\n\u001b[1;32m    494\u001b[0m     \u001b[39mtry\u001b[39;00m:\n\u001b[0;32m--> 495\u001b[0m         stdout, stderr \u001b[39m=\u001b[39m process\u001b[39m.\u001b[39;49mcommunicate(\u001b[39minput\u001b[39;49m, timeout\u001b[39m=\u001b[39;49mtimeout)\n\u001b[1;32m    496\u001b[0m     \u001b[39mexcept\u001b[39;00m TimeoutExpired \u001b[39mas\u001b[39;00m exc:\n\u001b[1;32m    497\u001b[0m         process\u001b[39m.\u001b[39mkill()\n",
      "File \u001b[0;32m/opt/conda/lib/python3.8/subprocess.py:1028\u001b[0m, in \u001b[0;36mPopen.communicate\u001b[0;34m(self, input, timeout)\u001b[0m\n\u001b[1;32m   1025\u001b[0m     endtime \u001b[39m=\u001b[39m \u001b[39mNone\u001b[39;00m\n\u001b[1;32m   1027\u001b[0m \u001b[39mtry\u001b[39;00m:\n\u001b[0;32m-> 1028\u001b[0m     stdout, stderr \u001b[39m=\u001b[39m \u001b[39mself\u001b[39;49m\u001b[39m.\u001b[39;49m_communicate(\u001b[39minput\u001b[39;49m, endtime, timeout)\n\u001b[1;32m   1029\u001b[0m \u001b[39mexcept\u001b[39;00m \u001b[39mKeyboardInterrupt\u001b[39;00m:\n\u001b[1;32m   1030\u001b[0m     \u001b[39m# https://bugs.python.org/issue25942\u001b[39;00m\n\u001b[1;32m   1031\u001b[0m     \u001b[39m# See the detailed comment in .wait().\u001b[39;00m\n\u001b[1;32m   1032\u001b[0m     \u001b[39mif\u001b[39;00m timeout \u001b[39mis\u001b[39;00m \u001b[39mnot\u001b[39;00m \u001b[39mNone\u001b[39;00m:\n",
      "File \u001b[0;32m/opt/conda/lib/python3.8/subprocess.py:1868\u001b[0m, in \u001b[0;36mPopen._communicate\u001b[0;34m(self, input, endtime, orig_timeout)\u001b[0m\n\u001b[1;32m   1861\u001b[0m     \u001b[39mself\u001b[39m\u001b[39m.\u001b[39m_check_timeout(endtime, orig_timeout,\n\u001b[1;32m   1862\u001b[0m                         stdout, stderr,\n\u001b[1;32m   1863\u001b[0m                         skip_check_and_raise\u001b[39m=\u001b[39m\u001b[39mTrue\u001b[39;00m)\n\u001b[1;32m   1864\u001b[0m     \u001b[39mraise\u001b[39;00m \u001b[39mRuntimeError\u001b[39;00m(  \u001b[39m# Impossible :)\u001b[39;00m\n\u001b[1;32m   1865\u001b[0m         \u001b[39m'\u001b[39m\u001b[39m_check_timeout(..., skip_check_and_raise=True) \u001b[39m\u001b[39m'\u001b[39m\n\u001b[1;32m   1866\u001b[0m         \u001b[39m'\u001b[39m\u001b[39mfailed to raise TimeoutExpired.\u001b[39m\u001b[39m'\u001b[39m)\n\u001b[0;32m-> 1868\u001b[0m ready \u001b[39m=\u001b[39m selector\u001b[39m.\u001b[39;49mselect(timeout)\n\u001b[1;32m   1869\u001b[0m \u001b[39mself\u001b[39m\u001b[39m.\u001b[39m_check_timeout(endtime, orig_timeout, stdout, stderr)\n\u001b[1;32m   1871\u001b[0m \u001b[39m# XXX Rewrite these to use non-blocking I/O on the file\u001b[39;00m\n\u001b[1;32m   1872\u001b[0m \u001b[39m# objects; they are no longer using C stdio!\u001b[39;00m\n",
      "File \u001b[0;32m/opt/conda/lib/python3.8/selectors.py:415\u001b[0m, in \u001b[0;36m_PollLikeSelector.select\u001b[0;34m(self, timeout)\u001b[0m\n\u001b[1;32m    413\u001b[0m ready \u001b[39m=\u001b[39m []\n\u001b[1;32m    414\u001b[0m \u001b[39mtry\u001b[39;00m:\n\u001b[0;32m--> 415\u001b[0m     fd_event_list \u001b[39m=\u001b[39m \u001b[39mself\u001b[39;49m\u001b[39m.\u001b[39;49m_selector\u001b[39m.\u001b[39;49mpoll(timeout)\n\u001b[1;32m    416\u001b[0m \u001b[39mexcept\u001b[39;00m \u001b[39mInterruptedError\u001b[39;00m:\n\u001b[1;32m    417\u001b[0m     \u001b[39mreturn\u001b[39;00m ready\n",
      "\u001b[0;31mKeyboardInterrupt\u001b[0m: "
     ]
    }
   ],
   "source": [
    "runner = AutoRunner(work_dir='./my_workspace', input=input)\n",
    "runner.run()"
   ]
  },
  {
   "cell_type": "markdown",
   "metadata": {},
   "source": [
    "## Customize result caching\n",
    "\n",
    "AutoRunner saves intermediate results by default to save computation time.\n",
    "The user can choose whether it uses the cached results or restart from scratch.\n",
    "\n",
    "If the users want to start from scratch, they can set `not_use_cache` to True"
   ]
  },
  {
   "cell_type": "code",
   "execution_count": null,
   "metadata": {},
   "outputs": [],
   "source": [
    "# This will restart from scratch and not use any cached results\n",
    "runner = AutoRunner(input=input, not_use_cache=True)\n",
    "# runner.run()\n",
    "\n",
    "# Below will skip data analysis.\n",
    "# Because data analysis was NOT completed and cache before, AutoRunner will throw an error\n",
    "\n",
    "# runner = AutoRunner(input=input, analyze=False)  # This will throw error"
   ]
  },
  {
   "cell_type": "markdown",
   "metadata": {},
   "source": [
    "## Customize the output folder to save ensemble result\n",
    "\n",
    "AutoRunner will perform inference on the testing data specified by the `datalist` in the data source config input. The inference result will be written to the `ensemble_output` folder under the working directory in the form of `nii.gz`. The user can choose the format by adding keyword arguments to the AutoRunner. A list of argument can be found in [MONAI tranforms documentation](https://docs.monai.io/en/stable/transforms.html#saveimage)."
   ]
  },
  {
   "cell_type": "code",
   "execution_count": 9,
   "metadata": {},
   "outputs": [
    {
     "name": "stdout",
     "output_type": "stream",
     "text": [
      "2022-11-16 07:45:18,029 - INFO - ./work_dir does not exists. Creating...\n",
      "2022-11-16 07:45:18,030 - INFO - ./work_dir created to save all results\n",
      "2022-11-16 07:45:18,030 - INFO - Loading ./input.yaml for AutoRunner and making a copy in /workspace/monai/tutorials-in-dev/auto3dseg/notebooks/work_dir/input.yaml\n",
      "2022-11-16 07:45:18,033 - INFO - Directory ./output_dir is created to save ensemble predictions\n"
     ]
    },
    {
     "name": "stderr",
     "output_type": "stream",
     "text": [
      "100%|██████████| 30/30 [00:00<00:00, 64.77it/s]\n",
      "algo_templates.tar.gz: 296kB [00:01, 271kB/s]                             "
     ]
    },
    {
     "name": "stdout",
     "output_type": "stream",
     "text": [
      "2022-11-16 07:45:19,830 - INFO - Downloaded: /tmp/tmpobvnrku9/algo_templates.tar.gz\n",
      "2022-11-16 07:45:19,831 - INFO - Expected md5 is None, skip md5 check for file /tmp/tmpobvnrku9/algo_templates.tar.gz.\n",
      "2022-11-16 07:45:19,831 - INFO - Writing into directory: /workspace/monai/tutorials-in-dev/auto3dseg/notebooks/work_dir.\n"
     ]
    },
    {
     "name": "stderr",
     "output_type": "stream",
     "text": [
      "\n"
     ]
    },
    {
     "name": "stdout",
     "output_type": "stream",
     "text": [
      "2022-11-16 07:45:20,287 - INFO - /workspace/monai/tutorials-in-dev/auto3dseg/notebooks/work_dir/segresnet2d_0\n",
      "2022-11-16 07:45:20,552 - INFO - /workspace/monai/tutorials-in-dev/auto3dseg/notebooks/work_dir/segresnet2d_1\n",
      "2022-11-16 07:45:20,820 - INFO - /workspace/monai/tutorials-in-dev/auto3dseg/notebooks/work_dir/segresnet2d_2\n",
      "2022-11-16 07:45:21,085 - INFO - /workspace/monai/tutorials-in-dev/auto3dseg/notebooks/work_dir/segresnet2d_3\n",
      "2022-11-16 07:45:21,350 - INFO - /workspace/monai/tutorials-in-dev/auto3dseg/notebooks/work_dir/segresnet2d_4\n",
      "2022-11-16 07:45:21,625 - INFO - /workspace/monai/tutorials-in-dev/auto3dseg/notebooks/work_dir/dints_0\n",
      "2022-11-16 07:45:22,027 - INFO - /workspace/monai/tutorials-in-dev/auto3dseg/notebooks/work_dir/dints_1\n",
      "2022-11-16 07:45:22,302 - INFO - /workspace/monai/tutorials-in-dev/auto3dseg/notebooks/work_dir/dints_2\n",
      "2022-11-16 07:45:22,575 - INFO - /workspace/monai/tutorials-in-dev/auto3dseg/notebooks/work_dir/dints_3\n",
      "2022-11-16 07:45:22,848 - INFO - /workspace/monai/tutorials-in-dev/auto3dseg/notebooks/work_dir/dints_4\n",
      "2022-11-16 07:45:23,115 - INFO - /workspace/monai/tutorials-in-dev/auto3dseg/notebooks/work_dir/swinunetr_0\n",
      "2022-11-16 07:45:23,499 - INFO - /workspace/monai/tutorials-in-dev/auto3dseg/notebooks/work_dir/swinunetr_1\n",
      "2022-11-16 07:45:23,759 - INFO - /workspace/monai/tutorials-in-dev/auto3dseg/notebooks/work_dir/swinunetr_2\n",
      "2022-11-16 07:45:24,020 - INFO - /workspace/monai/tutorials-in-dev/auto3dseg/notebooks/work_dir/swinunetr_3\n",
      "2022-11-16 07:45:24,281 - INFO - /workspace/monai/tutorials-in-dev/auto3dseg/notebooks/work_dir/swinunetr_4\n",
      "2022-11-16 07:45:24,558 - INFO - /workspace/monai/tutorials-in-dev/auto3dseg/notebooks/work_dir/segresnet_0\n",
      "2022-11-16 07:45:24,952 - INFO - /workspace/monai/tutorials-in-dev/auto3dseg/notebooks/work_dir/segresnet_1\n",
      "2022-11-16 07:45:25,223 - INFO - /workspace/monai/tutorials-in-dev/auto3dseg/notebooks/work_dir/segresnet_2\n",
      "2022-11-16 07:45:25,494 - INFO - /workspace/monai/tutorials-in-dev/auto3dseg/notebooks/work_dir/segresnet_3\n",
      "2022-11-16 07:45:25,763 - INFO - /workspace/monai/tutorials-in-dev/auto3dseg/notebooks/work_dir/segresnet_4\n",
      "2022-11-16 07:45:25,766 - INFO - Launching: torchrun --nnodes=1 --nproc_per_node=2 /workspace/monai/tutorials-in-dev/auto3dseg/notebooks/work_dir/dints_4/scripts/search.py run --config_file='/workspace/monai/tutorials-in-dev/auto3dseg/notebooks/work_dir/dints_4/configs/transforms_validate.yaml','/workspace/monai/tutorials-in-dev/auto3dseg/notebooks/work_dir/dints_4/configs/transforms_train.yaml','/workspace/monai/tutorials-in-dev/auto3dseg/notebooks/work_dir/dints_4/configs/transforms_infer.yaml','/workspace/monai/tutorials-in-dev/auto3dseg/notebooks/work_dir/dints_4/configs/hyper_parameters_search.yaml','/workspace/monai/tutorials-in-dev/auto3dseg/notebooks/work_dir/dints_4/configs/network.yaml','/workspace/monai/tutorials-in-dev/auto3dseg/notebooks/work_dir/dints_4/configs/network_search.yaml','/workspace/monai/tutorials-in-dev/auto3dseg/notebooks/work_dir/dints_4/configs/hyper_parameters.yaml'\n"
     ]
    },
    {
     "ename": "KeyboardInterrupt",
     "evalue": "",
     "output_type": "error",
     "traceback": [
      "\u001b[0;31m---------------------------------------------------------------------------\u001b[0m",
      "\u001b[0;31mKeyboardInterrupt\u001b[0m                         Traceback (most recent call last)",
      "Cell \u001b[0;32mIn [9], line 2\u001b[0m\n\u001b[1;32m      1\u001b[0m runner \u001b[39m=\u001b[39m AutoRunner(\u001b[39minput\u001b[39m\u001b[39m=\u001b[39m\u001b[39minput\u001b[39m, output_dir\u001b[39m=\u001b[39m\u001b[39m'\u001b[39m\u001b[39m./output_dir\u001b[39m\u001b[39m'\u001b[39m)\n\u001b[0;32m----> 2\u001b[0m runner\u001b[39m.\u001b[39;49mrun()\n",
      "File \u001b[0;32m/workspace/monai/monai-in-dev/monai/apps/auto3dseg/auto_runner.py:586\u001b[0m, in \u001b[0;36mAutoRunner.run\u001b[0;34m(self)\u001b[0m\n\u001b[1;32m    584\u001b[0m history \u001b[39m=\u001b[39m import_bundle_algo_history(\u001b[39mself\u001b[39m\u001b[39m.\u001b[39mwork_dir, only_trained\u001b[39m=\u001b[39m\u001b[39mFalse\u001b[39;00m)\n\u001b[1;32m    585\u001b[0m \u001b[39mif\u001b[39;00m \u001b[39mnot\u001b[39;00m \u001b[39mself\u001b[39m\u001b[39m.\u001b[39mhpo:\n\u001b[0;32m--> 586\u001b[0m     \u001b[39mself\u001b[39;49m\u001b[39m.\u001b[39;49m_train_algo_in_sequence(history)\n\u001b[1;32m    587\u001b[0m \u001b[39melse\u001b[39;00m:\n\u001b[1;32m    588\u001b[0m     \u001b[39mself\u001b[39m\u001b[39m.\u001b[39m_train_algo_in_nni(history)\n",
      "File \u001b[0;32m/workspace/monai/monai-in-dev/monai/apps/auto3dseg/auto_runner.py:488\u001b[0m, in \u001b[0;36mAutoRunner._train_algo_in_sequence\u001b[0;34m(self, history)\u001b[0m\n\u001b[1;32m    486\u001b[0m \u001b[39mfor\u001b[39;00m task \u001b[39min\u001b[39;00m history:\n\u001b[1;32m    487\u001b[0m     \u001b[39mfor\u001b[39;00m _, algo \u001b[39min\u001b[39;00m task\u001b[39m.\u001b[39mitems():\n\u001b[0;32m--> 488\u001b[0m         algo\u001b[39m.\u001b[39;49mtrain(\u001b[39mself\u001b[39;49m\u001b[39m.\u001b[39;49mtrain_params)\n\u001b[1;32m    489\u001b[0m         acc \u001b[39m=\u001b[39m algo\u001b[39m.\u001b[39mget_score()\n\u001b[1;32m    490\u001b[0m         algo_to_pickle(algo, template_path\u001b[39m=\u001b[39malgo\u001b[39m.\u001b[39mtemplate_path, best_metrics\u001b[39m=\u001b[39macc)\n",
      "File \u001b[0;32m/workspace/monai/tutorials-in-dev/auto3dseg/notebooks/work_dir/algorithm_templates/dints/scripts/algo.py:200\u001b[0m, in \u001b[0;36mDintsAlgo.train\u001b[0;34m(self, train_params)\u001b[0m\n\u001b[1;32m    198\u001b[0m cmd, devices_info \u001b[39m=\u001b[39m \u001b[39mself\u001b[39m\u001b[39m.\u001b[39m_create_cmd(dints_search_params)\n\u001b[1;32m    199\u001b[0m cmd_search \u001b[39m=\u001b[39m cmd\u001b[39m.\u001b[39mreplace(\u001b[39m'\u001b[39m\u001b[39mtrain.py\u001b[39m\u001b[39m'\u001b[39m, \u001b[39m'\u001b[39m\u001b[39msearch.py\u001b[39m\u001b[39m'\u001b[39m)\n\u001b[0;32m--> 200\u001b[0m \u001b[39mself\u001b[39;49m\u001b[39m.\u001b[39;49m_run_cmd(cmd_search, devices_info)\n\u001b[1;32m    202\u001b[0m dints_train_params \u001b[39m=\u001b[39m {}\n\u001b[1;32m    203\u001b[0m \u001b[39mfor\u001b[39;00m k, v \u001b[39min\u001b[39;00m params\u001b[39m.\u001b[39mitems():\n",
      "File \u001b[0;32m/workspace/monai/monai-in-dev/monai/apps/auto3dseg/bundle_gen.py:185\u001b[0m, in \u001b[0;36mBundleAlgo._run_cmd\u001b[0;34m(self, cmd, devices_info)\u001b[0m\n\u001b[1;32m    183\u001b[0m     \u001b[39mif\u001b[39;00m devices_info:\n\u001b[1;32m    184\u001b[0m         ps_environ[\u001b[39m\"\u001b[39m\u001b[39mCUDA_VISIBLE_DEVICES\u001b[39m\u001b[39m\"\u001b[39m] \u001b[39m=\u001b[39m devices_info\n\u001b[0;32m--> 185\u001b[0m     normal_out \u001b[39m=\u001b[39m subprocess\u001b[39m.\u001b[39;49mrun(cmd\u001b[39m.\u001b[39;49msplit(), env\u001b[39m=\u001b[39;49mps_environ, check\u001b[39m=\u001b[39;49m\u001b[39mTrue\u001b[39;49;00m, capture_output\u001b[39m=\u001b[39;49m\u001b[39mTrue\u001b[39;49;00m)\n\u001b[1;32m    186\u001b[0m     logger\u001b[39m.\u001b[39minfo(\u001b[39mrepr\u001b[39m(normal_out)\u001b[39m.\u001b[39mreplace(\u001b[39m\"\u001b[39m\u001b[39m\\\\\u001b[39;00m\u001b[39mn\u001b[39m\u001b[39m\"\u001b[39m, \u001b[39m\"\u001b[39m\u001b[39m\\n\u001b[39;00m\u001b[39m\"\u001b[39m)\u001b[39m.\u001b[39mreplace(\u001b[39m\"\u001b[39m\u001b[39m\\\\\u001b[39;00m\u001b[39mt\u001b[39m\u001b[39m\"\u001b[39m, \u001b[39m\"\u001b[39m\u001b[39m\\t\u001b[39;00m\u001b[39m\"\u001b[39m))\n\u001b[1;32m    187\u001b[0m \u001b[39mexcept\u001b[39;00m subprocess\u001b[39m.\u001b[39mCalledProcessError \u001b[39mas\u001b[39;00m e:\n",
      "File \u001b[0;32m/opt/conda/lib/python3.8/subprocess.py:495\u001b[0m, in \u001b[0;36mrun\u001b[0;34m(input, capture_output, timeout, check, *popenargs, **kwargs)\u001b[0m\n\u001b[1;32m    493\u001b[0m \u001b[39mwith\u001b[39;00m Popen(\u001b[39m*\u001b[39mpopenargs, \u001b[39m*\u001b[39m\u001b[39m*\u001b[39mkwargs) \u001b[39mas\u001b[39;00m process:\n\u001b[1;32m    494\u001b[0m     \u001b[39mtry\u001b[39;00m:\n\u001b[0;32m--> 495\u001b[0m         stdout, stderr \u001b[39m=\u001b[39m process\u001b[39m.\u001b[39;49mcommunicate(\u001b[39minput\u001b[39;49m, timeout\u001b[39m=\u001b[39;49mtimeout)\n\u001b[1;32m    496\u001b[0m     \u001b[39mexcept\u001b[39;00m TimeoutExpired \u001b[39mas\u001b[39;00m exc:\n\u001b[1;32m    497\u001b[0m         process\u001b[39m.\u001b[39mkill()\n",
      "File \u001b[0;32m/opt/conda/lib/python3.8/subprocess.py:1028\u001b[0m, in \u001b[0;36mPopen.communicate\u001b[0;34m(self, input, timeout)\u001b[0m\n\u001b[1;32m   1025\u001b[0m     endtime \u001b[39m=\u001b[39m \u001b[39mNone\u001b[39;00m\n\u001b[1;32m   1027\u001b[0m \u001b[39mtry\u001b[39;00m:\n\u001b[0;32m-> 1028\u001b[0m     stdout, stderr \u001b[39m=\u001b[39m \u001b[39mself\u001b[39;49m\u001b[39m.\u001b[39;49m_communicate(\u001b[39minput\u001b[39;49m, endtime, timeout)\n\u001b[1;32m   1029\u001b[0m \u001b[39mexcept\u001b[39;00m \u001b[39mKeyboardInterrupt\u001b[39;00m:\n\u001b[1;32m   1030\u001b[0m     \u001b[39m# https://bugs.python.org/issue25942\u001b[39;00m\n\u001b[1;32m   1031\u001b[0m     \u001b[39m# See the detailed comment in .wait().\u001b[39;00m\n\u001b[1;32m   1032\u001b[0m     \u001b[39mif\u001b[39;00m timeout \u001b[39mis\u001b[39;00m \u001b[39mnot\u001b[39;00m \u001b[39mNone\u001b[39;00m:\n",
      "File \u001b[0;32m/opt/conda/lib/python3.8/subprocess.py:1868\u001b[0m, in \u001b[0;36mPopen._communicate\u001b[0;34m(self, input, endtime, orig_timeout)\u001b[0m\n\u001b[1;32m   1861\u001b[0m     \u001b[39mself\u001b[39m\u001b[39m.\u001b[39m_check_timeout(endtime, orig_timeout,\n\u001b[1;32m   1862\u001b[0m                         stdout, stderr,\n\u001b[1;32m   1863\u001b[0m                         skip_check_and_raise\u001b[39m=\u001b[39m\u001b[39mTrue\u001b[39;00m)\n\u001b[1;32m   1864\u001b[0m     \u001b[39mraise\u001b[39;00m \u001b[39mRuntimeError\u001b[39;00m(  \u001b[39m# Impossible :)\u001b[39;00m\n\u001b[1;32m   1865\u001b[0m         \u001b[39m'\u001b[39m\u001b[39m_check_timeout(..., skip_check_and_raise=True) \u001b[39m\u001b[39m'\u001b[39m\n\u001b[1;32m   1866\u001b[0m         \u001b[39m'\u001b[39m\u001b[39mfailed to raise TimeoutExpired.\u001b[39m\u001b[39m'\u001b[39m)\n\u001b[0;32m-> 1868\u001b[0m ready \u001b[39m=\u001b[39m selector\u001b[39m.\u001b[39;49mselect(timeout)\n\u001b[1;32m   1869\u001b[0m \u001b[39mself\u001b[39m\u001b[39m.\u001b[39m_check_timeout(endtime, orig_timeout, stdout, stderr)\n\u001b[1;32m   1871\u001b[0m \u001b[39m# XXX Rewrite these to use non-blocking I/O on the file\u001b[39;00m\n\u001b[1;32m   1872\u001b[0m \u001b[39m# objects; they are no longer using C stdio!\u001b[39;00m\n",
      "File \u001b[0;32m/opt/conda/lib/python3.8/selectors.py:415\u001b[0m, in \u001b[0;36m_PollLikeSelector.select\u001b[0;34m(self, timeout)\u001b[0m\n\u001b[1;32m    413\u001b[0m ready \u001b[39m=\u001b[39m []\n\u001b[1;32m    414\u001b[0m \u001b[39mtry\u001b[39;00m:\n\u001b[0;32m--> 415\u001b[0m     fd_event_list \u001b[39m=\u001b[39m \u001b[39mself\u001b[39;49m\u001b[39m.\u001b[39;49m_selector\u001b[39m.\u001b[39;49mpoll(timeout)\n\u001b[1;32m    416\u001b[0m \u001b[39mexcept\u001b[39;00m \u001b[39mInterruptedError\u001b[39;00m:\n\u001b[1;32m    417\u001b[0m     \u001b[39mreturn\u001b[39;00m ready\n",
      "\u001b[0;31mKeyboardInterrupt\u001b[0m: "
     ]
    }
   ],
   "source": [
    "runner = AutoRunner(input=input, output_dir='./output_dir')\n",
    "runner.run()"
   ]
  },
  {
   "cell_type": "markdown",
   "metadata": {},
   "source": [
    "## Setting Auto3DSeg internal parameters\n",
    "`Auto3DSeg` has four steps: data analysis, algorithm generation, training, and ensemble. Users can configure the internal parameters of the `AutoRunner` object to customize some steps in the pipeline.\n",
    "\n",
    "Below, we begin the experiments with a smaller number of cross-validation folds. The default is 5 in the algorithm but we set it to 2 here:"
   ]
  },
  {
   "cell_type": "code",
   "execution_count": 10,
   "metadata": {},
   "outputs": [
    {
     "name": "stdout",
     "output_type": "stream",
     "text": [
      "2022-11-16 07:45:37,864 - INFO - ./work_dir does not exists. Creating...\n",
      "2022-11-16 07:45:37,865 - INFO - ./work_dir created to save all results\n",
      "2022-11-16 07:45:37,865 - INFO - Loading ./input.yaml for AutoRunner and making a copy in /workspace/monai/tutorials-in-dev/auto3dseg/notebooks/work_dir/input.yaml\n",
      "2022-11-16 07:45:37,867 - INFO - The output_dir is not specified. /workspace/monai/tutorials-in-dev/auto3dseg/notebooks/work_dir/ensemble_output will be used to save ensemble predictions\n",
      "2022-11-16 07:45:37,867 - INFO - Directory /workspace/monai/tutorials-in-dev/auto3dseg/notebooks/work_dir/ensemble_output is created to save ensemble predictions\n"
     ]
    },
    {
     "name": "stderr",
     "output_type": "stream",
     "text": [
      "100%|██████████| 30/30 [00:00<00:00, 46.32it/s]\n",
      "algo_templates.tar.gz: 296kB [00:00, 312kB/s]                             "
     ]
    },
    {
     "name": "stdout",
     "output_type": "stream",
     "text": [
      "2022-11-16 07:45:39,820 - INFO - Downloaded: /tmp/tmpt8dlpazw/algo_templates.tar.gz\n",
      "2022-11-16 07:45:39,821 - INFO - Expected md5 is None, skip md5 check for file /tmp/tmpt8dlpazw/algo_templates.tar.gz.\n",
      "2022-11-16 07:45:39,821 - INFO - Writing into directory: /workspace/monai/tutorials-in-dev/auto3dseg/notebooks/work_dir.\n"
     ]
    },
    {
     "name": "stderr",
     "output_type": "stream",
     "text": [
      "\n"
     ]
    },
    {
     "name": "stdout",
     "output_type": "stream",
     "text": [
      "2022-11-16 07:45:40,289 - INFO - /workspace/monai/tutorials-in-dev/auto3dseg/notebooks/work_dir/segresnet2d_0\n",
      "2022-11-16 07:45:40,850 - INFO - /workspace/monai/tutorials-in-dev/auto3dseg/notebooks/work_dir/segresnet2d_1\n",
      "2022-11-16 07:45:41,257 - INFO - /workspace/monai/tutorials-in-dev/auto3dseg/notebooks/work_dir/dints_0\n",
      "2022-11-16 07:45:41,664 - INFO - /workspace/monai/tutorials-in-dev/auto3dseg/notebooks/work_dir/dints_1\n",
      "2022-11-16 07:45:42,055 - INFO - /workspace/monai/tutorials-in-dev/auto3dseg/notebooks/work_dir/swinunetr_0\n",
      "2022-11-16 07:45:42,445 - INFO - /workspace/monai/tutorials-in-dev/auto3dseg/notebooks/work_dir/swinunetr_1\n",
      "2022-11-16 07:45:42,997 - INFO - /workspace/monai/tutorials-in-dev/auto3dseg/notebooks/work_dir/segresnet_0\n",
      "2022-11-16 07:45:43,403 - INFO - /workspace/monai/tutorials-in-dev/auto3dseg/notebooks/work_dir/segresnet_1\n",
      "2022-11-16 07:45:43,406 - INFO - Launching: torchrun --nnodes=1 --nproc_per_node=2 /workspace/monai/tutorials-in-dev/auto3dseg/notebooks/work_dir/segresnet_0/scripts/train.py run --config_file='/workspace/monai/tutorials-in-dev/auto3dseg/notebooks/work_dir/segresnet_0/configs/transforms_validate.yaml','/workspace/monai/tutorials-in-dev/auto3dseg/notebooks/work_dir/segresnet_0/configs/transforms_train.yaml','/workspace/monai/tutorials-in-dev/auto3dseg/notebooks/work_dir/segresnet_0/configs/transforms_infer.yaml','/workspace/monai/tutorials-in-dev/auto3dseg/notebooks/work_dir/segresnet_0/configs/network.yaml','/workspace/monai/tutorials-in-dev/auto3dseg/notebooks/work_dir/segresnet_0/configs/hyper_parameters.yaml'\n"
     ]
    },
    {
     "ename": "KeyboardInterrupt",
     "evalue": "",
     "output_type": "error",
     "traceback": [
      "\u001b[0;31m---------------------------------------------------------------------------\u001b[0m",
      "\u001b[0;31mKeyboardInterrupt\u001b[0m                         Traceback (most recent call last)",
      "Cell \u001b[0;32mIn [10], line 3\u001b[0m\n\u001b[1;32m      1\u001b[0m runner \u001b[39m=\u001b[39m AutoRunner(\u001b[39minput\u001b[39m\u001b[39m=\u001b[39m\u001b[39minput\u001b[39m)\n\u001b[1;32m      2\u001b[0m runner\u001b[39m.\u001b[39mset_num_fold(num_fold\u001b[39m=\u001b[39m\u001b[39m2\u001b[39m)\n\u001b[0;32m----> 3\u001b[0m runner\u001b[39m.\u001b[39;49mrun()\n",
      "File \u001b[0;32m/workspace/monai/monai-in-dev/monai/apps/auto3dseg/auto_runner.py:586\u001b[0m, in \u001b[0;36mAutoRunner.run\u001b[0;34m(self)\u001b[0m\n\u001b[1;32m    584\u001b[0m history \u001b[39m=\u001b[39m import_bundle_algo_history(\u001b[39mself\u001b[39m\u001b[39m.\u001b[39mwork_dir, only_trained\u001b[39m=\u001b[39m\u001b[39mFalse\u001b[39;00m)\n\u001b[1;32m    585\u001b[0m \u001b[39mif\u001b[39;00m \u001b[39mnot\u001b[39;00m \u001b[39mself\u001b[39m\u001b[39m.\u001b[39mhpo:\n\u001b[0;32m--> 586\u001b[0m     \u001b[39mself\u001b[39;49m\u001b[39m.\u001b[39;49m_train_algo_in_sequence(history)\n\u001b[1;32m    587\u001b[0m \u001b[39melse\u001b[39;00m:\n\u001b[1;32m    588\u001b[0m     \u001b[39mself\u001b[39m\u001b[39m.\u001b[39m_train_algo_in_nni(history)\n",
      "File \u001b[0;32m/workspace/monai/monai-in-dev/monai/apps/auto3dseg/auto_runner.py:488\u001b[0m, in \u001b[0;36mAutoRunner._train_algo_in_sequence\u001b[0;34m(self, history)\u001b[0m\n\u001b[1;32m    486\u001b[0m \u001b[39mfor\u001b[39;00m task \u001b[39min\u001b[39;00m history:\n\u001b[1;32m    487\u001b[0m     \u001b[39mfor\u001b[39;00m _, algo \u001b[39min\u001b[39;00m task\u001b[39m.\u001b[39mitems():\n\u001b[0;32m--> 488\u001b[0m         algo\u001b[39m.\u001b[39;49mtrain(\u001b[39mself\u001b[39;49m\u001b[39m.\u001b[39;49mtrain_params)\n\u001b[1;32m    489\u001b[0m         acc \u001b[39m=\u001b[39m algo\u001b[39m.\u001b[39mget_score()\n\u001b[1;32m    490\u001b[0m         algo_to_pickle(algo, template_path\u001b[39m=\u001b[39malgo\u001b[39m.\u001b[39mtemplate_path, best_metrics\u001b[39m=\u001b[39macc)\n",
      "File \u001b[0;32m/workspace/monai/monai-in-dev/monai/apps/auto3dseg/bundle_gen.py:202\u001b[0m, in \u001b[0;36mBundleAlgo.train\u001b[0;34m(self, train_params)\u001b[0m\n\u001b[1;32m    194\u001b[0m \u001b[39m\"\"\"\u001b[39;00m\n\u001b[1;32m    195\u001b[0m \u001b[39mLoad the run function in the training script of each model. Training parameter is predefined by the\u001b[39;00m\n\u001b[1;32m    196\u001b[0m \u001b[39malgo_config.yaml file, which is pre-filled by the fill_template_config function in the same instance.\u001b[39;00m\n\u001b[0;32m   (...)\u001b[0m\n\u001b[1;32m    199\u001b[0m \u001b[39m    train_params:  to specify the devices using a list of integers: ``{\"CUDA_VISIBLE_DEVICES\": [1,2,3]}``.\u001b[39;00m\n\u001b[1;32m    200\u001b[0m \u001b[39m\"\"\"\u001b[39;00m\n\u001b[1;32m    201\u001b[0m cmd, devices_info \u001b[39m=\u001b[39m \u001b[39mself\u001b[39m\u001b[39m.\u001b[39m_create_cmd(train_params)\n\u001b[0;32m--> 202\u001b[0m \u001b[39mreturn\u001b[39;00m \u001b[39mself\u001b[39;49m\u001b[39m.\u001b[39;49m_run_cmd(cmd, devices_info)\n",
      "File \u001b[0;32m/workspace/monai/monai-in-dev/monai/apps/auto3dseg/bundle_gen.py:185\u001b[0m, in \u001b[0;36mBundleAlgo._run_cmd\u001b[0;34m(self, cmd, devices_info)\u001b[0m\n\u001b[1;32m    183\u001b[0m     \u001b[39mif\u001b[39;00m devices_info:\n\u001b[1;32m    184\u001b[0m         ps_environ[\u001b[39m\"\u001b[39m\u001b[39mCUDA_VISIBLE_DEVICES\u001b[39m\u001b[39m\"\u001b[39m] \u001b[39m=\u001b[39m devices_info\n\u001b[0;32m--> 185\u001b[0m     normal_out \u001b[39m=\u001b[39m subprocess\u001b[39m.\u001b[39;49mrun(cmd\u001b[39m.\u001b[39;49msplit(), env\u001b[39m=\u001b[39;49mps_environ, check\u001b[39m=\u001b[39;49m\u001b[39mTrue\u001b[39;49;00m, capture_output\u001b[39m=\u001b[39;49m\u001b[39mTrue\u001b[39;49;00m)\n\u001b[1;32m    186\u001b[0m     logger\u001b[39m.\u001b[39minfo(\u001b[39mrepr\u001b[39m(normal_out)\u001b[39m.\u001b[39mreplace(\u001b[39m\"\u001b[39m\u001b[39m\\\\\u001b[39;00m\u001b[39mn\u001b[39m\u001b[39m\"\u001b[39m, \u001b[39m\"\u001b[39m\u001b[39m\\n\u001b[39;00m\u001b[39m\"\u001b[39m)\u001b[39m.\u001b[39mreplace(\u001b[39m\"\u001b[39m\u001b[39m\\\\\u001b[39;00m\u001b[39mt\u001b[39m\u001b[39m\"\u001b[39m, \u001b[39m\"\u001b[39m\u001b[39m\\t\u001b[39;00m\u001b[39m\"\u001b[39m))\n\u001b[1;32m    187\u001b[0m \u001b[39mexcept\u001b[39;00m subprocess\u001b[39m.\u001b[39mCalledProcessError \u001b[39mas\u001b[39;00m e:\n",
      "File \u001b[0;32m/opt/conda/lib/python3.8/subprocess.py:495\u001b[0m, in \u001b[0;36mrun\u001b[0;34m(input, capture_output, timeout, check, *popenargs, **kwargs)\u001b[0m\n\u001b[1;32m    493\u001b[0m \u001b[39mwith\u001b[39;00m Popen(\u001b[39m*\u001b[39mpopenargs, \u001b[39m*\u001b[39m\u001b[39m*\u001b[39mkwargs) \u001b[39mas\u001b[39;00m process:\n\u001b[1;32m    494\u001b[0m     \u001b[39mtry\u001b[39;00m:\n\u001b[0;32m--> 495\u001b[0m         stdout, stderr \u001b[39m=\u001b[39m process\u001b[39m.\u001b[39;49mcommunicate(\u001b[39minput\u001b[39;49m, timeout\u001b[39m=\u001b[39;49mtimeout)\n\u001b[1;32m    496\u001b[0m     \u001b[39mexcept\u001b[39;00m TimeoutExpired \u001b[39mas\u001b[39;00m exc:\n\u001b[1;32m    497\u001b[0m         process\u001b[39m.\u001b[39mkill()\n",
      "File \u001b[0;32m/opt/conda/lib/python3.8/subprocess.py:1028\u001b[0m, in \u001b[0;36mPopen.communicate\u001b[0;34m(self, input, timeout)\u001b[0m\n\u001b[1;32m   1025\u001b[0m     endtime \u001b[39m=\u001b[39m \u001b[39mNone\u001b[39;00m\n\u001b[1;32m   1027\u001b[0m \u001b[39mtry\u001b[39;00m:\n\u001b[0;32m-> 1028\u001b[0m     stdout, stderr \u001b[39m=\u001b[39m \u001b[39mself\u001b[39;49m\u001b[39m.\u001b[39;49m_communicate(\u001b[39minput\u001b[39;49m, endtime, timeout)\n\u001b[1;32m   1029\u001b[0m \u001b[39mexcept\u001b[39;00m \u001b[39mKeyboardInterrupt\u001b[39;00m:\n\u001b[1;32m   1030\u001b[0m     \u001b[39m# https://bugs.python.org/issue25942\u001b[39;00m\n\u001b[1;32m   1031\u001b[0m     \u001b[39m# See the detailed comment in .wait().\u001b[39;00m\n\u001b[1;32m   1032\u001b[0m     \u001b[39mif\u001b[39;00m timeout \u001b[39mis\u001b[39;00m \u001b[39mnot\u001b[39;00m \u001b[39mNone\u001b[39;00m:\n",
      "File \u001b[0;32m/opt/conda/lib/python3.8/subprocess.py:1868\u001b[0m, in \u001b[0;36mPopen._communicate\u001b[0;34m(self, input, endtime, orig_timeout)\u001b[0m\n\u001b[1;32m   1861\u001b[0m     \u001b[39mself\u001b[39m\u001b[39m.\u001b[39m_check_timeout(endtime, orig_timeout,\n\u001b[1;32m   1862\u001b[0m                         stdout, stderr,\n\u001b[1;32m   1863\u001b[0m                         skip_check_and_raise\u001b[39m=\u001b[39m\u001b[39mTrue\u001b[39;00m)\n\u001b[1;32m   1864\u001b[0m     \u001b[39mraise\u001b[39;00m \u001b[39mRuntimeError\u001b[39;00m(  \u001b[39m# Impossible :)\u001b[39;00m\n\u001b[1;32m   1865\u001b[0m         \u001b[39m'\u001b[39m\u001b[39m_check_timeout(..., skip_check_and_raise=True) \u001b[39m\u001b[39m'\u001b[39m\n\u001b[1;32m   1866\u001b[0m         \u001b[39m'\u001b[39m\u001b[39mfailed to raise TimeoutExpired.\u001b[39m\u001b[39m'\u001b[39m)\n\u001b[0;32m-> 1868\u001b[0m ready \u001b[39m=\u001b[39m selector\u001b[39m.\u001b[39;49mselect(timeout)\n\u001b[1;32m   1869\u001b[0m \u001b[39mself\u001b[39m\u001b[39m.\u001b[39m_check_timeout(endtime, orig_timeout, stdout, stderr)\n\u001b[1;32m   1871\u001b[0m \u001b[39m# XXX Rewrite these to use non-blocking I/O on the file\u001b[39;00m\n\u001b[1;32m   1872\u001b[0m \u001b[39m# objects; they are no longer using C stdio!\u001b[39;00m\n",
      "File \u001b[0;32m/opt/conda/lib/python3.8/selectors.py:415\u001b[0m, in \u001b[0;36m_PollLikeSelector.select\u001b[0;34m(self, timeout)\u001b[0m\n\u001b[1;32m    413\u001b[0m ready \u001b[39m=\u001b[39m []\n\u001b[1;32m    414\u001b[0m \u001b[39mtry\u001b[39;00m:\n\u001b[0;32m--> 415\u001b[0m     fd_event_list \u001b[39m=\u001b[39m \u001b[39mself\u001b[39;49m\u001b[39m.\u001b[39;49m_selector\u001b[39m.\u001b[39;49mpoll(timeout)\n\u001b[1;32m    416\u001b[0m \u001b[39mexcept\u001b[39;00m \u001b[39mInterruptedError\u001b[39;00m:\n\u001b[1;32m    417\u001b[0m     \u001b[39mreturn\u001b[39;00m ready\n",
      "\u001b[0;31mKeyboardInterrupt\u001b[0m: "
     ]
    }
   ],
   "source": [
    "runner = AutoRunner(input=input)\n",
    "runner.set_num_fold(num_fold=2)\n",
    "runner.run()"
   ]
  },
  {
   "cell_type": "markdown",
   "metadata": {},
   "source": [
    "## Customize training parameters by override the default values\n",
    "\n",
    "`set_training_params` in `AutoRunner` provides an interface to change all algorithms' training parameters in one line. \n",
    "\n",
    "Note: **Auto3DSeg** uses bundle templates to perform training, validation, and inference. The number of epochs/iterations of training is specified by the config files in each template. While we can override them, it is also noted that some bundle templates may use `num_iterations` and other may use `num_epochs` to iterate.\n",
    "\n",
    "For demo purpose, below is code-block to convert num_epoch to iteration style and override all algorithms with the same training parameters for 1-GPU/2-GPU machine. \n"
   ]
  },
  {
   "cell_type": "code",
   "execution_count": 11,
   "metadata": {},
   "outputs": [
    {
     "ename": "NameError",
     "evalue": "name 'data_src_cfg' is not defined",
     "output_type": "error",
     "traceback": [
      "\u001b[0;31m---------------------------------------------------------------------------\u001b[0m",
      "\u001b[0;31mNameError\u001b[0m                                 Traceback (most recent call last)",
      "Cell \u001b[0;32mIn [11], line 3\u001b[0m\n\u001b[1;32m      1\u001b[0m max_epochs \u001b[39m=\u001b[39m \u001b[39m2000\u001b[39m\n\u001b[0;32m----> 3\u001b[0m num_gpus \u001b[39m=\u001b[39m \u001b[39m1\u001b[39m \u001b[39mif\u001b[39;00m \u001b[39m\"\u001b[39m\u001b[39mmultigpu\u001b[39m\u001b[39m\"\u001b[39m \u001b[39min\u001b[39;00m data_src_cfg \u001b[39mand\u001b[39;00m \u001b[39mnot\u001b[39;00m data_src_cfg[\u001b[39m\"\u001b[39m\u001b[39mmultigpu\u001b[39m\u001b[39m\"\u001b[39m] \u001b[39melse\u001b[39;00m torch\u001b[39m.\u001b[39mcuda\u001b[39m.\u001b[39mdevice_count()\n\u001b[1;32m      5\u001b[0m num_epoch \u001b[39m=\u001b[39m max_epochs\n\u001b[1;32m      6\u001b[0m num_images_per_batch \u001b[39m=\u001b[39m \u001b[39m2\u001b[39m\n",
      "\u001b[0;31mNameError\u001b[0m: name 'data_src_cfg' is not defined"
     ]
    }
   ],
   "source": [
    "max_epochs = 2\n",
    "\n",
    "# safeguard to ensure max_epochs is greater or equal to 2\n",
    "max_epochs = max(max_epochs, 2)\n",
    "\n",
    "num_gpus = 1 if \"multigpu\" in input_cfg and not input_cfg[\"multigpu\"] else torch.cuda.device_count()\n",
    "\n",
    "num_epoch = max_epochs\n",
    "num_images_per_batch = 2\n",
    "files_train_fold0, _ = datafold_read(datalist_file, \"\", 0)\n",
    "n_data = len(files_train_fold0)\n",
    "n_iter = int(num_epoch * n_data / num_images_per_batch / num_gpus)\n",
    "n_iter_val = int(n_iter / 2)\n",
    "\n",
    "train_param = {\n",
    "    \"num_iterations\": n_iter,\n",
    "    \"num_iterations_per_validation\": n_iter_val,\n",
    "    \"num_images_per_batch\": num_images_per_batch,\n",
    "    \"num_epochs\": num_epoch,\n",
    "    \"num_warmup_iterations\": n_iter_val,\n",
    "}\n",
    "runner = AutoRunner(input=input)\n",
    "runner.set_training_params(params=train_param)\n",
    "# runner.run()\n",
    "print(train_param)\n"
   ]
  },
  {
   "cell_type": "markdown",
   "metadata": {},
   "source": [
    "## Customize the ensemble method\n",
    "\n",
    "There are two supported methods: \"AlgoEnsembleBestN\" and \"AlgoEnsembleBestByFold\""
   ]
  },
  {
   "cell_type": "code",
   "execution_count": null,
   "metadata": {},
   "outputs": [],
   "source": [
    "runner = AutoRunner(input=input)\n",
    "runner.set_ensemble_method(ensemble_method_name=\"AlgoEnsembleBestByFold\")\n",
    "# runner.run()"
   ]
  },
  {
   "cell_type": "markdown",
   "metadata": {},
   "source": [
    "## Customize the inference parameters by override the default values"
   ]
  },
  {
   "cell_type": "code",
   "execution_count": null,
   "metadata": {},
   "outputs": [],
   "source": [
    "# set model ensemble method\n",
    "pred_params = {\n",
    "    'files_slices': slice(0, 2),  # only infer the first two files in the testing data\n",
    "    'mode': \"vote\",              # use majority vote instead of mean to ensemble the predictions\n",
    "    'sigmoid': True,             # when to use sigmoid to binarize the prediction and output the label\n",
    "}\n",
    "runner = AutoRunner(input=input)\n",
    "runner.set_prediction_params(params=pred_params)\n",
    "# runner.run()"
   ]
  },
  {
   "cell_type": "markdown",
   "metadata": {},
   "source": [
    "## Train model with HPO\n",
    "\n",
    "**Auto3DSeg** supports hyper parameter optimization (HPO) via `NNI` and `Optuna` backends.\n",
    "If you wound like to the use `Optuna`, please check the [notebook](hpo_optuna.ipynb) for detailed usage.\n",
    "Here we demonstrate the HPO option with `NNI` by Microsoft.\n",
    "Please install it via `pip install nni` if you hope to execute HPO with it in tutorial and haven't done so in the beginning of the notebook.\n",
    "AutoRunner supports `NNI` backend with a grid search method via automatically generating a the `NNI` config and run `nnictl` commands in subprocess.\n",
    "\n",
    "## Use `AutoRunner` with `NNI` backend to perform grid-search"
   ]
  },
  {
   "cell_type": "code",
   "execution_count": null,
   "metadata": {},
   "outputs": [],
   "source": [
    "runner = AutoRunner(input=input, hpo=True)\n",
    "search_space = {\"learning_rate\": {\"_type\": \"choice\", \"_value\": [0.0001, 0.001, 0.01, 0.1]}}\n",
    "runner.set_nni_search_space(search_space)\n",
    "# runner.run()"
   ]
  },
  {
   "cell_type": "markdown",
   "metadata": {},
   "source": [
    "## Override the templated values\n",
    "\n",
    "The default `NNI` config that `AutoRunner` looks like below. User can override some of the parameters via the `set_hpo_params` interface:\n",
    "\n",
    "```python\n",
    "default_nni_config = {\n",
    "    \"trialCodeDirectory\": \".\",\n",
    "    \"trialGpuNumber\": torch.cuda.device_count(),\n",
    "    \"trialConcurrency\": 1,\n",
    "    \"maxTrialNumber\": 10,\n",
    "    \"maxExperimentDuration\": \"1h\",\n",
    "    \"tuner\": {\"name\": \"GridSearch\"},\n",
    "    \"trainingService\": {\"platform\": \"local\", \"useActiveGpu\": True},\n",
    "}\n",
    "```"
   ]
  },
  {
   "cell_type": "code",
   "execution_count": null,
   "metadata": {},
   "outputs": [],
   "source": [
    "runner = AutoRunner(input=input, hpo=True)\n",
    "hpo_params = {\"maxTrialNumber\": 20}\n",
    "search_space = {\"learning_rate\": {\"_type\": \"choice\", \"_value\": [0.0001, 0.001, 0.01, 0.1]}}\n",
    "runner.set_hpo_params(params=hpo_params)\n",
    "runner.set_nni_search_space(search_space)\n",
    "# runner.run()"
   ]
  },
  {
   "cell_type": "markdown",
   "metadata": {},
   "source": [
    "For more details about the usage of **Auto3DSeg** HPO features, please check the [Auto3DSeg NNI Notebok](./hpo_nni.ipynb) and [Auto3DSeg Optuna Notebook](./hpo_optuna.ipynb)"
   ]
  },
  {
   "cell_type": "markdown",
   "metadata": {},
   "source": [
    "## Conclusion\n",
    "\n",
    "Here we demonstrate how to use the AutoRunner APIs to customize your **Auto3DSeg** pipeline with mininal inputs. Don't forget you need to execute the `run` command to start the training and make everything take effect.\n",
    "\n",
    "```python\n",
    "runner.run()\n",
    "```"
   ]
  }
 ],
 "metadata": {
  "kernelspec": {
   "display_name": "Python 3.8.13 ('base')",
   "language": "python",
   "name": "python3"
  },
  "language_info": {
   "codemirror_mode": {
    "name": "ipython",
    "version": 3
   },
   "file_extension": ".py",
   "mimetype": "text/x-python",
   "name": "python",
   "nbconvert_exporter": "python",
   "pygments_lexer": "ipython3",
   "version": "3.8.13"
  },
  "orig_nbformat": 4,
  "vscode": {
   "interpreter": {
    "hash": "d4d1e4263499bec80672ea0156c357c1ee493ec2b1c70f0acce89fc37c4a6abe"
   }
  }
 },
 "nbformat": 4,
 "nbformat_minor": 2
}
