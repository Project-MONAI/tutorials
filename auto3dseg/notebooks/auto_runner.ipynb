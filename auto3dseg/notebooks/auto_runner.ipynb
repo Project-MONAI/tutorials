{
 "cells": [
  {
   "cell_type": "markdown",
   "metadata": {},
   "source": [
    "# Auto3D AutoRunner\n",
    "\n",
    "An interface to run the Auto3Dseg pipeline in less than 5 lines of code\n",
    "\n",
    "![MONAI-logo-color.png](data:image/png;base64,iVBORw0KGgoAAAANSUhEUgAAASwAAABfCAYAAABSvPquAAAAAXNSR0IArs4c6QAAAIRlWElmTU0AKgAAAAgABQESAAMAAAABAAEAAAEaAAUAAAABAAAASgEbAAUAAAABAAAAUgEoAAMAAAABAAIAAIdpAAQAAAABAAAAWgAAAAAAAABIAAAAAQAAAEgAAAABAAOgAQADAAAAAQABAACgAgAEAAAAAQAAASygAwAEAAAAAQAAAF8AAAAAXnSmXgAAAAlwSFlzAAALEwAACxMBAJqcGAAAAVlpVFh0WE1MOmNvbS5hZG9iZS54bXAAAAAAADx4OnhtcG1ldGEgeG1sbnM6eD0iYWRvYmU6bnM6bWV0YS8iIHg6eG1wdGs9IlhNUCBDb3JlIDYuMC4wIj4KICAgPHJkZjpSREYgeG1sbnM6cmRmPSJodHRwOi8vd3d3LnczLm9yZy8xOTk5LzAyLzIyLXJkZi1zeW50YXgtbnMjIj4KICAgICAgPHJkZjpEZXNjcmlwdGlvbiByZGY6YWJvdXQ9IiIKICAgICAgICAgICAgeG1sbnM6dGlmZj0iaHR0cDovL25zLmFkb2JlLmNvbS90aWZmLzEuMC8iPgogICAgICAgICA8dGlmZjpPcmllbnRhdGlvbj4xPC90aWZmOk9yaWVudGF0aW9uPgogICAgICA8L3JkZjpEZXNjcmlwdGlvbj4KICAgPC9yZGY6UkRGPgo8L3g6eG1wbWV0YT4KGV7hBwAAQABJREFUeAHtXQlgVcXVvsvbX1YgLCIKypqA+4pAEovs1lYNLuwqBtx+bW1t1ZZHrda/dWkrlcUN2bTQ+qtAAEWTAIILqCgJsoooO2R/+3v3/t83790QMGCWlxDxDbzcbe7cmTMz35xz5swZSYqHOAXiFIhTIE6BOAXiFIhTIE6BOAXiFIhTIE6BOAXiFIhTIE6BOAXiFIhTIE6BOAXiFIhTIE6BOAXiFIhTIE6BOAXiFIhTIE6BOAXiFIhTIE6BxlBAbszL8XfjFIhTIE4BgwI5CxeqqefYrZHrDsFZl1wSNJ7Fj3EKxCkQp0CLoYDL5VKOz4wrP990/L3GXsc5rMZSMP5+nAI/dQrouizJsn5vXp61zKncIctSshIOvzw7e/j+O9evN8eS0/oeKv7UaR8vf5wCcQrUnQIuXVcIVnyjzCn93d46ZZpqsz4eVtU371y/2EGwyoohpxUHrLrXTTxmnAJxChxHgaJFi4SUdvva5a3w6NqwPyBpwZAk6fplPo+5N6OnWQ+Zj3utwZdxwGow6eIvxikQp4BBAS2kqZIk6yG/X9JC0LXLklfSdNyLbYgDVmzpGU8tToGfJAV84bAO0VCTVVWSFcAK9Fq6qmmCGN/FjiRxwIodLeMpxSnwk6NARnGx0F+ZHXadICWJK5ABmncpatTgTHMbdxtNn5hPOzY6R/EE4hSIU6BFUoAK9r1LltiMzO3DSVFCApmeKtUXdkBzBZSqgU0mWcRVrR0cOWsXyqlH7LLUwXh7L+y0cuttpxUHLIN+8WOcAnEKnJACtLNyQeRDBE9tkV7JHPztmMJlIZmcVSToeljZw9OX+g4pid475kA7LVd2NnCu7qE69bq/Eo8Zp0CcAj8pCkTtrAgw22VfjqTorQEcflmXFY1mDariA5RhllB7RDGZU7UwZwmlIIyznoEefhMYrxTEC8oK7moaZgwVX9AfWPb6oOv21tdOKw5YP6mWFy9snAL1owDFwChnJYGDmmZLTbnbX1YuKeaawhlhRJfCQUh4OkXCCKwwTlQBH70XERdVq1UKVFZ97NNsP1uUnV1VH06r5lfrV5J47DgF4hQ47Slg2Fndkp/fRpJ8N4e8XmCSVhkOBO0ofASBIqp2ohTw5KhMGA6GICJKGmJFEEzgmh7SwmG7YlIvswcD/fHOsr2JVRYc6yQaxgELlIqHOAXiFKidAhk5OfoiPOpRWFiyPfvyD5zt2v7cc/hIomohxkQDgEjXdClQUQEwi7JYuGdNSDCpZjOeQfVl4Jium012m1S1b/8B2WL9gimU2r11AivGjSAfz+IhToE4BeIUqJ0Cgjca88GKtnowfAdgIwXK9YAkhVUaX4GDCgBJknBvgqyoSboWpmQYwoMFeLZDV+QEJIBrmWhmwr2gpIXfnJs9fH19xEFmLQ5YtVdQ/G6cAnEK1IMCY1ascEq2cLFqtZ2lBQPkqrxhTe+7IHv45/VI5gejxg1Hf5BE8QhxCsQp8EMUCDuCkBEp90XUWjyVZUWsIeRMYK3vc/axnqHBOiwXZg9abd9utnbtquXKcr0NwOqZz5hHz8IUbR+vV/3Sbg8X1NMWJCaZQWW5CgpivtZK5C0rS3NFbGZiktW6JjITDdOfnKy0/+yz0MiRI8N1fa8547HzWA8eVPZXVYUWtZA8UixK6mo1f7Hdr3fOygqciro7WR1ALSU/t32ZpX3gbL04PT3kAirhJ0tTp0p7O3RQZ+XmBlUFyqroShwjLTTuKL7sgyJLx3tTIwA1VZJg10VpMopuxhtNdGTDrOmw65/b8qwL4W2wiT4X82TH5+dXW+sy8aHw4xPzj5wkQXYaAuZJojT60b2ok0YnUscE2KAXFhXV0MJK0itfH0vjOibVdNGQx+PrOee4PDfdx0+csquWPJyQIzlxMk32hH19oX60bxNcF+pHFzWTceHHb8lf3AZmD7vHf/iePnb1cn3MqmWeMatXXM5nx/c33mtoqHenYWZHRjmq6duLe5v0YNnEbud/xwwQtFrqyGoQ6M71M+FQLNuXs3at3ewv7aEGTNvmDh7sJoA0B6eVU7TQMivjEigsJenW1UtSLaFgTEeZgMksL+g/ovS5bsP84/Nfsc3OnuAzyt4kR46TkZEy8MLOL9uFg3L7Vt0zNqGN+DiQ3Yd8NMl365MowIqj+TIYOwrFsaZ36Npv8JfgZAKR9lD/JSL1+fwJ4soY9GVXRkZg8d69ji2HDwz6tORA+YKsIfn0IUXQiqXjuxPk4aS3CUaG9PTC1i97abIUyO3WZwdfInDRSt0we4gmFEZbwCl+sH3QjMXP0YexOERYtDqmxAKgkrUXdxafHQrpr+O1CyCy+vF7bVLPjMlMxohTxySbNZoBSqMLV4yCechf8PG2+B0Cce+amzVssVEJTZUpjvDLhg3zj/sg71wYA7+MXtQFdXt0zjfasZCfo/VisM01nx1/T2QYyUSgT0W6JZKiPDyn/+AlESdq19a6nKLR5TTyhISmby1+BHNADwEYMAuk79Zl7cHJ3fsseQYDw6/69vU2+lsNTaBGHscU5j2C/P0WdLLitx1Enjgna+g6DiKLMkaKQaShn6nXezXyNH1L0WWqrPzXEw6c+cmhvTAil9ZarfpNL14x7LtTCVrkmjkQ/Wv7l53UkDwHdLsSk3xhSZP/L6Babr+vWze/6C+FhRrkO00MBCHtM9CUqwX9aNeALHnwvKwhq7GO0L6o78iYtIF6Kd1d0S4RCmizk1q3vkKRFZvJbE5OaJUyacaWormstL0bZrVI0ZAjKTmoMauXjzE7rPNUi7kTXGFYLQnOM1EZL5Pb4YjhirK4LEssgwFW4/NX9NRC8jqLM2EAxP5OsGc5G3k5S/ysFlzjnEfjV9uz4++Jayvew89i7WhyOvpomvb26FXLb5h1ybUeMYMTy8IwLRoDRoFz+rbNWY6EhD+bLOZERVHs9oSEHrKuvP3c5s8HE6we3IgZpFMRagDD6PylQ6xJSX9WVFMSjBat1tSkDE3WZ3JwIFg1Vb3XVmxDl/OvoqIERZZeTmrT+kzwIyHVZJJsKcl9AwFlhnhvwwZyKkcHr9oSa4J7pAXBikdVU/7VquMZWfiMarU7HM7U5FEWPfAYP3s2dFQ56ekif7495UdQls3Jnc+S7a1TqXLxymZ5C+NJ30kx02fWGbCEzgqFeOGrjV0weg+oPFIC/1xYNRQMam6Y6pudjtF3r33vfq7AvnfbtmbTnwiC/MAf7ubBfI17f3kGMv2qhiUEsNQN6/A6FnC7NRiytUHFXMhk9m7YEHPArQlWYUVbje+lBd3uMByd6eFAAD+/hiN+PNY8P9k945lx9GshP9IKBvSgB2WyWsCc64vG5ufdSJE31qAFXyLVVFfgXdICY0B83wMrZt3rrtKsdru8z131ivR/r3R+6vzB7vHH6Q2rX27CE9fUqJKX31CUyzEIwLlcyK2FwuFglUeCb9/ut65a0pWPi4oX1Vs9wvfqG8i5QBDkImJJNevXJrZunVF55IiP8B8KBENBtweU1YdBCuhLZfb4goJT1pfabd3aAf2lX1VpKaW8oN/rRYcH9uhSf+b/m8LCAA1Lec4JDFnVc8t3fTvHc7jkP4h0/dyrBh8kF4ZnMeNe6wxY0pQpzJcUMpmd6Ajg/mEDFlG+IQ1d81W5JZ+uPZvzfl7mc2AXj1dwipdPxR+OoJwNwjGsaq8BWGU0WhJQRTG4HBOMLh4ryjFK41hltRqs1q7oGZa1NQTHoNdHy15V2ATT6E5SOALhJ0d/xrlx5H3jvObReI9HJYx6CaI8WAohK3BVGwb3Bidq8sKxq5oGtAwaoSmooCmyD3pG+C454PXCB6XaISc17b+MNzs725eFxmu809xHNFLUO8lIH+TAKsIC2q1Fs8R8gDpZ2aay6yNQ3wtS5YZBN/YlZEnFCKOAA5DMAHtoXiadLJ3meKapAQhRCpbSaOgk7C+QWGkUCrrx+1OmTDk6auH61auG7ZibOWTcvKxhOXMHDCtkHEotPMYq1B2wol9ERyBUMYC+1dOSEL21sIzFjlZVep3+namryakxuxB9vdkPWVHTAYhH02wpKX3A2cCqTYqAE3p4pPnIEjgsUQmxzKABVmMKl/QKBwFWDltrghVaLFaFQhuA5e2WpESr2W4zo5Hi5zCbHfgZR57XvDbuVx/5Dn9832a2JCZaZEVmBwyidlQBWmaAFjC7SUFLwVp9tAYRjLaBLhcM+P22hMSLJqxaMZfPaEYSidQ8f2t2KGhkInlkPpnHaH41kxrzej9h6VARrqi5SdmFffpZ7PZMSCdh5MUKhQ/zxf6ocQAFil07pnBFFwI9dWwnTLMJH1iw3gZeFrCAmR3FqFjiffTih78dbRQ/HLGuMWI04qH3aboSQGfE+qH2gaoqKuQHSVyEFBlRIqUVl833586ZmBHMzg6ys5qczruwyhwtQT5qxCb0MBHiazIYlBiGmmAFZopi4FGwIreExgkvjYq/vOIR8CUfoEmk4FaDZvSwTt4E+AsAdttjDHwRejALVs77gBk2iJrktFQcF40pWDZybtbgRRQPKSbGqrho1UdpxzPUNv5zHYYW9HgkdMzRowvzNj6XOeypWH+7rmUgExPJJHN2NLtQDxy9qGtiDYznwpfxE30BXMtEq9Mp+b0ePzLgEEmKnNDrQUgy2e0pYZ/3Dtx/JHWnnf00ZmKV+Fad/jiAoMZnDTIx+8b59xMRqiPcdpH7iuo4vx+r4XcaAFhH+7uAWrRKYm4Y/m4ol0jUXyQlXTNm9bLH5vYf+gfaA3GKveFZbNibQm81cmRwQuGKTiFdmx32MQuC2N+n9vfvNOyj0beOBSvTapPNegxYIRcKlP1yqLLqPrDPzzXqY8e9PHr1sm+hn8tXTCYbxDQ/QMtaA7QWNgVonYhNB0SoOtZnYBcVZEP+29j8JZ/PyR68sklnLo+jx/cva1R2jdPvx4v9HVcUrP4FEwE0xZupB4b4bo1yL5RXMW5h+KIFJhTewNhbxmxc8cQs6AApThfEWLyKfQkBVJgxFOm6UNomCCdqa3X+FBoi5z+FHE72EX1R9ldWQqFofRRi2HCCFTdYrHOCMYq4KCdHEA5gtQDg4IS2EEOFEJeOfqEJRoCjYPVuL3BWa0w2S+ugLyoGgrMywCrg9tw7pwZY5eTnJzBj9TFm5MyneAf6kKx8lxh85vUfWgDpIhvl1QFaEDV0ghY5LHBaiC5LCzGY5DSFIv4oYdEP0eGg/KDmn7uoaPSBpKvq/LFrF3fkzGVzGLZOral0r5m56vPmQywX6GFwHIouj01umwYwD3tQHxSTAVMqdFgKVCsRDoy+pcAZd5FKQmOY3e4RFyzVOf+pnjQasMhq4wcqw/oVc9mkPS4wA0eZXJ8/9r3FHZ+DPouzBc1FZNGRAUbk8mypyf0wE3hUb1UzE8h7zcvGnhtgNWpVXjrmfABW1lZBnz+isxJK8whnFXBX3TtvwJBp/J5Ldyngel5xqP69t61+55eLYEg4HjNq/IlGHskU8ynySnrTIJTfEjOyH+af6WyfvLWTcvnam9956wxGn5cN0ApLV38ftIIUD9klFo4uXDqyKUGLYxjbQSTfshz2+zXo49rqIbNQwnMga2odZ00dFulyKsOUKBDRuBYDyAQPXLHgaIIemNkCtbRDYU0rN5lwi6SDjkVW0Z1UZQIjzLp4hNcQt3j9Uw2NBiwSjiQH6wAWVhhB8pYK3UDI4nQk6yaT0GRNycoSM3V82JSBwChMGFYt+5nJYn3UV15Oto9KbgZ2ICg5xXlM/9QEKyD3apP1+2BldjplTKffM2/AsGkGGO1877xU5CdHbZ2aWBUO/G5o/n/PpKKVPxcUtOROId4qaKwyz9HIdVqvc1KDyyH2eqoeUNqknqPYrJearZYLWCjGOzFogdPCsi+M5v8eXbi8SUCLBMcPM5QKuYcQyicozil7tInLRxfkvcx8OgvcNfQLvHN6BgIN642l08Lq9Ult2rTDQObDcGmCTRgoJUt2s2WKOxxc4GzTmrTzUVgRG5JK8mVj16wYijh60aD0ZpdUWlqNxASwUCgwvOBnMTzgjA2UKKbS1sialHgl1hj9gxU2dNmyJp3tYMNwQc6nESjE0/nk/KKjPDk/zhJxjSZaSGRalg9jEWqCFXj6NRB/vsdZ0ZwCHfYeTPv+i/k0vjtn4PVHQJsFrXxB6cLUdrbOluTJv1j51q8nrnl35MUQ+cid0iwD72g853vjClcMgBL7obCsjLm4dfvL27r9YSUQ/Hyuc/e7fM6FvTwStFDGbOiyjhMPwWkJ0NKbBLRQHjYBvx4KHwZHhzaBWUvMNQHChBIekw0TwFXeR+CNtX0Yy93iQtQkiFb/mKDIBVixf4j/qor5Ek3bldstfbpVMv8H5iDIPjgvyC3gkGHiYJOgB8wVZUoWA26LK15zZqi64zT0o2iaNLyUExT1Q4wIG9Axow0UzRONFPosHQ30vjH5y24mV9Ckuotow1A19VUo/ttBb8MpDuaHOgLYXGmH4aun0GS1s9zgtsTA39Cii/eOBSsZYqAt9XgxMAJW3mPAyhWd3pb++U+rQ1H93RNavdTWmbTkorQz9IzWaeu+9Xh8F3g6/++owrybblvzViJBbnTB0mvGrVr2BCx3+hzwe97I7nBWcltHwntdU9Jea2O1fXz5wdRuzNShtDQqFUXhhD2MrGfD3ucEoCX9eyy+ETPxEGMASQ3aBtvanZNgWrEfojE4KQ11AR0Neqew2VKkZ8esysvkd6mEF8Q8Df9QhDfq2tYq+RpHctL5vsrKiIpCIDuqSZdgaClJGa3sn/rKKz6xOJ0Y2OkgD1hG+zZJHzR21bLzaJF/KvTBzFtLCY0GLBSEHUGymkz7N3rKbgh5xcw8GihWEhERUGOYtUJblV65tXBxN+oummI1OvVWbBhYJf6ANTnpWn9FJT4qRUQOTGLCXgmopU8Cl7XW7BTuqCkeNioYYEULeihSqbOqFaxCXs/dBmdFvQq5JTRSASg5fc7NNqvqPqfdvtIXDJTACHvlOQmp1y4fdN3bLw0Y/CubonYLhC3Ld2Zf/o6iqLd4/Kb/nQ8u7ZYuGTeqivIp7Ny/xdDwUYrF8VF7uz2bBeqemIhxBONFDdBSJSWrdtACnsvK6wZooW4aBR5Cd4U8oNptvdue+VGFFrqJCnd8hD0Tik3stAIlPERmGu2+fsvKle2EEh5iLPN+uoWp7APRAHOmXHJUwHTa0MiqySwFfN5yxay8wCiuC7PLUG8vKJwcESQEN0ATBwd2KdWlO3lzf0pVLPosk/pRhsYXXjRDTQpqetLm4aO+Adc/wZLICS85auGKBoqeAi7LZpJMQuHKVejkGGJFsayo3mpM/tJLIJg+A7DC54ULDDaWoAW+paF4nztvwPD/osukCYvn6mbUsFzQmE8sZF6zPEMz6TRdqB2sqjx3z+k/9HmjvBSNxReplEYwK9LlaWb7e26Px5FocRTaLBbHt5VHnnu26LO1kz9476EDAe+eJJP5ftmk50J7n68r3rFPb/pscWnAf+DyrunvwWQUlobSl6kO2wEobeU7P3jvXNKXZh01QevVzMGrCFqoC+3Y2UOKhwZorbgJ73oay/FQEkc3lY+Ulyfn/ey6VcHyiinYbYW9kEtQBHiBC9Wh02tvsgQFd/Hc0KEBkWc8Po1CNXc1a8umSyGGD6sqKSF1LKgbABZUq7q87M5ze22luCjK7ZXf8pWU7YMojV1HpRBUGxjxxdh6AxcYcxFxUwz4Pxaaxww0kJAwI5g9YOjsYGXlNIhk1FdFG6hkCnq8IXNSYp+xq5YLhWtRTnpsZg3BRdA+RbDKivKamAUTm2RDZ4KqxuhuxpZCX9kdabezUhSWONqjeN2QwI5F9nwcwSoMC3Yspa1NDAwRrLKOgpXgrGp8cFTBsksBNhV/vOTKj3ST4nj3u6IjB91Vj3xeWjJyj6dyQe9Waedfe2avxc9fNfATLntY0H/I3KwOXXr5teAni/fsMC/+4uOF35aVueWwpp6VlPZNoce9MhQK/oKfaA+QFp+qwWkRtCCT0eThBKClv07RvTEcD7pXZCgAfxeCbM48vDJgyJ+8pWULsdLAAZh2w3KawpAeUcI7+40uXDaD4OpMS4twxCLjP/4/LoMWKIomy7clpKaQy6eSCvpeVfJ7POC0tVksadjpFH0RIvJB0Gg2BlmCvrBqFVyWzdoeOsEJjCtJcIj3Ew0xAyyBViAiG+yczGH3woJ7HXQ3NvATdDXBoILz0U1UuK5aPpEdntPz4kkj/hhLb8qcyiyIgl1DPh/0Azo8HOIf7Y/8fgoj5BwoIpIb4VKIBn+R5aMSnMttMPMMzsqWUhtYBTzuuwRYwWyBVr8GWJEzM2ytICKcF9TC7zz86dqfHXRX3rgvGL5GkfX113Q896unLh0wzWExTUF2n+BUODM8Y2vR320mdenD5132p1907f5motl2aN3hvepud/kDn+/7Zljlfx/epSnQ2SGQY6FpBGhRUzyUX80cvgrCOjitYDVoCTphMTg5LVmVXxtbuOImKvgbuyREhkMk5oVB9im3+crKitEmnKChF4gVVcJ7JbPNmos2MYkzo6eTEn4KugPLPn3z5s6ohzFVJVhErIuVFjK8nPDR2tyevfNdmLJyn3ce988SDVNT9HneIyXUsUI85/oYtNpIJxrLwZIDymnIjZIePxhiBljGl6YWF4uaCKrqjUG3t0yGKw88o3iINoopRB91XPqMW/OXXsBZIhC+wTOHhsuYsYXLxlkSnWMBkvyO+D5qOAzlJat58pwBQ78wlP2Cw0KkBgayBqIRQhXzCrjIVAIkvkGzCXZOlQr2QJX7LpguTKeJhUt2ifjUd1EsJFDT1mrsmnfPAqaONcvqLyv9/iuTzZbVKwf+clabhNbPQkC7lPmbcG76Nixj/t9QULlvxtZNT4KTyruje/pSPkvQ1Cttimnp8kG/nNfO7nwrGA61Gz7677eh0Q/CrOz1oDbMH7LB4co6y56zaJHgLdk56KMInSACWmYT6gcKcWFcGgwrsNOCLyu62zmHeWUZ+L3GhH/CeweV65juuhGeJAIQ26GTwUJtEBFTYRoX16JfThtduKSvUMIv/vEr4VnXRltRFO3W5LZtnaFQyEs6w0ZUCkE3BfXES6Rrhw0bbC7oX11RVJo/YFgxxlRwpMlEvAAbEPR+EkTIdEeHxJF8J9VuPy11fizbyULMASs9PT1Mg8DX+w3aC4lsJBXy0YD+iQYa1sImK1TJqvIfinF0PcFOZESq6zEy0sD9RuE73cBCvcA1awgcofgLWhOdpkCl+/U5mUNnMm7rrkMFh8VIDQ5ClJSk29a8cwa4+osiujIBVmRjFHBbEjkrLLeZTj0DTSzA5VgJGtR3kcsav+bdK8YWLPsVWiAchylvv541/PELOnZ42Wq2YJ0GQKpLl13wsCDP3PJFT15HPDzqbdG4+/tN7g95728bNzpDYf2yoK68z2uzYio/O7nV20sH/uJ5s8n8rKLI949bveKRCatXjGA+ONFBrpAcF1yu8BVpXtaI1RDNMmEvF8b24kApYY4CLw9+CeVwKJpyJePtIhg3OmwTKczNHLEZne8m0ok9EeTEXyrhA5hptsN7gfrvsSvfaD3rWnAQtbgObnQ2TkECr3z9NdaIShN9VVVomNCr6mBswcnCK8O2oMnyGrO0j7OGCC5BFZ5htA1JL4XEcjJ4laKJAzxNKKgm2GNP5POtCQmUJNjWf1Kh3kBRF+oskkeGCRLzsoa/G/L7HwYnwkbPvcsYVHAlIcjo55Y5pfm8UW8fVFGxjO+GpfDrUOibAYQEJLrAgN7KYgaXsyPFo49nHIYp0cZwzELdyKN6/w0p6FtA4+oXkR/O7AR93t+Qs+J9iqDkqgSXg0XY17//1vCR7y95uCro630wFFjp08Ifv5o55Gm24pC3io2vOj1MaK/QZDWT6UzfsukvkJ1eVap811i1xMfRAWzJFktHdIIj9/TqdYRxYKDpgxcs3JKkF/oOXOIJBRdWBYPry4NBvazywMM35i8e1T9vYZrIi5ihjDT0Of2GroH93ECCFl7l9JXwaADuCwusDLl5F5NtVCjB5gVIW9Q+6PMmliW57K1SzbiBpSn4ixEHXiyghHecqZttYmImY9GiENtQoz58il6m2oCDEz8fDHnh86pVZ9hXkds1wbwGGE0pXZpPr53wme7gwCayCmRyRQfvPbKtELssr7MmQhepo0XQvwC4LIQBowuW9y/gYHgKfWWJ/J6CPzEHrOKCAtEwjbV8cwcM/Qu8JLwJA1K6pa3WZwWqKjW4Q7kBBpAPsnNz9K9r+V1RlzHQezxrTUm6CNwVRyiKguy0WDeHig1rN1MPQw6D3MUPryur69cRzxvxOGx0abY+2suYJPMKpkKXsFxu08Ypb4aniMdvT+/yZCdncvp5rdqt/FvWiHkXJKa0SbPYQmjYyrPFxR0kxXEWtBSt6IHyhW0bz1QsoT0QPM+Azmo6iPmt1D39I4+qWoAqCwMBz6ywEp4A/deaF4uKWs3csSNZ1vR2SOoM+lBfsGVLm7Odid90sNrOf+PqEUvPT0l762xHsj09MeV34wuXuSAursWSpXWj8vPOZF67hmxrcNghuB6Yfxhl4uwUn8csAJgpJjG9eZlDp0JH8yaWTTkB1Mco4TFzmIk28Vy0wzdYXRCzfDcgoakRLl/4PQf4TyJ3RGqiTsXMILyaHDHL1peZNES7CFhFvzMlOrASkFD3Myk+ioB32cYwOIMx14WJQ+KZ3tjWUTQPLfkQc8CqLmyN0ULyq6NhQLoTnA9BC76aONpiCsTthpGhilX8y/px9K+LGECdCkckzCz9HFbA9wMMadN0VG9FkwpN/x/uKosR2mIo26vz1WQnAC05LKam7Zo9DTq18dY2rbq0tjp+fUXbM5PSU9P2tEtwdlm5ffPtSVbHH3qkpllnbS2+y6poN4Hruw7kuFA1SxPg9S5H003D0cLvQbm6QfSskrZtvt/msNwOvq4XWmgZyPcQ2u8IzSL9Qg/7JmLmqS/swLKs+tnjKuTQ+K7Jad06OJNGPP/VpkfbJiX2Sm+TVnpJ+06+zkkpt5tbpVyZdMYZl6uKPoCk2GpyJyJN1Ee07UcPTUEmgpABWppNGucrLd+ODuhE+X0UqdGjNeo4Met6D4D1dgw03h+bEl5wV1Gj4PZntM20OhP6usvL6a6C66EAWOSwpLdv69r1W3LLI6HPrElr6r0MGpnN8mJfedlumMzY2F0QD1wW5ox0fcRtq1eeI9Zjniaic00anOy86QALX3Wh4sjWU5Gqh+TrYfXMvABcoJHh2kO4KhM6LlX6953r302mMvpkYgDZZQFWq5Z3QDpzuKI9Mm6hOlGh1gTqraremJs19J+MCy5P8ND8aHMG717vngDWDPoOl2zvYE/YZjIp28GxtFMk5eCb32xe9v6h7xbe1+v8R/yK5YW7evb+O1xxzcCSnlWTumc8N7lH72dRpo6YRHsIZFo8qUf6nDu79Xpqco+Mp3O7Z8yCAe57QJf7qMxQw+pyvPMUqPmepiqv87lc4X1+Uo+MZ17dt/3hJd/u/PLspDaFvmD4XNj7HGxjS9iplFfuKf1uzz/bq8mLSZNgyIOpc4OvanoqGaA1/4phFZqkXQ9zF6wwkm2gDzgN6jihgY+wI8/T7INthzscNX3OYvOFqYSjaEC5JtJ1NMaAILnpiCmDNwgV5SwjzsmOL/UdUgJwegVcJ6NBS08uKyh8ZQX14B28mbpzJ9UtP5nQpIBFKlIcoxJ+3tVDNqIqjzMqpfgWCKFCzvB6Qv9mfLGshCe1hClRNgDSxTwo1ZNhn0JAiuitzGYzvCDstjsj7jjE9kMYrWpJpsluwfWT+F4GlsbQst2vaTkHvO41AASrLxTMR4NLzG7fZdbAtp3OWbF/v5M6DGYmZIEDvsgIKs3cVvQU9HGf5PZIfxHt0zpjy6bzOeoyHvf+A8hfkdsjYxpA7oWgHHLNgQIecLNfDoUTGScXhp/sHHefnd6lX9sOf9xdVjIM3WUxzB0Sy/zutWUB/8MLsob/j+OqqyIO/KxcotS8QTh3wyfnZw7/EmW8lR0SdUqdD8upwC+9ZrLZLRB7F+a8i4EMG1mQW27eXDbsa65oG51eXNwbwDuSPq+AYJQAhCkDClg4sVv6h5QUxnfuLOr/+C8R1PGuAD4IgfMhPsMZo8IVCPCCgjbGZqZLt9wFl0ScoGBax6dxul43OWCRcFDCg8y6DH3W7GBF5fRjjEoBOFCQh6GEH4y1ZVMpuxsmCDWJThMGdlwYnv4B9lZXYwaQYAU2m+OOBGt66Is1WRg9Gnqrmu835/leLo1BWJQ9/POv3RW7S3xV+QkW2+gl3xR/8GXJoY9bJyTm7yg9/FvsNPT7F7ZvvtgCt47QYWkzthU/BJfZn03q1VtwP1iTtxIc1RAj70dUqR92pdnN69yMjN2qrD/rsZn+BO6pu2xS9kzfuLEt0vzVjK3FjyXZ7ZV7PRVvvLBl42dOp+1qMLNffXDowM5Ek7qe7x+d6BCqLN5qvoB6ZHvgB+dlDlmIunzc3qoVZyox7U97X1nGEi8q4TvbLMGI31p0VheAuPkyWf8vifxFBxfwiuOSMHABXajwFKYMQSxtheLgRabcge6so3Fr+5IryqktyBy0DfD0b5o44GVh4kCPpPBt1rlC9o7hu3t/Qr6ymqsB6IbSG07r7vJXVHyMxsi5bcqIZB8UuFWm078/jirIG0rZvOYizyyMIMJlDLwUwNvCn2BvxTHGGFU44yjDevs3Yo+5ZtVbsbmcIEQ7ZIJq2Vmw7zvnhe06PtmvfZc30Us/nnhujzxfQsWTqlldil1mrtCCyiRUxO/hVf6byT0z5jNFjpr7vjvwBYw8k178tqgV74Hj6B8K6O/ynGFi9z6bQ2H5n/BN+TuMvLmS3fRLwHdxULH8aUKXHm9OO7jzxevO6jLDIps2TfpsxfttLdazX4GNDwEdur1jlL2RFJvvb01dDbjRR70lpXnWlGRYwutumGWAKYWhFkxVwH1dg/Whz5BTL1q3rkXbHk2JclczOZEiS+M95eW4o2OgRWPlEqpweFNu994LSWWIcrVyV0YNuKJpiWtdfglLy3gH7oUA9VoYvrK48kqewOfCV1YLB3NRjhj8aS7AksjmGvop0PsGNMYKWC5xVBULQXEUugt0yvnwVNqBM3wEKtwXS2/osQA6jwVoCKw4zmbhnxzkJg2YcVwyD/7C8Y1Tprf6Xl1ER0+bFngv2WIbcElS0uF97oqiy9p1/CV3z/5Vp77eief0/CK3R+9/YRTuAQDegn3y0jAz+OCsoqIM6ur4wyab68JeacgzmBEEgWx3Z2Rs57f+9XVRe3Bkt6tQ2uPyfdDjMoumLsCGtstLunYVursX0/vleoPB/bd26VI4rl3GULy/lu+W2ndGqMiLUxjYJlhnzAJmPkf7yyp2wfOHUMIDnslqCSU81uA9wP0kKRq2VCU8y1HNMZn0nOS0Nm3AUWEZDl3FoFULQUCeyzg0ZfjBHdIRzxUFoa4FH34A1UmBNTkR6g+YOCAxLtdB+790bP7SETjqLR3MY9XMmg2wmGFDnzU/e9h34PpvAluLu2CwKNZBFoAxHfVZqagOIQZkZWVphglDULPCsjyxo3AZA8dnBC0o7M0hj2cvZstGMf2idGzqGAUKXp+6sCHyaYDtrOxrD2NE/BbmDffu8JSta5Oc4Dq8tehlzhAx0sytRX9FIy5A+WdT6Q7R8KOwqg+HaDd15tYvh4cV88eI1gaT2b9QQvKb0wBmM7YV/VEJYBsoTdp3oEfGU3h3AfYAeT4oh38/rbj4bBcmO2Zu2fQMvDmsX7L/m6njsOOxJoXb+9pUruQ3F6VjMiLKAfL6VAZ0dCEeLug/ohRtIuLtA5tnIH/wqxaxhBf50/RZ4z9454KIEn5hi1XCz8S28yhQrp9eSzCxxJGBS54CPt8BTQnOjtJaDCjR8xMeXEwBATTCWKa9gHrmpVCCCBMHKvQVWZg4SN99R12kiMBIp2toVsAiEauNSvsPWQ49BfVR5KKqjUqxIBZO/5Kuwrbiz7LjkcsYU7j8bhjQ3eCvrEJHw0p3VCRqkiMwLvVbOeN0qvVWJ2sgIazIR0ZvSjU5V49s3/lriAb/8AU8f5i+5UsXirDCL1teB4ck1gve1SNj9eSevf8K++852DjNJof816MDXIPn90ODc5lqki+C2cZbrUPKE5hBzCONNE3HqtpwsVlX/2Iy6fcA7J5AX1k5AaLnpe26bdRk5RLYXOzhUhsaswIIREc4WZ6b8Vm1uTbcRn+K+hyNuubn2QE5kMlCCW+32bCJp9jxp6V5LED9VBuK6lVHhjhTUtJh2c42LUwZaEuFKG9M7nr+QXplwMRInQCL9eTCWlRBDKu8BKqQ7eBAIRZjWZMwJBVS/UACOZgBrs1t0SIzy9HY0OyAxQxXG5VmDv0zKmEx9+ZD06RMzxFCCcA9DES9+8cU5F077r28cxWTMg1ghUeR1f84CVmToLfStEfpoC6qk6lbI8DLzRaiwACh9QjYSDkpQRXLb+5JP/9TyA8dwQ4OgAnCeybs1wcOSMyCsfEzf1ySo1jkT9A4k9Frz8WxC7Ze7Yjjlkk9em88xn5H2KHJ1tt79qyEYA27Kj3TrCurmY6wQ9M1v6LK8LnTQgPoZJQbov181P9TsIRnm4DCmg+hhPcJJXxX3aYL7nsrHENSDGsJJZpag7PB8qJccMwCZ5F/YSgKbguLvU0zmVdTWhpnQ+sekDgDB2Wk+hL6BdMmUkV8Zdkddkw4CS7LbcUex6d5MBTXzVvM6MjhwpbdiZrt1srKqk0wKj0bFuoYOeBpATIhWF4YEkovaCa5NKKw5G7J8ApFKwDorfwVVe/AYvpxDl0wahFDTfMWog5fI/igrMGwpT/a8M79pe6r8NbS57d8+U+4G5kdDilfT99a9JIUkp9FkQ8yxUVYPD5jS/FALECGMl6vAv//HswNzVDntIIIuBiDde/pX226AXTaFNZMeVyeo5ilEtpDT99S9DtIUe8EZNNv5XDgHwu//fbBkZ8uN5sUJQxHf52Zvtdub3YzBn73hwJ1OwQgij9Y//kbcNjnW5OTr/GXl3swMwoxS4N7Za9scdqHwhL+yXmZ2b9Lo32WywU90SkMqGMXuFzmYMbmL640WSyDqkrLMGUtJAHUHJZsBYP5k3v02MhF4NQv1hdoqfulOkUO6Yu8R478AaoQB7hNiMyYbtHC2EtBu358/tI/ze47fH+LHbxjVEWnBrCQeYIVK+L57OwqeLv8JcDqUwAV8kPlO/RZWAeHzk4xqR1HV4xW4hkaAHxreQ5ZzfItpAG9ELAyed7iAjohAVUqXN6vVAs94FCUCTO3Fg9AWd7P7dargPnFjNKjaHaP4d6+GVs3X18q6f2hr/gcbl5ehCHo7hlFRenYnOwIfCG9CS8H/e7s1nsG3c2EA8oVZlV/YOa24j2w28Je9vIguACYOinjgs9Eutu+fLzC7/7j3W3OOfzSkT2Pjkpt//Nb4Bn1tezsIk5mFERGaUZtMYFgxc7MI/aOGQXu+1MsGToTi4CxpEsBx4VxzAdm0Wx+CDOHn8/t2/d1KuGp1zpVhXBhFMUvImIr6u2OpESp/LDfhzt2OugLIuuqrE1n/hKxI859UXDjdZ0D2xDCqz8btgOmP3MwmzoJtll0s2yn8l212dppPv94RHky6iur5UkbLEAMwikDLOZdKOEBWvCf9RmWYtwBpfqL/soKEhuzhxijMAuIDs/RCnqXSKMAB8F2O+qlvsNLWu5ocnF11dz2wfKrvFJ432Io3//65YacMr930UN9Ln7TiACesR0A2gKp59fY8f3mO7tlPGA8E0ezNCwcDr9zV/r5m2Z8VTQOM0zmief0OYBnb/EHBXw6+sw76DHfytisnp4cfnP++W6KlH8t+mz22YkpS946N+PZe9YXvJOZknod3inilvEFLZQrBVgJkH9Flg+NXbX4BgDzR8gzwYp+zFTMG2qKCss1XXoRrqm/fPXqwUVcu0m9FuI1e5gCsHLhqzO3fXkuWuqoSvq80vSIR1Eo27GoG0bAfZbQTOUbOOzjYJFVj1wWIG73DbNkaeZMaVZuLizm1bm+0rJJKD9kQ7GdHhT7HBmlMUj7qVmXZAtfWS12EK9H2WuLesp1ACAsOCoYlWYOfQnuWmZZk5Kpy+HKdtymSMXRBf916K0Sk5RQ0P8YvUC0XLCKkJkNlGf+kN5Xli3LX9659VHo3KY9t+urvWt13f78lk3jIspx6TIQYBp66WwU9xLDVS45DSyGbg+lfOpdPft8wbSg9/pCT7YJQ1IjfYiJQ0CkZegkLtAoIcFmmooZwrtf2737jOd2FSdtqyr54z53+W9zu3SXD/n9od9/uipNOOfDQME0W2CIcCvI2JwB134M2tyGiRlccfBibqmEh094mD/ANfV/x2PR/KlSwrOOKMoyV5jkGIXNUW1w7kUPFDBlwHocuIfZUV5yLrxlbNul+nfsOLx7SyfFt21HPX6M73WftdXbo9M2DOqwR9HmUzqO6Mkw8STWFwYlLPtJP1Px3sS8pJ5z+vrKOuWAxbo2WihAKxdiwAb6f0c9BFDpmEEE94EpbrqQgd4qH+5J/oh35FkXX9zC9FZGKcAOHDwo1jwOfHdhMhYmO67p2GmILxjckGpyFEzu1O1/NmzZ9BSW3JerZu0fYn2gZIJ3Bn0TxMB59lbJL9IDAzqDBu5rBBhKIeJxWQ4kv9WwQOvPRsnZUyzbeRrWSttBp3/TaxJnDW0Wx5/BnH5V6au6bXLHbv/smdjqoCKFXkq12HPOwrqlz0sP9+H70plCxyJOW9yfqD6L+ZrXf8grgfLyf9hbp9IMBKIfoQDsYUQJ3yOs+l7ntbRhQ2SAExfN88fYqJVeMzBg3OHFjueALzFQYdc73RsKhPd6q1ol2B1dJbPpLFqnN/gHHS/cf3fh+yidmWwoUJK0gD+xiK8sLPi4nSUv3en147GgE69Pp9ASAAtNUNYNo1K4G4dRqdcN7p9iId2TQmmhUG9VBu4qorfSF0IhHxnZWk5lHG0f5GBuLnyzU1uL88nzUtv1hUybAk6ho9mmXFUVDPx5ye7tH2Kt4JtR0U6q8vnKqD/lZgRKWPq9HvY++NJXXyVi+E6Z1C3jPywjZwUn9+q1C7TaOnPLlp4ztxTfgU6xDCLk24BKK7xpGQ4AyzjzeOemNQu/cVfMOTOpTWlFMHR9QNOOdG+VlnmG2XnfTfl5V5wqEaqu9UXAJgfD+PAY+4D3SGkhVAZOjG8e0AD3YQnvhntlh+M6cB6PUVzKXbLkGPssY3VFXb9Zn3jk/tlu+U7ILF2X2Lp1J7iNgbI1MhDw+WGPW4LfM3iCC0ohLMuh26PG/SJpiHxGwIqnbHhh2mVhkB/APSuFqmXdIgL8aRdOqQ6rJjUFkbFIeoE8/JuxBXk54KjyYK9kQ6MQg2qoyn3rawOvOyBEQbmOdiw1P9AM5wBW0cGgCG6LtvyhbLedURX0l3YypWzEpM5uLIAua2d3OC6W0m7M2VFcEsBmQigfrdnbQly8bPq2TTvDcFeg6qoXRqDrMYYuxozgVXjeCYsxqaPxA/zQW0PL0THextk2zCgOY0OFMbX7he1FCXBomWo2qRW7Sg/fbDGZv6oK+WR4JD3otFi77K+o6KbbbRlWn/e6cR+8M/jVqwa9Yw6XCOtD0fOagUb1+YQBWi4oqtX8pTdDZbARs8ltNX/gGCU8xKFHAVqfzcoc+gZ3/KHPc34nuqVafT5Z57hTI0BBq3Uz6mYy1/eJgOZKPznBcDiw1+vWLNibDbQledmSyRbhEAnUd/DaOBr3eeQ9HmuLz9Qi72DhP6UQXBKwsB2YCkPqXFyval+WUD/zCX7sRxBaBIdl0IlGpRxVsd5wWbCq6maw/UUBj+fzoNczkvfIhTWffysjV3U8oumBmKLVyqobw6puNmM/vv1e93ebDu/vUOL1WlOs9rIuyWnbbGbTF9+Vlw/G9YEwJhUg6tFdaAjcVUCRzbA7CMGGCiKipA9E4z8jpIT2oalruIatmjYSozdWCmjvYGobo6ju13Q5hIl1uAzHc0XzYOedc+EdMPH8dp2W2VUl7A0GgpuPHDhjl7ukErvqYDdhO9a1hZAW9SxWYmBEJyL6VR3L20zRXFNc6LO6PDt7+H5s0HE9ZkSZS7GkC/0U0/oh2MVCHSdLr4xes6wHwYp6LWavqTgsck8EUX5Dw8JyR2LipZ4KMVlkJZAQkSpkzep3WO0J2D3KlOi0gju0YNcoqwXXxs+clCCuj7/P57x3/P3IdWL0/UQrwBsqE2FgK2aiuB0YGK/ho9cu70ouXxgJM5OnUWgxHJZBU46qOOfOO//Gkb9IQCNZBH2rcXkqjwGrVTdjQaTIQ+Qv/G2j04SCwsWLLeWsCk/lnr7+8tJec7cfeHdYx1a9HWY1a0Ppgb6lYd+77+39+skbOvac4LroynVMAzN7bZNspuTcnhn5vOY6QT2gr9FC8t2wbH/0rm7n3cP7XK4DjuwxjtX412ZSr15LeB+mErZAOOy+t1efD3j98/y3hsC1zVOPF6/9+saOvW7DvHpCUAu+/dbhwIPj2idc5A341QXYPYdxLYnASr/URqxNi6wk4W2ALxC4JQTODkfFn1cHDPsA3lJz4blgpq+snLPJRCphCQ8QToLa4D+YjLgQ+j0fJyVwbJL2MpXwSOYHAZxtLmyveMrBihwz5DMtfLCs9D2ft7LUjBX9YQwPgpFirJgEdAZJZgPsDdBKp4smkEGBq2tubZ8c9vrvwGd+ZwKzHpPPtaBEWhxgRWkjRlVUQqTTiPppQTqrcGSTVvYk9KUIqw82Bz715oxft2wAuMBdKMf26E/Kk6T1OF8/+v1lPTqanD8b07nPL/BiP2z8+iE9o/ZKSQl+66/kNLUISlC6zqTLGydmZOyHndbLnE0EgvikkL5+Uq+MVdBhtYEG50FEfoMvhCQtKdFsL+P5b9esSdynVdwNhybFo8/OGICp9jXzM4d+ZNDyVUkSoMa4WejUSsD3Nmyd2oT8PgIADXNpNoLJRznaNjrjzikOaAfkvDmYze0/dBaMSi+0tWo1yVdSSiU89Vp60Ovlxqy9d7jdVMLfSBc/4MibxEbPFW2XwleZIv+SPq8AYdS50lsqd3P+5NkrsgY3NdXg5voKVdfXofhgxEkFVBvO0SpvGvVh3hO0jo8Cd1RebeocNX36LUokPKa4kUbBkQyDSUsBK2YHw7o7XA6U8kT9bXMUh3sbMdXeKRyQ1o7PX9aZ8QxPmRQhGGfe1UO3cK9CuyP4FBiH+XBI8MwthUtzC/Z/nWVVTWLpzLxt25IQv/s7XxQVMo3c9HSur0tDU7zG8JOV26PHYWxWd/D5LUX9GQe+tsoOust6DVz+xnUHtarX0HG2aBbtcXqwwELzD0m/aB4k+hXjOwQrTJm/b01MzIToTbCCNT3+4mMKtlOHPu5bxnO3bdsidCEEK4IW8+Q7UHUPwGodlnQdq4T3CCX8DdBnPUrVga1HcswVz66IB4XIQAr3Lkmt27CFekA3aKsUupAhZrzMfNIrA4+xDtE8SKxbcFfvYkUA6CILEd/wlaX4lTH87unmK6vlAlakliNdKNY13tD0hHiiy/OHDasAZ/UId+cFcIEZ4cgmK1jMHYZ9UIewEgEtukMZD30KeLBIA+d3AV7Us2D5yau4KoROZjvEt157K8tzLsxbmFkW8A1JtdrfF4Z/C3PU5zdvehre3/6Dhc03wXB0ruuzz1KYTO+zzn0NrnavlF6f1f3rkkO3l4f8Vx4J+/cgL5skn++vHF0JSozLwDzQ8yv9inHUJVihw/eHbzK6KxEbzwJVw3Bhwh1s5s3pNySf8eG2mmDWIoIBWqQNFnyPxJrDI7B6d4AjRBk44QFZjE7yVOWxMavzrp17/mA36R/LzE8hpCNM37IFa0H1ce4yMLZYy8kRictwMBu4y+kLLIh+06AdH8fqR+VcNHkxvrwosiRUqFCgRX1l4d44RmJbMwCu+qUf8UlLB6yWR9oo+MwdMGQGLI4fEt5TqfgkaKHNVoOWGgGt2dCnRDtNDdASjRf6D+0jbOeV+NyVVz+BWbxP2pqtCRUh3x9W7dnVW3pjWutXLn7sQYfFnAef7iuwsHlvMjav6Jzk+O3D61d1+OuH715x2FM1JrdTl8FYA7Kmd1qn6Z/l522GPZBv7uDrD0IcshTAVssgoAAfTGoQxGC4KMAqIMBKpgKGeYOXjESTv6zy9XlZQ8XonDG1mPeP5ttI7BQehXtlgD5dFKF7Yk0lcEDY68GwA4MGJhO4ozVyLb/KhfOkP7MLE5EIp9gI1Rw5PGPwkaXQTUlt0lJCwSBnb+HiGkokYCZy8/pYrDTAOs6aXhkMOsbiKAngjnpxwJ5DyzF7ugWz6lYMiwBuzM7QxAG+sug8gGU/nXxlxQGLNVrfEBHxpLlZw/6KXXseAldCDuVY0LKR09LXQafVuQZosSFRhSxAwCSHCrFm7iKO1g6TeWdun8s/aW1zzJ++f8uiv3S94sPtpUcGPL19o9BNMYu/3vph+IvDe9OSLPaPU01WOcFsvf/yDp33tU1I+sAb8CQNGnLDCItqLmTc1HPOqQYaA6wEZ6X68slZ1QpW5RWvYwOPiK0bZmTZMZhWiwo1uFV66ggF/PfaUlKJFOQUEaCED4iNWVM1syx0fLwLkZgGyHzMy0YFbseGBO70i817hT5T+LyCV4Zys2x+QSReUUFVQdOFqZGkye3DddDL4OzRqLgOF/PEMLGA8p1lnchYqRaL2MCi6TLTfCnHAashtGanqQFaEE1+C+6EuqFjQctubw+d1roxhW93OQa0+C5+L/e7rhK2Cru2le3/GWylyvYcOXQ9tpx/58Xzsq47KynlzscvuWr4xbbka0YXLs+DXua/19iTH35m25e/7tP+7EsHdDi7PzZN+zIQDJzlDwe7lvg9reyw15rVb2A+i2SYf9QEqx0Eq8TEftVgFQFOwVkFKitfAwBXg5UQSRtCm+Z4B/Qnt8NPYeXDNGwX9rI9NRVGo/SfHkEkbEKqQ2Q/D4uk50WyRBYIYNVADos6QAPA4Sd3aEJqSg+f2wO9EbfvohsZoRrMu6179530ynCM+58moAnzYugloXhfiMXQldhS2o7RkF4c6O0EX9UHwrHAhWwL4wvyrU2QjWZPMg5YDSV5DdCCJfbf0OF/CwV2LaBlaw8V0doxhSuOghbf5Q/BrYZX+sKhK02qfLbZIic7rfb+JtVcNCp/3me3rX7n7hB2QkO02WidL6LPfDPurG63P/HpqtYWVZ5ulax3qqp82KZaLij1eC6EgcJXTDOnKLLDjAFWVLTXClbgCikGEqxQhlvFu+CsWjRYMZMI7LD4ifbrO1AxGT7hPwEYwye85gV+4D4t4T2ctRuFjUtgFqLvxn4AkZcb8BcMTTVrBj5msuDWkCiTUjFJAW6L08SCu6JXhgZ8ot6vGHmanT10F4o8H5w+4RqcJuRfcFkm+MrC0HgnE3YfOtQseap3Ier5Qhyw6kmwY6IfB1q+CvdvTgxa2rGghYQ4Qi7ud+1uXzhcvqus9H6w9gO+KT/S4b9fb04ff87l9wfC2hf+g1X/y51l5sNwFor6J+H+6N2uDuegxd/suLH48H45iKVMh9xVvygJeC/JG/hzYZdFF8g0sqUhLsHK4+4EzirhKGfFjhYFK9+PEKyMOjBACwAbCJssOdiTskIxW8BlcHMTGJVy40vYJoHOT+KdcZhZJOxY681kkbuK6sBmbinqh70Gs7E5KkU+6v/E9l0g6drcnr3zXZgiHH+C7buMfMfqiMhowG4AAAwJSURBVDwJwGR6QKNXsA6XNUtOE0XEtASXBenSL7lHAmj0o9kq7WT0iQPWyahTl2c1QGte5uCnfBUVJwGt8LpbVy45h+IhAMVOBS79OWEZx4ivNX+HDQf3dNtUcWRDsmJZMjtzqGte1pDV5HYIbGiD4jc3e/CmVwcMfdah2WZ+7an6+PPD+yxbg+7uFaFQ3/HYeJRZHl9QYOV7XMbk8ZyVDy7qqmBFFcWXYxXsFVUL5v3IOKvjq8RQwi+46mffAKBupGkBOil9ElOfI2MWFqp42amYTX3p5YGKeXAh1R39+PRqu3YJPIg8QZITbdhHEYhAnRmM7BUJ7n9YPcKUocOGDcfOCteWYOzu6a6ImQXWWw75GCYVy+Eri6XzIz+R5TrwlQWKTOAn4cWhetY4dllo3pTigBULeh8DWsNqgBb96tWcPbS3U83K2ltXLzmHIx5n7HyJ5VhaIiU5UlMktxZ64z9ZIxbNyx6ynT1A/JA/MTPFb/CHwEY6Z+DAI/+9esSKynDwbzK8iZhMaoLGrohAQCRn5fMcyod/dAFWeJE6DBx0TcwGVlQswPZaoxhfcGMt1QkiM3iyEKUJo9DtEGzKHrSlptDCGwAtgjBCg06HXGWD2rtL0A16wc2bu+P0Fvq8AqEtJHbElMG/01tS/hq/tq+ykkDWbMEVzRs/CK7qRe4IjgCLFxh5AKyJtcDu0RF3TNd6cuBQixF+rKFBFfhjLWyT5vs40PJXVT0IsKAxZsROq9rkAaClmQBaK88pgNlBxpU5WMirDaz8du8oi2Z3MY8EkOq8GsBV44hIYLrguAa/1zKHve87eHhYWAtnc5Tle2yc8KFUYK4VrJJU2F4BrIb9+MHKIBJob+izUK6nfWVlc22tqISHO5oIhrM3CzDnK6iT6nMjiRMdRbpRUNRUfQx8XtFdtQcJKLSVgMcMsHHya7+CzR1NGVw1TElOlGZM77PsUS4rKexY4a+sLIbFP63u4Z4JOcXaUZh59PJWHb6Z303dsORHrXyPA1YsWw8bNoEFYW7/IU/Df9eDNii1vwdaNitAK7SWdkLQQ2hz+g/fOidzyAJyRnyX4pzgppjeCX7kugTnhfhcGD6v/9ACvkuFu9d9qMCSlNCXYuCxnBXAqrJy/mkFViw0gqHP4rkatt0JG7mNlgTIbhK9XAC1aoiBuAJZ6hYMn1dcDoW6vR2LnIl48EeF75igbPd6yjQ9AONNSSpualOGE2U5akhKd+Mo20smbqwjTBxgl4bZQuj1AK/6bXydvrIECJ8orRZ+/0cv09aXvmi5aGt1bq/1TZ59IwJaOELkehrr3iRbUhLExMqQGOyhX4HYQov4dlj/9sGYwnez52Zes5nLeDL8/mBBPb+YhfgfweXx5R9/HCy64ooU2xH9LYh8fWFMSJGohhhIzopgNXQ0PxFLMbClGGsZoAUuxzfug7wbAlXujeAunOi03BareoqwmsPCCUWmEwVysMagAGuB65Nat+5QcfiID23IimFJmDKEAsElk3tduIumDPd162aIoSdKsknuV5ebdnOy6T/ekrI/YEY0Bct02OYIWnQp3Q/+4DNpuybBpbTkkmjw+qMLjeOwmrDfNxklRYnZSGtkvsZpTL5rgBYSo4iCnal//X1Oy6thlX87LF1eDxurzbZQ+SZYoG/GkpnNnWTvV9VHnhu/45/hmu+0SZCLdlx9+WabXfsK0/j9IPJxBisKVhJ0VkIMbBKwOp5e1R38+AfNdG0o4V+9atgOuFuJbtZLVIISPhqqOawTY5WIabinmQmOCsCWyw0lEDjiGaYM3HduFm82lykDv1VrmDJF3J7T75rd4ADno87JVGKjCnJZQfjKgsJdV+5kpKoG+cqKdSeptRQ/eLPeHBY3l4/+i1R3tBxsET/4tRYQIaKTZEZqtlZoYzGcxjR7BmjhOKf/0GfGFiyTbMmJTx/ltLgzUIC+nByYweqJRtbIz6N5YhobXhfQMbHPDsUe6M/Abamws5oH4BzDD8SSszIyTGWacX70CFaS9v/NHQy647vzrh6xdGzhst9jj8O/eEtKyFFQr3U0IHcK3O8dvXH0LMpdRUBu26ZBtoTki7xigxQx0yqbLGbMDobWTOyesXoh1lzmSJ39E46+3uxnLpY70qhBeHU29Hh3Yw7TjkYhygDwxlCtDRu7cmn3OQOHbaWvrGXwmXXyjGJNt9hZjylTcjBiV58YN5rtWG8OC0wy2UtqBdBKBcsMmlDVEkGA9KysU1eaOpANMEU74O/FRGGOKrq/97SBN452HhleGp7xldfgtGgVH7UVCvkDOlznNuqHRbdQsMJFEkZU5BZHMRuows5qHoxCmwysBGXQJohZaANsFNGRQMbOZJGNb9MbSL4Gvwa6G3oa2q7B/mqhTVjCS3C9Hc0eE0c8JWSK9oGMYz43FU+NG5AMh5mttAiBo0T8pSkD1hCiIekvM07phnOsp5qzRDboZlyUZW6/QesxeC3BYMXswr87CgrTC4jHKbpFzmSeO7X9YV9ZWsAU2ZGHmB5V7LOe2f2ZxjG05I1mCHUGrCnsBCIED6LOA5GGKUOpq/s52oDhPsDHpRs21DnNSHrN9DfKMqMQe+HInx/l6EKrQoFe4HL28eZW7CjMY8xCBLSYnIxFxc9A6f0rioe4BvDDTR8MOEFPLKeo+ePyCuNn3Oc1z43jseeRNMQzTKvrOlyOUME+F3ZWTQtWKAgoWEIFNNo1RBA9KAwWcd8smYXLnFIsk8FlswZDr8OP6j7lNijhi9GBnWivlWjJ8EQtqj2kWSNufVJPkkf0TuwrgPFMlrhBZohlhe7qG6l7xgKmn3rxxT/AqTBW0wdjR3V+ScP6QrEUie0PFOAgjdXZOJWPiJyI1l57ntIXLRKAhBJXobxeE7YrQ+Gx7EmHTozLNmWxDyTc55im4GbtqTTN3TqDC0eQhZhun9z1/IPI4t9T2rWVbAlOa2JqqkNY/cr635jF1J07v8++NE3e65WqK0pYi6q+gGUcBzHiJpqdDrOjTRsVnhpfm33VoM8pLtHUoF4J1yVyDdCaC6NPWGTfC4CUzQkJFovTYbI4neZjfw5cGz/jGa95bhyPP49eM82EBMVfXvkyvjWW2WsSMRBlotgkim+2/l/FoUPfpbRNS7JjeVJSWhpvz5nYs+fX9Hmei7VsIl4z/zFAixutwsH0dZi1PWBLSUk0JzjN2IWHnXfJnL4/2xOxUTo2jy5atkfLh47/UtmBA4HE1FapzpQUMz2MKor8BPakD77y9de2kS3EEy4GM5g4RJYrBQ5WLsXC/PcS2rdzmOwIrVpxA4w8TLq8gf4rnzFihJiRrq1KiouFlw7pjowMeCaUnrI5EySr05GcnJZm8rndZKVFX7e0bg17LyGK1pZMk9yLNLgGJD39q6JRyOtwVHo5XGpPw+4tRQS0kS3YAJEdjASeULiiU0gK/wrF7qDLauG8/oNmsLKN5w0gR91eMTo4vjWmcEkv2PBdgAoIMVd1S+BksSBhUqoVhoHyd7SSZ2wXWHnR+U72amOesUwoz8wdRWfpIelBFAVopRdg+7KZ4vtY70fgaMwnGvuuUa8TVuWlQTC6H1xDN7CD61M6Sv94rtsw/wkBPVo2fn9aUVGGatLvR2Ft4CQX3dUz4+0W296j+b5tzVuJwZD5AbBE54GhX4c1l8/BZCZAg+UfGpgNmrHs8MN2HdK4BT9sYB56FZv6fkjPH5iNjf3gzg82R2DHaI7vNPYb6Dy159MAk8Z+oA7vG6NgHaI2Jgq1jDEAwh/OAht3bbFOdL+2uE19rzH1Xls5arvX1GWoV/onqJMT0qG2xE+Uxins67U2tNryfvw9ji7GveKcHL1JR3HjQzE6srGNXLRIyUC+iyCvY9QhB9CssjgbTlF6eoPpfzJSsFzNXR+k6SIM48WgI3Ug4LSbnaYno4l4hjzm1Kz3nBwoduom0rC+0qegvlDIH017j5bXoIvQcdWxvMY7PJIZMfRaP5qy1yxA/DxOgTgF4hSIUyBOgTgF4hSIUyBOgTgF4hSIUyBOgTgF4hSIUyBOgTgF4hSIUyBOgTgF4hSIUyBOgTgF4hSIUyBOgTgF4hSIUyBOgTgF4hSIU6CaAv8PUfl1jLudx9YAAAAASUVORK5CYII=)"
   ]
  },
  {
   "cell_type": "markdown",
   "metadata": {},
   "source": [
    "## 1. Prepare datasets and configuration\n",
    "### 1.1 Download public datasets"
   ]
  },
  {
   "cell_type": "code",
   "execution_count": null,
   "metadata": {},
   "outputs": [],
   "source": [
    "import os\n",
    "from monai.bundle.config_parser import ConfigParser\n",
    "from monai.apps import download_and_extract\n",
    "\n",
    "root = \"./\"\n",
    "msd_task = \"Task05_Prostate\"\n",
    "resource = \"https://msd-for-monai.s3-us-west-2.amazonaws.com/\" + msd_task + \".tar\"\n",
    "compressed_file = os.path.join(root, msd_task + \".tar\")\n",
    "if os.path.exists(root):\n",
    "    download_and_extract(resource, compressed_file, root)"
   ]
  },
  {
   "cell_type": "markdown",
   "metadata": {},
   "source": [
    "### 1.2. Prepare the input YAML configuration for the datasets"
   ]
  },
  {
   "cell_type": "code",
   "execution_count": null,
   "metadata": {},
   "outputs": [],
   "source": [
    "data_src_cfg = {\n",
    "    \"name\": \"Task05_Prostate\",\n",
    "    \"task\": \"segmentation\",\n",
    "    \"modality\": \"MRI\",\n",
    "    \"datalist\": \"../tasks/msd/Task05_Prostate/msd_task05_prostate_folds.json\",  # data traning, validation, testing splits in a JSON file\n",
    "    \"dataroot\": \"./Task05_Prostate\",  # location of the datasets\n",
    "    \"multigpu\": True,\n",
    "    \"class_names\": [\"val_acc_pz\", \"val_acc_tz\"]\n",
    "}\n",
    "input = './input.yaml'\n",
    "ConfigParser.export_config_file(data_src_cfg, input)"
   ]
  },
  {
   "cell_type": "markdown",
   "metadata": {},
   "source": [
    "## 2. Run the Auto3Dseg pipeline in a few lines of code\n",
    "### 2.1 Use all default settings of the modules and complete (1) analysis (2) algo generation (3) training (4) algo ensemble in 3 lines"
   ]
  },
  {
   "cell_type": "code",
   "execution_count": null,
   "metadata": {},
   "outputs": [],
   "source": [
    "from monai.apps.auto3dseg import AutoRunner\n",
    "runner = AutoRunner(input=input)\n",
    "runner.run()  # this will take a long time because algos are being trained"
   ]
  },
  {
   "cell_type": "markdown",
   "metadata": {},
   "source": [
    "### 2.2 Use the dictionary instead of files"
   ]
  },
  {
   "cell_type": "code",
   "execution_count": null,
   "metadata": {},
   "outputs": [],
   "source": [
    "runner = AutoRunner(input=data_src_cfg)"
   ]
  },
  {
   "cell_type": "markdown",
   "metadata": {},
   "source": [
    "## 3 Customize and configure the Auto3D \n",
    "### 3.1 Set the working directory to somewhere else"
   ]
  },
  {
   "cell_type": "code",
   "execution_count": null,
   "metadata": {},
   "outputs": [],
   "source": [
    "runner = AutoRunner(work_dir='./my_workspace', input=input)"
   ]
  },
  {
   "cell_type": "markdown",
   "metadata": {},
   "source": [
    "### 3.2 Use cached result to save time\n",
    "\n",
    "In the Auto3Dseg, intermediate results are saved by default. The user can choose if they want to use the cached results or restart from scratch.\n",
    "\n",
    "To skip some steps and use cache result, user can use the following arguments:"
   ]
  },
  {
   "cell_type": "code",
   "execution_count": null,
   "metadata": {},
   "outputs": [],
   "source": [
    "# skip analyze and use cache. If there is no cache, AutoRunner will throw error\n",
    "runner = AutoRunner(input=input, analyze=False, not_use_cache=False)  "
   ]
  },
  {
   "cell_type": "markdown",
   "metadata": {},
   "source": [
    "By default AutoRunner will use cached results in the working directory. If the users want to start from scratch, they can set `not_use_cache` to True"
   ]
  },
  {
   "cell_type": "code",
   "execution_count": null,
   "metadata": {},
   "outputs": [],
   "source": [
    "runner = AutoRunner(input=input, not_use_cache=True)"
   ]
  },
  {
   "cell_type": "markdown",
   "metadata": {},
   "source": [
    "### 3.3 Output Result Formats\n",
    "\n",
    "AutoRunner will perform inference on the testing data specified by the `datalist` in the data source config input. The inference result will be written `ensemble_output` folder under the working directory in the form of `nii.gz`. The user can choose the format by adding keyword arguments to the AutoRunner. A list of argument can be found in https://docs.monai.io/en/stable/transforms.html#saveimage."
   ]
  },
  {
   "cell_type": "code",
   "execution_count": null,
   "metadata": {},
   "outputs": [],
   "source": [
    "runner = AutoRunner(input=input, output_dir='./output_dir')"
   ]
  },
  {
   "cell_type": "markdown",
   "metadata": {},
   "source": [
    "## 4 Setting Auto3Dseg internal parameters\n",
    "### 4.1 Change the number of folds for cross-validation"
   ]
  },
  {
   "cell_type": "code",
   "execution_count": null,
   "metadata": {},
   "outputs": [],
   "source": [
    "runner = AutoRunner(input=input)\n",
    "runner.set_num_fold(num_fold = 2)"
   ]
  },
  {
   "cell_type": "markdown",
   "metadata": {},
   "source": [
    "### 4.2 Customize traininig parameters by override the default values"
   ]
  },
  {
   "cell_type": "code",
   "execution_count": null,
   "metadata": {},
   "outputs": [],
   "source": [
    "runner = AutoRunner(input=input)\n",
    "# Note: among the provided bundles, most networks takes \"num_iterations\" to control the training iterations except segresnet\n",
    "train_param = {\"num_iterations\": 8}\n",
    "runner.set_training_params(params=train_param) "
   ]
  },
  {
   "cell_type": "markdown",
   "metadata": {},
   "source": [
    "### 4.3 Customize the ensemble method (mean vs. majority voting)"
   ]
  },
  {
   "cell_type": "code",
   "execution_count": null,
   "metadata": {},
   "outputs": [],
   "source": [
    "runner = AutoRunner(input=input)\n",
    "runner.set_ensemble_method(ensemble_method_name=\"AlgoEnsembleBestByFold\")"
   ]
  },
  {
   "cell_type": "markdown",
   "metadata": {},
   "source": [
    "4.4 Customize the inference parameters by override the default values"
   ]
  },
  {
   "cell_type": "code",
   "execution_count": null,
   "metadata": {},
   "outputs": [],
   "source": [
    "# set model ensemble method\n",
    "pred_params = {\n",
    "    'files_slices': slice(0,2),  # only infer the first two files in the testing data\n",
    "    'mode': \"vote\",              # use majority vote instead of mean to ensemble the predictions\n",
    "    'sigmoid': True,             # when to use sigmoid to binarize the prediction and output the label\n",
    "}\n",
    "runner = AutoRunner(input=input)\n",
    "runner.set_prediction_params(params=pred_params)"
   ]
  },
  {
   "cell_type": "markdown",
   "metadata": {},
   "source": [
    "## 5 Train model with HPO (NNI Grid-search)\n",
    "### 5.1 Apply HPO to search hyper-parameter in Auto3Dseg\n",
    "\n",
    "Note: Auto3Dseg supports hyper parameter optimization (HPO) via NNI backends. The user can define a grid search space and automate the HPO. \n",
    "Note: to run the HPO, the `nni` package is required. You can use `pip install nni` to obtain the package."
   ]
  },
  {
   "cell_type": "code",
   "execution_count": null,
   "metadata": {},
   "outputs": [],
   "source": [
    "runner = AutoRunner(input=input, hpo=True)\n",
    "search_space = {\"learning_rate\": {\"_type\": \"choice\", \"_value\": [0.0001, 0.001, 0.01, 0.1]}}\n",
    "runner.set_nni_search_space(search_space)"
   ]
  },
  {
   "cell_type": "markdown",
   "metadata": {},
   "source": [
    "### 5.2 Override the templated values\n",
    "\n",
    "AutoRunner uses the following NNI config in its HPO module\n",
    "```python\n",
    "default_nni_config = {\n",
    "    \"trialCodeDirectory\": \".\",\n",
    "    \"trialGpuNumber\": torch.cuda.device_count(),\n",
    "    \"trialConcurrency\": 1,\n",
    "    \"maxTrialNumber\": 10,\n",
    "    \"maxExperimentDuration\": \"1h\",\n",
    "    \"tuner\": {\"name\": \"GridSearch\"},\n",
    "    \"trainingService\": {\"platform\": \"local\", \"useActiveGpu\": True},\n",
    "}\n",
    "```\n",
    "\n",
    "It can be override by setting the hpo parameters"
   ]
  },
  {
   "cell_type": "code",
   "execution_count": null,
   "metadata": {},
   "outputs": [],
   "source": [
    "runner = AutoRunner(input=input, hpo=True)\n",
    "hpo_params = {\"maxTrialNumber\": 20}\n",
    "search_space = {\"learning_rate\": {\"_type\": \"choice\", \"_value\": [0.0001, 0.001, 0.01, 0.1]}}\n",
    "runner.set_hpo_params(params=hpo_params)\n",
    "runner.set_nni_search_space(search_space)"
   ]
  }
 ],
 "metadata": {
  "kernelspec": {
   "display_name": "Python 3.8.13 ('base')",
   "language": "python",
   "name": "python3"
  },
  "language_info": {
   "codemirror_mode": {
    "name": "ipython",
    "version": 3
   },
   "file_extension": ".py",
   "mimetype": "text/x-python",
   "name": "python",
   "nbconvert_exporter": "python",
   "pygments_lexer": "ipython3",
   "version": "3.8.13"
  },
  "orig_nbformat": 4,
  "vscode": {
   "interpreter": {
    "hash": "d4d1e4263499bec80672ea0156c357c1ee493ec2b1c70f0acce89fc37c4a6abe"
   }
  }
 },
 "nbformat": 4,
 "nbformat_minor": 2
}
