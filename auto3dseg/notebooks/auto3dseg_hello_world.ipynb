{
 "cells": [
  {
   "cell_type": "markdown",
   "metadata": {},
   "source": [
    "# MONAI Auto3Dseg \"Hello World\" Example\n",
    "\n",
    "In this notebook, we will provide a simple demonstration of how to use Auto3Dseg AutoRunner to process a simulated datasets and generate results within minutes.\n",
    "\n",
    "## 1. Set up environment, imports and datasets"
   ]
  },
  {
   "cell_type": "markdown",
   "metadata": {},
   "source": [
    "### 1.1 Set up Environment"
   ]
  },
  {
   "cell_type": "code",
   "execution_count": null,
   "metadata": {},
   "outputs": [],
   "source": [
    "!python -c \"import monai\" || pip install -q \"monai-weekly[nibabel]\""
   ]
  },
  {
   "cell_type": "markdown",
   "metadata": {},
   "source": [
    "### 1.2 Set up imports"
   ]
  },
  {
   "cell_type": "code",
   "execution_count": null,
   "metadata": {},
   "outputs": [],
   "source": [
    "# Copyright (c) MONAI Consortium\n",
    "# Licensed under the Apache License, Version 2.0 (the \"License\");\n",
    "# you may not use this file except in compliance with the License.\n",
    "# You may obtain a copy of the License at\n",
    "#     http://www.apache.org/licenses/LICENSE-2.0\n",
    "# Unless required by applicable law or agreed to in writing, software\n",
    "# distributed under the License is distributed on an \"AS IS\" BASIS,\n",
    "# WITHOUT WARRANTIES OR CONDITIONS OF ANY KIND, either express or implied.\n",
    "# See the License for the specific language governing permissions and\n",
    "# limitations under the License.\n",
    "\n",
    "import os\n",
    "import json\n",
    "import nibabel as nib\n",
    "import numpy as np\n",
    "\n",
    "import matplotlib.pyplot as plt\n",
    "\n",
    "from monai.apps.auto3dseg import AutoRunner\n",
    "from monai.data import create_test_image_3d\n",
    "\n"
   ]
  },
  {
   "cell_type": "markdown",
   "metadata": {},
   "source": [
    "### 1.3 Simulate a special datasets\n",
    "\n",
    "It is well known that AI takes time to train. To provide the \"Hello World!\" experience of Auto3D in this notebook, we will simulate a small datasets and run trainings only for multiple epocs. Due to the nature of AI, the performance shouldn't be highly expected, but the entire pipeline will be completed within minutes!\n",
    "\n",
    "`sim_datalist` provides the information of the simulated datasets. It lists 12 training and 2 testing images and labels. The training data are split into 3 folds. Each fold will use 8 images to train and 4 images to validate. The size of the dimension is defined by the `sim_dim` ."
   ]
  },
  {
   "cell_type": "code",
   "execution_count": 1,
   "metadata": {},
   "outputs": [],
   "source": [
    "sim_datalist = {\n",
    "    \"testing\": [\n",
    "        {\"image\": \"test_image_001.nii.gz\", \"label\": \"test_label_001.nii.gz\"},\n",
    "        {\"image\": \"test_image_002.nii.gz\", \"label\": \"test_label_002.nii.gz\"},\n",
    "    ],\n",
    "    \"training\": [\n",
    "        {\"fold\": 0, \"image\": \"tr_image_001.nii.gz\", \"label\": \"tr_label_001.nii.gz\"},\n",
    "        {\"fold\": 0, \"image\": \"tr_image_002.nii.gz\", \"label\": \"tr_label_002.nii.gz\"},\n",
    "        {\"fold\": 0, \"image\": \"tr_image_003.nii.gz\", \"label\": \"tr_label_003.nii.gz\"},\n",
    "        {\"fold\": 0, \"image\": \"tr_image_004.nii.gz\", \"label\": \"tr_label_004.nii.gz\"},\n",
    "        {\"fold\": 1, \"image\": \"tr_image_005.nii.gz\", \"label\": \"tr_label_005.nii.gz\"},\n",
    "        {\"fold\": 1, \"image\": \"tr_image_006.nii.gz\", \"label\": \"tr_label_006.nii.gz\"},\n",
    "        {\"fold\": 1, \"image\": \"tr_image_007.nii.gz\", \"label\": \"tr_label_007.nii.gz\"},\n",
    "        {\"fold\": 1, \"image\": \"tr_image_008.nii.gz\", \"label\": \"tr_label_008.nii.gz\"},\n",
    "        {\"fold\": 2, \"image\": \"tr_image_009.nii.gz\", \"label\": \"tr_label_009.nii.gz\"},\n",
    "        {\"fold\": 2, \"image\": \"tr_image_010.nii.gz\", \"label\": \"tr_label_010.nii.gz\"},\n",
    "        {\"fold\": 2, \"image\": \"tr_image_011.nii.gz\", \"label\": \"tr_label_011.nii.gz\"},\n",
    "        {\"fold\": 2, \"image\": \"tr_image_012.nii.gz\", \"label\": \"tr_label_012.nii.gz\"},\n",
    "    ],\n",
    "}\n",
    "\n",
    "sim_dim = (64, 64, 64)"
   ]
  },
  {
   "cell_type": "markdown",
   "metadata": {},
   "source": [
    "### 1.4 Generate images and labels\n",
    "\n",
    "Now we can use MONAI `create_test_image_3d` and `nib.Nifti1Image` functions to generate the 3D simulated images under the work_dir"
   ]
  },
  {
   "cell_type": "code",
   "execution_count": 2,
   "metadata": {},
   "outputs": [
    {
     "name": "stderr",
     "output_type": "stream",
     "text": [
      "/opt/conda/lib/python3.8/site-packages/tqdm/auto.py:22: TqdmWarning: IProgress not found. Please update jupyter and ipywidgets. See https://ipywidgets.readthedocs.io/en/stable/user_install.html\n",
      "  from .autonotebook import tqdm as notebook_tqdm\n"
     ]
    }
   ],
   "source": [
    "work_dir = \"./auto3dseg_work_dir\"\n",
    "if not os.path.isdir(work_dir):\n",
    "    os.makedirs(work_dir)\n",
    "\n",
    "dataroot_dir = os.path.join(work_dir, \"sim_dataroot\")\n",
    "if not os.path.isdir(dataroot_dir):\n",
    "    os.makedirs(dataroot_dir)\n",
    "\n",
    "datalist_file = os.path.join(work_dir, \"sim_datalist.json\")\n",
    "with open(datalist_file, 'w') as f:\n",
    "    json.dump(sim_datalist, f)\n",
    "\n",
    "for d in sim_datalist[\"testing\"] + sim_datalist[\"training\"]:\n",
    "    im, seg = create_test_image_3d(sim_dim[0], sim_dim[1], sim_dim[2], rad_max=10, num_seg_classes=1)\n",
    "    image_fpath = os.path.join(dataroot_dir, d[\"image\"])\n",
    "    label_fpath = os.path.join(dataroot_dir, d[\"label\"])\n",
    "    nib.save(nib.Nifti1Image(im, affine=np.eye(4)), image_fpath)\n",
    "    nib.save(nib.Nifti1Image(seg, affine=np.eye(4)), label_fpath)"
   ]
  },
  {
   "cell_type": "markdown",
   "metadata": {},
   "source": [
    "### 1.5 Inspect the simulated data\n",
    "\n",
    "Here we picked a slice of the 3D image in the test datasets to get an idea of the simulation"
   ]
  },
  {
   "cell_type": "code",
   "execution_count": 3,
   "metadata": {},
   "outputs": [
    {
     "data": {
      "image/png": "[encoded data removed]",
      "text/plain": [
       "<Figure size 432x288 with 4 Axes>"
      ]
     },
     "metadata": {
      "needs_background": "light"
     },
     "output_type": "display_data"
    }
   ],
   "source": [
    "img_nib = nib.load(os.path.join(dataroot_dir, sim_datalist['testing'][0]['image']))\n",
    "lbl_nib = nib.load(os.path.join(dataroot_dir, sim_datalist['testing'][0]['label']))\n",
    "img = np.array(img_nib.dataobj)\n",
    "lbl = np.array(lbl_nib.dataobj)\n",
    "plt.subplot(1, 2, 1)\n",
    "plt.imshow(img[32])\n",
    "plt.title('image')\n",
    "cbar = plt.colorbar(shrink=0.55)\n",
    "plt.subplot(1, 2, 2)\n",
    "plt.imshow(lbl[32])\n",
    "plt.title('label')\n",
    "cbar = plt.colorbar(shrink=0.55)\n"
   ]
  },
  {
   "cell_type": "markdown",
   "metadata": {},
   "source": [
    "## 2. Test the Auto3Dsseg AutoRunner pipeline\n",
    "\n",
    "AutoRunner provides an interface to run the Auot3Dseg pipeline. It will automatically configure four different neural networks and perform multi-fold training to achieve the state-of-the-art performance. The module is highly configurable, but only requires minimal user inputs. In this example, we want to complete the piepline in two minutes, so we need to have some customizations\n",
    "\n",
    "### 2.1 Set up the AutoRunner with default settings"
   ]
  },
  {
   "cell_type": "code",
   "execution_count": 4,
   "metadata": {},
   "outputs": [
    {
     "name": "stdout",
     "output_type": "stream",
     "text": [
      "2022-09-14 10:06:02,342 - INFO - Work directory ./auto3dseg_work_dir is used to save all results\n",
      "2022-09-14 10:06:02,344 - INFO - The output_dir is not specified. /workspace/monai/tutorial-in-dev/auto3dseg/notebooks/auto3dseg_work_dir/ensemble_output will be used to save ensemble predictions\n",
      "2022-09-14 10:06:02,345 - INFO - Directory /workspace/monai/tutorial-in-dev/auto3dseg/notebooks/auto3dseg_work_dir/ensemble_output is created to save ensemble predictions\n"
     ]
    }
   ],
   "source": [
    "runner = AutoRunner(\n",
    "    work_dir=work_dir,\n",
    "    input={\n",
    "        \"modality\": \"MRI\",\n",
    "        \"datalist\": datalist_file,\n",
    "        \"dataroot\": dataroot_dir,\n",
    "    }\n",
    ")\n",
    "# runner.run() # this will use the default settings and take hours/ to run "
   ]
  },
  {
   "cell_type": "markdown",
   "metadata": {},
   "source": [
    "### 2.2 Override the training parameters so that we can complete the pipeline in minutes"
   ]
  },
  {
   "cell_type": "code",
   "execution_count": 5,
   "metadata": {},
   "outputs": [],
   "source": [
    "train_param = {\n",
    "    \"CUDA_VISIBLE_DEVICES\": [0],\n",
    "    \"num_iterations\": 8,\n",
    "    \"num_iterations_per_validation\": 4,\n",
    "    \"num_images_per_batch\": 2,\n",
    "    \"num_epochs\": 2,\n",
    "    \"num_warmup_iterations\": 4\n",
    "}\n",
    "runner.set_training_params(train_param)\n",
    "runner.set_num_fold(num_fold=1)"
   ]
  },
  {
   "cell_type": "markdown",
   "metadata": {},
   "source": [
    "### 2.3 Start the data anlaysis, algorithm generation, training, and model ensemble"
   ]
  },
  {
   "cell_type": "code",
   "execution_count": 6,
   "metadata": {},
   "outputs": [
    {
     "name": "stderr",
     "output_type": "stream",
     "text": [
      "100%|██████████| 12/12 [00:01<00:00,  9.41it/s]\n",
      "algo_templates.tar.gz: 100%|██████████| 280k/280k [00:03<00:00, 81.9kB/s] "
     ]
    },
    {
     "name": "stdout",
     "output_type": "stream",
     "text": [
      "2022-09-14 10:06:09,788 - INFO - Downloaded: /tmp/tmpcs1plh4w/algo_templates.tar.gz\n",
      "2022-09-14 10:06:09,789 - INFO - Expected md5 is None, skip md5 check for file /tmp/tmpcs1plh4w/algo_templates.tar.gz.\n",
      "2022-09-14 10:06:09,790 - INFO - Writing into directory: /workspace/monai/tutorial-in-dev/auto3dseg/notebooks/auto3dseg_work_dir.\n"
     ]
    },
    {
     "name": "stderr",
     "output_type": "stream",
     "text": [
      "\n"
     ]
    },
    {
     "name": "stdout",
     "output_type": "stream",
     "text": [
      "2022-09-14 10:06:10,218 - INFO - /workspace/monai/tutorial-in-dev/auto3dseg/notebooks/auto3dseg_work_dir/segresnet2d_0\n",
      "2022-09-14 10:06:10,435 - INFO - /workspace/monai/tutorial-in-dev/auto3dseg/notebooks/auto3dseg_work_dir/dints_0\n",
      "2022-09-14 10:06:10,625 - INFO - /workspace/monai/tutorial-in-dev/auto3dseg/notebooks/auto3dseg_work_dir/swinunetr_0\n",
      "2022-09-14 10:06:10,844 - INFO - /workspace/monai/tutorial-in-dev/auto3dseg/notebooks/auto3dseg_work_dir/segresnet_0\n",
      "2022-09-14 10:06:10,846 - INFO - Launching: python /workspace/monai/tutorial-in-dev/auto3dseg/notebooks/auto3dseg_work_dir/segresnet_0/scripts/train.py run --config_file='/workspace/monai/tutorial-in-dev/auto3dseg/notebooks/auto3dseg_work_dir/segresnet_0/configs/transforms_train.yaml','/workspace/monai/tutorial-in-dev/auto3dseg/notebooks/auto3dseg_work_dir/segresnet_0/configs/network.yaml','/workspace/monai/tutorial-in-dev/auto3dseg/notebooks/auto3dseg_work_dir/segresnet_0/configs/transforms_validate.yaml','/workspace/monai/tutorial-in-dev/auto3dseg/notebooks/auto3dseg_work_dir/segresnet_0/configs/hyper_parameters.yaml','/workspace/monai/tutorial-in-dev/auto3dseg/notebooks/auto3dseg_work_dir/segresnet_0/configs/transforms_infer.yaml' --num_iterations=8 --num_iterations_per_validation=4 --num_images_per_batch=2 --num_epochs=2 --num_warmup_iterations=4\n",
      "2022-09-14 10:06:21,929 - INFO - CompletedProcess(args=['python', '/workspace/monai/tutorial-in-dev/auto3dseg/notebooks/auto3dseg_work_dir/segresnet_0/scripts/train.py', 'run', \"--config_file='/workspace/monai/tutorial-in-dev/auto3dseg/notebooks/auto3dseg_work_dir/segresnet_0/configs/transforms_train.yaml','/workspace/monai/tutorial-in-dev/auto3dseg/notebooks/auto3dseg_work_dir/segresnet_0/configs/network.yaml','/workspace/monai/tutorial-in-dev/auto3dseg/notebooks/auto3dseg_work_dir/segresnet_0/configs/transforms_validate.yaml','/workspace/monai/tutorial-in-dev/auto3dseg/notebooks/auto3dseg_work_dir/segresnet_0/configs/hyper_parameters.yaml','/workspace/monai/tutorial-in-dev/auto3dseg/notebooks/auto3dseg_work_dir/segresnet_0/configs/transforms_infer.yaml'\", '--num_iterations=8', '--num_iterations_per_validation=4', '--num_images_per_batch=2', '--num_epochs=2', '--num_warmup_iterations=4'], returncode=0, stdout=b\"[info] number of GPUs: 1\n",
      "[info] world_size: 1\n",
      "train_files: 8\n",
      "val_files: 4\n",
      "num_epochs 2\n",
      "num_epochs_per_validation 1\n",
      "[info] training from scratch\n",
      "[info] amp enabled\n",
      "----------\n",
      "epoch 1/2\n",
      "learning rate is set to 2e-05\n",
      "[2022-09-14 10:06:18] 1/4, train_loss: 1.2363\n",
      "[2022-09-14 10:06:18] 2/4, train_loss: 1.2216\n",
      "[2022-09-14 10:06:18] 3/4, train_loss: 1.0369\n",
      "[2022-09-14 10:06:18] 4/4, train_loss: 1.0711\n",
      "epoch 1 average loss: 1.1415, best mean dice: -1.0000 at epoch -1\n",
      "1 / 4 tensor([[0.6527]], device='cuda:0')\n",
      "2 / 4 tensor([[0.5636]], device='cuda:0')\n",
      "3 / 4 tensor([[0.5988]], device='cuda:0')\n",
      "4 / 4 tensor([[0.5912]], device='cuda:0')\n",
      "evaluation metric - class 1: 0.6015638709068298\n",
      "avg_metric 0.6015638709068298\n",
      "saved new best metric model\n",
      "current epoch: 1 current mean dice: 0.6016 best mean dice: 0.6016 at epoch 1\n",
      "----------\n",
      "epoch 2/2\n",
      "learning rate is set to 0.0\n",
      "[2022-09-14 10:06:19] 1/4, train_loss: 0.9718\n",
      "[2022-09-14 10:06:19] 2/4, train_loss: 0.9847\n",
      "[2022-09-14 10:06:20] 3/4, train_loss: 0.9438\n",
      "[2022-09-14 10:06:20] 4/4, train_loss: 0.9388\n",
      "epoch 2 average loss: 0.9598, best mean dice: 0.6016 at epoch 1\n",
      "1 / 4 tensor([[0.7008]], device='cuda:0')\n",
      "2 / 4 tensor([[0.6137]], device='cuda:0')\n",
      "3 / 4 tensor([[0.6392]], device='cuda:0')\n",
      "4 / 4 tensor([[0.6402]], device='cuda:0')\n",
      "evaluation metric - class 1: 0.6484684944152832\n",
      "avg_metric 0.6484684944152832\n",
      "saved new best metric model\n",
      "current epoch: 2 current mean dice: 0.6485 best mean dice: 0.6485 at epoch 2\n",
      "train completed, best_metric: 0.6485 at epoch: 2\n",
      "0.6484684944152832\n",
      "\", stderr=b'')\n",
      "2022-09-14 10:06:21,942 - INFO - Launching: python /workspace/monai/tutorial-in-dev/auto3dseg/notebooks/auto3dseg_work_dir/segresnet2d_0/scripts/train.py run --config_file='/workspace/monai/tutorial-in-dev/auto3dseg/notebooks/auto3dseg_work_dir/segresnet2d_0/configs/transforms_train.yaml','/workspace/monai/tutorial-in-dev/auto3dseg/notebooks/auto3dseg_work_dir/segresnet2d_0/configs/network.yaml','/workspace/monai/tutorial-in-dev/auto3dseg/notebooks/auto3dseg_work_dir/segresnet2d_0/configs/transforms_validate.yaml','/workspace/monai/tutorial-in-dev/auto3dseg/notebooks/auto3dseg_work_dir/segresnet2d_0/configs/hyper_parameters.yaml','/workspace/monai/tutorial-in-dev/auto3dseg/notebooks/auto3dseg_work_dir/segresnet2d_0/configs/transforms_infer.yaml' --num_iterations=8 --num_iterations_per_validation=4 --num_images_per_batch=2 --num_epochs=2 --num_warmup_iterations=4\n",
      "2022-09-14 10:06:35,376 - INFO - CompletedProcess(args=['python', '/workspace/monai/tutorial-in-dev/auto3dseg/notebooks/auto3dseg_work_dir/segresnet2d_0/scripts/train.py', 'run', \"--config_file='/workspace/monai/tutorial-in-dev/auto3dseg/notebooks/auto3dseg_work_dir/segresnet2d_0/configs/transforms_train.yaml','/workspace/monai/tutorial-in-dev/auto3dseg/notebooks/auto3dseg_work_dir/segresnet2d_0/configs/network.yaml','/workspace/monai/tutorial-in-dev/auto3dseg/notebooks/auto3dseg_work_dir/segresnet2d_0/configs/transforms_validate.yaml','/workspace/monai/tutorial-in-dev/auto3dseg/notebooks/auto3dseg_work_dir/segresnet2d_0/configs/hyper_parameters.yaml','/workspace/monai/tutorial-in-dev/auto3dseg/notebooks/auto3dseg_work_dir/segresnet2d_0/configs/transforms_infer.yaml'\", '--num_iterations=8', '--num_iterations_per_validation=4', '--num_images_per_batch=2', '--num_epochs=2', '--num_warmup_iterations=4'], returncode=0, stdout=b\"[info] number of GPUs: 1\n",
      "[info] world_size: 1\n",
      "train_files: 8\n",
      "val_files: 4\n",
      "num_epochs 2\n",
      "num_epochs_per_validation 1\n",
      "[info] training from scratch\n",
      "[info] amp enabled\n",
      "----------\n",
      "epoch 1/2\n",
      "learning rate is set to 0.025\n",
      "[2022-09-14 10:06:28] 1/4, train_loss: 0.5923\n",
      "[2022-09-14 10:06:28] 2/4, train_loss: 0.6014\n",
      "[2022-09-14 10:06:28] 3/4, train_loss: 0.6480\n",
      "[2022-09-14 10:06:28] 4/4, train_loss: 0.5376\n",
      "epoch 1 average loss: 0.5948, best mean dice: -1.0000 at epoch -1\n",
      "1 / 4 tensor([[0.4825]], device='cuda:0')\n",
      "2 / 4 tensor([[0.5447]], device='cuda:0')\n",
      "3 / 4 tensor([[0.4675]], device='cuda:0')\n",
      "4 / 4 tensor([[0.4297]], device='cuda:0')\n",
      "evaluation metric - class 1: 0.4810941815376282\n",
      "avg_metric 0.4810941815376282\n",
      "saved new best metric model\n",
      "current epoch: 1 current mean dice: 0.4811 best mean dice: 0.4811 at epoch 1\n",
      "----------\n",
      "epoch 2/2\n",
      "learning rate is set to 0.0015625\n",
      "[2022-09-14 10:06:31] 1/4, train_loss: 0.4854\n",
      "[2022-09-14 10:06:32] 2/4, train_loss: 0.3979\n",
      "[2022-09-14 10:06:32] 3/4, train_loss: 0.4743\n",
      "[2022-09-14 10:06:32] 4/4, train_loss: 0.5052\n",
      "epoch 2 average loss: 0.4657, best mean dice: 0.4811 at epoch 1\n",
      "1 / 4 tensor([[0.5429]], device='cuda:0')\n",
      "2 / 4 tensor([[0.5752]], device='cuda:0')\n",
      "3 / 4 tensor([[0.5219]], device='cuda:0')\n",
      "4 / 4 tensor([[0.4922]], device='cuda:0')\n",
      "evaluation metric - class 1: 0.5330679416656494\n",
      "avg_metric 0.5330679416656494\n",
      "saved new best metric model\n",
      "current epoch: 2 current mean dice: 0.5331 best mean dice: 0.5331 at epoch 2\n",
      "train completed, best_metric: 0.5331 at epoch: 2\n",
      "0.5330679416656494\n",
      "\", stderr=b'')\n",
      "2022-09-14 10:06:35,389 - INFO - Launching: python /workspace/monai/tutorial-in-dev/auto3dseg/notebooks/auto3dseg_work_dir/swinunetr_0/scripts/train.py run --config_file='/workspace/monai/tutorial-in-dev/auto3dseg/notebooks/auto3dseg_work_dir/swinunetr_0/configs/transforms_train.yaml','/workspace/monai/tutorial-in-dev/auto3dseg/notebooks/auto3dseg_work_dir/swinunetr_0/configs/network.yaml','/workspace/monai/tutorial-in-dev/auto3dseg/notebooks/auto3dseg_work_dir/swinunetr_0/configs/transforms_validate.yaml','/workspace/monai/tutorial-in-dev/auto3dseg/notebooks/auto3dseg_work_dir/swinunetr_0/configs/hyper_parameters.yaml','/workspace/monai/tutorial-in-dev/auto3dseg/notebooks/auto3dseg_work_dir/swinunetr_0/configs/transforms_infer.yaml' --num_iterations=8 --num_iterations_per_validation=4 --num_images_per_batch=2 --num_epochs=2 --num_warmup_iterations=4\n",
      "2022-09-14 10:06:48,294 - INFO - CompletedProcess(args=['python', '/workspace/monai/tutorial-in-dev/auto3dseg/notebooks/auto3dseg_work_dir/swinunetr_0/scripts/train.py', 'run', \"--config_file='/workspace/monai/tutorial-in-dev/auto3dseg/notebooks/auto3dseg_work_dir/swinunetr_0/configs/transforms_train.yaml','/workspace/monai/tutorial-in-dev/auto3dseg/notebooks/auto3dseg_work_dir/swinunetr_0/configs/network.yaml','/workspace/monai/tutorial-in-dev/auto3dseg/notebooks/auto3dseg_work_dir/swinunetr_0/configs/transforms_validate.yaml','/workspace/monai/tutorial-in-dev/auto3dseg/notebooks/auto3dseg_work_dir/swinunetr_0/configs/hyper_parameters.yaml','/workspace/monai/tutorial-in-dev/auto3dseg/notebooks/auto3dseg_work_dir/swinunetr_0/configs/transforms_infer.yaml'\", '--num_iterations=8', '--num_iterations_per_validation=4', '--num_images_per_batch=2', '--num_epochs=2', '--num_warmup_iterations=4'], returncode=0, stdout=b\"[info] number of GPUs: 1\n",
      "[info] world_size: 1\n",
      "train_files: 8\n",
      "val_files: 4\n",
      "num_epochs 2\n",
      "num_epochs_per_validation 1\n",
      "[info] training from scratch\n",
      "[info] amp enabled\n",
      "----------\n",
      "epoch 1/2\n",
      "learning rate is set to 0.0001\n",
      "[2022-09-14 10:06:42] 1/4, train_loss: 1.3725\n",
      "[2022-09-14 10:06:42] 2/4, train_loss: 1.3171\n",
      "[2022-09-14 10:06:43] 3/4, train_loss: 1.1689\n",
      "[2022-09-14 10:06:43] 4/4, train_loss: 1.0789\n",
      "epoch 1 average loss: 1.2344, best mean dice: -1.0000 at epoch -1\n",
      "1 / 4 tensor([[0.3653]], device='cuda:0')\n",
      "2 / 4 tensor([[0.3513]], device='cuda:0')\n",
      "3 / 4 tensor([[0.3798]], device='cuda:0')\n",
      "4 / 4 tensor([[0.3683]], device='cuda:0')\n",
      "evaluation metric - class 1: 0.36617928743362427\n",
      "avg_metric 0.36617928743362427\n",
      "saved new best metric model\n",
      "current epoch: 1 current mean dice: 0.3662 best mean dice: 0.3662 at epoch 1\n",
      "----------\n",
      "epoch 2/2\n",
      "learning rate is set to 6.25e-06\n",
      "[2022-09-14 10:06:45] 1/4, train_loss: 1.0401\n",
      "[2022-09-14 10:06:45] 2/4, train_loss: 1.0208\n",
      "[2022-09-14 10:06:45] 3/4, train_loss: 1.0062\n",
      "[2022-09-14 10:06:46] 4/4, train_loss: 1.0117\n",
      "epoch 2 average loss: 1.0197, best mean dice: 0.3662 at epoch 1\n",
      "1 / 4 tensor([[0.4009]], device='cuda:0')\n",
      "2 / 4 tensor([[0.3918]], device='cuda:0')\n",
      "3 / 4 tensor([[0.4300]], device='cuda:0')\n",
      "4 / 4 tensor([[0.4121]], device='cuda:0')\n",
      "evaluation metric - class 1: 0.4086832106113434\n",
      "avg_metric 0.4086832106113434\n",
      "saved new best metric model\n",
      "current epoch: 2 current mean dice: 0.4087 best mean dice: 0.4087 at epoch 2\n",
      "train completed, best_metric: 0.4087 at epoch: 2\n",
      "0.4086832106113434\n",
      "\", stderr=b'Detected call of `lr_scheduler.step()` before `optimizer.step()`. In PyTorch 1.1.0 and later, you should call them in the opposite order: `optimizer.step()` before `lr_scheduler.step()`.  Failure to do this will result in PyTorch skipping the first value of the learning rate schedule. See more details at https://pytorch.org/docs/stable/optim.html#how-to-adjust-learning-rate\n",
      "')\n",
      "2022-09-14 10:06:48,305 - INFO - Launching: python /workspace/monai/tutorial-in-dev/auto3dseg/notebooks/auto3dseg_work_dir/dints_0/scripts/search.py run --config_file='/workspace/monai/tutorial-in-dev/auto3dseg/notebooks/auto3dseg_work_dir/dints_0/configs/transforms_train.yaml','/workspace/monai/tutorial-in-dev/auto3dseg/notebooks/auto3dseg_work_dir/dints_0/configs/network.yaml','/workspace/monai/tutorial-in-dev/auto3dseg/notebooks/auto3dseg_work_dir/dints_0/configs/transforms_validate.yaml','/workspace/monai/tutorial-in-dev/auto3dseg/notebooks/auto3dseg_work_dir/dints_0/configs/hyper_parameters_search.yaml','/workspace/monai/tutorial-in-dev/auto3dseg/notebooks/auto3dseg_work_dir/dints_0/configs/network_search.yaml','/workspace/monai/tutorial-in-dev/auto3dseg/notebooks/auto3dseg_work_dir/dints_0/configs/hyper_parameters.yaml','/workspace/monai/tutorial-in-dev/auto3dseg/notebooks/auto3dseg_work_dir/dints_0/configs/transforms_infer.yaml' --searching#num_iterations=8 --searching#num_iterations_per_validation=4 --searching#num_images_per_batch=2 --searching#num_epochs=2 --searching#num_warmup_iterations=4\n",
      "2022-09-14 10:07:38,374 - INFO - CompletedProcess(args=['python', '/workspace/monai/tutorial-in-dev/auto3dseg/notebooks/auto3dseg_work_dir/dints_0/scripts/search.py', 'run', \"--config_file='/workspace/monai/tutorial-in-dev/auto3dseg/notebooks/auto3dseg_work_dir/dints_0/configs/transforms_train.yaml','/workspace/monai/tutorial-in-dev/auto3dseg/notebooks/auto3dseg_work_dir/dints_0/configs/network.yaml','/workspace/monai/tutorial-in-dev/auto3dseg/notebooks/auto3dseg_work_dir/dints_0/configs/transforms_validate.yaml','/workspace/monai/tutorial-in-dev/auto3dseg/notebooks/auto3dseg_work_dir/dints_0/configs/hyper_parameters_search.yaml','/workspace/monai/tutorial-in-dev/auto3dseg/notebooks/auto3dseg_work_dir/dints_0/configs/network_search.yaml','/workspace/monai/tutorial-in-dev/auto3dseg/notebooks/auto3dseg_work_dir/dints_0/configs/hyper_parameters.yaml','/workspace/monai/tutorial-in-dev/auto3dseg/notebooks/auto3dseg_work_dir/dints_0/configs/transforms_infer.yaml'\", '--searching#num_iterations=8', '--searching#num_iterations_per_validation=4', '--searching#num_images_per_batch=2', '--searching#num_epochs=2', '--searching#num_warmup_iterations=4'], returncode=0, stdout=b\"[info] number of GPUs: 1\n",
      "[info] world_size: 1\n",
      "train_files_w: 4\n",
      "train_files_a: 4\n",
      "val_files: 4\n",
      "num_epochs 4\n",
      "num_epochs_warmup 2\n",
      "num_epochs_per_validation 2\n",
      "[info] amp enabled\n",
      "----------\n",
      "epoch 1/4\n",
      "learning rate is set to 0.025\n",
      "[2022-09-14 10:06:58] 1/2, train_loss: 0.7565\n",
      "[2022-09-14 10:06:59] 2/2, train_loss: 0.7478\n",
      "epoch 1 average loss: 0.7522, best mean dice: -1.0000 at epoch -1\n",
      "----------\n",
      "epoch 2/4\n",
      "learning rate is set to 0.025\n",
      "[2022-09-14 10:07:01] 1/2, train_loss: 0.7479\n",
      "[2022-09-14 10:07:02] 2/2, train_loss: 0.7597\n",
      "epoch 2 average loss: 0.7538, best mean dice: -1.0000 at epoch -1\n",
      "1 / 4 tensor([[0.1909]], device='cuda:0')\n",
      "2 / 4 tensor([[0.1381]], device='cuda:0')\n",
      "3 / 4 tensor([[0.1919]], device='cuda:0')\n",
      "4 / 4 tensor([[0.1288]], device='cuda:0')\n",
      "evaluation metric - class 1: 0.16243486106395721\n",
      "avg_metric 0.16243486106395721\n",
      "saved new best metric model\n",
      "current epoch: 2 current mean dice: 0.1624 best mean dice: 0.1624 at epoch 2\n",
      "----------\n",
      "epoch 3/4\n",
      "learning rate is set to 0.025\n",
      "[2022-09-14 10:07:16] 1/2, train_loss: 0.7378\n",
      "[2022-09-14 10:07:17] 1/2, train_loss_arch: 0.7343\n",
      "[2022-09-14 10:07:18] 2/2, train_loss: 0.7439\n",
      "[2022-09-14 10:07:19] 2/2, train_loss_arch: 0.7561\n",
      "epoch 3 average loss: 0.7408, best mean dice: 0.1624 at epoch 2\n",
      "epoch 3 average arch loss: 0.7452, best mean dice: 0.1624 at epoch 2\n",
      "----------\n",
      "epoch 4/4\n",
      "learning rate is set to 0.00625\n",
      "[2022-09-14 10:07:21] 1/2, train_loss: 0.7396\n",
      "[2022-09-14 10:07:23] 1/2, train_loss_arch: 1.0639\n",
      "[2022-09-14 10:07:24] 2/2, train_loss: 0.7139\n",
      "[2022-09-14 10:07:25] 2/2, train_loss_arch: 1.0797\n",
      "epoch 4 average loss: 0.7267, best mean dice: 0.1624 at epoch 2\n",
      "epoch 4 average arch loss: 1.0718, best mean dice: 0.1624 at epoch 2\n",
      "1 / 4 tensor([[0.2357]], device='cuda:0')\n",
      "2 / 4 tensor([[0.1475]], device='cuda:0')\n",
      "3 / 4 tensor([[0.1962]], device='cuda:0')\n",
      "4 / 4 tensor([[0.1431]], device='cuda:0')\n",
      "evaluation metric - class 1: 0.18062789738178253\n",
      "avg_metric 0.18062789738178253\n",
      "saved new best metric model\n",
      "current epoch: 4 current mean dice: 0.1806 best mean dice: 0.1806 at epoch 4\n",
      "train completed, best_metric: 0.1806 at epoch: 4\n",
      "\", stderr=b'')\n",
      "2022-09-14 10:07:38,376 - INFO - Launching: python /workspace/monai/tutorial-in-dev/auto3dseg/notebooks/auto3dseg_work_dir/dints_0/scripts/train.py run --config_file='/workspace/monai/tutorial-in-dev/auto3dseg/notebooks/auto3dseg_work_dir/dints_0/configs/transforms_train.yaml','/workspace/monai/tutorial-in-dev/auto3dseg/notebooks/auto3dseg_work_dir/dints_0/configs/network.yaml','/workspace/monai/tutorial-in-dev/auto3dseg/notebooks/auto3dseg_work_dir/dints_0/configs/transforms_validate.yaml','/workspace/monai/tutorial-in-dev/auto3dseg/notebooks/auto3dseg_work_dir/dints_0/configs/hyper_parameters_search.yaml','/workspace/monai/tutorial-in-dev/auto3dseg/notebooks/auto3dseg_work_dir/dints_0/configs/network_search.yaml','/workspace/monai/tutorial-in-dev/auto3dseg/notebooks/auto3dseg_work_dir/dints_0/configs/hyper_parameters.yaml','/workspace/monai/tutorial-in-dev/auto3dseg/notebooks/auto3dseg_work_dir/dints_0/configs/transforms_infer.yaml' --training#num_iterations=8 --training#num_iterations_per_validation=4 --training#num_images_per_batch=2 --training#num_epochs=2 --training#num_warmup_iterations=4\n",
      "2022-09-14 10:07:56,477 - INFO - CompletedProcess(args=['python', '/workspace/monai/tutorial-in-dev/auto3dseg/notebooks/auto3dseg_work_dir/dints_0/scripts/train.py', 'run', \"--config_file='/workspace/monai/tutorial-in-dev/auto3dseg/notebooks/auto3dseg_work_dir/dints_0/configs/transforms_train.yaml','/workspace/monai/tutorial-in-dev/auto3dseg/notebooks/auto3dseg_work_dir/dints_0/configs/network.yaml','/workspace/monai/tutorial-in-dev/auto3dseg/notebooks/auto3dseg_work_dir/dints_0/configs/transforms_validate.yaml','/workspace/monai/tutorial-in-dev/auto3dseg/notebooks/auto3dseg_work_dir/dints_0/configs/hyper_parameters_search.yaml','/workspace/monai/tutorial-in-dev/auto3dseg/notebooks/auto3dseg_work_dir/dints_0/configs/network_search.yaml','/workspace/monai/tutorial-in-dev/auto3dseg/notebooks/auto3dseg_work_dir/dints_0/configs/hyper_parameters.yaml','/workspace/monai/tutorial-in-dev/auto3dseg/notebooks/auto3dseg_work_dir/dints_0/configs/transforms_infer.yaml'\", '--training#num_iterations=8', '--training#num_iterations_per_validation=4', '--training#num_images_per_batch=2', '--training#num_epochs=2', '--training#num_warmup_iterations=4'], returncode=0, stdout=b\"[info] number of GPUs: 1\n",
      "[info] world_size: 1\n",
      "train_files: 8\n",
      "val_files: 4\n",
      "num_epochs 2\n",
      "num_epochs_per_validation 1\n",
      "[info] training from scratch\n",
      "[info] amp enabled\n",
      "----------\n",
      "epoch 1/2\n",
      "learning rate is set to 0.2\n",
      "[2022-09-14 10:07:47] 1/4, train_loss: 0.6825\n",
      "[2022-09-14 10:07:48] 2/4, train_loss: 0.6256\n",
      "[2022-09-14 10:07:48] 3/4, train_loss: 0.6048\n",
      "[2022-09-14 10:07:49] 4/4, train_loss: 0.6135\n",
      "epoch 1 average loss: 0.6316, best mean dice: -1.0000 at epoch -1\n",
      "1 / 4 tensor([[0.3849]], device='cuda:0')\n",
      "2 / 4 tensor([[0.2863]], device='cuda:0')\n",
      "3 / 4 tensor([[0.3075]], device='cuda:0')\n",
      "4 / 4 tensor([[0.3176]], device='cuda:0')\n",
      "evaluation metric - class 1: 0.32408225536346436\n",
      "avg_metric 0.32408225536346436\n",
      "saved new best metric model\n",
      "current epoch: 1 current mean dice: 0.3241 best mean dice: 0.3241 at epoch 1\n",
      "----------\n",
      "epoch 2/2\n",
      "learning rate is set to 0.0125\n",
      "[2022-09-14 10:07:51] 1/4, train_loss: 0.5886\n",
      "[2022-09-14 10:07:52] 2/4, train_loss: 0.5935\n",
      "[2022-09-14 10:07:53] 3/4, train_loss: 0.5752\n",
      "[2022-09-14 10:07:53] 4/4, train_loss: 0.5734\n",
      "epoch 2 average loss: 0.5827, best mean dice: 0.3241 at epoch 1\n",
      "1 / 4 tensor([[0.3974]], device='cuda:0')\n",
      "2 / 4 tensor([[0.2958]], device='cuda:0')\n",
      "3 / 4 tensor([[0.3169]], device='cuda:0')\n",
      "4 / 4 tensor([[0.3279]], device='cuda:0')\n",
      "evaluation metric - class 1: 0.33449363708496094\n",
      "avg_metric 0.33449363708496094\n",
      "saved new best metric model\n",
      "current epoch: 2 current mean dice: 0.3345 best mean dice: 0.3345 at epoch 2\n",
      "train completed, best_metric: 0.3345 at epoch: 2\n",
      "0.33449363708496094\n",
      "\", stderr=b'')\n",
      "0\n",
      "[info] checkpoint /workspace/monai/tutorial-in-dev/auto3dseg/notebooks/auto3dseg_work_dir/swinunetr_0/model_fold0/best_metric_model.pt loaded\n",
      "2022-09-14 10:07:58,635 INFO image_writer.py:194 - writing: /workspace/monai/tutorial-in-dev/auto3dseg/notebooks/auto3dseg_work_dir/swinunetr_0/prediction_testing/test_image_001/test_image_001_seg.nii.gz\n",
      "[info] checkpoint /workspace/monai/tutorial-in-dev/auto3dseg/notebooks/auto3dseg_work_dir/dints_0/model_fold0/best_metric_model.pt loaded\n",
      "2022-09-14 10:08:00,584 INFO image_writer.py:194 - writing: /workspace/monai/tutorial-in-dev/auto3dseg/notebooks/auto3dseg_work_dir/dints_0/prediction_testing/test_image_001/test_image_001_seg.nii.gz\n",
      "1\n",
      "[info] checkpoint /workspace/monai/tutorial-in-dev/auto3dseg/notebooks/auto3dseg_work_dir/swinunetr_0/model_fold0/best_metric_model.pt loaded\n",
      "2022-09-14 10:08:01,396 INFO image_writer.py:194 - writing: /workspace/monai/tutorial-in-dev/auto3dseg/notebooks/auto3dseg_work_dir/swinunetr_0/prediction_testing/test_image_002/test_image_002_seg.nii.gz\n",
      "[info] checkpoint /workspace/monai/tutorial-in-dev/auto3dseg/notebooks/auto3dseg_work_dir/dints_0/model_fold0/best_metric_model.pt loaded\n",
      "2022-09-14 10:08:03,239 INFO image_writer.py:194 - writing: /workspace/monai/tutorial-in-dev/auto3dseg/notebooks/auto3dseg_work_dir/dints_0/prediction_testing/test_image_002/test_image_002_seg.nii.gz\n",
      "Auto3Dseg picked the following networks to ensemble:\n",
      "swinunetr_0\n",
      "dints_0\n",
      "2022-09-14 10:08:03,250 INFO image_writer.py:194 - writing: /workspace/monai/tutorial-in-dev/auto3dseg/notebooks/auto3dseg_work_dir/ensemble_output/test_image_001/test_image_001_ensemble.nii.gz\n",
      "2022-09-14 10:08:03,266 INFO image_writer.py:194 - writing: /workspace/monai/tutorial-in-dev/auto3dseg/notebooks/auto3dseg_work_dir/ensemble_output/test_image_002/test_image_002_ensemble.nii.gz\n",
      "2022-09-14 10:08:03,279 - INFO - Auto3Dseg ensemble prediction outputs are saved in /workspace/monai/tutorial-in-dev/auto3dseg/notebooks/auto3dseg_work_dir/ensemble_output.\n",
      "2022-09-14 10:08:03,280 - INFO - Auto3Dseg pipeline is complete successfully.\n"
     ]
    }
   ],
   "source": [
    "runner.run()"
   ]
  },
  {
   "cell_type": "markdown",
   "metadata": {},
   "source": [
    "### 2.4 Inspect the algo ensembled predctions and compare it with the ground truth"
   ]
  },
  {
   "cell_type": "code",
   "execution_count": 16,
   "metadata": {},
   "outputs": [
    {
     "data": {
      "image/png": "[encoded data removed]",
      "text/plain": [
       "<Figure size 432x288 with 8 Axes>"
      ]
     },
     "metadata": {
      "needs_background": "light"
     },
     "output_type": "display_data"
    }
   ],
   "source": [
    "image_name = sim_datalist['testing'][0]['image'].split(\".\")[0]\n",
    "prediction_nib = nib.load(os.path.join(work_dir, 'ensemble_output', image_name, image_name+\"_ensemble\"+\".nii.gz\"))\n",
    "pred = np.array(prediction_nib.dataobj)\n",
    "\n",
    "plt.subplot(2, 2, 1)\n",
    "plt.imshow(img[32])\n",
    "plt.title('image')\n",
    "cbar = plt.colorbar(shrink=0.8)\n",
    "plt.subplot(2, 2, 2)\n",
    "plt.imshow(lbl[32])\n",
    "plt.title('label')\n",
    "cbar = plt.colorbar(shrink=0.8)\n",
    "plt.subplot(2, 2, 3)\n",
    "plt.imshow(pred[32, :, :, 0])\n",
    "plt.title('background class prediction')\n",
    "cbar = plt.colorbar(shrink=0.8)\n",
    "plt.subplot(2, 2, 4)\n",
    "plt.imshow(pred[32, :, :, 1])\n",
    "plt.title('foreground class prediction')\n",
    "cbar = plt.colorbar(shrink=0.8)\n",
    "# set the spacing between subplots\n",
    "plt.subplots_adjust(left=0.1,\n",
    "                    bottom=0.1,\n",
    "                    right=0.9,\n",
    "                    top=0.9,\n",
    "                    wspace=0.4,\n",
    "                    hspace=0.4)\n",
    "plt.show()"
   ]
  },
  {
   "cell_type": "markdown",
   "metadata": {},
   "source": [
    "## 3. Conclusion\n",
    "\n",
    "Here we complete the entire pipeline. As you may notice, we can see the algorithms start to learn the datasets and the prediction of background and foreground voxels. Auto3Dseg and AutoRunner are highly configurable. To get better results, you can increase the training time, apply different ensemble method, or use hyper-parameter optimization through the AutoRunner or Auto3Dseg module APIs.\n",
    "\n",
    "As a \"Hello World\" notebook, we will end the experiment with simulated datasets here."
   ]
  }
 ],
 "metadata": {
  "kernelspec": {
   "display_name": "Python 3.8.13 ('base')",
   "language": "python",
   "name": "python3"
  },
  "language_info": {
   "codemirror_mode": {
    "name": "ipython",
    "version": 3
   },
   "file_extension": ".py",
   "mimetype": "text/x-python",
   "name": "python",
   "nbconvert_exporter": "python",
   "pygments_lexer": "ipython3",
   "version": "3.8.13"
  },
  "orig_nbformat": 4,
  "vscode": {
   "interpreter": {
    "hash": "d4d1e4263499bec80672ea0156c357c1ee493ec2b1c70f0acce89fc37c4a6abe"
   }
  }
 },
 "nbformat": 4,
 "nbformat_minor": 2
}
