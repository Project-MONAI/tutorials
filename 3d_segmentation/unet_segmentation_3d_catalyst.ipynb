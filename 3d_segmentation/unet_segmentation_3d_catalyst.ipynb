{
 "cells": [
  {
   "cell_type": "markdown",
   "metadata": {
    "colab_type": "text",
    "id": "4bkNVc42_H9r"
   },
   "source": [
    "# 3D segmentation with [MONAI](https://github.com/Project-MONAI/MONAI) and [Catalyst](https://github.com/catalyst-team/catalyst)\n",
    "\n",
    "This tutorial demonstrates how [MONAI](https://github.com/Project-MONAI/MONAI) can be used with the [Catalyst](https://github.com/catalyst-team/catalyst) framework for 3D segmentation task.\n",
    "And easily use below features:\n",
    "\n",
    "* Prepare synthetic data.\n",
    "* Load Nifti image with metadata.\n",
    "* Transforms for dictionary format data.\n",
    "* Add channel dim to the data if no channel dimension.\n",
    "* Scale medical image intensity with expected range.\n",
    "* Crop out a batch of balanced images based on positive / negative label ratio.\n",
    "* 3D UNet model, Dice loss function, Mean Dice metric for 3D segmentation task.\n",
    "* Sliding window inference method.\n",
    "* Deterministic training for reproducibility.\n",
    "\n",
    "This tutorial is based on [unet_training_dict.py](https://github.com/Project-MONAI/tutorials/blob/master/3d_segmentation/torch/unet_training_dict.py) and [spleen_segmentation_3d.ipynb](https://github.com/Project-MONAI/tutorials/blob/master/3d_segmentation/spleen_segmentation_3d.ipynb).\n",
    "\n",
    "[![Open In Colab](https://colab.research.google.com/assets/colab-badge.svg)](https://colab.research.google.com/github/Project-MONAI/tutorials/blob/master/3d_segmentation/unet_segmentation_3d_catalyst.ipynb)"
   ]
  },
  {
   "cell_type": "markdown",
   "metadata": {
    "colab_type": "text",
    "id": "hGYGdy1yBLr5"
   },
   "source": [
    "## Setup environment"
   ]
  },
  {
   "cell_type": "code",
   "execution_count": null,
   "metadata": {
    "tags": []
   },
   "outputs": [],
   "source": [
    "!python -c \"import monai\" || pip install -q \"monai-weekly[nibabel, tensorboard]\"\n",
    "!python -c \"import matplotlib\" || pip install -q matplotlib\n",
    "!python -c \"import catalyst\" || pip install -q catalyst==20.07\n",
    "%matplotlib inline"
   ]
  },
  {
   "cell_type": "markdown",
   "metadata": {},
   "source": [
    "## Setup imports"
   ]
  },
  {
   "cell_type": "code",
   "execution_count": 1,
   "metadata": {
    "tags": []
   },
   "outputs": [
    {
     "name": "stderr",
     "output_type": "stream",
     "text": [
      "/opt/conda/lib/python3.8/site-packages/tqdm/std.py:725: FutureWarning: The Panel class is removed from pandas. Accessing it from the top-level namespace will also be removed in the next version\n",
      "  from pandas import Panel\n"
     ]
    },
    {
     "name": "stdout",
     "output_type": "stream",
     "text": [
      "MONAI version: 0.6.0rc1+2.g50d83912\n",
      "Numpy version: 1.20.1\n",
      "Pytorch version: 1.9.0a0+2ecb2c7\n",
      "MONAI flags: HAS_EXT = True, USE_COMPILED = False\n",
      "MONAI rev id: 50d83912536c5579506cdf6920c47ba65ea66e49\n",
      "\n",
      "Optional dependencies:\n",
      "Pytorch Ignite version: 0.4.5\n",
      "Nibabel version: 3.2.1\n",
      "scikit-image version: 0.15.0\n",
      "Pillow version: 8.2.0\n",
      "Tensorboard version: 1.15.0+nv\n",
      "gdown version: 3.13.0\n",
      "TorchVision version: 0.9.0a0\n",
      "ITK version: 5.1.2\n",
      "tqdm version: 4.53.0\n",
      "lmdb version: 1.2.1\n",
      "psutil version: 5.8.0\n",
      "pandas version: 1.1.4\n",
      "\n",
      "For details about installing the optional dependencies, please visit:\n",
      "    https://docs.monai.io/en/latest/installation.html#installing-the-recommended-dependencies\n",
      "\n"
     ]
    }
   ],
   "source": [
    "# Copyright 2020 MONAI Consortium\n",
    "# Licensed under the Apache License, Version 2.0 (the \"License\");\n",
    "# you may not use this file except in compliance with the License.\n",
    "# You may obtain a copy of the License at\n",
    "#     http://www.apache.org/licenses/LICENSE-2.0\n",
    "# Unless required by applicable law or agreed to in writing, software\n",
    "# distributed under the License is distributed on an \"AS IS\" BASIS,\n",
    "# WITHOUT WARRANTIES OR CONDITIONS OF ANY KIND, either express or implied.\n",
    "# See the License for the specific language governing permissions and\n",
    "# limitations under the License.\n",
    "\n",
    "import glob\n",
    "import logging\n",
    "import os\n",
    "import shutil\n",
    "import sys\n",
    "import tempfile\n",
    "\n",
    "import catalyst.dl\n",
    "import matplotlib.pyplot as plt\n",
    "import nibabel as nib\n",
    "import numpy as np\n",
    "from monai.config import print_config\n",
    "from monai.data import Dataset, create_test_image_3d, list_data_collate, decollate_batch\n",
    "from monai.inferers import sliding_window_inference\n",
    "from monai.losses import DiceLoss\n",
    "from monai.metrics import DiceMetric\n",
    "from monai.networks.nets import UNet\n",
    "from monai.transforms import (\n",
    "    Activations,\n",
    "    AsChannelFirstd,\n",
    "    AsDiscrete,\n",
    "    Compose,\n",
    "    LoadImaged,\n",
    "    RandCropByPosNegLabeld,\n",
    "    RandRotate90d,\n",
    "    ScaleIntensityd,\n",
    "    EnsureTyped,\n",
    "    EnsureType,\n",
    ")\n",
    "from monai.utils import first\n",
    "\n",
    "import torch\n",
    "\n",
    "print_config()"
   ]
  },
  {
   "cell_type": "markdown",
   "metadata": {},
   "source": [
    "## Setup data directory\n",
    "\n",
    "You can specify a directory with the `MONAI_DATA_DIRECTORY` environment variable.  \n",
    "This allows you to save results and reuse downloads.  \n",
    "If not specified a temporary directory will be used."
   ]
  },
  {
   "cell_type": "code",
   "execution_count": 2,
   "metadata": {
    "tags": []
   },
   "outputs": [
    {
     "name": "stdout",
     "output_type": "stream",
     "text": [
      "/workspace/data/medical\n"
     ]
    }
   ],
   "source": [
    "directory = os.environ.get(\"MONAI_DATA_DIRECTORY\")\n",
    "root_dir = tempfile.mkdtemp() if directory is None else directory\n",
    "print(root_dir)"
   ]
  },
  {
   "cell_type": "markdown",
   "metadata": {},
   "source": [
    "## Setup logging"
   ]
  },
  {
   "cell_type": "code",
   "execution_count": null,
   "metadata": {
    "colab": {
     "base_uri": "https://localhost:8080/",
     "height": 272
    },
    "colab_type": "code",
    "id": "r1P0mVvymvsY",
    "outputId": "930a36c6-bbb7-49a6-9520-8335df0b9164"
   },
   "outputs": [],
   "source": [
    "logging.basicConfig(stream=sys.stdout, level=logging.INFO)"
   ]
  },
  {
   "cell_type": "markdown",
   "metadata": {
    "colab_type": "text",
    "id": "XJpDdAo1-ZF4"
   },
   "source": [
    "# [MONAI](https://github.com/Project-MONAI/MONAI) components"
   ]
  },
  {
   "cell_type": "markdown",
   "metadata": {
    "colab_type": "text",
    "id": "G2Wo7P7EBRdQ"
   },
   "source": [
    "## Prepare synthetic data"
   ]
  },
  {
   "cell_type": "code",
   "execution_count": null,
   "metadata": {
    "colab": {
     "base_uri": "https://localhost:8080/",
     "height": 34
    },
    "colab_type": "code",
    "id": "eq3RgOT2BclX",
    "outputId": "3a5039ac-bb44-443a-bdc3-38fca80cc6eb"
   },
   "outputs": [],
   "source": [
    "for i in range(40):\n",
    "    im, seg = create_test_image_3d(\n",
    "        128, 128, 128, num_seg_classes=1, channel_dim=-1\n",
    "    )\n",
    "\n",
    "    n = nib.Nifti1Image(im, np.eye(4))\n",
    "    nib.save(n, os.path.join(root_dir, f\"img{i}.nii.gz\"))\n",
    "\n",
    "    n = nib.Nifti1Image(seg, np.eye(4))\n",
    "    nib.save(n, os.path.join(root_dir, f\"seg{i}.nii.gz\"))\n",
    "\n",
    "images = sorted(glob.glob(os.path.join(root_dir, \"img*.nii.gz\")))\n",
    "segs = sorted(glob.glob(os.path.join(root_dir, \"seg*.nii.gz\")))"
   ]
  },
  {
   "cell_type": "markdown",
   "metadata": {
    "colab_type": "text",
    "id": "WX6w-86XBjeh"
   },
   "source": [
    "## Prepare transforms and datasets"
   ]
  },
  {
   "cell_type": "code",
   "execution_count": null,
   "metadata": {
    "colab": {
     "base_uri": "https://localhost:8080/",
     "height": 34
    },
    "colab_type": "code",
    "id": "CjeN90W-feaM",
    "outputId": "2493d49b-8457-4139-ae7a-3c5fa5bd9087",
    "tags": []
   },
   "outputs": [],
   "source": [
    "train_files = [\n",
    "    {\"img\": img, \"seg\": seg} for img, seg in zip(images[:20], segs[:20])\n",
    "]\n",
    "val_files = [\n",
    "    {\"img\": img, \"seg\": seg} for img, seg in zip(images[-20:], segs[-20:])\n",
    "]\n",
    "\n",
    "# define transforms for image and segmentation\n",
    "train_transforms = Compose(\n",
    "    [\n",
    "        LoadImaged(keys=[\"img\", \"seg\"]),\n",
    "        AsChannelFirstd(keys=[\"img\", \"seg\"], channel_dim=-1),\n",
    "        ScaleIntensityd(keys=[\"img\", \"seg\"]),\n",
    "        RandCropByPosNegLabeld(\n",
    "            keys=[\"img\", \"seg\"],\n",
    "            label_key=\"seg\",\n",
    "            spatial_size=[96, 96, 96],\n",
    "            pos=1,\n",
    "            neg=1,\n",
    "            num_samples=4,\n",
    "        ),\n",
    "        RandRotate90d(keys=[\"img\", \"seg\"], prob=0.5, spatial_axes=[0, 2]),\n",
    "        EnsureTyped(keys=[\"img\", \"seg\"]),\n",
    "    ]\n",
    ")\n",
    "val_transforms = Compose(\n",
    "    [\n",
    "        LoadImaged(keys=[\"img\", \"seg\"]),\n",
    "        AsChannelFirstd(keys=[\"img\", \"seg\"], channel_dim=-1),\n",
    "        ScaleIntensityd(keys=[\"img\", \"seg\"]),\n",
    "        EnsureTyped(keys=[\"img\", \"seg\"]),\n",
    "    ]\n",
    ")\n",
    "\n",
    "# define dataset, data loader\n",
    "check_ds = Dataset(data=train_files, transform=train_transforms)\n",
    "# use batch_size=2 to load images and use RandCropByPosNegLabeld to generate 2 x 4 images for network training\n",
    "check_loader = torch.utils.data.DataLoader(\n",
    "    check_ds, batch_size=2, num_workers=4, collate_fn=list_data_collate\n",
    ")\n",
    "check_data = first(check_loader)\n",
    "print(check_data[\"img\"].shape, check_data[\"seg\"].shape)\n",
    "\n",
    "# create a training data loader\n",
    "train_ds = Dataset(data=train_files, transform=train_transforms)\n",
    "# use batch_size=2 to load images and use RandCropByPosNegLabeld to generate 2 x 4 images for network training\n",
    "train_loader = torch.utils.data.DataLoader(\n",
    "    train_ds,\n",
    "    batch_size=2,\n",
    "    shuffle=True,\n",
    "    num_workers=4,\n",
    "    collate_fn=list_data_collate,\n",
    "    pin_memory=torch.cuda.is_available(),\n",
    ")\n",
    "# create a validation data loader\n",
    "val_ds = Dataset(data=val_files, transform=val_transforms)\n",
    "val_loader = torch.utils.data.DataLoader(\n",
    "    val_ds, batch_size=1, num_workers=4, collate_fn=list_data_collate\n",
    ")"
   ]
  },
  {
   "cell_type": "markdown",
   "metadata": {
    "colab_type": "text",
    "id": "BB8EGm5OBuIR"
   },
   "source": [
    "## Prepare model, optimizer and metrics"
   ]
  },
  {
   "cell_type": "code",
   "execution_count": null,
   "metadata": {
    "colab": {},
    "colab_type": "code",
    "id": "gIh_W821Bvdd"
   },
   "outputs": [],
   "source": [
    "# create UNet, DiceLoss and Adam optimizer\n",
    "# device = torch.device(\"cuda:0\")  # you don't need device, because Catalyst uses autoscaling\n",
    "model = UNet(\n",
    "    dimensions=3,\n",
    "    in_channels=1,\n",
    "    out_channels=1,\n",
    "    channels=(16, 32, 64, 128, 256),\n",
    "    strides=(2, 2, 2, 2),\n",
    "    num_res_units=2,\n",
    ")\n",
    "loss_function = DiceLoss(sigmoid=True)\n",
    "optimizer = torch.optim.Adam(model.parameters(), 1e-3)\n",
    "\n",
    "dice_metric = DiceMetric(include_background=True, reduction=\"mean\")\n",
    "post_trans = Compose(\n",
    "    [EnsureType(), Activations(sigmoid=True), AsDiscrete(threshold_values=True)]\n",
    ")"
   ]
  },
  {
   "cell_type": "markdown",
   "metadata": {
    "colab_type": "text",
    "id": "BSHNgJ2e8908"
   },
   "source": [
    "# [Catalyst](https://github.com/catalyst-team/catalyst) experiment"
   ]
  },
  {
   "cell_type": "markdown",
   "metadata": {
    "colab_type": "text",
    "id": "oO8ijD62CCvm"
   },
   "source": [
    "## Setup Runner"
   ]
  },
  {
   "cell_type": "code",
   "execution_count": null,
   "metadata": {
    "colab": {},
    "colab_type": "code",
    "id": "wtiY6gC1CCb6"
   },
   "outputs": [],
   "source": [
    "class MonaiSupervisedRunner(catalyst.dl.SupervisedRunner):\n",
    "    def forward(self, batch):\n",
    "        if self.is_train_loader:\n",
    "            output = {self.output_key: self.model(batch[self.input_key])}\n",
    "        elif self.is_valid_loader:\n",
    "            roi_size = (96, 96, 96)\n",
    "            sw_batch_size = 4\n",
    "            output = {\n",
    "                self.output_key: sliding_window_inference(\n",
    "                    batch[self.input_key], roi_size, sw_batch_size, self.model\n",
    "                )\n",
    "            }\n",
    "        elif self.is_infer_loader:\n",
    "            roi_size = (96, 96, 96)\n",
    "            sw_batch_size = 4\n",
    "            batch = self._batch2device(batch, self.device)\n",
    "            output = {\n",
    "                self.output_key: sliding_window_inference(\n",
    "                    batch[self.input_key], roi_size, sw_batch_size, self.model\n",
    "                )\n",
    "            }\n",
    "            output = {**output, **batch}\n",
    "        return output"
   ]
  },
  {
   "cell_type": "markdown",
   "metadata": {
    "colab_type": "text",
    "id": "OVBQ44E3CJst"
   },
   "source": [
    "## Run experiment"
   ]
  },
  {
   "cell_type": "code",
   "execution_count": null,
   "metadata": {},
   "outputs": [],
   "source": [
    "# define metric function to match MONAI API\n",
    "def get_metric(y_pred, y):\n",
    "    y_pred = [post_trans(i) for i in decollate_batch(y_pred)]\n",
    "    dice_metric(y_pred=y_pred, y=y)\n",
    "    metric = dice_metric.aggregate().item()\n",
    "    dice_metric.reset()\n",
    "    return metric"
   ]
  },
  {
   "cell_type": "code",
   "execution_count": null,
   "metadata": {
    "colab": {
     "base_uri": "https://localhost:8080/",
     "height": 819
    },
    "colab_type": "code",
    "id": "NogjkLJaf-1U",
    "outputId": "d96f2f00-42f1-4863-ccfb-1a1facbbe652"
   },
   "outputs": [],
   "source": [
    "max_epochs = 600\n",
    "val_interval = 2\n",
    "log_dir = os.path.join(root_dir, \"logs\")\n",
    "runner = MonaiSupervisedRunner(\n",
    "    input_key=\"img\", input_target_key=\"seg\", output_key=\"logits\"\n",
    ")  # you can also specify `device` here\n",
    "runner.train(\n",
    "    loaders={\"train\": train_loader, \"valid\": val_loader},\n",
    "    model=model,\n",
    "    criterion=loss_function,\n",
    "    optimizer=optimizer,\n",
    "    num_epochs=max_epochs,\n",
    "    logdir=log_dir,\n",
    "    main_metric=\"dice_metric\",\n",
    "    minimize_metric=False,\n",
    "    verbose=False,\n",
    "    timeit=True,  # let's use minimal logs, but with time checkers\n",
    "    callbacks={\n",
    "        \"loss\": catalyst.dl.CriterionCallback(\n",
    "            input_key=\"seg\", output_key=\"logits\"\n",
    "        ),\n",
    "        \"periodic_valid\": catalyst.dl.PeriodicLoaderCallback(\n",
    "            valid=val_interval\n",
    "        ),\n",
    "        \"dice_metric\": catalyst.dl.MetricCallback(\n",
    "            prefix=\"dice_metric\",\n",
    "            metric_fn=lambda y_pred, y: get_metric(y_pred, y),\n",
    "            input_key=\"seg\",\n",
    "            output_key=\"logits\",\n",
    "        ),\n",
    "    },\n",
    "    load_best_on_end=True,  # user-friendly API :)\n",
    ")"
   ]
  },
  {
   "cell_type": "markdown",
   "metadata": {
    "colab_type": "text",
    "id": "ugpGCkyS83e0"
   },
   "source": [
    "# Tensorboard logs"
   ]
  },
  {
   "cell_type": "code",
   "execution_count": null,
   "metadata": {},
   "outputs": [],
   "source": [
    "%load_ext tensorboard\n",
    "%tensorboard --logdir=log_dir"
   ]
  },
  {
   "cell_type": "markdown",
   "metadata": {
    "colab_type": "text",
    "id": "Z1RDmcUa8tQy"
   },
   "source": [
    "# Best model performance visualisation"
   ]
  },
  {
   "cell_type": "code",
   "execution_count": null,
   "metadata": {
    "colab": {
     "base_uri": "https://localhost:8080/",
     "height": 1000
    },
    "colab_type": "code",
    "id": "nHYP-ltLqzoC",
    "outputId": "5a75dac9-8f25-459f-cddc-cc8b9dfc4767"
   },
   "outputs": [
    {
     "data": {
      "image/png": "[encoded data removed]",
      "text/plain": [
       "<Figure size 648x216 with 3 Axes>"
      ]
     },
     "metadata": {
      "needs_background": "light"
     },
     "output_type": "display_data"
    },
    {
     "data": {
      "image/png": "[encoded data removed]",
      "text/plain": [
       "<Figure size 648x216 with 3 Axes>"
      ]
     },
     "metadata": {
      "needs_background": "light"
     },
     "output_type": "display_data"
    },
    {
     "data": {
      "image/png": "[encoded data removed]",
      "text/plain": [
       "<Figure size 648x216 with 3 Axes>"
      ]
     },
     "metadata": {
      "needs_background": "light"
     },
     "output_type": "display_data"
    },
    {
     "data": {
      "image/png": "[encoded data removed]",
      "text/plain": [
       "<Figure size 648x216 with 3 Axes>"
      ]
     },
     "metadata": {
      "needs_background": "light"
     },
     "output_type": "display_data"
    },
    {
     "data": {
      "image/png": "[encoded data removed]",
      "text/plain": [
       "<Figure size 648x216 with 3 Axes>"
      ]
     },
     "metadata": {
      "needs_background": "light"
     },
     "output_type": "display_data"
    }
   ],
   "source": [
    "for i, valid_output in enumerate(runner.predict_loader(loader=val_loader)):\n",
    "    if i > 4:\n",
    "        break\n",
    "    plt.figure(\"check\", (9, 3))\n",
    "    plt.subplot(1, 3, 1)\n",
    "    plt.title(\"image \" + str(i))\n",
    "    plt.imshow(valid_output[\"img\"].detach().cpu()[0, 0, :, :, 48], cmap=\"gray\")\n",
    "    plt.subplot(1, 3, 2)\n",
    "    plt.title(\"label \" + str(i))\n",
    "    plt.imshow(valid_output[\"seg\"].detach().cpu()[0, 0, :, :, 48])\n",
    "    plt.subplot(1, 3, 3)\n",
    "    plt.title(\"output \" + str(i))\n",
    "    logits = valid_output[\"logits\"]\n",
    "    plt.imshow((logits[0] > 0.5).float().detach().cpu()[0, :, :, 48])\n",
    "    plt.show()"
   ]
  },
  {
   "cell_type": "markdown",
   "metadata": {},
   "source": [
    "## Cleanup data directory\n",
    "\n",
    "Remove directory if a temporary was used."
   ]
  },
  {
   "cell_type": "code",
   "execution_count": null,
   "metadata": {
    "colab": {},
    "colab_type": "code",
    "id": "8iQXpWNwlUjG"
   },
   "outputs": [],
   "source": [
    "if directory is None:\n",
    "    shutil.rmtree(root_dir)"
   ]
  }
 ],
 "metadata": {
  "accelerator": "GPU",
  "colab": {
   "collapsed_sections": [],
   "name": "2007.monai-catalyst.segmentation_3d.ipynb",
   "provenance": []
  },
  "kernelspec": {
   "display_name": "Python 3",
   "language": "python",
   "name": "python3"
  },
  "language_info": {
   "codemirror_mode": {
    "name": "ipython",
    "version": 3
   },
   "file_extension": ".py",
   "mimetype": "text/x-python",
   "name": "python",
   "nbconvert_exporter": "python",
   "pygments_lexer": "ipython3",
   "version": "3.8.10"
  }
 },
 "nbformat": 4,
 "nbformat_minor": 1
}
