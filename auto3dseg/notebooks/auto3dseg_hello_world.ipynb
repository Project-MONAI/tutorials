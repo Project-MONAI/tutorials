{
 "cells": [
  {
   "cell_type": "markdown",
   "metadata": {},
   "source": [
    "# MONAI Auto3Dseg \"Hello World\" Example\n",
    "\n",
    "In this notebook, we will provide a simple demonstration of how to use Auto3Dseg AutoRunner to process a simulated datasets and generate results within minutes.\n",
    "\n",
    "## 1. Set up environment, imports and datasets"
   ]
  },
  {
   "cell_type": "markdown",
   "metadata": {},
   "source": [
    "### 1.1 Set up Environment"
   ]
  },
  {
   "cell_type": "code",
   "execution_count": 28,
   "metadata": {},
   "outputs": [],
   "source": [
    "!python -c \"import monai\" || pip install -q \"monai-weekly[nibabel]\""
   ]
  },
  {
   "cell_type": "markdown",
   "metadata": {},
   "source": [
    "### 1.2 Set up imports"
   ]
  },
  {
   "cell_type": "code",
   "execution_count": 29,
   "metadata": {},
   "outputs": [],
   "source": [
    "# Copyright (c) MONAI Consortium\n",
    "# Licensed under the Apache License, Version 2.0 (the \"License\");\n",
    "# you may not use this file except in compliance with the License.\n",
    "# You may obtain a copy of the License at\n",
    "#     http://www.apache.org/licenses/LICENSE-2.0\n",
    "# Unless required by applicable law or agreed to in writing, software\n",
    "# distributed under the License is distributed on an \"AS IS\" BASIS,\n",
    "# WITHOUT WARRANTIES OR CONDITIONS OF ANY KIND, either express or implied.\n",
    "# See the License for the specific language governing permissions and\n",
    "# limitations under the License.\n",
    "\n",
    "import os\n",
    "import json\n",
    "import nibabel as nib\n",
    "import numpy as np\n",
    "import matplotlib.pyplot as plt\n",
    "\n",
    "from monai.apps.auto3dseg import AutoRunner\n",
    "from monai.data import create_test_image_3d"
   ]
  },
  {
   "cell_type": "markdown",
   "metadata": {},
   "source": [
    "### 1.3 Simulate a special datasets\n",
    "\n",
    "It is well known that AI takes time to train. To provide the \"Hello World!\" experience of Auto3D in this notebook, we will simulate a small datasets and run trainings only for multiple epocs. Due to the nature of AI, the performance shouldn't be highly expected, but the entire pipeline will be completed within minutes!\n",
    "\n",
    "`sim_datalist` provides the information of the simulated datasets. It lists 12 training and 2 testing images and labels. The training data are split into 3 folds. Each fold will use 8 images to train and 4 images to validate. The size of the dimension is defined by the `sim_dim` ."
   ]
  },
  {
   "cell_type": "code",
   "execution_count": 30,
   "metadata": {},
   "outputs": [],
   "source": [
    "sim_datalist = {\n",
    "    \"testing\": [\n",
    "        {\"image\": \"test_image_001.nii.gz\", \"label\": \"test_label_001.nii.gz\"},\n",
    "        {\"image\": \"test_image_002.nii.gz\", \"label\": \"test_label_002.nii.gz\"},\n",
    "    ],\n",
    "    \"training\": [\n",
    "        {\"fold\": 0, \"image\": \"tr_image_001.nii.gz\", \"label\": \"tr_label_001.nii.gz\"},\n",
    "        {\"fold\": 0, \"image\": \"tr_image_002.nii.gz\", \"label\": \"tr_label_002.nii.gz\"},\n",
    "        {\"fold\": 0, \"image\": \"tr_image_003.nii.gz\", \"label\": \"tr_label_003.nii.gz\"},\n",
    "        {\"fold\": 0, \"image\": \"tr_image_004.nii.gz\", \"label\": \"tr_label_004.nii.gz\"},\n",
    "        {\"fold\": 1, \"image\": \"tr_image_005.nii.gz\", \"label\": \"tr_label_005.nii.gz\"},\n",
    "        {\"fold\": 1, \"image\": \"tr_image_006.nii.gz\", \"label\": \"tr_label_006.nii.gz\"},\n",
    "        {\"fold\": 1, \"image\": \"tr_image_007.nii.gz\", \"label\": \"tr_label_007.nii.gz\"},\n",
    "        {\"fold\": 1, \"image\": \"tr_image_008.nii.gz\", \"label\": \"tr_label_008.nii.gz\"},\n",
    "        {\"fold\": 2, \"image\": \"tr_image_009.nii.gz\", \"label\": \"tr_label_009.nii.gz\"},\n",
    "        {\"fold\": 2, \"image\": \"tr_image_010.nii.gz\", \"label\": \"tr_label_010.nii.gz\"},\n",
    "        {\"fold\": 2, \"image\": \"tr_image_011.nii.gz\", \"label\": \"tr_label_011.nii.gz\"},\n",
    "        {\"fold\": 2, \"image\": \"tr_image_012.nii.gz\", \"label\": \"tr_label_012.nii.gz\"},\n",
    "    ],\n",
    "}\n",
    "\n",
    "sim_dim = (64, 64, 64)"
   ]
  },
  {
   "cell_type": "markdown",
   "metadata": {},
   "source": [
    "### 1.4 Generate images and labels\n",
    "\n",
    "Now we can use MONAI `create_test_image_3d` and `nib.Nifti1Image` functions to generate the 3D simulated images under the work_dir"
   ]
  },
  {
   "cell_type": "code",
   "execution_count": 31,
   "metadata": {},
   "outputs": [],
   "source": [
    "work_dir = \"./auto3dseg_work_dir\"\n",
    "if not os.path.isdir(work_dir):\n",
    "    os.makedirs(work_dir)\n",
    "\n",
    "dataroot_dir = os.path.join(work_dir, \"sim_dataroot\")\n",
    "if not os.path.isdir(dataroot_dir):\n",
    "    os.makedirs(dataroot_dir)\n",
    "\n",
    "datalist_file = os.path.join(work_dir, \"sim_datalist.json\")\n",
    "with open(datalist_file, 'w') as f:\n",
    "    json.dump(sim_datalist, f)\n",
    "\n",
    "for d in sim_datalist[\"testing\"] + sim_datalist[\"training\"]:\n",
    "    im, seg = create_test_image_3d(sim_dim[0], sim_dim[1], sim_dim[2], rad_max=10, num_seg_classes=1)\n",
    "    image_fpath = os.path.join(dataroot_dir, d[\"image\"])\n",
    "    label_fpath = os.path.join(dataroot_dir, d[\"label\"])\n",
    "    nib.save(nib.Nifti1Image(im, affine=np.eye(4)), image_fpath)\n",
    "    nib.save(nib.Nifti1Image(seg, affine=np.eye(4)), label_fpath)"
   ]
  },
  {
   "cell_type": "markdown",
   "metadata": {},
   "source": [
    "### 1.5 Inspect the simulated data\n",
    "\n",
    "Here we picked a slice of the 3D image in the test datasets to get an idea of the simulation"
   ]
  },
  {
   "cell_type": "code",
   "execution_count": 32,
   "metadata": {},
   "outputs": [
    {
     "data": {
      "image/png": "[encoded data removed]",
      "text/plain": [
       "<Figure size 432x288 with 4 Axes>"
      ]
     },
     "metadata": {
      "needs_background": "light"
     },
     "output_type": "display_data"
    }
   ],
   "source": [
    "img_nib = nib.load(os.path.join(dataroot_dir, sim_datalist['testing'][0]['image']))\n",
    "lbl_nib = nib.load(os.path.join(dataroot_dir, sim_datalist['testing'][0]['label']))\n",
    "img = np.array(img_nib.dataobj)\n",
    "lbl = np.array(lbl_nib.dataobj)\n",
    "plt.subplot(1, 2, 1)\n",
    "plt.imshow(img[32])\n",
    "plt.title('image')\n",
    "cbar = plt.colorbar(shrink=0.55)\n",
    "plt.subplot(1, 2, 2)\n",
    "plt.imshow(lbl[32])\n",
    "plt.title('label')\n",
    "cbar = plt.colorbar(shrink=0.55)\n"
   ]
  },
  {
   "cell_type": "markdown",
   "metadata": {},
   "source": [
    "## 2. Test the Auto3Dsseg AutoRunner pipeline\n",
    "\n",
    "AutoRunner provides an interface to run the Auot3Dseg pipeline. It will automatically configure four different neural networks and perform multi-fold training to achieve the state-of-the-art performance. The module is highly configurable, but only requires minimal user inputs. In this example, we want to complete the piepline in two minutes, so we need to have some customizations\n",
    "\n",
    "### 2.1 Set up the AutoRunner with default settings"
   ]
  },
  {
   "cell_type": "code",
   "execution_count": 33,
   "metadata": {},
   "outputs": [
    {
     "name": "stdout",
     "output_type": "stream",
     "text": [
      "2022-09-20 09:43:20,603 - INFO - Work directory ./auto3dseg_work_dir is used to save all results\n",
      "2022-09-20 09:43:20,605 - INFO - The output_dir is not specified. /workspace/monai/tutorials-in-dev/auto3dseg/notebooks/auto3dseg_work_dir/ensemble_output will be used to save ensemble predictions\n",
      "2022-09-20 09:43:20,605 - INFO - Directory /workspace/monai/tutorials-in-dev/auto3dseg/notebooks/auto3dseg_work_dir/ensemble_output is created to save ensemble predictions\n"
     ]
    }
   ],
   "source": [
    "runner = AutoRunner(\n",
    "    work_dir=work_dir,\n",
    "    input={\n",
    "        \"modality\": \"MRI\",\n",
    "        \"datalist\": datalist_file,\n",
    "        \"dataroot\": dataroot_dir,\n",
    "    }\n",
    ")\n",
    "# runner.run() # this will use the default settings and take hours/ to run "
   ]
  },
  {
   "cell_type": "markdown",
   "metadata": {},
   "source": [
    "### 2.2 Override the training parameters so that we can complete the pipeline in minutes"
   ]
  },
  {
   "cell_type": "code",
   "execution_count": 34,
   "metadata": {},
   "outputs": [],
   "source": [
    "max_epochs = 2\n",
    "\n",
    "train_param = {\n",
    "    \"CUDA_VISIBLE_DEVICES\": [0],  # use only 1 gpu\n",
    "    \"num_iterations\": 4 * max_epochs,\n",
    "    \"num_iterations_per_validation\": 2 * max_epochs,\n",
    "    \"num_images_per_batch\": 2,\n",
    "    \"num_epochs\": max_epochs,\n",
    "    \"num_warmup_iterations\": 2 * max_epochs,\n",
    "}\n",
    "runner.set_training_params(train_param)\n",
    "runner.set_num_fold(num_fold=1)"
   ]
  },
  {
   "cell_type": "markdown",
   "metadata": {},
   "source": [
    "### 2.3 Start the data anlaysis, algorithm generation, training, and model ensemble"
   ]
  },
  {
   "cell_type": "code",
   "execution_count": 35,
   "metadata": {},
   "outputs": [
    {
     "name": "stderr",
     "output_type": "stream",
     "text": [
      "100%|██████████| 12/12 [00:00<00:00, 70.02it/s]\n",
      "algo_templates.tar.gz: 100%|██████████| 280k/280k [00:01<00:00, 216kB/s]  "
     ]
    },
    {
     "name": "stdout",
     "output_type": "stream",
     "text": [
      "2022-09-20 09:43:22,292 - INFO - Downloaded: /tmp/tmpvv7lxc3y/algo_templates.tar.gz\n",
      "2022-09-20 09:43:22,294 - INFO - Expected md5 is None, skip md5 check for file /tmp/tmpvv7lxc3y/algo_templates.tar.gz.\n",
      "2022-09-20 09:43:22,296 - INFO - Writing into directory: /workspace/monai/tutorials-in-dev/auto3dseg/notebooks/auto3dseg_work_dir.\n"
     ]
    },
    {
     "name": "stderr",
     "output_type": "stream",
     "text": [
      "\n"
     ]
    },
    {
     "name": "stdout",
     "output_type": "stream",
     "text": [
      "2022-09-20 09:43:22,476 - INFO - /workspace/monai/tutorials-in-dev/auto3dseg/notebooks/auto3dseg_work_dir/segresnet2d_0\n",
      "2022-09-20 09:43:22,599 - INFO - /workspace/monai/tutorials-in-dev/auto3dseg/notebooks/auto3dseg_work_dir/dints_0\n",
      "2022-09-20 09:43:22,711 - INFO - /workspace/monai/tutorials-in-dev/auto3dseg/notebooks/auto3dseg_work_dir/swinunetr_0\n",
      "2022-09-20 09:43:22,832 - INFO - /workspace/monai/tutorials-in-dev/auto3dseg/notebooks/auto3dseg_work_dir/segresnet_0\n",
      "2022-09-20 09:43:22,834 - INFO - Launching: python /workspace/monai/tutorials-in-dev/auto3dseg/notebooks/auto3dseg_work_dir/segresnet_0/scripts/train.py run --config_file='/workspace/monai/tutorials-in-dev/auto3dseg/notebooks/auto3dseg_work_dir/segresnet_0/configs/transforms_validate.yaml','/workspace/monai/tutorials-in-dev/auto3dseg/notebooks/auto3dseg_work_dir/segresnet_0/configs/transforms_train.yaml','/workspace/monai/tutorials-in-dev/auto3dseg/notebooks/auto3dseg_work_dir/segresnet_0/configs/transforms_infer.yaml','/workspace/monai/tutorials-in-dev/auto3dseg/notebooks/auto3dseg_work_dir/segresnet_0/configs/network.yaml','/workspace/monai/tutorials-in-dev/auto3dseg/notebooks/auto3dseg_work_dir/segresnet_0/configs/hyper_parameters.yaml' --num_iterations=8 --num_iterations_per_validation=4 --num_images_per_batch=2 --num_epochs=2 --num_warmup_iterations=4\n",
      "2022-09-20 09:43:29,196 - INFO - CompletedProcess(args=['python', '/workspace/monai/tutorials-in-dev/auto3dseg/notebooks/auto3dseg_work_dir/segresnet_0/scripts/train.py', 'run', \"--config_file='/workspace/monai/tutorials-in-dev/auto3dseg/notebooks/auto3dseg_work_dir/segresnet_0/configs/transforms_validate.yaml','/workspace/monai/tutorials-in-dev/auto3dseg/notebooks/auto3dseg_work_dir/segresnet_0/configs/transforms_train.yaml','/workspace/monai/tutorials-in-dev/auto3dseg/notebooks/auto3dseg_work_dir/segresnet_0/configs/transforms_infer.yaml','/workspace/monai/tutorials-in-dev/auto3dseg/notebooks/auto3dseg_work_dir/segresnet_0/configs/network.yaml','/workspace/monai/tutorials-in-dev/auto3dseg/notebooks/auto3dseg_work_dir/segresnet_0/configs/hyper_parameters.yaml'\", '--num_iterations=8', '--num_iterations_per_validation=4', '--num_images_per_batch=2', '--num_epochs=2', '--num_warmup_iterations=4'], returncode=0, stdout=b\"[info] number of GPUs: 1\n",
      "[info] world_size: 1\n",
      "train_files: 8\n",
      "val_files: 4\n",
      "num_epochs 2\n",
      "num_epochs_per_validation 1\n",
      "[info] training from scratch\n",
      "[info] amp enabled\n",
      "----------\n",
      "epoch 1/2\n",
      "learning rate is set to 2e-05\n",
      "[2022-09-20 09:43:26] 1/4, train_loss: 1.1933\n",
      "[2022-09-20 09:43:27] 2/4, train_loss: 1.1559\n",
      "[2022-09-20 09:43:27] 3/4, train_loss: 1.0393\n",
      "[2022-09-20 09:43:27] 4/4, train_loss: 1.0440\n",
      "epoch 1 average loss: 1.1081, best mean dice: -1.0000 at epoch -1\n",
      "1 / 4 tensor([[0.7520]], device='cuda:0')\n",
      "2 / 4 tensor([[0.7192]], device='cuda:0')\n",
      "3 / 4 tensor([[0.8161]], device='cuda:0')\n",
      "4 / 4 tensor([[0.7692]], device='cuda:0')\n",
      "evaluation metric - class 1: 0.7641148567199707\n",
      "avg_metric 0.7641148567199707\n",
      "saved new best metric model\n",
      "current epoch: 1 current mean dice: 0.7641 best mean dice: 0.7641 at epoch 1\n",
      "----------\n",
      "epoch 2/2\n",
      "learning rate is set to 0.0\n",
      "[2022-09-20 09:43:28] 1/4, train_loss: 1.0086\n",
      "[2022-09-20 09:43:28] 2/4, train_loss: 0.9582\n",
      "[2022-09-20 09:43:28] 3/4, train_loss: 0.9627\n",
      "[2022-09-20 09:43:28] 4/4, train_loss: 0.9668\n",
      "epoch 2 average loss: 0.9741, best mean dice: 0.7641 at epoch 1\n",
      "1 / 4 tensor([[0.7566]], device='cuda:0')\n",
      "2 / 4 tensor([[0.7221]], device='cuda:0')\n",
      "3 / 4 tensor([[0.8186]], device='cuda:0')\n",
      "4 / 4 tensor([[0.7671]], device='cuda:0')\n",
      "evaluation metric - class 1: 0.7661051750183105\n",
      "avg_metric 0.7661051750183105\n",
      "saved new best metric model\n",
      "current epoch: 2 current mean dice: 0.7661 best mean dice: 0.7661 at epoch 2\n",
      "train completed, best_metric: 0.7661 at epoch: 2\n",
      "0.7661051750183105\n",
      "\", stderr=b'')\n",
      "2022-09-20 09:43:29,204 - INFO - Launching: python /workspace/monai/tutorials-in-dev/auto3dseg/notebooks/auto3dseg_work_dir/swinunetr_0/scripts/train.py run --config_file='/workspace/monai/tutorials-in-dev/auto3dseg/notebooks/auto3dseg_work_dir/swinunetr_0/configs/transforms_validate.yaml','/workspace/monai/tutorials-in-dev/auto3dseg/notebooks/auto3dseg_work_dir/swinunetr_0/configs/transforms_train.yaml','/workspace/monai/tutorials-in-dev/auto3dseg/notebooks/auto3dseg_work_dir/swinunetr_0/configs/transforms_infer.yaml','/workspace/monai/tutorials-in-dev/auto3dseg/notebooks/auto3dseg_work_dir/swinunetr_0/configs/network.yaml','/workspace/monai/tutorials-in-dev/auto3dseg/notebooks/auto3dseg_work_dir/swinunetr_0/configs/hyper_parameters.yaml' --num_iterations=8 --num_iterations_per_validation=4 --num_images_per_batch=2 --num_epochs=2 --num_warmup_iterations=4\n",
      "2022-09-20 09:43:36,217 - INFO - CompletedProcess(args=['python', '/workspace/monai/tutorials-in-dev/auto3dseg/notebooks/auto3dseg_work_dir/swinunetr_0/scripts/train.py', 'run', \"--config_file='/workspace/monai/tutorials-in-dev/auto3dseg/notebooks/auto3dseg_work_dir/swinunetr_0/configs/transforms_validate.yaml','/workspace/monai/tutorials-in-dev/auto3dseg/notebooks/auto3dseg_work_dir/swinunetr_0/configs/transforms_train.yaml','/workspace/monai/tutorials-in-dev/auto3dseg/notebooks/auto3dseg_work_dir/swinunetr_0/configs/transforms_infer.yaml','/workspace/monai/tutorials-in-dev/auto3dseg/notebooks/auto3dseg_work_dir/swinunetr_0/configs/network.yaml','/workspace/monai/tutorials-in-dev/auto3dseg/notebooks/auto3dseg_work_dir/swinunetr_0/configs/hyper_parameters.yaml'\", '--num_iterations=8', '--num_iterations_per_validation=4', '--num_images_per_batch=2', '--num_epochs=2', '--num_warmup_iterations=4'], returncode=0, stdout=b\"[info] number of GPUs: 1\n",
      "[info] world_size: 1\n",
      "train_files: 8\n",
      "val_files: 4\n",
      "num_epochs 2\n",
      "num_epochs_per_validation 1\n",
      "[info] training from scratch\n",
      "[info] amp enabled\n",
      "----------\n",
      "epoch 1/2\n",
      "learning rate is set to 0.0001\n",
      "[2022-09-20 09:43:33] 1/4, train_loss: 1.2265\n",
      "[2022-09-20 09:43:33] 2/4, train_loss: 1.0757\n",
      "[2022-09-20 09:43:33] 3/4, train_loss: 1.0457\n",
      "[2022-09-20 09:43:33] 4/4, train_loss: 1.0086\n",
      "epoch 1 average loss: 1.0891, best mean dice: -1.0000 at epoch -1\n",
      "1 / 4 tensor([[0.6297]], device='cuda:0')\n",
      "2 / 4 tensor([[0.5567]], device='cuda:0')\n",
      "3 / 4 tensor([[0.6832]], device='cuda:0')\n",
      "4 / 4 tensor([[0.5718]], device='cuda:0')\n",
      "evaluation metric - class 1: 0.6103538274765015\n",
      "avg_metric 0.6103538274765015\n",
      "saved new best metric model\n",
      "current epoch: 1 current mean dice: 0.6104 best mean dice: 0.6104 at epoch 1\n",
      "----------\n",
      "epoch 2/2\n",
      "learning rate is set to 6.25e-06\n",
      "[2022-09-20 09:43:34] 1/4, train_loss: 1.0045\n",
      "[2022-09-20 09:43:34] 2/4, train_loss: 0.9933\n",
      "[2022-09-20 09:43:34] 3/4, train_loss: 1.0093\n",
      "[2022-09-20 09:43:34] 4/4, train_loss: 0.9873\n",
      "epoch 2 average loss: 0.9986, best mean dice: 0.6104 at epoch 1\n",
      "1 / 4 tensor([[0.6360]], device='cuda:0')\n",
      "2 / 4 tensor([[0.5638]], device='cuda:0')\n",
      "3 / 4 tensor([[0.6881]], device='cuda:0')\n",
      "4 / 4 tensor([[0.5784]], device='cuda:0')\n",
      "evaluation metric - class 1: 0.6165779829025269\n",
      "avg_metric 0.6165779829025269\n",
      "saved new best metric model\n",
      "current epoch: 2 current mean dice: 0.6166 best mean dice: 0.6166 at epoch 2\n",
      "train completed, best_metric: 0.6166 at epoch: 2\n",
      "0.6165779829025269\n",
      "\", stderr=b'')\n",
      "2022-09-20 09:43:36,223 - INFO - Launching: python /workspace/monai/tutorials-in-dev/auto3dseg/notebooks/auto3dseg_work_dir/dints_0/scripts/search.py run --config_file='/workspace/monai/tutorials-in-dev/auto3dseg/notebooks/auto3dseg_work_dir/dints_0/configs/transforms_validate.yaml','/workspace/monai/tutorials-in-dev/auto3dseg/notebooks/auto3dseg_work_dir/dints_0/configs/transforms_train.yaml','/workspace/monai/tutorials-in-dev/auto3dseg/notebooks/auto3dseg_work_dir/dints_0/configs/transforms_infer.yaml','/workspace/monai/tutorials-in-dev/auto3dseg/notebooks/auto3dseg_work_dir/dints_0/configs/hyper_parameters_search.yaml','/workspace/monai/tutorials-in-dev/auto3dseg/notebooks/auto3dseg_work_dir/dints_0/configs/network.yaml','/workspace/monai/tutorials-in-dev/auto3dseg/notebooks/auto3dseg_work_dir/dints_0/configs/network_search.yaml','/workspace/monai/tutorials-in-dev/auto3dseg/notebooks/auto3dseg_work_dir/dints_0/configs/hyper_parameters.yaml' --searching#num_iterations=8 --searching#num_iterations_per_validation=4 --searching#num_images_per_batch=2 --searching#num_epochs=2 --searching#num_warmup_iterations=4\n",
      "2022-09-20 09:44:03,878 - INFO - CompletedProcess(args=['python', '/workspace/monai/tutorials-in-dev/auto3dseg/notebooks/auto3dseg_work_dir/dints_0/scripts/search.py', 'run', \"--config_file='/workspace/monai/tutorials-in-dev/auto3dseg/notebooks/auto3dseg_work_dir/dints_0/configs/transforms_validate.yaml','/workspace/monai/tutorials-in-dev/auto3dseg/notebooks/auto3dseg_work_dir/dints_0/configs/transforms_train.yaml','/workspace/monai/tutorials-in-dev/auto3dseg/notebooks/auto3dseg_work_dir/dints_0/configs/transforms_infer.yaml','/workspace/monai/tutorials-in-dev/auto3dseg/notebooks/auto3dseg_work_dir/dints_0/configs/hyper_parameters_search.yaml','/workspace/monai/tutorials-in-dev/auto3dseg/notebooks/auto3dseg_work_dir/dints_0/configs/network.yaml','/workspace/monai/tutorials-in-dev/auto3dseg/notebooks/auto3dseg_work_dir/dints_0/configs/network_search.yaml','/workspace/monai/tutorials-in-dev/auto3dseg/notebooks/auto3dseg_work_dir/dints_0/configs/hyper_parameters.yaml'\", '--searching#num_iterations=8', '--searching#num_iterations_per_validation=4', '--searching#num_images_per_batch=2', '--searching#num_epochs=2', '--searching#num_warmup_iterations=4'], returncode=0, stdout=b\"[info] number of GPUs: 1\n",
      "[info] world_size: 1\n",
      "train_files_w: 4\n",
      "train_files_a: 4\n",
      "val_files: 4\n",
      "num_epochs 4\n",
      "num_epochs_warmup 2\n",
      "num_epochs_per_validation 2\n",
      "[info] amp enabled\n",
      "----------\n",
      "epoch 1/4\n",
      "learning rate is set to 0.025\n",
      "[2022-09-20 09:43:41] 1/2, train_loss: 0.8140\n",
      "[2022-09-20 09:43:42] 2/2, train_loss: 0.7802\n",
      "epoch 1 average loss: 0.7971, best mean dice: -1.0000 at epoch -1\n",
      "----------\n",
      "epoch 2/4\n",
      "learning rate is set to 0.025\n",
      "[2022-09-20 09:43:43] 1/2, train_loss: 0.7961\n",
      "[2022-09-20 09:43:43] 2/2, train_loss: 0.7957\n",
      "epoch 2 average loss: 0.7959, best mean dice: -1.0000 at epoch -1\n",
      "1 / 4 tensor([[0.1473]], device='cuda:0')\n",
      "2 / 4 tensor([[0.1301]], device='cuda:0')\n",
      "3 / 4 tensor([[0.1941]], device='cuda:0')\n",
      "4 / 4 tensor([[0.1233]], device='cuda:0')\n",
      "evaluation metric - class 1: 0.14868216216564178\n",
      "avg_metric 0.14868216216564178\n",
      "saved new best metric model\n",
      "current epoch: 2 current mean dice: 0.1487 best mean dice: 0.1487 at epoch 2\n",
      "----------\n",
      "epoch 3/4\n",
      "learning rate is set to 0.025\n",
      "[2022-09-20 09:43:51] 1/2, train_loss: 0.7909\n",
      "[2022-09-20 09:43:52] 1/2, train_loss_arch: 0.8009\n",
      "[2022-09-20 09:43:53] 2/2, train_loss: 0.7890\n",
      "[2022-09-20 09:43:53] 2/2, train_loss_arch: 0.7751\n",
      "epoch 3 average loss: 0.7900, best mean dice: 0.1487 at epoch 2\n",
      "epoch 3 average arch loss: 0.7880, best mean dice: 0.1487 at epoch 2\n",
      "----------\n",
      "epoch 4/4\n",
      "learning rate is set to 0.00625\n",
      "[2022-09-20 09:43:54] 1/2, train_loss: 0.7809\n",
      "[2022-09-20 09:43:55] 1/2, train_loss_arch: 1.1202\n",
      "[2022-09-20 09:43:56] 2/2, train_loss: 0.7658\n",
      "[2022-09-20 09:43:56] 2/2, train_loss_arch: 1.1212\n",
      "epoch 4 average loss: 0.7733, best mean dice: 0.1487 at epoch 2\n",
      "epoch 4 average arch loss: 1.1207, best mean dice: 0.1487 at epoch 2\n",
      "1 / 4 tensor([[0.1566]], device='cuda:0')\n",
      "2 / 4 tensor([[0.1415]], device='cuda:0')\n",
      "3 / 4 tensor([[0.2047]], device='cuda:0')\n",
      "4 / 4 tensor([[0.1364]], device='cuda:0')\n",
      "evaluation metric - class 1: 0.15980660915374756\n",
      "avg_metric 0.15980660915374756\n",
      "saved new best metric model\n",
      "current epoch: 4 current mean dice: 0.1598 best mean dice: 0.1598 at epoch 4\n",
      "train completed, best_metric: 0.1598 at epoch: 4\n",
      "\", stderr=b'')\n",
      "2022-09-20 09:44:03,879 - INFO - Launching: python /workspace/monai/tutorials-in-dev/auto3dseg/notebooks/auto3dseg_work_dir/dints_0/scripts/train.py run --config_file='/workspace/monai/tutorials-in-dev/auto3dseg/notebooks/auto3dseg_work_dir/dints_0/configs/transforms_validate.yaml','/workspace/monai/tutorials-in-dev/auto3dseg/notebooks/auto3dseg_work_dir/dints_0/configs/transforms_train.yaml','/workspace/monai/tutorials-in-dev/auto3dseg/notebooks/auto3dseg_work_dir/dints_0/configs/transforms_infer.yaml','/workspace/monai/tutorials-in-dev/auto3dseg/notebooks/auto3dseg_work_dir/dints_0/configs/hyper_parameters_search.yaml','/workspace/monai/tutorials-in-dev/auto3dseg/notebooks/auto3dseg_work_dir/dints_0/configs/network.yaml','/workspace/monai/tutorials-in-dev/auto3dseg/notebooks/auto3dseg_work_dir/dints_0/configs/network_search.yaml','/workspace/monai/tutorials-in-dev/auto3dseg/notebooks/auto3dseg_work_dir/dints_0/configs/hyper_parameters.yaml' --training#num_iterations=8 --training#num_iterations_per_validation=4 --training#num_images_per_batch=2 --training#num_epochs=2 --training#num_warmup_iterations=4\n",
      "2022-09-20 09:44:14,127 - INFO - CompletedProcess(args=['python', '/workspace/monai/tutorials-in-dev/auto3dseg/notebooks/auto3dseg_work_dir/dints_0/scripts/train.py', 'run', \"--config_file='/workspace/monai/tutorials-in-dev/auto3dseg/notebooks/auto3dseg_work_dir/dints_0/configs/transforms_validate.yaml','/workspace/monai/tutorials-in-dev/auto3dseg/notebooks/auto3dseg_work_dir/dints_0/configs/transforms_train.yaml','/workspace/monai/tutorials-in-dev/auto3dseg/notebooks/auto3dseg_work_dir/dints_0/configs/transforms_infer.yaml','/workspace/monai/tutorials-in-dev/auto3dseg/notebooks/auto3dseg_work_dir/dints_0/configs/hyper_parameters_search.yaml','/workspace/monai/tutorials-in-dev/auto3dseg/notebooks/auto3dseg_work_dir/dints_0/configs/network.yaml','/workspace/monai/tutorials-in-dev/auto3dseg/notebooks/auto3dseg_work_dir/dints_0/configs/network_search.yaml','/workspace/monai/tutorials-in-dev/auto3dseg/notebooks/auto3dseg_work_dir/dints_0/configs/hyper_parameters.yaml'\", '--training#num_iterations=8', '--training#num_iterations_per_validation=4', '--training#num_images_per_batch=2', '--training#num_epochs=2', '--training#num_warmup_iterations=4'], returncode=0, stdout=b\"[info] number of GPUs: 1\n",
      "[info] world_size: 1\n",
      "train_files: 8\n",
      "val_files: 4\n",
      "num_epochs 2\n",
      "num_epochs_per_validation 1\n",
      "[info] training from scratch\n",
      "[info] amp enabled\n",
      "----------\n",
      "epoch 1/2\n",
      "learning rate is set to 0.2\n",
      "[2022-09-20 09:44:08] 1/4, train_loss: 0.6861\n",
      "[2022-09-20 09:44:09] 2/4, train_loss: 0.6570\n",
      "[2022-09-20 09:44:09] 3/4, train_loss: 0.6170\n",
      "[2022-09-20 09:44:09] 4/4, train_loss: 0.6051\n",
      "epoch 1 average loss: 0.6413, best mean dice: -1.0000 at epoch -1\n",
      "1 / 4 tensor([[0.2980]], device='cuda:0')\n",
      "2 / 4 tensor([[0.2834]], device='cuda:0')\n",
      "3 / 4 tensor([[0.3106]], device='cuda:0')\n",
      "4 / 4 tensor([[0.2781]], device='cuda:0')\n",
      "evaluation metric - class 1: 0.29253315925598145\n",
      "avg_metric 0.29253315925598145\n",
      "saved new best metric model\n",
      "current epoch: 1 current mean dice: 0.2925 best mean dice: 0.2925 at epoch 1\n",
      "----------\n",
      "epoch 2/2\n",
      "learning rate is set to 0.0125\n",
      "[2022-09-20 09:44:11] 1/4, train_loss: 0.5840\n",
      "[2022-09-20 09:44:11] 2/4, train_loss: 0.6382\n",
      "[2022-09-20 09:44:12] 3/4, train_loss: 0.5759\n",
      "[2022-09-20 09:44:12] 4/4, train_loss: 0.5755\n",
      "epoch 2 average loss: 0.5934, best mean dice: 0.2925 at epoch 1\n",
      "1 / 4 tensor([[0.3018]], device='cuda:0')\n",
      "2 / 4 tensor([[0.2880]], device='cuda:0')\n",
      "3 / 4 tensor([[0.3188]], device='cuda:0')\n",
      "4 / 4 tensor([[0.2878]], device='cuda:0')\n",
      "evaluation metric - class 1: 0.29908525943756104\n",
      "avg_metric 0.29908525943756104\n",
      "saved new best metric model\n",
      "current epoch: 2 current mean dice: 0.2991 best mean dice: 0.2991 at epoch 2\n",
      "train completed, best_metric: 0.2991 at epoch: 2\n",
      "0.29908525943756104\n",
      "\", stderr=b'')\n",
      "2022-09-20 09:44:14,133 - INFO - Launching: python /workspace/monai/tutorials-in-dev/auto3dseg/notebooks/auto3dseg_work_dir/segresnet2d_0/scripts/train.py run --config_file='/workspace/monai/tutorials-in-dev/auto3dseg/notebooks/auto3dseg_work_dir/segresnet2d_0/configs/transforms_validate.yaml','/workspace/monai/tutorials-in-dev/auto3dseg/notebooks/auto3dseg_work_dir/segresnet2d_0/configs/transforms_train.yaml','/workspace/monai/tutorials-in-dev/auto3dseg/notebooks/auto3dseg_work_dir/segresnet2d_0/configs/transforms_infer.yaml','/workspace/monai/tutorials-in-dev/auto3dseg/notebooks/auto3dseg_work_dir/segresnet2d_0/configs/network.yaml','/workspace/monai/tutorials-in-dev/auto3dseg/notebooks/auto3dseg_work_dir/segresnet2d_0/configs/hyper_parameters.yaml' --num_iterations=8 --num_iterations_per_validation=4 --num_images_per_batch=2 --num_epochs=2 --num_warmup_iterations=4\n",
      "2022-09-20 09:44:21,141 - INFO - CompletedProcess(args=['python', '/workspace/monai/tutorials-in-dev/auto3dseg/notebooks/auto3dseg_work_dir/segresnet2d_0/scripts/train.py', 'run', \"--config_file='/workspace/monai/tutorials-in-dev/auto3dseg/notebooks/auto3dseg_work_dir/segresnet2d_0/configs/transforms_validate.yaml','/workspace/monai/tutorials-in-dev/auto3dseg/notebooks/auto3dseg_work_dir/segresnet2d_0/configs/transforms_train.yaml','/workspace/monai/tutorials-in-dev/auto3dseg/notebooks/auto3dseg_work_dir/segresnet2d_0/configs/transforms_infer.yaml','/workspace/monai/tutorials-in-dev/auto3dseg/notebooks/auto3dseg_work_dir/segresnet2d_0/configs/network.yaml','/workspace/monai/tutorials-in-dev/auto3dseg/notebooks/auto3dseg_work_dir/segresnet2d_0/configs/hyper_parameters.yaml'\", '--num_iterations=8', '--num_iterations_per_validation=4', '--num_images_per_batch=2', '--num_epochs=2', '--num_warmup_iterations=4'], returncode=0, stdout=b\"[info] number of GPUs: 1\n",
      "[info] world_size: 1\n",
      "train_files: 8\n",
      "val_files: 4\n",
      "num_epochs 2\n",
      "num_epochs_per_validation 1\n",
      "[info] training from scratch\n",
      "[info] amp enabled\n",
      "----------\n",
      "epoch 1/2\n",
      "learning rate is set to 0.2\n",
      "[2022-09-20 09:44:17] 1/4, train_loss: 0.6623\n",
      "[2022-09-20 09:44:17] 2/4, train_loss: 0.5288\n",
      "[2022-09-20 09:44:17] 3/4, train_loss: 0.4536\n",
      "[2022-09-20 09:44:17] 4/4, train_loss: 0.3123\n",
      "epoch 1 average loss: 0.4892, best mean dice: -1.0000 at epoch -1\n",
      "1 / 4 tensor([[0.8002]], device='cuda:0')\n",
      "2 / 4 tensor([[0.7766]], device='cuda:0')\n",
      "3 / 4 tensor([[0.8481]], device='cuda:0')\n",
      "4 / 4 tensor([[0.8035]], device='cuda:0')\n",
      "evaluation metric - class 1: 0.8071034550666809\n",
      "avg_metric 0.8071034550666809\n",
      "saved new best metric model\n",
      "current epoch: 1 current mean dice: 0.8071 best mean dice: 0.8071 at epoch 1\n",
      "----------\n",
      "epoch 2/2\n",
      "learning rate is set to 0.0125\n",
      "[2022-09-20 09:44:19] 1/4, train_loss: 0.3702\n",
      "[2022-09-20 09:44:19] 2/4, train_loss: 0.3388\n",
      "[2022-09-20 09:44:19] 3/4, train_loss: 0.5319\n",
      "[2022-09-20 09:44:19] 4/4, train_loss: 0.4516\n",
      "epoch 2 average loss: 0.4232, best mean dice: 0.8071 at epoch 1\n",
      "1 / 4 tensor([[0.7985]], device='cuda:0')\n",
      "2 / 4 tensor([[0.7766]], device='cuda:0')\n",
      "3 / 4 tensor([[0.8521]], device='cuda:0')\n",
      "4 / 4 tensor([[0.8056]], device='cuda:0')\n",
      "evaluation metric - class 1: 0.8081863522529602\n",
      "avg_metric 0.8081863522529602\n",
      "saved new best metric model\n",
      "current epoch: 2 current mean dice: 0.8082 best mean dice: 0.8082 at epoch 2\n",
      "train completed, best_metric: 0.8082 at epoch: 2\n",
      "0.8081863522529602\n",
      "\", stderr=b'')\n",
      "0\n",
      "[info] checkpoint /workspace/monai/tutorials-in-dev/auto3dseg/notebooks/auto3dseg_work_dir/swinunetr_0/model_fold0/best_metric_model.pt loaded\n",
      "2022-09-20 09:44:21,752 INFO image_writer.py:194 - writing: /workspace/monai/tutorials-in-dev/auto3dseg/notebooks/auto3dseg_work_dir/swinunetr_0/prediction_testing/test_image_001/test_image_001_seg.nii.gz\n",
      "[info] checkpoint /workspace/monai/tutorials-in-dev/auto3dseg/notebooks/auto3dseg_work_dir/dints_0/model_fold0/best_metric_model.pt loaded\n",
      "2022-09-20 09:44:23,116 INFO image_writer.py:194 - writing: /workspace/monai/tutorials-in-dev/auto3dseg/notebooks/auto3dseg_work_dir/dints_0/prediction_testing/test_image_001/test_image_001_seg.nii.gz\n",
      "1\n",
      "[info] checkpoint /workspace/monai/tutorials-in-dev/auto3dseg/notebooks/auto3dseg_work_dir/swinunetr_0/model_fold0/best_metric_model.pt loaded\n",
      "2022-09-20 09:44:23,636 INFO image_writer.py:194 - writing: /workspace/monai/tutorials-in-dev/auto3dseg/notebooks/auto3dseg_work_dir/swinunetr_0/prediction_testing/test_image_002/test_image_002_seg.nii.gz\n",
      "[info] checkpoint /workspace/monai/tutorials-in-dev/auto3dseg/notebooks/auto3dseg_work_dir/dints_0/model_fold0/best_metric_model.pt loaded\n",
      "2022-09-20 09:44:24,863 INFO image_writer.py:194 - writing: /workspace/monai/tutorials-in-dev/auto3dseg/notebooks/auto3dseg_work_dir/dints_0/prediction_testing/test_image_002/test_image_002_seg.nii.gz\n",
      "Auto3Dseg picked the following networks to ensemble:\n",
      "swinunetr_0\n",
      "dints_0\n",
      "2022-09-20 09:44:24,879 INFO image_writer.py:194 - writing: /workspace/monai/tutorials-in-dev/auto3dseg/notebooks/auto3dseg_work_dir/ensemble_output/test_image_001/test_image_001_ensemble.nii.gz\n",
      "2022-09-20 09:44:24,887 INFO image_writer.py:194 - writing: /workspace/monai/tutorials-in-dev/auto3dseg/notebooks/auto3dseg_work_dir/ensemble_output/test_image_002/test_image_002_ensemble.nii.gz\n",
      "2022-09-20 09:44:24,893 - INFO - Auto3Dseg ensemble prediction outputs are saved in /workspace/monai/tutorials-in-dev/auto3dseg/notebooks/auto3dseg_work_dir/ensemble_output.\n",
      "2022-09-20 09:44:24,894 - INFO - Auto3Dseg pipeline is complete successfully.\n"
     ]
    }
   ],
   "source": [
    "runner.run()"
   ]
  },
  {
   "cell_type": "markdown",
   "metadata": {},
   "source": [
    "### 2.4 Inspect the algo ensembled predctions and compare it with the ground truth"
   ]
  },
  {
   "cell_type": "code",
   "execution_count": 36,
   "metadata": {},
   "outputs": [
    {
     "data": {
      "image/png": "[encoded data removed]",
      "text/plain": [
       "<Figure size 432x288 with 8 Axes>"
      ]
     },
     "metadata": {
      "needs_background": "light"
     },
     "output_type": "display_data"
    }
   ],
   "source": [
    "image_name = sim_datalist['testing'][0]['image'].split(\".\")[0]\n",
    "prediction_nib = nib.load(os.path.join(work_dir, 'ensemble_output', image_name, image_name+\"_ensemble\"+\".nii.gz\"))\n",
    "pred = np.array(prediction_nib.dataobj)\n",
    "\n",
    "plt.subplot(2, 2, 1)\n",
    "plt.imshow(img[32])\n",
    "plt.title('image')\n",
    "cbar = plt.colorbar(shrink=0.8)\n",
    "plt.subplot(2, 2, 2)\n",
    "plt.imshow(lbl[32])\n",
    "plt.title('label')\n",
    "cbar = plt.colorbar(shrink=0.8)\n",
    "plt.subplot(2, 2, 3)\n",
    "plt.imshow(pred[32, :, :, 0])\n",
    "plt.title('background class prediction')\n",
    "cbar = plt.colorbar(shrink=0.8)\n",
    "plt.subplot(2, 2, 4)\n",
    "plt.imshow(pred[32, :, :, 1])\n",
    "plt.title('foreground class prediction')\n",
    "cbar = plt.colorbar(shrink=0.8)\n",
    "# set the spacing between subplots\n",
    "plt.subplots_adjust(left=0.1,\n",
    "                    bottom=0.1,\n",
    "                    right=0.9,\n",
    "                    top=0.9,\n",
    "                    wspace=0.4,\n",
    "                    hspace=0.4)\n",
    "plt.show()"
   ]
  },
  {
   "cell_type": "markdown",
   "metadata": {},
   "source": [
    "## 3. Conclusion\n",
    "\n",
    "Here we complete the entire pipeline. As you may notice, we can see the algorithms start to learn the datasets and the prediction of background and foreground voxels. Auto3Dseg and AutoRunner are highly configurable. To get better results, you can increase the training time, apply different ensemble method, or use hyper-parameter optimization through the AutoRunner or Auto3Dseg module APIs.\n",
    "\n",
    "As a \"Hello World\" notebook, we will end the experiment with simulated datasets here."
   ]
  }
 ],
 "metadata": {
  "kernelspec": {
   "display_name": "Python 3.8.13 ('base')",
   "language": "python",
   "name": "python3"
  },
  "language_info": {
   "codemirror_mode": {
    "name": "ipython",
    "version": 3
   },
   "file_extension": ".py",
   "mimetype": "text/x-python",
   "name": "python",
   "nbconvert_exporter": "python",
   "pygments_lexer": "ipython3",
   "version": "3.8.13"
  },
  "orig_nbformat": 4,
  "vscode": {
   "interpreter": {
    "hash": "d4d1e4263499bec80672ea0156c357c1ee493ec2b1c70f0acce89fc37c4a6abe"
   }
  }
 },
 "nbformat": 4,
 "nbformat_minor": 2
}
