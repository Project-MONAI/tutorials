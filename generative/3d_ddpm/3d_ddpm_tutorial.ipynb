{
 "cells": [
  {
   "cell_type": "code",
   "execution_count": null,
   "id": "fa57bdf5",
   "metadata": {},
   "outputs": [],
   "source": [
    "# Copyright (c) MONAI Consortium\n",
    "# Licensed under the Apache License, Version 2.0 (the \"License\");\n",
    "# you may not use this file except in compliance with the License.\n",
    "# You may obtain a copy of the License at\n",
    "#     http://www.apache.org/licenses/LICENSE-2.0\n",
    "# Unless required by applicable law or agreed to in writing, software\n",
    "# distributed under the License is distributed on an \"AS IS\" BASIS,\n",
    "# WITHOUT WARRANTIES OR CONDITIONS OF ANY KIND, either express or implied.\n",
    "# See the License for the specific language governing permissions and\n",
    "# limitations under the License."
   ]
  },
  {
   "cell_type": "markdown",
   "id": "6286986e",
   "metadata": {},
   "source": [
    "# Denoising Diffusion Probabilistic Model on 3D data\n",
    "\n",
    "This tutorial illustrates how to use MONAI for training a denoising diffusion probabilistic model (DDPM)[1] to create synthetic 3D images.\n",
    "\n",
    "[1] - [Ho et al. \"Denoising Diffusion Probabilistic Models\"](https://arxiv.org/abs/2006.11239)\n",
    "\n",
    "\n",
    "## Setup environment"
   ]
  },
  {
   "cell_type": "code",
   "execution_count": 1,
   "id": "f96b6f31",
   "metadata": {},
   "outputs": [],
   "source": [
    "!python -c \"import monai\" || pip install -q \"monai-weekly[nibabel, tqdm]\"\n",
    "!python -c \"import matplotlib\" || pip install -q matplotlib\n",
    "%matplotlib inline"
   ]
  },
  {
   "cell_type": "markdown",
   "id": "cbc01d24",
   "metadata": {},
   "source": [
    "## Setup imports"
   ]
  },
  {
   "cell_type": "code",
   "execution_count": 13,
   "id": "cdea37d5",
   "metadata": {},
   "outputs": [
    {
     "name": "stdout",
     "output_type": "stream",
     "text": [
      "MONAI version: 1.2.dev2304\n",
      "Numpy version: 1.23.5\n",
      "Pytorch version: 1.13.1+cu117\n",
      "MONAI flags: HAS_EXT = False, USE_COMPILED = False, USE_META_DICT = False\n",
      "MONAI rev id: 9a57be5aab9f2c2a134768c0c146399150e247a0\n",
      "MONAI __file__: /media/walter/Storage/Projects/GenerativeModels/venv/lib/python3.10/site-packages/monai/__init__.py\n",
      "\n",
      "Optional dependencies:\n",
      "Pytorch Ignite version: 0.4.10\n",
      "ITK version: 5.3.0\n",
      "Nibabel version: 4.0.2\n",
      "scikit-image version: 0.19.3\n",
      "Pillow version: 9.3.0\n",
      "Tensorboard version: 2.11.0\n",
      "gdown version: 4.6.0\n",
      "TorchVision version: 0.14.1+cu117\n",
      "tqdm version: 4.64.1\n",
      "lmdb version: 1.4.0\n",
      "psutil version: 5.9.4\n",
      "pandas version: 1.5.3\n",
      "einops version: 0.6.0\n",
      "transformers version: 4.21.3\n",
      "mlflow version: 2.1.1\n",
      "pynrrd version: 1.0.0\n",
      "\n",
      "For details about installing the optional dependencies, please visit:\n",
      "    https://docs.monai.io/en/latest/installation.html#installing-the-recommended-dependencies\n",
      "\n"
     ]
    }
   ],
   "source": [
    "import os\n",
    "import tempfile\n",
    "import time\n",
    "\n",
    "import matplotlib.pyplot as plt\n",
    "import numpy as np\n",
    "import torch\n",
    "import torch.nn.functional as F\n",
    "from monai.apps import DecathlonDataset\n",
    "from monai.config import print_config\n",
    "from monai.data import DataLoader\n",
    "from monai.transforms import AddChanneld, CenterSpatialCropd, Compose, Lambdad, LoadImaged, Resized, ScaleIntensityd\n",
    "from monai.utils import set_determinism\n",
    "from torch.cuda.amp import GradScaler, autocast\n",
    "from tqdm import tqdm\n",
    "\n",
    "from generative.inferers import DiffusionInferer\n",
    "from generative.networks.nets import DiffusionModelUNet\n",
    "from generative.networks.schedulers import DDPMScheduler, DDIMScheduler\n",
    "\n",
    "print_config()"
   ]
  },
  {
   "cell_type": "markdown",
   "id": "50e37a43",
   "metadata": {},
   "source": [
    "## Setup data directory\n",
    "\n",
    "You can specify a directory with the MONAI_DATA_DIRECTORY environment variable.\n",
    "\n",
    "This allows you to save results and reuse downloads.\n",
    "\n",
    "If not specified a temporary directory will be used."
   ]
  },
  {
   "cell_type": "code",
   "execution_count": 3,
   "id": "c38b4c33",
   "metadata": {},
   "outputs": [
    {
     "name": "stdout",
     "output_type": "stream",
     "text": [
      "/media/walter/Storage/Projects/GTC_2023_presentation/data\n"
     ]
    }
   ],
   "source": [
    "directory = os.environ.get(\"MONAI_DATA_DIRECTORY\")\n",
    "root_dir = tempfile.mkdtemp() if directory is None else directory\n",
    "print(root_dir)"
   ]
  },
  {
   "cell_type": "markdown",
   "id": "41af1391",
   "metadata": {},
   "source": [
    "## Set deterministic training for reproducibility"
   ]
  },
  {
   "cell_type": "code",
   "execution_count": 4,
   "id": "515d8583",
   "metadata": {},
   "outputs": [],
   "source": [
    "set_determinism(42)"
   ]
  },
  {
   "cell_type": "markdown",
   "id": "29d8c601",
   "metadata": {},
   "source": [
    "## Setup Decathlon Dataset and training and validation data loaders\n",
    "\n",
    "In this tutorial, we will use the 3D T1 weighted brain images from the [2016 and 2017 Brain Tumor Segmentation (BraTS) challenges](https://www.med.upenn.edu/sbia/brats2017/data.html). This dataset can be easily downloaded using the [DecathlonDataset](https://docs.monai.io/en/stable/apps.html#monai.apps.DecathlonDataset) from MONAI (`task=\"Task01_BrainTumour\"`). To load the training and validation images, we are using the `data_transform` transformations that are responsible for the following:\n",
    "\n",
    "1. `LoadImaged`:  Loads the brain images from files.\n",
    "2. `Lambdad`: Choose channel 1 of the image, which is the T1-weighted image.\n",
    "3. `AddChanneld`: Add the channel dimension of the input data.\n",
    "4. `ScaleIntensityd`: Apply a min-max scaling in the intensity values of each image to be in the `[0, 1]` range.\n",
    "5. `CenterSpatialCropd`: Crop the background of the images using a roi of size `[160, 200, 155]`.\n",
    "6. `Resized`: Resize the images to a volume with size `[32, 40, 32]`.\n",
    "\n",
    "For the data loader, we are using mini-batches of 8 images, which consumes about 21GB of GPU memory during training. Please, reduce this value to run on smaller GPUs."
   ]
  },
  {
   "cell_type": "code",
   "execution_count": 5,
   "id": "f640d7ac",
   "metadata": {},
   "outputs": [
    {
     "name": "stderr",
     "output_type": "stream",
     "text": [
      "<class 'monai.transforms.utility.array.AddChannel'>: Class `AddChannel` has been deprecated since version 0.8. please use MetaTensor data type and monai.transforms.EnsureChannelFirst instead.\n"
     ]
    }
   ],
   "source": [
    "data_transform = Compose(\n",
    "    [\n",
    "        LoadImaged(keys=[\"image\"]),\n",
    "        Lambdad(keys=\"image\", func=lambda x: x[:, :, :, 1]),\n",
    "        AddChanneld(keys=[\"image\"]),\n",
    "        ScaleIntensityd(keys=[\"image\"]),\n",
    "        CenterSpatialCropd(keys=[\"image\"], roi_size=[160, 200, 155]),\n",
    "        Resized(keys=[\"image\"], spatial_size=(32, 40, 32)),\n",
    "    ]\n",
    ")"
   ]
  },
  {
   "cell_type": "code",
   "execution_count": 6,
   "id": "ddd61e60",
   "metadata": {
    "lines_to_next_cell": 2
   },
   "outputs": [
    {
     "name": "stdout",
     "output_type": "stream",
     "text": [
      "2023-03-20 14:39:26,630 - INFO - Verified 'Task01_BrainTumour.tar', md5: 240a19d752f0d9e9101544901065d872.\n",
      "2023-03-20 14:39:26,630 - INFO - File exists: /media/walter/Storage/Projects/GTC_2023_presentation/data/Task01_BrainTumour.tar, skipped downloading.\n",
      "2023-03-20 14:39:26,631 - INFO - Non-empty folder exists in /media/walter/Storage/Projects/GTC_2023_presentation/data/Task01_BrainTumour, skipped extracting.\n"
     ]
    },
    {
     "name": "stderr",
     "output_type": "stream",
     "text": [
      "Loading dataset: 100%|███████████████████████████████████████████████████████████████████████████████████████████████████████████████████████████████████████████████████████████████████████| 388/388 [03:32<00:00,  1.83it/s]\n"
     ]
    },
    {
     "name": "stdout",
     "output_type": "stream",
     "text": [
      "2023-03-20 14:43:06,832 - INFO - Verified 'Task01_BrainTumour.tar', md5: 240a19d752f0d9e9101544901065d872.\n",
      "2023-03-20 14:43:06,832 - INFO - File exists: /media/walter/Storage/Projects/GTC_2023_presentation/data/Task01_BrainTumour.tar, skipped downloading.\n",
      "2023-03-20 14:43:06,833 - INFO - Non-empty folder exists in /media/walter/Storage/Projects/GTC_2023_presentation/data/Task01_BrainTumour, skipped extracting.\n"
     ]
    },
    {
     "name": "stderr",
     "output_type": "stream",
     "text": [
      "Loading dataset: 100%|█████████████████████████████████████████████████████████████████████████████████████████████████████████████████████████████████████████████████████████████████████████| 96/96 [00:52<00:00,  1.83it/s]\n"
     ]
    }
   ],
   "source": [
    "train_ds = DecathlonDataset(\n",
    "    root_dir=root_dir, task=\"Task01_BrainTumour\", transform=data_transform, section=\"training\", download=True\n",
    ")\n",
    "\n",
    "train_loader = DataLoader(train_ds, batch_size=8, shuffle=True, num_workers=8, persistent_workers=True)\n",
    "\n",
    "val_ds = DecathlonDataset(\n",
    "    root_dir=root_dir, task=\"Task01_BrainTumour\", transform=data_transform, section=\"validation\", download=True\n",
    ")\n",
    "\n",
    "val_loader = DataLoader(val_ds, batch_size=8, shuffle=False, num_workers=8, persistent_workers=True)"
   ]
  },
  {
   "cell_type": "markdown",
   "id": "50efe5ef",
   "metadata": {},
   "source": [
    "### Visualization of the training images"
   ]
  },
  {
   "cell_type": "code",
   "execution_count": 7,
   "id": "bffb4abc",
   "metadata": {},
   "outputs": [
    {
     "data": {
      "image/png": "[encoded data removed]",
      "text/plain": [
       "<Figure size 1000x600 with 4 Axes>"
      ]
     },
     "metadata": {},
     "output_type": "display_data"
    }
   ],
   "source": [
    "plt.subplots(1, 4, figsize=(10, 6))\n",
    "for i in range(4):\n",
    "    plt.subplot(1, 4, i + 1)\n",
    "    plt.imshow(train_ds[i * 20][\"image\"][0, :, :, 15].detach().cpu(), vmin=0, vmax=1, cmap=\"gray\")\n",
    "    plt.axis(\"off\")\n",
    "plt.tight_layout()\n",
    "plt.show()"
   ]
  },
  {
   "cell_type": "markdown",
   "id": "d22296e5",
   "metadata": {},
   "source": [
    "### Define network, scheduler, optimizer, and inferer\n",
    "\n",
    "We will use a DDPM in this example; for that, we need to define a `DiffusionModelUNet` network that will have as input the noisy images and the values for the timestep `t`, and it will predict the noise that is present in the image.\n",
    "\n",
    "In this example, we have a network with three levels (with 256, 256, and 512 channels in each). In every level, we will have two residual blocks, and only the last one will have an attention block with a single attention head (with 512 channels)."
   ]
  },
  {
   "cell_type": "code",
   "execution_count": 8,
   "id": "d499f7b1",
   "metadata": {
    "lines_to_next_cell": 2
   },
   "outputs": [],
   "source": [
    "device = torch.device(\"cuda\")\n",
    "\n",
    "model = DiffusionModelUNet(\n",
    "    spatial_dims=3,\n",
    "    in_channels=1,\n",
    "    out_channels=1,\n",
    "    num_channels=[256, 256, 512],\n",
    "    attention_levels=[False, False, True],\n",
    "    num_head_channels=[0, 0, 512],\n",
    "    num_res_blocks=2,\n",
    ")\n",
    "model.to(device)"
   ]
  },
  {
   "cell_type": "markdown",
   "id": "47ad91ff",
   "metadata": {},
   "source": [
    "Together with our U-net, we need to define the Noise Scheduler for the diffusion model. This scheduler is responsible for defining the amount of noise that should be added in each timestep `t` of the diffusion model's Markov chain. Besides that, it has the operations to perform the reverse process, which will remove the noise of the images (a.k.a. denoising process). In this case, we are using a `DDPMScheduler`. Here we are using 1000 timesteps and a `scaled_linear` profile for the beta values (proposed in [Rombach et al. \"High-Resolution Image Synthesis with Latent Diffusion Models\"](https://arxiv.org/abs/2112.10752)). This profile had better results than the `linear, proposed in the original DDPM's paper. In `beta_start` and `beta_end`, we define the limits for the beta values. These are important to determine how accentuated is the addition of noise in the image."
   ]
  },
  {
   "cell_type": "code",
   "execution_count": null,
   "id": "6c1de5ad",
   "metadata": {},
   "outputs": [],
   "source": [
    "scheduler = DDPMScheduler(num_train_timesteps=1000, beta_schedule=\"scaled_linear\", beta_start=0.0005, beta_end=0.0195)"
   ]
  },
  {
   "cell_type": "code",
   "execution_count": 57,
   "id": "36d3e99a",
   "metadata": {},
   "outputs": [
    {
     "data": {
      "text/plain": [
       "Text(0, 0.5, 'alpha cumprod')"
      ]
     },
     "execution_count": 57,
     "metadata": {},
     "output_type": "execute_result"
    },
    {
     "data": {
      "image/png": "[encoded data removed]",
      "text/plain": [
       "<Figure size 640x480 with 1 Axes>"
      ]
     },
     "metadata": {},
     "output_type": "display_data"
    }
   ],
   "source": [
    "plt.plot(scheduler.alphas_cumprod.cpu(), color=(2 / 255, 163 / 255, 163 / 255), linewidth=2)\n",
    "plt.xlabel(\"Timestep [t]\")\n",
    "plt.ylabel(\"alpha cumprod\")"
   ]
  },
  {
   "cell_type": "markdown",
   "id": "9125f7c8",
   "metadata": {},
   "source": [
    "Finally, we define the Inferer, which contains functions that will help during the training and sampling of the model, and the optimizer."
   ]
  },
  {
   "cell_type": "code",
   "execution_count": null,
   "id": "8685da6e",
   "metadata": {},
   "outputs": [],
   "source": [
    "inferer = DiffusionInferer(scheduler)\n",
    "\n",
    "optimizer = torch.optim.Adam(params=model.parameters(), lr=5e-5)"
   ]
  },
  {
   "cell_type": "markdown",
   "id": "9f371ad8",
   "metadata": {},
   "source": [
    "## Model training\n",
    "\n",
    "In this part, we will train the diffusion model to predict the noise added to the images. For this, we are using an MSE loss between the prediction and the original noise. During the training, we are also sampling brain images to evaluate the evolution of the model. In this training, we use Automatic Mixed Precision to save memory and speed up the training."
   ]
  },
  {
   "cell_type": "code",
   "execution_count": 9,
   "id": "bd10b595",
   "metadata": {
    "lines_to_next_cell": 0
   },
   "outputs": [
    {
     "name": "stderr",
     "output_type": "stream",
     "text": [
      "Epoch 0: 100%|████████████| 49/49 [00:54<00:00,  1.12s/it, loss=0.263]\n",
      "Epoch 1: 100%|███████████| 49/49 [00:54<00:00,  1.12s/it, loss=0.0245]\n",
      "Epoch 2: 100%|████████████| 49/49 [00:55<00:00,  1.13s/it, loss=0.014]\n",
      "Epoch 3: 100%|███████████| 49/49 [00:55<00:00,  1.13s/it, loss=0.0103]\n",
      "Epoch 4: 100%|██████████| 49/49 [00:56<00:00,  1.14s/it, loss=0.00888]\n",
      "Epoch 5: 100%|███████████| 49/49 [00:56<00:00,  1.15s/it, loss=0.0125]\n",
      "Epoch 6: 100%|██████████| 49/49 [00:56<00:00,  1.15s/it, loss=0.00897]\n",
      "Epoch 7: 100%|██████████| 49/49 [00:55<00:00,  1.14s/it, loss=0.00892]\n",
      "Epoch 8: 100%|██████████| 49/49 [00:55<00:00,  1.14s/it, loss=0.00569]\n",
      "Epoch 9: 100%|███████████| 49/49 [00:55<00:00,  1.14s/it, loss=0.0075]\n",
      "Epoch 10: 100%|█████████| 49/49 [00:55<00:00,  1.14s/it, loss=0.00929]\n",
      "Epoch 11: 100%|█████████| 49/49 [00:55<00:00,  1.14s/it, loss=0.00622]\n",
      "Epoch 12: 100%|█████████| 49/49 [00:55<00:00,  1.14s/it, loss=0.00633]\n",
      "Epoch 13: 100%|█████████| 49/49 [00:55<00:00,  1.14s/it, loss=0.00664]\n",
      "Epoch 14: 100%|█████████| 49/49 [00:55<00:00,  1.14s/it, loss=0.00597]\n",
      "Epoch 15: 100%|█████████| 49/49 [00:55<00:00,  1.14s/it, loss=0.00646]\n",
      "Epoch 16: 100%|█████████| 49/49 [00:55<00:00,  1.14s/it, loss=0.00721]\n",
      "Epoch 17: 100%|█████████| 49/49 [00:55<00:00,  1.14s/it, loss=0.00895]\n",
      "Epoch 18: 100%|█████████| 49/49 [00:55<00:00,  1.14s/it, loss=0.00681]\n",
      "Epoch 19: 100%|█████████| 49/49 [00:55<00:00,  1.14s/it, loss=0.00657]\n",
      "Epoch 20: 100%|█████████| 49/49 [00:55<00:00,  1.14s/it, loss=0.00635]\n",
      "Epoch 21: 100%|█████████| 49/49 [00:55<00:00,  1.14s/it, loss=0.00578]\n",
      "Epoch 22: 100%|█████████| 49/49 [00:55<00:00,  1.14s/it, loss=0.00691]\n",
      "Epoch 23: 100%|█████████| 49/49 [00:55<00:00,  1.14s/it, loss=0.00602]\n",
      "Epoch 24: 100%|█████████| 49/49 [00:55<00:00,  1.14s/it, loss=0.00668]\n",
      "100%|██████████████████████████████████████████████████████████████████████████████████████████████████████████████████████████████████████████████████████████████████████████████████████| 1000/1000 [01:01<00:00, 16.22it/s]\n"
     ]
    },
    {
     "data": {
      "image/png": "[encoded data removed]",
      "text/plain": [
       "<Figure size 200x200 with 1 Axes>"
      ]
     },
     "metadata": {},
     "output_type": "display_data"
    },
    {
     "name": "stderr",
     "output_type": "stream",
     "text": [
      "Epoch 25: 100%|█████████| 49/49 [00:55<00:00,  1.14s/it, loss=0.00884]\n",
      "Epoch 26: 100%|█████████| 49/49 [00:55<00:00,  1.14s/it, loss=0.00494]\n",
      "Epoch 27: 100%|█████████| 49/49 [00:55<00:00,  1.14s/it, loss=0.00529]\n",
      "Epoch 28: 100%|█████████| 49/49 [00:56<00:00,  1.14s/it, loss=0.00513]\n",
      "Epoch 29: 100%|█████████| 49/49 [00:55<00:00,  1.14s/it, loss=0.00503]\n",
      "Epoch 30: 100%|█████████| 49/49 [00:55<00:00,  1.14s/it, loss=0.00852]\n",
      "Epoch 31: 100%|█████████| 49/49 [00:55<00:00,  1.14s/it, loss=0.00525]\n",
      "Epoch 32: 100%|█████████| 49/49 [00:55<00:00,  1.14s/it, loss=0.00571]\n",
      "Epoch 33: 100%|█████████| 49/49 [00:55<00:00,  1.14s/it, loss=0.00495]\n",
      "Epoch 34: 100%|█████████| 49/49 [00:55<00:00,  1.14s/it, loss=0.00574]\n",
      "Epoch 35: 100%|██████████| 49/49 [00:55<00:00,  1.14s/it, loss=0.0048]\n",
      "Epoch 36: 100%|█████████| 49/49 [00:55<00:00,  1.14s/it, loss=0.00593]\n",
      "Epoch 37: 100%|██████████| 49/49 [00:55<00:00,  1.14s/it, loss=0.0054]\n",
      "Epoch 38: 100%|█████████| 49/49 [00:55<00:00,  1.14s/it, loss=0.00569]\n",
      "Epoch 39: 100%|█████████| 49/49 [00:55<00:00,  1.14s/it, loss=0.00641]\n",
      "Epoch 40: 100%|██████████| 49/49 [00:55<00:00,  1.14s/it, loss=0.0047]\n",
      "Epoch 41: 100%|█████████| 49/49 [00:55<00:00,  1.14s/it, loss=0.00498]\n",
      "Epoch 42: 100%|█████████| 49/49 [00:55<00:00,  1.14s/it, loss=0.00431]\n",
      "Epoch 43: 100%|█████████| 49/49 [00:55<00:00,  1.14s/it, loss=0.00484]\n",
      "Epoch 44: 100%|█████████| 49/49 [00:55<00:00,  1.14s/it, loss=0.00421]\n",
      "Epoch 45: 100%|█████████| 49/49 [00:55<00:00,  1.14s/it, loss=0.00462]\n",
      "Epoch 46: 100%|█████████| 49/49 [00:55<00:00,  1.14s/it, loss=0.00404]\n",
      "Epoch 47: 100%|█████████| 49/49 [00:55<00:00,  1.14s/it, loss=0.00435]\n",
      "Epoch 48: 100%|█████████| 49/49 [00:55<00:00,  1.14s/it, loss=0.00626]\n",
      "Epoch 49: 100%|█████████| 49/49 [00:55<00:00,  1.14s/it, loss=0.00365]\n",
      "100%|██████████████████████████████████████████████████████████████████████████████████████████████████████████████████████████████████████████████████████████████████████████████████████| 1000/1000 [01:01<00:00, 16.22it/s]\n"
     ]
    },
    {
     "data": {
      "image/png": "[encoded data removed]",
      "text/plain": [
       "<Figure size 200x200 with 1 Axes>"
      ]
     },
     "metadata": {},
     "output_type": "display_data"
    },
    {
     "name": "stderr",
     "output_type": "stream",
     "text": [
      "Epoch 50: 100%|██████████| 49/49 [00:55<00:00,  1.14s/it, loss=0.0064]\n",
      "Epoch 51: 100%|█████████| 49/49 [00:55<00:00,  1.14s/it, loss=0.00488]\n",
      "Epoch 52: 100%|█████████| 49/49 [00:55<00:00,  1.14s/it, loss=0.00691]\n",
      "Epoch 53: 100%|█████████| 49/49 [00:55<00:00,  1.14s/it, loss=0.00507]\n",
      "Epoch 54: 100%|█████████| 49/49 [00:55<00:00,  1.14s/it, loss=0.00373]\n",
      "Epoch 55: 100%|█████████| 49/49 [00:55<00:00,  1.14s/it, loss=0.00488]\n",
      "Epoch 56: 100%|█████████| 49/49 [00:56<00:00,  1.14s/it, loss=0.00374]\n",
      "Epoch 57: 100%|█████████| 49/49 [00:55<00:00,  1.14s/it, loss=0.00416]\n",
      "Epoch 58: 100%|█████████| 49/49 [00:55<00:00,  1.14s/it, loss=0.00564]\n",
      "Epoch 59: 100%|█████████| 49/49 [00:55<00:00,  1.14s/it, loss=0.00428]\n",
      "Epoch 60: 100%|█████████| 49/49 [00:55<00:00,  1.14s/it, loss=0.00456]\n",
      "Epoch 61: 100%|█████████| 49/49 [00:55<00:00,  1.14s/it, loss=0.00506]\n",
      "Epoch 62: 100%|██████████| 49/49 [00:55<00:00,  1.14s/it, loss=0.0036]\n",
      "Epoch 63: 100%|█████████| 49/49 [00:55<00:00,  1.14s/it, loss=0.00306]\n",
      "Epoch 64: 100%|█████████| 49/49 [00:55<00:00,  1.14s/it, loss=0.00442]\n",
      "Epoch 65: 100%|█████████| 49/49 [00:55<00:00,  1.14s/it, loss=0.00393]\n",
      "Epoch 66: 100%|█████████| 49/49 [00:55<00:00,  1.14s/it, loss=0.00361]\n",
      "Epoch 67: 100%|██████████| 49/49 [00:55<00:00,  1.14s/it, loss=0.0035]\n",
      "Epoch 68: 100%|█████████| 49/49 [00:55<00:00,  1.14s/it, loss=0.00457]\n",
      "Epoch 69: 100%|█████████| 49/49 [00:55<00:00,  1.14s/it, loss=0.00455]\n",
      "Epoch 70: 100%|█████████| 49/49 [00:55<00:00,  1.14s/it, loss=0.00524]\n",
      "Epoch 71: 100%|█████████| 49/49 [00:55<00:00,  1.14s/it, loss=0.00394]\n",
      "Epoch 72: 100%|█████████| 49/49 [00:55<00:00,  1.14s/it, loss=0.00577]\n",
      "Epoch 73: 100%|█████████| 49/49 [00:55<00:00,  1.14s/it, loss=0.00558]\n",
      "Epoch 74: 100%|█████████| 49/49 [00:55<00:00,  1.14s/it, loss=0.00465]\n",
      "100%|██████████████████████████████████████████████████████████████████████████████████████████████████████████████████████████████████████████████████████████████████████████████████████| 1000/1000 [01:01<00:00, 16.23it/s]\n"
     ]
    },
    {
     "data": {
      "image/png": "[encoded data removed]",
      "text/plain": [
       "<Figure size 200x200 with 1 Axes>"
      ]
     },
     "metadata": {},
     "output_type": "display_data"
    },
    {
     "name": "stderr",
     "output_type": "stream",
     "text": [
      "Epoch 75: 100%|█████████| 49/49 [00:57<00:00,  1.17s/it, loss=0.00369]\n",
      "Epoch 76: 100%|█████████| 49/49 [00:56<00:00,  1.16s/it, loss=0.00296]\n",
      "Epoch 77: 100%|█████████| 49/49 [00:57<00:00,  1.17s/it, loss=0.00641]\n",
      "Epoch 78: 100%|█████████| 49/49 [00:56<00:00,  1.15s/it, loss=0.00384]\n",
      "Epoch 79: 100%|█████████| 49/49 [00:57<00:00,  1.18s/it, loss=0.00447]\n",
      "Epoch 80: 100%|█████████| 49/49 [00:57<00:00,  1.17s/it, loss=0.00444]\n",
      "Epoch 81: 100%|██████████| 49/49 [00:57<00:00,  1.17s/it, loss=0.0046]\n",
      "Epoch 82: 100%|██████████| 49/49 [00:57<00:00,  1.17s/it, loss=0.0053]\n",
      "Epoch 83: 100%|██████████| 49/49 [00:57<00:00,  1.17s/it, loss=0.0032]\n",
      "Epoch 84: 100%|█████████| 49/49 [00:57<00:00,  1.17s/it, loss=0.00467]\n",
      "Epoch 85: 100%|█████████| 49/49 [00:56<00:00,  1.15s/it, loss=0.00346]\n",
      "Epoch 86: 100%|█████████| 49/49 [00:57<00:00,  1.17s/it, loss=0.00382]\n",
      "Epoch 87: 100%|██████████| 49/49 [00:57<00:00,  1.18s/it, loss=0.0034]\n",
      "Epoch 88: 100%|█████████| 49/49 [00:58<00:00,  1.18s/it, loss=0.00355]\n",
      "Epoch 89: 100%|█████████| 49/49 [00:56<00:00,  1.15s/it, loss=0.00478]\n",
      "Epoch 90: 100%|█████████| 49/49 [00:55<00:00,  1.14s/it, loss=0.00405]\n",
      "Epoch 91: 100%|█████████| 49/49 [00:57<00:00,  1.17s/it, loss=0.00465]\n",
      "Epoch 92: 100%|█████████| 49/49 [00:57<00:00,  1.16s/it, loss=0.00416]\n",
      "Epoch 93: 100%|█████████| 49/49 [00:56<00:00,  1.16s/it, loss=0.00372]\n",
      "Epoch 94: 100%|█████████| 49/49 [00:56<00:00,  1.16s/it, loss=0.00372]\n",
      "Epoch 95: 100%|█████████| 49/49 [00:57<00:00,  1.18s/it, loss=0.00492]\n",
      "Epoch 96: 100%|█████████| 49/49 [00:56<00:00,  1.16s/it, loss=0.00495]\n",
      "Epoch 97: 100%|█████████| 49/49 [00:57<00:00,  1.18s/it, loss=0.00486]\n",
      "Epoch 98: 100%|█████████| 49/49 [00:56<00:00,  1.16s/it, loss=0.00418]\n",
      "Epoch 99: 100%|█████████| 49/49 [00:58<00:00,  1.18s/it, loss=0.00563]\n",
      "100%|██████████████████████████████████████████████████████████████████████████████████████████████████████████████████████████████████████████████████████████████████████████████████████| 1000/1000 [01:02<00:00, 16.06it/s]\n"
     ]
    },
    {
     "data": {
      "image/png": "[encoded data removed]",
      "text/plain": [
       "<Figure size 200x200 with 1 Axes>"
      ]
     },
     "metadata": {},
     "output_type": "display_data"
    },
    {
     "name": "stderr",
     "output_type": "stream",
     "text": [
      "Epoch 100: 100%|████████| 49/49 [00:56<00:00,  1.16s/it, loss=0.00425]\n",
      "Epoch 101: 100%|████████| 49/49 [00:57<00:00,  1.18s/it, loss=0.00327]\n",
      "Epoch 102: 100%|█████████| 49/49 [00:56<00:00,  1.15s/it, loss=0.0045]\n",
      "Epoch 103: 100%|████████| 49/49 [00:57<00:00,  1.17s/it, loss=0.00335]\n",
      "Epoch 104: 100%|████████| 49/49 [00:56<00:00,  1.16s/it, loss=0.00341]\n",
      "Epoch 105: 100%|████████| 49/49 [00:56<00:00,  1.16s/it, loss=0.00418]\n",
      "Epoch 106: 100%|█████████| 49/49 [00:56<00:00,  1.16s/it, loss=0.0032]\n",
      "Epoch 107: 100%|████████| 49/49 [00:57<00:00,  1.18s/it, loss=0.00503]\n",
      "Epoch 108: 100%|████████| 49/49 [00:56<00:00,  1.16s/it, loss=0.00341]\n",
      "Epoch 109: 100%|████████| 49/49 [00:56<00:00,  1.16s/it, loss=0.00545]\n",
      "Epoch 110: 100%|████████| 49/49 [00:57<00:00,  1.18s/it, loss=0.00523]\n",
      "Epoch 111: 100%|████████| 49/49 [00:59<00:00,  1.21s/it, loss=0.00306]\n",
      "Epoch 112: 100%|████████| 49/49 [00:56<00:00,  1.15s/it, loss=0.00472]\n",
      "Epoch 113: 100%|████████| 49/49 [00:59<00:00,  1.21s/it, loss=0.00513]\n",
      "Epoch 114: 100%|████████| 49/49 [00:59<00:00,  1.21s/it, loss=0.00339]\n",
      "Epoch 115: 100%|████████| 49/49 [00:57<00:00,  1.18s/it, loss=0.00388]\n",
      "Epoch 116: 100%|████████| 49/49 [00:56<00:00,  1.16s/it, loss=0.00398]\n",
      "Epoch 117: 100%|█████████| 49/49 [00:57<00:00,  1.17s/it, loss=0.0026]\n",
      "Epoch 118: 100%|████████| 49/49 [00:57<00:00,  1.18s/it, loss=0.00355]\n",
      "Epoch 119: 100%|████████| 49/49 [00:56<00:00,  1.15s/it, loss=0.00315]\n",
      "Epoch 120: 100%|████████| 49/49 [00:56<00:00,  1.15s/it, loss=0.00346]\n",
      "Epoch 121: 100%|████████| 49/49 [00:56<00:00,  1.16s/it, loss=0.00506]\n",
      "Epoch 122: 100%|████████| 49/49 [00:57<00:00,  1.18s/it, loss=0.00301]\n",
      "Epoch 123: 100%|█████████| 49/49 [00:58<00:00,  1.19s/it, loss=0.0051]\n",
      "Epoch 124: 100%|█████████| 49/49 [00:57<00:00,  1.18s/it, loss=0.0032]\n",
      "100%|██████████████████████████████████████████████████████████████████████████████████████████████████████████████████████████████████████████████████████████████████████████████████████| 1000/1000 [01:03<00:00, 15.74it/s]\n"
     ]
    },
    {
     "data": {
      "image/png": "[encoded data removed]",
      "text/plain": [
       "<Figure size 200x200 with 1 Axes>"
      ]
     },
     "metadata": {},
     "output_type": "display_data"
    },
    {
     "name": "stderr",
     "output_type": "stream",
     "text": [
      "Epoch 125: 100%|████████| 49/49 [00:57<00:00,  1.17s/it, loss=0.00394]\n",
      "Epoch 126: 100%|████████| 49/49 [00:57<00:00,  1.18s/it, loss=0.00387]\n",
      "Epoch 127: 100%|████████| 49/49 [00:58<00:00,  1.18s/it, loss=0.00382]\n",
      "Epoch 128: 100%|████████| 49/49 [00:57<00:00,  1.18s/it, loss=0.00439]\n",
      "Epoch 129: 100%|████████| 49/49 [00:56<00:00,  1.15s/it, loss=0.00654]\n",
      "Epoch 130: 100%|████████| 49/49 [00:55<00:00,  1.14s/it, loss=0.00585]\n",
      "Epoch 131: 100%|████████| 49/49 [00:55<00:00,  1.14s/it, loss=0.00495]\n",
      "Epoch 132: 100%|████████| 49/49 [00:55<00:00,  1.14s/it, loss=0.00375]\n",
      "Epoch 133: 100%|████████| 49/49 [00:55<00:00,  1.14s/it, loss=0.00406]\n",
      "Epoch 134: 100%|████████| 49/49 [00:55<00:00,  1.14s/it, loss=0.00394]\n",
      "Epoch 135: 100%|████████| 49/49 [00:55<00:00,  1.14s/it, loss=0.00369]\n",
      "Epoch 136: 100%|████████| 49/49 [00:55<00:00,  1.14s/it, loss=0.00354]\n",
      "Epoch 137: 100%|████████| 49/49 [00:55<00:00,  1.14s/it, loss=0.00384]\n",
      "Epoch 138: 100%|████████| 49/49 [00:55<00:00,  1.14s/it, loss=0.00457]\n",
      "Epoch 139: 100%|████████| 49/49 [00:55<00:00,  1.14s/it, loss=0.00427]\n",
      "Epoch 140: 100%|████████| 49/49 [00:55<00:00,  1.14s/it, loss=0.00319]\n",
      "Epoch 141: 100%|████████| 49/49 [00:55<00:00,  1.14s/it, loss=0.00419]\n",
      "Epoch 142: 100%|████████| 49/49 [00:55<00:00,  1.14s/it, loss=0.00412]\n",
      "Epoch 143: 100%|████████| 49/49 [00:55<00:00,  1.14s/it, loss=0.00397]\n",
      "Epoch 144: 100%|████████| 49/49 [00:55<00:00,  1.14s/it, loss=0.00292]\n",
      "Epoch 145: 100%|████████| 49/49 [00:55<00:00,  1.14s/it, loss=0.00397]\n",
      "Epoch 146: 100%|████████| 49/49 [00:55<00:00,  1.14s/it, loss=0.00364]\n",
      "Epoch 147: 100%|████████| 49/49 [00:55<00:00,  1.14s/it, loss=0.00406]\n",
      "Epoch 148: 100%|████████| 49/49 [00:55<00:00,  1.14s/it, loss=0.00449]\n",
      "Epoch 149: 100%|████████| 49/49 [00:55<00:00,  1.14s/it, loss=0.00239]\n",
      "100%|██████████████████████████████████████████████████████████████████████████████████████████████████████████████████████████████████████████████████████████████████████████████████████| 1000/1000 [01:01<00:00, 16.37it/s]\n"
     ]
    },
    {
     "data": {
      "image/png": "[encoded data removed]",
      "text/plain": [
       "<Figure size 200x200 with 1 Axes>"
      ]
     },
     "metadata": {},
     "output_type": "display_data"
    },
    {
     "name": "stdout",
     "output_type": "stream",
     "text": [
      "train completed, total time: 8859.028432130814.\n"
     ]
    }
   ],
   "source": [
    "n_epochs = 150\n",
    "val_interval = 25\n",
    "epoch_loss_list = []\n",
    "val_epoch_loss_list = []\n",
    "\n",
    "scaler = GradScaler()\n",
    "total_start = time.time()\n",
    "for epoch in range(n_epochs):\n",
    "    model.train()\n",
    "    epoch_loss = 0\n",
    "    progress_bar = tqdm(enumerate(train_loader), total=len(train_loader), ncols=70)\n",
    "    progress_bar.set_description(f\"Epoch {epoch}\")\n",
    "    for step, batch in progress_bar:\n",
    "        images = batch[\"image\"].to(device)\n",
    "        optimizer.zero_grad(set_to_none=True)\n",
    "\n",
    "        with autocast(enabled=True):\n",
    "            # Generate random noise\n",
    "            noise = torch.randn_like(images).to(device)\n",
    "\n",
    "            # Create timesteps\n",
    "            timesteps = torch.randint(\n",
    "                0, inferer.scheduler.num_train_timesteps, (images.shape[0],), device=images.device\n",
    "            ).long()\n",
    "\n",
    "            # Get model prediction\n",
    "            noise_pred = inferer(inputs=images, diffusion_model=model, noise=noise, timesteps=timesteps)\n",
    "\n",
    "            loss = F.mse_loss(noise_pred.float(), noise.float())\n",
    "\n",
    "        scaler.scale(loss).backward()\n",
    "        scaler.step(optimizer)\n",
    "        scaler.update()\n",
    "\n",
    "        epoch_loss += loss.item()\n",
    "\n",
    "        progress_bar.set_postfix({\"loss\": epoch_loss / (step + 1)})\n",
    "    epoch_loss_list.append(epoch_loss / (step + 1))\n",
    "\n",
    "    if (epoch + 1) % val_interval == 0:\n",
    "        model.eval()\n",
    "        val_epoch_loss = 0\n",
    "        for step, batch in enumerate(val_loader):\n",
    "            images = batch[\"image\"].to(device)\n",
    "            noise = torch.randn_like(images).to(device)\n",
    "            with torch.no_grad():\n",
    "                with autocast(enabled=True):\n",
    "                    timesteps = torch.randint(\n",
    "                        0, inferer.scheduler.num_train_timesteps, (images.shape[0],), device=images.device\n",
    "                    ).long()\n",
    "\n",
    "                    # Get model prediction\n",
    "                    noise_pred = inferer(inputs=images, diffusion_model=model, noise=noise, timesteps=timesteps)\n",
    "                    val_loss = F.mse_loss(noise_pred.float(), noise.float())\n",
    "\n",
    "            val_epoch_loss += val_loss.item()\n",
    "            progress_bar.set_postfix({\"val_loss\": val_epoch_loss / (step + 1)})\n",
    "        val_epoch_loss_list.append(val_epoch_loss / (step + 1))\n",
    "\n",
    "        # Sampling image during training\n",
    "        image = torch.randn((1, 1, 32, 40, 32))\n",
    "        image = image.to(device)\n",
    "        scheduler.set_timesteps(num_inference_steps=1000)\n",
    "        with autocast(enabled=True):\n",
    "            image = inferer.sample(input_noise=image, diffusion_model=model, scheduler=scheduler)\n",
    "\n",
    "        plt.figure(figsize=(2, 2))\n",
    "        plt.imshow(image[0, 0, :, :, 15].cpu(), vmin=0, vmax=1, cmap=\"gray\")\n",
    "        plt.tight_layout()\n",
    "        plt.axis(\"off\")\n",
    "        plt.show()\n",
    "\n",
    "total_time = time.time() - total_start\n",
    "print(f\"train completed, total time: {total_time}.\")"
   ]
  },
  {
   "cell_type": "markdown",
   "id": "3e263b67",
   "metadata": {},
   "source": [
    "### Learning curves"
   ]
  },
  {
   "cell_type": "code",
   "execution_count": 10,
   "id": "c7520419",
   "metadata": {
    "lines_to_next_cell": 2
   },
   "outputs": [
    {
     "data": {
      "image/png": "[encoded data removed]",
      "text/plain": [
       "<Figure size 800x550 with 1 Axes>"
      ]
     },
     "metadata": {},
     "output_type": "display_data"
    }
   ],
   "source": [
    "plt.style.use(\"seaborn-v0_8\")\n",
    "plt.title(\"Learning Curves\", fontsize=20)\n",
    "plt.plot(np.linspace(1, n_epochs, n_epochs), epoch_loss_list, color=\"C0\", linewidth=2.0, label=\"Train\")\n",
    "plt.plot(\n",
    "    np.linspace(val_interval, n_epochs, int(n_epochs / val_interval)),\n",
    "    val_epoch_loss_list,\n",
    "    color=\"C1\",\n",
    "    linewidth=2.0,\n",
    "    label=\"Validation\",\n",
    ")\n",
    "plt.yticks(fontsize=12)\n",
    "plt.xticks(fontsize=12)\n",
    "plt.xlabel(\"Epochs\", fontsize=16)\n",
    "plt.ylabel(\"Loss\", fontsize=16)\n",
    "plt.legend(prop={\"size\": 14})\n",
    "plt.show()"
   ]
  },
  {
   "cell_type": "markdown",
   "id": "38724c9b",
   "metadata": {},
   "source": [
    "## Sampling Brain Image\n",
    "\n",
    "In order to sample the brain images, we need to pass the model an image containing just noise and use it to remove the noise of the image iteratively. For that, we will use the `.sample()` function of the `inferer`."
   ]
  },
  {
   "cell_type": "code",
   "execution_count": 11,
   "id": "092eb6a0",
   "metadata": {
    "lines_to_next_cell": 2
   },
   "outputs": [
    {
     "name": "stderr",
     "output_type": "stream",
     "text": [
      "100%|██████████████████████████████████████████████████████████████████████████████████████████████████████████████████████████████████████████████████████████████████████████████████████| 1000/1000 [03:45<00:00,  4.44it/s]\n"
     ]
    }
   ],
   "source": [
    "model.eval()\n",
    "noise = torch.randn((1, 1, 32, 40, 32))\n",
    "noise = noise.to(device)\n",
    "scheduler.set_timesteps(num_inference_steps=1000)\n",
    "image = inferer.sample(input_noise=noise, diffusion_model=model, scheduler=scheduler)"
   ]
  },
  {
   "cell_type": "code",
   "execution_count": 12,
   "id": "5dc3e69d",
   "metadata": {},
   "outputs": [
    {
     "data": {
      "image/png": "[encoded data removed]",
      "text/plain": [
       "<Figure size 640x480 with 1 Axes>"
      ]
     },
     "metadata": {},
     "output_type": "display_data"
    }
   ],
   "source": [
    "plt.style.use(\"default\")\n",
    "plotting_image_0 = np.concatenate([image[0, 0, :, :, 15].cpu(), np.flipud(image[0, 0, :, 20, :].cpu().T)], axis=1)\n",
    "plotting_image_1 = np.concatenate([np.flipud(image[0, 0, 15, :, :].cpu().T), np.zeros((32, 32))], axis=1)\n",
    "plt.imshow(np.concatenate([plotting_image_0, plotting_image_1], axis=0), vmin=0, vmax=1, cmap=\"gray\")\n",
    "plt.tight_layout()\n",
    "plt.axis(\"off\")\n",
    "plt.show()"
   ]
  },
  {
   "cell_type": "markdown",
   "id": "f0acc27a",
   "metadata": {},
   "source": [
    "### Sampling with Denoising Diffusion Implicit Model Scheduler\n",
    "\n",
    "Recent papers have proposed different ways to improve the sampling speed by using fewer steps in the denoising process. In this example, we are using a `DDIMScheduler` (from [Song et al. \"Denoising Diffusion Implicit Models\"](https://arxiv.org/abs/2010.02502)) to reduce the original number of steps from 1000 to 250."
   ]
  },
  {
   "cell_type": "code",
   "execution_count": 46,
   "id": "e3e43b95",
   "metadata": {},
   "outputs": [
    {
     "name": "stderr",
     "output_type": "stream",
     "text": [
      "100%|████████████████████████████████████████████████████████████████████████████████████████████████████████████████████████████████████████████████████████████████████████████████████████| 250/250 [00:55<00:00,  4.52it/s]\n"
     ]
    }
   ],
   "source": [
    "scheduler_ddim = DDIMScheduler(\n",
    "    num_train_timesteps=1000, beta_schedule=\"scaled_linear\", beta_start=0.0005, beta_end=0.0195, clip_sample=False\n",
    ")\n",
    "\n",
    "scheduler_ddim.set_timesteps(num_inference_steps=250)\n",
    "\n",
    "model.eval()\n",
    "noise = torch.randn((1, 1, 32, 40, 32))\n",
    "noise = noise.to(device)\n",
    "\n",
    "image = inferer.sample(input_noise=noise, diffusion_model=model, scheduler=scheduler_ddim)"
   ]
  },
  {
   "cell_type": "code",
   "execution_count": 47,
   "id": "89f93ab8",
   "metadata": {},
   "outputs": [
    {
     "data": {
      "image/png": "[encoded data removed]",
      "text/plain": [
       "<Figure size 640x480 with 1 Axes>"
      ]
     },
     "metadata": {},
     "output_type": "display_data"
    }
   ],
   "source": [
    "plt.style.use(\"default\")\n",
    "plotting_image_0 = np.concatenate([image[0, 0, :, :, 15].cpu(), np.flipud(image[0, 0, :, 20, :].cpu().T)], axis=1)\n",
    "plotting_image_1 = np.concatenate([np.flipud(image[0, 0, 15, :, :].cpu().T), np.zeros((32, 32))], axis=1)\n",
    "plt.imshow(np.concatenate([plotting_image_0, plotting_image_1], axis=0), vmin=0, vmax=1, cmap=\"gray\")\n",
    "plt.tight_layout()\n",
    "plt.axis(\"off\")\n",
    "plt.show()"
   ]
  },
  {
   "cell_type": "code",
   "execution_count": null,
   "id": "a39c881c",
   "metadata": {},
   "outputs": [],
   "source": []
  }
 ],
 "metadata": {
  "jupytext": {
   "formats": "py:percent,ipynb"
  },
  "kernelspec": {
   "display_name": "Python 3 (ipykernel)",
   "language": "python",
   "name": "python3"
  },
  "language_info": {
   "codemirror_mode": {
    "name": "ipython",
    "version": 3
   },
   "file_extension": ".py",
   "mimetype": "text/x-python",
   "name": "python",
   "nbconvert_exporter": "python",
   "pygments_lexer": "ipython3",
   "version": "3.10.6"
  }
 },
 "nbformat": 4,
 "nbformat_minor": 5
}
