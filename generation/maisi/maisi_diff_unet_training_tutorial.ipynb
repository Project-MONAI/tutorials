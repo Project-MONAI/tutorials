{
 "cells": [
  {
   "cell_type": "markdown",
   "id": "05fc7b5c",
   "metadata": {},
   "source": [
    "Copyright (c) MONAI Consortium  \n",
    "Licensed under the Apache License, Version 2.0 (the \"License\");  \n",
    "you may not use this file except in compliance with the License.  \n",
    "You may obtain a copy of the License at  \n",
    "&nbsp;&nbsp;&nbsp;&nbsp;http://www.apache.org/licenses/LICENSE-2.0  \n",
    "Unless required by applicable law or agreed to in writing, software  \n",
    "distributed under the License is distributed on an \"AS IS\" BASIS,  \n",
    "WITHOUT WARRANTIES OR CONDITIONS OF ANY KIND, either express or implied.  \n",
    "See the License for the specific language governing permissions and  \n",
    "limitations under the License."
   ]
  },
  {
   "cell_type": "markdown",
   "id": "777b7dcb",
   "metadata": {},
   "source": [
    "# Training a 3D Diffusion Model for Generating 3D Images with Various Sizes and Spacings\n",
    "\n",
    "![Generated image examples](https://developer-blogs.nvidia.com/wp-content/uploads/2024/06/image3.png)\n",
    "\n",
    "In this notebook, we detail the procedure for training a 3D latent diffusion model to generate high-dimensional 3D medical images. Due to the potential for out-of-memory issues on most GPUs when generating large images (e.g., those with dimensions of 512 x 512 x 512 or greater), we have structured the training process into two primary steps: 1) generating image embeddings and 2) training 3D latent diffusion models. The subsequent sections will demonstrate the entire process using a simulated dataset."
   ]
  },
  {
   "cell_type": "markdown",
   "id": "c9ecfb90",
   "metadata": {},
   "source": [
    "## Setup environment"
   ]
  },
  {
   "cell_type": "code",
   "execution_count": 1,
   "id": "58cbde9b",
   "metadata": {},
   "outputs": [],
   "source": [
    "!python -c \"import monai\" || pip install -q \"monai-weekly[pillow, tqdm]\"\n",
    "!python -c \"import xformers\" || pip install -q xformers --index-url https://download.pytorch.org/whl/cu121\n",
    "# The Python package \"xformers\" is essential for improving model training efficiency and saving GPU memory footprints."
   ]
  },
  {
   "cell_type": "markdown",
   "id": "d655b95c",
   "metadata": {},
   "source": [
    "## Setup imports"
   ]
  },
  {
   "cell_type": "code",
   "execution_count": 2,
   "id": "e3bf0346",
   "metadata": {},
   "outputs": [
    {
     "name": "stdout",
     "output_type": "stream",
     "text": [
      "MONAI version: 1.3.1+27.g8cfbcbab\n",
      "Numpy version: 1.26.4\n",
      "Pytorch version: 2.3.1+cu121\n",
      "MONAI flags: HAS_EXT = False, USE_COMPILED = False, USE_META_DICT = False\n",
      "MONAI rev id: 8cfbcbabd1529ef4090fb6f7ffbeef47d6b70cc2\n",
      "MONAI __file__: /localhome/<username>/miniconda3/envs/monai-dev/lib/python3.11/site-packages/monai/__init__.py\n",
      "\n",
      "Optional dependencies:\n",
      "Pytorch Ignite version: 0.4.11\n",
      "ITK version: 5.4.0\n",
      "Nibabel version: 5.2.1\n",
      "scikit-image version: 0.24.0\n",
      "scipy version: 1.13.1\n",
      "Pillow version: 10.3.0\n",
      "Tensorboard version: 2.17.0\n",
      "gdown version: 5.2.0\n",
      "TorchVision version: 0.18.1+cu121\n",
      "tqdm version: 4.66.4\n",
      "lmdb version: 1.4.1\n",
      "psutil version: 6.0.0\n",
      "pandas version: 2.2.2\n",
      "einops version: 0.8.0\n",
      "transformers version: NOT INSTALLED or UNKNOWN VERSION.\n",
      "mlflow version: 2.14.1\n",
      "pynrrd version: 1.0.0\n",
      "clearml version: 1.16.2\n",
      "\n",
      "For details about installing the optional dependencies, please visit:\n",
      "    https://docs.monai.io/en/latest/installation.html#installing-the-recommended-dependencies\n",
      "\n"
     ]
    },
    {
     "name": "stderr",
     "output_type": "stream",
     "text": [
      "The torch.distributed is either unavailable and uninitiated when RankFilter is instantiated.\n",
      "If torch.distributed is used, please ensure that the RankFilter() is called\n",
      "after torch.distributed.init_process_group() in the script.\n",
      "\n"
     ]
    }
   ],
   "source": [
    "from scripts.diff_model_setting import setup_logging\n",
    "import copy\n",
    "import os\n",
    "import json\n",
    "import numpy as np\n",
    "import nibabel as nib\n",
    "import subprocess\n",
    "\n",
    "from monai.data import create_test_image_3d\n",
    "from monai.config import print_config\n",
    "\n",
    "print_config()\n",
    "\n",
    "logger = setup_logging(\"notebook\")"
   ]
  },
  {
   "cell_type": "markdown",
   "id": "d8e29c23",
   "metadata": {},
   "source": [
    "### Simulate a special dataset\n",
    "\n",
    "It is widely recognized that training AI models is a time-intensive process. In this instance, we will simulate a small dataset and conduct training over multiple epochs. While the performance may not reach optimal levels due to the abbreviated training duration, the entire pipeline will be completed within minutes.\n",
    "\n",
    "`sim_datalist` provides the information of the simulated datasets. It lists 2 training images. The size of the dimension is defined by the `sim_dim`."
   ]
  },
  {
   "cell_type": "code",
   "execution_count": 3,
   "id": "fc32a7fe",
   "metadata": {},
   "outputs": [],
   "source": [
    "sim_datalist = {\"training\": [{\"image\": \"tr_image_001.nii.gz\"}, {\"image\": \"tr_image_002.nii.gz\"}]}\n",
    "\n",
    "sim_dim = (224, 224, 96)"
   ]
  },
  {
   "cell_type": "markdown",
   "id": "b9ac7677",
   "metadata": {},
   "source": [
    "### Generate simulated images\n",
    "\n",
    "Now we can use MONAI `create_test_image_3d` and `nib.Nifti1Image` functions to generate the 3D simulated images under the `work_dir`."
   ]
  },
  {
   "cell_type": "code",
   "execution_count": 4,
   "id": "1b199078",
   "metadata": {},
   "outputs": [
    {
     "name": "stderr",
     "output_type": "stream",
     "text": [
      "[2024-07-14 13:39:39.050][ INFO](notebook) - Generated simulated images.\n"
     ]
    }
   ],
   "source": [
    "work_dir = \"./temp_work_dir\"\n",
    "if not os.path.isdir(work_dir):\n",
    "    os.makedirs(work_dir)\n",
    "\n",
    "dataroot_dir = os.path.join(work_dir, \"sim_dataroot\")\n",
    "if not os.path.isdir(dataroot_dir):\n",
    "    os.makedirs(dataroot_dir)\n",
    "\n",
    "datalist_file = os.path.join(work_dir, \"sim_datalist.json\")\n",
    "with open(datalist_file, \"w\") as f:\n",
    "    json.dump(sim_datalist, f)\n",
    "\n",
    "for d in sim_datalist[\"training\"]:\n",
    "    im, _ = create_test_image_3d(\n",
    "        sim_dim[0], sim_dim[1], sim_dim[2], rad_max=10, num_seg_classes=1, random_state=np.random.RandomState(42)\n",
    "    )\n",
    "    image_fpath = os.path.join(dataroot_dir, d[\"image\"])\n",
    "    nib.save(nib.Nifti1Image(im, affine=np.eye(4)), image_fpath)\n",
    "\n",
    "logger.info(\"Generated simulated images.\")"
   ]
  },
  {
   "cell_type": "markdown",
   "id": "c2389853",
   "metadata": {},
   "source": [
    "### Set up directories and configurations\n",
    "\n",
    "To optimize the demonstration for time efficiency, we have adjusted the training epochs to 2. Additionally, we modified the `num_splits` parameter in [AutoencoderKlMaisi](https://github.com/Project-MONAI/MONAI/blob/dev/monai/apps/generation/maisi/networks/autoencoderkl_maisi.py#L873) from its default value of 16 to 4. This adjustment reduces the spatial splitting of feature maps in convolutions, which is particularly beneficial given the smaller input size. (This change helps convert convolutions to a for-loop based approach, thereby conserving GPU memory resources.)"
   ]
  },
  {
   "cell_type": "code",
   "execution_count": 5,
   "id": "6c7b434c",
   "metadata": {},
   "outputs": [
    {
     "name": "stderr",
     "output_type": "stream",
     "text": [
      "[2024-07-14 13:39:39.061][ INFO](notebook) - files and folders under work_dir: ['models', 'sim_datalist.json', 'embeddings', 'config_maisi.json', 'predictions', 'environment_maisi_diff_model.json', 'sim_dataroot', 'config_maisi_diff_model.json'].\n",
      "[2024-07-14 13:39:39.062][ INFO](notebook) - number of GPUs: 1.\n"
     ]
    }
   ],
   "source": [
    "env_config_path = \"./configs/environment_maisi_diff_model.json\"\n",
    "model_config_path = \"./configs/config_maisi_diff_model.json\"\n",
    "model_def_path = \"./configs/config_maisi.json\"\n",
    "\n",
    "# Load environment configuration, model configuration and model definition\n",
    "with open(env_config_path, \"r\") as f:\n",
    "    env_config = json.load(f)\n",
    "\n",
    "with open(model_config_path, \"r\") as f:\n",
    "    model_config = json.load(f)\n",
    "\n",
    "with open(model_def_path, \"r\") as f:\n",
    "    model_def = json.load(f)\n",
    "\n",
    "env_config_out = copy.deepcopy(env_config)\n",
    "model_config_out = copy.deepcopy(model_config)\n",
    "model_def_out = copy.deepcopy(model_def)\n",
    "\n",
    "# Set up directories based on configurations\n",
    "env_config_out[\"data_base_dir\"] = dataroot_dir\n",
    "env_config_out[\"embedding_base_dir\"] = os.path.join(work_dir, env_config_out[\"embedding_base_dir\"])\n",
    "env_config_out[\"json_data_list\"] = datalist_file\n",
    "env_config_out[\"model_dir\"] = os.path.join(work_dir, env_config_out[\"model_dir\"])\n",
    "env_config_out[\"output_dir\"] = os.path.join(work_dir, env_config_out[\"output_dir\"])\n",
    "env_config_out[\"trained_autoencoder_path\"] = None\n",
    "\n",
    "# Create necessary directories\n",
    "os.makedirs(env_config_out[\"embedding_base_dir\"], exist_ok=True)\n",
    "os.makedirs(env_config_out[\"model_dir\"], exist_ok=True)\n",
    "os.makedirs(env_config_out[\"output_dir\"], exist_ok=True)\n",
    "\n",
    "env_config_filepath = os.path.join(work_dir, \"environment_maisi_diff_model.json\")\n",
    "with open(env_config_filepath, \"w\") as f:\n",
    "    json.dump(env_config_out, f, sort_keys=True, indent=4)\n",
    "\n",
    "# Update model configuration for demo\n",
    "max_epochs = 2\n",
    "model_config_out[\"diffusion_unet_train\"][\"n_epochs\"] = max_epochs\n",
    "\n",
    "model_config_filepath = os.path.join(work_dir, \"config_maisi_diff_model.json\")\n",
    "with open(model_config_filepath, \"w\") as f:\n",
    "    json.dump(model_config_out, f, sort_keys=True, indent=4)\n",
    "\n",
    "# Update model definition for demo\n",
    "model_def_out[\"autoencoder_def\"][\"num_splits\"] = 4\n",
    "model_def_filepath = os.path.join(work_dir, \"config_maisi.json\")\n",
    "with open(model_def_filepath, \"w\") as f:\n",
    "    json.dump(model_def_out, f, sort_keys=True, indent=4)\n",
    "\n",
    "# Print files and folders under work_dir\n",
    "logger.info(f\"files and folders under work_dir: {os.listdir(work_dir)}.\")\n",
    "\n",
    "# Adjust based on the number of GPUs you want to use\n",
    "num_gpus = 1\n",
    "logger.info(f\"number of GPUs: {num_gpus}.\")"
   ]
  },
  {
   "cell_type": "code",
   "execution_count": 6,
   "id": "95ea6972",
   "metadata": {},
   "outputs": [],
   "source": [
    "def run_torchrun(module, module_args, num_gpus=1):\n",
    "    # Define the arguments for torchrun\n",
    "    num_nodes = 1\n",
    "\n",
    "    # Build the torchrun command\n",
    "    torchrun_command = [\n",
    "        \"torchrun\",\n",
    "        \"--nproc_per_node\",\n",
    "        str(num_gpus),\n",
    "        \"--nnodes\",\n",
    "        str(num_nodes),\n",
    "        \"-m\",\n",
    "        module,\n",
    "    ] + module_args\n",
    "\n",
    "    # Set the OMP_NUM_THREADS environment variable\n",
    "    env = os.environ.copy()\n",
    "    env[\"OMP_NUM_THREADS\"] = \"1\"\n",
    "\n",
    "    # Execute the command\n",
    "    process = subprocess.Popen(torchrun_command, stdout=subprocess.PIPE, stderr=subprocess.PIPE, text=True, env=env)\n",
    "\n",
    "    # Print the output in real-time\n",
    "    try:\n",
    "        while True:\n",
    "            output = process.stdout.readline()\n",
    "            if output == \"\" and process.poll() is not None:\n",
    "                break\n",
    "            if output:\n",
    "                print(output.strip())\n",
    "    except Exception as e:\n",
    "        print(f\"An error occurred: {e}\")\n",
    "    finally:\n",
    "        # Capture and print any remaining output\n",
    "        stdout, stderr = process.communicate()\n",
    "        print(stdout)\n",
    "        if stderr:\n",
    "            print(stderr)\n",
    "    return"
   ]
  },
  {
   "cell_type": "markdown",
   "id": "1c904f52",
   "metadata": {},
   "source": [
    "## Step 1: Create Training Data\n",
    "\n",
    "To train the latent diffusion model, we first store the latent features produced by the autoencoder's encoder in local storage. This allows the latent diffusion model to directly utilize these features, thereby conserving both time and GPU memory during the training process. Additionally, we have provided the script for multi-GPU processing to save latent features from all training images, significantly accelerating the creation of the entire training set.\n",
    "\n",
    "The diffusion model utilizes a U-shaped convolutional neural network architecture, requiring matching input and output dimensions. Therefore, it is advisable to resample the input image dimensions to be multiples of 2 for compatibility. In this case, we have chosen dimensions that are multiples of 128."
   ]
  },
  {
   "cell_type": "code",
   "execution_count": 7,
   "id": "f45ea863",
   "metadata": {},
   "outputs": [
    {
     "name": "stderr",
     "output_type": "stream",
     "text": [
      "[2024-07-14 13:39:39.072][ INFO](notebook) - Creating training data...\n"
     ]
    },
    {
     "name": "stdout",
     "output_type": "stream",
     "text": [
      "\n",
      "[2024-07-14 13:39:48.124][ INFO](creating training data) - Using device cuda:0\n",
      "[2024-07-14 13:39:48.587][ERROR](creating training data) - The trained_autoencoder_path does not exist!\n",
      "[2024-07-14 13:39:48.587][ INFO](creating training data) - filenames_raw: ['tr_image_001.nii.gz', 'tr_image_002.nii.gz']\n",
      "[2024-07-14 13:39:48.705][ INFO](creating training data) - old dim: [128, 160, 96], old spacing: [1.0, 1.0, 1.0]\n",
      "[2024-07-14 13:39:48.765][ INFO](creating training data) - new dim: (128, 128, 128), new affine: [[ 1.     0.     0.     0.   ]\n",
      " [ 0.     1.25   0.     0.125]\n",
      " [ 0.     0.     0.75  -0.125]\n",
      " [ 0.     0.     0.     1.   ]]\n",
      "[2024-07-14 13:39:48.765][ INFO](creating training data) - out_filename: ./temp_work_dir/./embeddings/tr_image_001_emb.nii.gz\n",
      "[2024-07-14 13:39:49.430][ INFO](creating training data) - z: torch.Size([1, 4, 32, 32, 32]), torch.float32\n",
      "[2024-07-14 13:39:49.546][ INFO](creating training data) - old dim: [128, 160, 96], old spacing: [1.0, 1.0, 1.0]\n",
      "[2024-07-14 13:39:49.603][ INFO](creating training data) - new dim: (128, 128, 128), new affine: [[ 1.     0.     0.     0.   ]\n",
      " [ 0.     1.25   0.     0.125]\n",
      " [ 0.     0.     0.75  -0.125]\n",
      " [ 0.     0.     0.     1.   ]]\n",
      "[2024-07-14 13:39:49.604][ INFO](creating training data) - out_filename: ./temp_work_dir/./embeddings/tr_image_002_emb.nii.gz\n",
      "[2024-07-14 13:39:52.715][ INFO](creating training data) - z: torch.Size([1, 4, 32, 32, 32]), torch.float32\n",
      "\n"
     ]
    }
   ],
   "source": [
    "logger.info(\"Creating training data...\")\n",
    "\n",
    "# Define the arguments for torchrun\n",
    "module = \"scripts.diff_model_create_training_data\"\n",
    "module_args = [\n",
    "    \"--env_config\",\n",
    "    env_config_filepath,\n",
    "    \"--model_config\",\n",
    "    model_config_filepath,\n",
    "    \"--model_def\",\n",
    "    model_def_filepath,\n",
    "]\n",
    "\n",
    "run_torchrun(module, module_args, num_gpus=num_gpus)"
   ]
  },
  {
   "cell_type": "markdown",
   "id": "ec5c0c4a",
   "metadata": {},
   "source": [
    "### Create .json files for embedding files\n",
    "\n",
    "The diffusion model necessitates additional input attributes, including output dimension, output spacing, and top/bottom body region. These dimensions and spacing can be extracted from the header information of the training images. The top and bottom body region inputs can be determined through manual examination or by utilizing segmentation masks from tools such as [TotalSegmentator](https://github.com/wasserth/TotalSegmentator) or [MONAI VISTA](https://github.com/Project-MONAI/VISTA). The body regions are formatted as 4-dimensional one-hot vectors: the head and neck region is represented by [1,0,0,0], the chest region by [0,1,0,0], the abdomen region by [0,0,1,0], and the lower body region (below the abdomen) by [0,0,0,1]. The additional input attributes are saved in a separate .json file. In the following example, we assume that the images cover the chest and abdomen regions."
   ]
  },
  {
   "cell_type": "code",
   "execution_count": 8,
   "id": "0221a658",
   "metadata": {},
   "outputs": [
    {
     "name": "stderr",
     "output_type": "stream",
     "text": [
      "[2024-07-14 13:39:55.677][ INFO](notebook) - data: {'dim': (32, 32, 32), 'spacing': [1.0, 1.25, 0.75], 'top_region_index': [0, 1, 0, 0], 'bottom_region_index': [0, 0, 1, 0]}.\n",
      "[2024-07-14 13:39:55.679][ INFO](notebook) - data: {'dim': (32, 32, 32), 'spacing': [1.0, 1.25, 0.75], 'top_region_index': [0, 1, 0, 0], 'bottom_region_index': [0, 0, 1, 0]}.\n",
      "[2024-07-14 13:39:55.679][ INFO](notebook) - Completed creating .json files for all embedding files.\n"
     ]
    }
   ],
   "source": [
    "def list_gz_files(folder_path):\n",
    "    \"\"\"List all .gz files in the folder and its subfolders.\"\"\"\n",
    "    gz_files = []\n",
    "    for root, _, files in os.walk(folder_path):\n",
    "        for file in files:\n",
    "            if file.endswith(\".gz\"):\n",
    "                gz_files.append(os.path.join(root, file))\n",
    "    return gz_files\n",
    "\n",
    "\n",
    "def create_json_files(gz_files):\n",
    "    \"\"\"Create .json files for each .gz file with the specified keys and values.\"\"\"\n",
    "    for gz_file in gz_files:\n",
    "        # Load the NIfTI image\n",
    "        img = nib.load(gz_file)\n",
    "\n",
    "        # Get the dimensions and spacing\n",
    "        dimensions = img.shape\n",
    "        dimensions = dimensions[:3]\n",
    "        spacing = img.header.get_zooms()[:3]\n",
    "        spacing = spacing[:3]\n",
    "        spacing = [float(_item) for _item in spacing]\n",
    "\n",
    "        # Create the dictionary with the specified keys and values\n",
    "        # The region can be selected from one of four regions from top to bottom.\n",
    "        # [1,0,0,0] is the head and neck, [0,1,0,0] is the chest region, [0,0,1,0]\n",
    "        # is the abdomen region, and [0,0,0,1] is the lower body region.\n",
    "        data = {\n",
    "            \"dim\": dimensions,\n",
    "            \"spacing\": spacing,\n",
    "            \"top_region_index\": [0, 1, 0, 0],  # chest region\n",
    "            \"bottom_region_index\": [0, 0, 1, 0],  # abdomen region\n",
    "        }\n",
    "        logger.info(f\"data: {data}.\")\n",
    "\n",
    "        # Create the .json filename\n",
    "        json_filename = gz_file + \".json\"\n",
    "\n",
    "        # Write the dictionary to the .json file\n",
    "        with open(json_filename, \"w\") as json_file:\n",
    "            json.dump(data, json_file, indent=4)\n",
    "\n",
    "\n",
    "folder_path = env_config_out[\"embedding_base_dir\"]\n",
    "gz_files = list_gz_files(folder_path)\n",
    "create_json_files(gz_files)\n",
    "\n",
    "logger.info(\"Completed creating .json files for all embedding files.\")"
   ]
  },
  {
   "cell_type": "markdown",
   "id": "e81a9e48",
   "metadata": {},
   "source": [
    "## Step 2: Train the Model\n",
    "\n",
    "After all latent features have been created, we will initiate the multi-GPU script to train the latent diffusion model.\n",
    "\n",
    "The image generation process utilizes the [DDPM scheduler](https://arxiv.org/pdf/2006.11239) with 1,000 iterative steps. The diffusion model is optimized using L1 loss and a decayed learning rate scheduler. The batch size for this process is set to 1."
   ]
  },
  {
   "cell_type": "code",
   "execution_count": 9,
   "id": "ade6389d",
   "metadata": {},
   "outputs": [
    {
     "name": "stderr",
     "output_type": "stream",
     "text": [
      "[2024-07-14 13:39:55.683][ INFO](notebook) - Training the model...\n"
     ]
    },
    {
     "name": "stdout",
     "output_type": "stream",
     "text": [
      "\n",
      "[2024-07-14 13:40:03.098][ INFO](training) - Using cuda:0 of 1\n",
      "[2024-07-14 13:40:03.098][ INFO](training) - [config] ckpt_folder -> ./temp_work_dir/./models.\n",
      "[2024-07-14 13:40:03.098][ INFO](training) - [config] data_root -> ./temp_work_dir/./embeddings.\n",
      "[2024-07-14 13:40:03.098][ INFO](training) - [config] data_list -> ./temp_work_dir/sim_datalist.json.\n",
      "[2024-07-14 13:40:03.098][ INFO](training) - [config] lr -> 0.0001.\n",
      "[2024-07-14 13:40:03.098][ INFO](training) - [config] num_epochs -> 2.\n",
      "[2024-07-14 13:40:03.098][ INFO](training) - [config] num_train_timesteps -> 1000.\n",
      "[2024-07-14 13:40:03.098][ INFO](training) - num_files_train: 2\n",
      "[2024-07-14 13:40:07.396][ INFO](training) - Training from scratch.\n",
      "[2024-07-14 13:40:07.721][ INFO](training) - Scaling factor set to 0.8950040340423584.\n",
      "[2024-07-14 13:40:07.722][ INFO](training) - scale_factor -> 0.8950040340423584.\n",
      "[2024-07-14 13:40:07.726][ INFO](training) - torch.set_float32_matmul_precision -> highest.\n",
      "[2024-07-14 13:40:07.726][ INFO](training) - Epoch 1, lr 0.0001.\n",
      "[2024-07-14 13:40:08.760][ INFO](training) - [2024-07-14 13:40:08] epoch 1, iter 1/2, loss: 0.7985, lr: 0.000100000000.\n",
      "[2024-07-14 13:40:08.875][ INFO](training) - [2024-07-14 13:40:08] epoch 1, iter 2/2, loss: 0.7936, lr: 0.000056250000.\n",
      "[2024-07-14 13:40:08.877][ INFO](training) - epoch 1 average loss: 0.7961.\n",
      "[2024-07-14 13:40:09.694][ INFO](training) - Epoch 2, lr 2.5e-05.\n",
      "[2024-07-14 13:40:10.685][ INFO](training) - [2024-07-14 13:40:10] epoch 2, iter 1/2, loss: 0.7902, lr: 0.000025000000.\n",
      "[2024-07-14 13:40:10.799][ INFO](training) - [2024-07-14 13:40:10] epoch 2, iter 2/2, loss: 0.7883, lr: 0.000006250000.\n",
      "[2024-07-14 13:40:10.802][ INFO](training) - epoch 2 average loss: 0.7893.\n",
      "\n"
     ]
    }
   ],
   "source": [
    "logger.info(\"Training the model...\")\n",
    "\n",
    "# Define the arguments for torchrun\n",
    "module = \"scripts.diff_model_train\"\n",
    "module_args = [\n",
    "    \"--env_config\",\n",
    "    env_config_filepath,\n",
    "    \"--model_config\",\n",
    "    model_config_filepath,\n",
    "    \"--model_def\",\n",
    "    model_def_filepath,\n",
    "]\n",
    "\n",
    "run_torchrun(module, module_args, num_gpus=num_gpus)"
   ]
  },
  {
   "cell_type": "markdown",
   "id": "4bdf7b17",
   "metadata": {},
   "source": [
    "## Step 3: Infer using the Trained Model\n",
    "\n",
    "Upon completing the training of the latent diffusion model, we can employ the multi-GPU script to perform inference. By integrating the diffusion model with the autoencoder's decoder, this process will generate 3D images with specified top/bottom body regions, spacing, and dimensions."
   ]
  },
  {
   "cell_type": "code",
   "execution_count": 10,
   "id": "1626526d",
   "metadata": {},
   "outputs": [
    {
     "name": "stderr",
     "output_type": "stream",
     "text": [
      "[2024-07-14 13:40:17.361][ INFO](notebook) - Running inference...\n",
      "[2024-07-14 13:40:43.937][ INFO](notebook) - Completed all steps.\n"
     ]
    },
    {
     "name": "stdout",
     "output_type": "stream",
     "text": [
      "\n",
      "[2024-07-14 13:40:27.140][ INFO](inference) - Using cuda:0 of 1 with random seed: 47698\n",
      "[2024-07-14 13:40:27.140][ INFO](inference) - [config] ckpt_filepath -> ./temp_work_dir/./models/diff_unet_ckpt.pt.\n",
      "[2024-07-14 13:40:27.140][ INFO](inference) - [config] random_seed -> 47698.\n",
      "[2024-07-14 13:40:27.140][ INFO](inference) - [config] output_prefix -> unet_3d.\n",
      "[2024-07-14 13:40:27.140][ INFO](inference) - [config] output_size -> (128, 128, 128).\n",
      "[2024-07-14 13:40:27.140][ INFO](inference) - [config] out_spacing -> (1.0, 1.25, 0.75).\n",
      "[2024-07-14 13:40:27.614][ERROR](inference) - The trained_autoencoder_path does not exist!\n",
      "[2024-07-14 13:40:31.800][ INFO](inference) - checkpoints ./temp_work_dir/./models/diff_unet_ckpt.pt loaded.\n",
      "[2024-07-14 13:40:31.801][ INFO](inference) - scale_factor -> 0.8950040340423584.\n",
      "[2024-07-14 13:40:31.802][ INFO](inference) - num_downsample_level -> 4, divisor -> 4.\n",
      "[2024-07-14 13:40:31.803][ INFO](inference) - noise: cuda:0, torch.float32, <class 'torch.Tensor'>\n",
      "\n",
      "  0%|                                                                                  | 0/10 [00:00<?, ?it/s]\n",
      " 10%|███████▍                                                                  | 1/10 [00:00<00:03,  2.95it/s]\n",
      " 60%|████████████████████████████████████████████▍                             | 6/10 [00:00<00:00, 16.66it/s]\n",
      "100%|█████████████████████████████████████████████████████████████████████████| 10/10 [00:00<00:00, 19.14it/s]\n",
      "[2024-07-14 13:40:37.605][ INFO](inference) - Saved ./temp_work_dir/./predictions/unet_3d_seed47698_size128x128x128_spacing1.00x1.25x0.75_20240714134037.nii.gz.\n",
      "\n"
     ]
    }
   ],
   "source": [
    "logger.info(\"Running inference...\")\n",
    "\n",
    "# Define the arguments for torchrun\n",
    "module = \"scripts.diff_model_infer\"\n",
    "module_args = [\n",
    "    \"--env_config\",\n",
    "    env_config_filepath,\n",
    "    \"--model_config\",\n",
    "    model_config_filepath,\n",
    "    \"--model_def\",\n",
    "    model_def_filepath,\n",
    "]\n",
    "\n",
    "run_torchrun(module, module_args, num_gpus=num_gpus)\n",
    "\n",
    "logger.info(\"Completed all steps.\")"
   ]
  }
 ],
 "metadata": {
  "kernelspec": {
   "display_name": "Python 3 (ipykernel)",
   "language": "python",
   "name": "python3"
  },
  "language_info": {
   "codemirror_mode": {
    "name": "ipython",
    "version": 3
   },
   "file_extension": ".py",
   "mimetype": "text/x-python",
   "name": "python",
   "nbconvert_exporter": "python",
   "pygments_lexer": "ipython3",
   "version": "3.11.9"
  }
 },
 "nbformat": 4,
 "nbformat_minor": 5
}
