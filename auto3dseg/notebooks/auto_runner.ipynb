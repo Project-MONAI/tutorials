{
 "cells": [
  {
   "cell_type": "markdown",
   "metadata": {},
   "source": [
    "# Use AutoRunner to execute Auto3Dseg with minimal inputs"
   ]
  },
  {
   "cell_type": "markdown",
   "metadata": {},
   "source": [
    "## Prepare libraries and download datasets"
   ]
  },
  {
   "cell_type": "code",
   "execution_count": null,
   "metadata": {},
   "outputs": [],
   "source": [
    "import os\n",
    "\n",
    "from monai.apps.auto3dseg import AutoRunner\n",
    "from monai.bundle.config_parser import ConfigParser\n",
    "from monai.apps import download_and_extract"
   ]
  },
  {
   "cell_type": "code",
   "execution_count": null,
   "metadata": {},
   "outputs": [],
   "source": [
    "root = \"./\"\n",
    "msd_task = \"Task05_Prostate\"\n",
    "resource = \"https://msd-for-monai.s3-us-west-2.amazonaws.com/\" + msd_task + \".tar\"\n",
    "compressed_file = os.path.join(root, msd_task + \".tar\")\n",
    "if os.path.exists(root):\n",
    "    download_and_extract(resource, compressed_file, root)"
   ]
  },
  {
   "cell_type": "markdown",
   "metadata": {},
   "source": [
    "## Prepare the input YAML configuration for the datasets"
   ]
  },
  {
   "cell_type": "code",
   "execution_count": null,
   "metadata": {},
   "outputs": [],
   "source": [
    "data_src_cfg = {\n",
    "    \"name\": \"Task05_Prostate\",\n",
    "    \"task\": \"segmentation\",\n",
    "    \"modality\": \"MRI\",\n",
    "    \"datalist\": \"../tasks/msd/Task05_Prostate/msd_task05_prostate_folds.json\",  # data traning, validation, testing splits in a JSON file\n",
    "    \"dataroot\": \"./Task05_Prostate\",  # location of the datasets\n",
    "    \"multigpu\": True,\n",
    "    \"class_names\": [\"val_acc_pz\", \"val_acc_tz\"]\n",
    "}\n",
    "input = './input.yaml'\n",
    "ConfigParser.export_config_file(data_src_cfg, input)"
   ]
  },
  {
   "cell_type": "markdown",
   "metadata": {},
   "source": [
    "## Execute Auto3Dseg pipeline (data analysis, algo generation, training and ensemble) in AutoRunner"
   ]
  },
  {
   "cell_type": "code",
   "execution_count": null,
   "metadata": {},
   "outputs": [],
   "source": [
    "work_dir = \"./work_dir\"\n",
    "runner = AutoRunner(work_dir=work_dir, input=input)\n",
    "runner.run()"
   ]
  },
  {
   "cell_type": "markdown",
   "metadata": {},
   "source": [
    "### Use cached result to save time\n",
    "\n",
    "In the Auto3Dseg, intermediate results are saved by default. The user can choose if they want to use the cached results or restart from scratch.\n",
    "\n",
    "To skip some steps and use cache result, user can use the following arguments:"
   ]
  },
  {
   "cell_type": "code",
   "execution_count": null,
   "metadata": {},
   "outputs": [],
   "source": [
    "# skip analyze and use cache. If there is no cache, AutoRunner will throw error\n",
    "runner = AutoRunner(work_dir=work_dir, input=input, analyze=False, not_use_cache=False)  "
   ]
  },
  {
   "cell_type": "markdown",
   "metadata": {},
   "source": [
    "By default AutoRunner will use cached results in the working directory. If the users want to start from scratch, they can set `not_use_cache` to True"
   ]
  },
  {
   "cell_type": "code",
   "execution_count": null,
   "metadata": {},
   "outputs": [],
   "source": [
    "runner = AutoRunner(work_dir=work_dir, input=input, not_use_cache=True)  "
   ]
  },
  {
   "cell_type": "markdown",
   "metadata": {},
   "source": [
    "### Output Result Formats\n",
    "\n",
    "AutoRunner will perform inference on the testing data specified by the `datalist` in the data source config input. The inference result will be written `ensemble_output` folder under the working directory in the form of `nii.gz`. The user can choose the format by adding keyword arguments to the AutoRunner. A list of argument can be found in https://docs.monai.io/en/stable/transforms.html#saveimage."
   ]
  },
  {
   "cell_type": "code",
   "execution_count": null,
   "metadata": {},
   "outputs": [],
   "source": [
    "runner = AutoRunner(work_dir=work_dir, input=input, output_dir='./output_dir')"
   ]
  },
  {
   "cell_type": "markdown",
   "metadata": {},
   "source": [
    "### Setting Auto3Dseg parameters"
   ]
  },
  {
   "cell_type": "code",
   "execution_count": null,
   "metadata": {},
   "outputs": [],
   "source": [
    "# set number of folds for cross validation\n",
    "runner = AutoRunner(work_dir=work_dir, input=input)\n",
    "runner.set_num_fold(num_fold = 2)"
   ]
  },
  {
   "cell_type": "code",
   "execution_count": null,
   "metadata": {},
   "outputs": [],
   "source": [
    "# set training parameters\n",
    "runner = AutoRunner(work_dir=work_dir, input=input)\n",
    "train_param = {\n",
    "    \"num_iterations\": 8,\n",
    "}\n",
    "runner.set_training_params(params=train_param) \n",
    "\n",
    "# In the segresnet takes \"num_epochs\" instead of \"num_iterations\" for the training parameters.\n"
   ]
  },
  {
   "cell_type": "code",
   "execution_count": null,
   "metadata": {},
   "outputs": [],
   "source": [
    "# set ensemble method\n",
    "runner = AutoRunner(work_dir=work_dir, input=input)\n",
    "runner.set_ensemble_method(ensemble_method_name=\"AlgoEnsembleBestByFold\")"
   ]
  },
  {
   "cell_type": "code",
   "execution_count": null,
   "metadata": {},
   "outputs": [],
   "source": [
    "# set model ensemble method\n",
    "pred_params = {\n",
    "    'files_slices': slice(0,2),  # only infer the first two files in the testing data\n",
    "    'mode': \"vote\",              # use majority vote instead of mean to ensemble the predictions\n",
    "    'sigmoid': True,             # when to use sigmoid to binarize the prediction and output the label\n",
    "}\n",
    "runner = AutoRunner(work_dir=work_dir, input=input)\n",
    "runner.set_prediction_params(params=pred_params)"
   ]
  },
  {
   "cell_type": "markdown",
   "metadata": {},
   "source": [
    "## Train model with HPO (Grid-search)\n",
    "\n",
    "Auto3Dseg supports hyper parameter optimization (HPO) via NNI backends. The user can define a grid search space and automate the HPO. \n",
    "\n",
    "Note: to run the HPO, the `nni` package is required. You can use `pip install nni` to obtain the package."
   ]
  },
  {
   "cell_type": "code",
   "execution_count": null,
   "metadata": {},
   "outputs": [],
   "source": [
    "runner = AutoRunner(work_dir=work_dir, input=input, hpo=True)\n",
    "search_space = {\"learning_rate\": {\"_type\": \"choice\", \"_value\": [0.0001, 0.001, 0.01, 0.1]}}\n",
    "runner.set_nni_search_space(search_space)\n",
    "runner.run()"
   ]
  },
  {
   "cell_type": "markdown",
   "metadata": {},
   "source": []
  }
 ],
 "metadata": {
  "kernelspec": {
   "display_name": "Python 3.8.13 ('base')",
   "language": "python",
   "name": "python3"
  },
  "language_info": {
   "codemirror_mode": {
    "name": "ipython",
    "version": 3
   },
   "file_extension": ".py",
   "mimetype": "text/x-python",
   "name": "python",
   "nbconvert_exporter": "python",
   "pygments_lexer": "ipython3",
   "version": "3.8.13"
  },
  "orig_nbformat": 4,
  "vscode": {
   "interpreter": {
    "hash": "d4d1e4263499bec80672ea0156c357c1ee493ec2b1c70f0acce89fc37c4a6abe"
   }
  }
 },
 "nbformat": 4,
 "nbformat_minor": 2
}
