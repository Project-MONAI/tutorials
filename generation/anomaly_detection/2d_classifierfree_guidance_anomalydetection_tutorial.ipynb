{
 "cells": [
  {
   "metadata": {},
   "cell_type": "markdown",
   "source": [
    "Copyright (c) MONAI Consortium  \n",
    "Licensed under the Apache License, Version 2.0 (the \"License\");  \n",
    "you may not use this file except in compliance with the License.  \n",
    "You may obtain a copy of the License at  \n",
    "&nbsp;&nbsp;&nbsp;&nbsp;http://www.apache.org/licenses/LICENSE-2.0  \n",
    "Unless required by applicable law or agreed to in writing, software  \n",
    "distributed under the License is distributed on an \"AS IS\" BASIS,  \n",
    "WITHOUT WARRANTIES OR CONDITIONS OF ANY KIND, either express or implied.  \n",
    "See the License for the specific language governing permissions and  \n",
    "limitations under the License."
   ],
   "id": "75cc235370d444ab"
  },
  {
   "metadata": {},
   "cell_type": "markdown",
   "source": [
    "# Weakly Supervised Anomaly Detection with Implicit Guidance\n",
    "\n",
    "This tutorial illustrates how to use MONAI Generative Models for training a 2D anomaly detection using DDIMs [1]. By leveraging recent advances in generative diffusion probabilistic models, we synthesize counterfactuals of \"How would a patient appear if X pathology was not present?\". The difference image between the observed patient state and the healthy counterfactual can be used for inferring the location of pathology. We generate counterfactuals that correspond to the minimal change of the input such that it is transformed to healthy domain. We create these counterfactual diffusion models by manipulating the generation process with implicit guidance.\n",
    "\n",
    "In summary, the tutorial will cover the following:\n",
    "1. Loading and preprocessing a dataset (we extract the brain MRI dataset 2D slices from 3D volumes from the BraTS dataset)\n",
    "2. Training a 2D diffusion model\n",
    "3. Anomaly detection with the trained model\n",
    "\n",
    "This method results in anomaly heatmaps. It is weakly supervised. The information about labels is not fed to the model as segmentation masks but as a scalar signal (is there an anomaly or not), which is used to guide the diffusion process.\n",
    "\n",
    "During inference, the model generates a counterfactual image, which is then compared to the original image. The difference between the two images is used to generate an anomaly heatmap.\n",
    "\n",
    "[1] - Sanchez et al. [What is Healthy? Generative Counterfactual Diffusion for Lesion Localization](https://arxiv.org/abs/2207.12268). DGM 4 MICCAI 2022"
   ],
   "id": "63d95da6"
  },
  {
   "metadata": {},
   "cell_type": "markdown",
   "source": "## Setup environment",
   "id": "3e054c148b8aceca"
  },
  {
   "metadata": {},
   "cell_type": "code",
   "outputs": [],
   "execution_count": null,
   "source": [
    "!python -c \"import monai\" || pip install -q \"monai-weekly[tqdm]\"\n",
    "!python -c \"import matplotlib\" || pip install -q matplotlib\n",
    "%matplotlib inline"
   ],
   "id": "130611664cf10de6"
  },
  {
   "cell_type": "markdown",
   "id": "6b766027",
   "metadata": {},
   "source": [
    "## Setup imports"
   ]
  },
  {
   "cell_type": "code",
   "id": "972ed3f3",
   "metadata": {
    "jupyter": {
     "outputs_hidden": false
    },
    "lines_to_next_cell": 2,
    "ExecuteTime": {
     "end_time": "2024-09-06T14:21:24.163260Z",
     "start_time": "2024-09-06T14:21:21.766205Z"
    }
   },
   "source": [
    "import tempfile\n",
    "import time\n",
    "import os\n",
    "import matplotlib.pyplot as plt\n",
    "import numpy as np\n",
    "import torch\n",
    "import torch.nn.functional as F\n",
    "import sys\n",
    "from monai import transforms\n",
    "from monai.apps import DecathlonDataset\n",
    "from monai.config import print_config\n",
    "from monai.data import DataLoader\n",
    "from monai.utils import set_determinism\n",
    "from torch.amp import GradScaler, autocast\n",
    "from tqdm import tqdm\n",
    "\n",
    "from monai.inferers import DiffusionInferer\n",
    "from monai.networks.nets.diffusion_model_unet import DiffusionModelUNet\n",
    "from monai.networks.schedulers.ddim import DDIMScheduler\n",
    "\n",
    "torch.multiprocessing.set_sharing_strategy(\"file_system\")\n",
    "\n",
    "print_config()"
   ],
   "outputs": [
    {
     "name": "stdout",
     "output_type": "stream",
     "text": [
      "MONAI version: 1.4.dev2434\n",
      "Numpy version: 1.26.4\n",
      "Pytorch version: 2.4.0+cu121\n",
      "MONAI flags: HAS_EXT = False, USE_COMPILED = False, USE_META_DICT = False\n",
      "MONAI rev id: dc611d231ba670004b1da1b011fe140375fb91af\n",
      "MONAI __file__: /home/<username>/monaigen-tutorials-v2/venv/lib/python3.11/site-packages/monai/__init__.py\n",
      "\n",
      "Optional dependencies:\n",
      "Pytorch Ignite version: NOT INSTALLED or UNKNOWN VERSION.\n",
      "ITK version: NOT INSTALLED or UNKNOWN VERSION.\n",
      "Nibabel version: 5.2.1\n",
      "scikit-image version: NOT INSTALLED or UNKNOWN VERSION.\n",
      "scipy version: NOT INSTALLED or UNKNOWN VERSION.\n",
      "Pillow version: 10.4.0\n",
      "Tensorboard version: 2.17.1\n",
      "gdown version: NOT INSTALLED or UNKNOWN VERSION.\n",
      "TorchVision version: NOT INSTALLED or UNKNOWN VERSION.\n",
      "tqdm version: 4.66.5\n",
      "lmdb version: NOT INSTALLED or UNKNOWN VERSION.\n",
      "psutil version: 6.0.0\n",
      "pandas version: 2.2.2\n",
      "einops version: 0.8.0\n",
      "transformers version: NOT INSTALLED or UNKNOWN VERSION.\n",
      "mlflow version: NOT INSTALLED or UNKNOWN VERSION.\n",
      "pynrrd version: NOT INSTALLED or UNKNOWN VERSION.\n",
      "clearml version: NOT INSTALLED or UNKNOWN VERSION.\n",
      "\n",
      "For details about installing the optional dependencies, please visit:\n",
      "    https://docs.monai.io/en/latest/installation.html#installing-the-recommended-dependencies\n",
      "\n"
     ]
    }
   ],
   "execution_count": 1
  },
  {
   "cell_type": "markdown",
   "id": "7d4ff515",
   "metadata": {},
   "source": [
    "## Setup data directory"
   ]
  },
  {
   "cell_type": "code",
   "id": "8b4323e7",
   "metadata": {
    "jupyter": {
     "outputs_hidden": false
    },
    "ExecuteTime": {
     "end_time": "2024-09-06T14:21:26.144047Z",
     "start_time": "2024-09-06T14:21:26.140245Z"
    }
   },
   "source": [
    "directory = os.environ.get(\"MONAI_DATA_DIRECTORY\")\n",
    "root_dir = tempfile.mkdtemp() if directory is None else directory"
   ],
   "outputs": [],
   "execution_count": 2
  },
  {
   "cell_type": "markdown",
   "id": "99175d50",
   "metadata": {},
   "source": [
    "## Set deterministic training for reproducibility"
   ]
  },
  {
   "cell_type": "code",
   "id": "34ea510f",
   "metadata": {
    "jupyter": {
     "outputs_hidden": false
    },
    "ExecuteTime": {
     "end_time": "2024-09-06T14:21:29.054463Z",
     "start_time": "2024-09-06T14:21:29.048133Z"
    }
   },
   "source": [
    "set_determinism(42)"
   ],
   "outputs": [],
   "execution_count": 3
  },
  {
   "cell_type": "markdown",
   "id": "c3f70dd1-236a-47ff-a244-575729ad92ba",
   "metadata": {},
   "source": [
    "## Setup BRATS Dataset  - Transforms for extracting 2D slices from 3D volumes\n",
    "\n",
    "We now download the BraTS dataset and extract the 2D slices from the 3D volumes. The `slice_label` is used to indicate whether the slice contains an anomaly or not."
   ]
  },
  {
   "cell_type": "markdown",
   "id": "6986f55c",
   "metadata": {},
   "source": [
    "Here we use transforms to augment the training dataset, as usual:\n",
    "\n",
    "1. `LoadImaged` loads the brain images from files.\n",
    "2. `EnsureChannelFirstd` ensures the original data to construct \"channel first\" shape.\n",
    "3.  The first `Lambdad` transform chooses the first channel of the image, which is the T1-weighted image.\n",
    "4. `Spacingd` resamples the image to the specified voxel spacing, we use 3,3,2 mm to match the original paper.\n",
    "5. `ScaleIntensityRangePercentilesd` Apply range scaling to a numpy array based on the intensity distribution of the input. Transform is very common with MRI images.\n",
    "6. `RandSpatialCropd` randomly crop out a 2D patch from the 3D image.\n",
    "7. The last `Lambdad` transform obtains `slice_label` by summing up the label to have a single scalar value (healthy `=1` or not `=2` )."
   ]
  },
  {
   "cell_type": "code",
   "id": "c68d2d91-9a0b-4ac1-ae49-f4a64edbd82a",
   "metadata": {
    "ExecuteTime": {
     "end_time": "2024-09-06T14:21:31.828905Z",
     "start_time": "2024-09-06T14:21:31.815692Z"
    }
   },
   "source": [
    "channel = 0  # 0 = Flair\n",
    "assert channel in [0, 1, 2, 3], \"Choose a valid channel\"\n",
    "\n",
    "train_transforms = transforms.Compose(\n",
    "    [\n",
    "        transforms.LoadImaged(keys=[\"image\", \"label\"]),\n",
    "        transforms.EnsureChannelFirstd(keys=[\"image\", \"label\"]),\n",
    "        transforms.Lambdad(keys=[\"image\"], func=lambda x: x[channel, :, :, :]),\n",
    "        transforms.EnsureChannelFirstd(channel_dim=\"no_channel\", keys=[\"image\"]),\n",
    "        transforms.EnsureTyped(keys=[\"image\", \"label\"]),\n",
    "        transforms.Orientationd(keys=[\"image\", \"label\"], axcodes=\"RAS\"),\n",
    "        transforms.Spacingd(keys=[\"image\", \"label\"], pixdim=(3.0, 3.0, 2.0), mode=(\"bilinear\", \"nearest\")),\n",
    "        transforms.CenterSpatialCropd(keys=[\"image\", \"label\"], roi_size=(64, 64, 44)),\n",
    "        transforms.ScaleIntensityRangePercentilesd(keys=\"image\", lower=0, upper=99.5, b_min=0, b_max=1),\n",
    "        transforms.RandSpatialCropd(keys=[\"image\", \"label\"], roi_size=(64, 64, 1), random_size=False),\n",
    "        transforms.Lambdad(keys=[\"image\", \"label\"], func=lambda x: x.squeeze(-1)),\n",
    "        transforms.CopyItemsd(keys=[\"label\"], times=1, names=[\"slice_label\"]),\n",
    "        transforms.Lambdad(keys=[\"slice_label\"], func=lambda x: 2.0 if x.sum() > 0 else 1.0),\n",
    "    ]\n",
    ")"
   ],
   "outputs": [],
   "execution_count": 4
  },
  {
   "cell_type": "markdown",
   "id": "9d378ac6",
   "metadata": {},
   "source": [
    "### Load Training and Validation Datasets"
   ]
  },
  {
   "cell_type": "code",
   "id": "da1927b0",
   "metadata": {
    "jupyter": {
     "outputs_hidden": false
    },
    "ExecuteTime": {
     "end_time": "2024-09-06T14:26:08.362446Z",
     "start_time": "2024-09-06T14:21:33.580563Z"
    }
   },
   "source": [
    "train_ds = DecathlonDataset(\n",
    "    root_dir=root_dir,\n",
    "    task=\"Task01_BrainTumour\",\n",
    "    section=\"training\",\n",
    "    cache_rate=1.0,  # you may need a few Gb of RAM... Set to 0 otherwise\n",
    "    num_workers=4,\n",
    "    download=True,  # Set download to True if the dataset hasn't been downloaded yet\n",
    "    seed=0,\n",
    "    transform=train_transforms,\n",
    ")\n",
    "print(f\"Length of training data: {len(train_ds)}\")\n",
    "print(f'Train image shape {train_ds[0][\"image\"].shape}')\n",
    "\n",
    "val_ds = DecathlonDataset(\n",
    "    root_dir=root_dir,\n",
    "    task=\"Task01_BrainTumour\",\n",
    "    section=\"validation\",\n",
    "    cache_rate=1.0,  # you may need a few Gb of RAM... Set to 0 otherwise\n",
    "    num_workers=4,\n",
    "    download=True,  # Set download to True if the dataset hasn't been downloaded yet\n",
    "    seed=0,\n",
    "    transform=train_transforms,\n",
    ")\n",
    "print(f\"Length of training data: {len(val_ds)}\")\n",
    "print(f'Validation Image shape {val_ds[0][\"image\"].shape}')"
   ],
   "outputs": [
    {
     "name": "stdout",
     "output_type": "stream",
     "text": [
      "2024-09-06 15:21:46,961 - INFO - Verified 'Task01_BrainTumour.tar', md5: 240a19d752f0d9e9101544901065d872.\n",
      "2024-09-06 15:21:46,962 - INFO - File exists: /tmp/tmp1c90eu7x/Task01_BrainTumour.tar, skipped downloading.\n",
      "2024-09-06 15:21:46,963 - INFO - Non-empty folder exists in /tmp/tmp1c90eu7x/Task01_BrainTumour, skipped extracting.\n"
     ]
    },
    {
     "name": "stderr",
     "output_type": "stream",
     "text": [
      "Loading dataset: 100%|██████████| 388/388 [03:21<00:00,  1.92it/s]\n"
     ]
    },
    {
     "name": "stdout",
     "output_type": "stream",
     "text": [
      "Length of training data: 388\n",
      "Train image shape torch.Size([1, 64, 64])\n",
      "2024-09-06 15:25:19,477 - INFO - Verified 'Task01_BrainTumour.tar', md5: 240a19d752f0d9e9101544901065d872.\n",
      "2024-09-06 15:25:19,478 - INFO - File exists: /tmp/tmp1c90eu7x/Task01_BrainTumour.tar, skipped downloading.\n",
      "2024-09-06 15:25:19,479 - INFO - Non-empty folder exists in /tmp/tmp1c90eu7x/Task01_BrainTumour, skipped extracting.\n"
     ]
    },
    {
     "name": "stderr",
     "output_type": "stream",
     "text": [
      "Loading dataset: 100%|██████████| 96/96 [00:48<00:00,  1.96it/s]"
     ]
    },
    {
     "name": "stdout",
     "output_type": "stream",
     "text": [
      "Length of training data: 96\n",
      "Validation Image shape torch.Size([1, 64, 64])\n"
     ]
    },
    {
     "name": "stderr",
     "output_type": "stream",
     "text": [
      "\n"
     ]
    }
   ],
   "execution_count": 5
  },
  {
   "cell_type": "markdown",
   "id": "08428bc6",
   "metadata": {},
   "source": [
    "## Define network, scheduler, optimizer, and inferer\n",
    "\n",
    "At this step, we instantiate the MONAI components to create a DDIM, the UNET with conditioning, the noise scheduler, and the inferer used for training and sampling. We are using\n",
    "the deterministic DDIM scheduler containing 1000 timesteps, and a 2D UNET with attention mechanisms.\n",
    "\n",
    "The `attention` mechanism is essential for ensuring good conditioning and images manipulation here.\n",
    "\n",
    "An `embedding layer`, which is also optimised during training, is used in the original work because it was empirically shown to improve conditioning compared to a single scalar information.\n"
   ]
  },
  {
   "cell_type": "code",
   "id": "bee5913e",
   "metadata": {
    "jupyter": {
     "outputs_hidden": false
    },
    "lines_to_next_cell": 2,
    "ExecuteTime": {
     "end_time": "2024-09-06T14:26:23.928114Z",
     "start_time": "2024-09-06T14:26:23.547423Z"
    }
   },
   "source": [
    "device = torch.device(\"cuda\")\n",
    "embedding_dimension = 64\n",
    "model = DiffusionModelUNet(\n",
    "    spatial_dims=2,\n",
    "    in_channels=1,\n",
    "    out_channels=1,\n",
    "    channels=(64, 64, 64),\n",
    "    attention_levels=(False, True, True),\n",
    "    num_res_blocks=1,\n",
    "    num_head_channels=16,\n",
    "    with_conditioning=True,\n",
    "    cross_attention_dim=embedding_dimension,\n",
    ").to(device)\n",
    "embed = torch.nn.Embedding(num_embeddings=3, embedding_dim=embedding_dimension, padding_idx=0).to(device)\n",
    "\n",
    "scheduler = DDIMScheduler(num_train_timesteps=1000)\n",
    "optimizer = torch.optim.Adam(params=list(model.parameters()) + list(embed.parameters()), lr=1e-5)\n",
    "\n",
    "inferer = DiffusionInferer(scheduler)"
   ],
   "outputs": [],
   "execution_count": 6
  },
  {
   "cell_type": "markdown",
   "id": "f815ff34",
   "metadata": {},
   "source": [
    "## Training a diffusion model with classifier-free guidance"
   ]
  },
  {
   "cell_type": "code",
   "id": "9a4fc901",
   "metadata": {
    "ExecuteTime": {
     "end_time": "2024-09-06T15:37:46.751077Z",
     "start_time": "2024-09-06T14:26:25.926214Z"
    }
   },
   "source": [
    "condition_dropout = 0.15\n",
    "max_epochs = 2e4\n",
    "batch_size = 64\n",
    "val_interval = 100\n",
    "iter_loss_list = []\n",
    "val_iter_loss_list = []\n",
    "iterations = []\n",
    "iteration = 0\n",
    "iter_loss = 0\n",
    "\n",
    "train_loader = DataLoader(\n",
    "    train_ds, batch_size=batch_size, shuffle=True, num_workers=4, drop_last=True, persistent_workers=True\n",
    ")\n",
    "val_loader = DataLoader(\n",
    "    val_ds, batch_size=batch_size, shuffle=False, num_workers=4, drop_last=True, persistent_workers=True\n",
    ")\n",
    "\n",
    "scaler = GradScaler()\n",
    "total_start = time.time()\n",
    "\n",
    "while iteration < max_epochs:\n",
    "    for batch in train_loader:\n",
    "        iteration += 1\n",
    "        model.train()\n",
    "        images, classes = batch[\"image\"].to(device), batch[\"slice_label\"].to(device)\n",
    "        # 15% of the time, class conditioning dropout\n",
    "        classes = classes * (torch.rand_like(classes) > condition_dropout)\n",
    "        # cross attention expects shape [batch size, sequence length, channels]\n",
    "        class_embedding = embed(classes.long().to(device)).unsqueeze(1)\n",
    "        optimizer.zero_grad(set_to_none=True)\n",
    "        # pick a random time step t\n",
    "        timesteps = torch.randint(0, 1000, (len(images),)).to(device)\n",
    "\n",
    "        with autocast(enabled=True, device_type=\"cuda\"):\n",
    "            # Generate random noise\n",
    "            noise = torch.randn_like(images).to(device)\n",
    "            # Get model prediction\n",
    "            noise_pred = inferer(\n",
    "                inputs=images, diffusion_model=model, noise=noise, timesteps=timesteps, condition=class_embedding\n",
    "            )\n",
    "            loss = F.mse_loss(noise_pred.float(), noise.float())\n",
    "\n",
    "        scaler.scale(loss).backward()\n",
    "        scaler.step(optimizer)\n",
    "        scaler.update()\n",
    "        iter_loss += loss.item()\n",
    "        sys.stdout.write(f\"Iteration {iteration}/{max_epochs} - train Loss {loss.item():.4f}\" + \"\\r\")\n",
    "        sys.stdout.flush()\n",
    "\n",
    "        if iteration % val_interval == 0:\n",
    "            model.eval()\n",
    "            len_val_loader = len(val_loader)\n",
    "            val_iter_loss = 0\n",
    "            for val_batch in val_loader:\n",
    "                images, classes = val_batch[\"image\"].to(device), val_batch[\"slice_label\"].to(device)\n",
    "                # cross attention expects shape [batch size, sequence length, channels]\n",
    "                class_embedding = embed(classes.long().to(device)).unsqueeze(1)\n",
    "                timesteps = torch.randint(0, 1000, (len(images),)).to(device)\n",
    "                with torch.no_grad():\n",
    "                    with autocast(enabled=True, device_type=\"cuda\"):\n",
    "                        noise = torch.randn_like(images).to(device)\n",
    "                        noise_pred = inferer(\n",
    "                            inputs=images,\n",
    "                            diffusion_model=model,\n",
    "                            noise=noise,\n",
    "                            timesteps=timesteps,\n",
    "                            condition=class_embedding,\n",
    "                        )\n",
    "                        val_loss = F.mse_loss(noise_pred.float(), noise.float())\n",
    "                val_iter_loss += val_loss.item()\n",
    "            iter_loss_list.append(iter_loss / val_interval)\n",
    "            val_iter_loss_list.append(val_iter_loss / len_val_loader)\n",
    "            iterations.append(iteration)\n",
    "            iter_loss = 0\n",
    "            print(\n",
    "                f\"Train Loss {loss.item():.4f}, Interval Loss \"\n",
    "                f\"{iter_loss_list[-1]:.4f}, Interval Loss Val \"\n",
    "                f\"{val_iter_loss_list[-1]:.4f}\"\n",
    "            )\n",
    "\n",
    "\n",
    "total_time = time.time() - total_start\n",
    "\n",
    "print(f\"train diffusion completed, total time: {total_time}.\")\n",
    "\n",
    "plt.style.use(\"default\")\n",
    "plt.title(\"Learning Curves Diffusion Model\", fontsize=20)\n",
    "plt.plot(iterations, iter_loss_list, color=\"C0\", linewidth=2.0, label=\"Train\")\n",
    "plt.plot(iterations, val_iter_loss_list, color=\"C1\", linewidth=2.0, label=\"Validation\")\n",
    "plt.yticks(fontsize=12)\n",
    "plt.xticks(fontsize=12)\n",
    "plt.xlabel(\"Iterations\", fontsize=16)\n",
    "plt.ylabel(\"Loss\", fontsize=16)\n",
    "plt.legend(prop={\"size\": 14})\n",
    "plt.show()"
   ],
   "outputs": [
    {
     "name": "stdout",
     "output_type": "stream",
     "text": [
      "Train Loss 0.8151, Interval Loss 0.9143, Interval Loss Val 0.8126\n",
      "Train Loss 0.6221, Interval Loss 0.7115, Interval Loss Val 0.6187\n",
      "...\n",
      "Train Loss 0.0140, Interval Loss 0.0161, Interval Loss Val 0.0210\n",
      "Train Loss 0.0168, Interval Loss 0.0167, Interval Loss Val 0.0176\n",
      "train diffusion completed, total time: 4280.638695478439.\n"
     ]
    },
    {
     "data": {
      "text/plain": [
       "<Figure size 640x480 with 1 Axes>"
      ],
      "image/png": "[encoded data removed]"
     },
     "metadata": {},
     "output_type": "display_data"
    }
   ],
   "execution_count": 7
  },
  {
   "cell_type": "markdown",
   "id": "fd2b79a4",
   "metadata": {},
   "source": [
    "## Generate synthetic data\n",
    "(Only for verifying the model and classifier guidance is working)"
   ]
  },
  {
   "cell_type": "code",
   "id": "98e17f78",
   "metadata": {
    "ExecuteTime": {
     "end_time": "2024-09-06T15:37:49.015174Z",
     "start_time": "2024-09-06T15:37:46.753620Z"
    }
   },
   "source": [
    "model.eval()\n",
    "scheduler.clip_sample = True\n",
    "guidance_scale = 3\n",
    "conditioning = torch.cat([torch.zeros(1).long(), 2 * torch.ones(1).long()], dim=0).to(\n",
    "    device\n",
    ")  # 2*torch.ones(1).long() is the class label for the UNHEALTHY (tumor) class\n",
    "class_embedding = embed(conditioning).unsqueeze(\n",
    "    1\n",
    ")  # cross attention expects shape [batch size, sequence length, channels]\n",
    "noise = torch.randn((1, 1, 64, 64))\n",
    "noise = noise.to(device)\n",
    "scheduler.set_timesteps(num_inference_steps=100)\n",
    "progress_bar = tqdm(scheduler.timesteps)\n",
    "for t in progress_bar:\n",
    "    with autocast(enabled=True, device_type=\"cuda\"):\n",
    "        with torch.no_grad():\n",
    "            noise_input = torch.cat([noise] * 2)\n",
    "            model_output = model(noise_input, timesteps=torch.Tensor((t,)).to(noise.device), context=class_embedding)\n",
    "            noise_pred_uncond, noise_pred_text = model_output.chunk(2)\n",
    "            noise_pred = noise_pred_uncond + guidance_scale * (noise_pred_text - noise_pred_uncond)\n",
    "\n",
    "    noise, _ = scheduler.step(noise_pred, t, noise)\n",
    "\n",
    "plt.style.use(\"default\")\n",
    "plt.imshow(noise[0, 0].cpu(), vmin=0, vmax=1, cmap=\"gray\")\n",
    "plt.tight_layout()\n",
    "plt.axis(\"off\")\n",
    "plt.show()"
   ],
   "outputs": [
    {
     "name": "stderr",
     "output_type": "stream",
     "text": [
      "100%|██████████| 100/100 [00:02<00:00, 46.00it/s]\n"
     ]
    },
    {
     "data": {
      "text/plain": [
       "<Figure size 640x480 with 1 Axes>"
      ],
      "image/png": "[encoded data removed]"
     },
     "metadata": {},
     "output_type": "display_data"
    }
   ],
   "execution_count": 8
  },
  {
   "cell_type": "markdown",
   "id": "a676b3fe",
   "metadata": {},
   "source": [
    "# Image-to-Image Translation to a Healthy Subject\n",
    "We pick a diseased subject of the validation set as input image. We want to translate it to its healthy reconstruction."
   ]
  },
  {
   "cell_type": "code",
   "id": "fe0d9eac-1477-4d6d-a885-d3c4acb4a781",
   "metadata": {
    "ExecuteTime": {
     "end_time": "2024-09-06T15:37:49.068262Z",
     "start_time": "2024-09-06T15:37:49.016299Z"
    }
   },
   "source": [
    "idx_unhealthy = np.argwhere(val_batch[\"slice_label\"].numpy() == 2).squeeze()\n",
    "\n",
    "idx = idx_unhealthy[4]  # Pick a random slice of the validation set to be transformed\n",
    "inputting = val_batch[\"image\"][idx]  # Pick an input slice of the validation set to be transformed\n",
    "inputlabel = val_batch[\"slice_label\"][idx]  # Check whether it is healthy or diseased\n",
    "\n",
    "plt.figure(\"input\" + str(inputlabel))\n",
    "plt.imshow(inputting[0], vmin=0, vmax=1, cmap=\"gray\")\n",
    "plt.axis(\"off\")\n",
    "plt.tight_layout()\n",
    "plt.show()\n",
    "\n",
    "model.eval()\n",
    "print(\"input label: \", inputlabel.item())"
   ],
   "outputs": [
    {
     "data": {
      "text/plain": [
       "<Figure size 640x480 with 1 Axes>"
      ],
      "image/png": "[encoded data removed]"
     },
     "metadata": {},
     "output_type": "display_data"
    },
    {
     "name": "stdout",
     "output_type": "stream",
     "text": [
      "input label:  2.0\n"
     ]
    }
   ],
   "execution_count": 9
  },
  {
   "cell_type": "markdown",
   "id": "a7c8346a-6296-4800-b978-c10fcdf09779",
   "metadata": {},
   "source": [
    "\n",
    "### The image-to-image translation has two steps\n",
    "\n",
    "1. Encoding the input image into a latent space with the reversed DDIM sampling scheme\n",
    "2. Sampling from the latent space using gradient guidance towards the desired class label `y=1` (healthy)\n",
    "\n",
    "In order to sample using gradient guidance, we first need to encode the input image in noise by using the reversed DDIM sampling scheme.\n",
    "We define the number of steps in the noising and denoising process by `L`."
   ]
  },
  {
   "cell_type": "code",
   "id": "ca28e70c",
   "metadata": {
    "ExecuteTime": {
     "end_time": "2024-09-06T15:37:57.520399Z",
     "start_time": "2024-09-06T15:37:49.069827Z"
    }
   },
   "source": [
    "model.eval()\n",
    "\n",
    "guidance_scale = 3.0\n",
    "total_timesteps = 500\n",
    "latent_space_depth = int(total_timesteps * 0.25)\n",
    "\n",
    "current_img = inputting[None, ...].to(device)\n",
    "scheduler.set_timesteps(num_inference_steps=total_timesteps)\n",
    "\n",
    "# Encoding\n",
    "\n",
    "scheduler.clip_sample = False\n",
    "class_embedding = embed(torch.zeros(1).long().to(device)).unsqueeze(1)\n",
    "progress_bar = tqdm(range(latent_space_depth))\n",
    "for i in progress_bar:  # go through the noising process\n",
    "    t = i\n",
    "    with torch.no_grad():\n",
    "        model_output = model(current_img, timesteps=torch.Tensor((t,)).to(current_img.device), context=class_embedding)\n",
    "    current_img, _ = scheduler.reversed_step(model_output, t, current_img)\n",
    "    progress_bar.set_postfix({\"timestep input\": t})\n",
    "\n",
    "latent_img = current_img\n",
    "\n",
    "# Decoding\n",
    "conditioning = torch.cat([torch.zeros(1).long(), torch.ones(1).long()], dim=0).to(device)\n",
    "class_embedding = embed(conditioning).unsqueeze(1)\n",
    "\n",
    "progress_bar = tqdm(range(latent_space_depth))\n",
    "for i in progress_bar:  # go through the denoising process\n",
    "    t = latent_space_depth - i\n",
    "    current_img_double = torch.cat([current_img] * 2)\n",
    "    with torch.no_grad():\n",
    "        model_output = model(\n",
    "            current_img_double, timesteps=torch.Tensor([t, t]).to(current_img.device), context=class_embedding\n",
    "        )\n",
    "    noise_pred_uncond, noise_pred_text = model_output.chunk(2)\n",
    "    noise_pred = noise_pred_uncond + guidance_scale * (noise_pred_text - noise_pred_uncond)\n",
    "    current_img, _ = scheduler.step(noise_pred, t, current_img)\n",
    "    progress_bar.set_postfix({\"timestep input\": t})\n",
    "    torch.cuda.empty_cache()"
   ],
   "outputs": [
    {
     "name": "stderr",
     "output_type": "stream",
     "text": [
      "100%|██████████| 125/125 [00:04<00:00, 31.09it/s, timestep input=124]\n",
      "100%|██████████| 125/125 [00:04<00:00, 28.30it/s, timestep input=1] \n"
     ]
    }
   ],
   "execution_count": 10
  },
  {
   "cell_type": "markdown",
   "id": "188fe33b",
   "metadata": {},
   "source": [
    "### Visualize anomaly map"
   ]
  },
  {
   "cell_type": "code",
   "id": "502ba4f5",
   "metadata": {
    "ExecuteTime": {
     "end_time": "2024-09-06T15:37:57.772217Z",
     "start_time": "2024-09-06T15:37:57.521555Z"
    }
   },
   "source": [
    "def visualize(img):\n",
    "    _min = img.min()\n",
    "    _max = img.max()\n",
    "    normalized_img = (img - _min) / (_max - _min)\n",
    "    return normalized_img\n",
    "\n",
    "\n",
    "diff = abs(inputting.cpu() - current_img[0].cpu()).detach().numpy()\n",
    "row = 4\n",
    "plt.style.use(\"default\")\n",
    "\n",
    "plt.figure(figsize=(10, 30))\n",
    "\n",
    "ax = plt.subplot(1, row, 2)\n",
    "ax.imshow(latent_img[0, 0].cpu().detach().numpy(), vmin=0, vmax=1, cmap=\"gray\")\n",
    "ax.set_title(\"Latent Image\")\n",
    "plt.tight_layout()\n",
    "plt.axis(\"off\")\n",
    "\n",
    "ax = plt.subplot(1, row, 3)\n",
    "ax.imshow(current_img[0, 0].cpu().detach().numpy(), vmin=0, vmax=1, cmap=\"gray\")\n",
    "ax.set_title(\"Reconstructed \\n Image\")\n",
    "plt.tight_layout()\n",
    "plt.axis(\"off\")\n",
    "\n",
    "\n",
    "ax = plt.subplot(1, row, 4)\n",
    "ax.imshow(diff[0], cmap=\"inferno\")\n",
    "ax.set_title(\"Anomaly Map\")\n",
    "plt.tight_layout()\n",
    "plt.axis(\"off\")\n",
    "\n",
    "ax = plt.subplot(1, row, 1)\n",
    "ax.imshow(inputting[0], vmin=0, vmax=1, cmap=\"gray\")\n",
    "ax.set_title(\"Original Image\")\n",
    "plt.tight_layout()\n",
    "plt.axis(\"off\")\n",
    "plt.show()"
   ],
   "outputs": [
    {
     "data": {
      "text/plain": [
       "<Figure size 1000x3000 with 4 Axes>"
      ],
      "image/png": "[encoded data removed]"
     },
     "metadata": {},
     "output_type": "display_data"
    }
   ],
   "execution_count": 11
  }
 ],
 "metadata": {
  "jupytext": {
   "formats": "py:percent,ipynb"
  },
  "kernelspec": {
   "display_name": "Python 3 (ipykernel)",
   "language": "python",
   "name": "python3"
  },
  "language_info": {
   "codemirror_mode": {
    "name": "ipython",
    "version": 3
   },
   "file_extension": ".py",
   "mimetype": "text/x-python",
   "name": "python",
   "nbconvert_exporter": "python",
   "pygments_lexer": "ipython3",
   "version": "3.10.6"
  },
  "vscode": {
   "interpreter": {
    "hash": "4f1513a79f82193cb81c96943579af15c6a44d6347609348bde584197ab7b1ab"
   }
  }
 },
 "nbformat": 4,
 "nbformat_minor": 5
}
