{
 "cells": [
  {
   "cell_type": "markdown",
   "metadata": {
    "pycharm": {
     "metadata": false
    }
   },
   "source": [
    "# FL client Joining FL experiment \n",
    "\n",
    "The purpose of this notebook is to show how to start clients to participate in an FL experiment."
   ]
  },
  {
   "cell_type": "markdown",
   "metadata": {
    "pycharm": {
     "metadata": false
    }
   },
   "source": [
    "## Prerequisites\n",
    "- A server has been started."
   ]
  },
  {
   "cell_type": "code",
   "execution_count": 1,
   "metadata": {},
   "outputs": [],
   "source": [
    "import os\n",
    "from IPython.display import HTML"
   ]
  },
  {
   "cell_type": "markdown",
   "metadata": {},
   "source": [
    "### Check Working Folder\n",
    "\n",
    "Before starting, let's check if the necessary folder is created:"
   ]
  },
  {
   "cell_type": "code",
   "execution_count": 2,
   "metadata": {},
   "outputs": [
    {
     "name": "stdout",
     "output_type": "stream",
     "text": [
      "a working folder for the client1 exists!!!\n",
      "a working folder for the client2 exists!!!\n"
     ]
    }
   ],
   "source": [
    "client1_name = \"site-1\"\n",
    "client2_name = \"site-2\"\n",
    "\n",
    "client1_startup_path = \"poc/{}/startup\".format(client1_name)\n",
    "client2_startup_path = \"poc/{}/startup\".format(client2_name)\n",
    "\n",
    "if os.path.exists(client1_startup_path):\n",
    "    print(\"a working folder for the client1 exists!!!\")\n",
    "if os.path.exists(client2_startup_path):\n",
    "    print(\"a working folder for the client2 exists!!!\")"
   ]
  },
  {
   "cell_type": "markdown",
   "metadata": {},
   "source": [
    "Then, let's check the catalogue:"
   ]
  },
  {
   "cell_type": "code",
   "execution_count": 3,
   "metadata": {},
   "outputs": [
    {
     "data": {
      "text/plain": [
       "['log.config', 'fed_client.json', 'sub_start.sh', 'start.sh', 'stop_fl.sh']"
      ]
     },
     "execution_count": 3,
     "metadata": {},
     "output_type": "execute_result"
    }
   ],
   "source": [
    "os.listdir(client1_startup_path)"
   ]
  },
  {
   "cell_type": "code",
   "execution_count": 4,
   "metadata": {},
   "outputs": [
    {
     "data": {
      "text/plain": [
       "['log.config', 'fed_client.json', 'sub_start.sh', 'start.sh', 'stop_fl.sh']"
      ]
     },
     "execution_count": 4,
     "metadata": {},
     "output_type": "execute_result"
    }
   ],
   "source": [
    "os.listdir(client2_startup_path)"
   ]
  },
  {
   "cell_type": "markdown",
   "metadata": {},
   "source": [
    "As we can see, a script named `start.sh` is in the path, to start a client, we only need to run this script."
   ]
  },
  {
   "cell_type": "markdown",
   "metadata": {
    "tags": []
   },
   "source": [
    "### (Optional) Assign GPU"
   ]
  },
  {
   "cell_type": "markdown",
   "metadata": {},
   "source": [
    "If you'd like to assigin GPU(s) for a client, please modify the script first. For example, if you'd like to assign GPU 1, the following line should be added into the script:\n",
    "\n",
    "`export CUDA_VISIBLE_DEVICES=1`\n",
    "\n",
    "[Please click here to edit for client 1](poc/site-1/startup/start.sh)\n",
    "\n",
    "[Please click here to edit for client 2](poc/site-2/startup/start.sh)"
   ]
  },
  {
   "cell_type": "markdown",
   "metadata": {},
   "source": [
    "### Start Clients"
   ]
  },
  {
   "cell_type": "markdown",
   "metadata": {},
   "source": [
    "Please open a new terminal (please run the following cell and click the link):"
   ]
  },
  {
   "cell_type": "code",
   "execution_count": 5,
   "metadata": {},
   "outputs": [
    {
     "data": {
      "text/html": [
       "<a href=\"\", data-commandlinker-command=\"terminal:create-new\"> Open a new terminal</a>"
      ],
      "text/plain": [
       "<IPython.core.display.HTML object>"
      ]
     },
     "execution_count": 5,
     "metadata": {},
     "output_type": "execute_result"
    }
   ],
   "source": [
    "# You can click the following link, or manually open a new terminal.\n",
    "HTML('<a href=\"\", data-commandlinker-command=\"terminal:create-new\"> Open a new terminal</a>')"
   ]
  },
  {
   "cell_type": "markdown",
   "metadata": {},
   "source": [
    "In the terminal, please run the following command to start client `site-1` and `site-2` (two terminals are needed):"
   ]
  },
  {
   "cell_type": "markdown",
   "metadata": {},
   "source": [
    "```\n",
    "source nvflare-env/bin/activate\n",
    "bash poc/site-1/startup/start.sh localhost site-1\n",
    "```\n",
    "and\n",
    "```\n",
    "source nvflare-env/bin/activate\n",
    "bash poc/site-2/startup/start.sh localhost site-2\n",
    "```"
   ]
  },
  {
   "cell_type": "markdown",
   "metadata": {},
   "source": [
    "### (Optional) Close Client\n",
    "\n",
    "Except using admin, you can close the started client(s) directly via run the following command:\n",
    "\n",
    "```\n",
    "bash poc/site-1/startup/stop_fl.sh\n",
    "bash poc/site-2/startup/stop_fl.sh\n",
    "```"
   ]
  },
  {
   "cell_type": "markdown",
   "metadata": {},
   "source": [
    "### Next Steps\n",
    "\n",
    "You have now started two client containers.\n",
    "In the next notebook, [Admin Startup Notebook](3-Admin.ipynb), you'll start an admin participating in the FL experiment."
   ]
  }
 ],
 "metadata": {
  "kernelspec": {
   "display_name": "Python 3 (ipykernel)",
   "language": "python",
   "name": "python3"
  },
  "language_info": {
   "codemirror_mode": {
    "name": "ipython",
    "version": 3
   },
   "file_extension": ".py",
   "mimetype": "text/x-python",
   "name": "python",
   "nbconvert_exporter": "python",
   "pygments_lexer": "ipython3",
   "version": "3.8.10"
  },
  "stem_cell": {
   "cell_type": "raw",
   "metadata": {
    "pycharm": {
     "metadata": false
    }
   },
   "source": ""
  }
 },
 "nbformat": 4,
 "nbformat_minor": 4
}
