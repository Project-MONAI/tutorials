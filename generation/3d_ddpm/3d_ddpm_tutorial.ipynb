{
    "cells": [
        {
            "cell_type": "code",
            "execution_count": 1,
            "id": "fa57bdf5",
            "metadata": {},
            "outputs": [],
            "source": [
                "# Copyright (c) MONAI Consortium\n",
                "# Licensed under the Apache License, Version 2.0 (the \"License\");\n",
                "# you may not use this file except in compliance with the License.\n",
                "# You may obtain a copy of the License at\n",
                "#     http://www.apache.org/licenses/LICENSE-2.0\n",
                "# Unless required by applicable law or agreed to in writing, software\n",
                "# distributed under the License is distributed on an \"AS IS\" BASIS,\n",
                "# WITHOUT WARRANTIES OR CONDITIONS OF ANY KIND, either express or implied.\n",
                "# See the License for the specific language governing permissions and\n",
                "# limitations under the License."
            ]
        },
        {
            "cell_type": "markdown",
            "id": "6286986e",
            "metadata": {},
            "source": [
                "# Denoising Diffusion Probabilistic Model on 3D data\n",
                "\n",
                "This tutorial illustrates how to use MONAI for training a denoising diffusion probabilistic model (DDPM)[1] to create synthetic 3D images.\n",
                "\n",
                "[1] - [Ho et al. \"Denoising Diffusion Probabilistic Models\"](https://arxiv.org/abs/2006.11239)\n",
                "\n",
                "\n",
                "## Setup environment"
            ]
        },
        {
            "cell_type": "code",
            "execution_count": 2,
            "id": "f96b6f31",
            "metadata": {},
            "outputs": [],
            "source": [
                "!python -c \"import monai\" || pip install -q \"monai-weekly[nibabel, tqdm]\"\n",
                "!python -c \"import matplotlib\" || pip install -q matplotlib\n",
                "%matplotlib inline"
            ]
        },
        {
            "cell_type": "markdown",
            "id": "cbc01d24",
            "metadata": {},
            "source": [
                "## Setup imports"
            ]
        },
        {
            "cell_type": "code",
            "execution_count": 1,
            "id": "cdea37d5",
            "metadata": {},
            "outputs": [
                {
                    "name": "stderr",
                    "output_type": "stream",
                    "text": [
                        "IProgress not found. Please update jupyter and ipywidgets. See https://ipywidgets.readthedocs.io/en/stable/user_install.html\n"
                    ]
                },
                {
                    "name": "stdout",
                    "output_type": "stream",
                    "text": [
                        "MONAI version: 1.4.0rc6\n",
                        "Numpy version: 1.26.4\n",
                        "Pytorch version: 2.3.1+cu121\n",
                        "MONAI flags: HAS_EXT = False, USE_COMPILED = False, USE_META_DICT = False\n",
                        "MONAI rev id: 6a0e1b043ba2890e1463fa49df76f66e56a68b08\n",
                        "MONAI __file__: /home/<username>/miniconda3/envs/monai/lib/python3.11/site-packages/monai/__init__.py\n",
                        "\n",
                        "Optional dependencies:\n",
                        "Pytorch Ignite version: 0.4.11\n",
                        "ITK version: 5.4.0\n",
                        "Nibabel version: 5.2.1\n",
                        "scikit-image version: 0.23.2\n",
                        "scipy version: 1.13.1\n",
                        "Pillow version: 10.3.0\n",
                        "Tensorboard version: 2.17.0\n",
                        "gdown version: 5.2.0\n",
                        "TorchVision version: 0.18.1+cu121\n",
                        "tqdm version: 4.66.4\n",
                        "lmdb version: 1.4.1\n",
                        "psutil version: 5.9.0\n",
                        "pandas version: 2.2.2\n",
                        "einops version: 0.8.0\n",
                        "transformers version: NOT INSTALLED or UNKNOWN VERSION.\n",
                        "mlflow version: 2.14.0\n",
                        "pynrrd version: 1.0.0\n",
                        "clearml version: 1.16.2rc0\n",
                        "\n",
                        "For details about installing the optional dependencies, please visit:\n",
                        "    https://docs.monai.io/en/latest/installation.html#installing-the-recommended-dependencies\n",
                        "\n"
                    ]
                }
            ],
            "source": [
                "import os\n",
                "import tempfile\n",
                "import time\n",
                "\n",
                "import matplotlib.pyplot as plt\n",
                "import numpy as np\n",
                "import torch\n",
                "import torch.nn.functional as F\n",
                "from torch.amp import GradScaler, autocast\n",
                "from tqdm import tqdm\n",
                "\n",
                "from monai.apps import DecathlonDataset\n",
                "from monai.config import print_config\n",
                "from monai.data import DataLoader\n",
                "from monai.transforms import (\n",
                "    EnsureChannelFirstd,\n",
                "    CenterSpatialCropd,\n",
                "    Compose,\n",
                "    Lambdad,\n",
                "    LoadImaged,\n",
                "    Resized,\n",
                "    ScaleIntensityd,\n",
                ")\n",
                "from monai.utils import set_determinism\n",
                "from monai.inferers import DiffusionInferer\n",
                "from monai.networks.nets import DiffusionModelUNet\n",
                "from monai.networks.schedulers import DDPMScheduler, DDIMScheduler\n",
                "\n",
                "print_config()"
            ]
        },
        {
            "cell_type": "markdown",
            "id": "50e37a43",
            "metadata": {},
            "source": [
                "## Setup data directory\n",
                "\n",
                "You can specify a directory with the MONAI_DATA_DIRECTORY environment variable.\n",
                "\n",
                "This allows you to save results and reuse downloads.\n",
                "\n",
                "If not specified a temporary directory will be used."
            ]
        },
        {
            "cell_type": "code",
            "execution_count": 4,
            "id": "c38b4c33",
            "metadata": {},
            "outputs": [],
            "source": [
                "directory = os.path.abspath(\"./data\") #os.environ.get(\"MONAI_DATA_DIRECTORY\")\n",
                "root_dir = tempfile.mkdtemp() if directory is None else directory\n",
                "# print(root_dir)"
            ]
        },
        {
            "cell_type": "markdown",
            "id": "41af1391",
            "metadata": {},
            "source": [
                "## Set deterministic training for reproducibility"
            ]
        },
        {
            "cell_type": "code",
            "execution_count": 3,
            "id": "515d8583",
            "metadata": {},
            "outputs": [],
            "source": [
                "set_determinism(42)"
            ]
        },
        {
            "cell_type": "markdown",
            "id": "29d8c601",
            "metadata": {},
            "source": [
                "## Setup Decathlon Dataset and training and validation data loaders\n",
                "\n",
                "In this tutorial, we will use the 3D T1 weighted brain images from the [2016 and 2017 Brain Tumor Segmentation (BraTS) challenges](https://www.med.upenn.edu/sbia/brats2017/data.html). This dataset can be easily downloaded using the [DecathlonDataset](https://docs.monai.io/en/stable/apps.html#monai.apps.DecathlonDataset) from MONAI (`task=\"Task01_BrainTumour\"`). To load the training and validation images, we are using the `data_transform` transformations that are responsible for the following:\n",
                "\n",
                "1. `LoadImaged`:  Loads the brain images from files.\n",
                "2. `Lambdad`: Choose channel 1 of the image, which is the T1-weighted image.\n",
                "3. `EnsureChannelFirstd`: Add the channel dimension of the input data.\n",
                "4. `ScaleIntensityd`: Apply a min-max scaling in the intensity values of each image to be in the `[0, 1]` range.\n",
                "5. `CenterSpatialCropd`: Crop the background of the images using a roi of size `[160, 200, 155]`.\n",
                "6. `Resized`: Resize the images to a volume with size `[32, 40, 32]`.\n",
                "\n",
                "For the data loader, we are using mini-batches of 8 images, which consumes about 21GB of GPU memory during training. Please, reduce this value to run on smaller GPUs."
            ]
        },
        {
            "cell_type": "code",
            "execution_count": 5,
            "id": "f640d7ac",
            "metadata": {},
            "outputs": [],
            "source": [
                "data_transform = Compose(\n",
                "    [\n",
                "        LoadImaged(keys=[\"image\"]),\n",
                "        Lambdad(keys=\"image\", func=lambda x: x[:, :, :, 1]),\n",
                "        EnsureChannelFirstd(keys=[\"image\"], channel_dim=\"no_channel\"),\n",
                "        ScaleIntensityd(keys=[\"image\"]),\n",
                "        CenterSpatialCropd(keys=[\"image\"], roi_size=[160, 200, 155]),\n",
                "        Resized(keys=[\"image\"], spatial_size=(32, 40, 32)),\n",
                "    ]\n",
                ")"
            ]
        },
        {
            "cell_type": "code",
            "execution_count": 6,
            "id": "ddd61e60",
            "metadata": {
                "lines_to_next_cell": 2
            },
            "outputs": [
                {
                    "name": "stdout",
                    "output_type": "stream",
                    "text": [
                        "2024-09-03 18:10:10,352 - INFO - Verified 'Task01_BrainTumour.tar', md5: 240a19d752f0d9e9101544901065d872.\n",
                        "2024-09-03 18:10:10,355 - INFO - File exists: /home/ek10/tutorials_mine/generation/3d_ddpm/data/Task01_BrainTumour.tar, skipped downloading.\n",
                        "2024-09-03 18:10:10,357 - INFO - Non-empty folder exists in /home/ek10/tutorials_mine/generation/3d_ddpm/data/Task01_BrainTumour, skipped extracting.\n"
                    ]
                },
                {
                    "name": "stderr",
                    "output_type": "stream",
                    "text": [
                        "Loading dataset: 100%|██████████| 388/388 [04:49<00:00,  1.34it/s]\n"
                    ]
                },
                {
                    "name": "stdout",
                    "output_type": "stream",
                    "text": [
                        "2024-09-03 18:15:14,606 - INFO - Verified 'Task01_BrainTumour.tar', md5: 240a19d752f0d9e9101544901065d872.\n",
                        "2024-09-03 18:15:14,607 - INFO - File exists: /home/ek10/tutorials_mine/generation/3d_ddpm/data/Task01_BrainTumour.tar, skipped downloading.\n",
                        "2024-09-03 18:15:14,609 - INFO - Non-empty folder exists in /home/ek10/tutorials_mine/generation/3d_ddpm/data/Task01_BrainTumour, skipped extracting.\n"
                    ]
                },
                {
                    "name": "stderr",
                    "output_type": "stream",
                    "text": [
                        "Loading dataset: 100%|██████████| 96/96 [01:13<00:00,  1.30it/s]\n"
                    ]
                }
            ],
            "source": [
                "batch_size = 8\n",
                "num_workers = 8\n",
                "\n",
                "train_ds = DecathlonDataset(\n",
                "    root_dir=root_dir, task=\"Task01_BrainTumour\", transform=data_transform, section=\"training\", download=True\n",
                ")\n",
                "\n",
                "train_loader = DataLoader(\n",
                "    train_ds, batch_size=batch_size, shuffle=True, num_workers=num_workers, persistent_workers=True\n",
                ")\n",
                "\n",
                "val_ds = DecathlonDataset(\n",
                "    root_dir=root_dir, task=\"Task01_BrainTumour\", transform=data_transform, section=\"validation\", download=True\n",
                ")\n",
                "\n",
                "val_loader = DataLoader(val_ds, batch_size=batch_size, shuffle=False, num_workers=num_workers, persistent_workers=True)"
            ]
        },
        {
            "cell_type": "markdown",
            "id": "50efe5ef",
            "metadata": {},
            "source": [
                "### Visualization of the training images"
            ]
        },
        {
            "cell_type": "code",
            "execution_count": 10,
            "id": "bffb4abc",
            "metadata": {},
            "outputs": [
                {
                    "data": {
                        "image/png": "[encoded data removed]",
                        "text/plain": [
                            "<Figure size 1000x600 with 4 Axes>"
                        ]
                    },
                    "metadata": {},
                    "output_type": "display_data"
                }
            ],
            "source": [
                "plt.subplots(1, 4, figsize=(10, 6))\n",
                "for i in range(4):\n",
                "    plt.subplot(1, 4, i + 1)\n",
                "    plt.imshow(train_ds[i * 20][\"image\"][0, :, :, 15].detach().cpu(), vmin=0, vmax=1, cmap=\"gray\")\n",
                "    plt.axis(\"off\")\n",
                "plt.tight_layout()\n",
                "plt.show()"
            ]
        },
        {
            "cell_type": "markdown",
            "id": "d22296e5",
            "metadata": {},
            "source": [
                "### Define network, scheduler, optimizer, and inferer\n",
                "\n",
                "We will use a DDPM in this example; for that, we need to define a `DiffusionModelUNet` network that will have as input the noisy images and the values for the timestep `t`, and it will predict the noise that is present in the image.\n",
                "\n",
                "In this example, we have a network with three levels (with 256, 256, and 512 channels in each). In every level, we will have two residual blocks, and only the last one will have an attention block with a single attention head (with 512 channels)."
            ]
        },
        {
            "cell_type": "code",
            "execution_count": 11,
            "id": "d499f7b1",
            "metadata": {
                "lines_to_next_cell": 2
            },
            "outputs": [],
            "source": [
                "device = torch.device(\"cuda\")\n",
                "\n",
                "model = DiffusionModelUNet(\n",
                "    spatial_dims=3,\n",
                "    in_channels=1,\n",
                "    out_channels=1,\n",
                "    channels=[256, 256, 512],\n",
                "    attention_levels=[False, False, True],\n",
                "    num_head_channels=[0, 0, 512],\n",
                "    num_res_blocks=2,\n",
                ").to(device)"
            ]
        },
        {
            "cell_type": "markdown",
            "id": "47ad91ff",
            "metadata": {},
            "source": [
                "Together with our U-net, we need to define the Noise Scheduler for the diffusion model. This scheduler is responsible for defining the amount of noise that should be added in each timestep `t` of the diffusion model's Markov chain. Besides that, it has the operations to perform the reverse process, which will remove the noise of the images (a.k.a. denoising process). In this case, we are using a `DDPMScheduler`. Here we are using 1000 timesteps and a `scaled_linear` profile for the beta values (proposed in [Rombach et al. \"High-Resolution Image Synthesis with Latent Diffusion Models\"](https://arxiv.org/abs/2112.10752)). This profile had better results than the `linear, proposed in the original DDPM's paper. In `beta_start` and `beta_end`, we define the limits for the beta values. These are important to determine how accentuated is the addition of noise in the image."
            ]
        },
        {
            "cell_type": "code",
            "execution_count": 12,
            "id": "6c1de5ad",
            "metadata": {},
            "outputs": [],
            "source": [
                "num_train_timesteps = 1000\n",
                "scheduler = DDPMScheduler(\n",
                "    num_train_timesteps=num_train_timesteps, schedule=\"scaled_linear_beta\", beta_start=0.0005, beta_end=0.0195\n",
                ")"
            ]
        },
        {
            "cell_type": "code",
            "execution_count": 14,
            "id": "36d3e99a",
            "metadata": {},
            "outputs": [
                {
                    "data": {
                        "text/plain": [
                            "Text(0, 0.5, 'alpha cumprod')"
                        ]
                    },
                    "execution_count": 14,
                    "metadata": {},
                    "output_type": "execute_result"
                },
                {
                    "data": {
                        "image/png": "[encoded data removed]",
                        "text/plain": [
                            "<Figure size 640x480 with 1 Axes>"
                        ]
                    },
                    "metadata": {},
                    "output_type": "display_data"
                }
            ],
            "source": [
                "plt.plot(scheduler.alphas_cumprod.cpu(), color=(2 / 255, 163 / 255, 163 / 255), linewidth=2)\n",
                "plt.xlabel(\"Timestep [t]\")\n",
                "plt.ylabel(\"alpha cumprod\")"
            ]
        },
        {
            "cell_type": "markdown",
            "id": "9125f7c8",
            "metadata": {},
            "source": [
                "Finally, we define the Inferer, which contains functions that will help during the training and sampling of the model, and the optimizer."
            ]
        },
        {
            "cell_type": "code",
            "execution_count": 15,
            "id": "8685da6e",
            "metadata": {},
            "outputs": [],
            "source": [
                "inferer = DiffusionInferer(scheduler)\n",
                "optimizer = torch.optim.Adam(params=model.parameters(), lr=5e-5)"
            ]
        },
        {
            "cell_type": "markdown",
            "id": "9f371ad8",
            "metadata": {},
            "source": [
                "## Model training\n",
                "\n",
                "In this part, we will train the diffusion model to predict the noise added to the images. For this, we are using an MSE loss between the prediction and the original noise. During the training, we are also sampling brain images to evaluate the evolution of the model. In this training, we use Automatic Mixed Precision to save memory and speed up the training."
            ]
        },
        {
            "cell_type": "code",
            "execution_count": 17,
            "id": "bd10b595",
            "metadata": {
                "lines_to_next_cell": 0
            },
            "outputs": [
                {
                    "name": "stderr",
                    "output_type": "stream",
                    "text": [
                        "Epoch 0: 100%|████████████| 49/49 [00:44<00:00,  1.10it/s, loss=0.263]\n",
                        "Epoch 1: 100%|███████████| 49/49 [00:44<00:00,  1.11it/s, loss=0.0263]\n",
                        "Epoch 2: 100%|███████████| 49/49 [00:44<00:00,  1.11it/s, loss=0.0137]\n",
                        "Epoch 3: 100%|███████████| 49/49 [00:44<00:00,  1.11it/s, loss=0.0132]\n",
                        "Epoch 4: 100%|███████████| 49/49 [00:43<00:00,  1.12it/s, loss=0.0114]\n",
                        "Epoch 5: 100%|███████████| 49/49 [00:43<00:00,  1.12it/s, loss=0.0114]\n",
                        "Epoch 6: 100%|██████████| 49/49 [00:43<00:00,  1.12it/s, loss=0.00695]\n",
                        "Epoch 7: 100%|██████████| 49/49 [00:43<00:00,  1.12it/s, loss=0.00771]\n",
                        "Epoch 8: 100%|███████████| 49/49 [00:43<00:00,  1.12it/s, loss=0.0106]\n",
                        "Epoch 9: 100%|██████████| 49/49 [00:43<00:00,  1.12it/s, loss=0.00995]\n",
                        "Epoch 10: 100%|█████████| 49/49 [00:43<00:00,  1.12it/s, loss=0.00615]\n",
                        "Epoch 11: 100%|█████████| 49/49 [00:43<00:00,  1.12it/s, loss=0.00768]\n",
                        "Epoch 12: 100%|█████████| 49/49 [00:43<00:00,  1.12it/s, loss=0.00711]\n",
                        "Epoch 13: 100%|█████████| 49/49 [00:43<00:00,  1.12it/s, loss=0.00755]\n",
                        "Epoch 14: 100%|█████████| 49/49 [00:43<00:00,  1.12it/s, loss=0.00628]\n",
                        "Epoch 15: 100%|█████████| 49/49 [00:43<00:00,  1.12it/s, loss=0.00723]\n",
                        "Epoch 16: 100%|█████████| 49/49 [00:43<00:00,  1.12it/s, loss=0.00786]\n",
                        "Epoch 17: 100%|█████████| 49/49 [00:43<00:00,  1.12it/s, loss=0.00665]\n",
                        "Epoch 18: 100%|██████████| 49/49 [00:43<00:00,  1.12it/s, loss=0.0063]\n",
                        "Epoch 19: 100%|██████████| 49/49 [00:43<00:00,  1.12it/s, loss=0.0057]\n",
                        "Epoch 20: 100%|█████████| 49/49 [00:43<00:00,  1.12it/s, loss=0.00712]\n",
                        "Epoch 21: 100%|█████████| 49/49 [00:43<00:00,  1.12it/s, loss=0.00584]\n",
                        "Epoch 22: 100%|█████████| 49/49 [00:43<00:00,  1.12it/s, loss=0.00537]\n",
                        "Epoch 23: 100%|█████████| 49/49 [00:43<00:00,  1.12it/s, loss=0.00619]\n",
                        "Epoch 24: 100%|█████████| 49/49 [00:43<00:00,  1.12it/s, loss=0.00543]\n",
                        "100%|██████████| 1000/1000 [00:44<00:00, 22.24it/s]\n"
                    ]
                },
                {
                    "data": {
                        "image/png": "[encoded data removed]",
                        "text/plain": [
                            "<Figure size 200x200 with 1 Axes>"
                        ]
                    },
                    "metadata": {},
                    "output_type": "display_data"
                },
                {
                    "name": "stderr",
                    "output_type": "stream",
                    "text": [
                        "Epoch 25: 100%|█████████| 49/49 [00:43<00:00,  1.12it/s, loss=0.00601]\n",
                        "Epoch 26: 100%|█████████| 49/49 [00:43<00:00,  1.12it/s, loss=0.00569]\n",
                        "Epoch 27: 100%|██████████| 49/49 [00:43<00:00,  1.12it/s, loss=0.0049]\n",
                        "Epoch 28: 100%|█████████| 49/49 [00:43<00:00,  1.12it/s, loss=0.00549]\n",
                        "Epoch 29: 100%|██████████| 49/49 [00:43<00:00,  1.12it/s, loss=0.0058]\n",
                        "Epoch 30: 100%|█████████| 49/49 [00:43<00:00,  1.12it/s, loss=0.00615]\n",
                        "Epoch 31: 100%|█████████| 49/49 [00:43<00:00,  1.12it/s, loss=0.00406]\n",
                        "Epoch 32: 100%|█████████| 49/49 [00:43<00:00,  1.12it/s, loss=0.00423]\n",
                        "Epoch 33: 100%|█████████| 49/49 [00:43<00:00,  1.12it/s, loss=0.00506]\n",
                        "Epoch 34: 100%|█████████| 49/49 [00:43<00:00,  1.12it/s, loss=0.00672]\n",
                        "Epoch 35: 100%|█████████| 49/49 [00:43<00:00,  1.12it/s, loss=0.00716]\n",
                        "Epoch 36: 100%|█████████| 49/49 [00:43<00:00,  1.12it/s, loss=0.00442]\n",
                        "Epoch 37: 100%|█████████| 49/49 [00:43<00:00,  1.12it/s, loss=0.00569]\n",
                        "Epoch 38: 100%|█████████| 49/49 [00:43<00:00,  1.12it/s, loss=0.00552]\n",
                        "Epoch 39: 100%|█████████| 49/49 [00:43<00:00,  1.12it/s, loss=0.00434]\n",
                        "Epoch 40: 100%|█████████| 49/49 [00:43<00:00,  1.12it/s, loss=0.00509]\n",
                        "Epoch 41: 100%|█████████| 49/49 [00:43<00:00,  1.12it/s, loss=0.00639]\n",
                        "Epoch 42: 100%|█████████| 49/49 [00:43<00:00,  1.12it/s, loss=0.00381]\n",
                        "Epoch 43: 100%|█████████| 49/49 [00:43<00:00,  1.12it/s, loss=0.00434]\n",
                        "Epoch 44: 100%|█████████| 49/49 [00:43<00:00,  1.12it/s, loss=0.00427]\n",
                        "Epoch 45: 100%|█████████| 49/49 [00:43<00:00,  1.12it/s, loss=0.00605]\n",
                        "Epoch 46: 100%|█████████| 49/49 [00:43<00:00,  1.12it/s, loss=0.00522]\n",
                        "Epoch 47: 100%|██████████| 49/49 [00:44<00:00,  1.11it/s, loss=0.0054]\n",
                        "Epoch 48: 100%|█████████| 49/49 [00:43<00:00,  1.12it/s, loss=0.00555]\n",
                        "Epoch 49: 100%|█████████| 49/49 [00:43<00:00,  1.12it/s, loss=0.00475]\n",
                        "100%|██████████| 1000/1000 [00:44<00:00, 22.29it/s]\n"
                    ]
                },
                {
                    "data": {
                        "image/png": "[encoded data removed]",
                        "text/plain": [
                            "<Figure size 200x200 with 1 Axes>"
                        ]
                    },
                    "metadata": {},
                    "output_type": "display_data"
                },
                {
                    "name": "stderr",
                    "output_type": "stream",
                    "text": [
                        "Epoch 50: 100%|█████████| 49/49 [00:43<00:00,  1.12it/s, loss=0.00464]\n",
                        "Epoch 51: 100%|█████████| 49/49 [00:43<00:00,  1.12it/s, loss=0.00443]\n",
                        "Epoch 52: 100%|█████████| 49/49 [00:43<00:00,  1.12it/s, loss=0.00533]\n",
                        "Epoch 53: 100%|█████████| 49/49 [00:43<00:00,  1.12it/s, loss=0.00399]\n",
                        "Epoch 54: 100%|█████████| 49/49 [00:43<00:00,  1.12it/s, loss=0.00417]\n",
                        "Epoch 55: 100%|█████████| 49/49 [00:43<00:00,  1.12it/s, loss=0.00431]\n",
                        "Epoch 56: 100%|██████████| 49/49 [00:43<00:00,  1.12it/s, loss=0.0042]\n",
                        "Epoch 57: 100%|█████████| 49/49 [00:43<00:00,  1.12it/s, loss=0.00484]\n",
                        "Epoch 58: 100%|█████████| 49/49 [00:43<00:00,  1.12it/s, loss=0.00494]\n",
                        "Epoch 59: 100%|█████████| 49/49 [00:43<00:00,  1.12it/s, loss=0.00426]\n",
                        "Epoch 60: 100%|█████████| 49/49 [00:43<00:00,  1.12it/s, loss=0.00454]\n",
                        "Epoch 61: 100%|█████████| 49/49 [00:43<00:00,  1.12it/s, loss=0.00365]\n",
                        "Epoch 62: 100%|█████████| 49/49 [00:43<00:00,  1.12it/s, loss=0.00371]\n",
                        "Epoch 63: 100%|█████████| 49/49 [00:43<00:00,  1.12it/s, loss=0.00399]\n",
                        "Epoch 64: 100%|█████████| 49/49 [00:43<00:00,  1.12it/s, loss=0.00411]\n",
                        "Epoch 65: 100%|█████████| 49/49 [00:43<00:00,  1.12it/s, loss=0.00404]\n",
                        "Epoch 66: 100%|█████████| 49/49 [00:43<00:00,  1.12it/s, loss=0.00442]\n",
                        "Epoch 67: 100%|███████████| 49/49 [00:43<00:00,  1.12it/s, loss=0.004]\n",
                        "Epoch 68: 100%|█████████| 49/49 [00:43<00:00,  1.12it/s, loss=0.00379]\n",
                        "Epoch 69: 100%|█████████| 49/49 [00:43<00:00,  1.12it/s, loss=0.00514]\n",
                        "Epoch 70: 100%|█████████| 49/49 [00:43<00:00,  1.12it/s, loss=0.00372]\n",
                        "Epoch 71: 100%|███████████| 49/49 [00:43<00:00,  1.12it/s, loss=0.005]\n",
                        "Epoch 72: 100%|█████████| 49/49 [00:43<00:00,  1.12it/s, loss=0.00379]\n",
                        "Epoch 73: 100%|█████████| 49/49 [00:43<00:00,  1.12it/s, loss=0.00288]\n",
                        "Epoch 74: 100%|█████████| 49/49 [00:43<00:00,  1.12it/s, loss=0.00488]\n",
                        "100%|██████████| 1000/1000 [00:44<00:00, 22.26it/s]\n"
                    ]
                },
                {
                    "data": {
                        "image/png": "[encoded data removed]",
                        "text/plain": [
                            "<Figure size 200x200 with 1 Axes>"
                        ]
                    },
                    "metadata": {},
                    "output_type": "display_data"
                },
                {
                    "name": "stderr",
                    "output_type": "stream",
                    "text": [
                        "Epoch 75: 100%|█████████| 49/49 [00:43<00:00,  1.12it/s, loss=0.00464]\n",
                        "Epoch 76: 100%|█████████| 49/49 [00:43<00:00,  1.12it/s, loss=0.00338]\n",
                        "Epoch 77: 100%|█████████| 49/49 [00:43<00:00,  1.12it/s, loss=0.00396]\n",
                        "Epoch 78: 100%|█████████| 49/49 [00:43<00:00,  1.12it/s, loss=0.00552]\n",
                        "Epoch 79: 100%|█████████| 49/49 [00:43<00:00,  1.12it/s, loss=0.00439]\n",
                        "Epoch 80: 100%|█████████| 49/49 [00:43<00:00,  1.12it/s, loss=0.00395]\n",
                        "Epoch 81: 100%|█████████| 49/49 [00:43<00:00,  1.12it/s, loss=0.00278]\n",
                        "Epoch 82: 100%|█████████| 49/49 [00:43<00:00,  1.12it/s, loss=0.00411]\n",
                        "Epoch 83: 100%|█████████| 49/49 [00:43<00:00,  1.12it/s, loss=0.00347]\n",
                        "Epoch 84: 100%|█████████| 49/49 [00:43<00:00,  1.12it/s, loss=0.00524]\n",
                        "Epoch 85: 100%|█████████| 49/49 [00:43<00:00,  1.12it/s, loss=0.00444]\n",
                        "Epoch 86: 100%|█████████| 49/49 [00:43<00:00,  1.12it/s, loss=0.00479]\n",
                        "Epoch 87: 100%|█████████| 49/49 [00:43<00:00,  1.12it/s, loss=0.00412]\n",
                        "Epoch 88: 100%|█████████| 49/49 [00:43<00:00,  1.12it/s, loss=0.00377]\n",
                        "Epoch 89: 100%|█████████| 49/49 [00:43<00:00,  1.12it/s, loss=0.00419]\n",
                        "Epoch 90: 100%|█████████| 49/49 [00:43<00:00,  1.12it/s, loss=0.00387]\n",
                        "Epoch 91: 100%|█████████| 49/49 [00:43<00:00,  1.12it/s, loss=0.00501]\n",
                        "Epoch 92: 100%|██████████| 49/49 [00:43<00:00,  1.12it/s, loss=0.0033]\n",
                        "Epoch 93: 100%|█████████| 49/49 [00:43<00:00,  1.12it/s, loss=0.00391]\n",
                        "Epoch 94: 100%|█████████| 49/49 [00:43<00:00,  1.12it/s, loss=0.00353]\n",
                        "Epoch 95: 100%|█████████| 49/49 [00:43<00:00,  1.12it/s, loss=0.00363]\n",
                        "Epoch 96: 100%|█████████| 49/49 [00:43<00:00,  1.12it/s, loss=0.00351]\n",
                        "Epoch 97: 100%|█████████| 49/49 [00:43<00:00,  1.12it/s, loss=0.00373]\n",
                        "Epoch 98: 100%|█████████| 49/49 [00:43<00:00,  1.12it/s, loss=0.00387]\n",
                        "Epoch 99: 100%|█████████| 49/49 [00:43<00:00,  1.12it/s, loss=0.00413]\n",
                        "100%|██████████| 1000/1000 [00:44<00:00, 22.26it/s]\n"
                    ]
                },
                {
                    "data": {
                        "image/png": "[encoded data removed]",
                        "text/plain": [
                            "<Figure size 200x200 with 1 Axes>"
                        ]
                    },
                    "metadata": {},
                    "output_type": "display_data"
                },
                {
                    "name": "stderr",
                    "output_type": "stream",
                    "text": [
                        "Epoch 100: 100%|████████| 49/49 [00:43<00:00,  1.12it/s, loss=0.00376]\n",
                        "Epoch 101: 100%|████████| 49/49 [00:43<00:00,  1.12it/s, loss=0.00317]\n",
                        "Epoch 102: 100%|████████| 49/49 [00:43<00:00,  1.12it/s, loss=0.00316]\n",
                        "Epoch 103: 100%|████████| 49/49 [00:43<00:00,  1.12it/s, loss=0.00405]\n",
                        "Epoch 104: 100%|████████| 49/49 [00:44<00:00,  1.11it/s, loss=0.00397]\n",
                        "Epoch 105: 100%|████████| 49/49 [00:43<00:00,  1.12it/s, loss=0.00388]\n",
                        "Epoch 106: 100%|████████| 49/49 [00:43<00:00,  1.12it/s, loss=0.00376]\n",
                        "Epoch 107: 100%|████████| 49/49 [00:43<00:00,  1.12it/s, loss=0.00538]\n",
                        "Epoch 108: 100%|████████| 49/49 [00:43<00:00,  1.12it/s, loss=0.00328]\n",
                        "Epoch 109: 100%|████████| 49/49 [00:43<00:00,  1.12it/s, loss=0.00486]\n",
                        "Epoch 110: 100%|████████| 49/49 [00:43<00:00,  1.12it/s, loss=0.00487]\n",
                        "Epoch 111: 100%|████████| 49/49 [00:43<00:00,  1.12it/s, loss=0.00408]\n",
                        "Epoch 112: 100%|████████| 49/49 [00:43<00:00,  1.12it/s, loss=0.00412]\n",
                        "Epoch 113: 100%|████████| 49/49 [00:43<00:00,  1.12it/s, loss=0.00278]\n",
                        "Epoch 114: 100%|█████████| 49/49 [00:43<00:00,  1.12it/s, loss=0.0035]\n",
                        "Epoch 115: 100%|████████| 49/49 [00:43<00:00,  1.12it/s, loss=0.00297]\n",
                        "Epoch 116: 100%|████████| 49/49 [00:43<00:00,  1.12it/s, loss=0.00263]\n",
                        "Epoch 117: 100%|████████| 49/49 [00:43<00:00,  1.12it/s, loss=0.00309]\n",
                        "Epoch 118: 100%|████████| 49/49 [00:43<00:00,  1.12it/s, loss=0.00306]\n",
                        "Epoch 119: 100%|████████| 49/49 [00:43<00:00,  1.12it/s, loss=0.00477]\n",
                        "Epoch 120: 100%|████████| 49/49 [00:43<00:00,  1.12it/s, loss=0.00361]\n",
                        "Epoch 121: 100%|████████| 49/49 [00:43<00:00,  1.12it/s, loss=0.00317]\n",
                        "Epoch 122: 100%|████████| 49/49 [00:43<00:00,  1.12it/s, loss=0.00433]\n",
                        "Epoch 123: 100%|█████████| 49/49 [00:43<00:00,  1.12it/s, loss=0.0046]\n",
                        "Epoch 124: 100%|████████| 49/49 [00:43<00:00,  1.11it/s, loss=0.00484]\n",
                        "100%|██████████| 1000/1000 [00:44<00:00, 22.27it/s]\n"
                    ]
                },
                {
                    "data": {
                        "image/png": "[encoded data removed]",
                        "text/plain": [
                            "<Figure size 200x200 with 1 Axes>"
                        ]
                    },
                    "metadata": {},
                    "output_type": "display_data"
                },
                {
                    "name": "stderr",
                    "output_type": "stream",
                    "text": [
                        "Epoch 125: 100%|████████| 49/49 [00:43<00:00,  1.12it/s, loss=0.00582]\n",
                        "Epoch 126: 100%|████████| 49/49 [00:43<00:00,  1.11it/s, loss=0.00438]\n",
                        "Epoch 127: 100%|████████| 49/49 [00:43<00:00,  1.12it/s, loss=0.00304]\n",
                        "Epoch 128: 100%|████████| 49/49 [00:43<00:00,  1.12it/s, loss=0.00339]\n",
                        "Epoch 129: 100%|████████| 49/49 [00:43<00:00,  1.12it/s, loss=0.00362]\n",
                        "Epoch 130: 100%|████████| 49/49 [00:43<00:00,  1.12it/s, loss=0.00317]\n",
                        "Epoch 131: 100%|████████| 49/49 [00:43<00:00,  1.12it/s, loss=0.00388]\n",
                        "Epoch 132: 100%|█████████| 49/49 [00:43<00:00,  1.12it/s, loss=0.0042]\n",
                        "Epoch 133: 100%|████████| 49/49 [00:43<00:00,  1.12it/s, loss=0.00583]\n",
                        "Epoch 134: 100%|████████| 49/49 [00:43<00:00,  1.11it/s, loss=0.00653]\n",
                        "Epoch 135: 100%|█████████| 49/49 [00:43<00:00,  1.12it/s, loss=0.0037]\n",
                        "Epoch 136: 100%|████████| 49/49 [00:43<00:00,  1.12it/s, loss=0.00485]\n",
                        "Epoch 137: 100%|████████| 49/49 [00:43<00:00,  1.12it/s, loss=0.00387]\n",
                        "Epoch 138: 100%|█████████| 49/49 [00:43<00:00,  1.12it/s, loss=0.0046]\n",
                        "Epoch 139: 100%|█████████| 49/49 [00:43<00:00,  1.12it/s, loss=0.0045]\n",
                        "Epoch 140: 100%|█████████| 49/49 [00:43<00:00,  1.12it/s, loss=0.0029]\n",
                        "Epoch 141: 100%|████████| 49/49 [00:43<00:00,  1.12it/s, loss=0.00353]\n",
                        "Epoch 142: 100%|████████| 49/49 [00:43<00:00,  1.12it/s, loss=0.00477]\n",
                        "Epoch 143: 100%|████████| 49/49 [00:43<00:00,  1.12it/s, loss=0.00438]\n",
                        "Epoch 144: 100%|████████| 49/49 [00:43<00:00,  1.12it/s, loss=0.00396]\n",
                        "Epoch 145: 100%|████████| 49/49 [00:43<00:00,  1.12it/s, loss=0.00323]\n",
                        "Epoch 146: 100%|████████| 49/49 [00:43<00:00,  1.12it/s, loss=0.00455]\n",
                        "Epoch 147: 100%|█████████| 49/49 [00:43<00:00,  1.12it/s, loss=0.0056]\n",
                        "Epoch 148: 100%|████████| 49/49 [00:43<00:00,  1.12it/s, loss=0.00357]\n",
                        "Epoch 149: 100%|████████| 49/49 [00:43<00:00,  1.12it/s, loss=0.00413]\n",
                        "100%|██████████| 1000/1000 [00:44<00:00, 22.26it/s]\n"
                    ]
                },
                {
                    "data": {
                        "image/png": "[encoded data removed]",
                        "text/plain": [
                            "<Figure size 200x200 with 1 Axes>"
                        ]
                    },
                    "metadata": {},
                    "output_type": "display_data"
                },
                {
                    "name": "stdout",
                    "output_type": "stream",
                    "text": [
                        "train completed, total time: 6877.832907915115.\n"
                    ]
                }
            ],
            "source": [
                "max_epochs = 150\n",
                "val_interval = 25\n",
                "epoch_loss_list = []\n",
                "val_epoch_loss_list = []\n",
                "\n",
                "scaler = GradScaler()\n",
                "total_start = time.time()\n",
                "for epoch in range(max_epochs):\n",
                "    model.train()\n",
                "    epoch_loss = 0\n",
                "    progress_bar = tqdm(enumerate(train_loader), total=len(train_loader), ncols=70)\n",
                "    progress_bar.set_description(f\"Epoch {epoch}\")\n",
                "    for step, batch in progress_bar:\n",
                "        images = batch[\"image\"].to(device)\n",
                "        optimizer.zero_grad(set_to_none=True)\n",
                "\n",
                "        with autocast(device_type=\"cuda\", enabled=True):\n",
                "            # Generate random noise\n",
                "            noise = torch.randn_like(images).to(device)\n",
                "\n",
                "            # Create timesteps\n",
                "            timesteps = torch.randint(\n",
                "                0, inferer.scheduler.num_train_timesteps, (images.shape[0],), device=images.device\n",
                "            ).long()\n",
                "\n",
                "            # Get model prediction\n",
                "            noise_pred = inferer(inputs=images, diffusion_model=model, noise=noise, timesteps=timesteps)\n",
                "\n",
                "            loss = F.mse_loss(noise_pred.float(), noise.float())\n",
                "\n",
                "        scaler.scale(loss).backward()\n",
                "        scaler.step(optimizer)\n",
                "        scaler.update()\n",
                "\n",
                "        epoch_loss += loss.item()\n",
                "\n",
                "        progress_bar.set_postfix({\"loss\": epoch_loss / (step + 1)})\n",
                "    epoch_loss_list.append(epoch_loss / (step + 1))\n",
                "\n",
                "    if (epoch + 1) % val_interval == 0:\n",
                "        model.eval()\n",
                "        val_epoch_loss = 0\n",
                "        for step, batch in enumerate(val_loader):\n",
                "            images = batch[\"image\"].to(device)\n",
                "            noise = torch.randn_like(images).to(device)\n",
                "            with torch.no_grad():\n",
                "                with autocast(device_type=\"cuda\", enabled=True):\n",
                "                    timesteps = torch.randint(\n",
                "                        0, inferer.scheduler.num_train_timesteps, (images.shape[0],), device=images.device\n",
                "                    ).long()\n",
                "\n",
                "                    # Get model prediction\n",
                "                    noise_pred = inferer(inputs=images, diffusion_model=model, noise=noise, timesteps=timesteps)\n",
                "                    val_loss = F.mse_loss(noise_pred.float(), noise.float())\n",
                "\n",
                "            val_epoch_loss += val_loss.item()\n",
                "            progress_bar.set_postfix({\"val_loss\": val_epoch_loss / (step + 1)})\n",
                "        val_epoch_loss_list.append(val_epoch_loss / (step + 1))\n",
                "\n",
                "        # Sampling image during training\n",
                "        image = torch.randn((1, 1, 32, 40, 32))\n",
                "        image = image.to(device)\n",
                "        scheduler.set_timesteps(num_inference_steps=1000)\n",
                "        with autocast(device_type=\"cuda\", enabled=True):\n",
                "            image = inferer.sample(input_noise=image, diffusion_model=model, scheduler=scheduler)\n",
                "\n",
                "        plt.figure(figsize=(2, 2))\n",
                "        plt.imshow(image[0, 0, :, :, 15].cpu(), vmin=0, vmax=1, cmap=\"gray\")\n",
                "        plt.tight_layout()\n",
                "        plt.axis(\"off\")\n",
                "        plt.show()\n",
                "\n",
                "total_time = time.time() - total_start\n",
                "print(f\"train completed, total time: {total_time}.\")\n",
                "\n",
                "# max_epochs = 40\n",
                "# val_interval = max_epochs // 5\n",
                "# epoch_loss_list = []\n",
                "# val_epoch_loss_list = []\n",
                "\n",
                "# scaler = GradScaler()\n",
                "# total_start = time.time()\n",
                "# for epoch in range(max_epochs):\n",
                "#     model.train()\n",
                "#     epoch_loss = 0\n",
                "#     progress_bar = tqdm(enumerate(train_loader), total=len(train_loader), ncols=70)\n",
                "#     progress_bar.set_description(f\"Epoch {epoch}\")\n",
                "#     for step, batch in progress_bar:\n",
                "#         images = batch[\"image\"].to(device)\n",
                "#         optimizer.zero_grad(set_to_none=True)\n",
                "\n",
                "#         with autocast(device_type=\"cuda\", enabled=True):\n",
                "#             # Generate random noise\n",
                "#             noise = torch.randn_like(images).to(device)\n",
                "\n",
                "#             # Create timesteps\n",
                "#             timesteps = torch.randint(0, num_train_timesteps, (images.shape[0],), device=images.device).long()\n",
                "\n",
                "#             # Get model prediction\n",
                "#             noise_pred = inferer(inputs=images, diffusion_model=model, noise=noise, timesteps=timesteps)\n",
                "\n",
                "#             loss = F.mse_loss(noise_pred.float(), noise.float())\n",
                "\n",
                "#         scaler.scale(loss).backward()\n",
                "#         scaler.step(optimizer)\n",
                "#         scaler.update()\n",
                "\n",
                "#         epoch_loss += loss.item()\n",
                "\n",
                "#         progress_bar.set_postfix({\"loss\": f\"{epoch_loss / (step + 1):.4f}\"})\n",
                "#     epoch_loss_list.append(epoch_loss / (step + 1))\n",
                "\n",
                "#     if (epoch + 1) % val_interval == 0:\n",
                "#         model.eval()\n",
                "#         val_epoch_loss = 0\n",
                "#         for step, batch in enumerate(val_loader):\n",
                "#             images = batch[\"image\"].to(device)\n",
                "#             noise = torch.randn_like(images).to(device)\n",
                "#             with torch.no_grad(), autocast(device_type=\"cuda\", enabled=True):\n",
                "#                 timesteps = torch.randint(0, num_train_timesteps, (images.shape[0],), device=images.device).long()\n",
                "\n",
                "#                 # Get model prediction\n",
                "#                 noise_pred = inferer(inputs=images, diffusion_model=model, noise=noise, timesteps=timesteps)\n",
                "#                 val_loss = F.mse_loss(noise_pred.float(), noise.float())\n",
                "\n",
                "#             val_epoch_loss += val_loss.item()\n",
                "#             progress_bar.set_postfix({\"val_loss\": val_epoch_loss / (step + 1)})\n",
                "#         val_epoch_loss_list.append(val_epoch_loss / (step + 1))\n",
                "\n",
                "#         # Sampling image during training\n",
                "#         image = torch.randn((1, 1, 32, 40, 32))\n",
                "#         image = image.to(device)\n",
                "#         scheduler.set_timesteps(num_inference_steps=1000)\n",
                "#         with autocast(device_type=\"cuda\", enabled=True):\n",
                "#             image = inferer.sample(input_noise=image, diffusion_model=model, scheduler=scheduler)\n",
                "\n",
                "#         plt.figure(figsize=(2, 2))\n",
                "#         plt.imshow(image[0, 0, :, :, 15].cpu(), vmin=0, vmax=1, cmap=\"gray\")\n",
                "#         plt.tight_layout()\n",
                "#         plt.axis(\"off\")\n",
                "#         plt.show()\n",
                "\n",
                "# total_time = time.time() - total_start\n",
                "# print(f\"train completed, total time: {total_time}.\")"
            ]
        },
        {
            "cell_type": "markdown",
            "id": "3e263b67",
            "metadata": {},
            "source": [
                "### Learning curves"
            ]
        },
        {
            "cell_type": "code",
            "execution_count": 18,
            "id": "c7520419",
            "metadata": {
                "lines_to_next_cell": 2
            },
            "outputs": [
                {
                    "data": {
                        "image/png": "[encoded data removed]",
                        "text/plain": [
                            "<Figure size 800x550 with 1 Axes>"
                        ]
                    },
                    "metadata": {},
                    "output_type": "display_data"
                }
            ],
            "source": [
                "plt.style.use(\"seaborn-v0_8\")\n",
                "plt.title(\"Learning Curves\", fontsize=20)\n",
                "plt.plot(np.linspace(1, max_epochs, max_epochs), epoch_loss_list, color=\"C0\", linewidth=2.0, label=\"Train\")\n",
                "plt.plot(\n",
                "    np.linspace(val_interval, max_epochs, int(max_epochs / val_interval)),\n",
                "    val_epoch_loss_list,\n",
                "    color=\"C1\",\n",
                "    linewidth=2.0,\n",
                "    label=\"Validation\",\n",
                ")\n",
                "plt.yticks(fontsize=12)\n",
                "plt.xticks(fontsize=12)\n",
                "plt.xlabel(\"Epochs\", fontsize=16)\n",
                "plt.ylabel(\"Loss\", fontsize=16)\n",
                "plt.legend(prop={\"size\": 14})\n",
                "plt.show()"
            ]
        },
        {
            "cell_type": "markdown",
            "id": "38724c9b",
            "metadata": {},
            "source": [
                "## Sampling Brain Image\n",
                "\n",
                "In order to sample the brain images, we need to pass the model an image containing just noise and use it to remove the noise of the image iteratively. For that, we will use the `.sample()` function of the `inferer`."
            ]
        },
        {
            "cell_type": "code",
            "execution_count": 19,
            "id": "092eb6a0",
            "metadata": {
                "lines_to_next_cell": 2
            },
            "outputs": [
                {
                    "name": "stderr",
                    "output_type": "stream",
                    "text": [
                        "100%|██████████| 1000/1000 [01:10<00:00, 14.29it/s]\n"
                    ]
                }
            ],
            "source": [
                "model.eval()\n",
                "noise = torch.randn((1, 1, 32, 40, 32))\n",
                "noise = noise.to(device)\n",
                "scheduler.set_timesteps(num_inference_steps=1000)\n",
                "image = inferer.sample(input_noise=noise, diffusion_model=model, scheduler=scheduler)\n"
            ]
        },
        {
            "cell_type": "code",
            "execution_count": 20,
            "id": "5dc3e69d",
            "metadata": {},
            "outputs": [
                {
                    "data": {
                        "image/png": "[encoded data removed]",
                        "text/plain": [
                            "<Figure size 640x480 with 1 Axes>"
                        ]
                    },
                    "metadata": {},
                    "output_type": "display_data"
                }
            ],
            "source": [
                "plt.style.use(\"default\")\n",
                "plotting_image_0 = np.concatenate([image[0, 0, :, :, 15].cpu(), np.flipud(image[0, 0, :, 20, :].cpu().T)], axis=1)\n",
                "plotting_image_1 = np.concatenate([np.flipud(image[0, 0, 15, :, :].cpu().T), np.zeros((32, 32))], axis=1)\n",
                "plt.imshow(np.concatenate([plotting_image_0, plotting_image_1], axis=0), vmin=0, vmax=1, cmap=\"gray\")\n",
                "plt.tight_layout()\n",
                "plt.axis(\"off\")\n",
                "plt.show()"
            ]
        },
        {
            "cell_type": "markdown",
            "id": "f0acc27a",
            "metadata": {},
            "source": [
                "### Sampling with Denoising Diffusion Implicit Model Scheduler\n",
                "\n",
                "Recent papers have proposed different ways to improve the sampling speed by using fewer steps in the denoising process. In this example, we are using a `DDIMScheduler` (from [Song et al. \"Denoising Diffusion Implicit Models\"](https://arxiv.org/abs/2010.02502)) to reduce the original number of steps from 1000 to 250."
            ]
        },
        {
            "cell_type": "code",
            "execution_count": null,
            "id": "e3e43b95",
            "metadata": {},
            "outputs": [
                {
                    "name": "stderr",
                    "output_type": "stream",
                    "text": [
                        "100%|██████████| 250/250 [00:17<00:00, 14.54it/s]\n"
                    ]
                }
            ],
            "source": [
                "scheduler_ddim = DDIMScheduler(\n",
                "    num_train_timesteps=num_train_timesteps,\n",
                "    schedule=\"scaled_linear_beta\",\n",
                "    beta_start=0.0005,\n",
                "    beta_end=0.0195,\n",
                "    clip_sample=False,\n",
                ")\n",
                "\n",
                "scheduler_ddim.set_timesteps(num_inference_steps=250)\n",
                "\n",
                "model.eval()\n",
                "noise = torch.randn((1, 1, 32, 40, 32))\n",
                "noise = noise.to(device)\n",
                "\n",
                "image = inferer.sample(input_noise=noise, diffusion_model=model, scheduler=scheduler_ddim)"
            ]
        },
        {
            "cell_type": "code",
            "execution_count": null,
            "id": "89f93ab8",
            "metadata": {},
            "outputs": [
                {
                    "data": {
                        "image/png": "[encoded data removed]",
                        "text/plain": [
                            "<Figure size 640x480 with 1 Axes>"
                        ]
                    },
                    "metadata": {},
                    "output_type": "display_data"
                }
            ],
            "source": [
                "plt.style.use(\"default\")\n",
                "plotting_image_0 = np.concatenate([image[0, 0, :, :, 15].cpu(), np.flipud(image[0, 0, :, 20, :].cpu().T)], axis=1)\n",
                "plotting_image_1 = np.concatenate([np.flipud(image[0, 0, 15, :, :].cpu().T), np.zeros((32, 32))], axis=1)\n",
                "plt.imshow(np.concatenate([plotting_image_0, plotting_image_1], axis=0), vmin=0, vmax=1, cmap=\"gray\")\n",
                "plt.tight_layout()\n",
                "plt.axis(\"off\")\n",
                "plt.show()"
            ]
        }
    ],
    "metadata": {
        "jupytext": {
            "formats": "py:percent,ipynb"
        },
        "kernelspec": {
            "display_name": "Python 3 (ipykernel)",
            "language": "python",
            "name": "python3"
        },
        "language_info": {
            "codemirror_mode": {
                "name": "ipython",
                "version": 3
            },
            "file_extension": ".py",
            "mimetype": "text/x-python",
            "name": "python",
            "nbconvert_exporter": "python",
            "pygments_lexer": "ipython3",
            "version": "3.11.9"
        }
    },
    "nbformat": 4,
    "nbformat_minor": 5
}
