{
 "cells": [
  {
   "cell_type": "markdown",
   "source": [
    "## Datalist Generator ##"
   ],
   "metadata": {
    "collapsed": false,
    "pycharm": {
     "name": "#%% md\n"
    }
   }
  },
  {
   "cell_type": "markdown",
   "source": [
    "\n",
    "Copyright (c) MONAI Consortium\n",
    "Licensed under the Apache License, Version 2.0 (the \"License\");\n",
    "you may not use this file except in compliance with the License.\n",
    "You may obtain a copy of the License at\n",
    "    http://www.apache.org/licenses/LICENSE-2.0\n",
    "Unless required by applicable law or agreed to in writing, software\n",
    "distributed under the License is distributed on an \"AS IS\" BASIS,\n",
    "WITHOUT WARRANTIES OR CONDITIONS OF ANY KIND, either express or implied.\n",
    "See the License for the specific language governing permissions and\n",
    "limitations under the License.\n",
    "\n",
    "Created by Udbhav Ram - Cardenas Lab, University of Alabama at Birmingham for contribution towards the MONAI project\n"
   ],
   "metadata": {
    "collapsed": false,
    "pycharm": {
     "name": "#%% md\n"
    }
   }
  },
  {
   "cell_type": "markdown",
   "source": [
    "## Setup environment ##"
   ],
   "metadata": {
    "collapsed": false,
    "pycharm": {
     "name": "#%% md\n"
    }
   }
  },
  {
   "cell_type": "code",
   "execution_count": 22,
   "outputs": [],
   "source": [
    "!python3 -c \"import monai\" || pip install -q \"monai\""
   ],
   "metadata": {
    "collapsed": false,
    "pycharm": {
     "name": "#%%\n"
    }
   }
  },
  {
   "cell_type": "code",
   "execution_count": 23,
   "outputs": [
    {
     "name": "stdout",
     "output_type": "stream",
     "text": [
      "MONAI version: 1.1.0\n",
      "Numpy version: 1.18.5\n",
      "Pytorch version: 1.13.1\n",
      "MONAI flags: HAS_EXT = False, USE_COMPILED = False, USE_META_DICT = False\n",
      "MONAI rev id: a2ec3752f54bfc3b40e7952234fbeb5452ed63e3\n",
      "MONAI __file__: /Library/Frameworks/Python.framework/Versions/3.8/lib/python3.8/site-packages/monai/__init__.py\n",
      "\n",
      "Optional dependencies:\n",
      "Pytorch Ignite version: NOT INSTALLED or UNKNOWN VERSION.\n",
      "Nibabel version: NOT INSTALLED or UNKNOWN VERSION.\n",
      "scikit-image version: 0.17.2\n",
      "Pillow version: 7.2.0\n",
      "Tensorboard version: 2.3.0\n",
      "gdown version: NOT INSTALLED or UNKNOWN VERSION.\n",
      "TorchVision version: NOT INSTALLED or UNKNOWN VERSION.\n",
      "tqdm version: 4.50.0\n",
      "lmdb version: NOT INSTALLED or UNKNOWN VERSION.\n",
      "psutil version: 5.7.2\n",
      "pandas version: 1.1.2\n",
      "einops version: NOT INSTALLED or UNKNOWN VERSION.\n",
      "transformers version: NOT INSTALLED or UNKNOWN VERSION.\n",
      "mlflow version: NOT INSTALLED or UNKNOWN VERSION.\n",
      "pynrrd version: NOT INSTALLED or UNKNOWN VERSION.\n",
      "\n",
      "For details about installing the optional dependencies, please visit:\n",
      "    https://docs.monai.io/en/latest/installation.html#installing-the-recommended-dependencies\n",
      "\n"
     ]
    }
   ],
   "source": [
    "import os\n",
    "import json\n",
    "import random\n",
    "import shutil\n",
    "import tempfile\n",
    "from monai.config import print_config\n",
    "from monai.apps import download_and_extract\n",
    "\n",
    "print_config()"
   ],
   "metadata": {
    "collapsed": false,
    "pycharm": {
     "name": "#%%\n"
    }
   }
  },
  {
   "cell_type": "code",
   "execution_count": 24,
   "outputs": [],
   "source": [
    "# Construct skeleton JSON to populate with your own data\n",
    "datalist_json = {\n",
    "    \"testing\": [],\n",
    "    \"training\": []\n",
    "}"
   ],
   "metadata": {
    "collapsed": false,
    "pycharm": {
     "name": "#%%\n"
    }
   }
  },
  {
   "cell_type": "code",
   "execution_count": 25,
   "outputs": [
    {
     "name": "stdout",
     "output_type": "stream",
     "text": [
      "/var/folders/gr/5q39rjj57fs4z15w99hz0pqh0000gn/T/tmpf4k3kt1s\n"
     ]
    }
   ],
   "source": [
    "# Setup paths to your data\n",
    "directory = os.environ.get(\"MONAI_DATA_DIRECTORY\")\n",
    "root_dir = tempfile.mkdtemp() if directory is None else directory\n",
    "print(root_dir)"
   ],
   "metadata": {
    "collapsed": false,
    "pycharm": {
     "name": "#%%\n"
    }
   }
  },
  {
   "cell_type": "code",
   "execution_count": 26,
   "outputs": [
    {
     "name": "stderr",
     "output_type": "stream",
     "text": [
      "Task04_Hippocampus.tar: 27.1MB [00:11, 2.50MB/s]                            "
     ]
    },
    {
     "name": "stdout",
     "output_type": "stream",
     "text": [
      "2023-01-09 10:39:27,265 - INFO - Downloaded: /var/folders/gr/5q39rjj57fs4z15w99hz0pqh0000gn/T/tmpf4k3kt1s/Task04_Hippocampus.tar\n",
      "2023-01-09 10:39:27,265 - INFO - Expected md5 is None, skip md5 check for file /var/folders/gr/5q39rjj57fs4z15w99hz0pqh0000gn/T/tmpf4k3kt1s/Task04_Hippocampus.tar.\n",
      "2023-01-09 10:39:27,266 - INFO - Writing into directory: /var/folders/gr/5q39rjj57fs4z15w99hz0pqh0000gn/T/tmpf4k3kt1s.\n"
     ]
    },
    {
     "name": "stderr",
     "output_type": "stream",
     "text": [
      "\n"
     ]
    }
   ],
   "source": [
    "# Download sample MSD Datset\n",
    "msd_task = \"Task04_Hippocampus\"\n",
    "resource = \"https://msd-for-monai.s3-us-west-2.amazonaws.com/\" + msd_task + \".tar\"\n",
    "\n",
    "compressed_file = os.path.join(root_dir, msd_task + \".tar\")\n",
    "dataroot = os.path.join(root_dir, msd_task)\n",
    "if not os.path.exists(dataroot):\n",
    "    download_and_extract(resource, compressed_file, root_dir)"
   ],
   "metadata": {
    "collapsed": false,
    "pycharm": {
     "name": "#%%\n"
    }
   }
  },
  {
   "cell_type": "code",
   "execution_count": 27,
   "outputs": [],
   "source": [
    "#MSD dataset structure follows the following convention:\n",
    "test_dir = os.path.join(dataroot, \"imagesTs/\")\n",
    "train_dir = os.path.join(dataroot, \"imagesTr/\")\n",
    "label_dir = os.path.join(dataroot, \"labelsTr/\")"
   ],
   "metadata": {
    "collapsed": false,
    "pycharm": {
     "name": "#%%\n"
    }
   }
  },
  {
   "cell_type": "code",
   "execution_count": 28,
   "outputs": [],
   "source": [
    "for file in os.listdir(test_dir):\n",
    "    datalist_json[\"testing\"].append({\n",
    "        \"image\": './imagesTs/' + file,\n",
    "    })"
   ],
   "metadata": {
    "collapsed": false,
    "pycharm": {
     "name": "#%%\n"
    }
   }
  },
  {
   "cell_type": "code",
   "execution_count": 29,
   "outputs": [
    {
     "data": {
      "text/plain": "[{'image': './imagesTs/hippocampus_267.nii.gz'},\n {'image': './imagesTs/hippocampus_379.nii.gz'},\n {'image': './imagesTs/hippocampus_208.nii.gz'},\n {'image': './imagesTs/hippocampus_275.nii.gz'},\n {'image': './imagesTs/hippocampus_131.nii.gz'},\n {'image': './imagesTs/hippocampus_140.nii.gz'},\n {'image': './imagesTs/hippocampus_076.nii.gz'},\n {'image': './imagesTs/hippocampus_115.nii.gz'},\n {'image': './imagesTs/hippocampus_168.nii.gz'},\n {'image': './imagesTs/hippocampus_119.nii.gz'}]"
     },
     "execution_count": 29,
     "metadata": {},
     "output_type": "execute_result"
    }
   ],
   "source": [
    "datalist_json['testing'][:10]"
   ],
   "metadata": {
    "collapsed": false,
    "pycharm": {
     "name": "#%%\n"
    }
   }
  },
  {
   "cell_type": "code",
   "execution_count": 30,
   "outputs": [],
   "source": [
    "# Populate training with files in your directory\n",
    "for file in os.listdir(train_dir):\n",
    "    datalist_json[\"training\"].append({\n",
    "        \"image\": './imagesTr/' + file,\n",
    "        \"label\": './labelsTr/' + file,\n",
    "        \"fold\": 0  # Initialize as single fold\n",
    "    })"
   ],
   "metadata": {
    "collapsed": false,
    "pycharm": {
     "name": "#%%\n"
    }
   }
  },
  {
   "cell_type": "code",
   "execution_count": 31,
   "outputs": [
    {
     "data": {
      "text/plain": "[{'image': './imagesTr/hippocampus_367.nii.gz',\n  'label': './labelsTr/hippocampus_367.nii.gz',\n  'fold': 0},\n {'image': './imagesTr/hippocampus_304.nii.gz',\n  'label': './labelsTr/hippocampus_304.nii.gz',\n  'fold': 0},\n {'image': './imagesTr/hippocampus_204.nii.gz',\n  'label': './labelsTr/hippocampus_204.nii.gz',\n  'fold': 0},\n {'image': './imagesTr/hippocampus_279.nii.gz',\n  'label': './labelsTr/hippocampus_279.nii.gz',\n  'fold': 0},\n {'image': './imagesTr/hippocampus_308.nii.gz',\n  'label': './labelsTr/hippocampus_308.nii.gz',\n  'fold': 0},\n {'image': './imagesTr/hippocampus_375.nii.gz',\n  'label': './labelsTr/hippocampus_375.nii.gz',\n  'fold': 0},\n {'image': './imagesTr/hippocampus_216.nii.gz',\n  'label': './labelsTr/hippocampus_216.nii.gz',\n  'fold': 0},\n {'image': './imagesTr/hippocampus_316.nii.gz',\n  'label': './labelsTr/hippocampus_316.nii.gz',\n  'fold': 0},\n {'image': './imagesTr/hippocampus_089.nii.gz',\n  'label': './labelsTr/hippocampus_089.nii.gz',\n  'fold': 0},\n {'image': './imagesTr/hippocampus_189.nii.gz',\n  'label': './labelsTr/hippocampus_189.nii.gz',\n  'fold': 0}]"
     },
     "execution_count": 31,
     "metadata": {},
     "output_type": "execute_result"
    }
   ],
   "source": [
    "datalist_json['training'][:10]"
   ],
   "metadata": {
    "collapsed": false,
    "pycharm": {
     "name": "#%%\n"
    }
   }
  },
  {
   "cell_type": "code",
   "execution_count": 32,
   "outputs": [],
   "source": [
    "# Split training into 5 folds randomly\n",
    "random.seed(42)\n",
    "\n",
    "for i in range(5):\n",
    "    for j in range(len(datalist_json[\"training\"])):\n",
    "        if random.random() < 0.2:\n",
    "            datalist_json[\"training\"][j][\"fold\"] = i"
   ],
   "metadata": {
    "collapsed": false,
    "pycharm": {
     "name": "#%%\n"
    }
   }
  },
  {
   "cell_type": "code",
   "execution_count": 33,
   "outputs": [
    {
     "data": {
      "text/plain": "[{'image': './imagesTr/hippocampus_367.nii.gz',\n  'label': './labelsTr/hippocampus_367.nii.gz',\n  'fold': 0},\n {'image': './imagesTr/hippocampus_304.nii.gz',\n  'label': './labelsTr/hippocampus_304.nii.gz',\n  'fold': 0},\n {'image': './imagesTr/hippocampus_204.nii.gz',\n  'label': './labelsTr/hippocampus_204.nii.gz',\n  'fold': 4},\n {'image': './imagesTr/hippocampus_279.nii.gz',\n  'label': './labelsTr/hippocampus_279.nii.gz',\n  'fold': 0},\n {'image': './imagesTr/hippocampus_308.nii.gz',\n  'label': './labelsTr/hippocampus_308.nii.gz',\n  'fold': 0}]"
     },
     "execution_count": 33,
     "metadata": {},
     "output_type": "execute_result"
    }
   ],
   "source": [
    "datalist_json['training'][:5]"
   ],
   "metadata": {
    "collapsed": false,
    "pycharm": {
     "name": "#%%\n"
    }
   }
  },
  {
   "cell_type": "code",
   "execution_count": 34,
   "outputs": [],
   "source": [
    "with open('datalist.json', 'w', encoding='utf-8') as f:\n",
    "    json.dump(datalist_json, f, ensure_ascii=False, indent=4)"
   ],
   "metadata": {
    "collapsed": false,
    "pycharm": {
     "name": "#%%\n"
    }
   }
  },
  {
   "cell_type": "code",
   "execution_count": 35,
   "outputs": [],
   "source": [
    "if directory is None:\n",
    "    shutil.rmtree(root_dir)"
   ],
   "metadata": {
    "collapsed": false,
    "pycharm": {
     "name": "#%%\n"
    }
   }
  }
 ],
 "metadata": {
  "kernelspec": {
   "display_name": "Python 3",
   "language": "python",
   "name": "python3"
  },
  "language_info": {
   "codemirror_mode": {
    "name": "ipython",
    "version": 2
   },
   "file_extension": ".py",
   "mimetype": "text/x-python",
   "name": "python",
   "nbconvert_exporter": "python",
   "pygments_lexer": "ipython2",
   "version": "2.7.6"
  }
 },
 "nbformat": 4,
 "nbformat_minor": 0
}
