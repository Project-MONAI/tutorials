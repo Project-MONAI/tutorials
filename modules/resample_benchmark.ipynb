{
  "nbformat": 4,
  "nbformat_minor": 0,
  "metadata": {
    "colab": {
      "name": "resample_benchmark.ipynb",
      "provenance": [],
      "collapsed_sections": []
    },
    "kernelspec": {
      "name": "python3",
      "display_name": "Python 3"
    },
    "language_info": {
      "name": "python"
    },
    "accelerator": "GPU",
    "widgets": {
      "application/vnd.jupyter.widget-state+json": {
        "7459449177e94e4aba6f922e1d4c0ea6": {
          "model_module": "@jupyter-widgets/controls",
          "model_name": "VBoxModel",
          "model_module_version": "1.5.0",
          "state": {
            "_view_name": "VBoxView",
            "_dom_classes": [
              "widget-interact"
            ],
            "_model_name": "VBoxModel",
            "_view_module": "@jupyter-widgets/controls",
            "_model_module_version": "1.5.0",
            "_view_count": null,
            "_view_module_version": "1.5.0",
            "box_style": "",
            "layout": "IPY_MODEL_de659415a35f429f8405a6a9e15158bd",
            "_model_module": "@jupyter-widgets/controls",
            "children": [
              "IPY_MODEL_9ad294c49bd347f79c387779c9f834f2",
              "IPY_MODEL_19a0831f864143a6a2f42661c462c3aa",
              "IPY_MODEL_745043c938484932a14909677e9f890e",
              "IPY_MODEL_7e365b157f2b4b8bbd2e57e178fa34e1"
            ]
          }
        },
        "de659415a35f429f8405a6a9e15158bd": {
          "model_module": "@jupyter-widgets/base",
          "model_name": "LayoutModel",
          "model_module_version": "1.2.0",
          "state": {
            "_view_name": "LayoutView",
            "grid_template_rows": null,
            "right": null,
            "justify_content": null,
            "_view_module": "@jupyter-widgets/base",
            "overflow": null,
            "_model_module_version": "1.2.0",
            "_view_count": null,
            "flex_flow": null,
            "width": null,
            "min_width": null,
            "border": null,
            "align_items": null,
            "bottom": null,
            "_model_module": "@jupyter-widgets/base",
            "top": null,
            "grid_column": null,
            "overflow_y": null,
            "overflow_x": null,
            "grid_auto_flow": null,
            "grid_area": null,
            "grid_template_columns": null,
            "flex": null,
            "_model_name": "LayoutModel",
            "justify_items": null,
            "grid_row": null,
            "max_height": null,
            "align_content": null,
            "visibility": null,
            "align_self": null,
            "height": null,
            "min_height": null,
            "padding": null,
            "grid_auto_rows": null,
            "grid_gap": null,
            "max_width": null,
            "order": null,
            "_view_module_version": "1.2.0",
            "grid_template_areas": null,
            "object_position": null,
            "object_fit": null,
            "grid_auto_columns": null,
            "margin": null,
            "display": null,
            "left": null
          }
        },
        "9ad294c49bd347f79c387779c9f834f2": {
          "model_module": "@jupyter-widgets/controls",
          "model_name": "FloatSliderModel",
          "model_module_version": "1.5.0",
          "state": {
            "_view_name": "FloatSliderView",
            "style": "IPY_MODEL_af0dd5e4da7940ddbe7e7cd5a0f61d7a",
            "_dom_classes": [],
            "description": "tx",
            "step": 2,
            "_model_name": "FloatSliderModel",
            "orientation": "horizontal",
            "max": 128,
            "_view_module": "@jupyter-widgets/controls",
            "_model_module_version": "1.5.0",
            "value": 0,
            "_view_count": null,
            "disabled": false,
            "_view_module_version": "1.5.0",
            "min": -128,
            "continuous_update": true,
            "readout_format": ".2f",
            "description_tooltip": null,
            "readout": true,
            "_model_module": "@jupyter-widgets/controls",
            "layout": "IPY_MODEL_e75f3d8cce5c4ad6aea33a02bf43d915"
          }
        },
        "19a0831f864143a6a2f42661c462c3aa": {
          "model_module": "@jupyter-widgets/controls",
          "model_name": "FloatSliderModel",
          "model_module_version": "1.5.0",
          "state": {
            "_view_name": "FloatSliderView",
            "style": "IPY_MODEL_fdbc7bc1621e41a4910965511254990b",
            "_dom_classes": [],
            "description": "ty",
            "step": 0.1,
            "_model_name": "FloatSliderModel",
            "orientation": "horizontal",
            "max": 64,
            "_view_module": "@jupyter-widgets/controls",
            "_model_module_version": "1.5.0",
            "value": 0,
            "_view_count": null,
            "disabled": false,
            "_view_module_version": "1.5.0",
            "min": -64,
            "continuous_update": true,
            "readout_format": ".2f",
            "description_tooltip": null,
            "readout": true,
            "_model_module": "@jupyter-widgets/controls",
            "layout": "IPY_MODEL_59640e49e5014652bcb2728d531b70eb"
          }
        },
        "745043c938484932a14909677e9f890e": {
          "model_module": "@jupyter-widgets/controls",
          "model_name": "FloatSliderModel",
          "model_module_version": "1.5.0",
          "state": {
            "_view_name": "FloatSliderView",
            "style": "IPY_MODEL_9d94eb812bd24aedaef46508b4b9c61b",
            "_dom_classes": [],
            "description": "theta",
            "step": 0.1,
            "_model_name": "FloatSliderModel",
            "orientation": "horizontal",
            "max": 0.7853981633974483,
            "_view_module": "@jupyter-widgets/controls",
            "_model_module_version": "1.5.0",
            "value": 0.4146,
            "_view_count": null,
            "disabled": false,
            "_view_module_version": "1.5.0",
            "min": -0.7853981633974483,
            "continuous_update": true,
            "readout_format": ".2f",
            "description_tooltip": null,
            "readout": true,
            "_model_module": "@jupyter-widgets/controls",
            "layout": "IPY_MODEL_e165ffe2d84144feb3e509836bf8a5b8"
          }
        },
        "7e365b157f2b4b8bbd2e57e178fa34e1": {
          "model_module": "@jupyter-widgets/output",
          "model_name": "OutputModel",
          "model_module_version": "1.0.0",
          "state": {
            "_view_name": "OutputView",
            "msg_id": "",
            "_dom_classes": [],
            "_model_name": "OutputModel",
            "outputs": [
              {
                "output_type": "display_data",
                "data": {
                  "image/png": "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\n",
                  "text/plain": "<Figure size 432x288 with 2 Axes>"
                },
                "metadata": {
                  "needs_background": "light"
                }
              }
            ],
            "_view_module": "@jupyter-widgets/output",
            "_model_module_version": "1.0.0",
            "_view_count": null,
            "_view_module_version": "1.0.0",
            "layout": "IPY_MODEL_dc0c93b330c54628b9c193185d57773e",
            "_model_module": "@jupyter-widgets/output"
          }
        },
        "af0dd5e4da7940ddbe7e7cd5a0f61d7a": {
          "model_module": "@jupyter-widgets/controls",
          "model_name": "SliderStyleModel",
          "model_module_version": "1.5.0",
          "state": {
            "_view_name": "StyleView",
            "handle_color": null,
            "_model_name": "SliderStyleModel",
            "description_width": "",
            "_view_module": "@jupyter-widgets/base",
            "_model_module_version": "1.5.0",
            "_view_count": null,
            "_view_module_version": "1.2.0",
            "_model_module": "@jupyter-widgets/controls"
          }
        },
        "e75f3d8cce5c4ad6aea33a02bf43d915": {
          "model_module": "@jupyter-widgets/base",
          "model_name": "LayoutModel",
          "model_module_version": "1.2.0",
          "state": {
            "_view_name": "LayoutView",
            "grid_template_rows": null,
            "right": null,
            "justify_content": null,
            "_view_module": "@jupyter-widgets/base",
            "overflow": null,
            "_model_module_version": "1.2.0",
            "_view_count": null,
            "flex_flow": null,
            "width": null,
            "min_width": null,
            "border": null,
            "align_items": null,
            "bottom": null,
            "_model_module": "@jupyter-widgets/base",
            "top": null,
            "grid_column": null,
            "overflow_y": null,
            "overflow_x": null,
            "grid_auto_flow": null,
            "grid_area": null,
            "grid_template_columns": null,
            "flex": null,
            "_model_name": "LayoutModel",
            "justify_items": null,
            "grid_row": null,
            "max_height": null,
            "align_content": null,
            "visibility": null,
            "align_self": null,
            "height": null,
            "min_height": null,
            "padding": null,
            "grid_auto_rows": null,
            "grid_gap": null,
            "max_width": null,
            "order": null,
            "_view_module_version": "1.2.0",
            "grid_template_areas": null,
            "object_position": null,
            "object_fit": null,
            "grid_auto_columns": null,
            "margin": null,
            "display": null,
            "left": null
          }
        },
        "fdbc7bc1621e41a4910965511254990b": {
          "model_module": "@jupyter-widgets/controls",
          "model_name": "SliderStyleModel",
          "model_module_version": "1.5.0",
          "state": {
            "_view_name": "StyleView",
            "handle_color": null,
            "_model_name": "SliderStyleModel",
            "description_width": "",
            "_view_module": "@jupyter-widgets/base",
            "_model_module_version": "1.5.0",
            "_view_count": null,
            "_view_module_version": "1.2.0",
            "_model_module": "@jupyter-widgets/controls"
          }
        },
        "59640e49e5014652bcb2728d531b70eb": {
          "model_module": "@jupyter-widgets/base",
          "model_name": "LayoutModel",
          "model_module_version": "1.2.0",
          "state": {
            "_view_name": "LayoutView",
            "grid_template_rows": null,
            "right": null,
            "justify_content": null,
            "_view_module": "@jupyter-widgets/base",
            "overflow": null,
            "_model_module_version": "1.2.0",
            "_view_count": null,
            "flex_flow": null,
            "width": null,
            "min_width": null,
            "border": null,
            "align_items": null,
            "bottom": null,
            "_model_module": "@jupyter-widgets/base",
            "top": null,
            "grid_column": null,
            "overflow_y": null,
            "overflow_x": null,
            "grid_auto_flow": null,
            "grid_area": null,
            "grid_template_columns": null,
            "flex": null,
            "_model_name": "LayoutModel",
            "justify_items": null,
            "grid_row": null,
            "max_height": null,
            "align_content": null,
            "visibility": null,
            "align_self": null,
            "height": null,
            "min_height": null,
            "padding": null,
            "grid_auto_rows": null,
            "grid_gap": null,
            "max_width": null,
            "order": null,
            "_view_module_version": "1.2.0",
            "grid_template_areas": null,
            "object_position": null,
            "object_fit": null,
            "grid_auto_columns": null,
            "margin": null,
            "display": null,
            "left": null
          }
        },
        "9d94eb812bd24aedaef46508b4b9c61b": {
          "model_module": "@jupyter-widgets/controls",
          "model_name": "SliderStyleModel",
          "model_module_version": "1.5.0",
          "state": {
            "_view_name": "StyleView",
            "handle_color": null,
            "_model_name": "SliderStyleModel",
            "description_width": "",
            "_view_module": "@jupyter-widgets/base",
            "_model_module_version": "1.5.0",
            "_view_count": null,
            "_view_module_version": "1.2.0",
            "_model_module": "@jupyter-widgets/controls"
          }
        },
        "e165ffe2d84144feb3e509836bf8a5b8": {
          "model_module": "@jupyter-widgets/base",
          "model_name": "LayoutModel",
          "model_module_version": "1.2.0",
          "state": {
            "_view_name": "LayoutView",
            "grid_template_rows": null,
            "right": null,
            "justify_content": null,
            "_view_module": "@jupyter-widgets/base",
            "overflow": null,
            "_model_module_version": "1.2.0",
            "_view_count": null,
            "flex_flow": null,
            "width": null,
            "min_width": null,
            "border": null,
            "align_items": null,
            "bottom": null,
            "_model_module": "@jupyter-widgets/base",
            "top": null,
            "grid_column": null,
            "overflow_y": null,
            "overflow_x": null,
            "grid_auto_flow": null,
            "grid_area": null,
            "grid_template_columns": null,
            "flex": null,
            "_model_name": "LayoutModel",
            "justify_items": null,
            "grid_row": null,
            "max_height": null,
            "align_content": null,
            "visibility": null,
            "align_self": null,
            "height": null,
            "min_height": null,
            "padding": null,
            "grid_auto_rows": null,
            "grid_gap": null,
            "max_width": null,
            "order": null,
            "_view_module_version": "1.2.0",
            "grid_template_areas": null,
            "object_position": null,
            "object_fit": null,
            "grid_auto_columns": null,
            "margin": null,
            "display": null,
            "left": null
          }
        },
        "dc0c93b330c54628b9c193185d57773e": {
          "model_module": "@jupyter-widgets/base",
          "model_name": "LayoutModel",
          "model_module_version": "1.2.0",
          "state": {
            "_view_name": "LayoutView",
            "grid_template_rows": null,
            "right": null,
            "justify_content": null,
            "_view_module": "@jupyter-widgets/base",
            "overflow": null,
            "_model_module_version": "1.2.0",
            "_view_count": null,
            "flex_flow": null,
            "width": null,
            "min_width": null,
            "border": null,
            "align_items": null,
            "bottom": null,
            "_model_module": "@jupyter-widgets/base",
            "top": null,
            "grid_column": null,
            "overflow_y": null,
            "overflow_x": null,
            "grid_auto_flow": null,
            "grid_area": null,
            "grid_template_columns": null,
            "flex": null,
            "_model_name": "LayoutModel",
            "justify_items": null,
            "grid_row": null,
            "max_height": null,
            "align_content": null,
            "visibility": null,
            "align_self": null,
            "height": null,
            "min_height": null,
            "padding": null,
            "grid_auto_rows": null,
            "grid_gap": null,
            "max_width": null,
            "order": null,
            "_view_module_version": "1.2.0",
            "grid_template_areas": null,
            "object_position": null,
            "object_fit": null,
            "grid_auto_columns": null,
            "margin": null,
            "display": null,
            "left": null
          }
        }
      }
    }
  },
  "cells": [
    {
      "cell_type": "markdown",
      "source": [
        "# **Overview**\n",
        "\n",
        "This notebook benchmarks MONAI's implementation of Transformation and Warp/Resample layers against SimpleITK by reproducing some of the results from the [SimpleITK notebook](http://insightsoftwareconsortium.github.io/SimpleITK-Notebooks/Python_html/21_Transforms_and_Resampling.html)."
      ],
      "metadata": {
        "id": "zwiedQdPL8QI"
      }
    },
    {
      "cell_type": "markdown",
      "source": [
        "# **Setup environment**"
      ],
      "metadata": {
        "id": "8JJjWE43kamJ"
      }
    },
    {
      "cell_type": "code",
      "execution_count": 1,
      "metadata": {
        "id": "Cedzz4Hhxc5K",
        "colab": {
          "base_uri": "https://localhost:8080/"
        },
        "outputId": "36f85e9d-9cff-4ce7-c0af-41a9bf1cedc2"
      },
      "outputs": [
        {
          "output_type": "stream",
          "name": "stdout",
          "text": [
            "\u001b[K     |████████████████████████████████| 721 kB 4.0 MB/s \n",
            "\u001b[K     |████████████████████████████████| 48.4 MB 18 kB/s \n",
            "\u001b[?25h"
          ]
        }
      ],
      "source": [
        "!pip install -q \"monai-weekly[nibabel]\"\n",
        "import monai\n",
        "from monai.apps.utils import download_url\n",
        "\n",
        "!pip install -q \"SimpleITK\"\n",
        "import SimpleITK as sitk\n",
        "\n",
        "import torch\n",
        "import os\n",
        "import tempfile\n",
        "import PIL\n",
        "import numpy as np\n",
        "\n",
        "%matplotlib inline\n",
        "from matplotlib import pyplot as plt\n",
        "from ipywidgets import interact, fixed"
      ]
    },
    {
      "cell_type": "markdown",
      "source": [
        "# **Download data**\n",
        "\n",
        "For comparison against SimpleITK implementation [results](http://insightsoftwareconsortium.github.io/SimpleITK-Notebooks/Python_html/21_Transforms_and_Resampling.html), download the SimpleITK logo."
      ],
      "metadata": {
        "id": "3dmamONB5Q9P"
      }
    },
    {
      "cell_type": "code",
      "source": [
        "# create temporary directory\n",
        "directory = os.environ.get(\"MONAI_DATA_DIRECTORY\")\n",
        "root_dir = tempfile.mkdtemp() if directory is None else directory\n",
        "print(f\"root dir is: {root_dir}\")\n",
        "\n",
        "# dict of file name and cooresponding urls\n",
        "url = f\"https://s3.amazonaws.com/simpleitk/public/notebooks/SHA512/f1b5ce1bf9d7ebc0bd66f1c3bc0f90d9e9798efc7d0c5ea7bebe0435f173355b27df632971d1771dc1fc3743c76753e6a28f6ed43c5531866bfa2b38f1b8fd46\"\n",
        "img_name = f\"{root_dir}/SimpleITK.jpg\"\n",
        "download_url(url, img_name)"
      ],
      "metadata": {
        "colab": {
          "base_uri": "https://localhost:8080/"
        },
        "id": "_fDeazwE0HLI",
        "outputId": "1a7a7186-ff86-4bb0-80fb-72d1d69f657b"
      },
      "execution_count": 2,
      "outputs": [
        {
          "output_type": "stream",
          "name": "stdout",
          "text": [
            "root dir is: /tmp/tmpwjxtrvnt\n"
          ]
        },
        {
          "output_type": "stream",
          "name": "stderr",
          "text": [
            "SimpleITK.jpg: 8.00kB [00:00, 10.3kB/s]"
          ]
        },
        {
          "output_type": "stream",
          "name": "stdout",
          "text": [
            "2022-01-04 23:55:11,211 - INFO - Downloaded: /tmp/tmpwjxtrvnt/SimpleITK.jpg\n",
            "2022-01-04 23:55:11,213 - INFO - Expected md5 is None, skip md5 check for file /tmp/tmpwjxtrvnt/SimpleITK.jpg.\n"
          ]
        },
        {
          "output_type": "stream",
          "name": "stderr",
          "text": [
            "\n"
          ]
        }
      ]
    },
    {
      "cell_type": "markdown",
      "source": [
        "# **Transfromation**\n",
        "\n",
        "This section displays the transformation functionalities in an interactive manner."
      ],
      "metadata": {
        "id": "UgnNBdAaPKnr"
      }
    },
    {
      "cell_type": "code",
      "source": [
        "def transformation_display(img_path, tx, ty, theta):\n",
        "    \"\"\"\n",
        "    transfrom a image by MOANI and SimpleITK and plot both transformed images\n",
        "    \"\"\"\n",
        "\n",
        "    # monai transform\n",
        "    monai_img = np.asarray(PIL.Image.open(img_name))\n",
        "    monai_img = monai_img.transpose((2, 0, 1))\n",
        "    transform = monai.transforms.Compose([\n",
        "       monai.transforms.Affined(\n",
        "           keys=[\"img\"], \n",
        "           rotate_params=-theta, \n",
        "           translate_params=(ty,tx),\n",
        "           padding_mode=\"zeros\"\n",
        "           ),\n",
        "       monai.transforms.ScaleIntensityd(keys=[\"img\"])\n",
        "       ])\n",
        "    monai_transformed = transform({\"img\": monai_img})[\"img\"].transpose((1, 2, 0))\n",
        "\n",
        "\n",
        "    # sitk transform\n",
        "    sitk_img = sitk.ReadImage(img_path)\n",
        "    euler2d_transform = sitk.Euler2DTransform()\n",
        "    euler2d_transform.SetCenter(\n",
        "        sitk_img.TransformContinuousIndexToPhysicalPoint(\n",
        "            np.array(sitk_img.GetSize()) / 2.0\n",
        "            )\n",
        "        )\n",
        "    euler2d_transform.SetTranslation((tx, ty))\n",
        "    euler2d_transform.SetAngle(theta)\n",
        "    sitk_transformed = sitk.Resample(sitk_img, euler2d_transform)\n",
        "\n",
        "    # plot monai and sitk transformed results as subplots\n",
        "    fig, ax = plt.subplots(2)\n",
        "    ax[0].imshow(monai_transformed)\n",
        "    ax[0].axis('off')\n",
        "    ax[0].set_title(\"MONAI\")\n",
        "    ax[1].imshow(sitk.GetArrayFromImage(sitk_transformed))\n",
        "    ax[1].axis('off')\n",
        "    ax[1].set_title(\"SimpleITK\")\n",
        "    plt.show()\n",
        "  \n",
        "\n",
        "# generate the interactive display\n",
        "interact(\n",
        "    transformation_display, \n",
        "    img_path=fixed(f\"{root_dir}/SimpleITK.jpg\"), \n",
        "    tx=(-128.0, 128.0, 2.0), \n",
        "    ty=(-64.0, 64.0), \n",
        "    theta=(-np.pi/4.0,np.pi/4.0)\n",
        "    );\n"
      ],
      "metadata": {
        "colab": {
          "base_uri": "https://localhost:8080/",
          "height": 349,
          "referenced_widgets": [
            "7459449177e94e4aba6f922e1d4c0ea6",
            "de659415a35f429f8405a6a9e15158bd",
            "9ad294c49bd347f79c387779c9f834f2",
            "19a0831f864143a6a2f42661c462c3aa",
            "745043c938484932a14909677e9f890e",
            "7e365b157f2b4b8bbd2e57e178fa34e1",
            "af0dd5e4da7940ddbe7e7cd5a0f61d7a",
            "e75f3d8cce5c4ad6aea33a02bf43d915",
            "fdbc7bc1621e41a4910965511254990b",
            "59640e49e5014652bcb2728d531b70eb",
            "9d94eb812bd24aedaef46508b4b9c61b",
            "e165ffe2d84144feb3e509836bf8a5b8",
            "dc0c93b330c54628b9c193185d57773e"
          ]
        },
        "id": "zx8TVYX_sV6x",
        "outputId": "259d2e50-f436-4be3-c865-b55d083a5b55"
      },
      "execution_count": 3,
      "outputs": [
        {
          "output_type": "display_data",
          "data": {
            "application/vnd.jupyter.widget-view+json": {
              "model_id": "7459449177e94e4aba6f922e1d4c0ea6",
              "version_minor": 0,
              "version_major": 2
            },
            "text/plain": [
              "interactive(children=(FloatSlider(value=0.0, description='tx', max=128.0, min=-128.0, step=2.0), FloatSlider(v…"
            ]
          },
          "metadata": {}
        }
      ]
    },
    {
      "cell_type": "markdown",
      "source": [
        "# **Warping**\n",
        "\n",
        "Warping distorts an `image` by `ddf` to give the `output`.\n",
        "\n",
        "The following example randomly sample 10 physical points (locations) on an image and assign ascending displacements in y(H) direction accordingly.\n",
        "Resampled intensities obtained by both MONAI and SimpleITK implementations are reported at all 10 points.\n",
        "\n",
        "First, 10 physical points are randomly sampled from the downloaded SimpleITK logo."
      ],
      "metadata": {
        "id": "8YVOtGXQMGAI"
      }
    },
    {
      "cell_type": "code",
      "source": [
        "# Read image\n",
        "img_path= f\"{root_dir}/SimpleITK.jpg\"\n",
        "monai_img = np.asarray(PIL.Image.open(img_name))\n",
        "monai_img = monai_img.transpose((2, 0, 1))\n",
        "monai_img = torch.tensor(monai_img, dtype=torch.float)\n",
        "sitk_img = sitk.ReadImage(img_path)\n",
        "\n",
        "width, height = sitk_img.GetSize()\n",
        "\n",
        "# Generate random samples inside the image, we will obtain the intensity/color values at these points.\n",
        "num_samples = 10\n",
        "physical_points = np.array([np.random.randint(monai_img.shape[1:]) for _ in range(10)], dtype=np.float)  # (10, 2)\n"
      ],
      "metadata": {
        "id": "CazGsgArvaYW"
      },
      "execution_count": 4,
      "outputs": []
    },
    {
      "cell_type": "markdown",
      "source": [
        "Currently, only spatial (4-D) and volumetric (5-D) input are supported by MONAI. In the following spatial (4-D) example, for an `image` of shape (batch, num_channels, H, W) and a `ddf` of shape (batch, 2, H, W), the output will have the same shape as `input`.\n",
        "\n",
        "For each output location `output[b, :, h, w]`, the size-2 vector `ddf[b, :, h, w] = [h', w']` specifies coordinate displacement in y(H) and x(W) direaction from the input location `image[b, :, h, w]`. In other words, the value at `output[b, :, h, w]` should correspond to the value at `input[b, :, h + h', w + w']`"
      ],
      "metadata": {
        "id": "dDwLlv7ickPx"
      }
    },
    {
      "cell_type": "code",
      "source": [
        "# initialise ddf as a zero matrix\n",
        "ddf = torch.zeros(2, height, width).to(torch.float)  # (2, H, W)\n",
        "# add displacement of y coordinate to sampled locations\n",
        "for i, pnt in enumerate(physical_points.astype(np.long)):\n",
        "  ddf[0, pnt[0], pnt[1]] += i\n",
        "# initialise warp layer\n",
        "warp = monai.networks.blocks.Warp(mode='bilinear', padding_mode='zeros')\n",
        "# warp, note an batch dimension is added and removed during calculation\n",
        "monai_resample = warp(\n",
        "    monai_img.unsqueeze(0), ddf.unsqueeze(0).to(monai_img)\n",
        ").squeeze(0)  # (3, H, W)"
      ],
      "metadata": {
        "colab": {
          "base_uri": "https://localhost:8080/"
        },
        "id": "fMcvKVzCdVsp",
        "outputId": "adf55474-8658-404c-8760-00e9946b7099"
      },
      "execution_count": 5,
      "outputs": [
        {
          "output_type": "stream",
          "name": "stderr",
          "text": [
            "/usr/local/lib/python3.7/dist-packages/monai/networks/blocks/warp.py:65: UserWarning: monai.networks.blocks.Warp: Using PyTorch native grid_sample.\n",
            "  warnings.warn(\"monai.networks.blocks.Warp: Using PyTorch native grid_sample.\")\n"
          ]
        }
      ]
    },
    {
      "cell_type": "markdown",
      "source": [
        "The same operation could be achived by the `Resample` method from SimpleITK. SimpleITK's procedural API provides three methods for performing resampling. Here we use \n",
        "\n",
        "`Resample(const Image &image1, const Image &referenceImage, Transform transform, InterpolatorEnum interpolator, double defaultPixelValue, PixelIDValueEnum outputPixelType)`"
      ],
      "metadata": {
        "id": "1qAjGkYnd_N0"
      }
    },
    {
      "cell_type": "code",
      "source": [
        "# Create an image of size [width, height]. The pixel type is irrelevant, as the image is \n",
        "# just defining the interpolation grid (sitkUInt8 has minimal memory footprint).\n",
        "interp_grid_img = sitk.Image([width, height], sitk.sitkUInt8)\n",
        "\n",
        "# initialise displacement\n",
        "sitk_displacement_img = sitk.Image([width, height], sitk.sitkVectorFloat64, sitk_img.GetDimension())\n",
        "# add displacement of y coordinate to sampled locations\n",
        "for i, pnt in enumerate(physical_points):\n",
        "  sitk_displacement_img[int(pnt[1]), int(pnt[0])] = np.array([0, i], dtype=np.float)\n",
        "\n",
        "# select linear interpolater to match `bilinear` mode in MONAI\n",
        "interpolator_enum = sitk.sitkLinear\n",
        "# set default_output_pixel_value to 0.0 to match `zero` padding_mode in MONAI\n",
        "default_output_pixel_value = 0.0\n",
        "# set output_pixel_type\n",
        "output_pixel_type = sitk.sitkVectorFloat32\n",
        "# resample\n",
        "sitk_resample = sitk.Resample(\n",
        "    sitk_img, \n",
        "    interp_grid_img, \n",
        "    sitk.DisplacementFieldTransform(sitk_displacement_img), \n",
        "    interpolator_enum, \n",
        "    default_output_pixel_value, \n",
        "    output_pixel_type\n",
        "    )\n",
        "\n",
        "# turn resampled image into numpy array for later comparison\n",
        "sitk_resample = sitk.GetArrayFromImage(sitk_resample)"
      ],
      "metadata": {
        "id": "ez4kFsLXeFXt"
      },
      "execution_count": 6,
      "outputs": []
    },
    {
      "cell_type": "markdown",
      "source": [
        "Compare results from MONAI and SimpleITK. As could be observed, same intensities are predicted by both MONAI and SimpleITK implementation at all 10 points."
      ],
      "metadata": {
        "id": "1ZrjT7jQgRJ_"
      }
    },
    {
      "cell_type": "code",
      "source": [
        "for i, pnt in enumerate(physical_points.astype(np.long)):\n",
        "    print(f\"at location {pnt}: original intensity {monai_img[:, pnt[0], pnt[1]]} \" + \n",
        "      f\"resampled to {monai_resample[:, pnt[0], pnt[1]]} by MONAI and {sitk_resample[pnt[0], pnt[1]]} by SITK\")"
      ],
      "metadata": {
        "colab": {
          "base_uri": "https://localhost:8080/"
        },
        "id": "9Z_K7G8rgQGe",
        "outputId": "0fab2178-eff3-4a25-9e17-dce77c69cd02"
      },
      "execution_count": 7,
      "outputs": [
        {
          "output_type": "stream",
          "name": "stdout",
          "text": [
            "at location [ 40 119]: original intensity tensor([254., 254., 255.])resampled to tensor([254.0000, 254.0000, 255.0000]) by MONAI and [254. 254. 255.] by SITK\n",
            "at location [14 55]: original intensity tensor([255., 255., 255.])resampled to tensor([255., 255., 255.]) by MONAI and [255. 255. 255.] by SITK\n",
            "at location [38 64]: original intensity tensor([255., 254., 249.])resampled to tensor([252., 239., 231.]) by MONAI and [252. 239. 231.] by SITK\n",
            "at location [ 39 124]: original intensity tensor([ 45.,  90., 155.])resampled to tensor([53.9998, 63.0002, 96.0006]) by MONAI and [54. 63. 96.] by SITK\n",
            "at location [14 66]: original intensity tensor([255., 255., 255.])resampled to tensor([255., 255., 255.]) by MONAI and [255. 255. 255.] by SITK\n",
            "at location [15 97]: original intensity tensor([255., 255., 255.])resampled to tensor([255., 255., 255.]) by MONAI and [255. 255. 255.] by SITK\n",
            "at location [ 19 155]: original intensity tensor([253., 253., 255.])resampled to tensor([252., 254., 253.]) by MONAI and [252. 254. 253.] by SITK\n",
            "at location [30 83]: original intensity tensor([246., 255., 253.])resampled to tensor([251., 255., 250.]) by MONAI and [251. 255. 250.] by SITK\n",
            "at location [42 61]: original intensity tensor([255., 255., 255.])resampled to tensor([255., 250., 255.]) by MONAI and [255. 250. 255.] by SITK\n",
            "at location [43 21]: original intensity tensor([255., 251., 255.])resampled to tensor([255., 255., 255.]) by MONAI and [255. 255. 255.] by SITK\n"
          ]
        }
      ]
    }
  ]
}