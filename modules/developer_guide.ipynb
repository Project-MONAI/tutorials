{
 "cells": [
  {
   "cell_type": "markdown",
   "metadata": {},
   "source": [
    "Copyright (c) MONAI Consortium  \n",
    "Licensed under the Apache License, Version 2.0 (the \"License\");  \n",
    "you may not use this file except in compliance with the License.  \n",
    "You may obtain a copy of the License at  \n",
    "&nbsp;&nbsp;&nbsp;&nbsp;http://www.apache.org/licenses/LICENSE-2.0  \n",
    "Unless required by applicable law or agreed to in writing, software  \n",
    "distributed under the License is distributed on an \"AS IS\" BASIS,  \n",
    "WITHOUT WARRANTIES OR CONDITIONS OF ANY KIND, either express or implied.  \n",
    "See the License for the specific language governing permissions and  \n",
    "limitations under the License."
   ]
  },
  {
   "cell_type": "markdown",
   "metadata": {
    "id": "WLbIJbxGDC95"
   },
   "source": [
    "# MONAI for PyTorch users\n",
    "This tutorial briefly introduces MONAI APIs and highlights its flexibility and usability. It assumes basic understanding of PyTorch, and shows how MONAI provide domain-optimized capabilities for deep learning in healthcare imaging."
   ]
  },
  {
   "cell_type": "markdown",
   "metadata": {
    "id": "mQGI9QnZE37_"
   },
   "source": [
    "## Setup environment\n",
    "\n",
    "MONAI's core functionality is written in Python and only depends on Numpy and Pytorch.\n",
    "\n",
    "This section installs the latest version of MONAI and verifies the installation."
   ]
  },
  {
   "cell_type": "code",
   "execution_count": 1,
   "metadata": {
    "colab": {
     "base_uri": "https://localhost:8080/"
    },
    "id": "G8pKPruSCe0e",
    "outputId": "0e6d0b3d-16fd-4dd0-82b9-920555533f69"
   },
   "outputs": [],
   "source": [
    "# install the latest weekly preview version of MONAI\n",
    "!python -c \"import monai\" || pip install -q \"monai-weekly[tqdm, nibabel, gdown, ignite]\""
   ]
  },
  {
   "cell_type": "markdown",
   "metadata": {},
   "source": [
    "## Setup imports"
   ]
  },
  {
   "cell_type": "code",
   "execution_count": null,
   "metadata": {
    "colab": {
     "base_uri": "https://localhost:8080/"
    },
    "id": "8Akply-HeKHm",
    "outputId": "fd40a7be-dd32-462c-8ebc-d367231670aa"
   },
   "outputs": [],
   "source": [
    "import monai.transforms as mt\n",
    "import logging\n",
    "import sys\n",
    "import matplotlib.pyplot as plt\n",
    "import ignite\n",
    "import numpy as np\n",
    "import torch\n",
    "import monai\n",
    "import warnings\n",
    "\n",
    "warnings.filterwarnings(\"ignore\")  # remove some scikit-image warnings\n",
    "\n",
    "\n",
    "logging.basicConfig(stream=sys.stdout, level=logging.INFO)\n",
    "monai.config.print_config()"
   ]
  },
  {
   "cell_type": "markdown",
   "metadata": {
    "id": "yV7SEzjDF9-Q"
   },
   "source": [
    "## Access public medical imaging dataset in a few lines of code\n",
    "Using a publicly available benchmark is important for open and reproducible research. MONAI aims at providing quick access to the well-known public datasets. This section starts a dataset of [Medical Segmentation Decathlon](http://medicaldecathlon.com/).\n",
    "\n",
    "The `DecathlonDataset` object is a thin wrapper of `torch.data.utils.Dataset`. \n",
    "It has  `__getitem__` and `__len__` methods implemented, fully compatible with Pytorch's build-in data loader `torch.data.utils.DataLoader`.\n",
    "\n",
    "Compared with the PyTorch `Dataset` APIs, `DecathlonDataset` has the additional capabilities of\n",
    "- automatic downloading and unzipping data\n",
    "- caching of data as well as intermediate results of preprocessing\n",
    "- random splits of training, validation, and test \n"
   ]
  },
  {
   "cell_type": "code",
   "execution_count": 3,
   "metadata": {
    "colab": {
     "base_uri": "https://localhost:8080/"
    },
    "id": "wLSWNutZIDii",
    "outputId": "83fe07cb-6fd3-498a-a6e4-3aedae8824c5"
   },
   "outputs": [
    {
     "name": "stdout",
     "output_type": "stream",
     "text": [
      "2023-02-22 12:42:35,803 - INFO - Verified 'Task05_Prostate.tar', md5: 35138f08b1efaef89d7424d2bcc928db.\n",
      "2023-02-22 12:42:35,804 - INFO - File exists: Task05_Prostate.tar, skipped downloading.\n",
      "2023-02-22 12:42:35,805 - INFO - Non-empty folder exists in Task05_Prostate, skipped extracting.\n"
     ]
    },
    {
     "name": "stderr",
     "output_type": "stream",
     "text": [
      "Loading dataset: 100%|█████████████████████████████████████████████████████████████████████████████████████████████████████████████████████████████████████████████████████████████████████████████████████████████████████████████| 26/26 [00:00<00:00, 44456.54it/s]"
     ]
    },
    {
     "name": "stdout",
     "output_type": "stream",
     "text": [
      "\n",
      "number of subjects: 26\n",
      "The first element in the dataset is\n",
      "{'image': 'Task05_Prostate/imagesTr/prostate_46.nii.gz', 'label': 'Task05_Prostate/labelsTr/prostate_46.nii.gz'}.\n"
     ]
    },
    {
     "name": "stderr",
     "output_type": "stream",
     "text": [
      "\n"
     ]
    }
   ],
   "source": [
    "dataset = monai.apps.DecathlonDataset(\n",
    "    root_dir=\"./\", task=\"Task05_Prostate\", section=\"training\", transform=None, download=True\n",
    ")\n",
    "print(f\"\\nnumber of subjects: {len(dataset)}\")\n",
    "print(f\"The first element in the dataset is\\n{dataset[0]}.\")"
   ]
  },
  {
   "cell_type": "markdown",
   "metadata": {
    "id": "POwC6_uvLFtt"
   },
   "source": [
    "The code section has created a `DecathlonDataset` object by downloading \"Task05_Prostate.tar\" (`download=True`) from the public repository, unzipping it, and parsing the JSON file provided by the archive.\n",
    "\n",
    "This is a three-class segmentation task for delineating prostate transitional zone and peripheral zone (background, TZ, PZ classes).  The input has two modalities, that is, T2 and ADC MRI."
   ]
  },
  {
   "cell_type": "markdown",
   "metadata": {
    "id": "3yRel2e3hxLo"
   },
   "source": [
    "`len(dataset)` and `dataset[0]` queries the size of the dataset, and fetches the first element of the dataset respectively.  As we haven't specified any image transforms for the dataset, the outputs of this iterable dataset are just pairs of image and segmentation file names."
   ]
  },
  {
   "cell_type": "markdown",
   "metadata": {
    "id": "_aMAATwVKmJy"
   },
   "source": [
    "## Flexible image data transformations\n",
    "This section introduces MONAI transforms that convert the file names into data arrays in memory, which will be ready to be consumed by the deep learning models. More examples on the pre-processing pipelines are available in the [tutorials repository](https://github.com/Project-MONAI/tutorials):\n",
    "\n",
    "- [3d_image_transforms](3d_image_transforms.ipynb)\n",
    "- [transforms_update_meta_data](transforms_update_meta_data.ipynb)\n",
    "- [integrate_3rd_party_transforms](integrate_3rd_party_transforms.ipynb)\n",
    "\n",
    "Here we briefly cover the main features for image pre-processing."
   ]
  },
  {
   "cell_type": "markdown",
   "metadata": {
    "id": "s7xMT2cEjJbx"
   },
   "source": [
    "### Array vs. Dictionary-based transforms"
   ]
  },
  {
   "cell_type": "markdown",
   "metadata": {
    "id": "vtruH9sjmZBI"
   },
   "source": [
    "Array transforms are basic building blocks in MONAI, it is a simple callable similar to `torchvision.transforms`. Except for two differences:\n",
    "- MONAI transforms implements medical imaging specific processing functionality\n",
    "- MONAI transforms assumes that the inputs are numpy array, pytorch tensors or tensor-like objects\n",
    "\n",
    "The following starts a loader transform which converts a filename string into the actual image data.\n",
    "\n",
    "Please refer to [the documentation for more options](https://docs.monai.io/en/latest/transforms.html#monai.transforms.LoadImage) to this transform."
   ]
  },
  {
   "cell_type": "code",
   "execution_count": 4,
   "metadata": {
    "colab": {
     "base_uri": "https://localhost:8080/"
    },
    "id": "TE5Q8axDjHRQ",
    "outputId": "97d6842c-bd73-4e37-8990-c766d8fb651b"
   },
   "outputs": [
    {
     "name": "stdout",
     "output_type": "stream",
     "text": [
      "torch.Size([320, 320, 24, 2])\n"
     ]
    }
   ],
   "source": [
    "loader = mt.LoadImage(image_only=True)\n",
    "img_array = loader(\"Task05_Prostate/imagesTr/prostate_02.nii.gz\")\n",
    "print(img_array.shape)"
   ]
  },
  {
   "cell_type": "markdown",
   "metadata": {
    "id": "AO-O5ZXFngUh"
   },
   "source": [
    "Dictionary transforms are nothing but wrappers of the array versions. Compared with their array-based counterparts, it's easier to apply the same type of operations or states to multiple data inputs.\n",
    "\n",
    "The following section reads a pair of image and segmentation mask, note that the `keys` need to be specified, so that the transforms know which items in the dictionary should be processed."
   ]
  },
  {
   "cell_type": "code",
   "execution_count": 5,
   "metadata": {
    "colab": {
     "base_uri": "https://localhost:8080/"
    },
    "id": "RryBbRnwMK8Y",
    "outputId": "88873a7d-7816-42d7-fbd4-0d0c6950ca8b"
   },
   "outputs": [
    {
     "name": "stdout",
     "output_type": "stream",
     "text": [
      "image shape: torch.Size([320, 320, 24, 2]), \n",
      "label shape: torch.Size([320, 320, 24])\n"
     ]
    }
   ],
   "source": [
    "dict_loader = mt.LoadImageD(keys=(\"image\", \"label\"))\n",
    "data_dict = dict_loader(\n",
    "    {\"image\": \"Task05_Prostate/imagesTr/prostate_02.nii.gz\", \"label\": \"Task05_Prostate/labelsTr/prostate_02.nii.gz\"}\n",
    ")\n",
    "print(f\"image shape: {data_dict['image'].shape}, \\nlabel shape: {data_dict['label'].shape}\")"
   ]
  },
  {
   "cell_type": "markdown",
   "metadata": {},
   "source": [
    "By default, `LoadImage` returns a MONAI `MetaTensor` instance, which is a subclass of PyTorch Tensor.\n",
    "\n",
    "MONAI is in a unique position, leveraging the most advanced machine learning libraries, \n",
    "and focusing on medical image domain-specific features. `MetaTensor` is the core data structure, making the medical image metadata loosely coupled with image array data in a deep learning pipeline.\n",
    "\n",
    "MetaTensor is highly interoperable across Numpy and PyTorch APIs by design, and is supported by all MONAI transforms. For more information please see the tutorials:\n",
    "\n",
    "- [transforms_metatensor](transforms_metatensor.ipynb)"
   ]
  },
  {
   "cell_type": "markdown",
   "metadata": {
    "id": "x7nKWpKPoNvF"
   },
   "source": [
    "### Compose the transforms"
   ]
  },
  {
   "cell_type": "markdown",
   "metadata": {
    "id": "qqsFxN84opS1"
   },
   "source": [
    "In many cases, it is beneficial to build a chain of transforms, tuning the preprocessing parameters, making fast preprocessing pipelines. `monai.transforms.Compose` is designed for these use cases.\n",
    "\n",
    "The following code starts a transform chain to do multiple pre-processing steps:\n",
    "- Load Nifti images (with image meta-data information)\n",
    "- Make both image and label channel-first (reshape the image and add a channel dimension for the label)\n",
    "- Make both image and label 1 millimeter isotropic\n",
    "- Make both image and label to be in the \"RAS\" coordinate system\n",
    "- Scale the image intensities\n",
    "- Resize both image and label to spatial size (64, 64, 32)-millimeters\n",
    "- Randomly rotate and scale the image, but keep the output size to be (64, 64, 32)-mm"
   ]
  },
  {
   "cell_type": "code",
   "execution_count": 6,
   "metadata": {
    "colab": {
     "base_uri": "https://localhost:8080/"
    },
    "id": "VdFXzJV-oNEM",
    "outputId": "7a639986-5b6b-4adf-dd8d-fe2790637102"
   },
   "outputs": [
    {
     "name": "stdout",
     "output_type": "stream",
     "text": [
      "torch.Size([2, 64, 64, 32]) torch.Size([1, 64, 64, 32])\n"
     ]
    }
   ],
   "source": [
    "KEYS = (\"image\", \"label\")\n",
    "\n",
    "xform = mt.Compose(\n",
    "    [\n",
    "        mt.LoadImageD(KEYS),\n",
    "        mt.EnsureChannelFirstD(\"image\"),\n",
    "        mt.AddChannelD(\"label\"),\n",
    "        mt.OrientationD(KEYS, axcodes=\"RAS\"),\n",
    "        mt.SpacingD(KEYS, pixdim=(1.0, 1.0, 1.0), mode=(\"bilinear\", \"nearest\")),\n",
    "        mt.ScaleIntensityD(keys=\"image\"),\n",
    "        mt.ResizeD(KEYS, (64, 64, 32), mode=(\"trilinear\", \"nearest\")),\n",
    "        mt.RandAffineD(\n",
    "            KEYS,\n",
    "            spatial_size=(-1, -1, -1),\n",
    "            rotate_range=(0, 0, np.pi / 2),\n",
    "            scale_range=(0.1, 0.1),\n",
    "            mode=(\"bilinear\", \"nearest\"),\n",
    "            prob=1.0,\n",
    "        ),\n",
    "    ]\n",
    ")\n",
    "\n",
    "data_dict = xform(\n",
    "    {\"image\": \"Task05_Prostate/imagesTr/prostate_02.nii.gz\", \"label\": \"Task05_Prostate/labelsTr/prostate_02.nii.gz\"}\n",
    ")\n",
    "print(data_dict[\"image\"].shape, data_dict[\"label\"].shape)"
   ]
  },
  {
   "cell_type": "markdown",
   "metadata": {
    "id": "Lr91W7y0r-Xi"
   },
   "source": [
    "There are a set of useful transforms in MONAI, and many more to come.\n",
    "Please find out the details at https://docs.monai.io/en/latest/transforms.html"
   ]
  },
  {
   "cell_type": "markdown",
   "metadata": {
    "id": "HgSh9o-FsPHG"
   },
   "source": [
    "## Dataset, transform, and data loader\n",
    "To recap what we have:\n",
    "- Dataset: a thin wrapper of `torch.utils.data.Dataset`\n",
    "- Transform: a callable, can be a part of a transform chain made by `Compose`\n",
    "- Setting transforms to a dataset, will enable the data loading and preprocessing pipeline\n",
    "\n",
    "The pipeline can work with the pytorch native data loader, which provides multi-processing support and flexible batch sampling schemes.\n",
    "\n",
    "However, it is recommended to work with the MONAI data loader `monai.data.DataLoader`, which is a wrapper of the pytorch native. MONAI data loader mainly adds the capabilities of:\n",
    "- properly handling randomized augmentations in the multi-process contexts\n",
    "- customized collate functions to flatten multi-sample data list into individual training samples\n",
    "\n",
    "*The initialization of `DecathlonDataset` involves caching the (non-randomizable) transforms' results. It seems to be slow, but when using the initialized object for a training of multiple epochs, we effectively trade the space for much improved speed.*"
   ]
  },
  {
   "cell_type": "code",
   "execution_count": 7,
   "metadata": {
    "colab": {
     "base_uri": "https://localhost:8080/"
    },
    "id": "849czsBWt5yw",
    "outputId": "229b096d-7533-493e-f496-34c13568c64e"
   },
   "outputs": [
    {
     "name": "stdout",
     "output_type": "stream",
     "text": [
      "2023-02-22 12:42:37,152 - INFO - Verified 'Task05_Prostate.tar', md5: 35138f08b1efaef89d7424d2bcc928db.\n",
      "2023-02-22 12:42:37,153 - INFO - File exists: Task05_Prostate.tar, skipped downloading.\n",
      "2023-02-22 12:42:37,154 - INFO - Non-empty folder exists in Task05_Prostate, skipped extracting.\n"
     ]
    },
    {
     "name": "stderr",
     "output_type": "stream",
     "text": [
      "Loading dataset: 100%|████████████████████████████████████████████████████████████████████████████████████████████████████████████████████████████████████████████████████████████████████████████████████████████████████████████████| 26/26 [00:11<00:00,  2.31it/s]\n"
     ]
    }
   ],
   "source": [
    "# start a chain of transforms\n",
    "xform = mt.Compose(\n",
    "    [\n",
    "        mt.LoadImageD(KEYS, image_only=True),\n",
    "        mt.EnsureChannelFirstD(\"image\"),\n",
    "        mt.AddChannelD(\"label\"),\n",
    "        mt.OrientationD(KEYS, axcodes=\"RAS\"),\n",
    "        mt.SpacingD(KEYS, pixdim=(1.0, 1.0, 1.0), mode=(\"bilinear\", \"nearest\")),\n",
    "        mt.ScaleIntensityD(keys=\"image\"),\n",
    "        mt.ResizeD(KEYS, (64, 64, 32), mode=(\"trilinear\", \"nearest\")),\n",
    "        mt.RandAffineD(\n",
    "            KEYS,\n",
    "            spatial_size=(-1, -1, -1),\n",
    "            rotate_range=(0, 0, np.pi / 2),\n",
    "            scale_range=(0.1, 0.1),\n",
    "            mode=(\"bilinear\", \"nearest\"),\n",
    "            prob=1.0,\n",
    "        ),\n",
    "    ]\n",
    ")\n",
    "# start a dataset\n",
    "dataset = monai.apps.DecathlonDataset(\n",
    "    root_dir=\"./\", task=\"Task05_Prostate\", section=\"training\", transform=xform, download=True\n",
    ")\n",
    "\n",
    "# start a pytorch dataloader\n",
    "# data_loader = torch.utils.data.DataLoader(dataset, batch_size=1, shuffle=False, num_workers=1)\n",
    "data_loader = monai.data.DataLoader(dataset, batch_size=1, shuffle=True, num_workers=1)"
   ]
  },
  {
   "cell_type": "markdown",
   "metadata": {
    "id": "r8C2LV75vptv"
   },
   "source": [
    "Take a peek at what's happening in the `data_dict` (rerun the following section will generate randomly augmented samples from the dataset):"
   ]
  },
  {
   "cell_type": "code",
   "execution_count": 8,
   "metadata": {
    "colab": {
     "base_uri": "https://localhost:8080/",
     "height": 185
    },
    "id": "7IIQ8bvTvo97",
    "outputId": "e34a79d9-8def-4ba5-b0bb-8be2f8d70b6e"
   },
   "outputs": [
    {
     "name": "stdout",
     "output_type": "stream",
     "text": [
      "torch.Size([1, 2, 64, 64, 32]) torch.Size([1, 1, 64, 64, 32]) ['Task05_Prostate/imagesTr/prostate_18.nii.gz']\n"
     ]
    },
    {
     "data": {
      "image/png": "[encoded data removed]",
      "text/plain": [
       "<Figure size 432x288 with 3 Axes>"
      ]
     },
     "metadata": {
      "needs_background": "light"
     },
     "output_type": "display_data"
    },
    {
     "name": "stdout",
     "output_type": "stream",
     "text": [
      "unique labels: [0. 1.]\n"
     ]
    }
   ],
   "source": [
    "data_dict = next(iter(data_loader))\n",
    "print(data_dict[\"image\"].shape, data_dict[\"label\"].shape, data_dict[\"image\"].meta[\"filename_or_obj\"])\n",
    "\n",
    "plt.subplots(1, 3)\n",
    "plt.subplot(1, 3, 1)\n",
    "plt.imshow(data_dict[\"image\"][0, 0, ..., 16])\n",
    "plt.subplot(1, 3, 2)\n",
    "plt.imshow(data_dict[\"image\"][0, 1, ..., 16])\n",
    "plt.subplot(1, 3, 3)\n",
    "plt.imshow(data_dict[\"label\"][0, 0, ..., 16])\n",
    "plt.show()\n",
    "\n",
    "print(f\"unique labels: {np.unique(data_dict['label'])}\")"
   ]
  },
  {
   "cell_type": "markdown",
   "metadata": {
    "id": "1lGzy62hpPe4"
   },
   "source": [
    "The data loader has added a batch dimension to both image and label, so that they are ready for the deep learning models.\n",
    "\n",
    "Because \"nearest\" interpolation mode is used for the label, the number of unique classes is preserved during the transforms."
   ]
  },
  {
   "cell_type": "markdown",
   "metadata": {
    "id": "Ru4U1eCdVR4M"
   },
   "source": [
    "## Layers, blocks, networks and loss functions\n",
    "\n",
    "We've gone through the data input pipeline. the properly preprocessed data are ready for the 3-class segmentation task using two modalities inputs.\n",
    "\n",
    "This section creates a UNet model, as well as a loss function and optimizer. \n",
    "\n",
    "All these modules are direct uses or extensions of the PyTorch interfaces (such as `torch.nn.Module`). They could be replaced by any customized Python code, as long as the code also follows the standard PyTorch APIs.\n",
    "\n",
    "MONAI's modules focus on providing enhanced modules for medical images analysis:\n",
    "- implements reference networks with the aims of both flexibility and code readability\n",
    "- predefined layers and blocks which are compatible with 1D, 2D and 3D networks\n",
    "- domain-specific loss functions"
   ]
  },
  {
   "cell_type": "code",
   "execution_count": 9,
   "metadata": {
    "id": "ns1P9hNNVZU5"
   },
   "outputs": [],
   "source": [
    "device = torch.device(\"cuda:0\" if torch.cuda.is_available() else \"cpu\")\n",
    "net = monai.networks.nets.UNet(\n",
    "    spatial_dims=3,\n",
    "    in_channels=2,\n",
    "    out_channels=3,\n",
    "    channels=(16, 32, 64, 128, 256),\n",
    "    strides=(2, 2, 2, 2),\n",
    "    num_res_units=2,\n",
    "    norm=monai.networks.layers.Norm.BATCH,\n",
    ").to(device)\n",
    "loss = monai.losses.DiceLoss(to_onehot_y=True, softmax=True)\n",
    "opt = torch.optim.Adam(net.parameters(), 1e-2)"
   ]
  },
  {
   "cell_type": "markdown",
   "metadata": {
    "id": "y9cIBMY5ktcF"
   },
   "source": [
    "`UNet` is defined with a `dimensions` parameter. It specifies the number of spatial dimensions of the pytorch APIs, such as Conv1d, Conv2d and Conv3d. With the same implementation, it could be easily configured for 1D, 2D, 3D, and multi-modal training.\n",
    "\n",
    "`UNet` as an extension of `torch.nn.Module` is a set of MONAI blocks and layers organized in a specific way. The blocks and layers, such as commonly used combinations of \"Conv. + Feature Norm. + Activation\", are designed as reusable submodules."
   ]
  },
  {
   "cell_type": "markdown",
   "metadata": {
    "id": "XENK4QqZXeIl"
   },
   "source": [
    "## Sliding window inference\n",
    "For this commonly used module, MONAI provides a simple PyTorch based implementation, which only requires specifications of window size and a input model (which could be a `torch.nn.Module` implementation)."
   ]
  },
  {
   "cell_type": "markdown",
   "metadata": {
    "id": "69wwB8teaXdA"
   },
   "source": [
    "The following demo shows you a toy of sliding window inference on an input image of (1, 1, 200, 200) by aggregating (40, 40) spatial size windows running through all the spatial locations.\n",
    "\n",
    "You can change the `roi_size`, `sw_batch_size`, and `overlap` parameters to see their impacts on the sliding window outputs."
   ]
  },
  {
   "cell_type": "code",
   "execution_count": 10,
   "metadata": {
    "id": "pYDG9BPHXlvC"
   },
   "outputs": [],
   "source": [
    "class ToyModel:\n",
    "    # A simple model generates the output by adding an integer `pred` to input.\n",
    "    # each call of this instance increases the integer by 1.\n",
    "    pred = 0\n",
    "\n",
    "    def __call__(self, input):\n",
    "        self.pred = self.pred + 1\n",
    "        input = input + self.pred\n",
    "        return input\n",
    "\n",
    "\n",
    "infer = monai.inferers.SlidingWindowInferer(roi_size=(40, 40), sw_batch_size=1, overlap=0)\n",
    "input_tensor = torch.zeros(1, 1, 200, 200)\n",
    "output_tensor = infer(input_tensor, ToyModel())"
   ]
  },
  {
   "cell_type": "code",
   "execution_count": 11,
   "metadata": {
    "colab": {
     "base_uri": "https://localhost:8080/",
     "height": 269
    },
    "id": "xcP4zo65Y7m1",
    "outputId": "599e86e7-cdda-433c-eb1a-9b24c80920d1"
   },
   "outputs": [
    {
     "data": {
      "image/png": "[encoded data removed]",
      "text/plain": [
       "<Figure size 432x288 with 1 Axes>"
      ]
     },
     "metadata": {
      "needs_background": "light"
     },
     "output_type": "display_data"
    }
   ],
   "source": [
    "plt.imshow(output_tensor[0, 0])\n",
    "plt.show()"
   ]
  },
  {
   "cell_type": "markdown",
   "metadata": {
    "id": "meGyNoAbPYOu"
   },
   "source": [
    "## Start a training workflow (with validations at every epoch)\n",
    "\n",
    "The input pipeline, network architectures, loss functions are all compatible with any existing pytorch-based workflow. Please see the tutorials for different use cases:\n",
    "https://github.com/Project-MONAI/tutorials\n",
    "\n",
    "- [Array-based U-Net training example](../3d_segmentation/torch/unet_training_array.py)\n",
    "- [Dict-based U-Net training example](../3d_segmentation/torch/unet_training_dict.py)"
   ]
  },
  {
   "cell_type": "markdown",
   "metadata": {
    "id": "7xw-_DrKSZZz"
   },
   "source": [
    "\n",
    "Here we would like to highlight the workflow utilities, built by MONAI based on PyTorch-Ignite.  The main goal is to reduce user's efforts when building relatively standard training workflows."
   ]
  },
  {
   "cell_type": "code",
   "execution_count": 12,
   "metadata": {
    "colab": {
     "base_uri": "https://localhost:8080/"
    },
    "id": "kQnDhk3LPXj1",
    "outputId": "43c9bb54-b8e8-454b-8a90-3887fd3af246"
   },
   "outputs": [
    {
     "name": "stdout",
     "output_type": "stream",
     "text": [
      "0.4.10\n"
     ]
    }
   ],
   "source": [
    "print(ignite.__version__)"
   ]
  },
  {
   "cell_type": "markdown",
   "metadata": {
    "id": "kvn_6mf9gZoA"
   },
   "source": [
    "The following commands will start a `SupervisedTrainer` instance. As an extension of Pytorch ignite's facilities, it combines all the elements mentioned before. Calling `trainer.run()` will train the network for two epochs and compute `MeadDice` metric based on the training data at the end of every epoch.\n",
    "\n",
    "The `key_train_metric` is used to track the progress of model quality improvement. Additional handlers could be set to do early stopping and learning rate scheduling.\n",
    "\n",
    "The `StatsHandler` is triggered at each training iteration, to print diagnostic information to stdout.  These could be configured to generate detailed training logs at a user-specified frequency.\n",
    "\n",
    "For more information about the event handling system, please refer to the documentation https://docs.monai.io/en/latest/handlers.html.\n",
    "\n",
    "It is worth noting that these features facilitate fast prototyping of regular training and validation pipelines.  The users can always choose to build their own pipelines, benefiting from the modules mentioned in the previous sections."
   ]
  },
  {
   "cell_type": "code",
   "execution_count": null,
   "metadata": {
    "id": "bRLOKFnLvm3c"
   },
   "outputs": [],
   "source": [
    "trainer = monai.engines.SupervisedTrainer(\n",
    "    device=device,\n",
    "    max_epochs=2,\n",
    "    train_data_loader=data_loader,\n",
    "    network=net,\n",
    "    optimizer=opt,\n",
    "    loss_function=loss,\n",
    "    # inferer=monai.inferers.SlidingWindowInferer((32, 32, -1), sw_batch_size=2),  # optionally using a sw inferer\n",
    "    postprocessing=mt.AsDiscreteD(keys=[\"pred\", \"label\"], argmax=(True, False), to_onehot=3),\n",
    "    key_train_metric={\n",
    "        \"train_meandice\": monai.handlers.MeanDice(output_transform=monai.handlers.from_engine([\"pred\", \"label\"]))\n",
    "    },\n",
    "    train_handlers=monai.handlers.StatsHandler(\n",
    "        tag_name=\"train_loss\", output_transform=monai.handlers.from_engine([\"loss\"], first=True)\n",
    "    ),\n",
    ")\n",
    "trainer.run()"
   ]
  },
  {
   "cell_type": "markdown",
   "metadata": {
    "id": "19T1jA1m6BUY"
   },
   "source": [
    "## Deterministic training\n",
    "Deterministic training support is important for reproducible research.\n",
    "MONAI currently provides two mechanisms:\n",
    "\n",
    "1. set the random state of all the random transforms. This will not affect the global random state. For example:\n",
    "```python\n",
    "# define a transform chain for pre-processing\n",
    "train_transforms = monai.transforms.Compose([\n",
    "    LoadImaged(keys=['image', 'label']),\n",
    "    RandRotate90d(keys=['image', 'label'], prob=0.2, spatial_axes=[0, 2]),\n",
    "    ... ...\n",
    "])\n",
    "# set determinism for reproducibility\n",
    "train_transforms.set_random_state(seed=0)\n",
    "```\n",
    "\n",
    "2. enable deterministic training globally for python, numpy and pytorh in one line of code, for example:\n",
    "``` \n",
    "monai.utils.set_determinism(seed=0, additional_settings=None)\n",
    "```"
   ]
  },
  {
   "cell_type": "markdown",
   "metadata": {
    "id": "riewzpdHc12h"
   },
   "source": [
    "## Summary\n",
    "\n",
    "We have walked through the major modules in MONAI. By making highly flexible extensions and wrappers, MONAI enhances the pytorch APIs from a medical image analysis perspective.\n",
    "\n",
    "For details of our latest milestone highlights, please visit https://docs.monai.io/en/latest/highlights.html.\n",
    "\n",
    "To dive into MONAI, the tutorials repository is a good starting point https://github.com/Project-MONAI/tutorials.\n",
    "\n",
    "For API documentation, please visit https://docs.monai.io/en/stable/api.html."
   ]
  }
 ],
 "metadata": {
  "accelerator": "GPU",
  "colab": {
   "provenance": []
  },
  "kernelspec": {
   "display_name": "Python 3 (ipykernel)",
   "language": "python",
   "name": "python3"
  },
  "language_info": {
   "codemirror_mode": {
    "name": "ipython",
    "version": 3
   },
   "file_extension": ".py",
   "mimetype": "text/x-python",
   "name": "python",
   "nbconvert_exporter": "python",
   "pygments_lexer": "ipython3",
   "version": "3.8.13"
  }
 },
 "nbformat": 4,
 "nbformat_minor": 1
}
