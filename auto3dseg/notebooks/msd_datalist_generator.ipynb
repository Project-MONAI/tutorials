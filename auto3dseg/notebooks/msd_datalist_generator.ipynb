{
 "cells": [
  {
   "cell_type": "markdown",
   "metadata": {
    "pycharm": {
     "name": "#%% md\n"
    }
   },
   "source": [
    "Copyright (c) MONAI Consortium  \n",
    "Licensed under the Apache License, Version 2.0 (the \"License\");  \n",
    "you may not use this file except in compliance with the License.  \n",
    "You may obtain a copy of the License at  \n",
    "    http://www.apache.org/licenses/LICENSE-2.0  \n",
    "Unless required by applicable law or agreed to in writing, software  \n",
    "distributed under the License is distributed on an \"AS IS\" BASIS,  \n",
    "WITHOUT WARRANTIES OR CONDITIONS OF ANY KIND, either express or implied.  \n",
    "See the License for the specific language governing permissions and  \n",
    "limitations under the License.  \n",
    "\n",
    "# Datalist Generator"
   ]
  },
  {
   "cell_type": "markdown",
   "metadata": {
    "pycharm": {
     "name": "#%% md\n"
    }
   },
   "source": [
    "## Setup environment"
   ]
  },
  {
   "cell_type": "code",
   "execution_count": 50,
   "metadata": {
    "pycharm": {
     "is_executing": true,
     "name": "#%%\n"
    }
   },
   "outputs": [],
   "source": [
    "!python3 -c \"import monai\" || pip install -q \"monai\""
   ]
  },
  {
   "cell_type": "markdown",
   "source": [
    "## Setup imports"
   ],
   "metadata": {
    "collapsed": false,
    "pycharm": {
     "name": "#%% md\n"
    }
   }
  },
  {
   "cell_type": "code",
   "execution_count": 51,
   "metadata": {
    "pycharm": {
     "name": "#%%\n"
    }
   },
   "outputs": [
    {
     "name": "stdout",
     "output_type": "stream",
     "text": [
      "MONAI version: 1.1.0\n",
      "Numpy version: 1.24.1\n",
      "Pytorch version: 1.13.1\n",
      "MONAI flags: HAS_EXT = False, USE_COMPILED = False, USE_META_DICT = False\n",
      "MONAI rev id: a2ec3752f54bfc3b40e7952234fbeb5452ed63e3\n",
      "MONAI __file__: /Users/udiram/Dropbox/Kidney_Volume_Recognition/code/monai_tutorials/lib/python3.8/site-packages/monai/__init__.py\n",
      "\n",
      "Optional dependencies:\n",
      "Pytorch Ignite version: NOT INSTALLED or UNKNOWN VERSION.\n",
      "Nibabel version: NOT INSTALLED or UNKNOWN VERSION.\n",
      "scikit-image version: NOT INSTALLED or UNKNOWN VERSION.\n",
      "Pillow version: NOT INSTALLED or UNKNOWN VERSION.\n",
      "Tensorboard version: NOT INSTALLED or UNKNOWN VERSION.\n",
      "gdown version: NOT INSTALLED or UNKNOWN VERSION.\n",
      "TorchVision version: NOT INSTALLED or UNKNOWN VERSION.\n",
      "tqdm version: 4.64.1\n",
      "lmdb version: NOT INSTALLED or UNKNOWN VERSION.\n",
      "psutil version: 5.9.4\n",
      "pandas version: NOT INSTALLED or UNKNOWN VERSION.\n",
      "einops version: NOT INSTALLED or UNKNOWN VERSION.\n",
      "transformers version: NOT INSTALLED or UNKNOWN VERSION.\n",
      "mlflow version: NOT INSTALLED or UNKNOWN VERSION.\n",
      "pynrrd version: NOT INSTALLED or UNKNOWN VERSION.\n",
      "\n",
      "For details about installing the optional dependencies, please visit:\n",
      "    https://docs.monai.io/en/latest/installation.html#installing-the-recommended-dependencies\n",
      "\n"
     ]
    }
   ],
   "source": [
    "import os\n",
    "import json\n",
    "import random\n",
    "import shutil\n",
    "import tempfile\n",
    "from monai.config import print_config\n",
    "from monai.apps import download_and_extract\n",
    "print_config()"
   ]
  },
  {
   "cell_type": "markdown",
   "metadata": {
    "pycharm": {
     "name": "#%% md\n"
    }
   },
   "source": [
    "# Setup paths to your data"
   ]
  },
  {
   "cell_type": "code",
   "execution_count": 52,
   "metadata": {
    "pycharm": {
     "name": "#%%\n"
    }
   },
   "outputs": [
    {
     "name": "stdout",
     "output_type": "stream",
     "text": [
      "/var/folders/gr/5q39rjj57fs4z15w99hz0pqh0000gn/T/tmpspufmjq8\n"
     ]
    }
   ],
   "source": [
    "directory = os.environ.get(\"MONAI_DATA_DIRECTORY\")\n",
    "root_dir = tempfile.mkdtemp() if directory is None else directory\n",
    "print(root_dir)"
   ]
  },
  {
   "cell_type": "markdown",
   "metadata": {
    "pycharm": {
     "name": "#%% md\n"
    }
   },
   "source": [
    "# Download sample MSD Dataset"
   ]
  },
  {
   "cell_type": "code",
   "execution_count": 53,
   "metadata": {
    "pycharm": {
     "name": "#%%\n"
    }
   },
   "outputs": [
    {
     "name": "stdout",
     "output_type": "stream",
     "text": [
      "2023-01-11 08:54:52,530 - INFO - Downloaded: /var/folders/gr/5q39rjj57fs4z15w99hz0pqh0000gn/T/tmpspufmjq8/Task04_Hippocampus.tar\n",
      "2023-01-11 08:54:52,531 - INFO - Expected md5 is None, skip md5 check for file /var/folders/gr/5q39rjj57fs4z15w99hz0pqh0000gn/T/tmpspufmjq8/Task04_Hippocampus.tar.\n",
      "2023-01-11 08:54:52,533 - INFO - Writing into directory: /var/folders/gr/5q39rjj57fs4z15w99hz0pqh0000gn/T/tmpspufmjq8.\n"
     ]
    }
   ],
   "source": [
    "msd_task = \"Task04_Hippocampus\"\n",
    "resource = \"https://msd-for-monai.s3-us-west-2.amazonaws.com/\" + msd_task + \".tar\"\n",
    "\n",
    "compressed_file = os.path.join(root_dir, msd_task + \".tar\")\n",
    "dataroot = os.path.join(root_dir, msd_task)\n",
    "\n",
    "if not os.path.exists(dataroot):\n",
    "    download_and_extract(resource, compressed_file, root_dir)"
   ]
  },
  {
   "cell_type": "markdown",
   "metadata": {
    "pycharm": {
     "name": "#%% md\n"
    }
   },
   "source": [
    "# MSD dataset structure follows the following convention:"
   ]
  },
  {
   "cell_type": "code",
   "execution_count": 54,
   "metadata": {
    "pycharm": {
     "name": "#%%\n"
    }
   },
   "outputs": [],
   "source": [
    "test_dir = os.path.join(dataroot, \"imagesTs/\")\n",
    "train_dir = os.path.join(dataroot, \"imagesTr/\")\n",
    "label_dir = os.path.join(dataroot, \"labelsTr/\")"
   ]
  },
  {
   "cell_type": "markdown",
   "metadata": {
    "pycharm": {
     "name": "#%% md\n"
    }
   },
   "source": [
    "# Construct skeleton JSON to populate with your own data"
   ]
  },
  {
   "cell_type": "code",
   "execution_count": 55,
   "metadata": {
    "pycharm": {
     "name": "#%%\n"
    }
   },
   "outputs": [],
   "source": [
    "datalist_json = {\n",
    "    \"testing\": [],\n",
    "    \"training\": []\n",
    "}"
   ]
  },
  {
   "cell_type": "markdown",
   "metadata": {
    "pycharm": {
     "name": "#%% md\n"
    }
   },
   "source": [
    "# Populate JSON with test data"
   ]
  },
  {
   "cell_type": "code",
   "execution_count": 56,
   "metadata": {
    "pycharm": {
     "name": "#%%\n"
    }
   },
   "outputs": [],
   "source": [
    "for file in os.listdir(test_dir):\n",
    "    datalist_json[\"testing\"].append({\n",
    "        \"image\": './imagesTs/' + file,\n",
    "    })"
   ]
  },
  {
   "cell_type": "markdown",
   "metadata": {
    "pycharm": {
     "name": "#%% md\n"
    }
   },
   "source": [
    "# Visualise testing data"
   ]
  },
  {
   "cell_type": "code",
   "execution_count": 57,
   "metadata": {
    "pycharm": {
     "name": "#%%\n"
    }
   },
   "outputs": [
    {
     "data": {
      "text/plain": [
       "[{'image': './imagesTs/hippocampus_267.nii.gz'},\n",
       " {'image': './imagesTs/hippocampus_379.nii.gz'},\n",
       " {'image': './imagesTs/hippocampus_208.nii.gz'},\n",
       " {'image': './imagesTs/hippocampus_275.nii.gz'},\n",
       " {'image': './imagesTs/hippocampus_131.nii.gz'},\n",
       " {'image': './imagesTs/hippocampus_140.nii.gz'},\n",
       " {'image': './imagesTs/hippocampus_076.nii.gz'},\n",
       " {'image': './imagesTs/hippocampus_115.nii.gz'},\n",
       " {'image': './imagesTs/hippocampus_168.nii.gz'},\n",
       " {'image': './imagesTs/hippocampus_119.nii.gz'}]"
      ]
     },
     "execution_count": 57,
     "metadata": {},
     "output_type": "execute_result"
    }
   ],
   "source": [
    "datalist_json['testing'][:10]"
   ]
  },
  {
   "cell_type": "markdown",
   "metadata": {
    "pycharm": {
     "name": "#%% md\n"
    }
   },
   "source": [
    "# Populate with training images and labels in your directory"
   ]
  },
  {
   "cell_type": "code",
   "execution_count": 58,
   "metadata": {
    "pycharm": {
     "name": "#%%\n"
    }
   },
   "outputs": [],
   "source": [
    "for file in os.listdir(train_dir):\n",
    "    datalist_json[\"training\"].append({\n",
    "        \"image\": './imagesTr/' + file,\n",
    "        \"label\": './labelsTr/' + file,\n",
    "        \"fold\": 0  # Initialize as single fold\n",
    "    })"
   ]
  },
  {
   "cell_type": "markdown",
   "metadata": {
    "pycharm": {
     "name": "#%% md\n"
    }
   },
   "source": [
    "# Visualise training data"
   ]
  },
  {
   "cell_type": "code",
   "execution_count": 59,
   "metadata": {
    "pycharm": {
     "name": "#%%\n"
    }
   },
   "outputs": [
    {
     "data": {
      "text/plain": [
       "[{'image': './imagesTr/hippocampus_367.nii.gz',\n",
       "  'label': './labelsTr/hippocampus_367.nii.gz',\n",
       "  'fold': 0},\n",
       " {'image': './imagesTr/hippocampus_304.nii.gz',\n",
       "  'label': './labelsTr/hippocampus_304.nii.gz',\n",
       "  'fold': 0},\n",
       " {'image': './imagesTr/hippocampus_204.nii.gz',\n",
       "  'label': './labelsTr/hippocampus_204.nii.gz',\n",
       "  'fold': 0},\n",
       " {'image': './imagesTr/hippocampus_279.nii.gz',\n",
       "  'label': './labelsTr/hippocampus_279.nii.gz',\n",
       "  'fold': 0},\n",
       " {'image': './imagesTr/hippocampus_308.nii.gz',\n",
       "  'label': './labelsTr/hippocampus_308.nii.gz',\n",
       "  'fold': 0},\n",
       " {'image': './imagesTr/hippocampus_375.nii.gz',\n",
       "  'label': './labelsTr/hippocampus_375.nii.gz',\n",
       "  'fold': 0},\n",
       " {'image': './imagesTr/hippocampus_216.nii.gz',\n",
       "  'label': './labelsTr/hippocampus_216.nii.gz',\n",
       "  'fold': 0},\n",
       " {'image': './imagesTr/hippocampus_316.nii.gz',\n",
       "  'label': './labelsTr/hippocampus_316.nii.gz',\n",
       "  'fold': 0},\n",
       " {'image': './imagesTr/hippocampus_089.nii.gz',\n",
       "  'label': './labelsTr/hippocampus_089.nii.gz',\n",
       "  'fold': 0},\n",
       " {'image': './imagesTr/hippocampus_189.nii.gz',\n",
       "  'label': './labelsTr/hippocampus_189.nii.gz',\n",
       "  'fold': 0}]"
      ]
     },
     "execution_count": 59,
     "metadata": {},
     "output_type": "execute_result"
    }
   ],
   "source": [
    "datalist_json['training'][:10]"
   ]
  },
  {
   "cell_type": "markdown",
   "metadata": {
    "pycharm": {
     "name": "#%% md\n"
    }
   },
   "source": [
    "# Randomise training data\n"
   ]
  },
  {
   "cell_type": "code",
   "execution_count": 60,
   "metadata": {
    "pycharm": {
     "name": "#%%\n"
    }
   },
   "outputs": [
    {
     "data": {
      "text/plain": [
       "[{'image': './imagesTr/hippocampus_236.nii.gz',\n",
       "  'label': './labelsTr/hippocampus_236.nii.gz',\n",
       "  'fold': 0},\n",
       " {'image': './imagesTr/hippocampus_189.nii.gz',\n",
       "  'label': './labelsTr/hippocampus_189.nii.gz',\n",
       "  'fold': 0},\n",
       " {'image': './imagesTr/hippocampus_188.nii.gz',\n",
       "  'label': './labelsTr/hippocampus_188.nii.gz',\n",
       "  'fold': 0},\n",
       " {'image': './imagesTr/hippocampus_330.nii.gz',\n",
       "  'label': './labelsTr/hippocampus_330.nii.gz',\n",
       "  'fold': 0},\n",
       " {'image': './imagesTr/hippocampus_375.nii.gz',\n",
       "  'label': './labelsTr/hippocampus_375.nii.gz',\n",
       "  'fold': 0},\n",
       " {'image': './imagesTr/hippocampus_280.nii.gz',\n",
       "  'label': './labelsTr/hippocampus_280.nii.gz',\n",
       "  'fold': 0},\n",
       " {'image': './imagesTr/hippocampus_038.nii.gz',\n",
       "  'label': './labelsTr/hippocampus_038.nii.gz',\n",
       "  'fold': 0},\n",
       " {'image': './imagesTr/hippocampus_229.nii.gz',\n",
       "  'label': './labelsTr/hippocampus_229.nii.gz',\n",
       "  'fold': 0},\n",
       " {'image': './imagesTr/._hippocampus_001.nii.gz',\n",
       "  'label': './labelsTr/._hippocampus_001.nii.gz',\n",
       "  'fold': 0},\n",
       " {'image': './imagesTr/hippocampus_017.nii.gz',\n",
       "  'label': './labelsTr/hippocampus_017.nii.gz',\n",
       "  'fold': 0}]"
      ]
     },
     "execution_count": 60,
     "metadata": {},
     "output_type": "execute_result"
    }
   ],
   "source": [
    "random.seed(42)\n",
    "random.shuffle(datalist_json['training'])\n",
    "datalist_json['training'][:10]"
   ]
  },
  {
   "cell_type": "markdown",
   "metadata": {
    "pycharm": {
     "name": "#%% md\n"
    }
   },
   "source": [
    "# Split training data into N random folds"
   ]
  },
  {
   "cell_type": "code",
   "execution_count": 61,
   "metadata": {
    "pycharm": {
     "name": "#%%\n"
    }
   },
   "outputs": [],
   "source": [
    "num_folds = 5\n",
    "fold_size = len(datalist_json['training']) // num_folds\n",
    "for i in range(num_folds):\n",
    "    for j in range(fold_size):\n",
    "        datalist_json['training'][i * fold_size + j]['fold'] = i"
   ]
  },
  {
   "cell_type": "markdown",
   "metadata": {
    "pycharm": {
     "name": "#%% md\n"
    }
   },
   "source": [
    "# Visualise final training data with all randomised folds"
   ]
  },
  {
   "cell_type": "code",
   "execution_count": 62,
   "metadata": {
    "pycharm": {
     "name": "#%%\n"
    }
   },
   "outputs": [
    {
     "data": {
      "text/plain": [
       "[{'image': './imagesTr/hippocampus_236.nii.gz',\n",
       "  'label': './labelsTr/hippocampus_236.nii.gz',\n",
       "  'fold': 0},\n",
       " {'image': './imagesTr/hippocampus_189.nii.gz',\n",
       "  'label': './labelsTr/hippocampus_189.nii.gz',\n",
       "  'fold': 0},\n",
       " {'image': './imagesTr/hippocampus_188.nii.gz',\n",
       "  'label': './labelsTr/hippocampus_188.nii.gz',\n",
       "  'fold': 0},\n",
       " {'image': './imagesTr/hippocampus_330.nii.gz',\n",
       "  'label': './labelsTr/hippocampus_330.nii.gz',\n",
       "  'fold': 0},\n",
       " {'image': './imagesTr/hippocampus_375.nii.gz',\n",
       "  'label': './labelsTr/hippocampus_375.nii.gz',\n",
       "  'fold': 0}]"
      ]
     },
     "execution_count": 62,
     "metadata": {},
     "output_type": "execute_result"
    }
   ],
   "source": [
    "datalist_json['training'][:5]"
   ]
  },
  {
   "cell_type": "markdown",
   "metadata": {
    "pycharm": {
     "name": "#%% md\n"
    }
   },
   "source": [
    "# Save JSON to file"
   ]
  },
  {
   "cell_type": "code",
   "execution_count": 63,
   "metadata": {
    "pycharm": {
     "name": "#%%\n"
    }
   },
   "outputs": [],
   "source": [
    "with open('datalist.json', 'w', encoding='utf-8') as f:\n",
    "    json.dump(datalist_json, f, ensure_ascii=False, indent=4)"
   ]
  },
  {
   "cell_type": "markdown",
   "metadata": {
    "pycharm": {
     "name": "#%% md\n"
    }
   },
   "source": [
    "# Cleanup temporary files"
   ]
  },
  {
   "cell_type": "code",
   "execution_count": 64,
   "metadata": {
    "pycharm": {
     "name": "#%%\n"
    }
   },
   "outputs": [],
   "source": [
    "if directory is None:\n",
    "    shutil.rmtree(root_dir)"
   ]
  }
 ],
 "metadata": {
  "kernelspec": {
   "display_name": "Python 3 (ipykernel)",
   "language": "python",
   "name": "python3"
  },
  "language_info": {
   "codemirror_mode": {
    "name": "ipython",
    "version": 3
   },
   "file_extension": ".py",
   "mimetype": "text/x-python",
   "name": "python",
   "nbconvert_exporter": "python",
   "pygments_lexer": "ipython3",
   "version": "3.8.4"
  }
 },
 "nbformat": 4,
 "nbformat_minor": 1
}
