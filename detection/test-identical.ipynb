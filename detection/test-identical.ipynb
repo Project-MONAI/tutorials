{
 "cells": [
  {
   "cell_type": "code",
   "execution_count": 1,
   "metadata": {},
   "outputs": [
    {
     "name": "stderr",
     "output_type": "stream",
     "text": [
      "/usr/local/lib/python3.10/dist-packages/ignite/handlers/checkpoint.py:17: DeprecationWarning: `TorchScript` support for functional optimizers is deprecated and will be removed in a future PyTorch release. Consider using the `torch.compile` optimizer instead.\n",
      "  from torch.distributed.optim import ZeroRedundancyOptimizer\n",
      "/usr/local/lib/python3.10/dist-packages/tqdm/auto.py:21: TqdmWarning: IProgress not found. Please update jupyter and ipywidgets. See https://ipywidgets.readthedocs.io/en/stable/user_install.html\n",
      "  from .autonotebook import tqdm as notebook_tqdm\n"
     ]
    }
   ],
   "source": [
    "import torch\n",
    "import json\n",
    "from generate_transforms import (\n",
    "    generate_detection_train_transform,\n",
    "    generate_detection_train_transform_using_coord,\n",
    ")\n",
    "from monai.data import Dataset, load_decathlon_datalist\n",
    "from monai.transforms import ScaleIntensityRanged\n",
    "from monai.utils import set_determinism\n",
    "\n",
    "set_determinism(seed=24)\n",
    "\n",
    "environment_file = \"/workspace/Code/tutorials/detection/config/environment_luna16_fold0.json\"\n",
    "config_file = \"/workspace/Code/tutorials/detection/config/config_train_luna16_16g.json\"\n",
    "env_dict = json.load(open(environment_file, \"r\"))\n",
    "config_dict = json.load(open(config_file, \"r\"))\n",
    "\n",
    "args = {}\n",
    "for k, v in env_dict.items():\n",
    "    args[k] = v\n",
    "for k, v in config_dict.items():\n",
    "    args[k] = v\n",
    "\n",
    "intensity_transform = ScaleIntensityRanged(\n",
    "    keys=[\"image\"],\n",
    "    a_min=-1024,\n",
    "    a_max=300.0,\n",
    "    b_min=0.0,\n",
    "    b_max=1.0,\n",
    "    clip=True,\n",
    ")\n",
    "\n",
    "train_transforms_old = generate_detection_train_transform(\n",
    "    \"image\",\n",
    "    \"box\",\n",
    "    \"label\",\n",
    "    args[\"gt_box_mode\"],\n",
    "    intensity_transform,\n",
    "    args[\"patch_size\"],\n",
    "    args[\"batch_size\"],\n",
    "    affine_lps_to_ras=True,\n",
    "    amp=True,\n",
    ")\n",
    "\n",
    "train_transforms_new = generate_detection_train_transform_using_coord(\n",
    "    \"image\",\n",
    "    \"box\",\n",
    "    \"label\",\n",
    "    \"point\",\n",
    "    args[\"gt_box_mode\"],\n",
    "    intensity_transform,\n",
    "    args[\"patch_size\"],\n",
    "    args[\"batch_size\"],\n",
    "    affine_lps_to_ras=True,\n",
    "    amp=True,\n",
    ")\n",
    "\n",
    "train_data = load_decathlon_datalist(\n",
    "    args[\"data_list_file_path\"],\n",
    "    is_segmentation=True,\n",
    "    data_list_key=\"training\",\n",
    "    base_dir=args[\"data_base_dir\"],\n",
    ")\n",
    "train_ds_old = Dataset(\n",
    "    data=train_data,\n",
    "    transform=train_transforms_old,\n",
    ")\n",
    "train_ds_new = Dataset(\n",
    "    data=train_data,\n",
    "    transform=train_transforms_new,\n",
    ")"
   ]
  },
  {
   "cell_type": "code",
   "execution_count": 2,
   "metadata": {},
   "outputs": [
    {
     "name": "stdout",
     "output_type": "stream",
     "text": [
      "old version 0\n",
      "metatensor([[117.,   0.,  63., 122.,   1.,  65.],\n",
      "        [130.,  27.,  42., 144.,  41.,  51.]], dtype=torch.float16)\n",
      "old version 1\n",
      "metatensor([], size=(0, 6), dtype=torch.float16)\n",
      "new version 0\n",
      "metatensor([[117.,   0.,  63., 122.,   1.,  65.],\n",
      "        [130.,  27.,  42., 144.,  41.,  51.]])\n",
      "new version 1\n",
      "metatensor([], size=(0, 6))\n"
     ]
    }
   ],
   "source": [
    "for j, i in enumerate(train_ds_old):\n",
    "    print(f\"old version {j}\")\n",
    "    print(i[0][\"box\"])\n",
    "\n",
    "for j, i in enumerate(train_ds_new):\n",
    "    print(f\"new version {j}\")\n",
    "    print(i[0][\"box\"])"
   ]
  },
  {
   "cell_type": "code",
   "execution_count": null,
   "metadata": {},
   "outputs": [],
   "source": []
  }
 ],
 "metadata": {
  "kernelspec": {
   "display_name": "Python 3",
   "language": "python",
   "name": "python3"
  },
  "language_info": {
   "codemirror_mode": {
    "name": "ipython",
    "version": 3
   },
   "file_extension": ".py",
   "mimetype": "text/x-python",
   "name": "python",
   "nbconvert_exporter": "python",
   "pygments_lexer": "ipython3",
   "version": "3.10.12"
  }
 },
 "nbformat": 4,
 "nbformat_minor": 2
}
