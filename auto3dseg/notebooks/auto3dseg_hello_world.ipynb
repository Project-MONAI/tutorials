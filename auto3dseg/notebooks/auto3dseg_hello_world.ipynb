{
 "cells": [
  {
   "cell_type": "markdown",
   "metadata": {},
   "source": [
    "# MONAI Auto3DSeg \"Hello World\" Example\n",
    "\n",
    "In this notebook, we will provide a simple demonstration of how to use Auto3DSeg AutoRunner to process a simulated datasets and generate results within minutes.\n",
    "\n",
    "## 1. Set up environment, imports and datasets"
   ]
  },
  {
   "cell_type": "markdown",
   "metadata": {},
   "source": [
    "### 1.1 Set up Environment"
   ]
  },
  {
   "cell_type": "code",
   "execution_count": 1,
   "metadata": {},
   "outputs": [],
   "source": [
    "!python -c \"import monai\" || pip install -q \"monai-weekly[nibabel]\""
   ]
  },
  {
   "cell_type": "markdown",
   "metadata": {},
   "source": [
    "### 1.2 Set up imports"
   ]
  },
  {
   "cell_type": "code",
   "execution_count": 2,
   "metadata": {},
   "outputs": [
    {
     "name": "stderr",
     "output_type": "stream",
     "text": [
      "/opt/conda/lib/python3.8/site-packages/tqdm/auto.py:22: TqdmWarning: IProgress not found. Please update jupyter and ipywidgets. See https://ipywidgets.readthedocs.io/en/stable/user_install.html\n",
      "  from .autonotebook import tqdm as notebook_tqdm\n"
     ]
    }
   ],
   "source": [
    "import os\n",
    "import json\n",
    "import nibabel as nib\n",
    "import numpy as np\n",
    "import matplotlib.pyplot as plt\n",
    "\n",
    "from pathlib import Path\n",
    "\n",
    "from monai.apps.auto3dseg import AutoRunner\n",
    "from monai.data import create_test_image_3d"
   ]
  },
  {
   "cell_type": "markdown",
   "metadata": {},
   "source": [
    "### 1.3 Simulate a special datasets\n",
    "\n",
    "It is well known that AI takes time to train. To provide the \"Hello World!\" experience of Auto3D in this notebook, we will simulate a small datasets and run trainings only for multiple epocs. Due to the nature of AI, the performance shouldn't be highly expected, but the entire pipeline will be completed within minutes!\n",
    "\n",
    "`sim_datalist` provides the information of the simulated datasets. It lists 12 training and 2 testing images and labels. The training data are split into 3 folds. Each fold will use 8 images to train and 4 images to validate. The size of the dimension is defined by the `sim_dim` ."
   ]
  },
  {
   "cell_type": "code",
   "execution_count": 3,
   "metadata": {},
   "outputs": [],
   "source": [
    "sim_datalist = {\n",
    "    \"testing\": [\n",
    "        {\"image\": \"test_image_001.nii.gz\", \"label\": \"test_label_001.nii.gz\"},\n",
    "        {\"image\": \"test_image_002.nii.gz\", \"label\": \"test_label_002.nii.gz\"},\n",
    "    ],\n",
    "    \"training\": [\n",
    "        {\"fold\": 0, \"image\": \"tr_image_001.nii.gz\", \"label\": \"tr_label_001.nii.gz\"},\n",
    "        {\"fold\": 0, \"image\": \"tr_image_002.nii.gz\", \"label\": \"tr_label_002.nii.gz\"},\n",
    "        {\"fold\": 0, \"image\": \"tr_image_003.nii.gz\", \"label\": \"tr_label_003.nii.gz\"},\n",
    "        {\"fold\": 0, \"image\": \"tr_image_004.nii.gz\", \"label\": \"tr_label_004.nii.gz\"},\n",
    "        {\"fold\": 1, \"image\": \"tr_image_005.nii.gz\", \"label\": \"tr_label_005.nii.gz\"},\n",
    "        {\"fold\": 1, \"image\": \"tr_image_006.nii.gz\", \"label\": \"tr_label_006.nii.gz\"},\n",
    "        {\"fold\": 1, \"image\": \"tr_image_007.nii.gz\", \"label\": \"tr_label_007.nii.gz\"},\n",
    "        {\"fold\": 1, \"image\": \"tr_image_008.nii.gz\", \"label\": \"tr_label_008.nii.gz\"},\n",
    "        {\"fold\": 2, \"image\": \"tr_image_009.nii.gz\", \"label\": \"tr_label_009.nii.gz\"},\n",
    "        {\"fold\": 2, \"image\": \"tr_image_010.nii.gz\", \"label\": \"tr_label_010.nii.gz\"},\n",
    "        {\"fold\": 2, \"image\": \"tr_image_011.nii.gz\", \"label\": \"tr_label_011.nii.gz\"},\n",
    "        {\"fold\": 2, \"image\": \"tr_image_012.nii.gz\", \"label\": \"tr_label_012.nii.gz\"},\n",
    "    ],\n",
    "}\n",
    "\n",
    "sim_dim = (64, 64, 64)"
   ]
  },
  {
   "cell_type": "markdown",
   "metadata": {},
   "source": [
    "### 1.4 Generate images and labels\n",
    "\n",
    "Now we can use MONAI `create_test_image_3d` and `nib.Nifti1Image` functions to generate the 3D simulated images under the work_dir"
   ]
  },
  {
   "cell_type": "code",
   "execution_count": 4,
   "metadata": {},
   "outputs": [],
   "source": [
    "work_dir = str(Path(\"./helloworld_work_dir\"))\n",
    "if not os.path.isdir(work_dir):\n",
    "    os.makedirs(work_dir)\n",
    "\n",
    "dataroot_dir = os.path.join(work_dir, \"sim_dataroot\")\n",
    "if not os.path.isdir(dataroot_dir):\n",
    "    os.makedirs(dataroot_dir)\n",
    "\n",
    "datalist_file = os.path.join(work_dir, \"sim_datalist.json\")\n",
    "with open(datalist_file, 'w') as f:\n",
    "    json.dump(sim_datalist, f)\n",
    "\n",
    "for d in sim_datalist[\"testing\"] + sim_datalist[\"training\"]:\n",
    "    im, seg = create_test_image_3d(\n",
    "        sim_dim[0], sim_dim[1], sim_dim[2], rad_max=10, num_seg_classes=1, random_state=np.random.RandomState(42)\n",
    "    )\n",
    "    image_fpath = os.path.join(dataroot_dir, d[\"image\"])\n",
    "    label_fpath = os.path.join(dataroot_dir, d[\"label\"])\n",
    "    nib.save(nib.Nifti1Image(im, affine=np.eye(4)), image_fpath)\n",
    "    nib.save(nib.Nifti1Image(seg, affine=np.eye(4)), label_fpath)"
   ]
  },
  {
   "cell_type": "markdown",
   "metadata": {},
   "source": [
    "### 1.5 Inspect the simulated data\n",
    "\n",
    "Here we picked a slice of the 3D image in the test datasets to get an idea of the simulation"
   ]
  },
  {
   "cell_type": "code",
   "execution_count": 5,
   "metadata": {},
   "outputs": [
    {
     "data": {
      "image/png": "[encoded data removed]",
      "text/plain": [
       "<Figure size 432x288 with 4 Axes>"
      ]
     },
     "metadata": {
      "needs_background": "light"
     },
     "output_type": "display_data"
    }
   ],
   "source": [
    "img_nib = nib.load(os.path.join(dataroot_dir, sim_datalist['testing'][0]['image']))\n",
    "lbl_nib = nib.load(os.path.join(dataroot_dir, sim_datalist['testing'][0]['label']))\n",
    "img = np.array(img_nib.dataobj)\n",
    "lbl = np.array(lbl_nib.dataobj)\n",
    "plt.subplot(1, 2, 1)\n",
    "plt.imshow(img[32])\n",
    "plt.title('image')\n",
    "cbar = plt.colorbar(shrink=0.55)\n",
    "plt.subplot(1, 2, 2)\n",
    "plt.imshow(lbl[32])\n",
    "plt.title('label')\n",
    "cbar = plt.colorbar(shrink=0.55)\n"
   ]
  },
  {
   "cell_type": "markdown",
   "metadata": {},
   "source": [
    "## 2. Test the Auto3DSeg AutoRunner pipeline\n",
    "\n",
    "AutoRunner provides an interface to run the Auot3Dseg pipeline. It will automatically configure four different neural networks and perform multi-fold training to achieve the state-of-the-art performance. The module is highly configurable, but only requires minimal user inputs. In this example, we want to complete the piepline in two minutes, so we need to have some customizations\n",
    "\n",
    "### 2.1 Set up the AutoRunner with default settings"
   ]
  },
  {
   "cell_type": "code",
   "execution_count": 6,
   "metadata": {},
   "outputs": [
    {
     "name": "stdout",
     "output_type": "stream",
     "text": [
      "2022-10-18 08:27:25,835 - INFO - Work directory helloworld_work_dir is used to save all results\n",
      "2022-10-18 08:27:25,841 - INFO - The output_dir is not specified. /workspace/monai/tutorials-in-dev/auto3dseg/notebooks/helloworld_work_dir/ensemble_output will be used to save ensemble predictions\n",
      "2022-10-18 08:27:25,841 - INFO - Directory /workspace/monai/tutorials-in-dev/auto3dseg/notebooks/helloworld_work_dir/ensemble_output is created to save ensemble predictions\n"
     ]
    }
   ],
   "source": [
    "runner = AutoRunner(\n",
    "    work_dir=work_dir,\n",
    "    input={\n",
    "        \"modality\": \"MRI\",\n",
    "        \"datalist\": datalist_file,\n",
    "        \"dataroot\": dataroot_dir,\n",
    "    }\n",
    ")\n",
    "# runner.run() # this will use the default settings and take hours/ to run "
   ]
  },
  {
   "cell_type": "markdown",
   "metadata": {},
   "source": [
    "### 2.2 Override the training parameters so that we can complete the pipeline in minutes"
   ]
  },
  {
   "cell_type": "code",
   "execution_count": 7,
   "metadata": {},
   "outputs": [],
   "source": [
    "max_epochs = 2\n",
    "\n",
    "# safeguard to ensure max_epochs is greater or equal to 2\n",
    "max_epochs = max(max_epochs, 2)\n",
    "\n",
    "train_param = {\n",
    "    \"CUDA_VISIBLE_DEVICES\": [0],  # use only 1 gpu\n",
    "    \"num_iterations\": 4 * max_epochs,\n",
    "    \"num_iterations_per_validation\": 2 * max_epochs,\n",
    "    \"num_images_per_batch\": 2,\n",
    "    \"num_epochs\": max_epochs,\n",
    "    \"num_warmup_iterations\": 2 * max_epochs,\n",
    "}\n",
    "runner.set_training_params(train_param)\n",
    "runner.set_num_fold(num_fold=1)"
   ]
  },
  {
   "cell_type": "markdown",
   "metadata": {},
   "source": [
    "### 2.3 Start the data anlaysis, algorithm generation, training, and model ensemble"
   ]
  },
  {
   "cell_type": "code",
   "execution_count": 8,
   "metadata": {},
   "outputs": [
    {
     "name": "stderr",
     "output_type": "stream",
     "text": [
      "100%|██████████| 12/12 [00:00<00:00, 32.40it/s]\n",
      "algo_templates.tar.gz: 296kB [00:01, 257kB/s]                             "
     ]
    },
    {
     "name": "stdout",
     "output_type": "stream",
     "text": [
      "2022-10-18 08:27:27,916 - INFO - Downloaded: /tmp/tmpkajbqsnz/algo_templates.tar.gz\n",
      "2022-10-18 08:27:27,918 - INFO - Expected md5 is None, skip md5 check for file /tmp/tmpkajbqsnz/algo_templates.tar.gz.\n",
      "2022-10-18 08:27:27,920 - INFO - Writing into directory: /workspace/monai/tutorials-in-dev/auto3dseg/notebooks/helloworld_work_dir.\n"
     ]
    },
    {
     "name": "stderr",
     "output_type": "stream",
     "text": [
      "\n"
     ]
    },
    {
     "name": "stdout",
     "output_type": "stream",
     "text": [
      "2022-10-18 08:27:28,111 - INFO - /workspace/monai/tutorials-in-dev/auto3dseg/notebooks/helloworld_work_dir/segresnet2d_0\n",
      "2022-10-18 08:27:28,237 - INFO - /workspace/monai/tutorials-in-dev/auto3dseg/notebooks/helloworld_work_dir/dints_0\n",
      "2022-10-18 08:27:28,351 - INFO - /workspace/monai/tutorials-in-dev/auto3dseg/notebooks/helloworld_work_dir/swinunetr_0\n",
      "2022-10-18 08:27:28,509 - INFO - /workspace/monai/tutorials-in-dev/auto3dseg/notebooks/helloworld_work_dir/segresnet_0\n",
      "2022-10-18 08:27:28,510 - INFO - Launching: python /workspace/monai/tutorials-in-dev/auto3dseg/notebooks/helloworld_work_dir/segresnet_0/scripts/train.py run --config_file='/workspace/monai/tutorials-in-dev/auto3dseg/notebooks/helloworld_work_dir/segresnet_0/configs/transforms_validate.yaml','/workspace/monai/tutorials-in-dev/auto3dseg/notebooks/helloworld_work_dir/segresnet_0/configs/transforms_train.yaml','/workspace/monai/tutorials-in-dev/auto3dseg/notebooks/helloworld_work_dir/segresnet_0/configs/transforms_infer.yaml','/workspace/monai/tutorials-in-dev/auto3dseg/notebooks/helloworld_work_dir/segresnet_0/configs/network.yaml','/workspace/monai/tutorials-in-dev/auto3dseg/notebooks/helloworld_work_dir/segresnet_0/configs/hyper_parameters.yaml' --num_iterations=8 --num_iterations_per_validation=4 --num_images_per_batch=2 --num_epochs=2 --num_warmup_iterations=4\n",
      "2022-10-18 08:27:35,294 - INFO - CompletedProcess(args=['python', '/workspace/monai/tutorials-in-dev/auto3dseg/notebooks/helloworld_work_dir/segresnet_0/scripts/train.py', 'run', \"--config_file='/workspace/monai/tutorials-in-dev/auto3dseg/notebooks/helloworld_work_dir/segresnet_0/configs/transforms_validate.yaml','/workspace/monai/tutorials-in-dev/auto3dseg/notebooks/helloworld_work_dir/segresnet_0/configs/transforms_train.yaml','/workspace/monai/tutorials-in-dev/auto3dseg/notebooks/helloworld_work_dir/segresnet_0/configs/transforms_infer.yaml','/workspace/monai/tutorials-in-dev/auto3dseg/notebooks/helloworld_work_dir/segresnet_0/configs/network.yaml','/workspace/monai/tutorials-in-dev/auto3dseg/notebooks/helloworld_work_dir/segresnet_0/configs/hyper_parameters.yaml'\", '--num_iterations=8', '--num_iterations_per_validation=4', '--num_images_per_batch=2', '--num_epochs=2', '--num_warmup_iterations=4'], returncode=0, stdout=b\"[info] number of GPUs: 1\n",
      "[info] world_size: 1\n",
      "train_files: 8\n",
      "val_files: 4\n",
      "num_epochs 2\n",
      "num_epochs_per_validation 1\n",
      "[info] training from scratch\n",
      "[info] amp enabled\n",
      "----------\n",
      "epoch 1/2\n",
      "learning rate is set to 2e-05\n",
      "[2022-10-18 08:27:32] 1/4, train_loss: 1.4624\n",
      "[2022-10-18 08:27:33] 2/4, train_loss: 1.4597\n",
      "[2022-10-18 08:27:33] 3/4, train_loss: 1.3316\n",
      "[2022-10-18 08:27:33] 4/4, train_loss: 1.3588\n",
      "epoch 1 average loss: 1.4031, best mean dice: -1.0000 at epoch -1\n",
      "1 / 4 tensor([[0.1104]], device='cuda:0')\n",
      "2 / 4 tensor([[0.1104]], device='cuda:0')\n",
      "3 / 4 tensor([[0.1104]], device='cuda:0')\n",
      "4 / 4 tensor([[0.1104]], device='cuda:0')\n",
      "evaluation metric - class 1: 0.11038827896118164\n",
      "avg_metric 0.11038827896118164\n",
      "saved new best metric model\n",
      "current epoch: 1 current mean dice: 0.1104 best mean dice: 0.1104 at epoch 1\n",
      "----------\n",
      "epoch 2/2\n",
      "learning rate is set to 0.0\n",
      "[2022-10-18 08:27:34] 1/4, train_loss: 1.3096\n",
      "[2022-10-18 08:27:34] 2/4, train_loss: 1.3398\n",
      "[2022-10-18 08:27:34] 3/4, train_loss: 1.2666\n",
      "[2022-10-18 08:27:34] 4/4, train_loss: 1.2679\n",
      "epoch 2 average loss: 1.2960, best mean dice: 0.1104 at epoch 1\n",
      "1 / 4 tensor([[0.1236]], device='cuda:0')\n",
      "2 / 4 tensor([[0.1236]], device='cuda:0')\n",
      "3 / 4 tensor([[0.1236]], device='cuda:0')\n",
      "4 / 4 tensor([[0.1236]], device='cuda:0')\n",
      "evaluation metric - class 1: 0.12358943372964859\n",
      "avg_metric 0.12358943372964859\n",
      "saved new best metric model\n",
      "current epoch: 2 current mean dice: 0.1236 best mean dice: 0.1236 at epoch 2\n",
      "train completed, best_metric: 0.1236 at epoch: 2\n",
      "0.12358943372964859\n",
      "\", stderr=b'')\n",
      "2022-10-18 08:27:35,301 - INFO - Launching: python /workspace/monai/tutorials-in-dev/auto3dseg/notebooks/helloworld_work_dir/swinunetr_0/scripts/train.py run --config_file='/workspace/monai/tutorials-in-dev/auto3dseg/notebooks/helloworld_work_dir/swinunetr_0/configs/transforms_validate.yaml','/workspace/monai/tutorials-in-dev/auto3dseg/notebooks/helloworld_work_dir/swinunetr_0/configs/transforms_train.yaml','/workspace/monai/tutorials-in-dev/auto3dseg/notebooks/helloworld_work_dir/swinunetr_0/configs/transforms_infer.yaml','/workspace/monai/tutorials-in-dev/auto3dseg/notebooks/helloworld_work_dir/swinunetr_0/configs/network.yaml','/workspace/monai/tutorials-in-dev/auto3dseg/notebooks/helloworld_work_dir/swinunetr_0/configs/hyper_parameters.yaml' --num_iterations=8 --num_iterations_per_validation=4 --num_images_per_batch=2 --num_epochs=2 --num_warmup_iterations=4\n",
      "2022-10-18 08:27:42,721 - INFO - CompletedProcess(args=['python', '/workspace/monai/tutorials-in-dev/auto3dseg/notebooks/helloworld_work_dir/swinunetr_0/scripts/train.py', 'run', \"--config_file='/workspace/monai/tutorials-in-dev/auto3dseg/notebooks/helloworld_work_dir/swinunetr_0/configs/transforms_validate.yaml','/workspace/monai/tutorials-in-dev/auto3dseg/notebooks/helloworld_work_dir/swinunetr_0/configs/transforms_train.yaml','/workspace/monai/tutorials-in-dev/auto3dseg/notebooks/helloworld_work_dir/swinunetr_0/configs/transforms_infer.yaml','/workspace/monai/tutorials-in-dev/auto3dseg/notebooks/helloworld_work_dir/swinunetr_0/configs/network.yaml','/workspace/monai/tutorials-in-dev/auto3dseg/notebooks/helloworld_work_dir/swinunetr_0/configs/hyper_parameters.yaml'\", '--num_iterations=8', '--num_iterations_per_validation=4', '--num_images_per_batch=2', '--num_epochs=2', '--num_warmup_iterations=4'], returncode=0, stdout=b\"[info] number of GPUs: 1\n",
      "[info] world_size: 1\n",
      "train_files: 8\n",
      "val_files: 4\n",
      "num_epochs 2\n",
      "num_epochs_per_validation 1\n",
      "[info] training from scratch\n",
      "[info] amp enabled\n",
      "----------\n",
      "epoch 1/2\n",
      "learning rate is set to 0.0001\n",
      "[2022-10-18 08:27:39] 1/4, train_loss: 1.1682\n",
      "[2022-10-18 08:27:39] 2/4, train_loss: 1.0048\n",
      "[2022-10-18 08:27:39] 3/4, train_loss: 0.9436\n",
      "[2022-10-18 08:27:40] 4/4, train_loss: 0.9151\n",
      "epoch 1 average loss: 1.0079, best mean dice: -1.0000 at epoch -1\n",
      "1 / 4 tensor([[0.6443]], device='cuda:0')\n",
      "2 / 4 tensor([[0.6443]], device='cuda:0')\n",
      "3 / 4 tensor([[0.6443]], device='cuda:0')\n",
      "4 / 4 tensor([[0.6443]], device='cuda:0')\n",
      "evaluation metric - class 1: 0.6442577242851257\n",
      "avg_metric 0.6442577242851257\n",
      "saved new best metric model\n",
      "current epoch: 1 current mean dice: 0.6443 best mean dice: 0.6443 at epoch 1\n",
      "----------\n",
      "epoch 2/2\n",
      "learning rate is set to 6.25e-06\n",
      "[2022-10-18 08:27:41] 1/4, train_loss: 0.9040\n",
      "[2022-10-18 08:27:41] 2/4, train_loss: 0.8981\n",
      "[2022-10-18 08:27:41] 3/4, train_loss: 0.8954\n",
      "[2022-10-18 08:27:41] 4/4, train_loss: 0.8919\n",
      "epoch 2 average loss: 0.8974, best mean dice: 0.6443 at epoch 1\n",
      "1 / 4 tensor([[0.6603]], device='cuda:0')\n",
      "2 / 4 tensor([[0.6603]], device='cuda:0')\n",
      "3 / 4 tensor([[0.6603]], device='cuda:0')\n",
      "4 / 4 tensor([[0.6603]], device='cuda:0')\n",
      "evaluation metric - class 1: 0.6603014469146729\n",
      "avg_metric 0.6603014469146729\n",
      "saved new best metric model\n",
      "current epoch: 2 current mean dice: 0.6603 best mean dice: 0.6603 at epoch 2\n",
      "train completed, best_metric: 0.6603 at epoch: 2\n",
      "0.6603014469146729\n",
      "\", stderr=b'')\n",
      "2022-10-18 08:27:42,728 - INFO - Launching: python /workspace/monai/tutorials-in-dev/auto3dseg/notebooks/helloworld_work_dir/dints_0/scripts/search.py run --config_file='/workspace/monai/tutorials-in-dev/auto3dseg/notebooks/helloworld_work_dir/dints_0/configs/transforms_validate.yaml','/workspace/monai/tutorials-in-dev/auto3dseg/notebooks/helloworld_work_dir/dints_0/configs/transforms_train.yaml','/workspace/monai/tutorials-in-dev/auto3dseg/notebooks/helloworld_work_dir/dints_0/configs/transforms_infer.yaml','/workspace/monai/tutorials-in-dev/auto3dseg/notebooks/helloworld_work_dir/dints_0/configs/hyper_parameters_search.yaml','/workspace/monai/tutorials-in-dev/auto3dseg/notebooks/helloworld_work_dir/dints_0/configs/network.yaml','/workspace/monai/tutorials-in-dev/auto3dseg/notebooks/helloworld_work_dir/dints_0/configs/network_search.yaml','/workspace/monai/tutorials-in-dev/auto3dseg/notebooks/helloworld_work_dir/dints_0/configs/hyper_parameters.yaml' --searching#num_iterations=8 --searching#num_iterations_per_validation=4 --searching#num_images_per_batch=2 --searching#num_epochs=2 --searching#num_warmup_iterations=4\n",
      "2022-10-18 08:28:11,311 - INFO - CompletedProcess(args=['python', '/workspace/monai/tutorials-in-dev/auto3dseg/notebooks/helloworld_work_dir/dints_0/scripts/search.py', 'run', \"--config_file='/workspace/monai/tutorials-in-dev/auto3dseg/notebooks/helloworld_work_dir/dints_0/configs/transforms_validate.yaml','/workspace/monai/tutorials-in-dev/auto3dseg/notebooks/helloworld_work_dir/dints_0/configs/transforms_train.yaml','/workspace/monai/tutorials-in-dev/auto3dseg/notebooks/helloworld_work_dir/dints_0/configs/transforms_infer.yaml','/workspace/monai/tutorials-in-dev/auto3dseg/notebooks/helloworld_work_dir/dints_0/configs/hyper_parameters_search.yaml','/workspace/monai/tutorials-in-dev/auto3dseg/notebooks/helloworld_work_dir/dints_0/configs/network.yaml','/workspace/monai/tutorials-in-dev/auto3dseg/notebooks/helloworld_work_dir/dints_0/configs/network_search.yaml','/workspace/monai/tutorials-in-dev/auto3dseg/notebooks/helloworld_work_dir/dints_0/configs/hyper_parameters.yaml'\", '--searching#num_iterations=8', '--searching#num_iterations_per_validation=4', '--searching#num_images_per_batch=2', '--searching#num_epochs=2', '--searching#num_warmup_iterations=4'], returncode=0, stdout=b\"[info] number of GPUs: 1\n",
      "[info] world_size: 1\n",
      "train_files_w: 4\n",
      "train_files_a: 4\n",
      "val_files: 4\n",
      "num_epochs 4\n",
      "num_epochs_warmup 2\n",
      "num_epochs_per_validation 2\n",
      "[info] amp enabled\n",
      "----------\n",
      "epoch 1/4\n",
      "learning rate is set to 0.025\n",
      "[2022-10-18 08:27:48] 1/2, train_loss: 0.8553\n",
      "[2022-10-18 08:27:49] 2/2, train_loss: 0.8300\n",
      "epoch 1 average loss: 0.8426, best mean dice: -1.0000 at epoch -1\n",
      "----------\n",
      "epoch 2/4\n",
      "learning rate is set to 0.025\n",
      "[2022-10-18 08:27:50] 1/2, train_loss: 0.8394\n",
      "[2022-10-18 08:27:50] 2/2, train_loss: 0.8302\n",
      "epoch 2 average loss: 0.8348, best mean dice: -1.0000 at epoch -1\n",
      "1 / 4 tensor([[0.1750]], device='cuda:0')\n",
      "2 / 4 tensor([[0.1750]], device='cuda:0')\n",
      "3 / 4 tensor([[0.1750]], device='cuda:0')\n",
      "4 / 4 tensor([[0.1750]], device='cuda:0')\n",
      "evaluation metric - class 1: 0.17498305439949036\n",
      "avg_metric 0.17498305439949036\n",
      "saved new best metric model\n",
      "current epoch: 2 current mean dice: 0.1750 best mean dice: 0.1750 at epoch 2\n",
      "----------\n",
      "epoch 3/4\n",
      "learning rate is set to 0.025\n",
      "[2022-10-18 08:27:58] 1/2, train_loss: 0.8238\n",
      "[2022-10-18 08:27:59] 1/2, train_loss_arch: 0.8115\n",
      "[2022-10-18 08:28:00] 2/2, train_loss: 0.8093\n",
      "[2022-10-18 08:28:00] 2/2, train_loss_arch: 0.8043\n",
      "epoch 3 average loss: 0.8166, best mean dice: 0.1750 at epoch 2\n",
      "epoch 3 average arch loss: 0.8079, best mean dice: 0.1750 at epoch 2\n",
      "----------\n",
      "epoch 4/4\n",
      "learning rate is set to 0.00625\n",
      "[2022-10-18 08:28:01] 1/2, train_loss: 0.7779\n",
      "[2022-10-18 08:28:02] 1/2, train_loss_arch: 1.1365\n",
      "[2022-10-18 08:28:03] 2/2, train_loss: 0.8037\n",
      "[2022-10-18 08:28:04] 2/2, train_loss_arch: 1.1294\n",
      "epoch 4 average loss: 0.7908, best mean dice: 0.1750 at epoch 2\n",
      "epoch 4 average arch loss: 1.1330, best mean dice: 0.1750 at epoch 2\n",
      "1 / 4 tensor([[0.1844]], device='cuda:0')\n",
      "2 / 4 tensor([[0.1844]], device='cuda:0')\n",
      "3 / 4 tensor([[0.1844]], device='cuda:0')\n",
      "4 / 4 tensor([[0.1844]], device='cuda:0')\n",
      "evaluation metric - class 1: 0.1843988001346588\n",
      "avg_metric 0.1843988001346588\n",
      "saved new best metric model\n",
      "current epoch: 4 current mean dice: 0.1844 best mean dice: 0.1844 at epoch 4\n",
      "train completed, best_metric: 0.1844 at epoch: 4\n",
      "\", stderr=b'')\n",
      "2022-10-18 08:28:11,312 - INFO - Launching: python /workspace/monai/tutorials-in-dev/auto3dseg/notebooks/helloworld_work_dir/dints_0/scripts/train.py run --config_file='/workspace/monai/tutorials-in-dev/auto3dseg/notebooks/helloworld_work_dir/dints_0/configs/transforms_validate.yaml','/workspace/monai/tutorials-in-dev/auto3dseg/notebooks/helloworld_work_dir/dints_0/configs/transforms_train.yaml','/workspace/monai/tutorials-in-dev/auto3dseg/notebooks/helloworld_work_dir/dints_0/configs/transforms_infer.yaml','/workspace/monai/tutorials-in-dev/auto3dseg/notebooks/helloworld_work_dir/dints_0/configs/hyper_parameters_search.yaml','/workspace/monai/tutorials-in-dev/auto3dseg/notebooks/helloworld_work_dir/dints_0/configs/network.yaml','/workspace/monai/tutorials-in-dev/auto3dseg/notebooks/helloworld_work_dir/dints_0/configs/network_search.yaml','/workspace/monai/tutorials-in-dev/auto3dseg/notebooks/helloworld_work_dir/dints_0/configs/hyper_parameters.yaml' --training#num_iterations=8 --training#num_iterations_per_validation=4 --training#num_images_per_batch=2 --training#num_epochs=2 --training#num_warmup_iterations=4\n",
      "2022-10-18 08:28:21,854 - INFO - CompletedProcess(args=['python', '/workspace/monai/tutorials-in-dev/auto3dseg/notebooks/helloworld_work_dir/dints_0/scripts/train.py', 'run', \"--config_file='/workspace/monai/tutorials-in-dev/auto3dseg/notebooks/helloworld_work_dir/dints_0/configs/transforms_validate.yaml','/workspace/monai/tutorials-in-dev/auto3dseg/notebooks/helloworld_work_dir/dints_0/configs/transforms_train.yaml','/workspace/monai/tutorials-in-dev/auto3dseg/notebooks/helloworld_work_dir/dints_0/configs/transforms_infer.yaml','/workspace/monai/tutorials-in-dev/auto3dseg/notebooks/helloworld_work_dir/dints_0/configs/hyper_parameters_search.yaml','/workspace/monai/tutorials-in-dev/auto3dseg/notebooks/helloworld_work_dir/dints_0/configs/network.yaml','/workspace/monai/tutorials-in-dev/auto3dseg/notebooks/helloworld_work_dir/dints_0/configs/network_search.yaml','/workspace/monai/tutorials-in-dev/auto3dseg/notebooks/helloworld_work_dir/dints_0/configs/hyper_parameters.yaml'\", '--training#num_iterations=8', '--training#num_iterations_per_validation=4', '--training#num_images_per_batch=2', '--training#num_epochs=2', '--training#num_warmup_iterations=4'], returncode=0, stdout=b\"[info] number of GPUs: 1\n",
      "[info] world_size: 1\n",
      "train_files: 8\n",
      "val_files: 4\n",
      "num_epochs 2\n",
      "num_epochs_per_validation 1\n",
      "[info] training from scratch\n",
      "[info] amp enabled\n",
      "----------\n",
      "epoch 1/2\n",
      "learning rate is set to 0.2\n",
      "[2022-10-18 08:28:16] 1/4, train_loss: 0.7010\n",
      "[2022-10-18 08:28:17] 2/4, train_loss: 0.6845\n",
      "[2022-10-18 08:28:17] 3/4, train_loss: 0.6449\n",
      "[2022-10-18 08:28:17] 4/4, train_loss: 0.6553\n",
      "epoch 1 average loss: 0.6714, best mean dice: -1.0000 at epoch -1\n",
      "1 / 4 tensor([[0.2394]], device='cuda:0')\n",
      "2 / 4 tensor([[0.2394]], device='cuda:0')\n",
      "3 / 4 tensor([[0.2394]], device='cuda:0')\n",
      "4 / 4 tensor([[0.2394]], device='cuda:0')\n",
      "evaluation metric - class 1: 0.2393515557050705\n",
      "avg_metric 0.2393515557050705\n",
      "saved new best metric model\n",
      "current epoch: 1 current mean dice: 0.2394 best mean dice: 0.2394 at epoch 1\n",
      "----------\n",
      "epoch 2/2\n",
      "learning rate is set to 0.0125\n",
      "[2022-10-18 08:28:19] 1/4, train_loss: 0.6216\n",
      "[2022-10-18 08:28:19] 2/4, train_loss: 0.5904\n",
      "[2022-10-18 08:28:19] 3/4, train_loss: 0.6117\n",
      "[2022-10-18 08:28:20] 4/4, train_loss: 0.6234\n",
      "epoch 2 average loss: 0.6118, best mean dice: 0.2394 at epoch 1\n",
      "1 / 4 tensor([[0.2492]], device='cuda:0')\n",
      "2 / 4 tensor([[0.2492]], device='cuda:0')\n",
      "3 / 4 tensor([[0.2492]], device='cuda:0')\n",
      "4 / 4 tensor([[0.2492]], device='cuda:0')\n",
      "evaluation metric - class 1: 0.24918213486671448\n",
      "avg_metric 0.24918213486671448\n",
      "saved new best metric model\n",
      "current epoch: 2 current mean dice: 0.2492 best mean dice: 0.2492 at epoch 2\n",
      "train completed, best_metric: 0.2492 at epoch: 2\n",
      "0.24918213486671448\n",
      "\", stderr=b'')\n",
      "2022-10-18 08:28:21,861 - INFO - Launching: python /workspace/monai/tutorials-in-dev/auto3dseg/notebooks/helloworld_work_dir/segresnet2d_0/scripts/train.py run --config_file='/workspace/monai/tutorials-in-dev/auto3dseg/notebooks/helloworld_work_dir/segresnet2d_0/configs/transforms_validate.yaml','/workspace/monai/tutorials-in-dev/auto3dseg/notebooks/helloworld_work_dir/segresnet2d_0/configs/transforms_train.yaml','/workspace/monai/tutorials-in-dev/auto3dseg/notebooks/helloworld_work_dir/segresnet2d_0/configs/transforms_infer.yaml','/workspace/monai/tutorials-in-dev/auto3dseg/notebooks/helloworld_work_dir/segresnet2d_0/configs/network.yaml','/workspace/monai/tutorials-in-dev/auto3dseg/notebooks/helloworld_work_dir/segresnet2d_0/configs/hyper_parameters.yaml' --num_iterations=8 --num_iterations_per_validation=4 --num_images_per_batch=2 --num_epochs=2 --num_warmup_iterations=4\n",
      "2022-10-18 08:28:28,958 - INFO - CompletedProcess(args=['python', '/workspace/monai/tutorials-in-dev/auto3dseg/notebooks/helloworld_work_dir/segresnet2d_0/scripts/train.py', 'run', \"--config_file='/workspace/monai/tutorials-in-dev/auto3dseg/notebooks/helloworld_work_dir/segresnet2d_0/configs/transforms_validate.yaml','/workspace/monai/tutorials-in-dev/auto3dseg/notebooks/helloworld_work_dir/segresnet2d_0/configs/transforms_train.yaml','/workspace/monai/tutorials-in-dev/auto3dseg/notebooks/helloworld_work_dir/segresnet2d_0/configs/transforms_infer.yaml','/workspace/monai/tutorials-in-dev/auto3dseg/notebooks/helloworld_work_dir/segresnet2d_0/configs/network.yaml','/workspace/monai/tutorials-in-dev/auto3dseg/notebooks/helloworld_work_dir/segresnet2d_0/configs/hyper_parameters.yaml'\", '--num_iterations=8', '--num_iterations_per_validation=4', '--num_images_per_batch=2', '--num_epochs=2', '--num_warmup_iterations=4'], returncode=0, stdout=b\"[info] number of GPUs: 1\n",
      "[info] world_size: 1\n",
      "train_files: 8\n",
      "val_files: 4\n",
      "num_epochs 2\n",
      "num_epochs_per_validation 1\n",
      "[info] training from scratch\n",
      "[info] amp enabled\n",
      "----------\n",
      "epoch 1/2\n",
      "learning rate is set to 0.2\n",
      "[2022-10-18 08:28:25] 1/4, train_loss: 0.6673\n",
      "[2022-10-18 08:28:25] 2/4, train_loss: 0.5865\n",
      "[2022-10-18 08:28:26] 3/4, train_loss: 0.3893\n",
      "[2022-10-18 08:28:26] 4/4, train_loss: 0.3853\n",
      "epoch 1 average loss: 0.5071, best mean dice: -1.0000 at epoch -1\n",
      "1 / 4 tensor([[0.5780]], device='cuda:0')\n",
      "2 / 4 tensor([[0.5780]], device='cuda:0')\n",
      "3 / 4 tensor([[0.5780]], device='cuda:0')\n",
      "4 / 4 tensor([[0.5780]], device='cuda:0')\n",
      "evaluation metric - class 1: 0.5780409574508667\n",
      "avg_metric 0.5780409574508667\n",
      "saved new best metric model\n",
      "current epoch: 1 current mean dice: 0.5780 best mean dice: 0.5780 at epoch 1\n",
      "----------\n",
      "epoch 2/2\n",
      "learning rate is set to 0.0125\n",
      "[2022-10-18 08:28:27] 1/4, train_loss: 0.4148\n",
      "[2022-10-18 08:28:27] 2/4, train_loss: 0.3646\n",
      "[2022-10-18 08:28:27] 3/4, train_loss: 0.6224\n",
      "[2022-10-18 08:28:27] 4/4, train_loss: 0.4244\n",
      "epoch 2 average loss: 0.4565, best mean dice: 0.5780 at epoch 1\n",
      "1 / 4 tensor([[0.5818]], device='cuda:0')\n",
      "2 / 4 tensor([[0.5818]], device='cuda:0')\n",
      "3 / 4 tensor([[0.5818]], device='cuda:0')\n",
      "4 / 4 tensor([[0.5818]], device='cuda:0')\n",
      "evaluation metric - class 1: 0.581782341003418\n",
      "avg_metric 0.581782341003418\n",
      "saved new best metric model\n",
      "current epoch: 2 current mean dice: 0.5818 best mean dice: 0.5818 at epoch 2\n",
      "train completed, best_metric: 0.5818 at epoch: 2\n",
      "0.581782341003418\n",
      "\", stderr=b'')\n",
      "0\n",
      "[info] checkpoint /workspace/monai/tutorials-in-dev/auto3dseg/notebooks/helloworld_work_dir/segresnet_0/model_fold0/best_metric_model.pt loaded\n",
      "2022-10-18 08:28:30,541 INFO image_writer.py:193 - writing: /workspace/monai/tutorials-in-dev/auto3dseg/notebooks/helloworld_work_dir/segresnet_0/prediction_testing/test_image_001/test_image_001_seg.nii.gz\n",
      "[info] checkpoint /workspace/monai/tutorials-in-dev/auto3dseg/notebooks/helloworld_work_dir/segresnet2d_0/model_fold0/best_metric_model.pt loaded\n",
      "2022-10-18 08:28:30,888 INFO image_writer.py:193 - writing: /workspace/monai/tutorials-in-dev/auto3dseg/notebooks/helloworld_work_dir/segresnet2d_0/prediction_testing/test_image_001/test_image_001_seg.nii.gz\n",
      "1\n",
      "[info] checkpoint /workspace/monai/tutorials-in-dev/auto3dseg/notebooks/helloworld_work_dir/segresnet_0/model_fold0/best_metric_model.pt loaded\n",
      "2022-10-18 08:28:31,645 INFO image_writer.py:193 - writing: /workspace/monai/tutorials-in-dev/auto3dseg/notebooks/helloworld_work_dir/segresnet_0/prediction_testing/test_image_002/test_image_002_seg.nii.gz\n",
      "[info] checkpoint /workspace/monai/tutorials-in-dev/auto3dseg/notebooks/helloworld_work_dir/segresnet2d_0/model_fold0/best_metric_model.pt loaded\n",
      "2022-10-18 08:28:32,019 INFO image_writer.py:193 - writing: /workspace/monai/tutorials-in-dev/auto3dseg/notebooks/helloworld_work_dir/segresnet2d_0/prediction_testing/test_image_002/test_image_002_seg.nii.gz\n",
      "Auto3Dseg picked the following networks to ensemble:\n",
      "segresnet_0\n",
      "segresnet2d_0\n",
      "2022-10-18 08:28:32,025 INFO image_writer.py:193 - writing: /workspace/monai/tutorials-in-dev/auto3dseg/notebooks/helloworld_work_dir/ensemble_output/test_image_001/test_image_001_ensemble.nii.gz\n",
      "2022-10-18 08:28:32,032 INFO image_writer.py:193 - writing: /workspace/monai/tutorials-in-dev/auto3dseg/notebooks/helloworld_work_dir/ensemble_output/test_image_002/test_image_002_ensemble.nii.gz\n",
      "2022-10-18 08:28:32,038 - INFO - Auto3Dseg ensemble prediction outputs are saved in /workspace/monai/tutorials-in-dev/auto3dseg/notebooks/helloworld_work_dir/ensemble_output.\n",
      "2022-10-18 08:28:32,039 - INFO - Auto3Dseg pipeline is complete successfully.\n"
     ]
    }
   ],
   "source": [
    "runner.run()"
   ]
  },
  {
   "cell_type": "markdown",
   "metadata": {},
   "source": [
    "### 2.4 Inspect the algo ensembled predctions and compare it with the ground truth"
   ]
  },
  {
   "cell_type": "code",
   "execution_count": 9,
   "metadata": {},
   "outputs": [
    {
     "data": {
      "image/png": "[encoded data removed]",
      "text/plain": [
       "<Figure size 432x288 with 8 Axes>"
      ]
     },
     "metadata": {
      "needs_background": "light"
     },
     "output_type": "display_data"
    }
   ],
   "source": [
    "image_name = sim_datalist['testing'][0]['image'].split(\".\")[0]\n",
    "prediction_nib = nib.load(os.path.join(work_dir, 'ensemble_output', image_name, image_name+\"_ensemble\"+\".nii.gz\"))\n",
    "pred = np.array(prediction_nib.dataobj)\n",
    "\n",
    "plt.subplot(2, 2, 1)\n",
    "plt.imshow(img[32])\n",
    "plt.title('image')\n",
    "cbar = plt.colorbar(shrink=0.8)\n",
    "plt.subplot(2, 2, 2)\n",
    "plt.imshow(lbl[32])\n",
    "plt.title('label')\n",
    "cbar = plt.colorbar(shrink=0.8)\n",
    "plt.subplot(2, 2, 3)\n",
    "plt.imshow(pred[32, :, :, 0])\n",
    "plt.title('background class prediction')\n",
    "cbar = plt.colorbar(shrink=0.8)\n",
    "plt.subplot(2, 2, 4)\n",
    "plt.imshow(pred[32, :, :, 1])\n",
    "plt.title('foreground class prediction')\n",
    "cbar = plt.colorbar(shrink=0.8)\n",
    "# set the spacing between subplots\n",
    "plt.subplots_adjust(left=0.1,\n",
    "                    bottom=0.1,\n",
    "                    right=0.9,\n",
    "                    top=0.9,\n",
    "                    wspace=0.4,\n",
    "                    hspace=0.4)\n",
    "plt.show()"
   ]
  },
  {
   "cell_type": "markdown",
   "metadata": {},
   "source": [
    "## 3. Conclusion\n",
    "\n",
    "Here we complete the entire pipeline. As you may notice, we can see the algorithms start to learn the datasets and the prediction of background and foreground voxels. Auto3DSeg and AutoRunner are highly configurable. To get better results, you can increase the training time, apply different ensemble method, or use hyper-parameter optimization through the AutoRunner or Auto3DSeg module APIs.\n",
    "\n",
    "As a \"Hello World\" notebook, we will end the experiment with simulated datasets here."
   ]
  }
 ],
 "metadata": {
  "kernelspec": {
   "display_name": "Python 3.8.13 ('base')",
   "language": "python",
   "name": "python3"
  },
  "language_info": {
   "codemirror_mode": {
    "name": "ipython",
    "version": 3
   },
   "file_extension": ".py",
   "mimetype": "text/x-python",
   "name": "python",
   "nbconvert_exporter": "python",
   "pygments_lexer": "ipython3",
   "version": "3.8.13"
  },
  "orig_nbformat": 4,
  "vscode": {
   "interpreter": {
    "hash": "d4d1e4263499bec80672ea0156c357c1ee493ec2b1c70f0acce89fc37c4a6abe"
   }
  }
 },
 "nbformat": 4,
 "nbformat_minor": 2
}
