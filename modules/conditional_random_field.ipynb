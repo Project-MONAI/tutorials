{
 "metadata": {
  "language_info": {
   "codemirror_mode": {
    "name": "ipython",
    "version": 3
   },
   "file_extension": ".py",
   "mimetype": "text/x-python",
   "name": "python",
   "nbconvert_exporter": "python",
   "pygments_lexer": "ipython3",
   "version": 3
  },
  "orig_nbformat": 2
 },
 "nbformat": 4,
 "nbformat_minor": 2,
 "cells": [
  {
   "cell_type": "code",
   "execution_count": null,
   "metadata": {},
   "outputs": [],
   "source": [
    "import matplotlib.pyplot as plt\n",
    "import nibabel\n",
    "import torch\n",
    "\n",
    "from monai.networks.blocks import CRF\n"
   ]
  },
  {
   "cell_type": "code",
   "execution_count": null,
   "metadata": {},
   "outputs": [],
   "source": [
    "# Loading data from files\n",
    "ct = nibabel.load(\"abdominal_ct.nii\").get_fdata()\n",
    "logits = nibabel.load(\"abdominal_logits.nii\").get_fdata()\n",
    "\n",
    "# Run parameters\n",
    "run_in_3d = True\n",
    "slice_index = 72\n",
    "\n",
    "# Preparing data\n",
    "if not run_in_3d:\n",
    "    ct = ct[..., slice_index]\n",
    "    logits = logits[..., slice_index]\n",
    "\n",
    "ct_tensor = torch.from_numpy(ct).type(torch.FloatTensor).cuda()\n",
    "logits_tensor = torch.from_numpy(logits).type(torch.FloatTensor).cuda()\n",
    "\n",
    "# Adding noise\n",
    "logits_tensor *= (torch.rand_like(logits_tensor) + 1) * 0.5"
   ]
  },
  {
   "cell_type": "code",
   "execution_count": null,
   "metadata": {},
   "outputs": [],
   "source": [
    "# CRF paramters\n",
    "crf = CRF(\n",
    "    iterations = 3, \n",
    "    bilateral_weight = 3.0,\n",
    "    gaussian_weight = 1.0,\n",
    "    bilateral_spatial_sigma = 5.0,\n",
    "    bilateral_color_sigma = 0.5,\n",
    "    gaussian_spatial_sigma = 5.0,\n",
    "    update_factor = 100.0,\n",
    "    compatability_kernel_range = 1,\n",
    ")\n",
    "\n",
    "# Run CRF and take labels from input and output tensors\n",
    "logits_smoothed_tensor = run_timed(crf, (logits_tensor, ct_tensor))\n",
    "labels_tensor = torch.argmax(logits_tensor, dim=1, keepdim=True)\n",
    "labels_smoothed_tensor = torch.argmax(logits_smoothed_tensor, dim=1, keepdim=True)"
   ]
  },
  {
   "cell_type": "code",
   "execution_count": null,
   "metadata": {},
   "outputs": [],
   "source": [
    "# Reading back data\n",
    "ct = ct_tensor.squeeze(0).movedim(0, -1).cpu()\n",
    "labels = labels_tensor.squeeze(0).movedim(0, -1).cpu()\n",
    "labels_smoothed = labels_smoothed_tensor.squeeze(0).movedim(0, -1).cpu()"
   ]
  },
  {
   "cell_type": "code",
   "execution_count": null,
   "metadata": {},
   "outputs": [],
   "source": [
    "# Slicing for display if needed\n",
    "if run_in_3d:\n",
    "    ct = ct[..., slice_index]\n",
    "    labels = labels[..., slice_index]\n",
    "    labels_smoothed = labels_smoothed[..., slice_index]\n",
    "\n",
    "# Display slices\n",
    "plt.subplot(131).axis(\"off\")\n",
    "plt.title(\"input image\")\n",
    "plt.imshow(ct)\n",
    "plt.subplot(132).axis(\"off\")\n",
    "plt.title(\"input labels\")\n",
    "plt.imshow(labels)\n",
    "plt.subplot(133).axis(\"off\")\n",
    "plt.title(\"output labels\")\n",
    "plt.imshow(labels_smoothed)\n",
    "plt.show()"
   ]
  }
 ]
}