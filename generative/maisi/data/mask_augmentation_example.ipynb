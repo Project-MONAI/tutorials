{
 "cells": [
  {
   "cell_type": "markdown",
   "metadata": {},
   "source": [
    "Copyright (c) MONAI Consortium  \n",
    "Licensed under the Apache License, Version 2.0 (the \"License\");  \n",
    "you may not use this file except in compliance with the License.  \n",
    "You may obtain a copy of the License at  \n",
    "&nbsp;&nbsp;&nbsp;&nbsp;http://www.apache.org/licenses/LICENSE-2.0  \n",
    "Unless required by applicable law or agreed to in writing, software  \n",
    "distributed under the License is distributed on an \"AS IS\" BASIS,  \n",
    "WITHOUT WARRANTIES OR CONDITIONS OF ANY KIND, either express or implied.  \n",
    "See the License for the specific language governing permissions and  \n",
    "limitations under the License. \n",
    "\n",
    "## MAISI Mask Augmentation Example"
   ]
  },
  {
   "cell_type": "markdown",
   "metadata": {},
   "source": [
    "### Setup environment"
   ]
  },
  {
   "cell_type": "code",
   "execution_count": null,
   "metadata": {},
   "outputs": [],
   "source": [
    "!python -c \"import monai\" || pip install -q \"monai-weekly[nibabel]\"\n",
    "!python -c \"import matplotlib\" || pip install -q matplotlib\n",
    "%matplotlib inline"
   ]
  },
  {
   "cell_type": "markdown",
   "metadata": {},
   "source": [
    "### Setup imports"
   ]
  },
  {
   "cell_type": "code",
   "execution_count": null,
   "metadata": {},
   "outputs": [],
   "source": [
    "import os\n",
    "import sys\n",
    "import matplotlib.pyplot as plt\n",
    "import numpy as np\n",
    "import torch\n",
    "import torch.nn.functional as F\n",
    "\n",
    "import monai\n",
    "from monai.transforms import AsDiscrete, LoadImage, Orientation\n",
    "from monai.utils import set_determinism\n",
    "from monai.config import print_config\n",
    "\n",
    "# Add MAISI folder to PATH\n",
    "sys.path.append(os.path.dirname(os.getcwd()))\n",
    "# \n",
    "from scripts.augmentation import augmentation\n",
    "set_determinism(38)\n",
    "print_config()"
   ]
  },
  {
   "cell_type": "markdown",
   "metadata": {},
   "source": [
    "### Plotting functions"
   ]
  },
  {
   "cell_type": "code",
   "execution_count": null,
   "metadata": {},
   "outputs": [],
   "source": [
    "def find_label_center_loc(x):\n",
    "    \"\"\"\n",
    "    Find center location of the binary mask\n",
    "    Args:\n",
    "        x: numpy array\n",
    "    \"\"\"\n",
    "    label_loc = torch.where(x != 0)\n",
    "    center_loc = []\n",
    "    for loc in label_loc:\n",
    "        unique_loc = torch.unique(loc)\n",
    "        if len(unique_loc) == 0:\n",
    "            center_loc.append(None)\n",
    "        else:\n",
    "            center_loc.append(unique_loc[len(unique_loc) // 2])\n",
    "\n",
    "    return center_loc\n",
    "\n",
    "def normalize_label_to_uint8(colorize, label, n_label):\n",
    "    \"\"\"\n",
    "    Normalize image to uint8\n",
    "    Args:\n",
    "        image: numpy array\n",
    "    \"\"\"\n",
    "    with torch.no_grad():\n",
    "        post_label = AsDiscrete(to_onehot=n_label)\n",
    "        label = post_label(label).permute(1, 0, 2, 3)\n",
    "        label = F.conv2d(label, weight=colorize)\n",
    "        label = torch.clip(label, 0, 1).squeeze().permute(1, 2, 0).cpu().numpy()\n",
    "\n",
    "    draw_img = (label * 255).astype(np.uint8)\n",
    "\n",
    "    return draw_img\n",
    "\n",
    "\n",
    "def visualize_one_slice_in_3d_label(colorize, image, axis: int = 2, n_label=105, center=None):\n",
    "    \"\"\"\n",
    "    Prepare a 2D image slice from a 3D image for visualization.\n",
    "    Args:\n",
    "        image: image numpy array, sized (H, W, D)\n",
    "    \"\"\"\n",
    "\n",
    "    # draw image\n",
    "    if center is None:\n",
    "        center = image.shape[2:][axis] // 2\n",
    "    if axis == 0:\n",
    "        draw_img = normalize_label_to_uint8(colorize,\n",
    "                                            image[..., center, :, :], n_label)\n",
    "    elif axis == 1:\n",
    "        draw_img = normalize_label_to_uint8(colorize,\n",
    "                                            image[..., :, center, :], n_label)\n",
    "    elif axis == 2:\n",
    "        draw_img = normalize_label_to_uint8(colorize,\n",
    "                                            image[..., :, :, center], n_label)\n",
    "    else:\n",
    "        raise ValueError(\"axis should be in [0,1,2]\")\n",
    "    return draw_img\n",
    "\n",
    "def show_image(image):\n",
    "    plt.figure(\"check\", (12, 6))\n",
    "    plt.subplot(1, 2, 1)\n",
    "    plt.title(\"mask\")\n",
    "    plt.imshow(image)\n",
    "    plt.show()\n",
    "\n",
    "def to_shape(a, shape):\n",
    "    x_, y_, z_ = shape\n",
    "    x, y, z = a.shape\n",
    "    x_pad = (x_ - x)\n",
    "    y_pad = (y_ - y)\n",
    "    z_pad = (z_ - z)\n",
    "    return np.pad(a, (\n",
    "        (x_pad // 2, x_pad // 2 + x_pad % 2),\n",
    "        (y_pad // 2, y_pad // 2 + y_pad % 2),\n",
    "        (z_pad // 2, z_pad // 2 + z_pad % 2),\n",
    "    ),mode='constant')\n",
    "    \n",
    "def get_xyz_plot(label, target_class_index, colorize, n_label):\n",
    "    target_shape = list(label.shape[1:])\n",
    "    seg_list = []\n",
    "    center_loc_axis = find_label_center_loc(\n",
    "                    torch.flip(label[0, ...] == target_class_index, [-3, -2, -1]))\n",
    "    \n",
    "    for axis in range(3):\n",
    "        center = center_loc_axis[axis]\n",
    "    \n",
    "        seg = visualize_one_slice_in_3d_label(colorize,\n",
    "                                            torch.flip(label.unsqueeze(0),\n",
    "                                                        [-3, -2, -1]), axis, n_label,\n",
    "                                            center).transpose(\n",
    "            [2, 1, 0]\n",
    "        )\n",
    "        seg = to_shape(seg, (3, max(target_shape), max(target_shape)))\n",
    "        seg_list.append(seg)\n",
    "        seg = np.concatenate(seg_list, axis=2).transpose([1, 2, 0])\n",
    "    return seg\n",
    "    "
   ]
  },
  {
   "cell_type": "markdown",
   "metadata": {},
   "source": [
    "### Load example mask"
   ]
  },
  {
   "cell_type": "code",
   "execution_count": null,
   "metadata": {},
   "outputs": [],
   "source": [
    "loader = LoadImage(image_only=True, ensure_channel_first=True)\n",
    "orientation = Orientation(axcodes=\"RAS\")\n",
    "volume = orientation(loader(os.path.join(os.getcwd(), \"example_mask.nii.gz\"))).to(torch.uint8)\n",
    "volume_shape = list(volume.shape[1:])\n",
    "print(\"volume shape\", volume_shape)"
   ]
  },
  {
   "cell_type": "markdown",
   "metadata": {},
   "source": [
    "### Plot lung tumor"
   ]
  },
  {
   "cell_type": "code",
   "execution_count": null,
   "metadata": {},
   "outputs": [],
   "source": [
    "# create a random color map\n",
    "colorize = torch.clip(torch.cat([torch.zeros(3,1, 1, 1), torch.randn(3, 200, 1, 1)], 1), 0, 1)\n",
    "mask = get_xyz_plot(volume, target_class_index=23, colorize=colorize, n_label=201)\n",
    "show_image(mask)"
   ]
  },
  {
   "cell_type": "markdown",
   "metadata": {},
   "source": [
    "### Apply augmentation to lung tumor"
   ]
  },
  {
   "cell_type": "code",
   "execution_count": null,
   "metadata": {},
   "outputs": [],
   "source": [
    "volume_aug = augmentation(volume.unsqueeze(0), volume_shape)"
   ]
  },
  {
   "cell_type": "markdown",
   "metadata": {},
   "source": [
    "### Plot augmented lung tumor"
   ]
  },
  {
   "cell_type": "code",
   "execution_count": null,
   "metadata": {},
   "outputs": [],
   "source": [
    "augmented_mask = get_xyz_plot(volume_aug.squeeze(0), target_class_index=23, colorize=colorize, n_label=201)\n",
    "show_image(augmented_mask)"
   ]
  }
 ],
 "metadata": {
  "kernelspec": {
   "display_name": "Python 3 (ipykernel)",
   "language": "python",
   "name": "python3"
  },
  "language_info": {
   "codemirror_mode": {
    "name": "ipython",
    "version": 3
   },
   "file_extension": ".py",
   "mimetype": "text/x-python",
   "name": "python",
   "nbconvert_exporter": "python",
   "pygments_lexer": "ipython3",
   "version": "3.10.12"
  },
  "vscode": {
   "interpreter": {
    "hash": "916dbcbb3f70747c44a77c7bcd40155683ae19c65e1c03b4aa3499c5328201f1"
   }
  }
 },
 "nbformat": 4,
 "nbformat_minor": 4
}
