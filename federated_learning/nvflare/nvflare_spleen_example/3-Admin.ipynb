{
 "cells": [
  {
   "cell_type": "markdown",
   "metadata": {
    "pycharm": {
     "metadata": false
    }
   },
   "source": [
    "# Admin Startup\n",
    "\n",
    "The purpose of this notebook is to show how to start an admin to operate an FL experiment with a server and at least one client started."
   ]
  },
  {
   "cell_type": "markdown",
   "metadata": {
    "pycharm": {
     "metadata": false
    }
   },
   "source": [
    "## Prerequisites\n",
    "- A server and at least one client has been started."
   ]
  },
  {
   "cell_type": "code",
   "execution_count": 1,
   "metadata": {},
   "outputs": [],
   "source": [
    "import os\n",
    "from IPython.display import HTML"
   ]
  },
  {
   "cell_type": "markdown",
   "metadata": {},
   "source": [
    "### Check Working Folder\n",
    "\n",
    "Before starting, let's check if the necessary folders are created. "
   ]
  },
  {
   "cell_type": "code",
   "execution_count": 2,
   "metadata": {},
   "outputs": [
    {
     "name": "stdout",
     "output_type": "stream",
     "text": [
      "a working folder for the admin exists!!!\n"
     ]
    }
   ],
   "source": [
    "admin_path = \"poc/admin/startup/\"\n",
    "\n",
    "if os.path.exists(admin_path):\n",
    "    print(\"a working folder for the admin exists!!!\")"
   ]
  },
  {
   "cell_type": "markdown",
   "metadata": {},
   "source": [
    "We also need to put necessary files (`hello-monai` for example) into admin's `transfer` folder (create first):"
   ]
  },
  {
   "cell_type": "code",
   "execution_count": 3,
   "metadata": {},
   "outputs": [],
   "source": [
    "!mkdir -p poc/admin/transfer\n",
    "!cp -r hello_monai/ poc/admin/transfer/"
   ]
  },
  {
   "cell_type": "code",
   "execution_count": 4,
   "metadata": {},
   "outputs": [
    {
     "data": {
      "text/plain": [
       "['hello_monai']"
      ]
     },
     "execution_count": 4,
     "metadata": {},
     "output_type": "execute_result"
    }
   ],
   "source": [
    "os.listdir(\"poc/admin/transfer/\")"
   ]
  },
  {
   "cell_type": "code",
   "execution_count": 5,
   "metadata": {},
   "outputs": [
    {
     "data": {
      "text/plain": [
       "['fl_admin.sh']"
      ]
     },
     "execution_count": 5,
     "metadata": {},
     "output_type": "execute_result"
    }
   ],
   "source": [
    "os.listdir(admin_path)"
   ]
  },
  {
   "cell_type": "markdown",
   "metadata": {},
   "source": [
    "As we can see, `hello-monai` is in `poc/admin/transfer`, and a script named `fl_admin.sh` is in `poc/admin/startup`, to start an admin, we only need to run this script."
   ]
  },
  {
   "cell_type": "markdown",
   "metadata": {},
   "source": [
    "### Start Admin"
   ]
  },
  {
   "cell_type": "markdown",
   "metadata": {},
   "source": [
    "Please open a new terminal (please run the following cell and click the link):"
   ]
  },
  {
   "cell_type": "code",
   "execution_count": 6,
   "metadata": {},
   "outputs": [
    {
     "data": {
      "text/html": [
       "<a href=\"\", data-commandlinker-command=\"terminal:create-new\"> Open a new terminal</a>"
      ],
      "text/plain": [
       "<IPython.core.display.HTML object>"
      ]
     },
     "execution_count": 6,
     "metadata": {},
     "output_type": "execute_result"
    }
   ],
   "source": [
    "HTML('<a href=\"\", data-commandlinker-command=\"terminal:create-new\"> Open a new terminal</a>')"
   ]
  },
  {
   "cell_type": "markdown",
   "metadata": {},
   "source": [
    "In the terminal, please run the following command:\n",
    "\n",
    "```\n",
    "source nvflare-env/bin/activate\n",
    "bash poc/admin/startup/fl_admin.sh localhost\n",
    "```\n",
    "Then ,log in by entering `admin` for both the username and password.\n"
   ]
  },
  {
   "cell_type": "markdown",
   "metadata": {},
   "source": [
    "### Prepare for the experiment\n",
    "\n",
    "You need to execute the following steps to prepare for the experiment:\n",
    "\n",
    "- upload pipeline config folder\n",
    "- set FL training number\n",
    "- deploy the folder to client(s) and server\n",
    "\n",
    "The commands can be:\n",
    "```\n",
    "upload_app hello_monai\n",
    "set_run_number 1\n",
    "deploy_app hello_monai server\n",
    "deploy_app hello_monai client\n",
    "```\n",
    "\n",
    "Now, let's check if the folder has been distributed into the server and all client(s):"
   ]
  },
  {
   "cell_type": "code",
   "execution_count": 7,
   "metadata": {},
   "outputs": [
    {
     "name": "stdout",
     "output_type": "stream",
     "text": [
      "config files on server: ['app_server', 'fl_app.txt']\n",
      " \n",
      "config files on site-1: ['app_site-1', 'fl_app.txt']\n",
      " \n",
      "config files on site-2: ['fl_app.txt', 'app_site-2']\n",
      " \n"
     ]
    }
   ],
   "source": [
    "run_file = \"run_1\"\n",
    "\n",
    "poc_path = \"poc/\"\n",
    "\n",
    "for name in [\"server\", \"site-1\", \"site-2\"]:\n",
    "    path = os.path.join(poc_path, name, run_file)\n",
    "    if os.path.exists(path):\n",
    "        print(\"config files on {}: {}\".\n",
    "              format(name, os.listdir(path)))\n",
    "        print(\" \")"
   ]
  },
  {
   "cell_type": "markdown",
   "metadata": {},
   "source": [
    "This example prepares two different data list files: `dataset_part1.json` and `dataset_part2.json`, and they have the same validation set and totally different training set. The default file used in `config_train.json` is `config/dataset_part1.json`. Therefore, if you want to let two clients train on different data, you can switch to use `dataset_part2.json` for `org1-b`.\n",
    "\n",
    "[Link to site-1 config](poc/site-1/run_1/app_site-1/config/config_train.json)\n",
    "\n",
    "[Link to site-2 config](poc/site-2/run_1/app_site-2/config/config_train.json)"
   ]
  },
  {
   "cell_type": "markdown",
   "metadata": {},
   "source": [
    "### (Optional) Copy Dataset\n",
    "\n",
    "After starting a client (for example `site-1`), the Spleen dataset will be downloaded into:\n",
    "`run_1/app_site-1/Task09_Spleen.tar`.\n",
    "\n",
    "To prevent repeatedly downloading the dataset, you can copy the uncompressed `Task09_Spleen` into the corresponding place after running the `deploy_app` command.\n",
    "For example:\n",
    "\n",
    "```\n",
    "cp -r /path-to-dataset/Task09_Spleen poc/site-1/run_2/app_site-1/\n",
    "```"
   ]
  },
  {
   "cell_type": "markdown",
   "metadata": {},
   "source": [
    "### Start Training"
   ]
  },
  {
   "cell_type": "markdown",
   "metadata": {},
   "source": [
    "Now, you can start training with:\n",
    "```\n",
    "start_app all\n",
    "```\n",
    "or can also start server and clients separately:\n",
    "```\n",
    "start_app server\n",
    "```\n",
    "\n",
    "```\n",
    "start_app client site-1\n",
    "```\n",
    "\n",
    "You can check the status by running:\n",
    "```\n",
    "check_status server\n",
    "check_status client\n",
    "```"
   ]
  },
  {
   "cell_type": "markdown",
   "metadata": {},
   "source": [
    "### Abort Training\n",
    "\n",
    "You can abort training for the server and/or client(s) by running:\n",
    "```\n",
    "abort client\n",
    "abort server\n",
    "```\n",
    "If you only want to abort client `site-2`, you can use:\n",
    "```\n",
    "abort client site-2\n",
    "```"
   ]
  },
  {
   "cell_type": "markdown",
   "metadata": {},
   "source": [
    "### Shutdown\n",
    "\n",
    "You can close the server or client(s) by running:\n",
    "\n",
    "`shutdown client` or `shutdown server`\n",
    "\n",
    "or type `shutdown all` to close them all.\n",
    "\n",
    "If you only want to close one client, you can specify the client in the command like follows:\n",
    "```\n",
    "shutdown client site-1\n",
    "```\n",
    "\n",
    "This command will kill the client/server connection, and this command will need input of the admin name for confirmation."
   ]
  },
  {
   "cell_type": "markdown",
   "metadata": {},
   "source": [
    "### Other Commands\n",
    "\n",
    "Please type `?` to learn more about all commands, or you can refer to [the official guide](https://nvidia.github.io/NVFlare/user_guide/admin_commands.html) for more details."
   ]
  },
  {
   "cell_type": "markdown",
   "metadata": {},
   "source": [
    "### Next Steps\n",
    "\n",
    "You have now started the admin client and learnt the commands to control your FL experiment. You're now ready to create your own FL experiment!"
   ]
  }
 ],
 "metadata": {
  "kernelspec": {
   "display_name": "Python 3 (ipykernel)",
   "language": "python",
   "name": "python3"
  },
  "language_info": {
   "codemirror_mode": {
    "name": "ipython",
    "version": 3
   },
   "file_extension": ".py",
   "mimetype": "text/x-python",
   "name": "python",
   "nbconvert_exporter": "python",
   "pygments_lexer": "ipython3",
   "version": "3.8.10"
  },
  "stem_cell": {
   "cell_type": "raw",
   "metadata": {
    "pycharm": {
     "metadata": false
    }
   },
   "source": ""
  }
 },
 "nbformat": 4,
 "nbformat_minor": 4
}
