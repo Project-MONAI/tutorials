{
 "cells": [
  {
   "cell_type": "markdown",
   "id": "c408367e",
   "metadata": {},
   "source": [
    "# 2D Model Inference on a 3D Volume  "
   ]
  },
  {
   "cell_type": "markdown",
   "id": "a8681db2",
   "metadata": {},
   "source": [
    "Usecase: A 2D Model, such as, a 2D segmentation U-Net operates on 2D input which can be slices from a 3D volume (for example, a CT scan). \n",
    "\n",
    "After editing sliding window inferer as described in this tutorial, it can handle the entire flow as shown:\n",
    "![image](../figures/2d_inference_3d_input.png)\n",
    "\n",
    "The input is a *3D Volume*, a *2D model* and the output is a *3D volume* with 2D slice predictions aggregated. \n",
    "\n"
   ]
  },
  {
   "cell_type": "markdown",
   "id": "239b0d93",
   "metadata": {},
   "source": [
    "[![Open In Colab](https://colab.research.google.com/assets/colab-badge.svg)](https://colab.research.google.com/github/Project-MONAI/tutorials/blob/master/modules/2d_inference_3d_volume.ipynb)\n"
   ]
  },
  {
   "cell_type": "code",
   "execution_count": 1,
   "id": "f2e1b91f",
   "metadata": {},
   "outputs": [
    {
     "name": "stdout",
     "output_type": "stream",
     "text": [
      "Requirement already satisfied: monai in /home/suraj/miniconda3/envs/monai/lib/python3.7/site-packages (0.8.0)\n",
      "Requirement already satisfied: numpy>=1.17 in /home/suraj/miniconda3/envs/monai/lib/python3.7/site-packages (from monai) (1.21.4)\n",
      "Requirement already satisfied: torch>=1.6 in /home/suraj/miniconda3/envs/monai/lib/python3.7/site-packages (from monai) (1.10.0)\n",
      "Requirement already satisfied: typing-extensions in /home/suraj/miniconda3/envs/monai/lib/python3.7/site-packages (from torch>=1.6->monai) (4.0.1)\n"
     ]
    }
   ],
   "source": [
    "# Install monai\n",
    "!pip install monai"
   ]
  },
  {
   "cell_type": "markdown",
   "id": "85f00a47",
   "metadata": {},
   "source": [
    "## Overiding SlidingWindowInferer\n",
    "The simplest way to achieve this functionality is to create a class `YourSlidingWindowInferer` that inherits from `SlidingWindowInferer` in `monai.inferers`"
   ]
  },
  {
   "cell_type": "code",
   "execution_count": 2,
   "id": "01f8bfa3",
   "metadata": {},
   "outputs": [],
   "source": [
    "from monai.inferers import SlidingWindowInferer\n",
    "import torch\n",
    "from typing import Callable, Any\n",
    "\n",
    "\n",
    "class YourSlidingWindowInferer(SlidingWindowInferer):\n",
    "    def __init__(self, *args, **kwargs):\n",
    "        super().__init__(*args, **kwargs)\n",
    "\n",
    "    def __call__(\n",
    "        self,\n",
    "        inputs: torch.Tensor,\n",
    "        network: Callable[..., torch.Tensor],\n",
    "        *args: Any,\n",
    "        **kwargs: Any,\n",
    "    ) -> torch.Tensor:\n",
    "\n",
    "        # Check if roi size (eg. 2D roi) and input volume sizes (3D input) mismatch \n",
    "        if len(self.roi_size) != len(inputs.shape[2:]):\n",
    "\n",
    "            # If they mismatch and roi_size is 2D add another dimension to roi size\n",
    "            if len(self.roi_size) == 2:\n",
    "                self.roi_size = [1, *self.roi_size]\n",
    "            else:\n",
    "                raise RuntimeError(\"Unsupported roi size, cannot broadcast to volume. \")\n",
    "\n",
    "        return super().__call__(inputs, lambda x: self.network_wrapper(network, x))\n",
    "\n",
    "    def network_wrapper(self, network, x, *args, **kwargs):\n",
    "        \"\"\"\n",
    "        Wrapper handles cases where inference needs to be done using \n",
    "        2D models over 3D volume inputs.\n",
    "        \"\"\"\n",
    "        # If depth dim is 1 in [D, H, W] roi size, then the input is 2D and needs\n",
    "        # be handled accordingly\n",
    "        if self.roi_size[0] == 1:\n",
    "            #  Pass [N, C, H, W] to the model as it is 2D.\n",
    "            x = x.squeeze(dim=2)\n",
    "            out = network(x, *args, **kwargs)\n",
    "            #  Unsqueeze the network output so it is [N, C, D, H, W] as expected by the default SlidingWindowInferer class\n",
    "            return out.unsqueeze(dim=2)\n",
    "\n",
    "        else:\n",
    "            return network(x, *args, **kwargs)"
   ]
  },
  {
   "cell_type": "markdown",
   "id": "bb0a63dd",
   "metadata": {},
   "source": [
    "## Testing added functionality\n",
    "Let's use the `YourSlidingWindowInferer` in a dummy example to execute the workflow described above."
   ]
  },
  {
   "cell_type": "code",
   "execution_count": 3,
   "id": "85b15305",
   "metadata": {},
   "outputs": [],
   "source": [
    "# Create a 2D UNet with randomly initialized weights for testing purposes\n",
    "from monai.networks.nets import UNet\n",
    "\n",
    "# 3 layer network with down/upsampling by a factor of 2 at each layer with 2-convolution residual units\n",
    "net = UNet(\n",
    "    spatial_dims=2,\n",
    "    in_channels=1,\n",
    "    out_channels=1,\n",
    "    channels=(4, 8, 16),\n",
    "    strides=(2, 2),\n",
    "    num_res_units=2\n",
    ")\n",
    "\n",
    "# Initialize a dummy 3D tensor volume with shape (N,C,D,H,W)\n",
    "input_volume = torch.ones(1, 1, 30, 256, 256)\n",
    "\n",
    "# Create an instance of YourSlidingWindowInferer with roi_size as the 256x256 (HxW)\n",
    "inferer = YourSlidingWindowInferer(roi_size=(256, 256),\n",
    "                                   sw_batch_size=1,\n",
    "                                   cval=-1)\n",
    "\n",
    "output = inferer(input_volume, net)"
   ]
  },
  {
   "cell_type": "code",
   "execution_count": 4,
   "id": "5ad96534",
   "metadata": {},
   "outputs": [
    {
     "data": {
      "text/plain": [
       "torch.Size([1, 1, 30, 256, 256])"
      ]
     },
     "execution_count": 4,
     "metadata": {},
     "output_type": "execute_result"
    }
   ],
   "source": [
    "# Output is a 3D volume with 2D slices aggregated\n",
    "output.shape"
   ]
  }
 ],
 "metadata": {
  "kernelspec": {
   "display_name": "Python 3 (ipykernel)",
   "language": "python",
   "name": "python3"
  },
  "language_info": {
   "codemirror_mode": {
    "name": "ipython",
    "version": 3
   },
   "file_extension": ".py",
   "mimetype": "text/x-python",
   "name": "python",
   "nbconvert_exporter": "python",
   "pygments_lexer": "ipython3",
   "version": "3.7.11"
  }
 },
 "nbformat": 4,
 "nbformat_minor": 5
}
