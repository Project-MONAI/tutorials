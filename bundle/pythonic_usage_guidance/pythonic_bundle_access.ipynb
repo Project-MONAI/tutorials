{
 "cells": [
  {
   "cell_type": "markdown",
   "metadata": {},
   "source": [
    "Copyright (c) MONAI Consortium  \n",
    "Licensed under the Apache License, Version 2.0 (the \"License\");  \n",
    "you may not use this file except in compliance with the License.  \n",
    "You may obtain a copy of the License at  \n",
    "&nbsp;&nbsp;&nbsp;&nbsp;http://www.apache.org/licenses/LICENSE-2.0  \n",
    "Unless required by applicable law or agreed to in writing, software  \n",
    "distributed under the License is distributed on an \"AS IS\" BASIS,  \n",
    "WITHOUT WARRANTIES OR CONDITIONS OF ANY KIND, either express or implied.  \n",
    "See the License for the specific language governing permissions and  \n",
    "limitations under the License.\n",
    "\n",
    "# Accessing a Bundle Workflow in Python\n",
    "\n",
    "In this guide, we'll explore how to access a bundle in Python and use it in your own application. We'll cover the following topics:\n",
    "\n",
    "1. **Downloading the Bundle**: First, you'll need to download the bundle from its source. This can be done using the `download` API.\n",
    "\n",
    "2. **Creating a `BundleWorkflow`**: Once you have the bundle, you can create a `BundleWorkflow` object by passing the path to the bundle file as an argument to `create_worflow`.\n",
    "\n",
    "3. **Getting Properties from the Bundle**: You can then retrieve the properties of the bundle by directly accessing them. For example, to get the version of the bundle, you can use `workflow.version`.\n",
    "\n",
    "4. **Using Pretrained Weights from the Bundle**: You can conveniently employ pretrained weights from the bundle and customize them using the `load` API.\n",
    "\n",
    "5. **Updating Properties**: If you need to update any of the properties, you can do so by directly overwriting them. For example, to update the max epochs of the bundle, you can use `workflow.max_epochs = 10`.\n",
    "\n",
    "6. **Using Components in Your Own Pipeline**: Finally, you can use the components from the bundle in your own pipeline by accessing them through the `BundleWorkflow` object.\n"
   ]
  },
  {
   "cell_type": "markdown",
   "metadata": {},
   "source": [
    "## Setup environment"
   ]
  },
  {
   "cell_type": "code",
   "execution_count": null,
   "metadata": {},
   "outputs": [],
   "source": [
    "!python -c \"import monai\" || pip install -q \"monai-weekly[gdown, nibabel, tqdm, ignite]\""
   ]
  },
  {
   "cell_type": "markdown",
   "metadata": {},
   "source": [
    "## Setup imports"
   ]
  },
  {
   "cell_type": "code",
   "execution_count": 8,
   "metadata": {},
   "outputs": [
    {
     "name": "stdout",
     "output_type": "stream",
     "text": [
      "MONAI version: 1.2.0+107.g1ed4f94b\n",
      "Numpy version: 1.22.2\n",
      "Pytorch version: 1.13.1+cu117\n",
      "MONAI flags: HAS_EXT = False, USE_COMPILED = False, USE_META_DICT = False\n",
      "MONAI rev id: 1ed4f94ba3ab84cd5b7c14c840f1cf8b9269e266\n",
      "MONAI __file__: /workspace/Code/MONAI/monai/__init__.py\n",
      "\n",
      "Optional dependencies:\n",
      "Pytorch Ignite version: 0.4.11\n",
      "ITK version: 5.3.0\n",
      "Nibabel version: 5.1.0\n",
      "scikit-image version: 0.21.0\n",
      "scipy version: 1.10.1\n",
      "Pillow version: 9.2.0\n",
      "Tensorboard version: 2.9.0\n",
      "gdown version: 4.7.1\n",
      "TorchVision version: 0.14.1+cu117\n",
      "tqdm version: 4.65.0\n",
      "lmdb version: 1.4.1\n",
      "psutil version: 5.9.4\n",
      "pandas version: 1.5.2\n",
      "einops version: 0.6.1\n",
      "transformers version: 4.21.3\n",
      "mlflow version: 2.4.0\n",
      "pynrrd version: 1.0.0\n",
      "clearml version: 1.11.1rc1\n",
      "\n",
      "For details about installing the optional dependencies, please visit:\n",
      "    https://docs.monai.io/en/latest/installation.html#installing-the-recommended-dependencies\n",
      "\n"
     ]
    }
   ],
   "source": [
    "import os\n",
    "import tempfile\n",
    "from pathlib import Path\n",
    "from monai.networks.nets import SegResNet\n",
    "from monai.transforms import MeanEnsembled, Compose\n",
    "from monai.config import print_config\n",
    "from monai.bundle import download, create_workflow, ConfigParser, load\n",
    "\n",
    "print_config()"
   ]
  },
  {
   "cell_type": "markdown",
   "metadata": {},
   "source": [
    "## Setup data directory\n",
    "\n",
    "You can specify a directory with the `MONAI_DATA_DIRECTORY` environment variable.  \n",
    "This allows you to save results and reuse downloads.  \n",
    "If not specified a temporary directory will be used."
   ]
  },
  {
   "cell_type": "code",
   "execution_count": 2,
   "metadata": {},
   "outputs": [
    {
     "name": "stdout",
     "output_type": "stream",
     "text": [
      "/workspace/Data\n"
     ]
    }
   ],
   "source": [
    "directory = os.environ.get(\"MONAI_DATA_DIRECTORY\")\n",
    "root_dir = tempfile.mkdtemp() if directory is None else directory\n",
    "print(root_dir)"
   ]
  },
  {
   "cell_type": "markdown",
   "metadata": {},
   "source": [
    "## Downloading the Bundle"
   ]
  },
  {
   "cell_type": "code",
   "execution_count": 4,
   "metadata": {},
   "outputs": [
    {
     "name": "stdout",
     "output_type": "stream",
     "text": [
      "name spleen_ct_segmentation\n",
      "version None\n",
      "bundle_dir /workspace/Data\n",
      "source monaihosting\n",
      "repo None\n",
      "url None\n",
      "remove_prefix monai_\n",
      "progress True\n",
      "2023-09-06 03:32:53,482 - INFO - --- input summary of monai.bundle.scripts.download ---\n",
      "2023-09-06 03:32:53,483 - INFO - > name: 'spleen_ct_segmentation'\n",
      "2023-09-06 03:32:53,483 - INFO - > bundle_dir: '/workspace/Data'\n",
      "2023-09-06 03:32:53,483 - INFO - > source: 'monaihosting'\n",
      "2023-09-06 03:32:53,484 - INFO - > remove_prefix: 'monai_'\n",
      "2023-09-06 03:32:53,484 - INFO - > progress: True\n",
      "2023-09-06 03:32:53,484 - INFO - ---\n",
      "\n",
      "\n",
      "2023-09-06 03:32:54,228 - INFO - Expected md5 is None, skip md5 check for file /workspace/Data/spleen_ct_segmentation_v0.5.3.zip.\n",
      "2023-09-06 03:32:54,228 - INFO - File exists: /workspace/Data/spleen_ct_segmentation_v0.5.3.zip, skipped downloading.\n",
      "2023-09-06 03:32:54,230 - INFO - Writing into directory: /workspace/Data.\n"
     ]
    }
   ],
   "source": [
    "download(name=\"spleen_ct_segmentation\", bundle_dir=root_dir)"
   ]
  },
  {
   "cell_type": "markdown",
   "metadata": {},
   "source": [
    "## Creating a `BundleWorkflow`\n",
    "In this section, we demonstrate how to create and initialize a `BundleWorkflow` using the `create_workflow` function. This function supports the creation of both config-based bundles by providing the necessary config files and python-based bundles by specifying a bundle workflow name. The specified name should be a subclass of `BundleWorkflow` and be accessible for import.\n"
   ]
  },
  {
   "cell_type": "code",
   "execution_count": 5,
   "metadata": {},
   "outputs": [
    {
     "name": "stdout",
     "output_type": "stream",
     "text": [
      "workflow_name None\n",
      "config_file /workspace/Data/spleen_ct_segmentation/configs/train.json\n",
      "workflow_type train\n",
      "2023-09-06 03:33:02,472 - INFO - --- input summary of monai.bundle.scripts.run ---\n",
      "2023-09-06 03:33:02,473 - INFO - > config_file: PosixPath('/workspace/Data/spleen_ct_segmentation/configs/train.json')\n",
      "2023-09-06 03:33:02,473 - INFO - > workflow_type: 'train'\n",
      "2023-09-06 03:33:02,474 - INFO - ---\n",
      "\n",
      "\n",
      "2023-09-06 03:33:02,474 - INFO - Setting logging properties based on config: /workspace/Data/spleen_ct_segmentation/configs/logging.conf.\n"
     ]
    }
   ],
   "source": [
    "config_file = Path(root_dir) / \"spleen_ct_segmentation\" / \"configs\" / \"train.json\"\n",
    "\n",
    "train_workflow = create_workflow(config_file=config_file, workflow_type=\"train\")"
   ]
  },
  {
   "cell_type": "markdown",
   "metadata": {},
   "source": [
    "## Getting Properties from the Bundle\n",
    "To access properties from the bundle, please refer to the list of supported properties available [here](https://docs.monai.io/en/latest/mb_properties.html).\n",
    "\n",
    "You can also utilize the `add_property` method of the `BundleWorkflow` object to add properties for application requirements checking and access.\n"
   ]
  },
  {
   "cell_type": "code",
   "execution_count": 14,
   "metadata": {},
   "outputs": [
    {
     "name": "stdout",
     "output_type": "stream",
     "text": [
      "<torch.optim.lr_scheduler.StepLR object at 0x7faf3d63dbe0>\n"
     ]
    },
    {
     "name": "stderr",
     "output_type": "stream",
     "text": [
      "monai.transforms.io.dictionary LoadImaged.__init__:image_only: Current default value of argument `image_only=False` has been deprecated since version 1.1. It will be changed to `image_only=True` in version 1.3.\n"
     ]
    }
   ],
   "source": [
    "# for existing properties\n",
    "# Note that the properties got from `train_workflow` is already instantiated.\n",
    "train_preprocessing = train_workflow.train_preprocessing\n",
    "\n",
    "# for meta information\n",
    "version = train_workflow.version\n",
    "\n",
    "# add properties\n",
    "train_workflow.add_property(name=\"lr_scheduler\", required=True, config_id=\"lr_scheduler\")\n",
    "print(train_workflow.lr_scheduler)"
   ]
  },
  {
   "cell_type": "markdown",
   "metadata": {},
   "source": [
    "## Utilizing Pretrained Weights from the Bundle\n",
    "\n",
    "This function primarily serves to provide an instantiated network by loading pretrained weights from the bundle. You have the flexibility to directly update the parameters or filter the weights. Additionally, it's possible to use your own model instead of the one included in the bundle.\n"
   ]
  },
  {
   "cell_type": "code",
   "execution_count": 9,
   "metadata": {},
   "outputs": [
    {
     "name": "stdout",
     "output_type": "stream",
     "text": [
      "2023-09-06 04:06:53,867 - INFO - 'dst' model updated: 82 of 83 variables.\n"
     ]
    }
   ],
   "source": [
    "# directly get an instantiated network that loaded the weights.\n",
    "model = load(name=\"brats_mri_segmentation\", bundle_dir=root_dir, source=\"monaihosting\")\n",
    "\n",
    "# directly update the parameters for the model from the bundle.\n",
    "model = load(name=\"brats_mri_segmentation\", bundle_dir=root_dir, source=\"monaihosting\", in_channels=3, out_channels=1)\n",
    "\n",
    "# using `exclude_vars` to filter loading weights.\n",
    "model = load(name=\"brats_mri_segmentation\", bundle_dir=root_dir, source=\"monaihosting\", copy_model_args={\"exclude_vars\": \"convInit|conv_final\"})\n",
    "\n",
    "# pass model and return an instantiated network that loaded the weights.\n",
    "my_model = SegResNet(blocks_down=[1, 2, 2, 4], blocks_up=[1, 1, 1], init_filters=16, in_channels=1, out_channels=3)\n",
    "model = load(name=\"brats_mri_segmentation\", bundle_dir=root_dir, source=\"monaihosting\", model=my_model)"
   ]
  },
  {
   "cell_type": "markdown",
   "metadata": {},
   "source": [
    "## Updating Properties\n",
    "There are two primary methods for updating properties:\n",
    "\n",
    "1. You can override them during the workflow creation process.\n",
    "2. Alternatively, you can directly overwrite them after the workflow has been created."
   ]
  },
  {
   "cell_type": "code",
   "execution_count": 6,
   "metadata": {},
   "outputs": [
    {
     "name": "stdout",
     "output_type": "stream",
     "text": [
      "workflow_name None\n",
      "config_file /workspace/Data/spleen_ct_segmentation/configs/train.json\n",
      "workflow_type train\n",
      "epochs 1\n",
      "dataset_dir /workspace/Data/Task09_Spleen\n",
      "bundle_root /workspace/Data\n",
      "2023-09-05 10:32:00,679 - INFO - --- input summary of monai.bundle.scripts.run ---\n",
      "2023-09-05 10:32:00,682 - INFO - > config_file: PosixPath('/workspace/Data/spleen_ct_segmentation/configs/train.json')\n",
      "2023-09-05 10:32:00,682 - INFO - > workflow_type: 'train'\n",
      "2023-09-05 10:32:00,684 - INFO - > epochs: 1\n",
      "2023-09-05 10:32:00,684 - INFO - > dataset_dir: PosixPath('/workspace/Data/Task09_Spleen')\n",
      "2023-09-05 10:32:00,685 - INFO - > bundle_root: '/workspace/Data'\n",
      "2023-09-05 10:32:00,685 - INFO - ---\n",
      "\n",
      "\n",
      "2023-09-05 10:32:00,686 - INFO - Setting logging properties based on config: /workspace/Data/spleen_ct_segmentation/configs/logging.conf.\n",
      "max epochs: 1\n"
     ]
    }
   ],
   "source": [
    "# 1 override them when you create the workflow\n",
    "dataset_dir = Path(root_dir) / \"Task09_Spleen\"\n",
    "bundle_root = root_dir\n",
    "override = {\"epochs\": 1, \"dataset_dir\": dataset_dir, \"bundle_root\": bundle_root}\n",
    "train_workflow = create_workflow(config_file=config_file, workflow_type=\"train\", **override)\n",
    "print(\"max epochs:\", train_workflow.max_epochs)"
   ]
  },
  {
   "cell_type": "code",
   "execution_count": 7,
   "metadata": {},
   "outputs": [
    {
     "name": "stdout",
     "output_type": "stream",
     "text": [
      "max epochs: 3\n",
      "bundle root: /workspace/Data\n"
     ]
    }
   ],
   "source": [
    "# 2 directly overwriting them after creating the workflow\n",
    "train_workflow.max_epochs = 3\n",
    "train_workflow.bundle_root = bundle_root\n",
    "\n",
    "# Note that must initialize again after changing the content\n",
    "train_workflow.initialize()\n",
    "print(\"max epochs:\", train_workflow.max_epochs)\n",
    "print(\"bundle root:\", train_workflow.bundle_root)"
   ]
  },
  {
   "cell_type": "markdown",
   "metadata": {},
   "source": [
    "## Using Components in Your Own Pipeline\n",
    "If you wish to incorporate additional processing into the bundle's existing post-processing and use it within your custom pipeline, you can follow these steps. A comprehensive example can be found [here](https://github.com/Project-MONAI/tutorials/tree/main/model_zoo/app_integrate_bundle)."
   ]
  },
  {
   "cell_type": "code",
   "execution_count": 8,
   "metadata": {},
   "outputs": [
    {
     "name": "stdout",
     "output_type": "stream",
     "text": [
      "(<monai.transforms.post.dictionary.MeanEnsembled object at 0x7f7a40dce160>, <monai.transforms.compose.Compose object at 0x7f7a40e200a0>)\n"
     ]
    }
   ],
   "source": [
    "n_splits = 5\n",
    "ensemble_transform = MeanEnsembled(keys=[\"pred\"] * n_splits, output_key=\"pred\")\n",
    "update_postprocessing = Compose((ensemble_transform, train_workflow.val_postprocessing))\n",
    "\n",
    "print(update_postprocessing.transforms)"
   ]
  },
  {
   "cell_type": "markdown",
   "metadata": {},
   "source": [
    "## A simple comparison of the use of `ConfigParser` and `BundleWorkflow`"
   ]
  },
  {
   "cell_type": "code",
   "execution_count": null,
   "metadata": {},
   "outputs": [],
   "source": [
    "# ConfigParser\n",
    "\n",
    "## load config\n",
    "bundle_config = ConfigParser()\n",
    "bundle_config.read_config(config_file)\n",
    "## update config\n",
    "bundle_config.config.update({\"bundle_root\": bundle_root})\n",
    "## get config\n",
    "bundle_config.get(\"bundle_root\")\n",
    "bundle_config.get_parsed_content(\"train#handlers\", instantiate=True)\n",
    "\n",
    "\n",
    "# BundleWorkflow\n",
    "\n",
    "## load config\n",
    "workflow = create_workflow(config_file=config_file, workflow_type=\"train\")\n",
    "## update config\n",
    "workflow.bundle_root = bundle_root\n",
    "workflow.initialize()\n",
    "## get config\n",
    "workflow.bundle_root\n",
    "workflow.train_handlers"
   ]
  }
 ],
 "metadata": {
  "kernelspec": {
   "display_name": "Python 3",
   "language": "python",
   "name": "python3"
  },
  "language_info": {
   "codemirror_mode": {
    "name": "ipython",
    "version": 3
   },
   "file_extension": ".py",
   "mimetype": "text/x-python",
   "name": "python",
   "nbconvert_exporter": "python",
   "pygments_lexer": "ipython3",
   "version": "3.8.10"
  },
  "orig_nbformat": 4
 },
 "nbformat": 4,
 "nbformat_minor": 2
}
