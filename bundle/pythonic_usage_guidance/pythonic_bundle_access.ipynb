{
 "cells": [
  {
   "cell_type": "markdown",
   "metadata": {},
   "source": [
    "Copyright (c) MONAI Consortium  \n",
    "Licensed under the Apache License, Version 2.0 (the \"License\");  \n",
    "you may not use this file except in compliance with the License.  \n",
    "You may obtain a copy of the License at  \n",
    "&nbsp;&nbsp;&nbsp;&nbsp;http://www.apache.org/licenses/LICENSE-2.0  \n",
    "Unless required by applicable law or agreed to in writing, software  \n",
    "distributed under the License is distributed on an \"AS IS\" BASIS,  \n",
    "WITHOUT WARRANTIES OR CONDITIONS OF ANY KIND, either express or implied.  \n",
    "See the License for the specific language governing permissions and  \n",
    "limitations under the License.\n",
    "\n",
    "# Accessing a Bundle Workflow in Python\n",
    "\n",
    "In this guide, we'll explore how to access a bundle in Python and use it in your own application. We'll cover the following topics:\n",
    "\n",
    "1. **Downloading the Bundle**: First, you'll need to download the bundle from its source. This can be done using the `download` API.\n",
    "\n",
    "2. **Creating a `BundleWorkflow`**: Once you have the bundle, you can create a `BundleWorkflow` object by passing the path to the bundle file as an argument to `create_worflow`.\n",
    "\n",
    "3. **Getting Properties from the Bundle**: You can then retrieve the properties of the bundle by directly accessing them. For example, to get the version of the bundle, you can use `workflow.version`.\n",
    "\n",
    "4. **Updating Properties**: If you need to update any of the properties, you can do so by directly overwriting them. For example, to update the max epochs of the bundle, you can use `workflow.max_epochs = 10`.\n",
    "\n",
    "5. **Using Components in Your Own Pipeline**: Finally, you can use the components from the bundle in your own pipeline by accessing them through the `BundleWorkflow` object.\n"
   ]
  },
  {
   "cell_type": "markdown",
   "metadata": {},
   "source": [
    "## Setup environment"
   ]
  },
  {
   "cell_type": "code",
   "execution_count": null,
   "metadata": {},
   "outputs": [],
   "source": [
    "!python -c \"import monai\" || pip install -q \"monai-weekly[gdown, nibabel, tqdm, ignite]\""
   ]
  },
  {
   "cell_type": "markdown",
   "metadata": {},
   "source": [
    "## Setup imports"
   ]
  },
  {
   "cell_type": "code",
   "execution_count": 6,
   "metadata": {},
   "outputs": [
    {
     "name": "stdout",
     "output_type": "stream",
     "text": [
      "MONAI version: 1.2.0+103.ga7a690ff\n",
      "Numpy version: 1.22.2\n",
      "Pytorch version: 1.13.1+cu117\n",
      "MONAI flags: HAS_EXT = False, USE_COMPILED = False, USE_META_DICT = False\n",
      "MONAI rev id: a7a690ffb781c806b73500e68ba05be6fcdfd11a\n",
      "MONAI __file__: /workspace/Code/MONAI/monai/__init__.py\n",
      "\n",
      "Optional dependencies:\n",
      "Pytorch Ignite version: 0.4.11\n",
      "ITK version: 5.3.0\n",
      "Nibabel version: 5.1.0\n",
      "scikit-image version: 0.21.0\n",
      "scipy version: 1.10.1\n",
      "Pillow version: 9.2.0\n",
      "Tensorboard version: 2.9.0\n",
      "gdown version: 4.7.1\n",
      "TorchVision version: 0.14.1+cu117\n",
      "tqdm version: 4.65.0\n",
      "lmdb version: 1.4.1\n",
      "psutil version: 5.9.4\n",
      "pandas version: 1.5.2\n",
      "einops version: 0.6.1\n",
      "transformers version: 4.21.3\n",
      "mlflow version: 2.4.0\n",
      "pynrrd version: 1.0.0\n",
      "clearml version: 1.11.1rc1\n",
      "\n",
      "For details about installing the optional dependencies, please visit:\n",
      "    https://docs.monai.io/en/latest/installation.html#installing-the-recommended-dependencies\n",
      "\n"
     ]
    }
   ],
   "source": [
    "import os\n",
    "import tempfile\n",
    "from pathlib import Path\n",
    "from monai.config import print_config\n",
    "from monai.bundle import download, create_workflow\n",
    "\n",
    "print_config()"
   ]
  },
  {
   "cell_type": "markdown",
   "metadata": {},
   "source": [
    "## Setup data directory\n",
    "\n",
    "You can specify a directory with the `MONAI_DATA_DIRECTORY` environment variable.  \n",
    "This allows you to save results and reuse downloads.  \n",
    "If not specified a temporary directory will be used."
   ]
  },
  {
   "cell_type": "code",
   "execution_count": 2,
   "metadata": {},
   "outputs": [
    {
     "name": "stdout",
     "output_type": "stream",
     "text": [
      "/workspace/Data\n"
     ]
    }
   ],
   "source": [
    "directory = os.environ.get(\"MONAI_DATA_DIRECTORY\")\n",
    "root_dir = tempfile.mkdtemp() if directory is None else directory\n",
    "print(root_dir)"
   ]
  },
  {
   "cell_type": "markdown",
   "metadata": {},
   "source": [
    "## Downloading the Bundle"
   ]
  },
  {
   "cell_type": "code",
   "execution_count": 3,
   "metadata": {},
   "outputs": [
    {
     "name": "stdout",
     "output_type": "stream",
     "text": [
      "name spleen_ct_segmentation\n",
      "version None\n",
      "bundle_dir /workspace/Data\n",
      "source github\n",
      "repo None\n",
      "url None\n",
      "remove_prefix monai_\n",
      "progress True\n",
      "2023-09-01 08:36:39,219 - INFO - --- input summary of monai.bundle.scripts.download ---\n",
      "2023-09-01 08:36:39,220 - INFO - > name: 'spleen_ct_segmentation'\n",
      "2023-09-01 08:36:39,220 - INFO - > bundle_dir: '/workspace/Data'\n",
      "2023-09-01 08:36:39,221 - INFO - > source: 'github'\n",
      "2023-09-01 08:36:39,221 - INFO - > remove_prefix: 'monai_'\n",
      "2023-09-01 08:36:39,222 - INFO - > progress: True\n",
      "2023-09-01 08:36:39,223 - INFO - ---\n",
      "\n",
      "\n"
     ]
    },
    {
     "name": "stdout",
     "output_type": "stream",
     "text": [
      "2023-09-01 08:36:40,143 - INFO - Expected md5 is None, skip md5 check for file /workspace/Data/spleen_ct_segmentation_v0.5.3.zip.\n",
      "2023-09-01 08:36:40,143 - INFO - File exists: /workspace/Data/spleen_ct_segmentation_v0.5.3.zip, skipped downloading.\n",
      "2023-09-01 08:36:40,144 - INFO - Writing into directory: /workspace/Data.\n"
     ]
    }
   ],
   "source": [
    "download(name=\"spleen_ct_segmentation\", bundle_dir=root_dir)"
   ]
  },
  {
   "cell_type": "markdown",
   "metadata": {},
   "source": [
    "## Creating a `BundleWorkflow`\n",
    "Here we use `create_workflow` to create and initialize a `BundleWorkflow`. `create_workflow` can support both creating a config-based bundle by passing the config files and a python-based bundle by passing the bundle workflow name which should be subclass of `BundleWorkflow` and be available to import."
   ]
  },
  {
   "cell_type": "code",
   "execution_count": 4,
   "metadata": {},
   "outputs": [
    {
     "name": "stdout",
     "output_type": "stream",
     "text": [
      "workflow_name None\n",
      "config_file /workspace/Data/spleen_ct_segmentation/configs/train.json\n",
      "workflow_type train\n",
      "2023-09-01 08:36:40,372 - INFO - --- input summary of monai.bundle.scripts.run ---\n",
      "2023-09-01 08:36:40,373 - INFO - > config_file: PosixPath('/workspace/Data/spleen_ct_segmentation/configs/train.json')\n",
      "2023-09-01 08:36:40,374 - INFO - > workflow_type: 'train'\n",
      "2023-09-01 08:36:40,375 - INFO - ---\n",
      "\n",
      "\n",
      "2023-09-01 08:36:40,376 - INFO - Setting logging properties based on config: /workspace/Data/spleen_ct_segmentation/configs/logging.conf.\n"
     ]
    }
   ],
   "source": [
    "config_file = Path(root_dir) / \"spleen_ct_segmentation\" / \"configs\" / \"train.json\"\n",
    "\n",
    "train_workflow = create_workflow(config_file=config_file, workflow_type=\"train\")"
   ]
  },
  {
   "cell_type": "markdown",
   "metadata": {},
   "source": [
    "## Getting Properties from the Bundle\n",
    "You need to check all supported properties listed [here](https://docs.monai.io/en/latest/mb_properties.html).\n",
    "\n",
    "You can also use the `add_property` method of the `BundleWorkflow` object to add the property for the application requirements check and access."
   ]
  },
  {
   "cell_type": "code",
   "execution_count": 5,
   "metadata": {},
   "outputs": [
    {
     "name": "stderr",
     "output_type": "stream",
     "text": [
      "monai.transforms.io.dictionary LoadImaged.__init__:image_only: Current default value of argument `image_only=False` has been deprecated since version 1.1. It will be changed to `image_only=True` in version 1.3.\n"
     ]
    },
    {
     "name": "stdout",
     "output_type": "stream",
     "text": [
      "<torch.optim.lr_scheduler.StepLR object at 0x7ff4dd5f5910>\n"
     ]
    }
   ],
   "source": [
    "# for existing properties\n",
    "# Note that the properties got from `train_workflow` is already instantiated.\n",
    "train_preprocessing = train_workflow.train_preprocessing\n",
    "\n",
    "# for meta information\n",
    "version = train_workflow.version\n",
    "\n",
    "# add properties\n",
    "train_workflow.add_property(name=\"lr_scheduler\", required=True, config_id=\"lr_scheduler\")\n",
    "print(train_workflow.lr_scheduler)"
   ]
  },
  {
   "cell_type": "markdown",
   "metadata": {},
   "source": [
    "## Updating Properties\n",
    "There are two ways to update the properties:\n",
    "- You can override them when you create the workflow\n",
    "- Or you can directly overwriting them after creating the workflow "
   ]
  },
  {
   "cell_type": "code",
   "execution_count": 7,
   "metadata": {},
   "outputs": [
    {
     "name": "stdout",
     "output_type": "stream",
     "text": [
      "workflow_name None\n",
      "config_file /workspace/Data/spleen_ct_segmentation/configs/train.json\n",
      "workflow_type train\n",
      "max_epochs 3\n",
      "dataset_dir /workspace/Data/Task09_Spleen\n",
      "2023-09-01 08:42:38,109 - INFO - --- input summary of monai.bundle.scripts.run ---\n",
      "2023-09-01 08:42:38,110 - INFO - > config_file: PosixPath('/workspace/Data/spleen_ct_segmentation/configs/train.json')\n",
      "2023-09-01 08:42:38,111 - INFO - > workflow_type: 'train'\n",
      "2023-09-01 08:42:38,111 - INFO - > max_epochs: 3\n",
      "2023-09-01 08:42:38,111 - INFO - > dataset_dir: PosixPath('/workspace/Data/Task09_Spleen')\n",
      "2023-09-01 08:42:38,111 - INFO - ---\n",
      "\n",
      "\n",
      "2023-09-01 08:42:38,112 - INFO - Setting logging properties based on config: /workspace/Data/spleen_ct_segmentation/configs/logging.conf.\n"
     ]
    }
   ],
   "source": [
    "# 1 override them when you create the workflow\n",
    "dataset_dir = Path(root_dir) / \"Task09_Spleen\"\n",
    "override = {\"max_epochs\": 3, \"dataset_dir\": dataset_dir}\n",
    "train_workflow = create_workflow(config_file=config_file, workflow_type=\"train\", **override)"
   ]
  },
  {
   "cell_type": "code",
   "execution_count": null,
   "metadata": {},
   "outputs": [],
   "source": []
  }
 ],
 "metadata": {
  "kernelspec": {
   "display_name": "Python 3",
   "language": "python",
   "name": "python3"
  },
  "language_info": {
   "codemirror_mode": {
    "name": "ipython",
    "version": 3
   },
   "file_extension": ".py",
   "mimetype": "text/x-python",
   "name": "python",
   "nbconvert_exporter": "python",
   "pygments_lexer": "ipython3",
   "version": "3.8.10"
  },
  "orig_nbformat": 4
 },
 "nbformat": 4,
 "nbformat_minor": 2
}
