{
 "cells": [
  {
   "cell_type": "markdown",
   "metadata": {},
   "source": [
    "# MONAI Auto3Dseg Hyper-parameter Optimization with Optuna\n",
    "\n",
    "This notebook provides an example to perform hype-parameter optimization(HPO) on learning rate with grid search method for spleen segmentation using Optuna.\n",
    "\n",
    "Note: if you have used other notebooks under `auto3dseg`, for examples: \n",
    "- `auto_runner.ipynb`\n",
    "- `auto3dseg_autorunner_ref_api.ipynb`\n",
    "- `auto3dseg_hello_world.ipynb`\n",
    "- `hpo_nni.ipynb`\n",
    "\n",
    "You may have already generated the algorithm templates in MONAI bundle formats (hint: find them in the working directory). \n",
    "\n",
    "Please feel free to skip step 1-5 if the bundles are already generated."
   ]
  },
  {
   "cell_type": "markdown",
   "metadata": {},
   "source": [
    "## 1. Import libraries for HPO and pipelines"
   ]
  },
  {
   "cell_type": "code",
   "execution_count": 1,
   "metadata": {},
   "outputs": [
    {
     "name": "stderr",
     "output_type": "stream",
     "text": [
      "/opt/conda/lib/python3.8/site-packages/tqdm/auto.py:22: TqdmWarning: IProgress not found. Please update jupyter and ipywidgets. See https://ipywidgets.readthedocs.io/en/stable/user_install.html\n",
      "  from .autonotebook import tqdm as notebook_tqdm\n"
     ]
    }
   ],
   "source": [
    "import os\n",
    "import optuna\n",
    "import torch\n",
    "import yaml\n",
    "\n",
    "from functools import partial\n",
    "\n",
    "from monai.apps import download_and_extract\n",
    "from monai.apps.auto3dseg import BundleGen, DataAnalyzer, OptunaGen\n",
    "from monai.apps.auto3dseg.utils import export_bundle_algo_history, import_bundle_algo_history\n",
    "from monai.bundle.config_parser import ConfigParser"
   ]
  },
  {
   "cell_type": "markdown",
   "metadata": {},
   "source": [
    "## 2. Define experiment file pathes"
   ]
  },
  {
   "cell_type": "code",
   "execution_count": 2,
   "metadata": {},
   "outputs": [],
   "source": [
    "# Dataset pathes\n",
    "data_root = \"./\"\n",
    "msd_task = \"Task09_Spleen\"\n",
    "dataroot = os.path.join(data_root, msd_task)\n",
    "\n",
    "# User created files\n",
    "datalist_file = os.path.join(\"..\", \"tasks\", \"msd\", msd_task, \"msd_\" + msd_task.lower() + \"_folds.json\")\n",
    "input_yaml = './input.yaml'\n",
    "\n",
    "# Experiment setup\n",
    "test_path = \"./\"\n",
    "work_dir = os.path.join(test_path, \"hpo_optuna_work_dir\")\n",
    "optuna_dir = './optuna_learningrate_grid'\n",
    "da_output_yaml = os.path.join(work_dir, \"datastats.yaml\")\n",
    "if not os.path.isdir(work_dir):\n",
    "    os.makedirs(work_dir)\n",
    "\n",
    "# Algorithm selected to do HPO. Refer to bundle history for the mapping between\n",
    "# algorithm name and index\n",
    "selected_algorithm_index = 0"
   ]
  },
  {
   "cell_type": "markdown",
   "metadata": {},
   "source": [
    "## 3. Download one of MSD datasets"
   ]
  },
  {
   "cell_type": "code",
   "execution_count": 3,
   "metadata": {},
   "outputs": [],
   "source": [
    "resource = \"https://msd-for-monai.s3-us-west-2.amazonaws.com/\" + msd_task + \".tar\"\n",
    "compressed_file = os.path.join(data_root, msd_task + \".tar\")\n",
    "if not os.path.exists(dataroot):\n",
    "    os.makedirs(dataroot)\n",
    "    download_and_extract(resource, compressed_file, data_root)"
   ]
  },
  {
   "cell_type": "markdown",
   "metadata": {},
   "source": [
    "## 4. Generate input yaml and datafolds yaml. (User should generate their own)"
   ]
  },
  {
   "cell_type": "code",
   "execution_count": 4,
   "metadata": {},
   "outputs": [],
   "source": [
    "input_dict = {\n",
    "    \"name\": msd_task,\n",
    "    \"task\": \"segmentation\",\n",
    "    \"modality\": \"MRI\",\n",
    "    \"datalist\": datalist_file,\n",
    "    \"dataroot\": dataroot,\n",
    "    \"multigpu\": True,\n",
    "    \"class_names\": [\"val_acc_pz\", \"val_acc_tz\"]\n",
    "}\n",
    "\n",
    "with open(input_yaml, 'w') as f:\n",
    "    yaml.dump(input_dict, f)\n"
   ]
  },
  {
   "cell_type": "markdown",
   "metadata": {},
   "source": [
    "## 5. Create Bundle Generators\n"
   ]
  },
  {
   "cell_type": "code",
   "execution_count": 5,
   "metadata": {},
   "outputs": [
    {
     "name": "stderr",
     "output_type": "stream",
     "text": [
      "100%|██████████| 40/40 [01:33<00:00,  2.34s/it]"
     ]
    },
    {
     "name": "stdout",
     "output_type": "stream",
     "text": [
      "2022-09-28 17:08:51,151 - WARNING - Data is not completely uniform. MONAI transforms may provide unexpected result\n"
     ]
    },
    {
     "name": "stderr",
     "output_type": "stream",
     "text": [
      "\n",
      "algo_templates.tar.gz: 100%|██████████| 280k/280k [00:00<00:00, 341kB/s]  "
     ]
    },
    {
     "name": "stdout",
     "output_type": "stream",
     "text": [
      "2022-09-28 17:08:52,165 - INFO - Downloaded: /tmp/tmpwptjcv79/algo_templates.tar.gz\n",
      "2022-09-28 17:08:52,165 - INFO - Expected md5 is None, skip md5 check for file /tmp/tmpwptjcv79/algo_templates.tar.gz.\n",
      "2022-09-28 17:08:52,166 - INFO - Writing into directory: ./hpo_optuna_work_dir.\n"
     ]
    },
    {
     "name": "stderr",
     "output_type": "stream",
     "text": [
      "\n"
     ]
    },
    {
     "name": "stdout",
     "output_type": "stream",
     "text": [
      "2022-09-28 17:08:59,605 - INFO - ./hpo_optuna_work_dir/segresnet2d_0\n",
      "2022-09-28 17:09:01,295 - INFO - ./hpo_optuna_work_dir/segresnet2d_1\n",
      "2022-09-28 17:09:03,774 - INFO - ./hpo_optuna_work_dir/segresnet2d_2\n",
      "2022-09-28 17:09:04,496 - INFO - ./hpo_optuna_work_dir/segresnet2d_3\n",
      "2022-09-28 17:09:05,354 - INFO - ./hpo_optuna_work_dir/segresnet2d_4\n",
      "2022-09-28 17:09:06,206 - INFO - ./hpo_optuna_work_dir/dints_0\n",
      "2022-09-28 17:09:07,010 - INFO - ./hpo_optuna_work_dir/dints_1\n",
      "2022-09-28 17:09:09,408 - INFO - ./hpo_optuna_work_dir/dints_2\n",
      "2022-09-28 17:09:12,231 - INFO - ./hpo_optuna_work_dir/dints_3\n",
      "2022-09-28 17:09:14,473 - INFO - ./hpo_optuna_work_dir/dints_4\n",
      "2022-09-28 17:09:15,362 - INFO - ./hpo_optuna_work_dir/swinunetr_0\n",
      "2022-09-28 17:09:16,713 - INFO - ./hpo_optuna_work_dir/swinunetr_1\n",
      "2022-09-28 17:09:20,002 - INFO - ./hpo_optuna_work_dir/swinunetr_2\n",
      "2022-09-28 17:09:21,317 - INFO - ./hpo_optuna_work_dir/swinunetr_3\n",
      "2022-09-28 17:09:23,820 - INFO - ./hpo_optuna_work_dir/swinunetr_4\n",
      "2022-09-28 17:09:25,380 - INFO - ./hpo_optuna_work_dir/segresnet_0\n",
      "2022-09-28 17:09:27,202 - INFO - ./hpo_optuna_work_dir/segresnet_1\n",
      "2022-09-28 17:09:29,275 - INFO - ./hpo_optuna_work_dir/segresnet_2\n",
      "2022-09-28 17:09:30,899 - INFO - ./hpo_optuna_work_dir/segresnet_3\n",
      "2022-09-28 17:09:32,433 - INFO - ./hpo_optuna_work_dir/segresnet_4\n"
     ]
    }
   ],
   "source": [
    "\n",
    "cfg = ConfigParser.load_config_file(input_yaml)\n",
    "\n",
    "# data analysis\n",
    "if not os.path.exists(da_output_yaml):\n",
    "    da = DataAnalyzer(datalist_file, dataroot, output_path=da_output_yaml)\n",
    "    da.get_all_case_stats()\n",
    "\n",
    "# algorithm generation\n",
    "bundle_generator = BundleGen(\n",
    "    algo_path=work_dir,\n",
    "    data_stats_filename=da_output_yaml,\n",
    "    data_src_cfg_name=input_yaml,\n",
    ")\n",
    "\n",
    "bundle_generator.generate(work_dir, num_fold=5)\n",
    "history = bundle_generator.get_history()\n",
    "export_bundle_algo_history(history)"
   ]
  },
  {
   "cell_type": "markdown",
   "metadata": {},
   "source": [
    "## 6. Create Algo object from bundle_generator history"
   ]
  },
  {
   "cell_type": "code",
   "execution_count": 6,
   "metadata": {},
   "outputs": [],
   "source": [
    "# you can get history from bundle_generator. It can also be acquired by reading bundles saved on disk\n",
    "\n",
    "history = bundle_generator.get_history()\n",
    "if len(history) == 0:\n",
    "    history = import_bundle_algo_history(work_dir, only_trained=False)\n",
    "\n",
    "algo_dict = history[selected_algorithm_index]\n",
    "algo_name = list(algo_dict.keys())[selected_algorithm_index]\n",
    "algo = algo_dict[algo_name]\n"
   ]
  },
  {
   "cell_type": "code",
   "execution_count": 7,
   "metadata": {},
   "outputs": [],
   "source": [
    "# \"override_params\" is used to update algorithm hyperparameters \n",
    "# like num_epochs, which are not in the HPO search space. We set num_epochs=2\n",
    "# to shorten the training time as an example\n",
    "\n",
    "max_epochs = 2\n",
    "\n",
    "# safeguard to ensure max_epochs is greater or equal to 2\n",
    "max_epochs = max(max_epochs, 2)\n",
    "\n",
    "num_gpus = 1 if \"multigpu\" in input_dict and not input_dict[\"multigpu\"] else torch.cuda.device_count()\n",
    "\n",
    "num_epoch = max_epochs\n",
    "num_images_per_batch = 2\n",
    "n_data = 24  # total is 30 images, hold out one set (6 images) for cross fold val.\n",
    "n_iter = int(num_epoch * n_data / num_images_per_batch / num_gpus)\n",
    "n_iter_val = int(n_iter / 2)\n",
    "\n",
    "override_param = {\n",
    "    \"num_iterations\": n_iter,\n",
    "    \"num_iterations_per_validation\": n_iter_val,\n",
    "    \"num_images_per_batch\": num_images_per_batch,\n",
    "    \"num_epochs\": num_epoch,\n",
    "    \"num_warmup_iterations\": n_iter_val,\n",
    "}"
   ]
  },
  {
   "cell_type": "markdown",
   "metadata": {},
   "source": [
    "## 7. Create Optuna Generator class and overwrite get_hyperparameters() function"
   ]
  },
  {
   "cell_type": "code",
   "execution_count": 8,
   "metadata": {},
   "outputs": [
    {
     "name": "stdout",
     "output_type": "stream",
     "text": [
      "2022-09-28 17:09:37,228 - INFO - ./hpo_optuna_work_dir/segresnet2d_0_override\n"
     ]
    }
   ],
   "source": [
    "class OptunaGenLearningRate(OptunaGen):\n",
    "    def get_hyperparameters(self):\n",
    "        return {'learning_rate': self.trial.suggest_float(\"learning_rate\", 0.00001, 0.1)}\n",
    "\n",
    "\n",
    "optuna_gen = OptunaGenLearningRate(algo=algo, params=override_param)"
   ]
  },
  {
   "cell_type": "markdown",
   "metadata": {},
   "source": [
    "## 8. Run Optuna optimization (with grid search)"
   ]
  },
  {
   "cell_type": "code",
   "execution_count": 9,
   "metadata": {},
   "outputs": [
    {
     "name": "stderr",
     "output_type": "stream",
     "text": [
      "\u001b[32m[I 2022-09-28 17:09:37,486]\u001b[0m A new study created in memory with name: no-name-a34b729c-9f06-4439-b528-5199836c43d3\u001b[0m\n"
     ]
    },
    {
     "name": "stdout",
     "output_type": "stream",
     "text": [
      "2022-09-28 17:09:39,227 - INFO - ./optuna_learningrate_grid/segresnet2d_0_override_learning_rate_0.001\n",
      "2022-09-28 17:09:39,241 - INFO - Launching: python ./optuna_learningrate_grid/segresnet2d_0_override_learning_rate_0.001/scripts/train.py run --config_file='./optuna_learningrate_grid/segresnet2d_0_override_learning_rate_0.001/configs/network.yaml','./optuna_learningrate_grid/segresnet2d_0_override_learning_rate_0.001/configs/transforms_validate.yaml','./optuna_learningrate_grid/segresnet2d_0_override_learning_rate_0.001/configs/transforms_infer.yaml','./optuna_learningrate_grid/segresnet2d_0_override_learning_rate_0.001/configs/hyper_parameters.yaml','./optuna_learningrate_grid/segresnet2d_0_override_learning_rate_0.001/configs/transforms_train.yaml' --learning_rate=0.001\n",
      "2022-09-28 17:12:50,088 - INFO - CompletedProcess(args=['python', './optuna_learningrate_grid/segresnet2d_0_override_learning_rate_0.001/scripts/train.py', 'run', \"--config_file='./optuna_learningrate_grid/segresnet2d_0_override_learning_rate_0.001/configs/network.yaml','./optuna_learningrate_grid/segresnet2d_0_override_learning_rate_0.001/configs/transforms_validate.yaml','./optuna_learningrate_grid/segresnet2d_0_override_learning_rate_0.001/configs/transforms_infer.yaml','./optuna_learningrate_grid/segresnet2d_0_override_learning_rate_0.001/configs/hyper_parameters.yaml','./optuna_learningrate_grid/segresnet2d_0_override_learning_rate_0.001/configs/transforms_train.yaml'\", '--learning_rate=0.001'], returncode=0, stdout=b\"[info] number of GPUs: 1\n",
      "[info] world_size: 1\n",
      "train_files: 32\n",
      "val_files: 8\n",
      "num_epochs 2\n",
      "num_epochs_per_validation 1\n",
      "[info] training from scratch\n",
      "[info] amp enabled\n",
      "----------\n",
      "epoch 1/2\n",
      "learning rate is set to 0.001\n",
      "[2022-09-28 17:10:21] 1/16, train_loss: 0.8308\n",
      "[2022-09-28 17:10:21] 2/16, train_loss: 0.8357\n",
      "[2022-09-28 17:10:21] 3/16, train_loss: 0.7409\n",
      "[2022-09-28 17:10:21] 4/16, train_loss: 0.8472\n",
      "[2022-09-28 17:10:21] 5/16, train_loss: 0.7716\n",
      "[2022-09-28 17:10:21] 6/16, train_loss: 0.8473\n",
      "[2022-09-28 17:10:21] 7/16, train_loss: 0.8624\n",
      "[2022-09-28 17:10:21] 8/16, train_loss: 0.7660\n",
      "[2022-09-28 17:10:27] 9/16, train_loss: 0.7231\n",
      "[2022-09-28 17:10:27] 10/16, train_loss: 0.8150\n",
      "[2022-09-28 17:10:27] 11/16, train_loss: 0.8157\n",
      "[2022-09-28 17:10:27] 12/16, train_loss: 0.7737\n",
      "[2022-09-28 17:10:27] 13/16, train_loss: 0.7800\n",
      "[2022-09-28 17:10:27] 14/16, train_loss: 0.7598\n",
      "[2022-09-28 17:10:31] 15/16, train_loss: 0.7847\n",
      "[2022-09-28 17:10:31] 16/16, train_loss: 0.7580\n",
      "epoch 1 average loss: 0.7945, best mean dice: -1.0000 at epoch -1\n",
      "1 / 8 tensor([[0.0232]], device='cuda:0')\n",
      "2 / 8 tensor([[0.0230]], device='cuda:0')\n",
      "3 / 8 tensor([[0.0052]], device='cuda:0')\n",
      "4 / 8 tensor([[0.0066]], device='cuda:0')\n",
      "5 / 8 tensor([[0.0135]], device='cuda:0')\n",
      "6 / 8 tensor([[0.0088]], device='cuda:0')\n",
      "7 / 8 tensor([[0.0101]], device='cuda:0')\n",
      "8 / 8 tensor([[0.0118]], device='cuda:0')\n",
      "evaluation metric - class 1: 0.012783133424818516\n",
      "avg_metric 0.012783133424818516\n",
      "saved new best metric model\n",
      "current epoch: 1 current mean dice: 0.0128 best mean dice: 0.0128 at epoch 1\n",
      "----------\n",
      "epoch 2/2\n",
      "learning rate is set to 6.25e-05\n",
      "[2022-09-28 17:11:34] 1/16, train_loss: 0.7544\n",
      "[2022-09-28 17:11:36] 2/16, train_loss: 0.8144\n",
      "[2022-09-28 17:11:36] 3/16, train_loss: 0.8003\n",
      "[2022-09-28 17:11:36] 4/16, train_loss: 0.7940\n",
      "[2022-09-28 17:11:36] 5/16, train_loss: 0.7637\n",
      "[2022-09-28 17:11:36] 6/16, train_loss: 0.8216\n",
      "[2022-09-28 17:11:47] 7/16, train_loss: 0.7264\n",
      "[2022-09-28 17:11:47] 8/16, train_loss: 0.8045\n",
      "[2022-09-28 17:11:47] 9/16, train_loss: 0.7602\n",
      "[2022-09-28 17:11:47] 10/16, train_loss: 0.8182\n",
      "[2022-09-28 17:11:47] 11/16, train_loss: 0.8250\n",
      "[2022-09-28 17:11:48] 12/16, train_loss: 0.7793\n",
      "[2022-09-28 17:11:48] 13/16, train_loss: 0.7558\n",
      "[2022-09-28 17:11:48] 14/16, train_loss: 0.7282\n",
      "[2022-09-28 17:11:58] 15/16, train_loss: 0.7240\n",
      "[2022-09-28 17:11:58] 16/16, train_loss: 0.8222\n",
      "epoch 2 average loss: 0.7808, best mean dice: 0.0128 at epoch 1\n",
      "1 / 8 tensor([[0.0241]], device='cuda:0')\n",
      "2 / 8 tensor([[0.0193]], device='cuda:0')\n",
      "3 / 8 tensor([[0.0025]], device='cuda:0')\n",
      "4 / 8 tensor([[0.0060]], device='cuda:0')\n",
      "5 / 8 tensor([[0.0138]], device='cuda:0')\n",
      "6 / 8 tensor([[0.0090]], device='cuda:0')\n",
      "7 / 8 tensor([[0.0102]], device='cuda:0')\n",
      "8 / 8 tensor([[0.0121]], device='cuda:0')\n",
      "evaluation metric - class 1: 0.01212325133383274\n",
      "avg_metric 0.01212325133383274\n",
      "current epoch: 2 current mean dice: 0.0121 best mean dice: 0.0128 at epoch 1\n",
      "train completed, best_metric: 0.0128 at epoch: 1\n",
      "0.012783133424818516\n",
      "\", stderr=b'')\n"
     ]
    },
    {
     "name": "stderr",
     "output_type": "stream",
     "text": [
      "\u001b[32m[I 2022-09-28 17:12:50,109]\u001b[0m Trial 0 finished with value: 0.012783133424818516 and parameters: {'learning_rate': 0.001}. Best is trial 0 with value: 0.012783133424818516.\u001b[0m\n"
     ]
    },
    {
     "name": "stdout",
     "output_type": "stream",
     "text": [
      "2022-09-28 17:12:50,835 - INFO - ./optuna_learningrate_grid/segresnet2d_0_override_learning_rate_0.1\n",
      "2022-09-28 17:12:50,854 - INFO - Launching: python ./optuna_learningrate_grid/segresnet2d_0_override_learning_rate_0.1/scripts/train.py run --config_file='./optuna_learningrate_grid/segresnet2d_0_override_learning_rate_0.1/configs/network.yaml','./optuna_learningrate_grid/segresnet2d_0_override_learning_rate_0.1/configs/transforms_validate.yaml','./optuna_learningrate_grid/segresnet2d_0_override_learning_rate_0.1/configs/transforms_infer.yaml','./optuna_learningrate_grid/segresnet2d_0_override_learning_rate_0.1/configs/hyper_parameters.yaml','./optuna_learningrate_grid/segresnet2d_0_override_learning_rate_0.1/configs/transforms_train.yaml' --learning_rate=0.1\n",
      "2022-09-28 17:15:58,897 - INFO - CompletedProcess(args=['python', './optuna_learningrate_grid/segresnet2d_0_override_learning_rate_0.1/scripts/train.py', 'run', \"--config_file='./optuna_learningrate_grid/segresnet2d_0_override_learning_rate_0.1/configs/network.yaml','./optuna_learningrate_grid/segresnet2d_0_override_learning_rate_0.1/configs/transforms_validate.yaml','./optuna_learningrate_grid/segresnet2d_0_override_learning_rate_0.1/configs/transforms_infer.yaml','./optuna_learningrate_grid/segresnet2d_0_override_learning_rate_0.1/configs/hyper_parameters.yaml','./optuna_learningrate_grid/segresnet2d_0_override_learning_rate_0.1/configs/transforms_train.yaml'\", '--learning_rate=0.1'], returncode=0, stdout=b\"[info] number of GPUs: 1\n",
      "[info] world_size: 1\n",
      "train_files: 32\n",
      "val_files: 8\n",
      "num_epochs 2\n",
      "num_epochs_per_validation 1\n",
      "[info] training from scratch\n",
      "[info] amp enabled\n",
      "----------\n",
      "epoch 1/2\n",
      "learning rate is set to 0.1\n",
      "[2022-09-28 17:13:16] 1/16, train_loss: 0.8703\n",
      "[2022-09-28 17:13:18] 2/16, train_loss: 0.5976\n",
      "[2022-09-28 17:13:18] 3/16, train_loss: 0.5378\n",
      "[2022-09-28 17:13:19] 4/16, train_loss: 0.5376\n",
      "[2022-09-28 17:13:24] 5/16, train_loss: 0.4907\n",
      "[2022-09-28 17:13:24] 6/16, train_loss: 0.4620\n",
      "[2022-09-28 17:13:24] 7/16, train_loss: 0.4707\n",
      "[2022-09-28 17:13:24] 8/16, train_loss: 0.4943\n",
      "[2022-09-28 17:13:24] 9/16, train_loss: 0.5291\n",
      "[2022-09-28 17:13:24] 10/16, train_loss: 0.4435\n",
      "[2022-09-28 17:13:24] 11/16, train_loss: 0.5396\n",
      "[2022-09-28 17:13:35] 12/16, train_loss: 0.4222\n",
      "[2022-09-28 17:13:45] 13/16, train_loss: 0.4728\n",
      "[2022-09-28 17:13:45] 14/16, train_loss: 0.4565\n",
      "[2022-09-28 17:13:45] 15/16, train_loss: 0.4522\n",
      "[2022-09-28 17:13:45] 16/16, train_loss: 0.4394\n",
      "epoch 1 average loss: 0.5135, best mean dice: -1.0000 at epoch -1\n",
      "1 / 8 tensor([[0.]], device='cuda:0')\n",
      "2 / 8 tensor([[0.]], device='cuda:0')\n",
      "3 / 8 tensor([[0.]], device='cuda:0')\n",
      "4 / 8 tensor([[0.]], device='cuda:0')\n",
      "5 / 8 tensor([[0.]], device='cuda:0')\n",
      "6 / 8 tensor([[0.]], device='cuda:0')\n",
      "7 / 8 tensor([[0.]], device='cuda:0')\n",
      "8 / 8 tensor([[0.]], device='cuda:0')\n",
      "evaluation metric - class 1: 0.0\n",
      "avg_metric 0.0\n",
      "saved new best metric model\n",
      "current epoch: 1 current mean dice: 0.0000 best mean dice: 0.0000 at epoch 1\n",
      "----------\n",
      "epoch 2/2\n",
      "learning rate is set to 0.00625\n",
      "[2022-09-28 17:14:45] 1/16, train_loss: 0.4742\n",
      "[2022-09-28 17:14:46] 2/16, train_loss: 0.4236\n",
      "[2022-09-28 17:14:54] 3/16, train_loss: 0.4167\n",
      "[2022-09-28 17:14:54] 4/16, train_loss: 0.4362\n",
      "[2022-09-28 17:14:54] 5/16, train_loss: 0.4146\n",
      "[2022-09-28 17:14:54] 6/16, train_loss: 0.4438\n",
      "[2022-09-28 17:14:54] 7/16, train_loss: 0.4268\n",
      "[2022-09-28 17:14:54] 8/16, train_loss: 0.4431\n",
      "[2022-09-28 17:14:54] 9/16, train_loss: 0.4792\n",
      "[2022-09-28 17:15:05] 10/16, train_loss: 0.4439\n",
      "[2022-09-28 17:15:07] 11/16, train_loss: 0.4807\n",
      "[2022-09-28 17:15:07] 12/16, train_loss: 0.5427\n",
      "[2022-09-28 17:15:07] 13/16, train_loss: 0.4717\n",
      "[2022-09-28 17:15:07] 14/16, train_loss: 0.4180\n",
      "[2022-09-28 17:15:07] 15/16, train_loss: 0.4512\n",
      "[2022-09-28 17:15:07] 16/16, train_loss: 0.4235\n",
      "epoch 2 average loss: 0.4494, best mean dice: 0.0000 at epoch 1\n",
      "1 / 8 tensor([[0.]], device='cuda:0')\n",
      "2 / 8 tensor([[0.]], device='cuda:0')\n",
      "3 / 8 tensor([[0.]], device='cuda:0')\n",
      "4 / 8 tensor([[0.]], device='cuda:0')\n",
      "5 / 8 tensor([[0.]], device='cuda:0')\n",
      "6 / 8 tensor([[0.]], device='cuda:0')\n",
      "7 / 8 tensor([[0.]], device='cuda:0')\n",
      "8 / 8 tensor([[0.]], device='cuda:0')\n",
      "evaluation metric - class 1: 0.0\n",
      "avg_metric 0.0\n",
      "current epoch: 2 current mean dice: 0.0000 best mean dice: 0.0000 at epoch 1\n",
      "train completed, best_metric: 0.0000 at epoch: 1\n",
      "0.0\n",
      "\", stderr=b'')\n"
     ]
    },
    {
     "name": "stderr",
     "output_type": "stream",
     "text": [
      "\u001b[32m[I 2022-09-28 17:15:59,029]\u001b[0m Trial 1 finished with value: 0.0 and parameters: {'learning_rate': 0.1}. Best is trial 0 with value: 0.012783133424818516.\u001b[0m\n"
     ]
    },
    {
     "name": "stdout",
     "output_type": "stream",
     "text": [
      "Best value: 0.012783133424818516 (params: {'learning_rate': 0.001})\n",
      "\n"
     ]
    }
   ],
   "source": [
    "search_space = {'learning_rate': [0.0001, 0.001, 0.01, 0.1]}\n",
    "study = optuna.create_study(sampler=optuna.samplers.GridSampler(search_space), direction='maximize')\n",
    "study.optimize(partial(optuna_gen, obj_filename=optuna_gen.get_obj_filename(), output_folder=optuna_dir), n_trials=2)\n",
    "print(\"Best value: {} (params: {})\\n\".format(study.best_value, study.best_params))"
   ]
  }
 ],
 "metadata": {
  "kernelspec": {
   "display_name": "Python 3.8.13 ('base')",
   "language": "python",
   "name": "python3"
  },
  "language_info": {
   "codemirror_mode": {
    "name": "ipython",
    "version": 3
   },
   "file_extension": ".py",
   "mimetype": "text/x-python",
   "name": "python",
   "nbconvert_exporter": "python",
   "pygments_lexer": "ipython3",
   "version": "3.8.13"
  },
  "vscode": {
   "interpreter": {
    "hash": "d4d1e4263499bec80672ea0156c357c1ee493ec2b1c70f0acce89fc37c4a6abe"
   }
  }
 },
 "nbformat": 4,
 "nbformat_minor": 2
}
