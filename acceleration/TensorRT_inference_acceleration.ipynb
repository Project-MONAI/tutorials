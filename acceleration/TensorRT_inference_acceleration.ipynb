{
 "cells": [
  {
   "cell_type": "markdown",
   "metadata": {},
   "source": [
    "Copyright (c) MONAI Consortium  \n",
    "Licensed under the Apache License, Version 2.0 (the \"License\");  \n",
    "you may not use this file except in compliance with the License.  \n",
    "You may obtain a copy of the License at  \n",
    "&nbsp;&nbsp;&nbsp;&nbsp;http://www.apache.org/licenses/LICENSE-2.0  \n",
    "Unless required by applicable law or agreed to in writing, software  \n",
    "distributed under the License is distributed on an \"AS IS\" BASIS,  \n",
    "WITHOUT WARRANTIES OR CONDITIONS OF ANY KIND, either express or implied.  \n",
    "See the License for the specific language governing permissions and  \n",
    "limitations under the License.\n",
    "\n",
    "# Benchmark TensorRT models inference"
   ]
  },
  {
   "cell_type": "markdown",
   "metadata": {},
   "source": [
    "This tutorial shows how to convert a bundle into a TensorRT engine-based TorchScript for better performance and benchmark the latency difference between the original bundle and the TensorRT engine-based TorchScript.\n",
    "\n",
    "The `endoscopic_tool_segmentation` bundle is used as the example in this tutorial. The inference latency before and after the coversion process will be compared. "
   ]
  },
  {
   "cell_type": "markdown",
   "metadata": {},
   "source": [
    "## Setup environment\n",
    "\n",
    "The TensorRT conversion is supported since **MONAI 1.2** with **Torch-TensorRT 1.4.0** and **TensorRT 8.5.3**. If a docker container is used, please ensure the MONAI version is >=1.2 or the environment meets the min version requirement."
   ]
  },
  {
   "cell_type": "code",
   "execution_count": 1,
   "metadata": {},
   "outputs": [],
   "source": [
    "!python -c \"import monai\" || pip install -q \"monai-weekly[nibabel, tqdm]\"\n",
    "!python -c \"import matplotlib\" || pip install -q matplotlib\n",
    "!python -c \"import pandas\" || pip install -q pandas\n",
    "!python -c \"import torch_tensorrt\" || pip install torch_tensorrt\n",
    "%matplotlib inline"
   ]
  },
  {
   "cell_type": "markdown",
   "metadata": {},
   "source": [
    "## Setup imports"
   ]
  },
  {
   "cell_type": "code",
   "execution_count": null,
   "metadata": {},
   "outputs": [],
   "source": [
    "import os\n",
    "import tempfile\n",
    "\n",
    "import torch\n",
    "import torch_tensorrt\n",
    "import numpy as np\n",
    "from ignite.engine import Engine\n",
    "import pandas as pd\n",
    "\n",
    "import matplotlib.pyplot as plt\n",
    "import monai\n",
    "from monai.apps import download_and_extract\n",
    "from monai.config import print_config\n",
    "from ignite.engine import Events\n",
    "from collections import OrderedDict\n",
    "from monai.engines import IterationEvents\n",
    "\n",
    "print(f\"Torch-TensorRT version: {torch_tensorrt.__version__}.\")\n",
    "\n",
    "print_config()"
   ]
  },
  {
   "cell_type": "markdown",
   "metadata": {},
   "source": [
    "## Setup data directory\n",
    "\n",
    "You can specify a directory with the `MONAI_DATA_DIRECTORY` environment variable.  \n",
    "This allows you to save results and reuse downloads.  \n",
    "If not specified a temporary directory will be used."
   ]
  },
  {
   "cell_type": "code",
   "execution_count": 3,
   "metadata": {
    "scrolled": true
   },
   "outputs": [
    {
     "name": "stdout",
     "output_type": "stream",
     "text": [
      "root dir is: /workspace/data\n"
     ]
    }
   ],
   "source": [
    "directory = os.environ.get(\"MONAI_DATA_DIRECTORY\")\n",
    "root_dir = tempfile.mkdtemp() if directory is None else directory\n",
    "print(f\"root dir is: {root_dir}\")"
   ]
  },
  {
   "cell_type": "markdown",
   "metadata": {},
   "source": [
    "## Download dataset\n",
    "\n",
    "Downloads and extracts the endoscopic_tool_segmentation dataset. The dataset is a subset of the [EndoVis 2017 Robot Instrument Challenge](https://endovissub2017-roboticinstrumentsegmentation.grand-challenge.org/Data/) data. It is used here just for verifying the latency of model inference. Please make sure to read the requirements and usage policies of the challenge data and give credit to the authors of the dataset!"
   ]
  },
  {
   "cell_type": "code",
   "execution_count": 4,
   "metadata": {},
   "outputs": [
    {
     "name": "stderr",
     "output_type": "stream",
     "text": [
      "endoscopic_tool_dataset.zip: 12.9MB [00:00, 21.9MB/s]                                           "
     ]
    },
    {
     "name": "stdout",
     "output_type": "stream",
     "text": [
      "2023-04-26 07:22:05,224 - INFO - Downloaded: /workspace/data/endoscopic_tool_dataset.zip\n"
     ]
    },
    {
     "name": "stderr",
     "output_type": "stream",
     "text": [
      "\n"
     ]
    },
    {
     "name": "stdout",
     "output_type": "stream",
     "text": [
      "2023-04-26 07:22:05,252 - INFO - Verified 'endoscopic_tool_dataset.zip', md5: f82da47259c0a617202fb54624798a55.\n",
      "2023-04-26 07:22:05,253 - INFO - Writing into directory: /workspace/data.\n"
     ]
    }
   ],
   "source": [
    "resource = \"https://github.com/Project-MONAI/MONAI-extra-test-data/releases/download/0.8.1/endoscopic_tool_dataset.zip\"\n",
    "md5 = \"f82da47259c0a617202fb54624798a55\"\n",
    "\n",
    "compressed_file = os.path.join(root_dir, \"endoscopic_tool_dataset.zip\")\n",
    "data_root = os.path.join(root_dir, \"endoscopic_tool_dataset\")\n",
    "if not os.path.exists(data_root):\n",
    "    download_and_extract(resource, compressed_file, root_dir, md5)"
   ]
  },
  {
   "cell_type": "markdown",
   "metadata": {},
   "source": [
    "## Download the endoscopic_tool_segmentation bundle"
   ]
  },
  {
   "cell_type": "code",
   "execution_count": 5,
   "metadata": {},
   "outputs": [
    {
     "name": "stdout",
     "output_type": "stream",
     "text": [
      "2023-04-26 07:22:05,327 - INFO - --- input summary of monai.bundle.scripts.download ---\n",
      "2023-04-26 07:22:05,329 - INFO - > name: 'endoscopic_tool_segmentation'\n",
      "2023-04-26 07:22:05,329 - INFO - > bundle_dir: './'\n",
      "2023-04-26 07:22:05,330 - INFO - > source: 'github'\n",
      "2023-04-26 07:22:05,331 - INFO - > remove_prefix: 'monai_'\n",
      "2023-04-26 07:22:05,331 - INFO - > progress: True\n",
      "2023-04-26 07:22:05,332 - INFO - ---\n",
      "\n",
      "\n"
     ]
    },
    {
     "name": "stderr",
     "output_type": "stream",
     "text": [
      "endoscopic_tool_segmentation_v0.4.9.zip: 81.7MB [00:01, 66.8MB/s]                               "
     ]
    },
    {
     "name": "stdout",
     "output_type": "stream",
     "text": [
      "2023-04-26 07:22:07,065 - INFO - Downloaded: endoscopic_tool_segmentation_v0.4.9.zip\n",
      "2023-04-26 07:22:07,065 - INFO - Expected md5 is None, skip md5 check for file endoscopic_tool_segmentation_v0.4.9.zip.\n",
      "2023-04-26 07:22:07,066 - INFO - Writing into directory: ..\n"
     ]
    },
    {
     "name": "stderr",
     "output_type": "stream",
     "text": [
      "\n"
     ]
    }
   ],
   "source": [
    "bundle_dir = \"./\"\n",
    "bundle_name = \"endoscopic_tool_segmentation\"\n",
    "bundle_path = os.path.join(bundle_dir, bundle_name)\n",
    "if not os.path.exists(bundle_path):\n",
    "    monai.bundle.download(name=bundle_name, bundle_dir=\"./\")"
   ]
  },
  {
   "cell_type": "markdown",
   "metadata": {},
   "source": [
    "## Export the TensorRT model with API\n",
    "\n",
    "Export the downloaded bundle model to TensorRT engine-based TorchScript models. It takes a while for the conversion and will generate the `model_trt_fp32.ts` and `model_trt_fp16.ts` into the `models` folder.\n",
    "\n",
    "The command is quite similar to the `ckpt_export` command, except the `precision` and `dynamic_batchsize` parameters. \n",
    "\n",
    "The `precision` parameter specifies the precision of the exported model weight, which currently supports `fp32` and `fp16` as input.\n",
    "\n",
    "The `dynamic_batchsize` parameter is a sequence with three elements to define the batch size range of the input of the model to be converted. Should be a sequence like `[MIN_BATCH, OPT_BATCH, MAX_BATCH]`. After conversion, the batch size of model input should be between `MIN_BATCH` and `MAX_BATCH`. The `OPT_BATCH` is the best performance batch size that the TensorRT tries to fit. It should be the most frequently used input batch size in the application. In this part, we simply assign it to `\"[1, 1, 1]\"`, because the `endoscopic_tool_segmentation` bundle takes a fixed input batch size, when doing the inference."
   ]
  },
  {
   "cell_type": "code",
   "execution_count": null,
   "metadata": {},
   "outputs": [],
   "source": [
    "%cd endoscopic_tool_segmentation\n",
    "!python -m monai.bundle trt_export network_def --filepath models/model_trt_fp32.ts --ckpt_file models/model.pt --meta_file configs/metadata.json --config_file configs/inference.json --precision fp32 --dynamic_batchsize \"[1, 1, 1]\"\n",
    "!python -m monai.bundle trt_export network_def --filepath models/model_trt_fp16.ts --ckpt_file models/model.pt --meta_file configs/metadata.json --config_file configs/inference.json --precision fp16 --dynamic_batchsize \"[1, 1, 1]\"\n",
    "%cd .."
   ]
  },
  {
   "cell_type": "markdown",
   "metadata": {},
   "source": [
    "## Load the torch model and TensorRT model\n",
    "\n",
    "Load the original bundle model and the TensorRT engine-based TorchScript models. Please note that `torch_tensorrt>=1.4.0` must be imported before loading TensorRT engine-based TorchScript models, since it will provide some runtime context."
   ]
  },
  {
   "cell_type": "code",
   "execution_count": null,
   "metadata": {},
   "outputs": [],
   "source": [
    "def get_parser(meta_config, inference_config):\n",
    "    parser = monai.bundle.ConfigParser()\n",
    "    parser.read_meta(meta_config)\n",
    "    parser.read_config(inference_config)\n",
    "    return parser\n",
    "\n",
    "\n",
    "model_weight = os.path.join(f\"./{bundle_name}\", \"models\", \"model.pt\")\n",
    "meta_config = os.path.join(f\"./{bundle_name}\", \"configs\", \"metadata.json\")\n",
    "inference_config = os.path.join(f\"./{bundle_name}\", \"configs\", \"inference.json\")\n",
    "trt_fp32_model_path = os.path.join(f\"./{bundle_name}\", \"models\", \"model_trt_fp32.ts\")\n",
    "trt_fp16_model_path = os.path.join(f\"./{bundle_name}\", \"models\", \"model_trt_fp16.ts\")\n",
    "\n",
    "parser = get_parser(meta_config, inference_config)\n",
    "device = parser.get_parsed_content(\"device\")\n",
    "\n",
    "net_id = \"network\"\n",
    "spatial_shape = (1, 3, 736, 480)\n",
    "model = parser.get_parsed_content(net_id)\n",
    "\n",
    "model.eval()\n",
    "\n",
    "trt_fp32_model = torch.jit.load(trt_fp32_model_path)\n",
    "trt_fp16_model = torch.jit.load(trt_fp16_model_path)"
   ]
  },
  {
   "cell_type": "markdown",
   "metadata": {},
   "source": [
    "## Benchmark the model inference time\n",
    "\n",
    "In this part, the model inference with a random input is benchmarked, i.e. the model computation latency without loading any real data."
   ]
  },
  {
   "cell_type": "code",
   "execution_count": 8,
   "metadata": {},
   "outputs": [
    {
     "name": "stdout",
     "output_type": "stream",
     "text": [
      "Total time for the PyTorch model: 6105.205764770508ms. Average time for the PyTorch model: 12.210411529540991ms.\n",
      "Total time for the TensorRT fp32 model: 3162.936336994171ms. Average time for the TensorRT fp32 model: 6.3258726739883295ms.\n",
      "Total time for the TensorRT fp16 model: 2515.0638179779053ms. Average time for the TensorRT fp16 model: 5.0301276359558ms.\n"
     ]
    },
    {
     "data": {
      "image/png": "[encoded data removed]",
      "text/plain": [
       "<Figure size 640x480 with 1 Axes>"
      ]
     },
     "metadata": {},
     "output_type": "display_data"
    }
   ],
   "source": [
    "def inference_random_torch_timer(model, input_shape, model_type=\"torch\", warmup_iter=500, active_iter=500):\n",
    "    \"\"\"Do the inference several times and get the latency.\"\"\"\n",
    "\n",
    "    # Do some warmup in case there are extra libraries and models load overhead.\n",
    "    with torch.no_grad():\n",
    "        for _ in range(warmup_iter):\n",
    "            random_input = torch.rand(input_shape, dtype=torch.float32, device=device)\n",
    "            model(random_input)\n",
    "\n",
    "        timeaccumulate = []\n",
    "        for _ in range(active_iter):\n",
    "            starter, ender = torch.cuda.Event(enable_timing=True), torch.cuda.Event(enable_timing=True)\n",
    "            torch.cuda.synchronize()\n",
    "            starter.record()\n",
    "            model(random_input)\n",
    "            ender.record()\n",
    "            torch.cuda.synchronize()\n",
    "            time_cur = starter.elapsed_time(ender)\n",
    "            timeaccumulate.append(time_cur)\n",
    "        total_time = sum(timeaccumulate)\n",
    "        average_time = total_time / (len(timeaccumulate) + 1e-12)\n",
    "    print(\n",
    "        f\"Total time for the {model_type} model: {total_time}ms.\",\n",
    "        f\"Average time for the {model_type} model: {average_time}ms.\",\n",
    "    )\n",
    "    return timeaccumulate\n",
    "\n",
    "\n",
    "# Only test the fp32 precision torch model\n",
    "torch.backends.cuda.matmul.allow_tf32 = False\n",
    "torch.backends.cudnn.allow_tf32 = False\n",
    "\n",
    "torch_time_list = inference_random_torch_timer(model, spatial_shape, model_type=\"PyTorch\")\n",
    "trt32_time_list = inference_random_torch_timer(trt_fp32_model, spatial_shape, model_type=\"TensorRT fp32\")\n",
    "trt16_time_list = inference_random_torch_timer(trt_fp16_model, spatial_shape, model_type=\"TensorRT fp16\")\n",
    "\n",
    "plt.title(\"Latency benchmark results of different models.\")\n",
    "plt.xlabel(\"Iteration\")\n",
    "plt.ylabel(\"Latency (ms)\")\n",
    "plt.plot(torch_time_list, color=\"red\", label=\"PyTorch model\")\n",
    "plt.plot(trt32_time_list, color=\"green\", label=\"TensorRT fp32 model\")\n",
    "plt.plot(trt16_time_list, color=\"blue\", label=\"TensorRT fp16 model\")\n",
    "plt.legend()\n",
    "plt.show()"
   ]
  },
  {
   "cell_type": "markdown",
   "metadata": {},
   "source": [
    "## Benchmark the end-to-end bundle run\n",
    "\n",
    "In this part, the `evaluator` in the bundle is parsed to do the end-to-end inference. A `TimerHandler` is defined to benchmark every part of the inference process."
   ]
  },
  {
   "cell_type": "markdown",
   "metadata": {},
   "source": [
    "### Define the TimerHandler\n",
    "\n",
    "Define a `CUDATimer` to time the latency on GPU and a `TimerHandler` to attach this timer to every part of an end-to-end inference."
   ]
  },
  {
   "cell_type": "code",
   "execution_count": 9,
   "metadata": {},
   "outputs": [],
   "source": [
    "class CUDATimer:\n",
    "    def __init__(self, type_str) -> None:\n",
    "        self.time_list = []\n",
    "        self.type_str = type_str\n",
    "\n",
    "    def start(self) -> None:\n",
    "        self.starter = torch.cuda.Event(enable_timing=True)\n",
    "        self.ender = torch.cuda.Event(enable_timing=True)\n",
    "        torch.cuda.synchronize()\n",
    "        self.starter.record()\n",
    "\n",
    "    def end(self) -> None:\n",
    "        self.ender.record()\n",
    "        torch.cuda.synchronize()\n",
    "        self.time_list.append(self.starter.elapsed_time(self.ender))\n",
    "\n",
    "    def get_max(self) -> float:\n",
    "        return max(self.time_list)\n",
    "\n",
    "    def get_min(self) -> float:\n",
    "        return min(self.time_list)\n",
    "\n",
    "    def get_mean(self) -> float:\n",
    "        np_time = np.array(self.time_list)\n",
    "        return np.mean(np_time)\n",
    "\n",
    "    def get_std(self) -> float:\n",
    "        np_time = np.array(self.time_list)\n",
    "        return np.std(np_time)\n",
    "\n",
    "    def get_sum(self) -> float:\n",
    "        np_time = np.array(self.time_list)\n",
    "        return np.sum(np_time)\n",
    "\n",
    "    def get_results_dict(self) -> OrderedDict:\n",
    "        out_list = [\n",
    "            (\"total\", self.get_sum()),\n",
    "            (\"min\", self.get_min()),\n",
    "            (\"max\", self.get_max()),\n",
    "            (\"mean\", self.get_mean()),\n",
    "            (\"std\", self.get_std()),\n",
    "        ]\n",
    "        return OrderedDict(out_list)\n",
    "\n",
    "\n",
    "class TimerHandler:\n",
    "    def __init__(self) -> None:\n",
    "        self.run_timer = CUDATimer(\"RUN\")\n",
    "        self.epoch_timer = CUDATimer(\"EPOCH\")\n",
    "        self.iteration_timer = CUDATimer(\"ITERATION\")\n",
    "        self.net_forward_timer = CUDATimer(\"FORWARD\")\n",
    "        self.get_batch_timer = CUDATimer(\"PREPARE_BATCH\")\n",
    "        self.post_process_timer = CUDATimer(\"POST_PROCESS\")\n",
    "        self.timer_list = [\n",
    "            self.run_timer,\n",
    "            self.epoch_timer,\n",
    "            self.iteration_timer,\n",
    "            self.net_forward_timer,\n",
    "            self.get_batch_timer,\n",
    "            self.post_process_timer,\n",
    "        ]\n",
    "\n",
    "    def attach(self, engine: Engine) -> None:\n",
    "        engine.add_event_handler(Events.STARTED, self.started, timer=self.run_timer)\n",
    "        engine.add_event_handler(Events.EPOCH_STARTED, self.started, timer=self.epoch_timer)\n",
    "        engine.add_event_handler(Events.ITERATION_STARTED, self.started, timer=self.iteration_timer)\n",
    "        engine.add_event_handler(Events.GET_BATCH_STARTED, self.started, timer=self.get_batch_timer)\n",
    "        engine.add_event_handler(Events.GET_BATCH_COMPLETED, self.completed, timer=self.get_batch_timer)\n",
    "        engine.add_event_handler(Events.GET_BATCH_COMPLETED, self.started, timer=self.net_forward_timer)\n",
    "        engine.add_event_handler(IterationEvents.FORWARD_COMPLETED, self.completed, timer=self.net_forward_timer)\n",
    "        engine.add_event_handler(IterationEvents.FORWARD_COMPLETED, self.started, timer=self.post_process_timer)\n",
    "        engine.add_event_handler(Events.ITERATION_COMPLETED, self.completed, timer=self.post_process_timer)\n",
    "        engine.add_event_handler(Events.ITERATION_COMPLETED, self.completed, timer=self.iteration_timer)\n",
    "        engine.add_event_handler(Events.EPOCH_COMPLETED, self.completed, timer=self.epoch_timer)\n",
    "        engine.add_event_handler(Events.COMPLETED, self.completed, timer=self.run_timer)\n",
    "\n",
    "    def started(self, engine: Engine, timer: CUDATimer) -> None:\n",
    "        timer.start()\n",
    "\n",
    "    def completed(self, engine: Engine, timer: CUDATimer) -> None:\n",
    "        timer.end()\n",
    "\n",
    "    def print_results(self) -> None:\n",
    "        index = [x.type_str for x in self.timer_list]\n",
    "        column_title = list(self.timer_list[0].get_results_dict().keys())\n",
    "        column_title = [x + \"/ms\" for x in column_title]\n",
    "        latency_list = [x for timer in self.timer_list for x in timer.get_results_dict().values()]\n",
    "        latency_array = np.array(latency_list)\n",
    "        latency_array = np.reshape(latency_array, (len(index), len(column_title)))\n",
    "        df = pd.DataFrame(latency_array, index=index, columns=column_title)\n",
    "        return df"
   ]
  },
  {
   "cell_type": "markdown",
   "metadata": {},
   "source": [
    "### Benchmark the MONAI bundle\n",
    "\n",
    "In this part, an `evaluator` with the original MONAI bundle runs several iterations to benchmark the latency."
   ]
  },
  {
   "cell_type": "code",
   "execution_count": null,
   "metadata": {},
   "outputs": [],
   "source": [
    "torch_parser = get_parser(meta_config, inference_config)\n",
    "torch_parser[\"dataset_dir\"] = data_root\n",
    "torch_parser[\"bundle_root\"] = f\"./{bundle_name}\"\n",
    "torch_evaluator = torch_parser.get_parsed_content(\"evaluator\")\n",
    "torch_timer = TimerHandler()\n",
    "torch_timer.attach(torch_evaluator)\n",
    "torch_evaluator.run()"
   ]
  },
  {
   "cell_type": "code",
   "execution_count": 11,
   "metadata": {},
   "outputs": [
    {
     "data": {
      "text/html": [
       "<div>\n",
       "<style scoped>\n",
       "    .dataframe tbody tr th:only-of-type {\n",
       "        vertical-align: middle;\n",
       "    }\n",
       "\n",
       "    .dataframe tbody tr th {\n",
       "        vertical-align: top;\n",
       "    }\n",
       "\n",
       "    .dataframe thead th {\n",
       "        text-align: right;\n",
       "    }\n",
       "</style>\n",
       "<table border=\"1\" class=\"dataframe\">\n",
       "  <thead>\n",
       "    <tr style=\"text-align: right;\">\n",
       "      <th></th>\n",
       "      <th>total/ms</th>\n",
       "      <th>min/ms</th>\n",
       "      <th>max/ms</th>\n",
       "      <th>mean/ms</th>\n",
       "      <th>std/ms</th>\n",
       "    </tr>\n",
       "  </thead>\n",
       "  <tbody>\n",
       "    <tr>\n",
       "      <th>RUN</th>\n",
       "      <td>6702.850098</td>\n",
       "      <td>6702.850098</td>\n",
       "      <td>6702.850098</td>\n",
       "      <td>6702.850098</td>\n",
       "      <td>0.000000</td>\n",
       "    </tr>\n",
       "    <tr>\n",
       "      <th>EPOCH</th>\n",
       "      <td>6701.979980</td>\n",
       "      <td>6701.979980</td>\n",
       "      <td>6701.979980</td>\n",
       "      <td>6701.979980</td>\n",
       "      <td>0.000000</td>\n",
       "    </tr>\n",
       "    <tr>\n",
       "      <th>ITERATION</th>\n",
       "      <td>5818.824028</td>\n",
       "      <td>37.192993</td>\n",
       "      <td>55.122238</td>\n",
       "      <td>38.792160</td>\n",
       "      <td>2.068160</td>\n",
       "    </tr>\n",
       "    <tr>\n",
       "      <th>FORWARD</th>\n",
       "      <td>4275.692844</td>\n",
       "      <td>27.239456</td>\n",
       "      <td>37.523167</td>\n",
       "      <td>28.504619</td>\n",
       "      <td>1.542784</td>\n",
       "    </tr>\n",
       "    <tr>\n",
       "      <th>PREPARE_BATCH</th>\n",
       "      <td>692.243458</td>\n",
       "      <td>0.148736</td>\n",
       "      <td>44.359680</td>\n",
       "      <td>4.614956</td>\n",
       "      <td>3.542215</td>\n",
       "    </tr>\n",
       "    <tr>\n",
       "      <th>POST_PROCESS</th>\n",
       "      <td>1534.169440</td>\n",
       "      <td>9.549088</td>\n",
       "      <td>18.912479</td>\n",
       "      <td>10.227796</td>\n",
       "      <td>0.860289</td>\n",
       "    </tr>\n",
       "  </tbody>\n",
       "</table>\n",
       "</div>"
      ],
      "text/plain": [
       "                  total/ms       min/ms       max/ms      mean/ms    std/ms\n",
       "RUN            6702.850098  6702.850098  6702.850098  6702.850098  0.000000\n",
       "EPOCH          6701.979980  6701.979980  6701.979980  6701.979980  0.000000\n",
       "ITERATION      5818.824028    37.192993    55.122238    38.792160  2.068160\n",
       "FORWARD        4275.692844    27.239456    37.523167    28.504619  1.542784\n",
       "PREPARE_BATCH   692.243458     0.148736    44.359680     4.614956  3.542215\n",
       "POST_PROCESS   1534.169440     9.549088    18.912479    10.227796  0.860289"
      ]
     },
     "execution_count": 11,
     "metadata": {},
     "output_type": "execute_result"
    }
   ],
   "source": [
    "torch_timer.print_results()"
   ]
  },
  {
   "cell_type": "markdown",
   "metadata": {},
   "source": [
    "### Benchmark the TensorRT fp32 and fp16 models\n",
    "In this part, the `trt_fp32_model` and `trt_fp16_model` are loaded to an `evaluator` and run the same iterations as the original MONAI bundle to benchmark the latency difference. \n",
    "\n",
    "The `POST_PROCESS` and `PREPARE_BATCH` stages require a considerable amount of time. Although the model forward time is much improved, there is still room for acceleration in reducing the end-to-end latency on this particular MONAI bundle."
   ]
  },
  {
   "cell_type": "code",
   "execution_count": null,
   "metadata": {},
   "outputs": [],
   "source": [
    "# replace the model load part and remove the CheckpointLoader handler\n",
    "def del_ckpt_loader(parser):\n",
    "    ckpt_index = -1\n",
    "    for cnt, handler in enumerate(parser[\"handlers\"]):\n",
    "        if handler[\"_target_\"] == \"CheckpointLoader\":\n",
    "            ckpt_index = cnt\n",
    "            break\n",
    "    if ckpt_index != -1:\n",
    "        del parser[\"handlers\"][ckpt_index]\n",
    "\n",
    "\n",
    "trt32_parser = get_parser(meta_config, inference_config)\n",
    "trt32_parser[\"dataset_dir\"] = data_root\n",
    "trt32_parser[\"bundle_root\"] = f\"./{bundle_name}\"\n",
    "\n",
    "# Use torch.jit.load to load the jit model\n",
    "trt32_parser[net_id] = f\"$torch.jit.load('{trt_fp32_model_path}')\"\n",
    "del_ckpt_loader(trt32_parser)\n",
    "trt32_evaluator = trt32_parser.get_parsed_content(\"evaluator\")\n",
    "trt32_evaluator.amp = False\n",
    "trt32_timer = TimerHandler()\n",
    "trt32_timer.attach(trt32_evaluator)\n",
    "trt32_evaluator.run()"
   ]
  },
  {
   "cell_type": "code",
   "execution_count": 13,
   "metadata": {},
   "outputs": [
    {
     "data": {
      "text/html": [
       "<div>\n",
       "<style scoped>\n",
       "    .dataframe tbody tr th:only-of-type {\n",
       "        vertical-align: middle;\n",
       "    }\n",
       "\n",
       "    .dataframe tbody tr th {\n",
       "        vertical-align: top;\n",
       "    }\n",
       "\n",
       "    .dataframe thead th {\n",
       "        text-align: right;\n",
       "    }\n",
       "</style>\n",
       "<table border=\"1\" class=\"dataframe\">\n",
       "  <thead>\n",
       "    <tr style=\"text-align: right;\">\n",
       "      <th></th>\n",
       "      <th>total/ms</th>\n",
       "      <th>min/ms</th>\n",
       "      <th>max/ms</th>\n",
       "      <th>mean/ms</th>\n",
       "      <th>std/ms</th>\n",
       "    </tr>\n",
       "  </thead>\n",
       "  <tbody>\n",
       "    <tr>\n",
       "      <th>RUN</th>\n",
       "      <td>3572.602051</td>\n",
       "      <td>3572.602051</td>\n",
       "      <td>3572.602051</td>\n",
       "      <td>3572.602051</td>\n",
       "      <td>0.000000</td>\n",
       "    </tr>\n",
       "    <tr>\n",
       "      <th>EPOCH</th>\n",
       "      <td>3571.712158</td>\n",
       "      <td>3571.712158</td>\n",
       "      <td>3571.712158</td>\n",
       "      <td>3571.712158</td>\n",
       "      <td>0.000000</td>\n",
       "    </tr>\n",
       "    <tr>\n",
       "      <th>ITERATION</th>\n",
       "      <td>2683.617338</td>\n",
       "      <td>17.156128</td>\n",
       "      <td>23.333824</td>\n",
       "      <td>17.890782</td>\n",
       "      <td>0.823200</td>\n",
       "    </tr>\n",
       "    <tr>\n",
       "      <th>FORWARD</th>\n",
       "      <td>1113.206143</td>\n",
       "      <td>7.289600</td>\n",
       "      <td>10.591264</td>\n",
       "      <td>7.421374</td>\n",
       "      <td>0.283388</td>\n",
       "    </tr>\n",
       "    <tr>\n",
       "      <th>PREPARE_BATCH</th>\n",
       "      <td>682.399682</td>\n",
       "      <td>0.150944</td>\n",
       "      <td>42.199425</td>\n",
       "      <td>4.549331</td>\n",
       "      <td>3.586312</td>\n",
       "    </tr>\n",
       "    <tr>\n",
       "      <th>POST_PROCESS</th>\n",
       "      <td>1562.327875</td>\n",
       "      <td>9.681408</td>\n",
       "      <td>15.080128</td>\n",
       "      <td>10.415519</td>\n",
       "      <td>0.714712</td>\n",
       "    </tr>\n",
       "  </tbody>\n",
       "</table>\n",
       "</div>"
      ],
      "text/plain": [
       "                  total/ms       min/ms       max/ms      mean/ms    std/ms\n",
       "RUN            3572.602051  3572.602051  3572.602051  3572.602051  0.000000\n",
       "EPOCH          3571.712158  3571.712158  3571.712158  3571.712158  0.000000\n",
       "ITERATION      2683.617338    17.156128    23.333824    17.890782  0.823200\n",
       "FORWARD        1113.206143     7.289600    10.591264     7.421374  0.283388\n",
       "PREPARE_BATCH   682.399682     0.150944    42.199425     4.549331  3.586312\n",
       "POST_PROCESS   1562.327875     9.681408    15.080128    10.415519  0.714712"
      ]
     },
     "execution_count": 13,
     "metadata": {},
     "output_type": "execute_result"
    }
   ],
   "source": [
    "trt32_timer.print_results()"
   ]
  },
  {
   "cell_type": "code",
   "execution_count": null,
   "metadata": {},
   "outputs": [],
   "source": [
    "trt16_parser = get_parser(meta_config, inference_config)\n",
    "trt16_parser[\"dataset_dir\"] = data_root\n",
    "trt16_parser[\"bundle_root\"] = f\"./{bundle_name}\"\n",
    "\n",
    "# Use torch.jit.load to load the jit model\n",
    "trt16_parser[net_id] = f\"$torch.jit.load('{trt_fp16_model_path}')\"\n",
    "del_ckpt_loader(trt16_parser)\n",
    "trt16_evaluator = trt16_parser.get_parsed_content(\"evaluator\")\n",
    "trt16_evaluator.amp = False\n",
    "trt16_timer = TimerHandler()\n",
    "trt16_timer.attach(trt16_evaluator)\n",
    "trt16_evaluator.run()"
   ]
  },
  {
   "cell_type": "code",
   "execution_count": 15,
   "metadata": {
    "tags": []
   },
   "outputs": [
    {
     "data": {
      "text/html": [
       "<div>\n",
       "<style scoped>\n",
       "    .dataframe tbody tr th:only-of-type {\n",
       "        vertical-align: middle;\n",
       "    }\n",
       "\n",
       "    .dataframe tbody tr th {\n",
       "        vertical-align: top;\n",
       "    }\n",
       "\n",
       "    .dataframe thead th {\n",
       "        text-align: right;\n",
       "    }\n",
       "</style>\n",
       "<table border=\"1\" class=\"dataframe\">\n",
       "  <thead>\n",
       "    <tr style=\"text-align: right;\">\n",
       "      <th></th>\n",
       "      <th>total/ms</th>\n",
       "      <th>min/ms</th>\n",
       "      <th>max/ms</th>\n",
       "      <th>mean/ms</th>\n",
       "      <th>std/ms</th>\n",
       "    </tr>\n",
       "  </thead>\n",
       "  <tbody>\n",
       "    <tr>\n",
       "      <th>RUN</th>\n",
       "      <td>3381.408936</td>\n",
       "      <td>3381.408936</td>\n",
       "      <td>3381.408936</td>\n",
       "      <td>3381.408936</td>\n",
       "      <td>0.000000</td>\n",
       "    </tr>\n",
       "    <tr>\n",
       "      <th>EPOCH</th>\n",
       "      <td>3380.462402</td>\n",
       "      <td>3380.462402</td>\n",
       "      <td>3380.462402</td>\n",
       "      <td>3380.462402</td>\n",
       "      <td>0.000000</td>\n",
       "    </tr>\n",
       "    <tr>\n",
       "      <th>ITERATION</th>\n",
       "      <td>2497.527969</td>\n",
       "      <td>15.689696</td>\n",
       "      <td>22.910303</td>\n",
       "      <td>16.650186</td>\n",
       "      <td>0.906804</td>\n",
       "    </tr>\n",
       "    <tr>\n",
       "      <th>FORWARD</th>\n",
       "      <td>924.709855</td>\n",
       "      <td>5.940480</td>\n",
       "      <td>8.432064</td>\n",
       "      <td>6.164732</td>\n",
       "      <td>0.310690</td>\n",
       "    </tr>\n",
       "    <tr>\n",
       "      <th>PREPARE_BATCH</th>\n",
       "      <td>678.264257</td>\n",
       "      <td>0.152768</td>\n",
       "      <td>44.498783</td>\n",
       "      <td>4.521762</td>\n",
       "      <td>3.633575</td>\n",
       "    </tr>\n",
       "    <tr>\n",
       "      <th>POST_PROCESS</th>\n",
       "      <td>1564.511133</td>\n",
       "      <td>9.580704</td>\n",
       "      <td>14.393504</td>\n",
       "      <td>10.430074</td>\n",
       "      <td>0.721004</td>\n",
       "    </tr>\n",
       "  </tbody>\n",
       "</table>\n",
       "</div>"
      ],
      "text/plain": [
       "                  total/ms       min/ms       max/ms      mean/ms    std/ms\n",
       "RUN            3381.408936  3381.408936  3381.408936  3381.408936  0.000000\n",
       "EPOCH          3380.462402  3380.462402  3380.462402  3380.462402  0.000000\n",
       "ITERATION      2497.527969    15.689696    22.910303    16.650186  0.906804\n",
       "FORWARD         924.709855     5.940480     8.432064     6.164732  0.310690\n",
       "PREPARE_BATCH   678.264257     0.152768    44.498783     4.521762  3.633575\n",
       "POST_PROCESS   1564.511133     9.580704    14.393504    10.430074  0.721004"
      ]
     },
     "execution_count": 15,
     "metadata": {},
     "output_type": "execute_result"
    }
   ],
   "source": [
    "trt16_timer.print_results()"
   ]
  }
 ],
 "metadata": {
  "kernelspec": {
   "display_name": "Python 3 (ipykernel)",
   "language": "python",
   "name": "python3"
  },
  "language_info": {
   "codemirror_mode": {
    "name": "ipython",
    "version": 3
   },
   "file_extension": ".py",
   "mimetype": "text/x-python",
   "name": "python",
   "nbconvert_exporter": "python",
   "pygments_lexer": "ipython3",
   "version": "3.8.10"
  },
  "vscode": {
   "interpreter": {
    "hash": "31f2aee4e71d21fbe5cf8b01ff0e069b9275f58929596ceb00d14d90e3e16cd6"
   }
  }
 },
 "nbformat": 4,
 "nbformat_minor": 4
}
