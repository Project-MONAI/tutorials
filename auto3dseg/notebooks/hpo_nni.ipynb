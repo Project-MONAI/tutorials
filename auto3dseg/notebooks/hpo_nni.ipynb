{
 "cells": [
  {
   "cell_type": "markdown",
   "metadata": {},
   "source": [
    "# MONAI Auto3Dseg Hyper-parameter Optimization with NNI\n",
    "\n",
    "This notebook provides an example to perform hype-parameter optimization(HPO) on learning rate with grid search method for spleen segmentation using NNI.\n",
    "\n",
    "Note: if you have used other notebooks under `auto3dseg`, for examples: \n",
    "- `auto_runner.ipynb`\n",
    "- `auto3dseg_autorunner_ref_api.ipynb`\n",
    "- `auto3dseg_hello_world.ipynb`\n",
    "- `hpo_optuna.ipynb`\n",
    "\n",
    "You may have already generated the algorithm templates in MONAI bundle formats (hint: find them in the working directory). \n",
    "\n",
    "Please feel free to skip step 1-5 if the bundles are already generated."
   ]
  },
  {
   "cell_type": "markdown",
   "metadata": {},
   "source": [
    "## 1. Import libraries for HPO and pipelines"
   ]
  },
  {
   "cell_type": "code",
   "execution_count": 1,
   "metadata": {},
   "outputs": [
    {
     "name": "stderr",
     "output_type": "stream",
     "text": [
      "/opt/conda/lib/python3.8/site-packages/tqdm/auto.py:22: TqdmWarning: IProgress not found. Please update jupyter and ipywidgets. See https://ipywidgets.readthedocs.io/en/stable/user_install.html\n",
      "  from .autonotebook import tqdm as notebook_tqdm\n"
     ]
    }
   ],
   "source": [
    "import os\n",
    "import torch\n",
    "import yaml\n",
    "\n",
    "# download MSD dataset\n",
    "from monai.apps import download_and_extract\n",
    "from monai.apps.auto3dseg import BundleGen, DataAnalyzer, NNIGen\n",
    "from monai.apps.auto3dseg.utils import export_bundle_algo_history, import_bundle_algo_history\n",
    "from monai.bundle.config_parser import ConfigParser"
   ]
  },
  {
   "cell_type": "markdown",
   "metadata": {},
   "source": [
    "## 2. Define experiment file pathes"
   ]
  },
  {
   "cell_type": "code",
   "execution_count": 3,
   "metadata": {},
   "outputs": [],
   "source": [
    "# Dataset pathes\n",
    "data_root = \"./\"\n",
    "msd_task = \"Task09_Spleen\"\n",
    "dataroot = os.path.join(data_root, msd_task)\n",
    "\n",
    "# User created files\n",
    "datalist_file = os.path.join(\"..\", \"tasks\", \"msd\", msd_task, \"msd_\" + msd_task.lower() + \"_folds.json\")\n",
    "input_yaml = './input.yaml'\n",
    "nni_yaml = './nni_config.yaml'\n",
    "\n",
    "# Experiment setup\n",
    "test_path = \"./\"\n",
    "work_dir = os.path.join(test_path, \"hpo_nni_work_dir\")\n",
    "datastats_file = os.path.join(work_dir, \"datastats.yaml\")\n",
    "if not os.path.isdir(work_dir):\n",
    "    os.makedirs(work_dir)\n",
    "\n",
    "# Algorithm selected to do HPO. Refer to bundle history for the mapping between\n",
    "# algorithm name and index, 0 is SegResNet2D\n",
    "selected_algorithm_index = 0"
   ]
  },
  {
   "cell_type": "markdown",
   "metadata": {},
   "source": [
    "## 3. Download one of MSD datasets"
   ]
  },
  {
   "cell_type": "code",
   "execution_count": 4,
   "metadata": {},
   "outputs": [],
   "source": [
    "resource = \"https://msd-for-monai.s3-us-west-2.amazonaws.com/\" + msd_task + \".tar\"\n",
    "compressed_file = os.path.join(data_root, msd_task + \".tar\")\n",
    "if not os.path.exists(dataroot):\n",
    "    os.makedirs(dataroot)\n",
    "    download_and_extract(resource, compressed_file, data_root)"
   ]
  },
  {
   "cell_type": "markdown",
   "metadata": {},
   "source": [
    "## 4. Generate input yaml and datafolds yaml. (User should generate their own)"
   ]
  },
  {
   "cell_type": "code",
   "execution_count": 5,
   "metadata": {},
   "outputs": [],
   "source": [
    "input_dict = {\n",
    "    \"name\": msd_task,\n",
    "    \"task\": \"segmentation\",\n",
    "    \"modality\": \"MRI\",\n",
    "    \"datalist\": datalist_file,\n",
    "    \"dataroot\": dataroot,\n",
    "    \"multigpu\": True,\n",
    "    \"class_names\": [\"val_acc_pz\", \"val_acc_tz\"]\n",
    "}\n",
    "\n",
    "with open(input_yaml, 'w') as f:\n",
    "    yaml.dump(input_dict, f)\n"
   ]
  },
  {
   "cell_type": "markdown",
   "metadata": {},
   "source": [
    "## 5. Create Bundle Generators\n"
   ]
  },
  {
   "cell_type": "code",
   "execution_count": 7,
   "metadata": {},
   "outputs": [
    {
     "name": "stderr",
     "output_type": "stream",
     "text": [
      "algo_templates.tar.gz: 100%|██████████| 280k/280k [00:00<00:00, 427kB/s]  "
     ]
    },
    {
     "name": "stdout",
     "output_type": "stream",
     "text": [
      "2022-09-21 04:46:15,948 - INFO - Downloaded: /tmp/tmpxnwm0v8d/algo_templates.tar.gz\n",
      "2022-09-21 04:46:15,949 - INFO - Expected md5 is None, skip md5 check for file /tmp/tmpxnwm0v8d/algo_templates.tar.gz.\n",
      "2022-09-21 04:46:15,949 - INFO - Writing into directory: ./workdir.\n"
     ]
    },
    {
     "name": "stderr",
     "output_type": "stream",
     "text": [
      "\n"
     ]
    },
    {
     "name": "stdout",
     "output_type": "stream",
     "text": [
      "2022-09-21 04:46:16,499 - INFO - ./workdir/segresnet2d_0\n",
      "2022-09-21 04:46:17,036 - INFO - ./workdir/segresnet2d_1\n",
      "2022-09-21 04:46:17,473 - INFO - ./workdir/segresnet2d_2\n",
      "2022-09-21 04:46:18,007 - INFO - ./workdir/segresnet2d_3\n",
      "2022-09-21 04:46:18,452 - INFO - ./workdir/segresnet2d_4\n",
      "2022-09-21 04:46:18,998 - INFO - ./workdir/dints_0\n",
      "2022-09-21 04:46:19,446 - INFO - ./workdir/dints_1\n",
      "2022-09-21 04:46:19,991 - INFO - ./workdir/dints_2\n",
      "2022-09-21 04:46:20,441 - INFO - ./workdir/dints_3\n",
      "2022-09-21 04:46:21,001 - INFO - ./workdir/dints_4\n",
      "2022-09-21 04:46:21,438 - INFO - ./workdir/swinunetr_0\n",
      "2022-09-21 04:46:21,992 - INFO - ./workdir/swinunetr_1\n",
      "2022-09-21 04:46:22,430 - INFO - ./workdir/swinunetr_2\n",
      "2022-09-21 04:46:22,866 - INFO - ./workdir/swinunetr_3\n",
      "2022-09-21 04:46:23,438 - INFO - ./workdir/swinunetr_4\n",
      "2022-09-21 04:46:23,998 - INFO - ./workdir/segresnet_0\n",
      "2022-09-21 04:46:24,441 - INFO - ./workdir/segresnet_1\n",
      "2022-09-21 04:46:25,004 - INFO - ./workdir/segresnet_2\n",
      "2022-09-21 04:46:25,449 - INFO - ./workdir/segresnet_3\n",
      "2022-09-21 04:46:25,894 - INFO - ./workdir/segresnet_4\n"
     ]
    }
   ],
   "source": [
    "cfg = ConfigParser.load_config_file(input_yaml)\n",
    "# data analysis\n",
    "if not os.path.exists(datastats_file):\n",
    "    da = DataAnalyzer(datalist_file, dataroot, output_path=datastats_file)\n",
    "    da.get_all_case_stats()\n",
    "\n",
    "# algorithm generation\n",
    "bundle_generator = BundleGen(\n",
    "    algo_path=work_dir,\n",
    "    data_stats_filename=datastats_file,\n",
    "    data_src_cfg_name=input_yaml,\n",
    ")\n",
    "\n",
    "bundle_generator.generate(work_dir, num_fold=5)\n",
    "history = bundle_generator.get_history()\n",
    "export_bundle_algo_history(history)"
   ]
  },
  {
   "cell_type": "markdown",
   "metadata": {},
   "source": [
    "## 6. Create Algo object from bundle_generator history"
   ]
  },
  {
   "cell_type": "code",
   "execution_count": 8,
   "metadata": {},
   "outputs": [],
   "source": [
    "# you can get history from bundle_generator. It can also be acquired by reading bundles saved on disk\n",
    "try:\n",
    "    history = bundle_generator.get_history()\n",
    "    assert len(history) > 0\n",
    "except Exception:\n",
    "    history = import_bundle_algo_history(work_dir, only_trained=False)\n",
    "\n",
    "algo_dict = history[selected_algorithm_index]\n",
    "algo_name = list(algo_dict.keys())[selected_algorithm_index]\n",
    "algo = algo_dict[algo_name]"
   ]
  },
  {
   "cell_type": "code",
   "execution_count": 9,
   "metadata": {},
   "outputs": [],
   "source": [
    "# \"override_params\" is used to update algorithm hyperparameters \n",
    "# like num_epochs, which are not in the HPO search space. We set num_epochs=2\n",
    "# to shorten the training time as an example\n",
    "\n",
    "max_epochs = 2\n",
    "\n",
    "# safeguard to ensure max_epochs is greater or equal to 2\n",
    "max_epochs = max(max_epochs, 2)\n",
    "\n",
    "num_gpus = 1 if \"multigpu\" in input_dict and not input_dict[\"multigpu\"] else torch.cuda.device_count()\n",
    "\n",
    "num_epoch = max_epochs\n",
    "num_images_per_batch = 2\n",
    "n_data = 24  # total is 30 images, hold out one set (6 images) for cross fold val.\n",
    "n_iter = int(num_epoch * n_data / num_images_per_batch / num_gpus)\n",
    "n_iter_val = int(n_iter / 2)\n",
    "\n",
    "override_param = {\n",
    "    \"num_iterations\": n_iter,\n",
    "    \"num_iterations_per_validation\": n_iter_val,\n",
    "    \"num_images_per_batch\": num_images_per_batch,\n",
    "    \"num_epochs\": num_epoch,\n",
    "    \"num_warmup_iterations\": n_iter_val,\n",
    "}"
   ]
  },
  {
   "cell_type": "code",
   "execution_count": 10,
   "metadata": {},
   "outputs": [
    {
     "name": "stdout",
     "output_type": "stream",
     "text": [
      "2022-09-21 04:47:33,277 - INFO - ./workdir/segresnet2d_0_override\n",
      "2022-09-21 04:47:33,277 - INFO - ============================================================================================================================================\n",
      "2022-09-21 04:47:33,278 - INFO - If NNI will run in your local env: \n",
      "2022-09-21 04:47:33,278 - INFO - 1. Add the following line to the trialCommand in your NNI config: \n",
      "2022-09-21 04:47:33,278 - INFO - python -m monai.apps.auto3dseg NNIGen run_algo  ./workdir/segresnet2d_0_override/algo_object.pkl {result_dir}\n",
      "2022-09-21 04:47:33,278 - INFO - --------------------------------------------------------------------------------------------------------------------------------------------\n",
      "2022-09-21 04:47:33,279 - INFO - If NNI will run in a remote env: \n",
      "2022-09-21 04:47:33,279 - INFO - 1. Copy the algorithm_templates folder ./workdir/algorithm_templates/segresnet2d to remote {remote_algorithm_templates_dir}\n",
      "2022-09-21 04:47:33,279 - INFO - 2. Copy the older ./workdir/segresnet2d_0_override to the remote machine {remote_algo_dir}\n",
      "2022-09-21 04:47:33,279 - INFO - Then add the following line to the trialCommand in your NNI config: \n",
      "2022-09-21 04:47:33,279 - INFO - python -m monai.apps.auto3dseg NNIGen run_algo  {remote_algo_dir} {result_dir} {remote_algorithm_templates_dir}\n",
      "2022-09-21 04:47:33,279 - INFO - ============================================================================================================================================\n"
     ]
    }
   ],
   "source": [
    "nni_gen = NNIGen(algo=algo, params=override_param)"
   ]
  },
  {
   "cell_type": "markdown",
   "metadata": {},
   "source": [
    "## 7. Create your NNI configs. Refer to [NNI](https://nni.readthedocs.io/en/stable/) for more details"
   ]
  },
  {
   "cell_type": "code",
   "execution_count": 11,
   "metadata": {},
   "outputs": [],
   "source": [
    "nni_config = {\n",
    "    \"experimentName\": msd_task + \"_lr\",\n",
    "    \"searchSpace\": {\n",
    "        \"learning_rate\": {\n",
    "            \"_type\": \"choice\",\n",
    "            \"_value\": [0.0001, 0.001, 0.01, 0.1]\n",
    "        }\n",
    "    },\n",
    "    \"trialCommand\": None,\n",
    "    \"trialCodeDirectory\": \".\",\n",
    "    \"trialGpuNumber\": 1,\n",
    "    \"trialConcurrency\": 2,\n",
    "    \"maxTrialNumber\": 10,\n",
    "    \"maxExperimentDuration\": \"1h\",\n",
    "    \"tuner\": {\"name\": \"GridSearch\"},\n",
    "    \"trainingService\": {\n",
    "        \"platform\": \"local\", \"useActiveGpu\": True}\n",
    "}\n",
    "with open(nni_yaml, 'w') as f:\n",
    "    yaml.dump(nni_config, f)"
   ]
  },
  {
   "cell_type": "markdown",
   "metadata": {},
   "source": [
    "## 8. Run NNI from terminal\n",
    "### Step 1: copy the trialCommand print out info, e.g.\n",
    "```\n",
    "python -m monai.apps.auto3dseg NNIGen run_algo  ./workdir/segresnet2d_0/algo_object.pkl {result_dir}\n",
    "```\n",
    "Replace {result_dir} with a folder path to save HPO experiments.\n",
    "### Step 2: copy the above trialCommand to replace the trialCommand in nni_config.yaml\n",
    "### Step 3: run NNI experiemtns from a terminal with \n",
    "```\n",
    "nnictl create --config ./nni_config.yaml\n",
    "```\n",
    "\n",
    "Use the print out trialCommand from NNIGen initialization to replace the trialCommand in nni_config and run NNI from terminal"
   ]
  },
  {
   "cell_type": "markdown",
   "metadata": {},
   "source": [
    "## 9. Example Results\n",
    "We changed override_param to {'num_iterations':6000, 'num_iterations_per_validation':600}, to run the experiments for longer time.\n",
    "Here is the results shown in NNI webui. The optimal learning rate for SegResNet2D (selected_algorithm_index=0) is 0.1, which achieves Dice score of 0.735.\n",
    "\n",
    "![](../figures/nni_image0.png)\n",
    "![](../figures/nni_image1.png)\n"
   ]
  },
  {
   "cell_type": "markdown",
   "metadata": {},
   "source": []
  }
 ],
 "metadata": {
  "kernelspec": {
   "display_name": "Python 3.8.13 ('base')",
   "language": "python",
   "name": "python3"
  },
  "language_info": {
   "codemirror_mode": {
    "name": "ipython",
    "version": 3
   },
   "file_extension": ".py",
   "mimetype": "text/x-python",
   "name": "python",
   "nbconvert_exporter": "python",
   "pygments_lexer": "ipython3",
   "version": "3.8.13"
  },
  "vscode": {
   "interpreter": {
    "hash": "d4d1e4263499bec80672ea0156c357c1ee493ec2b1c70f0acce89fc37c4a6abe"
   }
  }
 },
 "nbformat": 4,
 "nbformat_minor": 2
}
