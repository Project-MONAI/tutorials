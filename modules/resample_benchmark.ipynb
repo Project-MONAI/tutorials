{
 "cells": [
  {
   "cell_type": "markdown",
   "metadata": {},
   "source": [
    "Copyright (c) MONAI Consortium  \n",
    "Licensed under the Apache License, Version 2.0 (the \"License\");  \n",
    "you may not use this file except in compliance with the License.  \n",
    "You may obtain a copy of the License at  \n",
    "&nbsp;&nbsp;&nbsp;&nbsp;http://www.apache.org/licenses/LICENSE-2.0  \n",
    "Unless required by applicable law or agreed to in writing, software  \n",
    "distributed under the License is distributed on an \"AS IS\" BASIS,  \n",
    "WITHOUT WARRANTIES OR CONDITIONS OF ANY KIND, either express or implied.  \n",
    "See the License for the specific language governing permissions and  \n",
    "limitations under the License."
   ]
  },
  {
   "attachments": {},
   "cell_type": "markdown",
   "metadata": {
    "id": "zwiedQdPL8QI"
   },
   "source": [
    "## Overview\n",
    "\n",
    "This notebook benchmarks MONAI's implementation of resampling methods against two established repositories - SimpleITK and python itk. In detail:\n",
    "- we benchmarked MONAI's Transformation and Warping against SimpleITK by reproducing some of the results from the [SimpleITK notebook](http://insightsoftwareconsortium.github.io/SimpleITK-Notebooks/Python_html/21_Transforms_and_Resampling.html)\n",
    "- we benchmarked MONAI's Warping against python itk on a real-world 3d low-pelvic MRI"
   ]
  },
  {
   "attachments": {},
   "cell_type": "markdown",
   "metadata": {
    "id": "8JJjWE43kamJ"
   },
   "source": [
    "## Setup environment"
   ]
  },
  {
   "cell_type": "code",
   "execution_count": null,
   "metadata": {},
   "outputs": [],
   "source": [
    "!pip install -q ipywidgets\n",
    "!python -c \"import monai\" || pip install -q \"monai-weekly\"\n",
    "!pip install -q \"SimpleITK\"\n",
    "!pip install -q \"itk\"\n",
    "%matplotlib inline"
   ]
  },
  {
   "attachments": {},
   "cell_type": "markdown",
   "metadata": {},
   "source": [
    "## Setup imports"
   ]
  },
  {
   "cell_type": "code",
   "execution_count": 2,
   "metadata": {
    "id": "Cedzz4Hhxc5K"
   },
   "outputs": [],
   "source": [
    "import monai\n",
    "from monai.apps.utils import download_url\n",
    "\n",
    "import itk\n",
    "import SimpleITK as sitk  # noqa: N813\n",
    "\n",
    "import torch\n",
    "import os\n",
    "import shutil\n",
    "import tempfile\n",
    "import PIL\n",
    "import numpy as np\n",
    "\n",
    "from matplotlib import pyplot as plt"
   ]
  },
  {
   "attachments": {},
   "cell_type": "markdown",
   "metadata": {},
   "source": [
    "## Setup data directory\n",
    "\n",
    "You can specify a directory with the `MONAI_DATA_DIRECTORY` environment variable.  \n",
    "This allows you to save results and reuse downloads.  \n",
    "If not specified a temporary directory will be used."
   ]
  },
  {
   "cell_type": "code",
   "execution_count": 3,
   "metadata": {},
   "outputs": [
    {
     "name": "stdout",
     "output_type": "stream",
     "text": [
      "root dir is: /workspace/Data\n"
     ]
    }
   ],
   "source": [
    "directory = os.environ.get(\"MONAI_DATA_DIRECTORY\")\n",
    "root_dir = tempfile.mkdtemp() if directory is None else directory\n",
    "print(f\"root dir is: {root_dir}\")"
   ]
  },
  {
   "attachments": {},
   "cell_type": "markdown",
   "metadata": {
    "id": "3dmamONB5Q9P"
   },
   "source": [
    "## Download data\n",
    "\n",
    "For comparison against SimpleITK implementation [results](http://insightsoftwareconsortium.github.io/SimpleITK-Notebooks/Python_html/21_Transforms_and_Resampling.html), download the SimpleITK logo.\n",
    "\n",
    "For comparison against python itk, download the lower-pelvic MRI."
   ]
  },
  {
   "cell_type": "code",
   "execution_count": 2,
   "metadata": {
    "colab": {
     "base_uri": "https://localhost:8080/"
    },
    "id": "_fDeazwE0HLI",
    "outputId": "55acf30a-e629-45c5-a9b6-dd723e2227af"
   },
   "outputs": [
    {
     "name": "stdout",
     "output_type": "stream",
     "text": [
      "root dir is: /tmp/tmp3zayeh_u\n"
     ]
    },
    {
     "name": "stderr",
     "output_type": "stream",
     "text": [
      "SimpleITK.jpg: 8.00kB [00:00, 24.9kB/s]"
     ]
    },
    {
     "name": "stdout",
     "output_type": "stream",
     "text": [
      "2022-01-20 17:56:19,937 - INFO - Downloaded: /tmp/tmp3zayeh_u/SimpleITK.jpg\n",
      "2022-01-20 17:56:19,939 - INFO - Expected md5 is None, skip md5 check for file /tmp/tmp3zayeh_u/SimpleITK.jpg.\n"
     ]
    },
    {
     "name": "stderr",
     "output_type": "stream",
     "text": [
      "\n",
      "Downloading...\n",
      "From: https://drive.google.com/uc?id=17tsDLvG_GZm7a4fCVMCv-KyDx0hqq1ji\n",
      "To: /tmp/tmp2euy74rf/mri.nii\n",
      "100%|██████████| 12.1M/12.1M [00:00<00:00, 210MB/s]"
     ]
    },
    {
     "name": "stdout",
     "output_type": "stream",
     "text": [
      "2022-01-20 17:56:20,720 - INFO - Downloaded: /tmp/tmp3zayeh_u/mri.nii\n",
      "2022-01-20 17:56:20,722 - INFO - Expected md5 is None, skip md5 check for file /tmp/tmp3zayeh_u/mri.nii.\n"
     ]
    },
    {
     "name": "stderr",
     "output_type": "stream",
     "text": [
      "\n"
     ]
    }
   ],
   "source": [
    "# dict of file name and corresponding urls\n",
    "url_dict = {\n",
    "    \"monai.png\": \"https://github.com/Project-MONAI/project-monai.github.io/raw/master/assets/logo/MONAI-logo_color.png\",  # noqa: E501\n",
    "    \"mri.nii\": \"https://github.com/Project-MONAI/MONAI-extra-test-data/releases/download/0.8.1/Prostate_T2W_AX_1.nii\"\n",
    "}\n",
    "\n",
    "# download and rename\n",
    "for k, v in url_dict.items():\n",
    "    download_url(v, f\"{root_dir}/{k}\")"
   ]
  },
  {
   "cell_type": "markdown",
   "metadata": {
    "id": "UgnNBdAaPKnr"
   },
   "source": [
    "# **SimpleITK**\n",
    "\n",
    "## transformation\n",
    "\n",
    "This section displays the transformation functionalities in an interactive manner. Horizontal and vertical translation, as well as rotation angle could be adjusted by sliding the bars."
   ]
  },
  {
   "cell_type": "code",
   "execution_count": 3,
   "metadata": {
    "colab": {
     "base_uri": "https://localhost:8080/",
     "height": 365,
     "referenced_widgets": [
      "4c3e2963911e4ba497343c95b9bc502c",
      "9b392b4722f6466586d1cee4d57e56d1",
      "e5300246d2a743e9aeb84d520679324a",
      "291999af27ae4e5a8aada974e0dc605a",
      "10e5d4713baa4dd3b8f58cfcd18b971c",
      "7e7c48ed7ee844be97daa24b0d7be188",
      "2b5217c4003947588fa662db2d13f807",
      "f529639e648f4973ad4a18d0f78f2ad5",
      "f9156448839f48e3aaf167e33d24c95d",
      "61a47116c6dd44c1969e46f7f1d408ba",
      "c1c76abad1d34b1096e247bf188071a1",
      "fa8903a933fa4f008bb6763722e2495e",
      "a58b5a80efef45be8ffe50b030129745"
     ]
    },
    "id": "zx8TVYX_sV6x",
    "outputId": "11ee1dc2-dc6e-405f-8ff4-a9467f7598fd"
   },
   "outputs": [
    {
     "data": {
      "application/vnd.jupyter.widget-view+json": {
       "model_id": "4c3e2963911e4ba497343c95b9bc502c",
       "version_major": 2,
       "version_minor": 0
      },
      "text/plain": [
       "interactive(children=(FloatSlider(value=0.0, description='tx', max=128.0, min=-128.0, step=2.0), FloatSlider(v…"
      ]
     },
     "metadata": {},
     "output_type": "display_data"
    }
   ],
   "source": [
    "def transformation_display(img_path, tx, ty, theta):\n",
    "    \"\"\"\n",
    "    transform a image by MONAI and SimpleITK and plot both transformed images\n",
    "    \"\"\"\n",
    "\n",
    "    # monai transform\n",
    "    monai_img = np.asarray(PIL.Image.open(img_path))\n",
    "    monai_img = monai_img.transpose((2, 0, 1))\n",
    "    transform = monai.transforms.Compose([\n",
    "       monai.transforms.Affined(\n",
    "           keys=[\"img\"],\n",
    "           rotate_params=-theta,\n",
    "           translate_params=(ty, tx),\n",
    "           padding_mode=\"zeros\"\n",
    "           ),\n",
    "       monai.transforms.ScaleIntensityd(keys=[\"img\"])\n",
    "       ])\n",
    "    monai_transformed = transform({\"img\": monai_img})[\"img\"].permute((1, 2, 0))\n",
    "\n",
    "    # sitk transform\n",
    "    sitk_img = sitk.ReadImage(img_path)\n",
    "    euler2d_transform = sitk.Euler2DTransform()\n",
    "    euler2d_transform.SetCenter(\n",
    "        sitk_img.TransformContinuousIndexToPhysicalPoint(\n",
    "            np.array(sitk_img.GetSize()) / 2.0\n",
    "            )\n",
    "        )\n",
    "    euler2d_transform.SetTranslation((tx, ty))\n",
    "    euler2d_transform.SetAngle(theta)\n",
    "    sitk_transformed = sitk.Resample(sitk_img, euler2d_transform)\n",
    "\n",
    "    # plot monai and sitk transformed results as subplots\n",
    "    fig, ax = plt.subplots(2)\n",
    "    ax[0].imshow(monai_transformed)\n",
    "    ax[0].axis('off')\n",
    "    ax[0].set_title(\"MONAI\")\n",
    "    ax[1].imshow(sitk.GetArrayFromImage(sitk_transformed))\n",
    "    ax[1].axis('off')\n",
    "    ax[1].set_title(\"SimpleITK\")\n",
    "    plt.show()\n",
    "\n",
    "\n",
    "# # umcomment the following to generate the interactive display\n",
    "# from ipywidgets import interact, fixed\n",
    "# interact(\n",
    "#     transformation_display,\n",
    "#     img_path=fixed(f\"{root_dir}/monai.png\"),\n",
    "#     tx=(-128.0, 128.0, 2.0),\n",
    "#     ty=(-64.0, 64.0),\n",
    "#     theta=(-np.pi/4.0, np.pi/4.0)\n",
    "# )"
   ]
  },
  {
   "cell_type": "markdown",
   "metadata": {
    "id": "8YVOtGXQMGAI"
   },
   "source": [
    "## Warping\n",
    "\n",
    "Warping distorts an `image` by `ddf` to give the `output`.\n",
    "\n",
    "The following example randomly sample 10 physical points (locations) on an image and assign ascending displacements in y(H) direction accordingly.\n",
    "Resampled intensities obtained by both MONAI and SimpleITK implementations are reported at all 10 points.\n",
    "\n",
    "First, 10 physical points are randomly sampled from the downloaded logo."
   ]
  },
  {
   "cell_type": "code",
   "execution_count": 4,
   "metadata": {
    "id": "CazGsgArvaYW"
   },
   "outputs": [],
   "source": [
    "# Read image\n",
    "img_path = f\"{root_dir}/monai.png\"\n",
    "monai_img = np.asarray(PIL.Image.open(img_path))\n",
    "monai_img = monai_img.transpose((2, 0, 1))\n",
    "monai_img = torch.tensor(monai_img, dtype=torch.float)\n",
    "sitk_img = sitk.ReadImage(img_path)\n",
    "\n",
    "width, height = sitk_img.GetSize()\n",
    "\n",
    "# Generate random samples inside the image, we will obtain the intensity/color values at these points.\n",
    "num_samples = 10\n",
    "physical_points = np.array([np.random.randint(monai_img.shape[1:]) for _ in range(10)], dtype=float)  # (10, 2)\n"
   ]
  },
  {
   "cell_type": "markdown",
   "metadata": {
    "id": "dDwLlv7ickPx"
   },
   "source": [
    "Currently, only spatial (4-D) and volumetric (5-D) input are supported by MONAI. In the following spatial (4-D) example, for an `image` of shape (batch, num_channels, H, W) and a `ddf` of shape (batch, 2, H, W), the output will have the same shape as `input`.\n",
    "\n",
    "For each output location `output[b, :, h, w]`, the size-2 vector `ddf[b, :, h, w] = [h', w']` specifies coordinate displacement in y(H) and x(W) direction from the input location `image[b, :, h, w]`. In other words, the value at `output[b, :, h, w]` should correspond to the value at `input[b, :, h + h', w + w']`"
   ]
  },
  {
   "cell_type": "code",
   "execution_count": 5,
   "metadata": {
    "colab": {
     "base_uri": "https://localhost:8080/"
    },
    "id": "fMcvKVzCdVsp",
    "outputId": "d996af0e-7eb3-44d4-9c38-235d2fe3c86d"
   },
   "outputs": [
    {
     "name": "stderr",
     "output_type": "stream",
     "text": [
      "monai.networks.blocks.Warp: Using PyTorch native grid_sample.\n"
     ]
    }
   ],
   "source": [
    "# initialise ddf as a zero matrix\n",
    "ddf = torch.zeros(2, height, width).to(torch.float)  # (2, H, W)\n",
    "# add displacement of y coordinate to sampled locations\n",
    "for i, pnt in enumerate(physical_points.astype(int)):\n",
    "    ddf[0, pnt[0], pnt[1]] += i\n",
    "\n",
    "# initialise warp layer\n",
    "warp = monai.networks.blocks.Warp(mode='bilinear', padding_mode='zeros')\n",
    "\n",
    "# warp, note an batch dimension is added and removed during calculation\n",
    "monai_resample = warp(\n",
    "    monai_img.unsqueeze(0), ddf.unsqueeze(0).to(monai_img)).squeeze(0)  # (3, H, W)"
   ]
  },
  {
   "cell_type": "markdown",
   "metadata": {
    "id": "1qAjGkYnd_N0"
   },
   "source": [
    "The same operation could be achived by the `Resample` method from SimpleITK. SimpleITK's procedural API provides three methods for performing resampling. Here we use \n",
    "\n",
    "`Resample(const Image &image1, const Image &referenceImage, Transform transform, InterpolatorEnum interpolator, double defaultPixelValue, PixelIDValueEnum outputPixelType)`"
   ]
  },
  {
   "cell_type": "code",
   "execution_count": 6,
   "metadata": {
    "id": "ez4kFsLXeFXt"
   },
   "outputs": [],
   "source": [
    "# Create an image of size [width, height]. The pixel type is irrelevant, as the image is \n",
    "# just defining the interpolation grid (sitkUInt8 has minimal memory footprint).\n",
    "interp_grid_img = sitk.Image([width, height], sitk.sitkUInt8)\n",
    "\n",
    "# initialise displacement\n",
    "sitk_displacement_img = sitk.Image([width, height], sitk.sitkVectorFloat64, sitk_img.GetDimension())\n",
    "# add displacement of y coordinate to sampled locations\n",
    "for i, pnt in enumerate(physical_points):\n",
    "    sitk_displacement_img[int(pnt[1]), int(pnt[0])] = np.array([0, i], dtype=float)\n",
    "\n",
    "# select linear interpolater to match `bilinear` mode in MONAI\n",
    "interpolator_enum = sitk.sitkLinear\n",
    "# set default_output_pixel_value to 0.0 to match `zero` padding_mode in MONAI\n",
    "default_output_pixel_value = 0.0\n",
    "# set output_pixel_type\n",
    "output_pixel_type = sitk.sitkVectorFloat32\n",
    "# resample\n",
    "sitk_resample = sitk.Resample(\n",
    "    sitk_img,\n",
    "    interp_grid_img,\n",
    "    sitk.DisplacementFieldTransform(sitk_displacement_img),\n",
    "    interpolator_enum,\n",
    "    default_output_pixel_value,\n",
    "    output_pixel_type\n",
    "    )\n",
    "\n",
    "# turn resampled image into numpy array for later comparison\n",
    "sitk_resample = sitk.GetArrayFromImage(sitk_resample)"
   ]
  },
  {
   "cell_type": "markdown",
   "metadata": {
    "id": "1ZrjT7jQgRJ_"
   },
   "source": [
    "Compare results from MONAI and SimpleITK. As could be observed, same intensities are predicted by both MONAI and SimpleITK implementation at all 10 points."
   ]
  },
  {
   "cell_type": "code",
   "execution_count": 7,
   "metadata": {
    "colab": {
     "base_uri": "https://localhost:8080/"
    },
    "id": "9Z_K7G8rgQGe",
    "outputId": "6b525007-56b6-407e-f6bf-6f32b842773b"
   },
   "outputs": [
    {
     "name": "stdout",
     "output_type": "stream",
     "text": [
      "at location [ 16 171]: original intensity tensor([252., 255., 250.]) resampled to tensor([252., 255., 250.]) by MONAI and [252. 255. 250.] by SITK\n",
      "at location [49 66]: original intensity tensor([198., 133.,  29.]) resampled to tensor([199., 135.,  37.]) by MONAI and [199. 135.  37.] by SITK\n",
      "at location [ 5 58]: original intensity tensor([255., 255., 255.]) resampled to tensor([255., 255., 255.]) by MONAI and [255. 255. 255.] by SITK\n",
      "at location [  5 181]: original intensity tensor([255., 255., 255.]) resampled to tensor([255., 255., 255.]) by MONAI and [255. 255. 255.] by SITK\n",
      "at location [14  4]: original intensity tensor([255., 255., 255.]) resampled to tensor([255., 255., 255.]) by MONAI and [255. 255. 255.] by SITK\n",
      "at location [ 27 152]: original intensity tensor([251., 255., 255.]) resampled to tensor([252., 255., 253.]) by MONAI and [252. 255. 253.] by SITK\n",
      "at location [ 17 145]: original intensity tensor([228., 236., 247.]) resampled to tensor([ 43.,  87., 150.]) by MONAI and [ 43.  87. 150.] by SITK\n",
      "at location [ 43 135]: original intensity tensor([255., 253., 250.]) resampled to tensor([255., 255., 255.]) by MONAI and [255. 255. 255.] by SITK\n",
      "at location [12 57]: original intensity tensor([255., 255., 255.]) resampled to tensor([255., 255., 255.]) by MONAI and [255. 255. 255.] by SITK\n",
      "at location [19 96]: original intensity tensor([255., 255., 255.]) resampled to tensor([253.0000, 255.0000, 249.0000]) by MONAI and [253. 255. 249.] by SITK\n"
     ]
    }
   ],
   "source": [
    "for _, pnt in enumerate(physical_points.astype(int)):\n",
    "    print(f\"at location {pnt}: original intensity {monai_img[:, pnt[0], pnt[1]]} \" +\n",
    "          f\"resampled to {monai_resample[:, pnt[0], pnt[1]]} by MONAI and {sitk_resample[pnt[0], pnt[1]]} by SITK\")"
   ]
  },
  {
   "cell_type": "markdown",
   "metadata": {
    "id": "ImSJ0BSIfvWk"
   },
   "source": [
    "# **python itk**\n",
    "## Warping\n",
    "\n",
    "In this example, we generate a random dense displacement field, and use it to warp the downloaded 3d lower-pelvic MRI with both MONAI's `Warp` layer and python itk's `warpFilter`.\n",
    "\n",
    "Firstly, we read the nifti file using MONAI's I/O."
   ]
  },
  {
   "cell_type": "code",
   "execution_count": 8,
   "metadata": {
    "id": "iGjRP9HAhYqy"
   },
   "outputs": [],
   "source": [
    "img = monai.transforms.LoadImaged(keys=\"img\")({\"img\": f\"{root_dir}/mri.nii\"})[\"img\"]\n",
    "# W, H, D -> D, H, W\n",
    "img = img.permute((2, 1, 0))"
   ]
  },
  {
   "cell_type": "markdown",
   "metadata": {
    "id": "or4znQg2hybQ"
   },
   "source": [
    "Secondly, we generate a random dense displacement field with maximum displacement in each direction equals to one-tenth of the image dimension in that direction."
   ]
  },
  {
   "cell_type": "code",
   "execution_count": 9,
   "metadata": {
    "id": "9JaPuS5aiHHe"
   },
   "outputs": [],
   "source": [
    "ddf = np.random.random((3, *img.shape)).astype(np.float32)  # (3, D, H, W)\n",
    "ddf[0] = ddf[0] * img.shape[0] * 0.1\n",
    "ddf[1] = ddf[1] * img.shape[1] * 0.1\n",
    "ddf[2] = ddf[2] * img.shape[2] * 0.1"
   ]
  },
  {
   "cell_type": "markdown",
   "metadata": {
    "id": "6cJses4njyOs"
   },
   "source": [
    "Warp with MONAI."
   ]
  },
  {
   "cell_type": "code",
   "execution_count": 10,
   "metadata": {
    "colab": {
     "base_uri": "https://localhost:8080/"
    },
    "id": "rAZiq3Zrj1CY",
    "outputId": "a34fd855-bfed-49f7-ff8c-fad30f8dd072"
   },
   "outputs": [
    {
     "name": "stderr",
     "output_type": "stream",
     "text": [
      "monai.networks.blocks.Warp: Using PyTorch native grid_sample.\n"
     ]
    }
   ],
   "source": [
    "# initialise warp layer\n",
    "warp_layer = monai.networks.blocks.Warp(padding_mode=\"zeros\")\n",
    "\n",
    "# turn image and ddf to tensor, add channel dim to image\n",
    "monai_img = torch.tensor(img).unsqueeze(0)\n",
    "monai_ddf = torch.tensor(ddf)\n",
    "\n",
    "# warp, note an batch dimension is added and removed during calculation\n",
    "monai_warped_img = warp_layer(monai_img.unsqueeze(0), monai_ddf.unsqueeze(0)).squeeze(0)\n",
    "\n",
    "# remove channel dim and transform to numpy array\n",
    "monai_warped_img = np.asarray(monai_warped_img.squeeze(0))"
   ]
  },
  {
   "cell_type": "markdown",
   "metadata": {
    "id": "W8j2c3siiMWW"
   },
   "source": [
    "Warp with python itk."
   ]
  },
  {
   "cell_type": "code",
   "execution_count": 11,
   "metadata": {
    "id": "--9YWSaZiLg5"
   },
   "outputs": [],
   "source": [
    "Dimension = 3\n",
    "\n",
    "# initialise image\n",
    "PixelType = itk.F  # similar to np.float32\n",
    "ImageType = itk.Image[PixelType, Dimension]\n",
    "# cast image to ImageType\n",
    "itk_img = itk.PyBuffer[ImageType].GetImageFromArray(\n",
    "    img.astype(np.float32), is_vector=None)\n",
    "\n",
    "# initialise displacement\n",
    "VectorComponentType = itk.F  # similar to np.float32\n",
    "VectorPixelType = itk.Vector[VectorComponentType, Dimension]\n",
    "DisplacementFieldType = itk.Image[VectorPixelType, Dimension]\n",
    "# 3, D, H, W -> D, H, W, 3\n",
    "itk_ddf = ddf.transpose((1, 2, 3, 0))\n",
    "# x, y, z -> z, x, y\n",
    "itk_ddf = itk_ddf[..., ::-1]\n",
    "# cast ddf to DisplacementFieldType\n",
    "deformation_field = itk.PyBuffer[DisplacementFieldType].GetImageFromArray(\n",
    "    itk_ddf.astype(np.float32), is_vector=True)\n",
    "# initialise warpFilter, set input, output and displacement field types\n",
    "warp_filter = itk.WarpImageFilter[ImageType, ImageType, DisplacementFieldType].New()\n",
    "# set interpolator\n",
    "interpolator = itk.LinearInterpolateImageFunction[ImageType, itk.D].New()\n",
    "warp_filter.SetInterpolator(interpolator)\n",
    "# set output spacing, origin and direction\n",
    "warp_filter.SetOutputSpacing(itk_img.GetSpacing())\n",
    "warp_filter.SetOutputOrigin(itk_img.GetOrigin())\n",
    "warp_filter.SetOutputDirection(itk_img.GetDirection())\n",
    "# warp\n",
    "warp_filter.SetDisplacementField(deformation_field)\n",
    "warp_filter.SetInput(itk_img)\n",
    "itk_warped_img = warp_filter.GetOutput()\n",
    "\n",
    "# transform itk.Image to numpy array\n",
    "itk_warped_img = np.asarray(itk_warped_img)"
   ]
  },
  {
   "cell_type": "markdown",
   "metadata": {
    "id": "zkXxz9Npkx5I"
   },
   "source": [
    "Visualise the original image, and two warped image by MONAi and python itk."
   ]
  },
  {
   "cell_type": "code",
   "execution_count": 12,
   "metadata": {
    "colab": {
     "base_uri": "https://localhost:8080/",
     "height": 262
    },
    "id": "wejUgHcKlAaV",
    "outputId": "6eda58a7-e046-4104-b33f-c618c7bf38a8"
   },
   "outputs": [
    {
     "data": {
      "image/png": "[encoded data removed]",
      "text/plain": [
       "<Figure size 432x288 with 9 Axes>"
      ]
     },
     "metadata": {
      "needs_background": "light"
     },
     "output_type": "display_data"
    }
   ],
   "source": [
    "fig, ax = plt.subplots(3, 3)\n",
    "for i, (row, d) in enumerate(zip(ax, [5, 10, 15])):\n",
    "    row[0].imshow(img[d])\n",
    "    row[0].axis('off')\n",
    "    row[1].imshow(monai_warped_img[d])\n",
    "    row[1].axis('off')\n",
    "    row[2].imshow(itk_warped_img[d])\n",
    "    row[2].axis('off')\n",
    "\n",
    "    if i == 0:\n",
    "        row[0].set_title(\"original img\")\n",
    "        row[1].set_title(\"MONAI\")\n",
    "        row[2].set_title(\"python itk\")\n",
    "plt.show()"
   ]
  },
  {
   "cell_type": "markdown",
   "metadata": {
    "id": "5XCQkuAjnMl3"
   },
   "source": [
    "Quantitatively calcaluate the mean relative difference between results obtained by MONAI and python itk. As could be shown, the mean relative difference is below 1%."
   ]
  },
  {
   "cell_type": "code",
   "execution_count": 13,
   "metadata": {
    "colab": {
     "base_uri": "https://localhost:8080/"
    },
    "id": "lv-k4iIinY22",
    "outputId": "ec702d2c-a897-40de-e878-c7f348a5b335"
   },
   "outputs": [
    {
     "data": {
      "text/plain": [
       "0.0054110507"
      ]
     },
     "execution_count": 13,
     "metadata": {},
     "output_type": "execute_result"
    }
   ],
   "source": [
    "np.mean(\n",
    "    np.divide(\n",
    "        itk_warped_img - monai_warped_img,\n",
    "        itk_warped_img,\n",
    "        out=np.zeros_like(itk_warped_img),\n",
    "        where=itk_warped_img != 0\n",
    "    )\n",
    ")"
   ]
  },
  {
   "cell_type": "markdown",
   "metadata": {},
   "source": [
    "## Cleanup data directory\n",
    "\n",
    "Remove directory if a temporary was used."
   ]
  },
  {
   "cell_type": "code",
   "execution_count": null,
   "metadata": {},
   "outputs": [],
   "source": [
    "if directory is None:\n",
    "    shutil.rmtree(root_dir)"
   ]
  }
 ],
 "metadata": {
  "accelerator": "GPU",
  "colab": {
   "collapsed_sections": [],
   "name": "resample_benchmark.ipynb",
   "provenance": []
  },
  "kernelspec": {
   "display_name": "Python 3 (ipykernel)",
   "language": "python",
   "name": "python3"
  },
  "language_info": {
   "codemirror_mode": {
    "name": "ipython",
    "version": 3
   },
   "file_extension": ".py",
   "mimetype": "text/x-python",
   "name": "python",
   "nbconvert_exporter": "python",
   "pygments_lexer": "ipython3",
   "version": "3.8.13"
  },
  "widgets": {
   "application/vnd.jupyter.widget-state+json": {
    "10e5d4713baa4dd3b8f58cfcd18b971c": {
     "model_module": "@jupyter-widgets/controls",
     "model_module_version": "1.5.0",
     "model_name": "FloatSliderModel",
     "state": {
      "_dom_classes": [],
      "_model_module": "@jupyter-widgets/controls",
      "_model_module_version": "1.5.0",
      "_model_name": "FloatSliderModel",
      "_view_count": null,
      "_view_module": "@jupyter-widgets/controls",
      "_view_module_version": "1.5.0",
      "_view_name": "FloatSliderView",
      "continuous_update": true,
      "description": "theta",
      "description_tooltip": null,
      "disabled": false,
      "layout": "IPY_MODEL_fa8903a933fa4f008bb6763722e2495e",
      "max": 0.7853981633974483,
      "min": -0.7853981633974483,
      "orientation": "horizontal",
      "readout": true,
      "readout_format": ".2f",
      "step": 0.1,
      "style": "IPY_MODEL_c1c76abad1d34b1096e247bf188071a1",
      "value": 0
     }
    },
    "291999af27ae4e5a8aada974e0dc605a": {
     "model_module": "@jupyter-widgets/controls",
     "model_module_version": "1.5.0",
     "model_name": "FloatSliderModel",
     "state": {
      "_dom_classes": [],
      "_model_module": "@jupyter-widgets/controls",
      "_model_module_version": "1.5.0",
      "_model_name": "FloatSliderModel",
      "_view_count": null,
      "_view_module": "@jupyter-widgets/controls",
      "_view_module_version": "1.5.0",
      "_view_name": "FloatSliderView",
      "continuous_update": true,
      "description": "ty",
      "description_tooltip": null,
      "disabled": false,
      "layout": "IPY_MODEL_61a47116c6dd44c1969e46f7f1d408ba",
      "max": 64,
      "min": -64,
      "orientation": "horizontal",
      "readout": true,
      "readout_format": ".2f",
      "step": 0.1,
      "style": "IPY_MODEL_f9156448839f48e3aaf167e33d24c95d",
      "value": 0
     }
    },
    "2b5217c4003947588fa662db2d13f807": {
     "model_module": "@jupyter-widgets/controls",
     "model_module_version": "1.5.0",
     "model_name": "SliderStyleModel",
     "state": {
      "_model_module": "@jupyter-widgets/controls",
      "_model_module_version": "1.5.0",
      "_model_name": "SliderStyleModel",
      "_view_count": null,
      "_view_module": "@jupyter-widgets/base",
      "_view_module_version": "1.2.0",
      "_view_name": "StyleView",
      "description_width": "",
      "handle_color": null
     }
    },
    "4c3e2963911e4ba497343c95b9bc502c": {
     "model_module": "@jupyter-widgets/controls",
     "model_module_version": "1.5.0",
     "model_name": "VBoxModel",
     "state": {
      "_dom_classes": [
       "widget-interact"
      ],
      "_model_module": "@jupyter-widgets/controls",
      "_model_module_version": "1.5.0",
      "_model_name": "VBoxModel",
      "_view_count": null,
      "_view_module": "@jupyter-widgets/controls",
      "_view_module_version": "1.5.0",
      "_view_name": "VBoxView",
      "box_style": "",
      "children": [
       "IPY_MODEL_e5300246d2a743e9aeb84d520679324a",
       "IPY_MODEL_291999af27ae4e5a8aada974e0dc605a",
       "IPY_MODEL_10e5d4713baa4dd3b8f58cfcd18b971c",
       "IPY_MODEL_7e7c48ed7ee844be97daa24b0d7be188"
      ],
      "layout": "IPY_MODEL_9b392b4722f6466586d1cee4d57e56d1"
     }
    },
    "61a47116c6dd44c1969e46f7f1d408ba": {
     "model_module": "@jupyter-widgets/base",
     "model_module_version": "1.2.0",
     "model_name": "LayoutModel",
     "state": {
      "_model_module": "@jupyter-widgets/base",
      "_model_module_version": "1.2.0",
      "_model_name": "LayoutModel",
      "_view_count": null,
      "_view_module": "@jupyter-widgets/base",
      "_view_module_version": "1.2.0",
      "_view_name": "LayoutView",
      "align_content": null,
      "align_items": null,
      "align_self": null,
      "border": null,
      "bottom": null,
      "display": null,
      "flex": null,
      "flex_flow": null,
      "grid_area": null,
      "grid_auto_columns": null,
      "grid_auto_flow": null,
      "grid_auto_rows": null,
      "grid_column": null,
      "grid_gap": null,
      "grid_row": null,
      "grid_template_areas": null,
      "grid_template_columns": null,
      "grid_template_rows": null,
      "height": null,
      "justify_content": null,
      "justify_items": null,
      "left": null,
      "margin": null,
      "max_height": null,
      "max_width": null,
      "min_height": null,
      "min_width": null,
      "object_fit": null,
      "object_position": null,
      "order": null,
      "overflow": null,
      "overflow_x": null,
      "overflow_y": null,
      "padding": null,
      "right": null,
      "top": null,
      "visibility": null,
      "width": null
     }
    },
    "7e7c48ed7ee844be97daa24b0d7be188": {
     "model_module": "@jupyter-widgets/output",
     "model_module_version": "1.0.0",
     "model_name": "OutputModel",
     "state": {
      "_dom_classes": [],
      "_model_module": "@jupyter-widgets/output",
      "_model_module_version": "1.0.0",
      "_model_name": "OutputModel",
      "_view_count": null,
      "_view_module": "@jupyter-widgets/output",
      "_view_module_version": "1.0.0",
      "_view_name": "OutputView",
      "layout": "IPY_MODEL_a58b5a80efef45be8ffe50b030129745",
      "msg_id": "",
      "outputs": [
       {
        "name": "stderr",
        "output_type": "stream",
        "text": [
         "torch.meshgrid: in an upcoming release, it will be required to pass the indexing argument. (Triggered internally at  ../aten/src/ATen/native/TensorShape.cpp:2157.)\n"
        ]
       },
       {
        "data": {
         "image/png": "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\n",
         "text/plain": "<Figure size 432x288 with 2 Axes>"
        },
        "metadata": {
         "needs_background": "light"
        },
        "output_type": "display_data"
       }
      ]
     }
    },
    "9b392b4722f6466586d1cee4d57e56d1": {
     "model_module": "@jupyter-widgets/base",
     "model_module_version": "1.2.0",
     "model_name": "LayoutModel",
     "state": {
      "_model_module": "@jupyter-widgets/base",
      "_model_module_version": "1.2.0",
      "_model_name": "LayoutModel",
      "_view_count": null,
      "_view_module": "@jupyter-widgets/base",
      "_view_module_version": "1.2.0",
      "_view_name": "LayoutView",
      "align_content": null,
      "align_items": null,
      "align_self": null,
      "border": null,
      "bottom": null,
      "display": null,
      "flex": null,
      "flex_flow": null,
      "grid_area": null,
      "grid_auto_columns": null,
      "grid_auto_flow": null,
      "grid_auto_rows": null,
      "grid_column": null,
      "grid_gap": null,
      "grid_row": null,
      "grid_template_areas": null,
      "grid_template_columns": null,
      "grid_template_rows": null,
      "height": null,
      "justify_content": null,
      "justify_items": null,
      "left": null,
      "margin": null,
      "max_height": null,
      "max_width": null,
      "min_height": null,
      "min_width": null,
      "object_fit": null,
      "object_position": null,
      "order": null,
      "overflow": null,
      "overflow_x": null,
      "overflow_y": null,
      "padding": null,
      "right": null,
      "top": null,
      "visibility": null,
      "width": null
     }
    },
    "a58b5a80efef45be8ffe50b030129745": {
     "model_module": "@jupyter-widgets/base",
     "model_module_version": "1.2.0",
     "model_name": "LayoutModel",
     "state": {
      "_model_module": "@jupyter-widgets/base",
      "_model_module_version": "1.2.0",
      "_model_name": "LayoutModel",
      "_view_count": null,
      "_view_module": "@jupyter-widgets/base",
      "_view_module_version": "1.2.0",
      "_view_name": "LayoutView",
      "align_content": null,
      "align_items": null,
      "align_self": null,
      "border": null,
      "bottom": null,
      "display": null,
      "flex": null,
      "flex_flow": null,
      "grid_area": null,
      "grid_auto_columns": null,
      "grid_auto_flow": null,
      "grid_auto_rows": null,
      "grid_column": null,
      "grid_gap": null,
      "grid_row": null,
      "grid_template_areas": null,
      "grid_template_columns": null,
      "grid_template_rows": null,
      "height": null,
      "justify_content": null,
      "justify_items": null,
      "left": null,
      "margin": null,
      "max_height": null,
      "max_width": null,
      "min_height": null,
      "min_width": null,
      "object_fit": null,
      "object_position": null,
      "order": null,
      "overflow": null,
      "overflow_x": null,
      "overflow_y": null,
      "padding": null,
      "right": null,
      "top": null,
      "visibility": null,
      "width": null
     }
    },
    "c1c76abad1d34b1096e247bf188071a1": {
     "model_module": "@jupyter-widgets/controls",
     "model_module_version": "1.5.0",
     "model_name": "SliderStyleModel",
     "state": {
      "_model_module": "@jupyter-widgets/controls",
      "_model_module_version": "1.5.0",
      "_model_name": "SliderStyleModel",
      "_view_count": null,
      "_view_module": "@jupyter-widgets/base",
      "_view_module_version": "1.2.0",
      "_view_name": "StyleView",
      "description_width": "",
      "handle_color": null
     }
    },
    "e5300246d2a743e9aeb84d520679324a": {
     "model_module": "@jupyter-widgets/controls",
     "model_module_version": "1.5.0",
     "model_name": "FloatSliderModel",
     "state": {
      "_dom_classes": [],
      "_model_module": "@jupyter-widgets/controls",
      "_model_module_version": "1.5.0",
      "_model_name": "FloatSliderModel",
      "_view_count": null,
      "_view_module": "@jupyter-widgets/controls",
      "_view_module_version": "1.5.0",
      "_view_name": "FloatSliderView",
      "continuous_update": true,
      "description": "tx",
      "description_tooltip": null,
      "disabled": false,
      "layout": "IPY_MODEL_f529639e648f4973ad4a18d0f78f2ad5",
      "max": 128,
      "min": -128,
      "orientation": "horizontal",
      "readout": true,
      "readout_format": ".2f",
      "step": 2,
      "style": "IPY_MODEL_2b5217c4003947588fa662db2d13f807",
      "value": 0
     }
    },
    "f529639e648f4973ad4a18d0f78f2ad5": {
     "model_module": "@jupyter-widgets/base",
     "model_module_version": "1.2.0",
     "model_name": "LayoutModel",
     "state": {
      "_model_module": "@jupyter-widgets/base",
      "_model_module_version": "1.2.0",
      "_model_name": "LayoutModel",
      "_view_count": null,
      "_view_module": "@jupyter-widgets/base",
      "_view_module_version": "1.2.0",
      "_view_name": "LayoutView",
      "align_content": null,
      "align_items": null,
      "align_self": null,
      "border": null,
      "bottom": null,
      "display": null,
      "flex": null,
      "flex_flow": null,
      "grid_area": null,
      "grid_auto_columns": null,
      "grid_auto_flow": null,
      "grid_auto_rows": null,
      "grid_column": null,
      "grid_gap": null,
      "grid_row": null,
      "grid_template_areas": null,
      "grid_template_columns": null,
      "grid_template_rows": null,
      "height": null,
      "justify_content": null,
      "justify_items": null,
      "left": null,
      "margin": null,
      "max_height": null,
      "max_width": null,
      "min_height": null,
      "min_width": null,
      "object_fit": null,
      "object_position": null,
      "order": null,
      "overflow": null,
      "overflow_x": null,
      "overflow_y": null,
      "padding": null,
      "right": null,
      "top": null,
      "visibility": null,
      "width": null
     }
    },
    "f9156448839f48e3aaf167e33d24c95d": {
     "model_module": "@jupyter-widgets/controls",
     "model_module_version": "1.5.0",
     "model_name": "SliderStyleModel",
     "state": {
      "_model_module": "@jupyter-widgets/controls",
      "_model_module_version": "1.5.0",
      "_model_name": "SliderStyleModel",
      "_view_count": null,
      "_view_module": "@jupyter-widgets/base",
      "_view_module_version": "1.2.0",
      "_view_name": "StyleView",
      "description_width": "",
      "handle_color": null
     }
    },
    "fa8903a933fa4f008bb6763722e2495e": {
     "model_module": "@jupyter-widgets/base",
     "model_module_version": "1.2.0",
     "model_name": "LayoutModel",
     "state": {
      "_model_module": "@jupyter-widgets/base",
      "_model_module_version": "1.2.0",
      "_model_name": "LayoutModel",
      "_view_count": null,
      "_view_module": "@jupyter-widgets/base",
      "_view_module_version": "1.2.0",
      "_view_name": "LayoutView",
      "align_content": null,
      "align_items": null,
      "align_self": null,
      "border": null,
      "bottom": null,
      "display": null,
      "flex": null,
      "flex_flow": null,
      "grid_area": null,
      "grid_auto_columns": null,
      "grid_auto_flow": null,
      "grid_auto_rows": null,
      "grid_column": null,
      "grid_gap": null,
      "grid_row": null,
      "grid_template_areas": null,
      "grid_template_columns": null,
      "grid_template_rows": null,
      "height": null,
      "justify_content": null,
      "justify_items": null,
      "left": null,
      "margin": null,
      "max_height": null,
      "max_width": null,
      "min_height": null,
      "min_width": null,
      "object_fit": null,
      "object_position": null,
      "order": null,
      "overflow": null,
      "overflow_x": null,
      "overflow_y": null,
      "padding": null,
      "right": null,
      "top": null,
      "visibility": null,
      "width": null
     }
    }
   }
  }
 },
 "nbformat": 4,
 "nbformat_minor": 1
}
